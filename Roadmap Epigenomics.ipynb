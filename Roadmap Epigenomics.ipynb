{
    "cells": [
        {
            "cell_type": "markdown",
            "metadata": {},
            "source": [
                "# Roadmap Epigenomics (Cell and Tissue Expression)"
            ]
        },
        {
            "cell_type": "markdown",
            "metadata": {},
            "source": [
                "Created by: Charles Dai <br>\n",
                "Credit to: Moshe Silverstein\n",
                "\n",
                "Data Source: http://www.roadmapepigenomics.org/ <br>\n",
                "Data Source Download: https://egg2.wustl.edu/roadmap/web_portal/processed_data.html#RNAseq_uni_proc"
            ]
        },
        {
            "cell_type": "code",
            "execution_count": 1,
            "metadata": {},
            "outputs": [],
            "source": [
                "# appyter init\n",
                "from appyter import magic\n",
                "magic.init(lambda _=globals: _())"
            ]
        },
        {
            "cell_type": "code",
            "execution_count": 2,
            "metadata": {},
            "outputs": [],
            "source": [
                "import sys\n",
                "import os\n",
                "from datetime import date\n",
                "\n",
                "import numpy as np\n",
                "import pandas as pd\n",
                "import matplotlib.pyplot as plt\n",
                "%matplotlib inline\n",
                "\n",
                "import harmonizome.utility_functions as uf\n",
                "import harmonizome.lookup as lookup"
            ]
        },
        {
            "cell_type": "code",
            "execution_count": 3,
            "metadata": {},
            "outputs": [],
            "source": [
                "# from clustergrammer_widget import *\n",
                "# net = Network(clustergrammer_widget)"
            ]
        },
        {
            "cell_type": "code",
            "execution_count": 4,
            "metadata": {},
            "outputs": [],
            "source": [
                "%load_ext autoreload\n",
                "%autoreload 2"
            ]
        },
        {
            "cell_type": "markdown",
            "metadata": {},
            "source": [
                "### Notebook Information"
            ]
        },
        {
            "cell_type": "code",
            "execution_count": 5,
            "metadata": {
                "tags": []
            },
            "outputs": [
                {
                    "output_type": "stream",
                    "name": "stdout",
                    "text": "This notebook was run on: 2020-06-29 \\nPython version: 3.8.0 (default, Oct 28 2019, 16:14:01) \n[GCC 8.3.0]\nThis notebook was run on: 2020-06-29 \nPython version: None\n"
                }
            ],
            "source": [
                "print('This notebook was run on:', date.today(), '\\nPython version:', print('This notebook was run on:', date.today(), '\\\\nPython version:', sys.version))"
            ]
        },
        {
            "cell_type": "markdown",
            "metadata": {},
            "source": [
                "# Initialization"
            ]
        },
        {
            "cell_type": "markdown",
            "metadata": {},
            "source": [
                "### Load Mapping Dictionaries"
            ]
        },
        {
            "cell_type": "code",
            "execution_count": 6,
            "metadata": {
                "tags": []
            },
            "outputs": [
                {
                    "output_type": "stream",
                    "name": "stderr",
                    "text": "Gathering sources: 100%|██████████| 3/3 [00:09<00:00,  3.24s/it]\n"
                }
            ],
            "source": [
                "symbol_lookup, geneid_lookup = lookup.get_lookups()"
            ]
        },
        {
            "cell_type": "markdown",
            "metadata": {},
            "source": [
                "### Output Path"
            ]
        },
        {
            "cell_type": "code",
            "execution_count": 7,
            "metadata": {},
            "outputs": [],
            "source": [
                "output_name = 'roadmap_epi'\n",
                "\n",
                "path = 'Output/Roadmap-Epi'\n",
                "if not os.path.exists(path):\n",
                "    os.makedirs(path)"
            ]
        },
        {
            "cell_type": "code",
            "execution_count": 8,
            "metadata": {},
            "outputs": [],
            "source": [
                "%%appyter hide_code\n",
                "{% do SectionField(\n",
                "    name='data',\n",
                "    title='Load Data',\n",
                "    subtitle='Upload Files from the Roadmap Epigenomics RNA-Seq Dataset',\n",
                ") %}"
            ]
        },
        {
            "cell_type": "markdown",
            "metadata": {},
            "source": [
                "# Load Data"
            ]
        },
        {
            "cell_type": "code",
            "execution_count": 9,
            "metadata": {},
            "outputs": [
                {
                    "output_type": "display_data",
                    "data": {
                        "text/plain": "<IPython.core.display.Markdown object>",
                        "text/markdown": "```python\n# This has to be done to fix a formatting issue in the input file\nmatrix = pd.read_csv('Input/Roadmap-Epi/57epigenomes.N.pc.gz', sep='\\t', index_col=False).set_index('gene_id')\n```"
                    },
                    "metadata": {}
                }
            ],
            "source": [
                "%%appyter code_exec\n",
                "\n",
                "# This has to be done to fix a formatting issue in the input file\n",
                "matrix = pd.read_csv({{FileField(\n",
                "    constraint='.*\\.gz$',\n",
                "    name='read_counts', \n",
                "    label='RNA-Seq Read Counts (N.pc.gz)', \n",
                "    default='Input/Roadmap-Epi/57epigenomes.N.pc.gz',\n",
                "    section='data')\n",
                "}}, sep='\\t', index_col=False).set_index('gene_id')"
            ]
        },
        {
            "cell_type": "code",
            "execution_count": 10,
            "metadata": {},
            "outputs": [
                {
                    "output_type": "execute_result",
                    "data": {
                        "text/plain": "0000000457   579   1687   1797   6783   2270   2992   1462   4987   1081   \nENSG00000000460  2157   7170   9927   9384   1143   7155   3670   9384   2669   \n\n                 E016  ...   E114   E116   E117   E118  E119   E120   E122  \\\ngene_id                ...                                                   \nENSG00000000003  8538  ...  24856     18  29162  30577  4700   9693  24191   \nENSG00000000005   165  ...      0      0      0      0     0      8      0   \nENSG00000000419  4039  ...  13894  15073  29788  15626  7011  18256   3747   \nENSG00000000457   822  ...   4092   6717   7807   2096  1308   2677   1826   \nENSG00000000460  3117  ...  11207  13770  37145   4418  4046   3817   4855   \n\n                  E123   E127   E128  \ngene_id                               \nENSG00000000003    153  16160  15225  \nENSG00000000005      2      0      0  \nENSG00000000419  17156  27026  22065  \nENSG00000000457   5670   7557   4630  \nENSG00000000460  27078   8274   5134  \n\n[5 rows x 57 columns]",
                        "text/html": "<div>\n<style scoped>\n    .dataframe tbody tr th:only-of-type {\n        vertical-align: middle;\n    }\n\n    .dataframe tbody tr th {\n        vertical-align: top;\n    }\n\n    .dataframe thead th {\n        text-align: right;\n    }\n</style>\n<table border=\"1\" class=\"dataframe\">\n  <thead>\n    <tr style=\"text-align: right;\">\n      <th></th>\n      <th>E000</th>\n      <th>E003</th>\n      <th>E004</th>\n      <th>E005</th>\n      <th>E006</th>\n      <th>E007</th>\n      <th>E011</th>\n      <th>E012</th>\n      <th>E013</th>\n      <th>E016</th>\n      <th>...</th>\n      <th>E114</th>\n      <th>E116</th>\n      <th>E117</th>\n      <th>E118</th>\n      <th>E119</th>\n      <th>E120</th>\n      <th>E122</th>\n      <th>E123</th>\n      <th>E127</th>\n      <th>E128</th>\n    </tr>\n    <tr>\n      <th>gene_id</th>\n      <th></th>\n      <th></th>\n      <th></th>\n      <th></th>\n      <th></th>\n      <th></th>\n      <th></th>\n      <th></th>\n      <th></th>\n      <th></th>\n      <th></th>\n      <th></th>\n      <th></th>\n      <th></th>\n      <th></th>\n      <th></th>\n      <th></th>\n      <th></th>\n      <th></th>\n      <th></th>\n      <th></th>\n    </tr>\n  </thead>\n  <tbody>\n    <tr>\n      <th>ENSG00000000003</th>\n      <td>3211</td>\n      <td>22232</td>\n      <td>22128</td>\n      <td>17579</td>\n      <td>14068</td>\n      <td>34738</td>\n      <td>15280</td>\n      <td>55040</td>\n      <td>12300</td>\n      <td>8538</td>\n      <td>...</td>\n      <td>24856</td>\n      <td>18</td>\n      <td>29162</td>\n      <td>30577</td>\n      <td>4700</td>\n      <td>9693</td>\n      <td>24191</td>\n      <td>153</td>\n      <td>16160</td>\n      <td>15225</td>\n    </tr>\n    <tr>\n      <th>ENSG00000000005</th>\n      <td>65</td>\n      <td>448</td>\n      <td>2085</td>\n      <td>0</td>\n      <td>55</td>\n      <td>1</td>\n      <td>18</td>\n      <td>36</td>\n      <td>6</td>\n      <td>165</td>\n      <td>...</td>\n      <td>0</td>\n      <td>0</td>\n      <td>0</td>\n      <td>0</td>\n      <td>0</td>\n      <td>8</td>\n      <td>0</td>\n      <td>2</td>\n      <td>0</td>\n      <td>0</td>\n    </tr>\n    <tr>\n      <th>ENSG00000000419</th>\n      <td>3099</td>\n      <td>7220</td>\n      <td>14016</td>\n      <td>11705</td>\n      <td>9808</td>\n      <td>11660</td>\n      <td>5277</td>\n      <td>12636</td>\n      <td>3425</td>\n      <td>4039</td>\n      <td>...</td>\n      <td>13894</td>\n      <td>15073</td>\n      <td>29788</td>\n      <td>15626</td>\n      <td>7011</td>\n      <td>18256</td>\n      <td>3747</td>\n      <td>17156</td>\n      <td>27026</td>\n      <td>22065</td>\n    </tr>\n    <tr>\n      <th>ENSG00000000457</th>\n      <td>579</td>\n      <td>1687</td>\n      <td>1797</td>\n      <td>6783</td>\n      <td>2270</td>\n      <td>2992</td>\n      <td>1462</td>\n      <td>4987</td>\n      <td>1081</td>\n      <td>822</td>\n      <td>...</td>\n      <td>4092</td>\n      <td>6717</td>\n      <td>7807</td>\n      <td>2096</td>\n      <td>1308</td>\n      <td>2677</td>\n      <td>1826</td>\n      <td>5670</td>\n      <td>7557</td>\n      <td>4630</td>\n    </tr>\n    <tr>\n      <th>ENSG00000000460</th>\n      <td>2157</td>\n      <td>7170</td>\n      <td>9927</td>\n      <td>9384</td>\n      <td>1143</td>\n      <td>7155</td>\n      <td>3670</td>\n      <td>9384</td>\n      <td>2669</td>\n      <td>3117</td>\n      <td>...</td>\n      <td>11207</td>\n      <td>13770</td>\n      <td>37145</td>\n      <td>4418</td>\n      <td>4046</td>\n      <td>3817</td>\n      <td>4855</td>\n      <td>27078</td>\n      <td>8274</td>\n      <td>5134</td>\n    </tr>\n  </tbody>\n</table>\n<p>5 rows × 57 columns</p>\n</div>"
                    },
                    "metadata": {},
                    "execution_count": 10
                }
            ],
            "source": [
                "matrix.head()"
            ]
        },
        {
            "cell_type": "code",
            "execution_count": 11,
            "metadata": {},
            "outputs": [
                {
                    "output_type": "execute_result",
                    "data": {
                        "text/plain": "(19795, 57)"
                    },
                    "metadata": {},
                    "execution_count": 11
                }
            ],
            "source": [
                "matrix.shape"
            ]
        },
        {
            "cell_type": "markdown",
            "metadata": {},
            "source": [
                "## Load Sample Metadata"
            ]
        },
        {
            "cell_type": "code",
            "execution_count": 12,
            "metadata": {},
            "outputs": [
                {
                    "output_type": "display_data",
                    "data": {
                        "text/plain": "<IPython.core.display.Markdown object>",
                        "text/markdown": "```python\n\nsample_meta = pd.read_csv('Input/Roadmap-Epi/EG.name.txt', sep='\\t', index_col=0, header=None)\n```"
                    },
                    "metadata": {}
                }
            ],
            "source": [
                "%%appyter code_exec\n",
                "\n",
                "sample_meta = pd.read_csv({{FileField(\n",
                "    constraint='.*\\.txt$',\n",
                "    name='sample_metadata', \n",
                "    label='Epigenomes Annotations (txt)', \n",
                "    default='Input/Roadmap-Epi/EG.name.txt',\n",
                "    section='data')\n",
                "}}, sep='\\t', index_col=0, header=None)"
            ]
        },
        {
            "cell_type": "code",
            "execution_count": 13,
            "metadata": {},
            "outputs": [
                {
                    "output_type": "execute_result",
                    "data": {
                        "text/plain": "                                               1\n0                                               \nE000                   Universal_Human_Reference\nE003                                H1_Cell_Line\nE004  H1_BMP4_Derived_Mesendoderm_Cultured_Cells\nE005  H1_BMP4_Derived_Trophoblast_Cultured_Cells\nE006           H1_Derived_Mesenchymal_Stem_Cells",
                        "text/html": "<div>\n<style scoped>\n    .dataframe tbody tr th:only-of-type {\n        vertical-align: middle;\n    }\n\n    .dataframe tbody tr th {\n        vertical-align: top;\n    }\n\n    .dataframe thead th {\n        text-align: right;\n    }\n</style>\n<table border=\"1\" class=\"dataframe\">\n  <thead>\n    <tr style=\"text-align: right;\">\n      <th></th>\n      <th>1</th>\n    </tr>\n    <tr>\n      <th>0</th>\n      <th></th>\n    </tr>\n  </thead>\n  <tbody>\n    <tr>\n      <th>E000</th>\n      <td>Universal_Human_Reference</td>\n    </tr>\n    <tr>\n      <th>E003</th>\n      <td>H1_Cell_Line</td>\n    </tr>\n    <tr>\n      <th>E004</th>\n      <td>H1_BMP4_Derived_Mesendoderm_Cultured_Cells</td>\n    </tr>\n    <tr>\n      <th>E005</th>\n      <td>H1_BMP4_Derived_Trophoblast_Cultured_Cells</td>\n    </tr>\n    <tr>\n      <th>E006</th>\n      <td>H1_Derived_Mesenchymal_Stem_Cells</td>\n    </tr>\n  </tbody>\n</table>\n</div>"
                    },
                    "metadata": {},
                    "execution_count": 13
                }
            ],
            "source": [
                "sample_meta.head()"
            ]
        },
        {
            "cell_type": "code",
            "execution_count": 14,
            "metadata": {},
            "outputs": [
                {
                    "output_type": "execute_result",
                    "data": {
                        "text/plain": "(58, 1)"
                    },
                    "metadata": {},
                    "execution_count": 14
                }
            ],
            "source": [
                "sample_meta.shape"
            ]
        },
        {
            "cell_type": "markdown",
            "metadata": {},
            "source": [
                "## Load Gene Metadata"
            ]
        },
        {
            "cell_type": "code",
            "execution_count": 15,
            "metadata": {},
            "outputs": [
                {
                    "output_type": "display_data",
                    "data": {
                        "text/plain": "<IPython.core.display.Markdown object>",
                        "text/markdown": "```python\n\ngene_meta = pd.read_csv('Input/Roadmap-Epi/Ensembl_v65.Gencode_v10.ENSG.gene_info.txt', sep='\\t', index_col=0, header=None, usecols=[0, 6])\n```"
                    },
                    "metadata": {}
                }
            ],
            "source": [
                "%%appyter code_exec\n",
                "\n",
                "gene_meta = pd.read_csv({{FileField(\n",
                "    constraint='.*\\.txt$',\n",
                "    name='gene_metadata', \n",
                "    label='ENSEMBL Annotations (txt)', \n",
                "    default='Input/Roadmap-Epi/Ensembl_v65.Gencode_v10.ENSG.gene_info.txt',\n",
                "    section='data')\n",
                "}}, sep='\\t', index_col=0, header=None, usecols=[0, 6])"
            ]
        },
        {
            "cell_type": "code",
            "execution_count": 16,
            "metadata": {},
            "outputs": [
                {
                    "output_type": "execute_result",
                    "data": {
                        "text/plain": "                        6\n0                        \nENSG00000000003    TSPAN6\nENSG00000000005      TNMD\nENSG00000000419      DPM1\nENSG00000000457     SCYL3\nENSG00000000460  C1orf112",
                        "text/html": "<div>\n<style scoped>\n    .dataframe tbody tr th:only-of-type {\n        vertical-align: middle;\n    }\n\n    .dataframe tbody tr th {\n        vertical-align: top;\n    }\n\n    .dataframe thead th {\n        text-align: right;\n    }\n</style>\n<table border=\"1\" class=\"dataframe\">\n  <thead>\n    <tr style=\"text-align: right;\">\n      <th></th>\n      <th>6</th>\n    </tr>\n    <tr>\n      <th>0</th>\n      <th></th>\n    </tr>\n  </thead>\n  <tbody>\n    <tr>\n      <th>ENSG00000000003</th>\n      <td>TSPAN6</td>\n    </tr>\n    <tr>\n      <th>ENSG00000000005</th>\n      <td>TNMD</td>\n    </tr>\n    <tr>\n      <th>ENSG00000000419</th>\n      <td>DPM1</td>\n    </tr>\n    <tr>\n      <th>ENSG00000000457</th>\n      <td>SCYL3</td>\n    </tr>\n    <tr>\n      <th>ENSG00000000460</th>\n      <td>C1orf112</td>\n    </tr>\n  </tbody>\n</table>\n</div>"
                    },
                    "metadata": {},
                    "execution_count": 16
                }
            ],
            "source": [
                "gene_meta.head()"
            ]
        },
        {
            "cell_type": "code",
            "execution_count": 17,
            "metadata": {},
            "outputs": [
                {
                    "output_type": "execute_result",
                    "data": {
                        "text/plain": "(52475, 1)"
                    },
                    "metadata": {},
                    "execution_count": 17
                }
            ],
            "source": [
                "gene_meta.shape"
            ]
        },
        {
            "cell_type": "markdown",
            "metadata": {},
            "source": [
                "# Pre-process Data"
            ]
        },
        {
            "cell_type": "markdown",
            "metadata": {},
            "source": [
                "## Map Sample to Sample ID"
            ]
        },
        {
            "cell_type": "code",
            "execution_count": 18,
            "metadata": {},
            "outputs": [],
            "source": [
                "d1 = sample_meta.to_dict()[1]\n",
                "d2 = dict(zip(sample_meta.index, sample_meta[1]))"
            ]
        },
        {
            "cell_type": "code",
            "execution_count": 19,
            "metadata": {
                "tags": []
            },
            "outputs": [
                {
                    "output_type": "stream",
                    "name": "stdout",
                    "text": "key: nan\n"
                }
            ],
            "source": [
                "for k, v in d1.items():\n",
                "    if not k in d2 or d2[k] != v:\n",
                "        print('key:', k)"
            ]
        },
        {
            "cell_type": "code",
            "execution_count": 20,
            "metadata": {},
            "outputs": [
                {
                    "output_type": "execute_result",
                    "data": {
                        "text/plain": "                                    Psoas_Muscle\nE104                                       Right_Atrium\nE105                                    Right_Ventricle\nE106                                      Sigmoid_Colon\nE109                                    Small_Intestine\nE112                                             Thymus\nE113                                             Spleen\nE114                                               A549\nE116                                            GM12878\nE117                                               HELA\nE118                                              HEPG2\nE119                                               HMEC\nE120                                               HSMM\nE122                                              HUVEC\nE123                                               K562\nE127                                               NHEK\nE128                                               NHLF\nNaN                                                 NaN",
                        "text/html": "<div>\n<style scoped>\n    .dataframe tbody tr th:only-of-type {\n        vertical-align: middle;\n    }\n\n    .dataframe tbody tr th {\n        vertical-align: top;\n    }\n\n    .dataframe thead th {\n        text-align: right;\n    }\n</style>\n<table border=\"1\" class=\"dataframe\">\n  <thead>\n    <tr style=\"text-align: right;\">\n      <th></th>\n      <th>1</th>\n    </tr>\n  </thead>\n  <tbody>\n    <tr>\n      <th>E000</th>\n      <td>Universal_Human_Reference</td>\n    </tr>\n    <tr>\n      <th>E003</th>\n      <td>H1_Cell_Line</td>\n    </tr>\n    <tr>\n      <th>E004</th>\n      <td>H1_BMP4_Derived_Mesendoderm_Cultured_Cells</td>\n    </tr>\n    <tr>\n      <th>E005</th>\n      <td>H1_BMP4_Derived_Trophoblast_Cultured_Cells</td>\n    </tr>\n    <tr>\n      <th>E006</th>\n      <td>H1_Derived_Mesenchymal_Stem_Cells</td>\n    </tr>\n    <tr>\n      <th>E007</th>\n      <td>H1_Derived_Neuronal_Progenitor_Cultured_Cells</td>\n    </tr>\n    <tr>\n      <th>E011</th>\n      <td>hESC_Derived_CD184+_Endoderm_Cultured_Cells</td>\n    </tr>\n    <tr>\n      <th>E012</th>\n      <td>hESC_Derived_CD56+_Ectoderm_Cultured_Cells</td>\n    </tr>\n    <tr>\n      <th>E013</th>\n      <td>hESC_Derived_CD56+_Mesoderm_Cultured_Cells</td>\n    </tr>\n    <tr>\n      <th>E016</th>\n      <td>HUES64_Cell_Line</td>\n    </tr>\n    <tr>\n      <th>E024</th>\n      <td>4star</td>\n    </tr>\n    <tr>\n      <th>E027</th>\n      <td>Breast_Myoepithelial_Cells</td>\n    </tr>\n    <tr>\n      <th>E028</th>\n      <td>Breast_vHMEC</td>\n    </tr>\n    <tr>\n      <th>E037</th>\n      <td>CD4_Memory_Primary_Cells</td>\n    </tr>\n    <tr>\n      <th>E038</th>\n      <td>CD4_Naive_Primary_Cells</td>\n    </tr>\n    <tr>\n      <th>E047</th>\n      <td>CD8_Naive_Primary_Cells</td>\n    </tr>\n    <tr>\n      <th>E050</th>\n      <td>Mobilized_CD34_Primary_Cells_Female</td>\n    </tr>\n    <tr>\n      <th>E053</th>\n      <td>Neurosphere_Cultured_Cells_Cortex_Derived</td>\n    </tr>\n    <tr>\n      <th>E054</th>\n      <td>Neurosphere_Cultured_Cells_Ganglionic_Eminence...</td>\n    </tr>\n    <tr>\n      <th>E055</th>\n      <td>Penis_Foreskin_Fibroblast_Primary_Cells_skin01</td>\n    </tr>\n    <tr>\n      <th>E056</th>\n      <td>Penis_Foreskin_Fibroblast_Primary_Cells_skin02</td>\n    </tr>\n    <tr>\n      <th>E057</th>\n      <td>Penis_Foreskin_Keratinocyte_Primary_Cells_skin02</td>\n    </tr>\n    <tr>\n      <th>E058</th>\n      <td>Penis_Foreskin_Keratinocyte_Primary_Cells_skin03</td>\n    </tr>\n    <tr>\n      <th>E059</th>\n      <td>Penis_Foreskin_Melanocyte_Primary_Cells_skin01</td>\n    </tr>\n    <tr>\n      <th>E061</th>\n      <td>Penis_Foreskin_Melanocyte_Primary_Cells_skin03</td>\n    </tr>\n    <tr>\n      <th>E062</th>\n      <td>Peripheral_Blood_Mononuclear_Primary_Cells</td>\n    </tr>\n    <tr>\n      <th>E065</th>\n      <td>Aorta</td>\n    </tr>\n    <tr>\n      <th>E066</th>\n      <td>Adult_Liver</td>\n    </tr>\n    <tr>\n      <th>E070</th>\n      <td>Brain_Germinal_Matrix</td>\n    </tr>\n    <tr>\n      <th>E071</th>\n      <td>Brain_Hippocampus_Middle</td>\n    </tr>\n    <tr>\n      <th>E079</th>\n      <td>Esophagus</td>\n    </tr>\n    <tr>\n      <th>E082</th>\n      <td>Fetal_Brain_Female</td>\n    </tr>\n    <tr>\n      <th>E084</th>\n      <td>Fetal_Intestine_Large</td>\n    </tr>\n    <tr>\n      <th>E085</th>\n      <td>Fetal_Intestine_Small</td>\n    </tr>\n    <tr>\n      <th>E087</th>\n      <td>Pancreatic_Islets</td>\n    </tr>\n    <tr>\n      <th>E094</th>\n      <td>Gastric</td>\n    </tr>\n    <tr>\n      <th>E095</th>\n      <td>Left_Ventricle</td>\n    </tr>\n    <tr>\n      <th>E096</th>\n      <td>Lung</td>\n    </tr>\n    <tr>\n      <th>E097</th>\n      <td>Ovary</td>\n    </tr>\n    <tr>\n      <th>E098</th>\n      <td>Pancreas</td>\n    </tr>\n    <tr>\n      <th>E100</th>\n      <td>Psoas_Muscle</td>\n    </tr>\n    <tr>\n      <th>E104</th>\n      <td>Right_Atrium</td>\n    </tr>\n    <tr>\n      <th>E105</th>\n      <td>Right_Ventricle</td>\n    </tr>\n    <tr>\n      <th>E106</th>\n      <td>Sigmoid_Colon</td>\n    </tr>\n    <tr>\n      <th>E109</th>\n      <td>Small_Intestine</td>\n    </tr>\n    <tr>\n      <th>E112</th>\n      <td>Thymus</td>\n    </tr>\n    <tr>\n      <th>E113</th>\n      <td>Spleen</td>\n    </tr>\n    <tr>\n      <th>E114</th>\n      <td>A549</td>\n    </tr>\n    <tr>\n      <th>E116</th>\n      <td>GM12878</td>\n    </tr>\n    <tr>\n      <th>E117</th>\n      <td>HELA</td>\n    </tr>\n    <tr>\n      <th>E118</th>\n      <td>HEPG2</td>\n    </tr>\n    <tr>\n      <th>E119</th>\n      <td>HMEC</td>\n    </tr>\n    <tr>\n      <th>E120</th>\n      <td>HSMM</td>\n    </tr>\n    <tr>\n      <th>E122</th>\n      <td>HUVEC</td>\n    </tr>\n    <tr>\n      <th>E123</th>\n      <td>K562</td>\n    </tr>\n    <tr>\n      <th>E127</th>\n      <td>NHEK</td>\n    </tr>\n    <tr>\n      <th>E128</th>\n      <td>NHLF</td>\n    </tr>\n    <tr>\n      <th>NaN</th>\n      <td>NaN</td>\n    </tr>\n  </tbody>\n</table>\n</div>"
                    },
                    "metadata": {},
                    "execution_count": 20
                }
            ],
            "source": [
                "sample_meta = sample_meta.rename_axis(None)"
            ]
        },
        {
            "cell_type": "code",
            "execution_count": 21,
            "metadata": {},
            "outputs": [
                {
                    "output_type": "execute_result",
                    "data": {
                        "text/plain": ".               ...  ...    ...    ...    ...    ...   ...    ...    ...   \nENSG00000259718     0  ...      0      0      0      0     0      0      0   \nENSG00000259741  2087  ...  28194   5931   9254   5900  5988  26944   4785   \nENSG00000259752     0  ...      2      9      4      9     1      8      2   \nENSG00000259765     0  ...      0      0      0      0     0      0      0   \nENSG00000259766     0  ...      0      0      0      0     0      0      0   \n\n                  E123   E127   E128  \ngene_id                               \nENSG00000000003    153  16160  15225  \nENSG00000000005      2      0      0  \nENSG00000000419  17156  27026  22065  \nENSG00000000457   5670   7557   4630  \nENSG00000000460  27078   8274   5134  \n...                ...    ...    ...  \nENSG00000259718      0      0      0  \nENSG00000259741   2687  21319  31605  \nENSG00000259752      8     10      0  \nENSG00000259765      0      0      0  \nENSG00000259766      0      0      0  \n\n[19795 rows x 57 columns]",
                        "text/html": "<div>\n<style scoped>\n    .dataframe tbody tr th:only-of-type {\n        vertical-align: middle;\n    }\n\n    .dataframe tbody tr th {\n        vertical-align: top;\n    }\n\n    .dataframe thead th {\n        text-align: right;\n    }\n</style>\n<table border=\"1\" class=\"dataframe\">\n  <thead>\n    <tr style=\"text-align: right;\">\n      <th></th>\n      <th>E000</th>\n      <th>E003</th>\n      <th>E004</th>\n      <th>E005</th>\n      <th>E006</th>\n      <th>E007</th>\n      <th>E011</th>\n      <th>E012</th>\n      <th>E013</th>\n      <th>E016</th>\n      <th>...</th>\n      <th>E114</th>\n      <th>E116</th>\n      <th>E117</th>\n      <th>E118</th>\n      <th>E119</th>\n      <th>E120</th>\n      <th>E122</th>\n      <th>E123</th>\n      <th>E127</th>\n      <th>E128</th>\n    </tr>\n    <tr>\n      <th>gene_id</th>\n      <th></th>\n      <th></th>\n      <th></th>\n      <th></th>\n      <th></th>\n      <th></th>\n      <th></th>\n      <th></th>\n      <th></th>\n      <th></th>\n      <th></th>\n      <th></th>\n      <th></th>\n      <th></th>\n      <th></th>\n      <th></th>\n      <th></th>\n      <th></th>\n      <th></th>\n      <th></th>\n      <th></th>\n    </tr>\n  </thead>\n  <tbody>\n    <tr>\n      <th>ENSG00000000003</th>\n      <td>3211</td>\n      <td>22232</td>\n      <td>22128</td>\n      <td>17579</td>\n      <td>14068</td>\n      <td>34738</td>\n      <td>15280</td>\n      <td>55040</td>\n      <td>12300</td>\n      <td>8538</td>\n      <td>...</td>\n      <td>24856</td>\n      <td>18</td>\n      <td>29162</td>\n      <td>30577</td>\n      <td>4700</td>\n      <td>9693</td>\n      <td>24191</td>\n      <td>153</td>\n      <td>16160</td>\n      <td>15225</td>\n    </tr>\n    <tr>\n      <th>ENSG00000000005</th>\n      <td>65</td>\n      <td>448</td>\n      <td>2085</td>\n      <td>0</td>\n      <td>55</td>\n      <td>1</td>\n      <td>18</td>\n      <td>36</td>\n      <td>6</td>\n      <td>165</td>\n      <td>...</td>\n      <td>0</td>\n      <td>0</td>\n      <td>0</td>\n      <td>0</td>\n      <td>0</td>\n      <td>8</td>\n      <td>0</td>\n      <td>2</td>\n      <td>0</td>\n      <td>0</td>\n    </tr>\n    <tr>\n      <th>ENSG00000000419</th>\n      <td>3099</td>\n      <td>7220</td>\n      <td>14016</td>\n      <td>11705</td>\n      <td>9808</td>\n      <td>11660</td>\n      <td>5277</td>\n      <td>12636</td>\n      <td>3425</td>\n      <td>4039</td>\n      <td>...</td>\n      <td>13894</td>\n      <td>15073</td>\n      <td>29788</td>\n      <td>15626</td>\n      <td>7011</td>\n      <td>18256</td>\n      <td>3747</td>\n      <td>17156</td>\n      <td>27026</td>\n      <td>22065</td>\n    </tr>\n    <tr>\n      <th>ENSG00000000457</th>\n      <td>579</td>\n      <td>1687</td>\n      <td>1797</td>\n      <td>6783</td>\n      <td>2270</td>\n      <td>2992</td>\n      <td>1462</td>\n      <td>4987</td>\n      <td>1081</td>\n      <td>822</td>\n      <td>...</td>\n      <td>4092</td>\n      <td>6717</td>\n      <td>7807</td>\n      <td>2096</td>\n      <td>1308</td>\n      <td>2677</td>\n      <td>1826</td>\n      <td>5670</td>\n      <td>7557</td>\n      <td>4630</td>\n    </tr>\n    <tr>\n      <th>ENSG00000000460</th>\n      <td>2157</td>\n      <td>7170</td>\n      <td>9927</td>\n      <td>9384</td>\n      <td>1143</td>\n      <td>7155</td>\n      <td>3670</td>\n      <td>9384</td>\n      <td>2669</td>\n      <td>3117</td>\n      <td>...</td>\n      <td>11207</td>\n      <td>13770</td>\n      <td>37145</td>\n      <td>4418</td>\n      <td>4046</td>\n      <td>3817</td>\n      <td>4855</td>\n      <td>27078</td>\n      <td>8274</td>\n      <td>5134</td>\n    </tr>\n    <tr>\n      <th>...</th>\n      <td>...</td>\n      <td>...</td>\n      <td>...</td>\n      <td>...</td>\n      <td>...</td>\n      <td>...</td>\n      <td>...</td>\n      <td>...</td>\n      <td>...</td>\n      <td>...</td>\n      <td>...</td>\n      <td>...</td>\n      <td>...</td>\n      <td>...</td>\n      <td>...</td>\n      <td>...</td>\n      <td>...</td>\n      <td>...</td>\n      <td>...</td>\n      <td>...</td>\n      <td>...</td>\n    </tr>\n    <tr>\n      <th>ENSG00000259718</th>\n      <td>0</td>\n      <td>0</td>\n      <td>0</td>\n      <td>0</td>\n      <td>0</td>\n      <td>0</td>\n      <td>0</td>\n      <td>0</td>\n      <td>0</td>\n      <td>0</td>\n      <td>...</td>\n      <td>0</td>\n      <td>0</td>\n      <td>0</td>\n      <td>0</td>\n      <td>0</td>\n      <td>0</td>\n      <td>0</td>\n      <td>0</td>\n      <td>0</td>\n      <td>0</td>\n    </tr>\n    <tr>\n      <th>ENSG00000259741</th>\n      <td>1406</td>\n      <td>3073</td>\n      <td>7491</td>\n      <td>6572</td>\n      <td>9874</td>\n      <td>7807</td>\n      <td>3940</td>\n      <td>10956</td>\n      <td>2722</td>\n      <td>2087</td>\n      <td>...</td>\n      <td>28194</td>\n      <td>5931</td>\n      <td>9254</td>\n      <td>5900</td>\n      <td>5988</td>\n      <td>26944</td>\n      <td>4785</td>\n      <td>2687</td>\n      <td>21319</td>\n      <td>31605</td>\n    </tr>\n    <tr>\n      <th>ENSG00000259752</th>\n      <td>5</td>\n      <td>4</td>\n      <td>1</td>\n      <td>5</td>\n      <td>2</td>\n      <td>9</td>\n      <td>2</td>\n      <td>13</td>\n      <td>2</td>\n      <td>0</td>\n      <td>...</td>\n      <td>2</td>\n      <td>9</td>\n      <td>4</td>\n      <td>9</td>\n      <td>1</td>\n      <td>8</td>\n      <td>2</td>\n      <td>8</td>\n      <td>10</td>\n      <td>0</td>\n    </tr>\n    <tr>\n      <th>ENSG00000259765</th>\n      <td>0</td>\n      <td>0</td>\n      <td>0</td>\n      <td>0</td>\n      <td>0</td>\n      <td>0</td>\n      <td>0</td>\n      <td>0</td>\n      <td>0</td>\n      <td>0</td>\n      <td>...</td>\n      <td>0</td>\n      <td>0</td>\n      <td>0</td>\n      <td>0</td>\n      <td>0</td>\n      <td>0</td>\n      <td>0</td>\n      <td>0</td>\n      <td>0</td>\n      <td>0</td>\n    </tr>\n    <tr>\n      <th>ENSG00000259766</th>\n      <td>0</td>\n      <td>0</td>\n      <td>0</td>\n      <td>0</td>\n      <td>0</td>\n      <td>0</td>\n      <td>0</td>\n      <td>0</td>\n      <td>0</td>\n      <td>0</td>\n      <td>...</td>\n      <td>0</td>\n      <td>0</td>\n      <td>0</td>\n      <td>0</td>\n      <td>0</td>\n      <td>0</td>\n      <td>0</td>\n      <td>0</td>\n      <td>0</td>\n      <td>0</td>\n    </tr>\n  </tbody>\n</table>\n<p>19795 rows × 57 columns</p>\n</div>"
                    },
                    "metadata": {},
                    "execution_count": 21
                }
            ],
            "source": [
                "matrix.rename(columns=sample_meta.to_dict())"
            ]
        },
        {
            "cell_type": "markdown",
            "metadata": {},
            "source": [
                "## Map Gene to Gene ID"
            ]
        },
        {
            "cell_type": "code",
            "execution_count": 22,
            "metadata": {},
            "outputs": [
                {
                    "output_type": "execute_result",
                    "data": {
                        "text/plain": "0000000457   579   1687   1797   6783   2270   2992   1462   4987   1081   \nENSG00000000460  2157   7170   9927   9384   1143   7155   3670   9384   2669   \n\n                 E016  ...   E114   E116   E117   E118  E119   E120   E122  \\\nGene Symbol            ...                                                   \nENSG00000000003  8538  ...  24856     18  29162  30577  4700   9693  24191   \nENSG00000000005   165  ...      0      0      0      0     0      8      0   \nENSG00000000419  4039  ...  13894  15073  29788  15626  7011  18256   3747   \nENSG00000000457   822  ...   4092   6717   7807   2096  1308   2677   1826   \nENSG00000000460  3117  ...  11207  13770  37145   4418  4046   3817   4855   \n\n                  E123   E127   E128  \nGene Symbol                           \nENSG00000000003    153  16160  15225  \nENSG00000000005      2      0      0  \nENSG00000000419  17156  27026  22065  \nENSG00000000457   5670   7557   4630  \nENSG00000000460  27078   8274   5134  \n\n[5 rows x 57 columns]",
                        "text/html": "<div>\n<style scoped>\n    .dataframe tbody tr th:only-of-type {\n        vertical-align: middle;\n    }\n\n    .dataframe tbody tr th {\n        vertical-align: top;\n    }\n\n    .dataframe thead th {\n        text-align: right;\n    }\n</style>\n<table border=\"1\" class=\"dataframe\">\n  <thead>\n    <tr style=\"text-align: right;\">\n      <th></th>\n      <th>E000</th>\n      <th>E003</th>\n      <th>E004</th>\n      <th>E005</th>\n      <th>E006</th>\n      <th>E007</th>\n      <th>E011</th>\n      <th>E012</th>\n      <th>E013</th>\n      <th>E016</th>\n      <th>...</th>\n      <th>E114</th>\n      <th>E116</th>\n      <th>E117</th>\n      <th>E118</th>\n      <th>E119</th>\n      <th>E120</th>\n      <th>E122</th>\n      <th>E123</th>\n      <th>E127</th>\n      <th>E128</th>\n    </tr>\n    <tr>\n      <th>Gene Symbol</th>\n      <th></th>\n      <th></th>\n      <th></th>\n      <th></th>\n      <th></th>\n      <th></th>\n      <th></th>\n      <th></th>\n      <th></th>\n      <th></th>\n      <th></th>\n      <th></th>\n      <th></th>\n      <th></th>\n      <th></th>\n      <th></th>\n      <th></th>\n      <th></th>\n      <th></th>\n      <th></th>\n      <th></th>\n    </tr>\n  </thead>\n  <tbody>\n    <tr>\n      <th>ENSG00000000003</th>\n      <td>3211</td>\n      <td>22232</td>\n      <td>22128</td>\n      <td>17579</td>\n      <td>14068</td>\n      <td>34738</td>\n      <td>15280</td>\n      <td>55040</td>\n      <td>12300</td>\n      <td>8538</td>\n      <td>...</td>\n      <td>24856</td>\n      <td>18</td>\n      <td>29162</td>\n      <td>30577</td>\n      <td>4700</td>\n      <td>9693</td>\n      <td>24191</td>\n      <td>153</td>\n      <td>16160</td>\n      <td>15225</td>\n    </tr>\n    <tr>\n      <th>ENSG00000000005</th>\n      <td>65</td>\n      <td>448</td>\n      <td>2085</td>\n      <td>0</td>\n      <td>55</td>\n      <td>1</td>\n      <td>18</td>\n      <td>36</td>\n      <td>6</td>\n      <td>165</td>\n      <td>...</td>\n      <td>0</td>\n      <td>0</td>\n      <td>0</td>\n      <td>0</td>\n      <td>0</td>\n      <td>8</td>\n      <td>0</td>\n      <td>2</td>\n      <td>0</td>\n      <td>0</td>\n    </tr>\n    <tr>\n      <th>ENSG00000000419</th>\n      <td>3099</td>\n      <td>7220</td>\n      <td>14016</td>\n      <td>11705</td>\n      <td>9808</td>\n      <td>11660</td>\n      <td>5277</td>\n      <td>12636</td>\n      <td>3425</td>\n      <td>4039</td>\n      <td>...</td>\n      <td>13894</td>\n      <td>15073</td>\n      <td>29788</td>\n      <td>15626</td>\n      <td>7011</td>\n      <td>18256</td>\n      <td>3747</td>\n      <td>17156</td>\n      <td>27026</td>\n      <td>22065</td>\n    </tr>\n    <tr>\n      <th>ENSG00000000457</th>\n      <td>579</td>\n      <td>1687</td>\n      <td>1797</td>\n      <td>6783</td>\n      <td>2270</td>\n      <td>2992</td>\n      <td>1462</td>\n      <td>4987</td>\n      <td>1081</td>\n      <td>822</td>\n      <td>...</td>\n      <td>4092</td>\n      <td>6717</td>\n      <td>7807</td>\n      <td>2096</td>\n      <td>1308</td>\n      <td>2677</td>\n      <td>1826</td>\n      <td>5670</td>\n      <td>7557</td>\n      <td>4630</td>\n    </tr>\n    <tr>\n      <th>ENSG00000000460</th>\n      <td>2157</td>\n      <td>7170</td>\n      <td>9927</td>\n      <td>9384</td>\n      <td>1143</td>\n      <td>7155</td>\n      <td>3670</td>\n      <td>9384</td>\n      <td>2669</td>\n      <td>3117</td>\n      <td>...</td>\n      <td>11207</td>\n      <td>13770</td>\n      <td>37145</td>\n      <td>4418</td>\n      <td>4046</td>\n      <td>3817</td>\n      <td>4855</td>\n      <td>27078</td>\n      <td>8274</td>\n      <td>5134</td>\n    </tr>\n  </tbody>\n</table>\n<p>5 rows × 57 columns</p>\n</div>"
                    },
                    "metadata": {},
                    "execution_count": 22
                }
            ],
            "source": [
                "matrix.rename(index=dict(zip(gene_meta.index, gene_meta[6])))\n",
                "matrix.index.name = 'Gene Symbol'\n",
                "matrix.head()"
            ]
        },
        {
            "cell_type": "code",
            "execution_count": 23,
            "metadata": {},
            "outputs": [
                {
                    "output_type": "execute_result",
                    "data": {
                        "text/plain": "(19795, 57)"
                    },
                    "metadata": {},
                    "execution_count": 23
                }
            ],
            "source": [
                "matrix.shape"
            ]
        },
        {
            "cell_type": "markdown",
            "metadata": {},
            "source": [
                "## Save Unfiltered Matrix to file"
            ]
        },
        {
            "cell_type": "code",
            "execution_count": null,
            "metadata": {},
            "outputs": [],
            "source": [
                "uf.save_data(matrix, path, output_name + '_matrix_unfiltered',\n",
                "            compression='gzip', dtype=np.float32)"
            ]
        },
        {
            "cell_type": "markdown",
            "metadata": {},
            "source": [
                "# Filter Data"
            ]
        },
        {
            "cell_type": "markdown",
            "metadata": {},
            "source": [
                "## Map Gene Symbols to Up-to-date Approved Gene Symbols"
            ]
        },
        {
            "cell_type": "code",
            "execution_count": null,
            "metadata": {},
            "outputs": [],
            "source": [
                "matrix = uf.map_symbols(matrix, symbol_lookup)\n",
                "matrix.shape"
            ]
        },
        {
            "cell_type": "markdown",
            "metadata": {},
            "source": [
                "## Merge Duplicate Genes By Rows and Duplicate Columns"
            ]
        },
        {
            "cell_type": "code",
            "execution_count": null,
            "metadata": {},
            "outputs": [],
            "source": [
                "matrix = uf.merge(matrix, 'row')\n",
                "matrix = uf.merge(matrix, 'column')\n",
                "matrix.shape"
            ]
        },
        {
            "cell_type": "markdown",
            "metadata": {},
            "source": [
                "## Remove Data that is More Than 95% Missing and Impute Missing Data"
            ]
        },
        {
            "cell_type": "code",
            "execution_count": null,
            "metadata": {},
            "outputs": [],
            "source": [
                "matrix = uf.remove_impute(matrix)\n",
                "matrix.head()"
            ]
        },
        {
            "cell_type": "code",
            "execution_count": null,
            "metadata": {},
            "outputs": [],
            "source": [
                "matrix.shape"
            ]
        },
        {
            "cell_type": "markdown",
            "metadata": {},
            "source": [
                "## Log2 Transform"
            ]
        },
        {
            "cell_type": "code",
            "execution_count": null,
            "metadata": {},
            "outputs": [],
            "source": [
                "matrix = uf.log2(matrix)\n",
                "matrix.head()"
            ]
        },
        {
            "cell_type": "markdown",
            "metadata": {},
            "source": [
                "## Normalize Matrix (Quantile Normalize the Matrix by Column)"
            ]
        },
        {
            "cell_type": "code",
            "execution_count": null,
            "metadata": {},
            "outputs": [],
            "source": [
                "matrix = uf.quantile_normalize(matrix)\n",
                "matrix.head()"
            ]
        },
        {
            "cell_type": "markdown",
            "metadata": {},
            "source": [
                "## Normalize Matrix (Z-Score the Rows)"
            ]
        },
        {
            "cell_type": "code",
            "execution_count": null,
            "metadata": {},
            "outputs": [],
            "source": [
                "matrix = uf.zscore(matrix)\n",
                "matrix.head()"
            ]
        },
        {
            "cell_type": "markdown",
            "metadata": {},
            "source": [
                "## Histogram of First Sample"
            ]
        },
        {
            "cell_type": "code",
            "execution_count": null,
            "metadata": {},
            "outputs": [],
            "source": [
                "matrix.iloc[:, 0].hist(bins=100)"
            ]
        },
        {
            "cell_type": "markdown",
            "metadata": {},
            "source": [
                "## Histogram of First Gene"
            ]
        },
        {
            "cell_type": "code",
            "execution_count": null,
            "metadata": {},
            "outputs": [],
            "source": [
                "matrix.iloc[0, :].hist(bins=100)"
            ]
        },
        {
            "cell_type": "markdown",
            "metadata": {},
            "source": [
                "## Save Filtered Matrix"
            ]
        },
        {
            "cell_type": "code",
            "execution_count": null,
            "metadata": {},
            "outputs": [],
            "source": [
                "uf.save_data(matrix, path, output_name + '_matrix_filtered', \n",
                "            ext='tsv', compression='gzip')"
            ]
        },
        {
            "cell_type": "markdown",
            "metadata": {},
            "source": [
                "# Analyze Data"
            ]
        },
        {
            "cell_type": "markdown",
            "metadata": {},
            "source": [
                "## Create Gene List"
            ]
        },
        {
            "cell_type": "code",
            "execution_count": null,
            "metadata": {},
            "outputs": [],
            "source": [
                "gene_list = uf.gene_list(matrix, geneid_lookup)\n",
                "gene_list.head()"
            ]
        },
        {
            "cell_type": "code",
            "execution_count": null,
            "metadata": {},
            "outputs": [],
            "source": [
                "gene_list.shape"
            ]
        },
        {
            "cell_type": "code",
            "execution_count": null,
            "metadata": {},
            "outputs": [],
            "source": [
                "uf.save_data(gene_list, path, output_name + '_gene_list',\n",
                "            ext='tsv', compression='gzip', index=False)"
            ]
        },
        {
            "cell_type": "markdown",
            "metadata": {},
            "source": [
                "## Create Attribute List"
            ]
        },
        {
            "cell_type": "code",
            "execution_count": null,
            "metadata": {},
            "outputs": [],
            "source": [
                "attribute_list = uf.attribute_list(matrix)\n",
                "attribute_list.head()"
            ]
        },
        {
            "cell_type": "code",
            "execution_count": null,
            "metadata": {},
            "outputs": [],
            "source": [
                "attribute_list.shape"
            ]
        },
        {
            "cell_type": "code",
            "execution_count": null,
            "metadata": {},
            "outputs": [],
            "source": [
                "uf.save_data(attribute_list, path, output_name + '_attribute_list',\n",
                "            ext='tsv', compression='gzip')"
            ]
        },
        {
            "cell_type": "markdown",
            "metadata": {},
            "source": [
                "## Create matrix of Standardized values (values between -1, and 1)"
            ]
        },
        {
            "cell_type": "code",
            "execution_count": null,
            "metadata": {},
            "outputs": [],
            "source": [
                "standard_matrix = uf.standardized_matrix(matrix)\n",
                "standard_matrix.head()"
            ]
        },
        {
            "cell_type": "code",
            "execution_count": null,
            "metadata": {},
            "outputs": [],
            "source": [
                "uf.save_data(standard_matrix, path, output_name + '_standard_matrix',\n",
                "            ext='tsv', compression='gzip')"
            ]
        },
        {
            "cell_type": "markdown",
            "metadata": {},
            "source": [
                "## Plot of A Single Celltype, Normalized Value vs. Standardized Value"
            ]
        },
        {
            "cell_type": "code",
            "execution_count": null,
            "metadata": {},
            "outputs": [],
            "source": [
                "plt.plot(matrix[matrix.columns[0]],\n",
                "         standard_matrix[standard_matrix.columns[0]], 'bo')\n",
                "plt.xlabel('Normalized Values')\n",
                "plt.ylabel('Standardized Values')\n",
                "plt.title(standard_matrix.columns[0])\n",
                "plt.grid(True)"
            ]
        },
        {
            "cell_type": "markdown",
            "metadata": {},
            "source": [
                "## Create Ternary Matrix"
            ]
        },
        {
            "cell_type": "code",
            "execution_count": null,
            "metadata": {},
            "outputs": [],
            "source": [
                "ternary_matrix = uf.ternary_matrix(standard_matrix)\n",
                "ternary_matrix.head()"
            ]
        },
        {
            "cell_type": "code",
            "execution_count": null,
            "metadata": {},
            "outputs": [],
            "source": [
                "uf.save_data(ternary_matrix, path, output_name + '_ternary_matrix',\n",
                "            ext='tsv', compression='gzip')"
            ]
        },
        {
            "cell_type": "markdown",
            "metadata": {},
            "source": [
                "## Create Gene and Attribute Set Libraries"
            ]
        },
        {
            "cell_type": "code",
            "execution_count": null,
            "metadata": {},
            "outputs": [],
            "source": [
                "uf.save_setlib(ternary_matrix, 'gene', 'up', path, output_name + '_gene_up_set')"
            ]
        },
        {
            "cell_type": "code",
            "execution_count": null,
            "metadata": {},
            "outputs": [],
            "source": [
                "uf.save_setlib(ternary_matrix, 'gene', 'down', path, output_name + '_gene_down_set')"
            ]
        },
        {
            "cell_type": "code",
            "execution_count": null,
            "metadata": {},
            "outputs": [],
            "source": [
                "uf.save_setlib(ternary_matrix, 'attribute', 'up', path, \n",
                "                           output_name + '_attribute_up_set')"
            ]
        },
        {
            "cell_type": "code",
            "execution_count": null,
            "metadata": {},
            "outputs": [],
            "source": [
                "uf.save_setlib(ternary_matrix, 'attribute', 'down', path, \n",
                "                             output_name + '_attribute_down_set')"
            ]
        },
        {
            "cell_type": "markdown",
            "metadata": {},
            "source": [
                "## Create Attribute Similarity Matrix"
            ]
        },
        {
            "cell_type": "code",
            "execution_count": null,
            "metadata": {},
            "outputs": [],
            "source": [
                "attribute_similarity_matrix = uf.similarity_matrix(matrix.T, 'cosine')\n",
                "attribute_similarity_matrix.head()"
            ]
        },
        {
            "cell_type": "code",
            "execution_count": null,
            "metadata": {},
            "outputs": [],
            "source": [
                "uf.save_data(attribute_similarity_matrix, path,\n",
                "            output_name + '_attribute_similarity_matrix', \n",
                "            compression='npz', symmetric=True, dtype=np.float32)"
            ]
        },
        {
            "cell_type": "code",
            "execution_count": null,
            "metadata": {},
            "outputs": [],
            "source": [
                "# net.load_df(attribute_similarity_matrix.iloc[:,:].copy())\n",
                "# net.filter_N_top('row', rank_type='sum', N_top=300)\n",
                "# net.cluster()\n",
                "# net.widget()"
            ]
        },
        {
            "cell_type": "markdown",
            "metadata": {},
            "source": [
                "## Create Gene Similarity Matrix"
            ]
        },
        {
            "cell_type": "code",
            "execution_count": null,
            "metadata": {},
            "outputs": [],
            "source": [
                "gene_similarity_matrix = uf.similarity_matrix(matrix, 'cosine')\n",
                "gene_similarity_matrix.head()"
            ]
        },
        {
            "cell_type": "code",
            "execution_count": null,
            "metadata": {},
            "outputs": [],
            "source": [
                "uf.save_data(gene_similarity_matrix, path, \n",
                "            output_name + '_gene_similarity_matrix',\n",
                "            compression='npz', symmetric=True, dtype=np.float32)"
            ]
        },
        {
            "cell_type": "markdown",
            "metadata": {},
            "source": [
                "## Create Gene-Attribute Edge List"
            ]
        },
        {
            "cell_type": "code",
            "execution_count": null,
            "metadata": {},
            "outputs": [],
            "source": [
                "edge_list = uf.edge_list(standard_matrix)\n",
                "uf.save_data(edge_list, path, output_name + '_edge_list', \n",
                "        ext='tsv', compression='gzip')"
            ]
        },
        {
            "cell_type": "markdown",
            "metadata": {},
            "source": [
                "# Create Downloadable Save File"
            ]
        },
        {
            "cell_type": "code",
            "execution_count": null,
            "metadata": {},
            "outputs": [],
            "source": [
                "uf.archive(path)"
            ]
        },
        {
            "cell_type": "markdown",
            "metadata": {},
            "source": [
                "### Link to download output files: [click here](./output_archive.zip)"
            ]
        }
    ],
    "metadata": {
        "language_info": {
            "codemirror_mode": {
                "name": "ipython",
                "version": 3
            },
            "file_extension": ".py",
            "mimetype": "text/x-python",
            "name": "python",
            "nbconvert_exporter": "python",
            "pygments_lexer": "ipython3",
            "version": 3
        },
        "orig_nbformat": 2,
        "kernelspec": {
            "name": "python_defaultSpec_1593409779991",
            "display_name": "Python 3.8.0 64-bit ('harmonizome': venv)"
        }
    },
    "nbformat": 4,
    "nbformat_minor": 2
}