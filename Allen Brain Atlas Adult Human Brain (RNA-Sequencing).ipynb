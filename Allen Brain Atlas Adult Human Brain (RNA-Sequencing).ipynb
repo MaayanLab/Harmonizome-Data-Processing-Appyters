{
 "cells": [
  {
   "cell_type": "markdown",
   "metadata": {},
   "source": [
    "# Allen Brain Atlas Adult Human Brain (RNA-Sequencing)"
   ]
  },
  {
   "cell_type": "markdown",
   "metadata": {},
   "source": [
    "Author: Moshe Silverstein <br/>\n",
    "Date: 5-17 <br/>\n",
    "Data Source: http://human.brain-map.org/static/download"
   ]
  },
  {
   "cell_type": "code",
   "execution_count": null,
   "metadata": {},
   "outputs": [],
   "source": [
    "#%%appyter init\n",
    "from appyter import magic\n",
    "magic.init(lambda _ = globals: _())"
   ]
  },
  {
   "cell_type": "code",
   "execution_count": 3,
   "metadata": {},
   "outputs": [],
   "source": [
    "import sys, datetime\n",
    "import os\n",
    "\n",
    "data_path = 'data/00000000-0000-0000-0000-000000000000'\n",
    "if (os.path.isdir(data_path)):\n",
    "   os.chdir(data_path)\n",
    "\n",
    "import numpy as np\n",
    "import pandas as pd\n",
    "import importlib\n",
    "import utility_functions as uf\n",
    "import matplotlib.pyplot as plt\n",
    "%matplotlib inline"
   ]
  },
  {
   "cell_type": "code",
   "execution_count": 4,
   "metadata": {
    "collapsed": true
   },
   "outputs": [],
   "source": [
    "from clustergrammer_widget import *\n",
    "net = Network(clustergrammer_widget)"
   ]
  },
  {
   "cell_type": "code",
   "execution_count": 5,
   "metadata": {},
   "outputs": [
    {
     "output_type": "execute_result",
     "data": {
      "text/plain": "<module 'utility_functions' from '/home/charlesdai/Projects/Harmonizome-Data-Processing-Appyters/data/00000000-0000-0000-0000-000000000000/utility_functions.py'>"
     },
     "metadata": {},
     "execution_count": 5
    }
   ],
   "source": [
    "importlib.reload(uf)"
   ]
  },
  {
   "cell_type": "markdown",
   "metadata": {},
   "source": [
    "# Versions Of Modules In Use"
   ]
  },
  {
   "cell_type": "code",
   "execution_count": 6,
   "metadata": {},
   "outputs": [],
   "source": [
    "#%load_ext version_information\n",
    "#%version_information numpy, pandas, clustergrammer_widget "
   ]
  },
  {
   "cell_type": "markdown",
   "metadata": {},
   "source": [
    "# Functions"
   ]
  },
  {
   "cell_type": "code",
   "execution_count": 7,
   "metadata": {
    "collapsed": true
   },
   "outputs": [],
   "source": [
    "def mapSampleData(inputDF, sampleMetaDF, Ontology):\n",
    "    \n",
    "    lst = []\n",
    "\n",
    "    for index in sampleMetaDF.index:\n",
    "        structure = sampleMetaDF.loc[index, 'ontology_structure_id']\n",
    "        hemisphere = sampleMetaDF.loc[index, 'hemisphere']\n",
    "        if type(Ontology.loc[structure, 'name']) == str:\n",
    "            lst.append(str(Ontology.loc[structure, 'name']))\n",
    "        else:\n",
    "            for struc in Ontology.loc[structure, ['name', 'hemisphere']].values:\n",
    "                if struc[1] == hemisphere:\n",
    "                    lst.append(str(struc[0]))\n",
    "\n",
    "    inputDF.columns  = lst"
   ]
  },
  {
   "cell_type": "markdown",
   "metadata": {},
   "source": [
    "# Donor 9861"
   ]
  },
  {
   "cell_type": "markdown",
   "metadata": {},
   "source": [
    "# Load Data"
   ]
  },
  {
   "cell_type": "code",
   "execution_count": 8,
   "metadata": {
    "collapsed": true
   },
   "outputs": [],
   "source": [
    "matrix_9861 = pd.read_csv('Input/rnaseq_donor9861/RNAseqCounts.csv', sep=',', header=None, index_col=0)"
   ]
  },
  {
   "cell_type": "code",
   "execution_count": 9,
   "metadata": {},
   "outputs": [
    {
     "output_type": "execute_result",
     "data": {
      "text/plain": "              1        2        3       4        5        6        7    \\\n0                                                                        \nA1BG        50.72    73.58    43.15   35.03    67.32    54.00    62.43   \nA1BG-AS1   101.17   136.09    84.37   55.95    90.35    26.51    98.79   \nA1CF         3.13     3.01     5.88    1.00     4.73     2.00     1.02   \nA2LD1       26.84    66.72    49.18   24.41    37.27    35.56    39.78   \nA2M       1871.00  3411.51  2728.97  948.97  3011.94  2361.58  2359.99   \n\n              8        9        10   ...      112      113      114      115  \\\n0                                    ...                                       \nA1BG        51.94    16.43    67.67  ...    38.00    52.59    53.89    48.86   \nA1BG-AS1    69.80    24.87    65.49  ...   102.45    81.88    92.86    86.10   \nA1CF         0.00     0.00     2.00  ...     9.94     8.84     7.94     9.31   \nA2LD1       22.90    10.47    30.84  ...    30.81    28.07    25.69    15.37   \nA2M       3300.98  1676.99  2781.99  ...  1812.89  2628.93  1573.98  1935.88   \n\n              116      117      118      119      120      121  \n0                                                               \nA1BG        81.00    64.00   226.74   128.86   214.95    95.85  \nA1BG-AS1    36.33    44.25    40.36    24.97    14.68    20.69  \nA1CF         3.00     0.00     1.99     5.00     1.01     1.99  \nA2LD1       39.57    44.70    83.19    86.93    61.43    70.41  \nA2M       4892.97  4506.99  6336.45  6727.81  5459.27  8036.99  \n\n[5 rows x 121 columns]",
      "text/html": "<div>\n<style scoped>\n    .dataframe tbody tr th:only-of-type {\n        vertical-align: middle;\n    }\n\n    .dataframe tbody tr th {\n        vertical-align: top;\n    }\n\n    .dataframe thead th {\n        text-align: right;\n    }\n</style>\n<table border=\"1\" class=\"dataframe\">\n  <thead>\n    <tr style=\"text-align: right;\">\n      <th></th>\n      <th>1</th>\n      <th>2</th>\n      <th>3</th>\n      <th>4</th>\n      <th>5</th>\n      <th>6</th>\n      <th>7</th>\n      <th>8</th>\n      <th>9</th>\n      <th>10</th>\n      <th>...</th>\n      <th>112</th>\n      <th>113</th>\n      <th>114</th>\n      <th>115</th>\n      <th>116</th>\n      <th>117</th>\n      <th>118</th>\n      <th>119</th>\n      <th>120</th>\n      <th>121</th>\n    </tr>\n    <tr>\n      <th>0</th>\n      <th></th>\n      <th></th>\n      <th></th>\n      <th></th>\n      <th></th>\n      <th></th>\n      <th></th>\n      <th></th>\n      <th></th>\n      <th></th>\n      <th></th>\n      <th></th>\n      <th></th>\n      <th></th>\n      <th></th>\n      <th></th>\n      <th></th>\n      <th></th>\n      <th></th>\n      <th></th>\n      <th></th>\n    </tr>\n  </thead>\n  <tbody>\n    <tr>\n      <th>A1BG</th>\n      <td>50.72</td>\n      <td>73.58</td>\n      <td>43.15</td>\n      <td>35.03</td>\n      <td>67.32</td>\n      <td>54.00</td>\n      <td>62.43</td>\n      <td>51.94</td>\n      <td>16.43</td>\n      <td>67.67</td>\n      <td>...</td>\n      <td>38.00</td>\n      <td>52.59</td>\n      <td>53.89</td>\n      <td>48.86</td>\n      <td>81.00</td>\n      <td>64.00</td>\n      <td>226.74</td>\n      <td>128.86</td>\n      <td>214.95</td>\n      <td>95.85</td>\n    </tr>\n    <tr>\n      <th>A1BG-AS1</th>\n      <td>101.17</td>\n      <td>136.09</td>\n      <td>84.37</td>\n      <td>55.95</td>\n      <td>90.35</td>\n      <td>26.51</td>\n      <td>98.79</td>\n      <td>69.80</td>\n      <td>24.87</td>\n      <td>65.49</td>\n      <td>...</td>\n      <td>102.45</td>\n      <td>81.88</td>\n      <td>92.86</td>\n      <td>86.10</td>\n      <td>36.33</td>\n      <td>44.25</td>\n      <td>40.36</td>\n      <td>24.97</td>\n      <td>14.68</td>\n      <td>20.69</td>\n    </tr>\n    <tr>\n      <th>A1CF</th>\n      <td>3.13</td>\n      <td>3.01</td>\n      <td>5.88</td>\n      <td>1.00</td>\n      <td>4.73</td>\n      <td>2.00</td>\n      <td>1.02</td>\n      <td>0.00</td>\n      <td>0.00</td>\n      <td>2.00</td>\n      <td>...</td>\n      <td>9.94</td>\n      <td>8.84</td>\n      <td>7.94</td>\n      <td>9.31</td>\n      <td>3.00</td>\n      <td>0.00</td>\n      <td>1.99</td>\n      <td>5.00</td>\n      <td>1.01</td>\n      <td>1.99</td>\n    </tr>\n    <tr>\n      <th>A2LD1</th>\n      <td>26.84</td>\n      <td>66.72</td>\n      <td>49.18</td>\n      <td>24.41</td>\n      <td>37.27</td>\n      <td>35.56</td>\n      <td>39.78</td>\n      <td>22.90</td>\n      <td>10.47</td>\n      <td>30.84</td>\n      <td>...</td>\n      <td>30.81</td>\n      <td>28.07</td>\n      <td>25.69</td>\n      <td>15.37</td>\n      <td>39.57</td>\n      <td>44.70</td>\n      <td>83.19</td>\n      <td>86.93</td>\n      <td>61.43</td>\n      <td>70.41</td>\n    </tr>\n    <tr>\n      <th>A2M</th>\n      <td>1871.00</td>\n      <td>3411.51</td>\n      <td>2728.97</td>\n      <td>948.97</td>\n      <td>3011.94</td>\n      <td>2361.58</td>\n      <td>2359.99</td>\n      <td>3300.98</td>\n      <td>1676.99</td>\n      <td>2781.99</td>\n      <td>...</td>\n      <td>1812.89</td>\n      <td>2628.93</td>\n      <td>1573.98</td>\n      <td>1935.88</td>\n      <td>4892.97</td>\n      <td>4506.99</td>\n      <td>6336.45</td>\n      <td>6727.81</td>\n      <td>5459.27</td>\n      <td>8036.99</td>\n    </tr>\n  </tbody>\n</table>\n<p>5 rows × 121 columns</p>\n</div>"
     },
     "metadata": {},
     "execution_count": 9
    }
   ],
   "source": [
    "matrix_9861.head()"
   ]
  },
  {
   "cell_type": "code",
   "execution_count": 10,
   "metadata": {},
   "outputs": [
    {
     "output_type": "execute_result",
     "data": {
      "text/plain": "(22318, 121)"
     },
     "metadata": {},
     "execution_count": 10
    }
   ],
   "source": [
    "matrix_9861.shape"
   ]
  },
  {
   "cell_type": "markdown",
   "metadata": {},
   "source": [
    "# Load Sample Metadata"
   ]
  },
  {
   "cell_type": "code",
   "execution_count": 11,
   "metadata": {
    "collapsed": true
   },
   "outputs": [],
   "source": [
    "sample_meta_9861 = pd.read_csv('Input/rnaseq_donor9861/SampleAnnot.csv', sep=',')"
   ]
  },
  {
   "cell_type": "code",
   "execution_count": 12,
   "metadata": {},
   "outputs": [
    {
     "output_type": "execute_result",
     "data": {
      "text/plain": "  RNAseq_sample_name replicate_sample sample_name  well_id microarray_run_id  \\\n0    S010002_L7.LB16               No     S010002      105           275-104   \n1    S010003_L7.LB19               No     S010003      113           275-104   \n2    S010006_L8.LB27               No     S010006      193           275-104   \n3    S010007_L4.LB20               No     S010007      145           275-104   \n4     S010017_L1.LB2               No     S010017      114           275-104   \n\n  ontology_color main_structure sub_structure  ontology_structure_id  \\\n0        #FF7B62             PL           SPL                   4101   \n1        #FF7B62             PL           SPL                   4101   \n2        #FF7B62             PL           SPL                   4099   \n3        #FF5D62             PL         AnG-s                   4113   \n4        #E8D959             FL         SFG-l                   4027   \n\n  ontology_structure_acronym  ... brain  million_clusters  clip_percentage  \\\n0                      SPL-s  ...     1            36.467             6.56   \n1                      SPL-s  ...     1            52.991            24.45   \n2                      SPL-i  ...     1            37.405             4.23   \n3                      AnG-s  ...     1            29.974            21.40   \n4                      SFG-l  ...     1            34.290             2.26   \n\n   RIN_RNA_quality  rnaseq_run_id  A.Pct  C.Pct  G.Pct  T.Pct  N.Pct  \n0              8.0         H15699  25.41  25.22  24.15  25.21   0.01  \n1              7.5         V00091  20.87   7.14  26.30  24.34  23.40  \n2              7.2         H15699  25.88  24.43  23.74  25.95   0.01  \n3              6.0         H15699  26.29  25.52  24.35  23.84   0.01  \n4              7.3         H16345  24.97  24.95  24.71  25.36   0.01  \n\n[5 rows x 21 columns]",
      "text/html": "<div>\n<style scoped>\n    .dataframe tbody tr th:only-of-type {\n        vertical-align: middle;\n    }\n\n    .dataframe tbody tr th {\n        vertical-align: top;\n    }\n\n    .dataframe thead th {\n        text-align: right;\n    }\n</style>\n<table border=\"1\" class=\"dataframe\">\n  <thead>\n    <tr style=\"text-align: right;\">\n      <th></th>\n      <th>RNAseq_sample_name</th>\n      <th>replicate_sample</th>\n      <th>sample_name</th>\n      <th>well_id</th>\n      <th>microarray_run_id</th>\n      <th>ontology_color</th>\n      <th>main_structure</th>\n      <th>sub_structure</th>\n      <th>ontology_structure_id</th>\n      <th>ontology_structure_acronym</th>\n      <th>...</th>\n      <th>brain</th>\n      <th>million_clusters</th>\n      <th>clip_percentage</th>\n      <th>RIN_RNA_quality</th>\n      <th>rnaseq_run_id</th>\n      <th>A.Pct</th>\n      <th>C.Pct</th>\n      <th>G.Pct</th>\n      <th>T.Pct</th>\n      <th>N.Pct</th>\n    </tr>\n  </thead>\n  <tbody>\n    <tr>\n      <th>0</th>\n      <td>S010002_L7.LB16</td>\n      <td>No</td>\n      <td>S010002</td>\n      <td>105</td>\n      <td>275-104</td>\n      <td>#FF7B62</td>\n      <td>PL</td>\n      <td>SPL</td>\n      <td>4101</td>\n      <td>SPL-s</td>\n      <td>...</td>\n      <td>1</td>\n      <td>36.467</td>\n      <td>6.56</td>\n      <td>8.0</td>\n      <td>H15699</td>\n      <td>25.41</td>\n      <td>25.22</td>\n      <td>24.15</td>\n      <td>25.21</td>\n      <td>0.01</td>\n    </tr>\n    <tr>\n      <th>1</th>\n      <td>S010003_L7.LB19</td>\n      <td>No</td>\n      <td>S010003</td>\n      <td>113</td>\n      <td>275-104</td>\n      <td>#FF7B62</td>\n      <td>PL</td>\n      <td>SPL</td>\n      <td>4101</td>\n      <td>SPL-s</td>\n      <td>...</td>\n      <td>1</td>\n      <td>52.991</td>\n      <td>24.45</td>\n      <td>7.5</td>\n      <td>V00091</td>\n      <td>20.87</td>\n      <td>7.14</td>\n      <td>26.30</td>\n      <td>24.34</td>\n      <td>23.40</td>\n    </tr>\n    <tr>\n      <th>2</th>\n      <td>S010006_L8.LB27</td>\n      <td>No</td>\n      <td>S010006</td>\n      <td>193</td>\n      <td>275-104</td>\n      <td>#FF7B62</td>\n      <td>PL</td>\n      <td>SPL</td>\n      <td>4099</td>\n      <td>SPL-i</td>\n      <td>...</td>\n      <td>1</td>\n      <td>37.405</td>\n      <td>4.23</td>\n      <td>7.2</td>\n      <td>H15699</td>\n      <td>25.88</td>\n      <td>24.43</td>\n      <td>23.74</td>\n      <td>25.95</td>\n      <td>0.01</td>\n    </tr>\n    <tr>\n      <th>3</th>\n      <td>S010007_L4.LB20</td>\n      <td>No</td>\n      <td>S010007</td>\n      <td>145</td>\n      <td>275-104</td>\n      <td>#FF5D62</td>\n      <td>PL</td>\n      <td>AnG-s</td>\n      <td>4113</td>\n      <td>AnG-s</td>\n      <td>...</td>\n      <td>1</td>\n      <td>29.974</td>\n      <td>21.40</td>\n      <td>6.0</td>\n      <td>H15699</td>\n      <td>26.29</td>\n      <td>25.52</td>\n      <td>24.35</td>\n      <td>23.84</td>\n      <td>0.01</td>\n    </tr>\n    <tr>\n      <th>4</th>\n      <td>S010017_L1.LB2</td>\n      <td>No</td>\n      <td>S010017</td>\n      <td>114</td>\n      <td>275-104</td>\n      <td>#E8D959</td>\n      <td>FL</td>\n      <td>SFG-l</td>\n      <td>4027</td>\n      <td>SFG-l</td>\n      <td>...</td>\n      <td>1</td>\n      <td>34.290</td>\n      <td>2.26</td>\n      <td>7.3</td>\n      <td>H16345</td>\n      <td>24.97</td>\n      <td>24.95</td>\n      <td>24.71</td>\n      <td>25.36</td>\n      <td>0.01</td>\n    </tr>\n  </tbody>\n</table>\n<p>5 rows × 21 columns</p>\n</div>"
     },
     "metadata": {},
     "execution_count": 12
    }
   ],
   "source": [
    "sample_meta_9861.head()"
   ]
  },
  {
   "cell_type": "code",
   "execution_count": 13,
   "metadata": {},
   "outputs": [
    {
     "output_type": "execute_result",
     "data": {
      "text/plain": "(121, 21)"
     },
     "metadata": {},
     "execution_count": 13
    }
   ],
   "source": [
    "sample_meta_9861.shape"
   ]
  },
  {
   "cell_type": "markdown",
   "metadata": {},
   "source": [
    "# Load Sample Ontology"
   ]
  },
  {
   "cell_type": "code",
   "execution_count": 14,
   "metadata": {
    "collapsed": true
   },
   "outputs": [],
   "source": [
    "sample_onto_9861 = pd.read_csv('Input/rnaseq_donor9861/Ontology.csv', sep=',', index_col=0)"
   ]
  },
  {
   "cell_type": "code",
   "execution_count": 15,
   "metadata": {},
   "outputs": [
    {
     "output_type": "execute_result",
     "data": {
      "text/plain": "     acronym             name  parent_structure_id hemisphere  graph_order  \\\nid                                                                           \n4005      Br            brain                  NaN        NaN            0   \n4006      GM      gray matter               4005.0        NaN            1   \n4007     Tel    telencephalon               4006.0        NaN            2   \n4008      Cx  cerebral cortex               4007.0        NaN            3   \n4009      FL     frontal lobe               4008.0        NaN            4   \n\n               structure_id_path color_hex_triplet  \nid                                                  \n4005                      /4005/            A0A0A0  \n4006                 /4005/4006/            787878  \n4007            /4005/4006/4007/            D988A3  \n4008       /4005/4006/4007/4008/            EDA65F  \n4009  /4005/4006/4007/4008/4009/            E8CD59  ",
      "text/html": "<div>\n<style scoped>\n    .dataframe tbody tr th:only-of-type {\n        vertical-align: middle;\n    }\n\n    .dataframe tbody tr th {\n        vertical-align: top;\n    }\n\n    .dataframe thead th {\n        text-align: right;\n    }\n</style>\n<table border=\"1\" class=\"dataframe\">\n  <thead>\n    <tr style=\"text-align: right;\">\n      <th></th>\n      <th>acronym</th>\n      <th>name</th>\n      <th>parent_structure_id</th>\n      <th>hemisphere</th>\n      <th>graph_order</th>\n      <th>structure_id_path</th>\n      <th>color_hex_triplet</th>\n    </tr>\n    <tr>\n      <th>id</th>\n      <th></th>\n      <th></th>\n      <th></th>\n      <th></th>\n      <th></th>\n      <th></th>\n      <th></th>\n    </tr>\n  </thead>\n  <tbody>\n    <tr>\n      <th>4005</th>\n      <td>Br</td>\n      <td>brain</td>\n      <td>NaN</td>\n      <td>NaN</td>\n      <td>0</td>\n      <td>/4005/</td>\n      <td>A0A0A0</td>\n    </tr>\n    <tr>\n      <th>4006</th>\n      <td>GM</td>\n      <td>gray matter</td>\n      <td>4005.0</td>\n      <td>NaN</td>\n      <td>1</td>\n      <td>/4005/4006/</td>\n      <td>787878</td>\n    </tr>\n    <tr>\n      <th>4007</th>\n      <td>Tel</td>\n      <td>telencephalon</td>\n      <td>4006.0</td>\n      <td>NaN</td>\n      <td>2</td>\n      <td>/4005/4006/4007/</td>\n      <td>D988A3</td>\n    </tr>\n    <tr>\n      <th>4008</th>\n      <td>Cx</td>\n      <td>cerebral cortex</td>\n      <td>4007.0</td>\n      <td>NaN</td>\n      <td>3</td>\n      <td>/4005/4006/4007/4008/</td>\n      <td>EDA65F</td>\n    </tr>\n    <tr>\n      <th>4009</th>\n      <td>FL</td>\n      <td>frontal lobe</td>\n      <td>4008.0</td>\n      <td>NaN</td>\n      <td>4</td>\n      <td>/4005/4006/4007/4008/4009/</td>\n      <td>E8CD59</td>\n    </tr>\n  </tbody>\n</table>\n</div>"
     },
     "metadata": {},
     "execution_count": 15
    }
   ],
   "source": [
    "sample_onto_9861.head()"
   ]
  },
  {
   "cell_type": "code",
   "execution_count": 16,
   "metadata": {},
   "outputs": [
    {
     "output_type": "execute_result",
     "data": {
      "text/plain": "(1839, 7)"
     },
     "metadata": {},
     "execution_count": 16
    }
   ],
   "source": [
    "sample_onto_9861.shape"
   ]
  },
  {
   "cell_type": "markdown",
   "metadata": {},
   "source": [
    "# Map Sample Metadata to Sample ID"
   ]
  },
  {
   "cell_type": "code",
   "execution_count": 17,
   "metadata": {
    "collapsed": true
   },
   "outputs": [],
   "source": [
    "mapSampleData(matrix_9861, sample_meta_9861, sample_onto_9861)"
   ]
  },
  {
   "cell_type": "code",
   "execution_count": 18,
   "metadata": {},
   "outputs": [
    {
     "output_type": "execute_result",
     "data": {
      "text/plain": "          superior parietal lobule, right, superior bank of gyrus  \\\n0                                                                   \nA1BG                                                  50.72         \nA1BG-AS1                                             101.17         \nA1CF                                                   3.13         \nA2LD1                                                 26.84         \nA2M                                                 1871.00         \n\n          superior parietal lobule, right, superior bank of gyrus  \\\n0                                                                   \nA1BG                                                  73.58         \nA1BG-AS1                                             136.09         \nA1CF                                                   3.01         \nA2LD1                                                 66.72         \nA2M                                                 3411.51         \n\n          superior parietal lobule, left, inferior bank of gyrus  \\\n0                                                                  \nA1BG                                                  43.15        \nA1BG-AS1                                              84.37        \nA1CF                                                   5.88        \nA2LD1                                                 49.18        \nA2M                                                 2728.97        \n\n          angular gyrus, left, superior bank of gyrus  \\\n0                                                       \nA1BG                                            35.03   \nA1BG-AS1                                        55.95   \nA1CF                                             1.00   \nA2LD1                                           24.41   \nA2M                                            948.97   \n\n          superior frontal gyrus, right, lateral bank of gyrus  \\\n0                                                                \nA1BG                                                  67.32      \nA1BG-AS1                                              90.35      \nA1CF                                                   4.73      \nA2LD1                                                 37.27      \nA2M                                                 3011.94      \n\n          lateral orbital gyrus, right  gyrus rectus, left  \\\n0                                                            \nA1BG                             54.00               62.43   \nA1BG-AS1                         26.51               98.79   \nA1CF                              2.00                1.02   \nA2LD1                            35.56               39.78   \nA2M                            2361.58             2359.99   \n\n          medial orbital gyrus, left  medial orbital gyrus, left  \\\n0                                                                  \nA1BG                           51.94                       16.43   \nA1BG-AS1                       69.80                       24.87   \nA1CF                            0.00                        0.00   \nA2LD1                          22.90                       10.47   \nA2M                          3300.98                     1676.99   \n\n          gyrus rectus, left  ...  Crus I, right, lateral hemisphere  \\\n0                             ...                                      \nA1BG                   67.67  ...                              38.00   \nA1BG-AS1               65.49  ...                             102.45   \nA1CF                    2.00  ...                               9.94   \nA2LD1                  30.84  ...                              30.81   \nA2M                  2781.99  ...                            1812.89   \n\n          IX, right, paravermis  VIIIA, left, lateral hemisphere  \\\n0                                                                  \nA1BG                      52.59                            53.89   \nA1BG-AS1                  81.88                            92.86   \nA1CF                       8.84                             7.94   \nA2LD1                     28.07                            25.69   \nA2M                     2628.93                          1573.98   \n\n          VI, left, lateral hemisphere  head of caudate nucleus, right  \\\n0                                                                        \nA1BG                             48.86                           81.00   \nA1BG-AS1                         86.10                           36.33   \nA1CF                              9.31                            3.00   \nA2LD1                            15.37                           39.57   \nA2M                            1935.88                         4892.97   \n\n          putamen, right  putamen, right  \\\n0                                          \nA1BG               64.00          226.74   \nA1BG-AS1           44.25           40.36   \nA1CF                0.00            1.99   \nA2LD1              44.70           83.19   \nA2M              4506.99         6336.45   \n\n          globus pallidus, external segment, right  \\\n0                                                    \nA1BG                                        128.86   \nA1BG-AS1                                     24.97   \nA1CF                                          5.00   \nA2LD1                                        86.93   \nA2M                                        6727.81   \n\n          globus pallidus, external segment, left  \\\n0                                                   \nA1BG                                       214.95   \nA1BG-AS1                                    14.68   \nA1CF                                         1.01   \nA2LD1                                       61.43   \nA2M                                       5459.27   \n\n          body of caudate nucleus, left  \n0                                        \nA1BG                              95.85  \nA1BG-AS1                          20.69  \nA1CF                               1.99  \nA2LD1                             70.41  \nA2M                             8036.99  \n\n[5 rows x 121 columns]",
      "text/html": "<div>\n<style scoped>\n    .dataframe tbody tr th:only-of-type {\n        vertical-align: middle;\n    }\n\n    .dataframe tbody tr th {\n        vertical-align: top;\n    }\n\n    .dataframe thead th {\n        text-align: right;\n    }\n</style>\n<table border=\"1\" class=\"dataframe\">\n  <thead>\n    <tr style=\"text-align: right;\">\n      <th></th>\n      <th>superior parietal lobule, right, superior bank of gyrus</th>\n      <th>superior parietal lobule, right, superior bank of gyrus</th>\n      <th>superior parietal lobule, left, inferior bank of gyrus</th>\n      <th>angular gyrus, left, superior bank of gyrus</th>\n      <th>superior frontal gyrus, right, lateral bank of gyrus</th>\n      <th>lateral orbital gyrus, right</th>\n      <th>gyrus rectus, left</th>\n      <th>medial orbital gyrus, left</th>\n      <th>medial orbital gyrus, left</th>\n      <th>gyrus rectus, left</th>\n      <th>...</th>\n      <th>Crus I, right, lateral hemisphere</th>\n      <th>IX, right, paravermis</th>\n      <th>VIIIA, left, lateral hemisphere</th>\n      <th>VI, left, lateral hemisphere</th>\n      <th>head of caudate nucleus, right</th>\n      <th>putamen, right</th>\n      <th>putamen, right</th>\n      <th>globus pallidus, external segment, right</th>\n      <th>globus pallidus, external segment, left</th>\n      <th>body of caudate nucleus, left</th>\n    </tr>\n    <tr>\n      <th>0</th>\n      <th></th>\n      <th></th>\n      <th></th>\n      <th></th>\n      <th></th>\n      <th></th>\n      <th></th>\n      <th></th>\n      <th></th>\n      <th></th>\n      <th></th>\n      <th></th>\n      <th></th>\n      <th></th>\n      <th></th>\n      <th></th>\n      <th></th>\n      <th></th>\n      <th></th>\n      <th></th>\n      <th></th>\n    </tr>\n  </thead>\n  <tbody>\n    <tr>\n      <th>A1BG</th>\n      <td>50.72</td>\n      <td>73.58</td>\n      <td>43.15</td>\n      <td>35.03</td>\n      <td>67.32</td>\n      <td>54.00</td>\n      <td>62.43</td>\n      <td>51.94</td>\n      <td>16.43</td>\n      <td>67.67</td>\n      <td>...</td>\n      <td>38.00</td>\n      <td>52.59</td>\n      <td>53.89</td>\n      <td>48.86</td>\n      <td>81.00</td>\n      <td>64.00</td>\n      <td>226.74</td>\n      <td>128.86</td>\n      <td>214.95</td>\n      <td>95.85</td>\n    </tr>\n    <tr>\n      <th>A1BG-AS1</th>\n      <td>101.17</td>\n      <td>136.09</td>\n      <td>84.37</td>\n      <td>55.95</td>\n      <td>90.35</td>\n      <td>26.51</td>\n      <td>98.79</td>\n      <td>69.80</td>\n      <td>24.87</td>\n      <td>65.49</td>\n      <td>...</td>\n      <td>102.45</td>\n      <td>81.88</td>\n      <td>92.86</td>\n      <td>86.10</td>\n      <td>36.33</td>\n      <td>44.25</td>\n      <td>40.36</td>\n      <td>24.97</td>\n      <td>14.68</td>\n      <td>20.69</td>\n    </tr>\n    <tr>\n      <th>A1CF</th>\n      <td>3.13</td>\n      <td>3.01</td>\n      <td>5.88</td>\n      <td>1.00</td>\n      <td>4.73</td>\n      <td>2.00</td>\n      <td>1.02</td>\n      <td>0.00</td>\n      <td>0.00</td>\n      <td>2.00</td>\n      <td>...</td>\n      <td>9.94</td>\n      <td>8.84</td>\n      <td>7.94</td>\n      <td>9.31</td>\n      <td>3.00</td>\n      <td>0.00</td>\n      <td>1.99</td>\n      <td>5.00</td>\n      <td>1.01</td>\n      <td>1.99</td>\n    </tr>\n    <tr>\n      <th>A2LD1</th>\n      <td>26.84</td>\n      <td>66.72</td>\n      <td>49.18</td>\n      <td>24.41</td>\n      <td>37.27</td>\n      <td>35.56</td>\n      <td>39.78</td>\n      <td>22.90</td>\n      <td>10.47</td>\n      <td>30.84</td>\n      <td>...</td>\n      <td>30.81</td>\n      <td>28.07</td>\n      <td>25.69</td>\n      <td>15.37</td>\n      <td>39.57</td>\n      <td>44.70</td>\n      <td>83.19</td>\n      <td>86.93</td>\n      <td>61.43</td>\n      <td>70.41</td>\n    </tr>\n    <tr>\n      <th>A2M</th>\n      <td>1871.00</td>\n      <td>3411.51</td>\n      <td>2728.97</td>\n      <td>948.97</td>\n      <td>3011.94</td>\n      <td>2361.58</td>\n      <td>2359.99</td>\n      <td>3300.98</td>\n      <td>1676.99</td>\n      <td>2781.99</td>\n      <td>...</td>\n      <td>1812.89</td>\n      <td>2628.93</td>\n      <td>1573.98</td>\n      <td>1935.88</td>\n      <td>4892.97</td>\n      <td>4506.99</td>\n      <td>6336.45</td>\n      <td>6727.81</td>\n      <td>5459.27</td>\n      <td>8036.99</td>\n    </tr>\n  </tbody>\n</table>\n<p>5 rows × 121 columns</p>\n</div>"
     },
     "metadata": {},
     "execution_count": 18
    }
   ],
   "source": [
    "matrix_9861.head()"
   ]
  },
  {
   "cell_type": "markdown",
   "metadata": {},
   "source": [
    "# Donor 10021"
   ]
  },
  {
   "cell_type": "markdown",
   "metadata": {},
   "source": [
    "# Load Data"
   ]
  },
  {
   "cell_type": "code",
   "execution_count": 19,
   "metadata": {
    "collapsed": true
   },
   "outputs": [],
   "source": [
    "matrix_10021 = pd.read_csv('Input/rnaseq_donor10021/RNAseqCounts.csv', sep=',', header=None, index_col=0) "
   ]
  },
  {
   "cell_type": "code",
   "execution_count": 20,
   "metadata": {},
   "outputs": [
    {
     "output_type": "execute_result",
     "data": {
      "text/plain": "              1        2        3        4        5        6        7    \\\n0                                                                         \nA1BG        84.92   143.85    88.59   110.00    87.07   122.25   103.65   \nA1BG-AS1   107.12   108.52    96.26    96.43    98.79    91.09   110.81   \nA1CF        13.25     5.09     4.58     4.03     1.00     3.00     2.99   \nA2LD1       53.26    72.54    54.20    49.50    46.60    54.83    48.51   \nA2M       3813.83  3582.94  3907.99  3892.90  3592.06  4742.55  3811.88   \n\n              8        9        10   ...      112      113      114      115  \\\n0                                    ...                                       \nA1BG       106.91   191.16   162.56  ...   130.22   104.00   180.62   142.79   \nA1BG-AS1   140.31   198.17   156.49  ...   101.59    47.58    33.40    29.81   \nA1CF         1.00     7.00     4.25  ...     2.00     1.00     2.98     1.00   \nA2LD1       68.45    84.89    50.57  ...    88.49    63.68   114.16    93.55   \nA2M       5890.89  5856.88  4077.96  ...  4095.95  5089.97  9421.94  8253.94   \n\n              116      117      118      119      120      121  \n0                                                               \nA1BG       119.41    97.89    93.25   103.48    83.31   106.13  \nA1BG-AS1    96.52    66.92    60.54    98.29    73.54    89.30  \nA1CF         6.09    10.78    11.27    10.98     9.02    13.11  \nA2LD1       57.49    65.92    70.96    60.60    26.51    55.53  \nA2M       4383.91  2654.71  3267.99  3421.37  2213.87  2540.99  \n\n[5 rows x 121 columns]",
      "text/html": "<div>\n<style scoped>\n    .dataframe tbody tr th:only-of-type {\n        vertical-align: middle;\n    }\n\n    .dataframe tbody tr th {\n        vertical-align: top;\n    }\n\n    .dataframe thead th {\n        text-align: right;\n    }\n</style>\n<table border=\"1\" class=\"dataframe\">\n  <thead>\n    <tr style=\"text-align: right;\">\n      <th></th>\n      <th>1</th>\n      <th>2</th>\n      <th>3</th>\n      <th>4</th>\n      <th>5</th>\n      <th>6</th>\n      <th>7</th>\n      <th>8</th>\n      <th>9</th>\n      <th>10</th>\n      <th>...</th>\n      <th>112</th>\n      <th>113</th>\n      <th>114</th>\n      <th>115</th>\n      <th>116</th>\n      <th>117</th>\n      <th>118</th>\n      <th>119</th>\n      <th>120</th>\n      <th>121</th>\n    </tr>\n    <tr>\n      <th>0</th>\n      <th></th>\n      <th></th>\n      <th></th>\n      <th></th>\n      <th></th>\n      <th></th>\n      <th></th>\n      <th></th>\n      <th></th>\n      <th></th>\n      <th></th>\n      <th></th>\n      <th></th>\n      <th></th>\n      <th></th>\n      <th></th>\n      <th></th>\n      <th></th>\n      <th></th>\n      <th></th>\n      <th></th>\n    </tr>\n  </thead>\n  <tbody>\n    <tr>\n      <th>A1BG</th>\n      <td>84.92</td>\n      <td>143.85</td>\n      <td>88.59</td>\n      <td>110.00</td>\n      <td>87.07</td>\n      <td>122.25</td>\n      <td>103.65</td>\n      <td>106.91</td>\n      <td>191.16</td>\n      <td>162.56</td>\n      <td>...</td>\n      <td>130.22</td>\n      <td>104.00</td>\n      <td>180.62</td>\n      <td>142.79</td>\n      <td>119.41</td>\n      <td>97.89</td>\n      <td>93.25</td>\n      <td>103.48</td>\n      <td>83.31</td>\n      <td>106.13</td>\n    </tr>\n    <tr>\n      <th>A1BG-AS1</th>\n      <td>107.12</td>\n      <td>108.52</td>\n      <td>96.26</td>\n      <td>96.43</td>\n      <td>98.79</td>\n      <td>91.09</td>\n      <td>110.81</td>\n      <td>140.31</td>\n      <td>198.17</td>\n      <td>156.49</td>\n      <td>...</td>\n      <td>101.59</td>\n      <td>47.58</td>\n      <td>33.40</td>\n      <td>29.81</td>\n      <td>96.52</td>\n      <td>66.92</td>\n      <td>60.54</td>\n      <td>98.29</td>\n      <td>73.54</td>\n      <td>89.30</td>\n    </tr>\n    <tr>\n      <th>A1CF</th>\n      <td>13.25</td>\n      <td>5.09</td>\n      <td>4.58</td>\n      <td>4.03</td>\n      <td>1.00</td>\n      <td>3.00</td>\n      <td>2.99</td>\n      <td>1.00</td>\n      <td>7.00</td>\n      <td>4.25</td>\n      <td>...</td>\n      <td>2.00</td>\n      <td>1.00</td>\n      <td>2.98</td>\n      <td>1.00</td>\n      <td>6.09</td>\n      <td>10.78</td>\n      <td>11.27</td>\n      <td>10.98</td>\n      <td>9.02</td>\n      <td>13.11</td>\n    </tr>\n    <tr>\n      <th>A2LD1</th>\n      <td>53.26</td>\n      <td>72.54</td>\n      <td>54.20</td>\n      <td>49.50</td>\n      <td>46.60</td>\n      <td>54.83</td>\n      <td>48.51</td>\n      <td>68.45</td>\n      <td>84.89</td>\n      <td>50.57</td>\n      <td>...</td>\n      <td>88.49</td>\n      <td>63.68</td>\n      <td>114.16</td>\n      <td>93.55</td>\n      <td>57.49</td>\n      <td>65.92</td>\n      <td>70.96</td>\n      <td>60.60</td>\n      <td>26.51</td>\n      <td>55.53</td>\n    </tr>\n    <tr>\n      <th>A2M</th>\n      <td>3813.83</td>\n      <td>3582.94</td>\n      <td>3907.99</td>\n      <td>3892.90</td>\n      <td>3592.06</td>\n      <td>4742.55</td>\n      <td>3811.88</td>\n      <td>5890.89</td>\n      <td>5856.88</td>\n      <td>4077.96</td>\n      <td>...</td>\n      <td>4095.95</td>\n      <td>5089.97</td>\n      <td>9421.94</td>\n      <td>8253.94</td>\n      <td>4383.91</td>\n      <td>2654.71</td>\n      <td>3267.99</td>\n      <td>3421.37</td>\n      <td>2213.87</td>\n      <td>2540.99</td>\n    </tr>\n  </tbody>\n</table>\n<p>5 rows × 121 columns</p>\n</div>"
     },
     "metadata": {},
     "execution_count": 20
    }
   ],
   "source": [
    "matrix_10021.head()"
   ]
  },
  {
   "cell_type": "code",
   "execution_count": 21,
   "metadata": {},
   "outputs": [
    {
     "output_type": "execute_result",
     "data": {
      "text/plain": "(22318, 121)"
     },
     "metadata": {},
     "execution_count": 21
    }
   ],
   "source": [
    "matrix_10021.shape"
   ]
  },
  {
   "cell_type": "markdown",
   "metadata": {},
   "source": [
    "# Load Sample Metadata"
   ]
  },
  {
   "cell_type": "code",
   "execution_count": 22,
   "metadata": {
    "collapsed": true
   },
   "outputs": [],
   "source": [
    "sample_meta_10021 = pd.read_csv('Input/rnaseq_donor10021/SampleAnnot.csv', sep=',')"
   ]
  },
  {
   "cell_type": "code",
   "execution_count": 23,
   "metadata": {},
   "outputs": [
    {
     "output_type": "execute_result",
     "data": {
      "text/plain": "  RNAseq_sample_name replicate_sample sample_name  well_id microarray_run_id  \\\n0    S020008_L7.LB13               No     S020008     4569           275-201   \n1     S020013_L7.LB3               No     S020013     4514           275-201   \n2     S020019_L2.LB9               No     S020019     4562           275-201   \n3    S020024_L8.LB22               No     S020024     4602           275-205   \n4     S020027_L6.LB6               No     S020027     4531           275-201   \n\n  ontology_color main_structure sub_structure  ontology_structure_id  \\\n0        #E8D959             FL         SFG-l                   4024   \n1        #E8D959             FL         SFG-m                   4026   \n2        #E8D959             FL         SFG-l                   4024   \n3        #E8C659             FL         orIFG                   4045   \n4        #E8C659             FL         orIFG                   4046   \n\n  ontology_structure_acronym  ... brain  million_clusters  clip_percentage  \\\n0                      SFG-l  ...     2            33.696             1.86   \n1                      SFG-m  ...     2            36.747             6.03   \n2                      SFG-l  ...     2            33.115             2.33   \n3                      orIFG  ...     2            35.500             2.51   \n4                      orIFG  ...     2            30.290             1.44   \n\n   RIN_RNA_quality  rnaseq_run_id  A.Pct  C.Pct  G.Pct  T.Pct  N.Pct  \n0              8.6         H15601  25.38  24.74  24.20  25.68   0.00  \n1              8.3         H15967  25.66  24.65  23.89  25.80   0.01  \n2              8.6         H15602  25.54  24.69  23.89  25.88   0.01  \n3              8.2         H15601  25.54  24.63  23.99  25.83   0.00  \n4              8.0         H15602  25.28  24.85  24.13  25.74   0.00  \n\n[5 rows x 21 columns]",
      "text/html": "<div>\n<style scoped>\n    .dataframe tbody tr th:only-of-type {\n        vertical-align: middle;\n    }\n\n    .dataframe tbody tr th {\n        vertical-align: top;\n    }\n\n    .dataframe thead th {\n        text-align: right;\n    }\n</style>\n<table border=\"1\" class=\"dataframe\">\n  <thead>\n    <tr style=\"text-align: right;\">\n      <th></th>\n      <th>RNAseq_sample_name</th>\n      <th>replicate_sample</th>\n      <th>sample_name</th>\n      <th>well_id</th>\n      <th>microarray_run_id</th>\n      <th>ontology_color</th>\n      <th>main_structure</th>\n      <th>sub_structure</th>\n      <th>ontology_structure_id</th>\n      <th>ontology_structure_acronym</th>\n      <th>...</th>\n      <th>brain</th>\n      <th>million_clusters</th>\n      <th>clip_percentage</th>\n      <th>RIN_RNA_quality</th>\n      <th>rnaseq_run_id</th>\n      <th>A.Pct</th>\n      <th>C.Pct</th>\n      <th>G.Pct</th>\n      <th>T.Pct</th>\n      <th>N.Pct</th>\n    </tr>\n  </thead>\n  <tbody>\n    <tr>\n      <th>0</th>\n      <td>S020008_L7.LB13</td>\n      <td>No</td>\n      <td>S020008</td>\n      <td>4569</td>\n      <td>275-201</td>\n      <td>#E8D959</td>\n      <td>FL</td>\n      <td>SFG-l</td>\n      <td>4024</td>\n      <td>SFG-l</td>\n      <td>...</td>\n      <td>2</td>\n      <td>33.696</td>\n      <td>1.86</td>\n      <td>8.6</td>\n      <td>H15601</td>\n      <td>25.38</td>\n      <td>24.74</td>\n      <td>24.20</td>\n      <td>25.68</td>\n      <td>0.00</td>\n    </tr>\n    <tr>\n      <th>1</th>\n      <td>S020013_L7.LB3</td>\n      <td>No</td>\n      <td>S020013</td>\n      <td>4514</td>\n      <td>275-201</td>\n      <td>#E8D959</td>\n      <td>FL</td>\n      <td>SFG-m</td>\n      <td>4026</td>\n      <td>SFG-m</td>\n      <td>...</td>\n      <td>2</td>\n      <td>36.747</td>\n      <td>6.03</td>\n      <td>8.3</td>\n      <td>H15967</td>\n      <td>25.66</td>\n      <td>24.65</td>\n      <td>23.89</td>\n      <td>25.80</td>\n      <td>0.01</td>\n    </tr>\n    <tr>\n      <th>2</th>\n      <td>S020019_L2.LB9</td>\n      <td>No</td>\n      <td>S020019</td>\n      <td>4562</td>\n      <td>275-201</td>\n      <td>#E8D959</td>\n      <td>FL</td>\n      <td>SFG-l</td>\n      <td>4024</td>\n      <td>SFG-l</td>\n      <td>...</td>\n      <td>2</td>\n      <td>33.115</td>\n      <td>2.33</td>\n      <td>8.6</td>\n      <td>H15602</td>\n      <td>25.54</td>\n      <td>24.69</td>\n      <td>23.89</td>\n      <td>25.88</td>\n      <td>0.01</td>\n    </tr>\n    <tr>\n      <th>3</th>\n      <td>S020024_L8.LB22</td>\n      <td>No</td>\n      <td>S020024</td>\n      <td>4602</td>\n      <td>275-205</td>\n      <td>#E8C659</td>\n      <td>FL</td>\n      <td>orIFG</td>\n      <td>4045</td>\n      <td>orIFG</td>\n      <td>...</td>\n      <td>2</td>\n      <td>35.500</td>\n      <td>2.51</td>\n      <td>8.2</td>\n      <td>H15601</td>\n      <td>25.54</td>\n      <td>24.63</td>\n      <td>23.99</td>\n      <td>25.83</td>\n      <td>0.00</td>\n    </tr>\n    <tr>\n      <th>4</th>\n      <td>S020027_L6.LB6</td>\n      <td>No</td>\n      <td>S020027</td>\n      <td>4531</td>\n      <td>275-201</td>\n      <td>#E8C659</td>\n      <td>FL</td>\n      <td>orIFG</td>\n      <td>4046</td>\n      <td>orIFG</td>\n      <td>...</td>\n      <td>2</td>\n      <td>30.290</td>\n      <td>1.44</td>\n      <td>8.0</td>\n      <td>H15602</td>\n      <td>25.28</td>\n      <td>24.85</td>\n      <td>24.13</td>\n      <td>25.74</td>\n      <td>0.00</td>\n    </tr>\n  </tbody>\n</table>\n<p>5 rows × 21 columns</p>\n</div>"
     },
     "metadata": {},
     "execution_count": 23
    }
   ],
   "source": [
    "sample_meta_10021.head()"
   ]
  },
  {
   "cell_type": "code",
   "execution_count": 24,
   "metadata": {},
   "outputs": [
    {
     "output_type": "execute_result",
     "data": {
      "text/plain": "(121, 21)"
     },
     "metadata": {},
     "execution_count": 24
    }
   ],
   "source": [
    "sample_meta_10021.shape"
   ]
  },
  {
   "cell_type": "markdown",
   "metadata": {},
   "source": [
    "# Load Sample Ontology"
   ]
  },
  {
   "cell_type": "code",
   "execution_count": 25,
   "metadata": {
    "collapsed": true
   },
   "outputs": [],
   "source": [
    "sample_onto_10021 = pd.read_csv('Input/rnaseq_donor10021/Ontology.csv', sep=',', index_col=0)"
   ]
  },
  {
   "cell_type": "code",
   "execution_count": 26,
   "metadata": {},
   "outputs": [
    {
     "output_type": "execute_result",
     "data": {
      "text/plain": "     acronym             name  parent_structure_id hemisphere  graph_order  \\\nid                                                                           \n4005      Br            brain                  NaN        NaN            0   \n4006      GM      gray matter               4005.0        NaN            1   \n4007     Tel    telencephalon               4006.0        NaN            2   \n4008      Cx  cerebral cortex               4007.0        NaN            3   \n4009      FL     frontal lobe               4008.0        NaN            4   \n\n               structure_id_path color_hex_triplet  \nid                                                  \n4005                      /4005/            A0A0A0  \n4006                 /4005/4006/            787878  \n4007            /4005/4006/4007/            D988A3  \n4008       /4005/4006/4007/4008/            EDA65F  \n4009  /4005/4006/4007/4008/4009/            E8CD59  ",
      "text/html": "<div>\n<style scoped>\n    .dataframe tbody tr th:only-of-type {\n        vertical-align: middle;\n    }\n\n    .dataframe tbody tr th {\n        vertical-align: top;\n    }\n\n    .dataframe thead th {\n        text-align: right;\n    }\n</style>\n<table border=\"1\" class=\"dataframe\">\n  <thead>\n    <tr style=\"text-align: right;\">\n      <th></th>\n      <th>acronym</th>\n      <th>name</th>\n      <th>parent_structure_id</th>\n      <th>hemisphere</th>\n      <th>graph_order</th>\n      <th>structure_id_path</th>\n      <th>color_hex_triplet</th>\n    </tr>\n    <tr>\n      <th>id</th>\n      <th></th>\n      <th></th>\n      <th></th>\n      <th></th>\n      <th></th>\n      <th></th>\n      <th></th>\n    </tr>\n  </thead>\n  <tbody>\n    <tr>\n      <th>4005</th>\n      <td>Br</td>\n      <td>brain</td>\n      <td>NaN</td>\n      <td>NaN</td>\n      <td>0</td>\n      <td>/4005/</td>\n      <td>A0A0A0</td>\n    </tr>\n    <tr>\n      <th>4006</th>\n      <td>GM</td>\n      <td>gray matter</td>\n      <td>4005.0</td>\n      <td>NaN</td>\n      <td>1</td>\n      <td>/4005/4006/</td>\n      <td>787878</td>\n    </tr>\n    <tr>\n      <th>4007</th>\n      <td>Tel</td>\n      <td>telencephalon</td>\n      <td>4006.0</td>\n      <td>NaN</td>\n      <td>2</td>\n      <td>/4005/4006/4007/</td>\n      <td>D988A3</td>\n    </tr>\n    <tr>\n      <th>4008</th>\n      <td>Cx</td>\n      <td>cerebral cortex</td>\n      <td>4007.0</td>\n      <td>NaN</td>\n      <td>3</td>\n      <td>/4005/4006/4007/4008/</td>\n      <td>EDA65F</td>\n    </tr>\n    <tr>\n      <th>4009</th>\n      <td>FL</td>\n      <td>frontal lobe</td>\n      <td>4008.0</td>\n      <td>NaN</td>\n      <td>4</td>\n      <td>/4005/4006/4007/4008/4009/</td>\n      <td>E8CD59</td>\n    </tr>\n  </tbody>\n</table>\n</div>"
     },
     "metadata": {},
     "execution_count": 26
    }
   ],
   "source": [
    "sample_onto_10021.head()"
   ]
  },
  {
   "cell_type": "code",
   "execution_count": 27,
   "metadata": {},
   "outputs": [
    {
     "output_type": "execute_result",
     "data": {
      "text/plain": "(1839, 7)"
     },
     "metadata": {},
     "execution_count": 27
    }
   ],
   "source": [
    "sample_onto_10021.shape"
   ]
  },
  {
   "cell_type": "markdown",
   "metadata": {},
   "source": [
    "# Map Sample Metadata to Sample ID"
   ]
  },
  {
   "cell_type": "code",
   "execution_count": 28,
   "metadata": {
    "collapsed": true
   },
   "outputs": [],
   "source": [
    "mapSampleData(matrix_10021, sample_meta_10021, sample_onto_10021)"
   ]
  },
  {
   "cell_type": "code",
   "execution_count": 29,
   "metadata": {},
   "outputs": [
    {
     "output_type": "execute_result",
     "data": {
      "text/plain": "          superior frontal gyrus, left, lateral bank of gyrus  \\\n0                                                               \nA1BG                                                  84.92     \nA1BG-AS1                                             107.12     \nA1CF                                                  13.25     \nA2LD1                                                 53.26     \nA2M                                                 3813.83     \n\n          superior frontal gyrus, right, medial bank of gyrus  \\\n0                                                               \nA1BG                                                 143.85     \nA1BG-AS1                                             108.52     \nA1CF                                                   5.09     \nA2LD1                                                 72.54     \nA2M                                                 3582.94     \n\n          superior frontal gyrus, left, lateral bank of gyrus  \\\n0                                                               \nA1BG                                                  88.59     \nA1BG-AS1                                              96.26     \nA1CF                                                   4.58     \nA2LD1                                                 54.20     \nA2M                                                 3907.99     \n\n          inferior frontal gyrus, orbital part, left  \\\n0                                                      \nA1BG                                          110.00   \nA1BG-AS1                                       96.43   \nA1CF                                            4.03   \nA2LD1                                          49.50   \nA2M                                          3892.90   \n\n          inferior frontal gyrus, orbital part, right  \\\n0                                                       \nA1BG                                            87.07   \nA1BG-AS1                                        98.79   \nA1CF                                             1.00   \nA2LD1                                           46.60   \nA2M                                           3592.06   \n\n          medial orbital gyrus, left  medial orbital gyrus, right  \\\n0                                                                   \nA1BG                          122.25                       103.65   \nA1BG-AS1                       91.09                       110.81   \nA1CF                            3.00                         2.99   \nA2LD1                          54.83                        48.51   \nA2M                          4742.55                      3811.88   \n\n          middle frontal gyrus, right, inferior bank of gyrus  \\\n0                                                               \nA1BG                                                 106.91     \nA1BG-AS1                                             140.31     \nA1CF                                                   1.00     \nA2LD1                                                 68.45     \nA2M                                                 5890.89     \n\n          middle frontal gyrus, right, superior bank of gyrus  \\\n0                                                               \nA1BG                                                 191.16     \nA1BG-AS1                                             198.17     \nA1CF                                                   7.00     \nA2LD1                                                 84.89     \nA2M                                                 5856.88     \n\n          superior frontal gyrus, right, lateral bank of gyrus  ...  \\\n0                                                               ...   \nA1BG                                                 162.56     ...   \nA1BG-AS1                                             156.49     ...   \nA1CF                                                   4.25     ...   \nA2LD1                                                 50.57     ...   \nA2M                                                 4077.96     ...   \n\n          fusiform gyrus, left, bank of the its  \\\n0                                                 \nA1BG                                     130.22   \nA1BG-AS1                                 101.59   \nA1CF                                       2.00   \nA2LD1                                     88.49   \nA2M                                     4095.95   \n\n          parahippocampal gyrus, left, lateral bank of gyrus  \\\n0                                                              \nA1BG                                                 104.00    \nA1BG-AS1                                              47.58    \nA1CF                                                   1.00    \nA2LD1                                                 63.68    \nA2M                                                 5089.97    \n\n          globus pallidus, internal segment, left  \\\n0                                                   \nA1BG                                       180.62   \nA1BG-AS1                                    33.40   \nA1CF                                         2.98   \nA2LD1                                      114.16   \nA2M                                       9421.94   \n\n          globus pallidus, external segment, right  \\\n0                                                    \nA1BG                                        142.79   \nA1BG-AS1                                     29.81   \nA1CF                                          1.00   \nA2LD1                                        93.55   \nA2M                                        8253.94   \n\n          parahippocampal gyrus, right, bank of the cos  \\\n0                                                         \nA1BG                                             119.41   \nA1BG-AS1                                          96.52   \nA1CF                                               6.09   \nA2LD1                                             57.49   \nA2M                                             4383.91   \n\n          VIIIA, right, lateral hemisphere  IV, right, paravermis  \\\n0                                                                   \nA1BG                                 97.89                  93.25   \nA1BG-AS1                             66.92                  60.54   \nA1CF                                 10.78                  11.27   \nA2LD1                                65.92                  70.96   \nA2M                                2654.71                3267.99   \n\n          IV, right, paravermis  VIIB, left, paravermis  \\\n0                                                         \nA1BG                     103.48                   83.31   \nA1BG-AS1                  98.29                   73.54   \nA1CF                      10.98                    9.02   \nA2LD1                     60.60                   26.51   \nA2M                     3421.37                 2213.87   \n\n          Crus II, left, lateral hemisphere  \n0                                            \nA1BG                                 106.13  \nA1BG-AS1                              89.30  \nA1CF                                  13.11  \nA2LD1                                 55.53  \nA2M                                 2540.99  \n\n[5 rows x 121 columns]",
      "text/html": "<div>\n<style scoped>\n    .dataframe tbody tr th:only-of-type {\n        vertical-align: middle;\n    }\n\n    .dataframe tbody tr th {\n        vertical-align: top;\n    }\n\n    .dataframe thead th {\n        text-align: right;\n    }\n</style>\n<table border=\"1\" class=\"dataframe\">\n  <thead>\n    <tr style=\"text-align: right;\">\n      <th></th>\n      <th>superior frontal gyrus, left, lateral bank of gyrus</th>\n      <th>superior frontal gyrus, right, medial bank of gyrus</th>\n      <th>superior frontal gyrus, left, lateral bank of gyrus</th>\n      <th>inferior frontal gyrus, orbital part, left</th>\n      <th>inferior frontal gyrus, orbital part, right</th>\n      <th>medial orbital gyrus, left</th>\n      <th>medial orbital gyrus, right</th>\n      <th>middle frontal gyrus, right, inferior bank of gyrus</th>\n      <th>middle frontal gyrus, right, superior bank of gyrus</th>\n      <th>superior frontal gyrus, right, lateral bank of gyrus</th>\n      <th>...</th>\n      <th>fusiform gyrus, left, bank of the its</th>\n      <th>parahippocampal gyrus, left, lateral bank of gyrus</th>\n      <th>globus pallidus, internal segment, left</th>\n      <th>globus pallidus, external segment, right</th>\n      <th>parahippocampal gyrus, right, bank of the cos</th>\n      <th>VIIIA, right, lateral hemisphere</th>\n      <th>IV, right, paravermis</th>\n      <th>IV, right, paravermis</th>\n      <th>VIIB, left, paravermis</th>\n      <th>Crus II, left, lateral hemisphere</th>\n    </tr>\n    <tr>\n      <th>0</th>\n      <th></th>\n      <th></th>\n      <th></th>\n      <th></th>\n      <th></th>\n      <th></th>\n      <th></th>\n      <th></th>\n      <th></th>\n      <th></th>\n      <th></th>\n      <th></th>\n      <th></th>\n      <th></th>\n      <th></th>\n      <th></th>\n      <th></th>\n      <th></th>\n      <th></th>\n      <th></th>\n      <th></th>\n    </tr>\n  </thead>\n  <tbody>\n    <tr>\n      <th>A1BG</th>\n      <td>84.92</td>\n      <td>143.85</td>\n      <td>88.59</td>\n      <td>110.00</td>\n      <td>87.07</td>\n      <td>122.25</td>\n      <td>103.65</td>\n      <td>106.91</td>\n      <td>191.16</td>\n      <td>162.56</td>\n      <td>...</td>\n      <td>130.22</td>\n      <td>104.00</td>\n      <td>180.62</td>\n      <td>142.79</td>\n      <td>119.41</td>\n      <td>97.89</td>\n      <td>93.25</td>\n      <td>103.48</td>\n      <td>83.31</td>\n      <td>106.13</td>\n    </tr>\n    <tr>\n      <th>A1BG-AS1</th>\n      <td>107.12</td>\n      <td>108.52</td>\n      <td>96.26</td>\n      <td>96.43</td>\n      <td>98.79</td>\n      <td>91.09</td>\n      <td>110.81</td>\n      <td>140.31</td>\n      <td>198.17</td>\n      <td>156.49</td>\n      <td>...</td>\n      <td>101.59</td>\n      <td>47.58</td>\n      <td>33.40</td>\n      <td>29.81</td>\n      <td>96.52</td>\n      <td>66.92</td>\n      <td>60.54</td>\n      <td>98.29</td>\n      <td>73.54</td>\n      <td>89.30</td>\n    </tr>\n    <tr>\n      <th>A1CF</th>\n      <td>13.25</td>\n      <td>5.09</td>\n      <td>4.58</td>\n      <td>4.03</td>\n      <td>1.00</td>\n      <td>3.00</td>\n      <td>2.99</td>\n      <td>1.00</td>\n      <td>7.00</td>\n      <td>4.25</td>\n      <td>...</td>\n      <td>2.00</td>\n      <td>1.00</td>\n      <td>2.98</td>\n      <td>1.00</td>\n      <td>6.09</td>\n      <td>10.78</td>\n      <td>11.27</td>\n      <td>10.98</td>\n      <td>9.02</td>\n      <td>13.11</td>\n    </tr>\n    <tr>\n      <th>A2LD1</th>\n      <td>53.26</td>\n      <td>72.54</td>\n      <td>54.20</td>\n      <td>49.50</td>\n      <td>46.60</td>\n      <td>54.83</td>\n      <td>48.51</td>\n      <td>68.45</td>\n      <td>84.89</td>\n      <td>50.57</td>\n      <td>...</td>\n      <td>88.49</td>\n      <td>63.68</td>\n      <td>114.16</td>\n      <td>93.55</td>\n      <td>57.49</td>\n      <td>65.92</td>\n      <td>70.96</td>\n      <td>60.60</td>\n      <td>26.51</td>\n      <td>55.53</td>\n    </tr>\n    <tr>\n      <th>A2M</th>\n      <td>3813.83</td>\n      <td>3582.94</td>\n      <td>3907.99</td>\n      <td>3892.90</td>\n      <td>3592.06</td>\n      <td>4742.55</td>\n      <td>3811.88</td>\n      <td>5890.89</td>\n      <td>5856.88</td>\n      <td>4077.96</td>\n      <td>...</td>\n      <td>4095.95</td>\n      <td>5089.97</td>\n      <td>9421.94</td>\n      <td>8253.94</td>\n      <td>4383.91</td>\n      <td>2654.71</td>\n      <td>3267.99</td>\n      <td>3421.37</td>\n      <td>2213.87</td>\n      <td>2540.99</td>\n    </tr>\n  </tbody>\n</table>\n<p>5 rows × 121 columns</p>\n</div>"
     },
     "metadata": {},
     "execution_count": 29
    }
   ],
   "source": [
    "matrix_10021.head()"
   ]
  },
  {
   "cell_type": "markdown",
   "metadata": {},
   "source": [
    "# Combine Donor Datasets"
   ]
  },
  {
   "cell_type": "markdown",
   "metadata": {},
   "source": [
    "# Unfiltered"
   ]
  },
  {
   "cell_type": "code",
   "execution_count": 30,
   "metadata": {
    "collapsed": true
   },
   "outputs": [],
   "source": [
    "matrix = pd.concat([matrix_9861, matrix_10021], axis=1)"
   ]
  },
  {
   "cell_type": "code",
   "execution_count": 31,
   "metadata": {},
   "outputs": [
    {
     "output_type": "execute_result",
     "data": {
      "text/plain": "          superior parietal lobule, right, superior bank of gyrus  \\\n0                                                                   \nA1BG                                                  50.72         \nA1BG-AS1                                             101.17         \nA1CF                                                   3.13         \nA2LD1                                                 26.84         \nA2M                                                 1871.00         \n\n          superior parietal lobule, right, superior bank of gyrus  \\\n0                                                                   \nA1BG                                                  73.58         \nA1BG-AS1                                             136.09         \nA1CF                                                   3.01         \nA2LD1                                                 66.72         \nA2M                                                 3411.51         \n\n          superior parietal lobule, left, inferior bank of gyrus  \\\n0                                                                  \nA1BG                                                  43.15        \nA1BG-AS1                                              84.37        \nA1CF                                                   5.88        \nA2LD1                                                 49.18        \nA2M                                                 2728.97        \n\n          angular gyrus, left, superior bank of gyrus  \\\n0                                                       \nA1BG                                            35.03   \nA1BG-AS1                                        55.95   \nA1CF                                             1.00   \nA2LD1                                           24.41   \nA2M                                            948.97   \n\n          superior frontal gyrus, right, lateral bank of gyrus  \\\n0                                                                \nA1BG                                                  67.32      \nA1BG-AS1                                              90.35      \nA1CF                                                   4.73      \nA2LD1                                                 37.27      \nA2M                                                 3011.94      \n\n          lateral orbital gyrus, right  gyrus rectus, left  \\\n0                                                            \nA1BG                             54.00               62.43   \nA1BG-AS1                         26.51               98.79   \nA1CF                              2.00                1.02   \nA2LD1                            35.56               39.78   \nA2M                            2361.58             2359.99   \n\n          medial orbital gyrus, left  medial orbital gyrus, left  \\\n0                                                                  \nA1BG                           51.94                       16.43   \nA1BG-AS1                       69.80                       24.87   \nA1CF                            0.00                        0.00   \nA2LD1                          22.90                       10.47   \nA2M                          3300.98                     1676.99   \n\n          gyrus rectus, left  ...  fusiform gyrus, left, bank of the its  \\\n0                             ...                                          \nA1BG                   67.67  ...                                 130.22   \nA1BG-AS1               65.49  ...                                 101.59   \nA1CF                    2.00  ...                                   2.00   \nA2LD1                  30.84  ...                                  88.49   \nA2M                  2781.99  ...                                4095.95   \n\n          parahippocampal gyrus, left, lateral bank of gyrus  \\\n0                                                              \nA1BG                                                 104.00    \nA1BG-AS1                                              47.58    \nA1CF                                                   1.00    \nA2LD1                                                 63.68    \nA2M                                                 5089.97    \n\n          globus pallidus, internal segment, left  \\\n0                                                   \nA1BG                                       180.62   \nA1BG-AS1                                    33.40   \nA1CF                                         2.98   \nA2LD1                                      114.16   \nA2M                                       9421.94   \n\n          globus pallidus, external segment, right  \\\n0                                                    \nA1BG                                        142.79   \nA1BG-AS1                                     29.81   \nA1CF                                          1.00   \nA2LD1                                        93.55   \nA2M                                        8253.94   \n\n          parahippocampal gyrus, right, bank of the cos  \\\n0                                                         \nA1BG                                             119.41   \nA1BG-AS1                                          96.52   \nA1CF                                               6.09   \nA2LD1                                             57.49   \nA2M                                             4383.91   \n\n          VIIIA, right, lateral hemisphere  IV, right, paravermis  \\\n0                                                                   \nA1BG                                 97.89                  93.25   \nA1BG-AS1                             66.92                  60.54   \nA1CF                                 10.78                  11.27   \nA2LD1                                65.92                  70.96   \nA2M                                2654.71                3267.99   \n\n          IV, right, paravermis  VIIB, left, paravermis  \\\n0                                                         \nA1BG                     103.48                   83.31   \nA1BG-AS1                  98.29                   73.54   \nA1CF                      10.98                    9.02   \nA2LD1                     60.60                   26.51   \nA2M                     3421.37                 2213.87   \n\n          Crus II, left, lateral hemisphere  \n0                                            \nA1BG                                 106.13  \nA1BG-AS1                              89.30  \nA1CF                                  13.11  \nA2LD1                                 55.53  \nA2M                                 2540.99  \n\n[5 rows x 242 columns]",
      "text/html": "<div>\n<style scoped>\n    .dataframe tbody tr th:only-of-type {\n        vertical-align: middle;\n    }\n\n    .dataframe tbody tr th {\n        vertical-align: top;\n    }\n\n    .dataframe thead th {\n        text-align: right;\n    }\n</style>\n<table border=\"1\" class=\"dataframe\">\n  <thead>\n    <tr style=\"text-align: right;\">\n      <th></th>\n      <th>superior parietal lobule, right, superior bank of gyrus</th>\n      <th>superior parietal lobule, right, superior bank of gyrus</th>\n      <th>superior parietal lobule, left, inferior bank of gyrus</th>\n      <th>angular gyrus, left, superior bank of gyrus</th>\n      <th>superior frontal gyrus, right, lateral bank of gyrus</th>\n      <th>lateral orbital gyrus, right</th>\n      <th>gyrus rectus, left</th>\n      <th>medial orbital gyrus, left</th>\n      <th>medial orbital gyrus, left</th>\n      <th>gyrus rectus, left</th>\n      <th>...</th>\n      <th>fusiform gyrus, left, bank of the its</th>\n      <th>parahippocampal gyrus, left, lateral bank of gyrus</th>\n      <th>globus pallidus, internal segment, left</th>\n      <th>globus pallidus, external segment, right</th>\n      <th>parahippocampal gyrus, right, bank of the cos</th>\n      <th>VIIIA, right, lateral hemisphere</th>\n      <th>IV, right, paravermis</th>\n      <th>IV, right, paravermis</th>\n      <th>VIIB, left, paravermis</th>\n      <th>Crus II, left, lateral hemisphere</th>\n    </tr>\n    <tr>\n      <th>0</th>\n      <th></th>\n      <th></th>\n      <th></th>\n      <th></th>\n      <th></th>\n      <th></th>\n      <th></th>\n      <th></th>\n      <th></th>\n      <th></th>\n      <th></th>\n      <th></th>\n      <th></th>\n      <th></th>\n      <th></th>\n      <th></th>\n      <th></th>\n      <th></th>\n      <th></th>\n      <th></th>\n      <th></th>\n    </tr>\n  </thead>\n  <tbody>\n    <tr>\n      <th>A1BG</th>\n      <td>50.72</td>\n      <td>73.58</td>\n      <td>43.15</td>\n      <td>35.03</td>\n      <td>67.32</td>\n      <td>54.00</td>\n      <td>62.43</td>\n      <td>51.94</td>\n      <td>16.43</td>\n      <td>67.67</td>\n      <td>...</td>\n      <td>130.22</td>\n      <td>104.00</td>\n      <td>180.62</td>\n      <td>142.79</td>\n      <td>119.41</td>\n      <td>97.89</td>\n      <td>93.25</td>\n      <td>103.48</td>\n      <td>83.31</td>\n      <td>106.13</td>\n    </tr>\n    <tr>\n      <th>A1BG-AS1</th>\n      <td>101.17</td>\n      <td>136.09</td>\n      <td>84.37</td>\n      <td>55.95</td>\n      <td>90.35</td>\n      <td>26.51</td>\n      <td>98.79</td>\n      <td>69.80</td>\n      <td>24.87</td>\n      <td>65.49</td>\n      <td>...</td>\n      <td>101.59</td>\n      <td>47.58</td>\n      <td>33.40</td>\n      <td>29.81</td>\n      <td>96.52</td>\n      <td>66.92</td>\n      <td>60.54</td>\n      <td>98.29</td>\n      <td>73.54</td>\n      <td>89.30</td>\n    </tr>\n    <tr>\n      <th>A1CF</th>\n      <td>3.13</td>\n      <td>3.01</td>\n      <td>5.88</td>\n      <td>1.00</td>\n      <td>4.73</td>\n      <td>2.00</td>\n      <td>1.02</td>\n      <td>0.00</td>\n      <td>0.00</td>\n      <td>2.00</td>\n      <td>...</td>\n      <td>2.00</td>\n      <td>1.00</td>\n      <td>2.98</td>\n      <td>1.00</td>\n      <td>6.09</td>\n      <td>10.78</td>\n      <td>11.27</td>\n      <td>10.98</td>\n      <td>9.02</td>\n      <td>13.11</td>\n    </tr>\n    <tr>\n      <th>A2LD1</th>\n      <td>26.84</td>\n      <td>66.72</td>\n      <td>49.18</td>\n      <td>24.41</td>\n      <td>37.27</td>\n      <td>35.56</td>\n      <td>39.78</td>\n      <td>22.90</td>\n      <td>10.47</td>\n      <td>30.84</td>\n      <td>...</td>\n      <td>88.49</td>\n      <td>63.68</td>\n      <td>114.16</td>\n      <td>93.55</td>\n      <td>57.49</td>\n      <td>65.92</td>\n      <td>70.96</td>\n      <td>60.60</td>\n      <td>26.51</td>\n      <td>55.53</td>\n    </tr>\n    <tr>\n      <th>A2M</th>\n      <td>1871.00</td>\n      <td>3411.51</td>\n      <td>2728.97</td>\n      <td>948.97</td>\n      <td>3011.94</td>\n      <td>2361.58</td>\n      <td>2359.99</td>\n      <td>3300.98</td>\n      <td>1676.99</td>\n      <td>2781.99</td>\n      <td>...</td>\n      <td>4095.95</td>\n      <td>5089.97</td>\n      <td>9421.94</td>\n      <td>8253.94</td>\n      <td>4383.91</td>\n      <td>2654.71</td>\n      <td>3267.99</td>\n      <td>3421.37</td>\n      <td>2213.87</td>\n      <td>2540.99</td>\n    </tr>\n  </tbody>\n</table>\n<p>5 rows × 242 columns</p>\n</div>"
     },
     "metadata": {},
     "execution_count": 31
    }
   ],
   "source": [
    "matrix.head()"
   ]
  },
  {
   "cell_type": "code",
   "execution_count": 32,
   "metadata": {},
   "outputs": [
    {
     "output_type": "execute_result",
     "data": {
      "text/plain": "(22318, 242)"
     },
     "metadata": {},
     "execution_count": 32
    }
   ],
   "source": [
    "matrix.shape"
   ]
  },
  {
   "cell_type": "markdown",
   "metadata": {},
   "source": [
    "# Save Unfiltered to file"
   ]
  },
  {
   "cell_type": "code",
   "execution_count": 33,
   "metadata": {
    "collapsed": true
   },
   "outputs": [],
   "source": [
    "filename = 'Output/aba_brain_matrix_unfilltered_%s.tsv.zip'% str(datetime.date.today())[0:7].replace('-', '_')\n",
    "matrix.to_csv(filename, sep='\\t', compression='gzip')"
   ]
  },
  {
   "cell_type": "markdown",
   "metadata": {},
   "source": [
    "# Filtered"
   ]
  },
  {
   "cell_type": "code",
   "execution_count": 34,
   "metadata": {
    "collapsed": true
   },
   "outputs": [],
   "source": [
    "normalized_matrix = pd.concat([matrix_9861, matrix_10021], axis=1)"
   ]
  },
  {
   "cell_type": "code",
   "execution_count": 35,
   "metadata": {},
   "outputs": [
    {
     "output_type": "execute_result",
     "data": {
      "text/plain": "          superior parietal lobule, right, superior bank of gyrus  \\\n0                                                                   \nA1BG                                                  50.72         \nA1BG-AS1                                             101.17         \nA1CF                                                   3.13         \nA2LD1                                                 26.84         \nA2M                                                 1871.00         \n\n          superior parietal lobule, right, superior bank of gyrus  \\\n0                                                                   \nA1BG                                                  73.58         \nA1BG-AS1                                             136.09         \nA1CF                                                   3.01         \nA2LD1                                                 66.72         \nA2M                                                 3411.51         \n\n          superior parietal lobule, left, inferior bank of gyrus  \\\n0                                                                  \nA1BG                                                  43.15        \nA1BG-AS1                                              84.37        \nA1CF                                                   5.88        \nA2LD1                                                 49.18        \nA2M                                                 2728.97        \n\n          angular gyrus, left, superior bank of gyrus  \\\n0                                                       \nA1BG                                            35.03   \nA1BG-AS1                                        55.95   \nA1CF                                             1.00   \nA2LD1                                           24.41   \nA2M                                            948.97   \n\n          superior frontal gyrus, right, lateral bank of gyrus  \\\n0                                                                \nA1BG                                                  67.32      \nA1BG-AS1                                              90.35      \nA1CF                                                   4.73      \nA2LD1                                                 37.27      \nA2M                                                 3011.94      \n\n          lateral orbital gyrus, right  gyrus rectus, left  \\\n0                                                            \nA1BG                             54.00               62.43   \nA1BG-AS1                         26.51               98.79   \nA1CF                              2.00                1.02   \nA2LD1                            35.56               39.78   \nA2M                            2361.58             2359.99   \n\n          medial orbital gyrus, left  medial orbital gyrus, left  \\\n0                                                                  \nA1BG                           51.94                       16.43   \nA1BG-AS1                       69.80                       24.87   \nA1CF                            0.00                        0.00   \nA2LD1                          22.90                       10.47   \nA2M                          3300.98                     1676.99   \n\n          gyrus rectus, left  ...  fusiform gyrus, left, bank of the its  \\\n0                             ...                                          \nA1BG                   67.67  ...                                 130.22   \nA1BG-AS1               65.49  ...                                 101.59   \nA1CF                    2.00  ...                                   2.00   \nA2LD1                  30.84  ...                                  88.49   \nA2M                  2781.99  ...                                4095.95   \n\n          parahippocampal gyrus, left, lateral bank of gyrus  \\\n0                                                              \nA1BG                                                 104.00    \nA1BG-AS1                                              47.58    \nA1CF                                                   1.00    \nA2LD1                                                 63.68    \nA2M                                                 5089.97    \n\n          globus pallidus, internal segment, left  \\\n0                                                   \nA1BG                                       180.62   \nA1BG-AS1                                    33.40   \nA1CF                                         2.98   \nA2LD1                                      114.16   \nA2M                                       9421.94   \n\n          globus pallidus, external segment, right  \\\n0                                                    \nA1BG                                        142.79   \nA1BG-AS1                                     29.81   \nA1CF                                          1.00   \nA2LD1                                        93.55   \nA2M                                        8253.94   \n\n          parahippocampal gyrus, right, bank of the cos  \\\n0                                                         \nA1BG                                             119.41   \nA1BG-AS1                                          96.52   \nA1CF                                               6.09   \nA2LD1                                             57.49   \nA2M                                             4383.91   \n\n          VIIIA, right, lateral hemisphere  IV, right, paravermis  \\\n0                                                                   \nA1BG                                 97.89                  93.25   \nA1BG-AS1                             66.92                  60.54   \nA1CF                                 10.78                  11.27   \nA2LD1                                65.92                  70.96   \nA2M                                2654.71                3267.99   \n\n          IV, right, paravermis  VIIB, left, paravermis  \\\n0                                                         \nA1BG                     103.48                   83.31   \nA1BG-AS1                  98.29                   73.54   \nA1CF                      10.98                    9.02   \nA2LD1                     60.60                   26.51   \nA2M                     3421.37                 2213.87   \n\n          Crus II, left, lateral hemisphere  \n0                                            \nA1BG                                 106.13  \nA1BG-AS1                              89.30  \nA1CF                                  13.11  \nA2LD1                                 55.53  \nA2M                                 2540.99  \n\n[5 rows x 242 columns]",
      "text/html": "<div>\n<style scoped>\n    .dataframe tbody tr th:only-of-type {\n        vertical-align: middle;\n    }\n\n    .dataframe tbody tr th {\n        vertical-align: top;\n    }\n\n    .dataframe thead th {\n        text-align: right;\n    }\n</style>\n<table border=\"1\" class=\"dataframe\">\n  <thead>\n    <tr style=\"text-align: right;\">\n      <th></th>\n      <th>superior parietal lobule, right, superior bank of gyrus</th>\n      <th>superior parietal lobule, right, superior bank of gyrus</th>\n      <th>superior parietal lobule, left, inferior bank of gyrus</th>\n      <th>angular gyrus, left, superior bank of gyrus</th>\n      <th>superior frontal gyrus, right, lateral bank of gyrus</th>\n      <th>lateral orbital gyrus, right</th>\n      <th>gyrus rectus, left</th>\n      <th>medial orbital gyrus, left</th>\n      <th>medial orbital gyrus, left</th>\n      <th>gyrus rectus, left</th>\n      <th>...</th>\n      <th>fusiform gyrus, left, bank of the its</th>\n      <th>parahippocampal gyrus, left, lateral bank of gyrus</th>\n      <th>globus pallidus, internal segment, left</th>\n      <th>globus pallidus, external segment, right</th>\n      <th>parahippocampal gyrus, right, bank of the cos</th>\n      <th>VIIIA, right, lateral hemisphere</th>\n      <th>IV, right, paravermis</th>\n      <th>IV, right, paravermis</th>\n      <th>VIIB, left, paravermis</th>\n      <th>Crus II, left, lateral hemisphere</th>\n    </tr>\n    <tr>\n      <th>0</th>\n      <th></th>\n      <th></th>\n      <th></th>\n      <th></th>\n      <th></th>\n      <th></th>\n      <th></th>\n      <th></th>\n      <th></th>\n      <th></th>\n      <th></th>\n      <th></th>\n      <th></th>\n      <th></th>\n      <th></th>\n      <th></th>\n      <th></th>\n      <th></th>\n      <th></th>\n      <th></th>\n      <th></th>\n    </tr>\n  </thead>\n  <tbody>\n    <tr>\n      <th>A1BG</th>\n      <td>50.72</td>\n      <td>73.58</td>\n      <td>43.15</td>\n      <td>35.03</td>\n      <td>67.32</td>\n      <td>54.00</td>\n      <td>62.43</td>\n      <td>51.94</td>\n      <td>16.43</td>\n      <td>67.67</td>\n      <td>...</td>\n      <td>130.22</td>\n      <td>104.00</td>\n      <td>180.62</td>\n      <td>142.79</td>\n      <td>119.41</td>\n      <td>97.89</td>\n      <td>93.25</td>\n      <td>103.48</td>\n      <td>83.31</td>\n      <td>106.13</td>\n    </tr>\n    <tr>\n      <th>A1BG-AS1</th>\n      <td>101.17</td>\n      <td>136.09</td>\n      <td>84.37</td>\n      <td>55.95</td>\n      <td>90.35</td>\n      <td>26.51</td>\n      <td>98.79</td>\n      <td>69.80</td>\n      <td>24.87</td>\n      <td>65.49</td>\n      <td>...</td>\n      <td>101.59</td>\n      <td>47.58</td>\n      <td>33.40</td>\n      <td>29.81</td>\n      <td>96.52</td>\n      <td>66.92</td>\n      <td>60.54</td>\n      <td>98.29</td>\n      <td>73.54</td>\n      <td>89.30</td>\n    </tr>\n    <tr>\n      <th>A1CF</th>\n      <td>3.13</td>\n      <td>3.01</td>\n      <td>5.88</td>\n      <td>1.00</td>\n      <td>4.73</td>\n      <td>2.00</td>\n      <td>1.02</td>\n      <td>0.00</td>\n      <td>0.00</td>\n      <td>2.00</td>\n      <td>...</td>\n      <td>2.00</td>\n      <td>1.00</td>\n      <td>2.98</td>\n      <td>1.00</td>\n      <td>6.09</td>\n      <td>10.78</td>\n      <td>11.27</td>\n      <td>10.98</td>\n      <td>9.02</td>\n      <td>13.11</td>\n    </tr>\n    <tr>\n      <th>A2LD1</th>\n      <td>26.84</td>\n      <td>66.72</td>\n      <td>49.18</td>\n      <td>24.41</td>\n      <td>37.27</td>\n      <td>35.56</td>\n      <td>39.78</td>\n      <td>22.90</td>\n      <td>10.47</td>\n      <td>30.84</td>\n      <td>...</td>\n      <td>88.49</td>\n      <td>63.68</td>\n      <td>114.16</td>\n      <td>93.55</td>\n      <td>57.49</td>\n      <td>65.92</td>\n      <td>70.96</td>\n      <td>60.60</td>\n      <td>26.51</td>\n      <td>55.53</td>\n    </tr>\n    <tr>\n      <th>A2M</th>\n      <td>1871.00</td>\n      <td>3411.51</td>\n      <td>2728.97</td>\n      <td>948.97</td>\n      <td>3011.94</td>\n      <td>2361.58</td>\n      <td>2359.99</td>\n      <td>3300.98</td>\n      <td>1676.99</td>\n      <td>2781.99</td>\n      <td>...</td>\n      <td>4095.95</td>\n      <td>5089.97</td>\n      <td>9421.94</td>\n      <td>8253.94</td>\n      <td>4383.91</td>\n      <td>2654.71</td>\n      <td>3267.99</td>\n      <td>3421.37</td>\n      <td>2213.87</td>\n      <td>2540.99</td>\n    </tr>\n  </tbody>\n</table>\n<p>5 rows × 242 columns</p>\n</div>"
     },
     "metadata": {},
     "execution_count": 35
    }
   ],
   "source": [
    "normalized_matrix.head()"
   ]
  },
  {
   "cell_type": "code",
   "execution_count": 36,
   "metadata": {},
   "outputs": [
    {
     "output_type": "execute_result",
     "data": {
      "text/plain": "(22318, 242)"
     },
     "metadata": {},
     "execution_count": 36
    }
   ],
   "source": [
    "normalized_matrix.shape"
   ]
  },
  {
   "cell_type": "markdown",
   "metadata": {},
   "source": [
    "# Remove any data with more than 95% missing and imput remaining mssing values to matrix mean"
   ]
  },
  {
   "cell_type": "code",
   "execution_count": 37,
   "metadata": {
    "collapsed": true
   },
   "outputs": [],
   "source": [
    "normalized_matrix = uf.removeAndImpute(normalized_matrix)"
   ]
  },
  {
   "cell_type": "code",
   "execution_count": 38,
   "metadata": {},
   "outputs": [
    {
     "output_type": "execute_result",
     "data": {
      "text/plain": "          superior parietal lobule, right, superior bank of gyrus  \\\nA1BG                                                  50.72         \nA1BG-AS1                                             101.17         \nA1CF                                                   3.13         \nA2LD1                                                 26.84         \nA2M                                                 1871.00         \n\n          superior parietal lobule, right, superior bank of gyrus  \\\nA1BG                                                  73.58         \nA1BG-AS1                                             136.09         \nA1CF                                                   3.01         \nA2LD1                                                 66.72         \nA2M                                                 3411.51         \n\n          superior parietal lobule, left, inferior bank of gyrus  \\\nA1BG                                                  43.15        \nA1BG-AS1                                              84.37        \nA1CF                                                   5.88        \nA2LD1                                                 49.18        \nA2M                                                 2728.97        \n\n          angular gyrus, left, superior bank of gyrus  \\\nA1BG                                            35.03   \nA1BG-AS1                                        55.95   \nA1CF                                             1.00   \nA2LD1                                           24.41   \nA2M                                            948.97   \n\n          superior frontal gyrus, right, lateral bank of gyrus  \\\nA1BG                                                  67.32      \nA1BG-AS1                                              90.35      \nA1CF                                                   4.73      \nA2LD1                                                 37.27      \nA2M                                                 3011.94      \n\n          lateral orbital gyrus, right  gyrus rectus, left  \\\nA1BG                             54.00               62.43   \nA1BG-AS1                         26.51               98.79   \nA1CF                              2.00                1.02   \nA2LD1                            35.56               39.78   \nA2M                            2361.58             2359.99   \n\n          medial orbital gyrus, left  medial orbital gyrus, left  \\\nA1BG                       51.940000                   16.430000   \nA1BG-AS1                   69.800000                   24.870000   \nA1CF                        3.938276                    3.938276   \nA2LD1                      22.900000                   10.470000   \nA2M                      3300.980000                 1676.990000   \n\n          gyrus rectus, left  ...  fusiform gyrus, left, bank of the its  \\\nA1BG                   67.67  ...                                 130.22   \nA1BG-AS1               65.49  ...                                 101.59   \nA1CF                    2.00  ...                                   2.00   \nA2LD1                  30.84  ...                                  88.49   \nA2M                  2781.99  ...                                4095.95   \n\n          parahippocampal gyrus, left, lateral bank of gyrus  \\\nA1BG                                                 104.00    \nA1BG-AS1                                              47.58    \nA1CF                                                   1.00    \nA2LD1                                                 63.68    \nA2M                                                 5089.97    \n\n          globus pallidus, internal segment, left  \\\nA1BG                                       180.62   \nA1BG-AS1                                    33.40   \nA1CF                                         2.98   \nA2LD1                                      114.16   \nA2M                                       9421.94   \n\n          globus pallidus, external segment, right  \\\nA1BG                                        142.79   \nA1BG-AS1                                     29.81   \nA1CF                                          1.00   \nA2LD1                                        93.55   \nA2M                                        8253.94   \n\n          parahippocampal gyrus, right, bank of the cos  \\\nA1BG                                             119.41   \nA1BG-AS1                                          96.52   \nA1CF                                               6.09   \nA2LD1                                             57.49   \nA2M                                             4383.91   \n\n          VIIIA, right, lateral hemisphere  IV, right, paravermis  \\\nA1BG                                 97.89                  93.25   \nA1BG-AS1                             66.92                  60.54   \nA1CF                                 10.78                  11.27   \nA2LD1                                65.92                  70.96   \nA2M                                2654.71                3267.99   \n\n          IV, right, paravermis  VIIB, left, paravermis  \\\nA1BG                     103.48                   83.31   \nA1BG-AS1                  98.29                   73.54   \nA1CF                      10.98                    9.02   \nA2LD1                     60.60                   26.51   \nA2M                     3421.37                 2213.87   \n\n          Crus II, left, lateral hemisphere  \nA1BG                                 106.13  \nA1BG-AS1                              89.30  \nA1CF                                  13.11  \nA2LD1                                 55.53  \nA2M                                 2540.99  \n\n[5 rows x 242 columns]",
      "text/html": "<div>\n<style scoped>\n    .dataframe tbody tr th:only-of-type {\n        vertical-align: middle;\n    }\n\n    .dataframe tbody tr th {\n        vertical-align: top;\n    }\n\n    .dataframe thead th {\n        text-align: right;\n    }\n</style>\n<table border=\"1\" class=\"dataframe\">\n  <thead>\n    <tr style=\"text-align: right;\">\n      <th></th>\n      <th>superior parietal lobule, right, superior bank of gyrus</th>\n      <th>superior parietal lobule, right, superior bank of gyrus</th>\n      <th>superior parietal lobule, left, inferior bank of gyrus</th>\n      <th>angular gyrus, left, superior bank of gyrus</th>\n      <th>superior frontal gyrus, right, lateral bank of gyrus</th>\n      <th>lateral orbital gyrus, right</th>\n      <th>gyrus rectus, left</th>\n      <th>medial orbital gyrus, left</th>\n      <th>medial orbital gyrus, left</th>\n      <th>gyrus rectus, left</th>\n      <th>...</th>\n      <th>fusiform gyrus, left, bank of the its</th>\n      <th>parahippocampal gyrus, left, lateral bank of gyrus</th>\n      <th>globus pallidus, internal segment, left</th>\n      <th>globus pallidus, external segment, right</th>\n      <th>parahippocampal gyrus, right, bank of the cos</th>\n      <th>VIIIA, right, lateral hemisphere</th>\n      <th>IV, right, paravermis</th>\n      <th>IV, right, paravermis</th>\n      <th>VIIB, left, paravermis</th>\n      <th>Crus II, left, lateral hemisphere</th>\n    </tr>\n  </thead>\n  <tbody>\n    <tr>\n      <th>A1BG</th>\n      <td>50.72</td>\n      <td>73.58</td>\n      <td>43.15</td>\n      <td>35.03</td>\n      <td>67.32</td>\n      <td>54.00</td>\n      <td>62.43</td>\n      <td>51.940000</td>\n      <td>16.430000</td>\n      <td>67.67</td>\n      <td>...</td>\n      <td>130.22</td>\n      <td>104.00</td>\n      <td>180.62</td>\n      <td>142.79</td>\n      <td>119.41</td>\n      <td>97.89</td>\n      <td>93.25</td>\n      <td>103.48</td>\n      <td>83.31</td>\n      <td>106.13</td>\n    </tr>\n    <tr>\n      <th>A1BG-AS1</th>\n      <td>101.17</td>\n      <td>136.09</td>\n      <td>84.37</td>\n      <td>55.95</td>\n      <td>90.35</td>\n      <td>26.51</td>\n      <td>98.79</td>\n      <td>69.800000</td>\n      <td>24.870000</td>\n      <td>65.49</td>\n      <td>...</td>\n      <td>101.59</td>\n      <td>47.58</td>\n      <td>33.40</td>\n      <td>29.81</td>\n      <td>96.52</td>\n      <td>66.92</td>\n      <td>60.54</td>\n      <td>98.29</td>\n      <td>73.54</td>\n      <td>89.30</td>\n    </tr>\n    <tr>\n      <th>A1CF</th>\n      <td>3.13</td>\n      <td>3.01</td>\n      <td>5.88</td>\n      <td>1.00</td>\n      <td>4.73</td>\n      <td>2.00</td>\n      <td>1.02</td>\n      <td>3.938276</td>\n      <td>3.938276</td>\n      <td>2.00</td>\n      <td>...</td>\n      <td>2.00</td>\n      <td>1.00</td>\n      <td>2.98</td>\n      <td>1.00</td>\n      <td>6.09</td>\n      <td>10.78</td>\n      <td>11.27</td>\n      <td>10.98</td>\n      <td>9.02</td>\n      <td>13.11</td>\n    </tr>\n    <tr>\n      <th>A2LD1</th>\n      <td>26.84</td>\n      <td>66.72</td>\n      <td>49.18</td>\n      <td>24.41</td>\n      <td>37.27</td>\n      <td>35.56</td>\n      <td>39.78</td>\n      <td>22.900000</td>\n      <td>10.470000</td>\n      <td>30.84</td>\n      <td>...</td>\n      <td>88.49</td>\n      <td>63.68</td>\n      <td>114.16</td>\n      <td>93.55</td>\n      <td>57.49</td>\n      <td>65.92</td>\n      <td>70.96</td>\n      <td>60.60</td>\n      <td>26.51</td>\n      <td>55.53</td>\n    </tr>\n    <tr>\n      <th>A2M</th>\n      <td>1871.00</td>\n      <td>3411.51</td>\n      <td>2728.97</td>\n      <td>948.97</td>\n      <td>3011.94</td>\n      <td>2361.58</td>\n      <td>2359.99</td>\n      <td>3300.980000</td>\n      <td>1676.990000</td>\n      <td>2781.99</td>\n      <td>...</td>\n      <td>4095.95</td>\n      <td>5089.97</td>\n      <td>9421.94</td>\n      <td>8253.94</td>\n      <td>4383.91</td>\n      <td>2654.71</td>\n      <td>3267.99</td>\n      <td>3421.37</td>\n      <td>2213.87</td>\n      <td>2540.99</td>\n    </tr>\n  </tbody>\n</table>\n<p>5 rows × 242 columns</p>\n</div>"
     },
     "metadata": {},
     "execution_count": 38
    }
   ],
   "source": [
    "normalized_matrix.head()"
   ]
  },
  {
   "cell_type": "code",
   "execution_count": 39,
   "metadata": {},
   "outputs": [
    {
     "output_type": "execute_result",
     "data": {
      "text/plain": "(19944, 242)"
     },
     "metadata": {},
     "execution_count": 39
    }
   ],
   "source": [
    "normalized_matrix.shape"
   ]
  },
  {
   "cell_type": "markdown",
   "metadata": {},
   "source": [
    "# Log2 Transform"
   ]
  },
  {
   "cell_type": "code",
   "execution_count": 40,
   "metadata": {
    "collapsed": true
   },
   "outputs": [],
   "source": [
    "normalized_matrix = uf.log2(normalized_matrix)"
   ]
  },
  {
   "cell_type": "code",
   "execution_count": 41,
   "metadata": {},
   "outputs": [
    {
     "output_type": "execute_result",
     "data": {
      "text/plain": "          superior parietal lobule, right, superior bank of gyrus  \\\nA1BG                                               5.692650         \nA1BG-AS1                                           6.674828         \nA1CF                                               2.046142         \nA2LD1                                              4.799087         \nA2M                                               10.870365         \n\n          superior parietal lobule, right, superior bank of gyrus  \\\nA1BG                                               6.220717         \nA1BG-AS1                                           7.098980         \nA1CF                                               2.003602         \nA2LD1                                              6.081510         \nA2M                                               11.736618         \n\n          superior parietal lobule, left, inferior bank of gyrus  \\\nA1BG                                               5.464342        \nA1BG-AS1                                           6.415657        \nA1CF                                               2.782409        \nA2LD1                                              5.649041        \nA2M                                               11.414669        \n\n          angular gyrus, left, superior bank of gyrus  \\\nA1BG                                         5.171127   \nA1BG-AS1                                     5.831624   \nA1CF                                         1.000000   \nA2LD1                                        4.667324   \nA2M                                          9.891738   \n\n          superior frontal gyrus, right, lateral bank of gyrus  \\\nA1BG                                               6.094236      \nA1BG-AS1                                           6.513333      \nA1CF                                               2.518535      \nA2LD1                                              5.258142      \nA2M                                               11.556956      \n\n          lateral orbital gyrus, right  gyrus rectus, left  \\\nA1BG                          5.781360            5.987093   \nA1BG-AS1                      4.781884            6.640823   \nA1CF                          1.584963            1.014355   \nA2LD1                         5.192194            5.349790   \nA2M                          11.206147           11.205176   \n\n          medial orbital gyrus, left  medial orbital gyrus, left  \\\nA1BG                        5.726286                    4.123501   \nA1BG-AS1                    6.145677                    4.693208   \nA1CF                        2.304007                    2.304007   \nA2LD1                       4.578939                    3.519793   \nA2M                        11.689116                   10.712518   \n\n          gyrus rectus, left  ...  fusiform gyrus, left, bank of the its  \\\nA1BG                6.101608  ...                               7.035844   \nA1BG-AS1            6.055065  ...                               6.680746   \nA1CF                1.584963  ...                               1.584963   \nA2LD1               4.992768  ...                               6.483655   \nA2M                11.442420  ...                              12.000335   \n\n          parahippocampal gyrus, left, lateral bank of gyrus  \\\nA1BG                                               6.714246    \nA1BG-AS1                                           5.602291    \nA1CF                                               1.000000    \nA2LD1                                              6.015248    \nA2M                                               12.313725    \n\n          globus pallidus, internal segment, left  \\\nA1BG                                     7.504779   \nA1BG-AS1                                 5.104337   \nA1CF                                     1.992768   \nA2LD1                                    6.847496   \nA2M                                     13.201962   \n\n          globus pallidus, external segment, right  \\\nA1BG                                      7.167820   \nA1BG-AS1                                  4.945327   \nA1CF                                      1.000000   \nA2LD1                                     6.563006   \nA2M                                      13.011042   \n\n          parahippocampal gyrus, right, bank of the cos  \\\nA1BG                                           6.911811   \nA1BG-AS1                                       6.607626   \nA1CF                                           2.825786   \nA2LD1                                          5.870118   \nA2M                                           12.098332   \n\n          VIIIA, right, lateral hemisphere  IV, right, paravermis  \\\nA1BG                              6.627753               6.558421   \nA1BG-AS1                          6.085765               5.943453   \nA1CF                              3.558268               3.617063   \nA2LD1                             6.064366               6.169123   \nA2M                              11.374882              11.674629   \n\n          IV, right, paravermis  VIIB, left, paravermis  \\\nA1BG                   6.707083                6.397632   \nA1BG-AS1               6.633577                6.219943   \nA1CF                   3.582556                3.324811   \nA2LD1                  5.944858                4.781884   \nA2M                   11.740780               11.113006   \n\n          Crus II, left, lateral hemisphere  \nA1BG                               6.743219  \nA1BG-AS1                           6.496654  \nA1CF                               3.818646  \nA2LD1                              5.820945  \nA2M                               11.311743  \n\n[5 rows x 242 columns]",
      "text/html": "<div>\n<style scoped>\n    .dataframe tbody tr th:only-of-type {\n        vertical-align: middle;\n    }\n\n    .dataframe tbody tr th {\n        vertical-align: top;\n    }\n\n    .dataframe thead th {\n        text-align: right;\n    }\n</style>\n<table border=\"1\" class=\"dataframe\">\n  <thead>\n    <tr style=\"text-align: right;\">\n      <th></th>\n      <th>superior parietal lobule, right, superior bank of gyrus</th>\n      <th>superior parietal lobule, right, superior bank of gyrus</th>\n      <th>superior parietal lobule, left, inferior bank of gyrus</th>\n      <th>angular gyrus, left, superior bank of gyrus</th>\n      <th>superior frontal gyrus, right, lateral bank of gyrus</th>\n      <th>lateral orbital gyrus, right</th>\n      <th>gyrus rectus, left</th>\n      <th>medial orbital gyrus, left</th>\n      <th>medial orbital gyrus, left</th>\n      <th>gyrus rectus, left</th>\n      <th>...</th>\n      <th>fusiform gyrus, left, bank of the its</th>\n      <th>parahippocampal gyrus, left, lateral bank of gyrus</th>\n      <th>globus pallidus, internal segment, left</th>\n      <th>globus pallidus, external segment, right</th>\n      <th>parahippocampal gyrus, right, bank of the cos</th>\n      <th>VIIIA, right, lateral hemisphere</th>\n      <th>IV, right, paravermis</th>\n      <th>IV, right, paravermis</th>\n      <th>VIIB, left, paravermis</th>\n      <th>Crus II, left, lateral hemisphere</th>\n    </tr>\n  </thead>\n  <tbody>\n    <tr>\n      <th>A1BG</th>\n      <td>5.692650</td>\n      <td>6.220717</td>\n      <td>5.464342</td>\n      <td>5.171127</td>\n      <td>6.094236</td>\n      <td>5.781360</td>\n      <td>5.987093</td>\n      <td>5.726286</td>\n      <td>4.123501</td>\n      <td>6.101608</td>\n      <td>...</td>\n      <td>7.035844</td>\n      <td>6.714246</td>\n      <td>7.504779</td>\n      <td>7.167820</td>\n      <td>6.911811</td>\n      <td>6.627753</td>\n      <td>6.558421</td>\n      <td>6.707083</td>\n      <td>6.397632</td>\n      <td>6.743219</td>\n    </tr>\n    <tr>\n      <th>A1BG-AS1</th>\n      <td>6.674828</td>\n      <td>7.098980</td>\n      <td>6.415657</td>\n      <td>5.831624</td>\n      <td>6.513333</td>\n      <td>4.781884</td>\n      <td>6.640823</td>\n      <td>6.145677</td>\n      <td>4.693208</td>\n      <td>6.055065</td>\n      <td>...</td>\n      <td>6.680746</td>\n      <td>5.602291</td>\n      <td>5.104337</td>\n      <td>4.945327</td>\n      <td>6.607626</td>\n      <td>6.085765</td>\n      <td>5.943453</td>\n      <td>6.633577</td>\n      <td>6.219943</td>\n      <td>6.496654</td>\n    </tr>\n    <tr>\n      <th>A1CF</th>\n      <td>2.046142</td>\n      <td>2.003602</td>\n      <td>2.782409</td>\n      <td>1.000000</td>\n      <td>2.518535</td>\n      <td>1.584963</td>\n      <td>1.014355</td>\n      <td>2.304007</td>\n      <td>2.304007</td>\n      <td>1.584963</td>\n      <td>...</td>\n      <td>1.584963</td>\n      <td>1.000000</td>\n      <td>1.992768</td>\n      <td>1.000000</td>\n      <td>2.825786</td>\n      <td>3.558268</td>\n      <td>3.617063</td>\n      <td>3.582556</td>\n      <td>3.324811</td>\n      <td>3.818646</td>\n    </tr>\n    <tr>\n      <th>A2LD1</th>\n      <td>4.799087</td>\n      <td>6.081510</td>\n      <td>5.649041</td>\n      <td>4.667324</td>\n      <td>5.258142</td>\n      <td>5.192194</td>\n      <td>5.349790</td>\n      <td>4.578939</td>\n      <td>3.519793</td>\n      <td>4.992768</td>\n      <td>...</td>\n      <td>6.483655</td>\n      <td>6.015248</td>\n      <td>6.847496</td>\n      <td>6.563006</td>\n      <td>5.870118</td>\n      <td>6.064366</td>\n      <td>6.169123</td>\n      <td>5.944858</td>\n      <td>4.781884</td>\n      <td>5.820945</td>\n    </tr>\n    <tr>\n      <th>A2M</th>\n      <td>10.870365</td>\n      <td>11.736618</td>\n      <td>11.414669</td>\n      <td>9.891738</td>\n      <td>11.556956</td>\n      <td>11.206147</td>\n      <td>11.205176</td>\n      <td>11.689116</td>\n      <td>10.712518</td>\n      <td>11.442420</td>\n      <td>...</td>\n      <td>12.000335</td>\n      <td>12.313725</td>\n      <td>13.201962</td>\n      <td>13.011042</td>\n      <td>12.098332</td>\n      <td>11.374882</td>\n      <td>11.674629</td>\n      <td>11.740780</td>\n      <td>11.113006</td>\n      <td>11.311743</td>\n    </tr>\n  </tbody>\n</table>\n<p>5 rows × 242 columns</p>\n</div>"
     },
     "metadata": {},
     "execution_count": 41
    }
   ],
   "source": [
    "normalized_matrix.head()"
   ]
  },
  {
   "cell_type": "markdown",
   "metadata": {},
   "source": [
    "# Normalize Matrix (Quantile Normalize the matrix for the columns)"
   ]
  },
  {
   "cell_type": "code",
   "execution_count": 42,
   "metadata": {},
   "outputs": [
    {
     "output_type": "stream",
     "name": "stdout",
     "text": "Step 1/2 progress: 0%  1 Out of 242Step 1/2 progress: 0%  2 Out of 242Step 1/2 progress: 1%  3 Out of 242Step 1/2 progress: 1%  4 Out of 242Step 1/2 progress: 2%  5 Out of 242Step 1/2 progress: 2%  6 Out of 242Step 1/2 progress: 2%  7 Out of 242Step 1/2 progress: 3%  8 Out of 242Step 1/2 progress: 3%  9 Out of 242Step 1/2 progress: 4%  10 Out of 242Step 1/2 progress: 4%  11 Out of 242Step 1/2 progress: 4%  12 Out of 242Step 1/2 progress: 5%  13 Out of 242Step 1/2 progress: 5%  14 Out of 242Step 1/2 progress: 6%  15 Out of 242Step 1/2 progress: 6%  16 Out of 242Step 1/2 progress: 7%  17 Out of 242Step 1/2 progress: 7%  18 Out of 242Step 1/2 progress: 7%  19 Out of 242Step 1/2 progress: 8%  20 Out of 242Step 1/2 progress: 8%  21 Out of 242Step 1/2 progress: 9%  22 Out of 242Step 1/2 progress: 9%  23 Out of 242Step 1/2 progress: 9%  24 Out of 242Step 1/2 progress: 10%  25 Out of 242Step 1/2 progress: 10%  26 Out of 242Step 1/2 progress: 11%  27 Out of 242Step 1/2 progress: 11%  28 Out of 242Step 1/2 progress: 11%  29 Out of 242Step 1/2 progress: 12%  30 Out of 242Step 1/2 progress: 12%  31 Out of 242Step 1/2 progress: 13%  32 Out of 242Step 1/2 progress: 13%  33 Out of 242Step 1/2 progress: 14%  34 Out of 242Step 1/2 progress: 14%  35 Out of 242Step 1/2 progress: 14%  36 Out of 242Step 1/2 progress: 15%  37 Out of 242Step 1/2 progress: 15%  38 Out of 242Step 1/2 progress: 16%  39 Out of 242Step 1/2 progress: 16%  40 Out of 242Step 1/2 progress: 16%  41 Out of 242Step 1/2 progress: 17%  42 Out of 242Step 1/2 progress: 17%  43 Out of 242Step 1/2 progress: 18%  44 Out of 242Step 1/2 progress: 18%  45 Out of 242Step 1/2 progress: 19%  46 Out of 242Step 1/2 progress: 19%  47 Out of 242Step 1/2 progress: 19%  48 Out of 242Step 1/2 progress: 20%  49 Out of 242Step 1/2 progress: 20%  50 Out of 242Step 1/2 progress: 21%  51 Out of 242Step 1/2 progress: 21%  52 Out of 242Step 1/2 progress: 21%  53 Out of 242Step 1/2 progress: 22%  54 Out of 242Step 1/2 progress: 22%  55 Out of 242Step 1/2 progress: 23%  56 Out of 242Step 1/2 progress: 23%  57 Out of 242Step 1/2 progress: 23%  58 Out of 242Step 1/2 progress: 24%  59 Out of 242Step 1/2 progress: 24%  60 Out of 242Step 1/2 progress: 25%  61 Out of 242Step 1/2 progress: 25%  62 Out of 242Step 1/2 progress: 26%  63 Out of 242Step 1/2 progress: 26%  64 Out of 242Step 1/2 progress: 26%  65 Out of 242Step 1/2 progress: 27%  66 Out of 242Step 1/2 progress: 27%  67 Out of 242Step 1/2 progress: 28%  68 Out of 242Step 1/2 progress: 28%  69 Out of 242Step 1/2 progress: 28%  70 Out of 242Step 1/2 progress: 29%  71 Out of 242Step 1/2 progress: 29%  72 Out of 242Step 1/2 progress: 30%  73 Out of 242Step 1/2 progress: 30%  74 Out of 242Step 1/2 progress: 30%  75 Out of 242Step 1/2 progress: 31%  76 Out of 242Step 1/2 progress: 31%  77 Out of 242Step 1/2 progress: 32%  78 Out of 242Step 1/2 progress: 32%  79 Out of 242Step 1/2 progress: 33%  80 Out of 242Step 1/2 progress: 33%  81 Out of 242Step 1/2 progress: 33%  82 Out of 242Step 1/2 progress: 34%  83 Out of 242Step 1/2 progress: 34%  84 Out of 242Step 1/2 progress: 35%  85 Out of 242Step 1/2 progress: 35%  86 Out of 242Step 1/2 progress: 35%  87 Out of 242Step 1/2 progress: 36%  88 Out of 242Step 1/2 progress: 36%  89 Out of 242Step 1/2 progress: 37%  90 Out of 242Step 1/2 progress: 37%  91 Out of 242Step 1/2 progress: 38%  92 Out of 242Step 1/2 progress: 38%  93 Out of 242Step 1/2 progress: 38%  94 Out of 242Step 1/2 progress: 39%  95 Out of 242Step 1/2 progress: 39%  96 Out of 242Step 1/2 progress: 40%  97 Out of 242Step 1/2 progress: 40%  98 Out of 242Step 1/2 progress: 40%  99 Out of 242Step 1/2 progress: 41%  100 Out of 242Step 1/2 progress: 41%  101 Out of 242Step 1/2 progress: 42%  102 Out of 242Step 1/2 progress: 42%  103 Out of 242Step 1/2 progress: 42%  104 Out of 242Step 1/2 progress: 43%  105 Out of 242Step 1/2 progress: 43%  106 Out of 242Step 1/2 progress: 44%  107 Out of 242Step 1/2 progress: 44%  108 Out of 242Step 1/2 progress: 45%  109 Out of 242Step 1/2 progress: 45%  110 Out of 242Step 1/2 progress: 45%  111 Out of 242Step 1/2 progress: 46%  112 Out of 242Step 1/2 progress: 46%  113 Out of 242Step 1/2 progress: 47%  114 Out of 242Step 1/2 progress: 47%  115 Out of 242Step 1/2 progress: 47%  116 Out of 242Step 1/2 progress: 48%  117 Out of 242Step 1/2 progress: 48%  118 Out of 242Step 1/2 progress: 49%  119 Out of 242Step 1/2 progress: 49%  120 Out of 242Step 1/2 progress: 50%  121 Out of 242Step 1/2 progress: 50%  122 Out of 242Step 1/2 progress: 50%  123 Out of 242Step 1/2 progress: 51%  124 Out of 242Step 1/2 progress: 51%  125 Out of 242Step 1/2 progress: 52%  126 Out of 242Step 1/2 progress: 52%  127 Out of 242Step 1/2 progress: 52%  128 Out of 242Step 1/2 progress: 53%  129 Out of 242Step 1/2 progress: 53%  130 Out of 242Step 1/2 progress: 54%  131 Out of 242Step 1/2 progress: 54%  132 Out of 242Step 1/2 progress: 54%  133 Out of 242Step 1/2 progress: 55%  134 Out of 242Step 1/2 progress: 55%  135 Out of 242Step 1/2 progress: 56%  136 Out of 242Step 1/2 progress: 56%  137 Out of 242Step 1/2 progress: 57%  138 Out of 242Step 1/2 progress: 57%  139 Out of 242Step 1/2 progress: 57%  140 Out of 242Step 1/2 progress: 58%  141 Out of 242Step 1/2 progress: 58%  142 Out of 242Step 1/2 progress: 59%  143 Out of 242Step 1/2 progress: 59%  144 Out of 242Step 1/2 progress: 59%  145 Out of 242Step 1/2 progress: 60%  146 Out of 242Step 1/2 progress: 60%  147 Out of 242Step 1/2 progress: 61%  148 Out of 242Step 1/2 progress: 61%  149 Out of 242Step 1/2 progress: 61%  150 Out of 242Step 1/2 progress: 62%  151 Out of 242Step 1/2 progress: 62%  152 Out of 242Step 1/2 progress: 63%  153 Out of 242Step 1/2 progress: 63%  154 Out of 242Step 1/2 progress: 64%  155 Out of 242Step 1/2 progress: 64%  156 Out of 242Step 1/2 progress: 64%  157 Out of 242Step 1/2 progress: 65%  158 Out of 242Step 1/2 progress: 65%  159 Out of 242Step 1/2 progress: 66%  160 Out of 242Step 1/2 progress: 66%  161 Out of 242Step 1/2 progress: 66%  162 Out of 242Step 1/2 progress: 67%  163 Out of 242Step 1/2 progress: 67%  164 Out of 242Step 1/2 progress: 68%  165 Out of 242Step 1/2 progress: 68%  166 Out of 242Step 1/2 progress: 69%  167 Out of 242Step 1/2 progress: 69%  168 Out of 242Step 1/2 progress: 69%  169 Out of 242Step 1/2 progress: 70%  170 Out of 242Step 1/2 progress: 70%  171 Out of 242Step 1/2 progress: 71%  172 Out of 242Step 1/2 progress: 71%  173 Out of 242Step 1/2 progress: 71%  174 Out of 242Step 1/2 progress: 72%  175 Out of 242Step 1/2 progress: 72%  176 Out of 242Step 1/2 progress: 73%  177 Out of 242Step 1/2 progress: 73%  178 Out of 242Step 1/2 progress: 73%  179 Out of 242Step 1/2 progress: 74%  180 Out of 242Step 1/2 progress: 74%  181 Out of 242Step 1/2 progress: 75%  182 Out of 242Step 1/2 progress: 75%  183 Out of 242Step 1/2 progress: 76%  184 Out of 242Step 1/2 progress: 76%  185 Out of 242Step 1/2 progress: 76%  186 Out of 242Step 1/2 progress: 77%  187 Out of 242Step 1/2 progress: 77%  188 Out of 242Step 1/2 progress: 78%  189 Out of 242Step 1/2 progress: 78%  190 Out of 242Step 1/2 progress: 78%  191 Out of 242Step 1/2 progress: 79%  192 Out of 242Step 1/2 progress: 79%  193 Out of 242Step 1/2 progress: 80%  194 Out of 242Step 1/2 progress: 80%  195 Out of 242Step 1/2 progress: 80%  196 Out of 242Step 1/2 progress: 81%  197 Out of 242Step 1/2 progress: 81%  198 Out of 242Step 1/2 progress: 82%  199 Out of 242Step 1/2 progress: 82%  200 Out of 242Step 1/2 progress: 83%  201 Out of 242Step 1/2 progress: 83%  202 Out of 242Step 1/2 progress: 83%  203 Out of 242Step 1/2 progress: 84%  204 Out of 242Step 1/2 progress: 84%  205 Out of 242Step 1/2 progress: 85%  206 Out of 242Step 1/2 progress: 85%  207 Out of 242Step 1/2 progress: 85%  208 Out of 242Step 1/2 progress: 86%  209 Out of 242Step 1/2 progress: 86%  210 Out of 242Step 1/2 progress: 87%  211 Out of 242Step 1/2 progress: 87%  212 Out of 242Step 1/2 progress: 88%  213 Out of 242Step 1/2 progress: 88%  214 Out of 242Step 1/2 progress: 88%  215 Out of 242Step 1/2 progress: 89%  216 Out of 242Step 1/2 progress: 89%  217 Out of 242Step 1/2 progress: 90%  218 Out of 242Step 1/2 progress: 90%  219 Out of 242Step 1/2 progress: 90%  220 Out of 242Step 1/2 progress: 91%  221 Out of 242Step 1/2 progress: 91%  222 Out of 242Step 1/2 progress: 92%  223 Out of 242Step 1/2 progress: 92%  224 Out of 242Step 1/2 progress: 92%  225 Out of 242Step 1/2 progress: 93%  226 Out of 242Step 1/2 progress: 93%  227 Out of 242Step 1/2 progress: 94%  228 Out of 242Step 1/2 progress: 94%  229 Out of 242Step 1/2 progress: 95%  230 Out of 242Step 1/2 progress: 95%  231 Out of 242Step 1/2 progress: 95%  232 Out of 242Step 1/2 progress: 96%  233 Out of 242Step 1/2 progress: 96%  234 Out of 242Step 1/2 progress: 97%  235 Out of 242Step 1/2 progress: 97%  236 Out of 242Step 1/2 progress: 97%  237 Out of 242Step 1/2 progress: 98%  238 Out of 242Step 1/2 progress: 98%  239 Out of 242Step 1/2 progress: 99%  240 Out of 242Step 1/2 progress: 99%  241 Out of 242Step 1/2 progress: 100%  242 Out of 242Step 2/2 progress: 0%  1 Out of 242Step 2/2 progress: 0%  2 Out of 242Step 2/2 progress: 1%  3 Out of 242Step 2/2 progress: 1%  4 Out of 242Step 2/2 progress: 2%  5 Out of 242Step 2/2 progress: 2%  6 Out of 242Step 2/2 progress: 2%  7 Out of 242Step 2/2 progress: 3%  8 Out of 242Step 2/2 progress: 3%  9 Out of 242Step 2/2 progress: 4%  10 Out of 242Step 2/2 progress: 4%  11 Out of 242Step 2/2 progress: 4%  12 Out of 242Step 2/2 progress: 5%  13 Out of 242Step 2/2 progress: 5%  14 Out of 242Step 2/2 progress: 6%  15 Out of 242Step 2/2 progress: 6%  16 Out of 242Step 2/2 progress: 7%  17 Out of 242Step 2/2 progress: 7%  18 Out of 242Step 2/2 progress: 7%  19 Out of 242Step 2/2 progress: 8%  20 Out of 242Step 2/2 progress: 8%  21 Out of 242Step 2/2 progress: 9%  22 Out of 242Step 2/2 progress: 9%  23 Out of 242Step 2/2 progress: 9%  24 Out of 242Step 2/2 progress: 10%  25 Out of 242Step 2/2 progress: 10%  26 Out of 242Step 2/2 progress: 11%  27 Out of 242Step 2/2 progress: 11%  28 Out of 242Step 2/2 progress: 11%  29 Out of 242Step 2/2 progress: 12%  30 Out of 242Step 2/2 progress: 12%  31 Out of 242Step 2/2 progress: 13%  32 Out of 242Step 2/2 progress: 13%  33 Out of 242Step 2/2 progress: 14%  34 Out of 242Step 2/2 progress: 14%  35 Out of 242Step 2/2 progress: 14%  36 Out of 242Step 2/2 progress: 15%  37 Out of 242Step 2/2 progress: 15%  38 Out of 242Step 2/2 progress: 16%  39 Out of 242Step 2/2 progress: 16%  40 Out of 242Step 2/2 progress: 16%  41 Out of 242Step 2/2 progress: 17%  42 Out of 242Step 2/2 progress: 17%  43 Out of 242Step 2/2 progress: 18%  44 Out of 242Step 2/2 progress: 18%  45 Out of 242Step 2/2 progress: 19%  46 Out of 242Step 2/2 progress: 19%  47 Out of 242Step 2/2 progress: 19%  48 Out of 242Step 2/2 progress: 20%  49 Out of 242Step 2/2 progress: 20%  50 Out of 242Step 2/2 progress: 21%  51 Out of 242Step 2/2 progress: 21%  52 Out of 242Step 2/2 progress: 21%  53 Out of 242Step 2/2 progress: 22%  54 Out of 242Step 2/2 progress: 22%  55 Out of 242Step 2/2 progress: 23%  56 Out of 242Step 2/2 progress: 23%  57 Out of 242Step 2/2 progress: 23%  58 Out of 242Step 2/2 progress: 24%  59 Out of 242Step 2/2 progress: 24%  60 Out of 242Step 2/2 progress: 25%  61 Out of 242Step 2/2 progress: 25%  62 Out of 242Step 2/2 progress: 26%  63 Out of 242Step 2/2 progress: 26%  64 Out of 242Step 2/2 progress: 26%  65 Out of 242Step 2/2 progress: 27%  66 Out of 242Step 2/2 progress: 27%  67 Out of 242Step 2/2 progress: 28%  68 Out of 242Step 2/2 progress: 28%  69 Out of 242Step 2/2 progress: 28%  70 Out of 242Step 2/2 progress: 29%  71 Out of 242Step 2/2 progress: 29%  72 Out of 242Step 2/2 progress: 30%  73 Out of 242Step 2/2 progress: 30%  74 Out of 242Step 2/2 progress: 30%  75 Out of 242Step 2/2 progress: 31%  76 Out of 242Step 2/2 progress: 31%  77 Out of 242Step 2/2 progress: 32%  78 Out of 242Step 2/2 progress: 32%  79 Out of 242Step 2/2 progress: 33%  80 Out of 242Step 2/2 progress: 33%  81 Out of 242Step 2/2 progress: 33%  82 Out of 242Step 2/2 progress: 34%  83 Out of 242Step 2/2 progress: 34%  84 Out of 242Step 2/2 progress: 35%  85 Out of 242Step 2/2 progress: 35%  86 Out of 242Step 2/2 progress: 35%  87 Out of 242Step 2/2 progress: 36%  88 Out of 242Step 2/2 progress: 36%  89 Out of 242Step 2/2 progress: 37%  90 Out of 242Step 2/2 progress: 37%  91 Out of 242Step 2/2 progress: 38%  92 Out of 242Step 2/2 progress: 38%  93 Out of 242Step 2/2 progress: 38%  94 Out of 242Step 2/2 progress: 39%  95 Out of 242Step 2/2 progress: 39%  96 Out of 242Step 2/2 progress: 40%  97 Out of 242Step 2/2 progress: 40%  98 Out of 242Step 2/2 progress: 40%  99 Out of 242Step 2/2 progress: 41%  100 Out of 242Step 2/2 progress: 41%  101 Out of 242Step 2/2 progress: 42%  102 Out of 242Step 2/2 progress: 42%  103 Out of 242Step 2/2 progress: 42%  104 Out of 242Step 2/2 progress: 43%  105 Out of 242Step 2/2 progress: 43%  106 Out of 242Step 2/2 progress: 44%  107 Out of 242Step 2/2 progress: 44%  108 Out of 242Step 2/2 progress: 45%  109 Out of 242Step 2/2 progress: 45%  110 Out of 242Step 2/2 progress: 45%  111 Out of 242Step 2/2 progress: 46%  112 Out of 242Step 2/2 progress: 46%  113 Out of 242Step 2/2 progress: 47%  114 Out of 242Step 2/2 progress: 47%  115 Out of 242Step 2/2 progress: 47%  116 Out of 242Step 2/2 progress: 48%  117 Out of 242Step 2/2 progress: 48%  118 Out of 242Step 2/2 progress: 49%  119 Out of 242Step 2/2 progress: 49%  120 Out of 242Step 2/2 progress: 50%  121 Out of 242Step 2/2 progress: 50%  122 Out of 242Step 2/2 progress: 50%  123 Out of 242Step 2/2 progress: 51%  124 Out of 242Step 2/2 progress: 51%  125 Out of 242Step 2/2 progress: 52%  126 Out of 242Step 2/2 progress: 52%  127 Out of 242Step 2/2 progress: 52%  128 Out of 242Step 2/2 progress: 53%  129 Out of 242Step 2/2 progress: 53%  130 Out of 242Step 2/2 progress: 54%  131 Out of 242Step 2/2 progress: 54%  132 Out of 242Step 2/2 progress: 54%  133 Out of 242Step 2/2 progress: 55%  134 Out of 242Step 2/2 progress: 55%  135 Out of 242Step 2/2 progress: 56%  136 Out of 242Step 2/2 progress: 56%  137 Out of 242Step 2/2 progress: 57%  138 Out of 242Step 2/2 progress: 57%  139 Out of 242Step 2/2 progress: 57%  140 Out of 242Step 2/2 progress: 58%  141 Out of 242Step 2/2 progress: 58%  142 Out of 242Step 2/2 progress: 59%  143 Out of 242Step 2/2 progress: 59%  144 Out of 242Step 2/2 progress: 59%  145 Out of 242Step 2/2 progress: 60%  146 Out of 242Step 2/2 progress: 60%  147 Out of 242Step 2/2 progress: 61%  148 Out of 242Step 2/2 progress: 61%  149 Out of 242Step 2/2 progress: 61%  150 Out of 242Step 2/2 progress: 62%  151 Out of 242Step 2/2 progress: 62%  152 Out of 242Step 2/2 progress: 63%  153 Out of 242Step 2/2 progress: 63%  154 Out of 242Step 2/2 progress: 64%  155 Out of 242Step 2/2 progress: 64%  156 Out of 242Step 2/2 progress: 64%  157 Out of 242Step 2/2 progress: 65%  158 Out of 242Step 2/2 progress: 65%  159 Out of 242Step 2/2 progress: 66%  160 Out of 242Step 2/2 progress: 66%  161 Out of 242Step 2/2 progress: 66%  162 Out of 242Step 2/2 progress: 67%  163 Out of 242Step 2/2 progress: 67%  164 Out of 242Step 2/2 progress: 68%  165 Out of 242Step 2/2 progress: 68%  166 Out of 242Step 2/2 progress: 69%  167 Out of 242Step 2/2 progress: 69%  168 Out of 242Step 2/2 progress: 69%  169 Out of 242Step 2/2 progress: 70%  170 Out of 242Step 2/2 progress: 70%  171 Out of 242Step 2/2 progress: 71%  172 Out of 242Step 2/2 progress: 71%  173 Out of 242Step 2/2 progress: 71%  174 Out of 242Step 2/2 progress: 72%  175 Out of 242Step 2/2 progress: 72%  176 Out of 242Step 2/2 progress: 73%  177 Out of 242Step 2/2 progress: 73%  178 Out of 242Step 2/2 progress: 73%  179 Out of 242Step 2/2 progress: 74%  180 Out of 242Step 2/2 progress: 74%  181 Out of 242Step 2/2 progress: 75%  182 Out of 242Step 2/2 progress: 75%  183 Out of 242Step 2/2 progress: 76%  184 Out of 242Step 2/2 progress: 76%  185 Out of 242Step 2/2 progress: 76%  186 Out of 242Step 2/2 progress: 77%  187 Out of 242Step 2/2 progress: 77%  188 Out of 242Step 2/2 progress: 78%  189 Out of 242Step 2/2 progress: 78%  190 Out of 242Step 2/2 progress: 78%  191 Out of 242Step 2/2 progress: 79%  192 Out of 242Step 2/2 progress: 79%  193 Out of 242Step 2/2 progress: 80%  194 Out of 242Step 2/2 progress: 80%  195 Out of 242Step 2/2 progress: 80%  196 Out of 242Step 2/2 progress: 81%  197 Out of 242Step 2/2 progress: 81%  198 Out of 242Step 2/2 progress: 82%  199 Out of 242Step 2/2 progress: 82%  200 Out of 242Step 2/2 progress: 83%  201 Out of 242Step 2/2 progress: 83%  202 Out of 242Step 2/2 progress: 83%  203 Out of 242Step 2/2 progress: 84%  204 Out of 242Step 2/2 progress: 84%  205 Out of 242Step 2/2 progress: 85%  206 Out of 242Step 2/2 progress: 85%  207 Out of 242Step 2/2 progress: 85%  208 Out of 242Step 2/2 progress: 86%  209 Out of 242Step 2/2 progress: 86%  210 Out of 242Step 2/2 progress: 87%  211 Out of 242Step 2/2 progress: 87%  212 Out of 242Step 2/2 progress: 88%  213 Out of 242Step 2/2 progress: 88%  214 Out of 242Step 2/2 progress: 88%  215 Out of 242Step 2/2 progress: 89%  216 Out of 242Step 2/2 progress: 89%  217 Out of 242Step 2/2 progress: 90%  218 Out of 242Step 2/2 progress: 90%  219 Out of 242Step 2/2 progress: 90%  220 Out of 242Step 2/2 progress: 91%  221 Out of 242Step 2/2 progress: 91%  222 Out of 242Step 2/2 progress: 92%  223 Out of 242Step 2/2 progress: 92%  224 Out of 242Step 2/2 progress: 92%  225 Out of 242Step 2/2 progress: 93%  226 Out of 242Step 2/2 progress: 93%  227 Out of 242Step 2/2 progress: 94%  228 Out of 242Step 2/2 progress: 94%  229 Out of 242Step 2/2 progress: 95%  230 Out of 242Step 2/2 progress: 95%  231 Out of 242Step 2/2 progress: 95%  232 Out of 242Step 2/2 progress: 96%  233 Out of 242Step 2/2 progress: 96%  234 Out of 242Step 2/2 progress: 97%  235 Out of 242Step 2/2 progress: 97%  236 Out of 242Step 2/2 progress: 97%  237 Out of 242Step 2/2 progress: 98%  238 Out of 242Step 2/2 progress: 98%  239 Out of 242Step 2/2 progress: 99%  240 Out of 242Step 2/2 progress: 99%  241 Out of 242Step 2/2 progress: 100%  242 Out of 242"
    }
   ],
   "source": [
    "normalized_matrix = uf.quantileNormalize(normalized_matrix)"
   ]
  },
  {
   "cell_type": "code",
   "execution_count": 43,
   "metadata": {},
   "outputs": [
    {
     "output_type": "execute_result",
     "data": {
      "text/plain": "          superior parietal lobule, right, superior bank of gyrus  \\\nA1BG                                               5.814335         \nA1BG-AS1                                           6.787162         \nA1CF                                               2.272540         \nA2LD1                                              4.918024         \nA2M                                               10.818052         \n\n          superior parietal lobule, right, superior bank of gyrus  \\\nA1BG                                               5.764678         \nA1BG-AS1                                           6.600013         \nA1CF                                               1.961761         \nA2LD1                                              5.618904         \nA2M                                               11.164074         \n\n          superior parietal lobule, left, inferior bank of gyrus  \\\nA1BG                                               5.543387        \nA1BG-AS1                                           6.443964        \nA1CF                                               2.858834        \nA2LD1                                              5.715986        \nA2M                                               11.370205        \n\n          angular gyrus, left, superior bank of gyrus  \\\nA1BG                                         5.922453   \nA1BG-AS1                                     6.565631   \nA1CF                                         0.993705   \nA2LD1                                        5.397897   \nA2M                                         10.520038   \n\n          superior frontal gyrus, right, lateral bank of gyrus  \\\nA1BG                                               6.079485      \nA1BG-AS1                                           6.505992      \nA1CF                                               2.506328      \nA2LD1                                              5.242534      \nA2M                                               11.490873      \n\n          lateral orbital gyrus, right  gyrus rectus, left  \\\nA1BG                          6.425478            6.157764   \nA1BG-AS1                      5.476644            6.764689   \nA1CF                          1.606622            1.014306   \nA2LD1                         5.883958            5.520630   \nA2M                          11.643852           11.205594   \n\n          medial orbital gyrus, left  medial orbital gyrus, left  \\\nA1BG                        5.603096                    4.959044   \nA1BG-AS1                    6.002303                    5.550663   \nA1CF                        2.213123                    2.740729   \nA2LD1                       4.480467                    4.314778   \nA2M                        11.474877                   11.492196   \n\n          gyrus rectus, left  ...  fusiform gyrus, left, bank of the its  \\\nA1BG                6.360838  ...                               6.731761   \nA1BG-AS1            6.315380  ...                               6.370899   \nA1CF                1.530107  ...                               1.518466   \nA2LD1               5.241778  ...                               6.156091   \nA2M                11.568740  ...                              11.757689   \n\n          parahippocampal gyrus, left, lateral bank of gyrus  \\\nA1BG                                               6.591732    \nA1BG-AS1                                           5.431815    \nA1CF                                               0.995057    \nA2LD1                                              5.860566    \nA2M                                               12.330991    \n\n          globus pallidus, internal segment, left  \\\nA1BG                                     7.622731   \nA1BG-AS1                                 5.179612   \nA1CF                                     1.892076   \nA2LD1                                    6.943549   \nA2M                                     13.387116   \n\n          globus pallidus, external segment, right  \\\nA1BG                                      6.994467   \nA1BG-AS1                                  4.759179   \nA1CF                                      0.995057   \nA2LD1                                     6.366935   \nA2M                                      12.891794   \n\n          parahippocampal gyrus, right, bank of the cos  \\\nA1BG                                           6.754554   \nA1BG-AS1                                       6.400647   \nA1CF                                           2.679367   \nA2LD1                                          5.650747   \nA2M                                           12.019407   \n\n          VIIIA, right, lateral hemisphere  IV, right, paravermis  \\\nA1BG                              6.761738               6.505992   \nA1BG-AS1                          6.218059               5.896294   \nA1CF                              3.701940               3.655742   \nA2LD1                             6.205259               6.101906   \nA2M                              11.340221              11.454073   \n\n          IV, right, paravermis  VIIB, left, paravermis  \\\nA1BG                   6.622346                6.712980   \nA1BG-AS1               6.549653                6.554084   \nA1CF                   3.511718                3.663745   \nA2LD1                  5.860566                5.154044   \nA2M                   11.504804               11.261822   \n\n          Crus II, left, lateral hemisphere  \nA1BG                               6.817244  \nA1BG-AS1                           6.598099  \nA1CF                               4.021897  \nA2LD1                              5.953363  \nA2M                               11.190165  \n\n[5 rows x 242 columns]",
      "text/html": "<div>\n<style scoped>\n    .dataframe tbody tr th:only-of-type {\n        vertical-align: middle;\n    }\n\n    .dataframe tbody tr th {\n        vertical-align: top;\n    }\n\n    .dataframe thead th {\n        text-align: right;\n    }\n</style>\n<table border=\"1\" class=\"dataframe\">\n  <thead>\n    <tr style=\"text-align: right;\">\n      <th></th>\n      <th>superior parietal lobule, right, superior bank of gyrus</th>\n      <th>superior parietal lobule, right, superior bank of gyrus</th>\n      <th>superior parietal lobule, left, inferior bank of gyrus</th>\n      <th>angular gyrus, left, superior bank of gyrus</th>\n      <th>superior frontal gyrus, right, lateral bank of gyrus</th>\n      <th>lateral orbital gyrus, right</th>\n      <th>gyrus rectus, left</th>\n      <th>medial orbital gyrus, left</th>\n      <th>medial orbital gyrus, left</th>\n      <th>gyrus rectus, left</th>\n      <th>...</th>\n      <th>fusiform gyrus, left, bank of the its</th>\n      <th>parahippocampal gyrus, left, lateral bank of gyrus</th>\n      <th>globus pallidus, internal segment, left</th>\n      <th>globus pallidus, external segment, right</th>\n      <th>parahippocampal gyrus, right, bank of the cos</th>\n      <th>VIIIA, right, lateral hemisphere</th>\n      <th>IV, right, paravermis</th>\n      <th>IV, right, paravermis</th>\n      <th>VIIB, left, paravermis</th>\n      <th>Crus II, left, lateral hemisphere</th>\n    </tr>\n  </thead>\n  <tbody>\n    <tr>\n      <th>A1BG</th>\n      <td>5.814335</td>\n      <td>5.764678</td>\n      <td>5.543387</td>\n      <td>5.922453</td>\n      <td>6.079485</td>\n      <td>6.425478</td>\n      <td>6.157764</td>\n      <td>5.603096</td>\n      <td>4.959044</td>\n      <td>6.360838</td>\n      <td>...</td>\n      <td>6.731761</td>\n      <td>6.591732</td>\n      <td>7.622731</td>\n      <td>6.994467</td>\n      <td>6.754554</td>\n      <td>6.761738</td>\n      <td>6.505992</td>\n      <td>6.622346</td>\n      <td>6.712980</td>\n      <td>6.817244</td>\n    </tr>\n    <tr>\n      <th>A1BG-AS1</th>\n      <td>6.787162</td>\n      <td>6.600013</td>\n      <td>6.443964</td>\n      <td>6.565631</td>\n      <td>6.505992</td>\n      <td>5.476644</td>\n      <td>6.764689</td>\n      <td>6.002303</td>\n      <td>5.550663</td>\n      <td>6.315380</td>\n      <td>...</td>\n      <td>6.370899</td>\n      <td>5.431815</td>\n      <td>5.179612</td>\n      <td>4.759179</td>\n      <td>6.400647</td>\n      <td>6.218059</td>\n      <td>5.896294</td>\n      <td>6.549653</td>\n      <td>6.554084</td>\n      <td>6.598099</td>\n    </tr>\n    <tr>\n      <th>A1CF</th>\n      <td>2.272540</td>\n      <td>1.961761</td>\n      <td>2.858834</td>\n      <td>0.993705</td>\n      <td>2.506328</td>\n      <td>1.606622</td>\n      <td>1.014306</td>\n      <td>2.213123</td>\n      <td>2.740729</td>\n      <td>1.530107</td>\n      <td>...</td>\n      <td>1.518466</td>\n      <td>0.995057</td>\n      <td>1.892076</td>\n      <td>0.995057</td>\n      <td>2.679367</td>\n      <td>3.701940</td>\n      <td>3.655742</td>\n      <td>3.511718</td>\n      <td>3.663745</td>\n      <td>4.021897</td>\n    </tr>\n    <tr>\n      <th>A2LD1</th>\n      <td>4.918024</td>\n      <td>5.618904</td>\n      <td>5.715986</td>\n      <td>5.397897</td>\n      <td>5.242534</td>\n      <td>5.883958</td>\n      <td>5.520630</td>\n      <td>4.480467</td>\n      <td>4.314778</td>\n      <td>5.241778</td>\n      <td>...</td>\n      <td>6.156091</td>\n      <td>5.860566</td>\n      <td>6.943549</td>\n      <td>6.366935</td>\n      <td>5.650747</td>\n      <td>6.205259</td>\n      <td>6.101906</td>\n      <td>5.860566</td>\n      <td>5.154044</td>\n      <td>5.953363</td>\n    </tr>\n    <tr>\n      <th>A2M</th>\n      <td>10.818052</td>\n      <td>11.164074</td>\n      <td>11.370205</td>\n      <td>10.520038</td>\n      <td>11.490873</td>\n      <td>11.643852</td>\n      <td>11.205594</td>\n      <td>11.474877</td>\n      <td>11.492196</td>\n      <td>11.568740</td>\n      <td>...</td>\n      <td>11.757689</td>\n      <td>12.330991</td>\n      <td>13.387116</td>\n      <td>12.891794</td>\n      <td>12.019407</td>\n      <td>11.340221</td>\n      <td>11.454073</td>\n      <td>11.504804</td>\n      <td>11.261822</td>\n      <td>11.190165</td>\n    </tr>\n  </tbody>\n</table>\n<p>5 rows × 242 columns</p>\n</div>"
     },
     "metadata": {},
     "execution_count": 43
    }
   ],
   "source": [
    "normalized_matrix.head()"
   ]
  },
  {
   "cell_type": "markdown",
   "metadata": {},
   "source": [
    "# Normalize Matrix (z-score the rows)"
   ]
  },
  {
   "cell_type": "code",
   "execution_count": 44,
   "metadata": {},
   "outputs": [
    {
     "output_type": "stream",
     "name": "stdout",
     "text": "Progress: 0%  1 Out of 19944Progress: 0%  2 Out of 19944Progress: 0%  3 Out of 19944Progress: 0%  4 Out of 19944Progress: 0%  5 Out of 19944Progress: 0%  6 Out of 19944Progress: 0%  7 Out of 19944Progress: 0%  8 Out of 19944Progress: 0%  9 Out of 19944Progress: 0%  10 Out of 19944Progress: 0%  11 Out of 19944Progress: 0%  12 Out of 19944Progress: 0%  13 Out of 19944Progress: 0%  14 Out of 19944Progress: 0%  15 Out of 19944Progress: 0%  16 Out of 19944Progress: 0%  17 Out of 19944Progress: 0%  18 Out of 19944Progress: 0%  19 Out of 19944Progress: 0%  20 Out of 19944Progress: 0%  21 Out of 19944Progress: 0%  22 Out of 19944Progress: 0%  23 Out of 19944Progress: 0%  24 Out of 19944Progress: 0%  25 Out of 19944Progress: 0%  26 Out of 19944Progress: 0%  27 Out of 19944Progress: 0%  28 Out of 19944Progress: 0%  29 Out of 19944Progress: 0%  30 Out of 19944Progress: 0%  31 Out of 19944Progress: 0%  32 Out of 19944Progress: 0%  33 Out of 19944Progress: 0%  34 Out of 19944Progress: 0%  35 Out of 19944Progress: 0%  36 Out of 19944Progress: 0%  37 Out of 19944Progress: 0%  38 Out of 19944Progress: 0%  39 Out of 19944Progress: 0%  40 Out of 19944Progress: 0%  41 Out of 19944Progress: 0%  42 Out of 19944Progress: 0%  43 Out of 19944Progress: 0%  44 Out of 19944Progress: 0%  45 Out of 19944Progress: 0%  46 Out of 19944Progress: 0%  47 Out of 19944Progress: 0%  48 Out of 19944Progress: 0%  49 Out of 19944Progress: 0%  50 Out of 19944Progress: 0%  51 Out of 19944Progress: 0%  52 Out of 19944Progress: 0%  53 Out of 19944Progress: 0%  54 Out of 19944Progress: 0%  55 Out of 19944Progress: 0%  56 Out of 19944Progress: 0%  57 Out of 19944Progress: 0%  58 Out of 19944Progress: 0%  59 Out of 19944Progress: 0%  60 Out of 19944Progress: 0%  61 Out of 19944Progress: 0%  62 Out of 19944Progress: 0%  63 Out of 19944Progress: 0%  64 Out of 19944Progress: 0%  65 Out of 19944Progress: 0%  66 Out of 19944Progress: 0%  67 Out of 19944Progress: 0%  68 Out of 19944Progress: 0%  69 Out of 19944Progress: 0%  70 Out of 19944Progress: 0%  71 Out of 19944Progress: 0%  72 Out of 19944Progress: 0%  73 Out of 19944Progress: 0%  74 Out of 19944Progress: 0%  75 Out of 19944Progress: 0%  76 Out of 19944Progress: 0%  77 Out of 19944Progress: 0%  78 Out of 19944Progress: 0%  79 Out of 19944Progress: 0%  80 Out of 19944Progress: 0%  81 Out of 19944Progress: 0%  82 Out of 19944Progress: 0%  83 Out of 19944Progress: 0%  84 Out of 19944Progress: 0%  85 Out of 19944Progress: 0%  86 Out of 19944Progress: 0%  87 Out of 19944Progress: 0%  88 Out of 19944Progress: 0%  89 Out of 19944Progress: 0%  90 Out of 19944Progress: 0%  91 Out of 19944Progress: 0%  92 Out of 19944Progress: 0%  93 Out of 19944Progress: 0%  94 Out of 19944Progress: 0%  95 Out of 19944Progress: 0%  96 Out of 19944Progress: 0%  97 Out of 19944Progress: 0%  98 Out of 19944Progress: 0%  99 Out of 19944Progress: 0%  100 Out of 19944Progress: 0%  101 Out of 19944Progress: 0%  102 Out of 19944Progress: 0%  103 Out of 19944Progress: 0%  104 Out of 19944Progress: 0%  105 Out of 19944Progress: 0%  106 Out of 19944Progress: 0%  107 Out of 19944Progress: 0%  108 Out of 19944Progress: 0%  109 Out of 19944Progress: 0%  110 Out of 19944Progress: 0%  111 Out of 19944Progress: 0%  112 Out of 19944Progress: 0%  113 Out of 19944Progress: 0%  114 Out of 19944Progress: 0%  115 Out of 19944Progress: 0%  116 Out of 19944Progress: 0%  117 Out of 19944Progress: 0%  118 Out of 19944Progress: 0%  119 Out of 19944Progress: 0%  120 Out of 19944Progress: 0%  121 Out of 19944Progress: 0%  122 Out of 19944Progress: 0%  123 Out of 19944Progress: 0%  124 Out of 19944Progress: 0%  125 Out of 19944Progress: 0%  126 Out of 19944Progress: 0%  127 Out of 19944Progress: 0%  128 Out of 19944Progress: 0%  129 Out of 19944Progress: 0%  130 Out of 19944Progress: 0%  131 Out of 19944Progress: 0%  132 Out of 19944Progress: 0%  133 Out of 19944Progress: 0%  134 Out of 19944Progress: 0%  135 Out of 19944Progress: 0%  136 Out of 19944Progress: 0%  137 Out of 19944Progress: 0%  138 Out of 19944Progress: 0%  139 Out of 19944Progress: 0%  140 Out of 19944Progress: 0%  141 Out of 19944Progress: 0%  142 Out of 19944Progress: 0%  143 Out of 19944Progress: 0%  144 Out of 19944Progress: 0%  145 Out of 19944Progress: 0%  146 Out of 19944Progress: 0%  147 Out of 19944Progress: 0%  148 Out of 19944Progress: 0%  149 Out of 19944Progress: 0%  150 Out of 19944Progress: 0%  151 Out of 19944Progress: 0%  152 Out of 19944Progress: 0%  153 Out of 19944Progress: 0%  154 Out of 19944Progress: 0%  155 Out of 19944Progress: 0%  156 Out of 19944Progress: 0%  157 Out of 19944Progress: 0%  158 Out of 19944Progress: 0%  159 Out of 19944Progress: 0%  160 Out of 19944Progress: 0%  161 Out of 19944Progress: 0%  162 Out of 19944Progress: 0%  163 Out of 19944Progress: 0%  164 Out of 19944Progress: 0%  165 Out of 19944Progress: 0%  166 Out of 19944Progress: 0%  167 Out of 19944Progress: 0%  168 Out of 19944Progress: 0%  169 Out of 19944Progress: 0%  170 Out of 19944Progress: 0%  171 Out of 19944Progress: 0%  172 Out of 19944Progress: 0%  173 Out of 19944Progress: 0%  174 Out of 19944Progress: 0%  175 Out of 19944Progress: 0%  176 Out of 19944Progress: 0%  177 Out of 19944Progress: 0%  178 Out of 19944Progress: 0%  179 Out of 19944Progress: 0%  180 Out of 19944Progress: 0%  181 Out of 19944Progress: 0%  182 Out of 19944Progress: 0%  183 Out of 19944Progress: 0%  184 Out of 19944Progress: 0%  185 Out of 19944Progress: 0%  186 Out of 19944Progress: 0%  187 Out of 19944Progress: 0%  188 Out of 19944Progress: 0%  189 Out of 19944Progress: 0%  190 Out of 19944Progress: 0%  191 Out of 19944Progress: 0%  192 Out of 19944Progress: 0%  193 Out of 19944Progress: 0%  194 Out of 19944Progress: 0%  195 Out of 19944Progress: 0%  196 Out of 19944Progress: 0%  197 Out of 19944Progress: 0%  198 Out of 19944Progress: 0%  199 Out of 19944Progress: 1%  200 Out of 19944Progress: 1%  201 Out of 19944Progress: 1%  202 Out of 19944Progress: 1%  203 Out of 19944Progress: 1%  204 Out of 19944Progress: 1%  205 Out of 19944Progress: 1%  206 Out of 19944Progress: 1%  207 Out of 19944Progress: 1%  208 Out of 19944Progress: 1%  209 Out of 19944Progress: 1%  210 Out of 19944Progress: 1%  211 Out of 19944Progress: 1%  212 Out of 19944Progress: 1%  213 Out of 19944Progress: 1%  214 Out of 19944Progress: 1%  215 Out of 19944Progress: 1%  216 Out of 19944Progress: 1%  217 Out of 19944Progress: 1%  218 Out of 19944Progress: 1%  219 Out of 19944Progress: 1%  220 Out of 19944Progress: 1%  221 Out of 19944Progress: 1%  222 Out of 19944Progress: 1%  223 Out of 19944Progress: 1%  224 Out of 19944Progress: 1%  225 Out of 19944Progress: 1%  226 Out of 19944Progress: 1%  227 Out of 19944Progress: 1%  228 Out of 19944Progress: 1%  229 Out of 19944Progress: 1%  230 Out of 19944Progress: 1%  231 Out of 19944Progress: 1%  232 Out of 19944Progress: 1%  233 Out of 19944Progress: 1%  234 Out of 19944Progress: 1%  235 Out of 19944Progress: 1%  236 Out of 19944Progress: 1%  237 Out of 19944Progress: 1%  238 Out of 19944Progress: 1%  239 Out of 19944Progress: 1%  240 Out of 19944Progress: 1%  241 Out of 19944Progress: 1%  242 Out of 19944Progress: 1%  243 Out of 19944Progress: 1%  244 Out of 19944Progress: 1%  245 Out of 19944Progress: 1%  246 Out of 19944Progress: 1%  247 Out of 19944Progress: 1%  248 Out of 19944Progress: 1%  249 Out of 19944Progress: 1%  250 Out of 19944Progress: 1%  251 Out of 19944Progress: 1%  252 Out of 19944Progress: 1%  253 Out of 19944Progress: 1%  254 Out of 19944Progress: 1%  255 Out of 19944Progress: 1%  256 Out of 19944Progress: 1%  257 Out of 19944Progress: 1%  258 Out of 19944Progress: 1%  259 Out of 19944Progress: 1%  260 Out of 19944Progress: 1%  261 Out of 19944Progress: 1%  262 Out of 19944Progress: 1%  263 Out of 19944Progress: 1%  264 Out of 19944Progress: 1%  265 Out of 19944Progress: 1%  266 Out of 19944Progress: 1%  267 Out of 19944Progress: 1%  268 Out of 19944Progress: 1%  269 Out of 19944Progress: 1%  270 Out of 19944Progress: 1%  271 Out of 19944Progress: 1%  272 Out of 19944Progress: 1%  273 Out of 19944Progress: 1%  274 Out of 19944Progress: 1%  275 Out of 19944Progress: 1%  276 Out of 19944Progress: 1%  277 Out of 19944Progress: 1%  278 Out of 19944Progress: 1%  279 Out of 19944Progress: 1%  280 Out of 19944Progress: 1%  281 Out of 19944Progress: 1%  282 Out of 19944Progress: 1%  283 Out of 19944Progress: 1%  284 Out of 19944Progress: 1%  285 Out of 19944Progress: 1%  286 Out of 19944Progress: 1%  287 Out of 19944Progress: 1%  288 Out of 19944Progress: 1%  289 Out of 19944Progress: 1%  290 Out of 19944Progress: 1%  291 Out of 19944Progress: 1%  292 Out of 19944Progress: 1%  293 Out of 19944Progress: 1%  294 Out of 19944Progress: 1%  295 Out of 19944Progress: 1%  296 Out of 19944Progress: 1%  297 Out of 19944Progress: 1%  298 Out of 19944Progress: 1%  299 Out of 19944Progress: 1%  300 Out of 19944Progress: 1%  301 Out of 19944Progress: 1%  302 Out of 19944Progress: 1%  303 Out of 19944Progress: 1%  304 Out of 19944Progress: 1%  305 Out of 19944Progress: 1%  306 Out of 19944Progress: 1%  307 Out of 19944Progress: 1%  308 Out of 19944Progress: 1%  309 Out of 19944Progress: 1%  310 Out of 19944Progress: 1%  311 Out of 19944Progress: 1%  312 Out of 19944Progress: 1%  313 Out of 19944Progress: 1%  314 Out of 19944Progress: 1%  315 Out of 19944Progress: 1%  316 Out of 19944Progress: 1%  317 Out of 19944Progress: 1%  318 Out of 19944Progress: 1%  319 Out of 19944Progress: 1%  320 Out of 19944Progress: 1%  321 Out of 19944Progress: 1%  322 Out of 19944Progress: 1%  323 Out of 19944Progress: 1%  324 Out of 19944Progress: 1%  325 Out of 19944Progress: 1%  326 Out of 19944Progress: 1%  327 Out of 19944Progress: 1%  328 Out of 19944Progress: 1%  329 Out of 19944Progress: 1%  330 Out of 19944Progress: 1%  331 Out of 19944Progress: 1%  332 Out of 19944Progress: 1%  333 Out of 19944Progress: 1%  334 Out of 19944Progress: 1%  335 Out of 19944Progress: 1%  336 Out of 19944Progress: 1%  337 Out of 19944Progress: 1%  338 Out of 19944Progress: 1%  339 Out of 19944Progress: 1%  340 Out of 19944Progress: 1%  341 Out of 19944Progress: 1%  342 Out of 19944Progress: 1%  343 Out of 19944Progress: 1%  344 Out of 19944Progress: 1%  345 Out of 19944Progress: 1%  346 Out of 19944Progress: 1%  347 Out of 19944Progress: 1%  348 Out of 19944Progress: 1%  349 Out of 19944Progress: 1%  350 Out of 19944Progress: 1%  351 Out of 19944Progress: 1%  352 Out of 19944Progress: 1%  353 Out of 19944Progress: 1%  354 Out of 19944Progress: 1%  355 Out of 19944Progress: 1%  356 Out of 19944Progress: 1%  357 Out of 19944Progress: 1%  358 Out of 19944Progress: 1%  359 Out of 19944Progress: 1%  360 Out of 19944Progress: 1%  361 Out of 19944Progress: 1%  362 Out of 19944Progress: 1%  363 Out of 19944Progress: 1%  364 Out of 19944Progress: 1%  365 Out of 19944Progress: 1%  366 Out of 19944Progress: 1%  367 Out of 19944Progress: 1%  368 Out of 19944Progress: 1%  369 Out of 19944Progress: 1%  370 Out of 19944Progress: 1%  371 Out of 19944Progress: 1%  372 Out of 19944Progress: 1%  373 Out of 19944Progress: 1%  374 Out of 19944Progress: 1%  375 Out of 19944Progress: 1%  376 Out of 19944Progress: 1%  377 Out of 19944Progress: 1%  378 Out of 19944Progress: 1%  379 Out of 19944Progress: 1%  380 Out of 19944Progress: 1%  381 Out of 19944Progress: 1%  382 Out of 19944Progress: 1%  383 Out of 19944Progress: 1%  384 Out of 19944Progress: 1%  385 Out of 19944Progress: 1%  386 Out of 19944Progress: 1%  387 Out of 19944Progress: 1%  388 Out of 19944Progress: 1%  389 Out of 19944Progress: 1%  390 Out of 19944Progress: 1%  391 Out of 19944Progress: 1%  392 Out of 19944Progress: 1%  393 Out of 19944Progress: 1%  394 Out of 19944Progress: 1%  395 Out of 19944Progress: 1%  396 Out of 19944Progress: 1%  397 Out of 19944Progress: 1%  398 Out of 19944Progress: 2%  399 Out of 19944Progress: 2%  400 Out of 19944Progress: 2%  401 Out of 19944Progress: 2%  402 Out of 19944Progress: 2%  403 Out of 19944Progress: 2%  404 Out of 19944Progress: 2%  405 Out of 19944Progress: 2%  406 Out of 19944Progress: 2%  407 Out of 19944Progress: 2%  408 Out of 19944Progress: 2%  409 Out of 19944Progress: 2%  410 Out of 19944Progress: 2%  411 Out of 19944Progress: 2%  412 Out of 19944Progress: 2%  413 Out of 19944Progress: 2%  414 Out of 19944Progress: 2%  415 Out of 19944Progress: 2%  416 Out of 19944Progress: 2%  417 Out of 19944Progress: 2%  418 Out of 19944Progress: 2%  419 Out of 19944Progress: 2%  420 Out of 19944Progress: 2%  421 Out of 19944Progress: 2%  422 Out of 19944Progress: 2%  423 Out of 19944Progress: 2%  424 Out of 19944Progress: 2%  425 Out of 19944Progress: 2%  426 Out of 19944Progress: 2%  427 Out of 19944Progress: 2%  428 Out of 19944Progress: 2%  429 Out of 19944Progress: 2%  430 Out of 19944Progress: 2%  431 Out of 19944Progress: 2%  432 Out of 19944Progress: 2%  433 Out of 19944Progress: 2%  434 Out of 19944Progress: 2%  435 Out of 19944Progress: 2%  436 Out of 19944Progress: 2%  437 Out of 19944Progress: 2%  438 Out of 19944Progress: 2%  439 Out of 19944Progress: 2%  440 Out of 19944Progress: 2%  441 Out of 19944Progress: 2%  442 Out of 19944Progress: 2%  443 Out of 19944Progress: 2%  444 Out of 19944Progress: 2%  445 Out of 19944Progress: 2%  446 Out of 19944Progress: 2%  447 Out of 19944Progress: 2%  448 Out of 19944Progress: 2%  449 Out of 19944Progress: 2%  450 Out of 19944Progress: 2%  451 Out of 19944Progress: 2%  452 Out of 19944Progress: 2%  453 Out of 19944Progress: 2%  454 Out of 19944Progress: 2%  455 Out of 19944Progress: 2%  456 Out of 19944Progress: 2%  457 Out of 19944Progress: 2%  458 Out of 19944Progress: 2%  459 Out of 19944Progress: 2%  460 Out of 19944Progress: 2%  461 Out of 19944Progress: 2%  462 Out of 19944Progress: 2%  463 Out of 19944Progress: 2%  464 Out of 19944Progress: 2%  465 Out of 19944Progress: 2%  466 Out of 19944Progress: 2%  467 Out of 19944Progress: 2%  468 Out of 19944Progress: 2%  469 Out of 19944Progress: 2%  470 Out of 19944Progress: 2%  471 Out of 19944Progress: 2%  472 Out of 19944Progress: 2%  473 Out of 19944Progress: 2%  474 Out of 19944Progress: 2%  475 Out of 19944Progress: 2%  476 Out of 19944Progress: 2%  477 Out of 19944Progress: 2%  478 Out of 19944Progress: 2%  479 Out of 19944Progress: 2%  480 Out of 19944Progress: 2%  481 Out of 19944Progress: 2%  482 Out of 19944Progress: 2%  483 Out of 19944Progress: 2%  484 Out of 19944Progress: 2%  485 Out of 19944Progress: 2%  486 Out of 19944Progress: 2%  487 Out of 19944Progress: 2%  488 Out of 19944Progress: 2%  489 Out of 19944Progress: 2%  490 Out of 19944Progress: 2%  491 Out of 19944Progress: 2%  492 Out of 19944Progress: 2%  493 Out of 19944Progress: 2%  494 Out of 19944Progress: 2%  495 Out of 19944Progress: 2%  496 Out of 19944Progress: 2%  497 Out of 19944Progress: 2%  498 Out of 19944Progress: 2%  499 Out of 19944Progress: 2%  500 Out of 19944Progress: 2%  501 Out of 19944Progress: 2%  502 Out of 19944Progress: 2%  503 Out of 19944Progress: 2%  504 Out of 19944Progress: 2%  505 Out of 19944Progress: 2%  506 Out of 19944Progress: 2%  507 Out of 19944Progress: 2%  508 Out of 19944Progress: 2%  509 Out of 19944Progress: 2%  510 Out of 19944Progress: 2%  511 Out of 19944Progress: 2%  512 Out of 19944Progress: 2%  513 Out of 19944Progress: 2%  514 Out of 19944Progress: 2%  515 Out of 19944Progress: 2%  516 Out of 19944Progress: 2%  517 Out of 19944Progress: 2%  518 Out of 19944Progress: 2%  519 Out of 19944Progress: 2%  520 Out of 19944Progress: 2%  521 Out of 19944Progress: 2%  522 Out of 19944Progress: 2%  523 Out of 19944Progress: 2%  524 Out of 19944Progress: 2%  525 Out of 19944Progress: 2%  526 Out of 19944Progress: 2%  527 Out of 19944Progress: 2%  528 Out of 19944Progress: 2%  529 Out of 19944Progress: 2%  530 Out of 19944Progress: 2%  531 Out of 19944Progress: 2%  532 Out of 19944Progress: 2%  533 Out of 19944Progress: 2%  534 Out of 19944Progress: 2%  535 Out of 19944Progress: 2%  536 Out of 19944Progress: 2%  537 Out of 19944Progress: 2%  538 Out of 19944Progress: 2%  539 Out of 19944Progress: 2%  540 Out of 19944Progress: 2%  541 Out of 19944Progress: 2%  542 Out of 19944Progress: 2%  543 Out of 19944Progress: 2%  544 Out of 19944Progress: 2%  545 Out of 19944Progress: 2%  546 Out of 19944Progress: 2%  547 Out of 19944Progress: 2%  548 Out of 19944Progress: 2%  549 Out of 19944Progress: 2%  550 Out of 19944Progress: 2%  551 Out of 19944Progress: 2%  552 Out of 19944Progress: 2%  553 Out of 19944Progress: 2%  554 Out of 19944Progress: 2%  555 Out of 19944Progress: 2%  556 Out of 19944Progress: 2%  557 Out of 19944Progress: 2%  558 Out of 19944Progress: 2%  559 Out of 19944Progress: 2%  560 Out of 19944Progress: 2%  561 Out of 19944Progress: 2%  562 Out of 19944Progress: 2%  563 Out of 19944Progress: 2%  564 Out of 19944Progress: 2%  565 Out of 19944Progress: 2%  566 Out of 19944Progress: 2%  567 Out of 19944Progress: 2%  568 Out of 19944Progress: 2%  569 Out of 19944Progress: 2%  570 Out of 19944Progress: 2%  571 Out of 19944Progress: 2%  572 Out of 19944Progress: 2%  573 Out of 19944Progress: 2%  574 Out of 19944Progress: 2%  575 Out of 19944Progress: 2%  576 Out of 19944Progress: 2%  577 Out of 19944Progress: 2%  578 Out of 19944Progress: 2%  579 Out of 19944Progress: 2%  580 Out of 19944Progress: 2%  581 Out of 19944Progress: 2%  582 Out of 19944Progress: 2%  583 Out of 19944Progress: 2%  584 Out of 19944Progress: 2%  585 Out of 19944Progress: 2%  586 Out of 19944Progress: 2%  587 Out of 19944Progress: 2%  588 Out of 19944Progress: 2%  589 Out of 19944Progress: 2%  590 Out of 19944Progress: 2%  591 Out of 19944Progress: 2%  592 Out of 19944Progress: 2%  593 Out of 19944Progress: 2%  594 Out of 19944Progress: 2%  595 Out of 19944Progress: 2%  596 Out of 19944Progress: 2%  597 Out of 19944Progress: 2%  598 Out of 19944Progress: 3%  599 Out of 19944Progress: 3%  600 Out of 19944Progress: 3%  601 Out of 19944Progress: 3%  602 Out of 19944Progress: 3%  603 Out of 19944Progress: 3%  604 Out of 19944Progress: 3%  605 Out of 19944Progress: 3%  606 Out of 19944Progress: 3%  607 Out of 19944Progress: 3%  608 Out of 19944Progress: 3%  609 Out of 19944Progress: 3%  610 Out of 19944Progress: 3%  611 Out of 19944Progress: 3%  612 Out of 19944Progress: 3%  613 Out of 19944Progress: 3%  614 Out of 19944Progress: 3%  615 Out of 19944Progress: 3%  616 Out of 19944Progress: 3%  617 Out of 19944Progress: 3%  618 Out of 19944Progress: 3%  619 Out of 19944Progress: 3%  620 Out of 19944Progress: 3%  621 Out of 19944Progress: 3%  622 Out of 19944Progress: 3%  623 Out of 19944Progress: 3%  624 Out of 19944Progress: 3%  625 Out of 19944Progress: 3%  626 Out of 19944Progress: 3%  627 Out of 19944Progress: 3%  628 Out of 19944Progress: 3%  629 Out of 19944Progress: 3%  630 Out of 19944Progress: 3%  631 Out of 19944Progress: 3%  632 Out of 19944Progress: 3%  633 Out of 19944Progress: 3%  634 Out of 19944Progress: 3%  635 Out of 19944Progress: 3%  636 Out of 19944Progress: 3%  637 Out of 19944Progress: 3%  638 Out of 19944Progress: 3%  639 Out of 19944Progress: 3%  640 Out of 19944Progress: 3%  641 Out of 19944Progress: 3%  642 Out of 19944Progress: 3%  643 Out of 19944Progress: 3%  644 Out of 19944Progress: 3%  645 Out of 19944Progress: 3%  646 Out of 19944Progress: 3%  647 Out of 19944Progress: 3%  648 Out of 19944Progress: 3%  649 Out of 19944Progress: 3%  650 Out of 19944Progress: 3%  651 Out of 19944Progress: 3%  652 Out of 19944Progress: 3%  653 Out of 19944Progress: 3%  654 Out of 19944Progress: 3%  655 Out of 19944Progress: 3%  656 Out of 19944Progress: 3%  657 Out of 19944Progress: 3%  658 Out of 19944Progress: 3%  659 Out of 19944Progress: 3%  660 Out of 19944Progress: 3%  661 Out of 19944Progress: 3%  662 Out of 19944Progress: 3%  663 Out of 19944Progress: 3%  664 Out of 19944Progress: 3%  665 Out of 19944Progress: 3%  666 Out of 19944Progress: 3%  667 Out of 19944Progress: 3%  668 Out of 19944Progress: 3%  669 Out of 19944Progress: 3%  670 Out of 19944Progress: 3%  671 Out of 19944Progress: 3%  672 Out of 19944Progress: 3%  673 Out of 19944Progress: 3%  674 Out of 19944Progress: 3%  675 Out of 19944Progress: 3%  676 Out of 19944Progress: 3%  677 Out of 19944Progress: 3%  678 Out of 19944Progress: 3%  679 Out of 19944Progress: 3%  680 Out of 19944Progress: 3%  681 Out of 19944Progress: 3%  682 Out of 19944Progress: 3%  683 Out of 19944Progress: 3%  684 Out of 19944Progress: 3%  685 Out of 19944Progress: 3%  686 Out of 19944Progress: 3%  687 Out of 19944Progress: 3%  688 Out of 19944Progress: 3%  689 Out of 19944Progress: 3%  690 Out of 19944Progress: 3%  691 Out of 19944Progress: 3%  692 Out of 19944Progress: 3%  693 Out of 19944Progress: 3%  694 Out of 19944Progress: 3%  695 Out of 19944Progress: 3%  696 Out of 19944Progress: 3%  697 Out of 19944Progress: 3%  698 Out of 19944Progress: 3%  699 Out of 19944Progress: 3%  700 Out of 19944Progress: 3%  701 Out of 19944Progress: 3%  702 Out of 19944Progress: 3%  703 Out of 19944Progress: 3%  704 Out of 19944Progress: 3%  705 Out of 19944Progress: 3%  706 Out of 19944Progress: 3%  707 Out of 19944Progress: 3%  708 Out of 19944Progress: 3%  709 Out of 19944Progress: 3%  710 Out of 19944Progress: 3%  711 Out of 19944Progress: 3%  712 Out of 19944Progress: 3%  713 Out of 19944Progress: 3%  714 Out of 19944Progress: 3%  715 Out of 19944Progress: 3%  716 Out of 19944Progress: 3%  717 Out of 19944Progress: 3%  718 Out of 19944Progress: 3%  719 Out of 19944Progress: 3%  720 Out of 19944Progress: 3%  721 Out of 19944Progress: 3%  722 Out of 19944Progress: 3%  723 Out of 19944Progress: 3%  724 Out of 19944Progress: 3%  725 Out of 19944Progress: 3%  726 Out of 19944Progress: 3%  727 Out of 19944Progress: 3%  728 Out of 19944Progress: 3%  729 Out of 19944Progress: 3%  730 Out of 19944Progress: 3%  731 Out of 19944Progress: 3%  732 Out of 19944Progress: 3%  733 Out of 19944Progress: 3%  734 Out of 19944Progress: 3%  735 Out of 19944Progress: 3%  736 Out of 19944Progress: 3%  737 Out of 19944Progress: 3%  738 Out of 19944Progress: 3%  739 Out of 19944Progress: 3%  740 Out of 19944Progress: 3%  741 Out of 19944Progress: 3%  742 Out of 19944Progress: 3%  743 Out of 19944Progress: 3%  744 Out of 19944Progress: 3%  745 Out of 19944Progress: 3%  746 Out of 19944Progress: 3%  747 Out of 19944Progress: 3%  748 Out of 19944Progress: 3%  749 Out of 19944Progress: 3%  750 Out of 19944Progress: 3%  751 Out of 19944Progress: 3%  752 Out of 19944Progress: 3%  753 Out of 19944Progress: 3%  754 Out of 19944Progress: 3%  755 Out of 19944Progress: 3%  756 Out of 19944Progress: 3%  757 Out of 19944Progress: 3%  758 Out of 19944Progress: 3%  759 Out of 19944Progress: 3%  760 Out of 19944Progress: 3%  761 Out of 19944Progress: 3%  762 Out of 19944Progress: 3%  763 Out of 19944Progress: 3%  764 Out of 19944Progress: 3%  765 Out of 19944Progress: 3%  766 Out of 19944Progress: 3%  767 Out of 19944Progress: 3%  768 Out of 19944Progress: 3%  769 Out of 19944Progress: 3%  770 Out of 19944Progress: 3%  771 Out of 19944Progress: 3%  772 Out of 19944Progress: 3%  773 Out of 19944Progress: 3%  774 Out of 19944Progress: 3%  775 Out of 19944Progress: 3%  776 Out of 19944Progress: 3%  777 Out of 19944Progress: 3%  778 Out of 19944Progress: 3%  779 Out of 19944Progress: 3%  780 Out of 19944Progress: 3%  781 Out of 19944Progress: 3%  782 Out of 19944Progress: 3%  783 Out of 19944Progress: 3%  784 Out of 19944Progress: 3%  785 Out of 19944Progress: 3%  786 Out of 19944Progress: 3%  787 Out of 19944Progress: 3%  788 Out of 19944Progress: 3%  789 Out of 19944Progress: 3%  790 Out of 19944Progress: 3%  791 Out of 19944Progress: 3%  792 Out of 19944Progress: 3%  793 Out of 19944Progress: 3%  794 Out of 19944Progress: 3%  795 Out of 19944Progress: 3%  796 Out of 19944Progress: 3%  797 Out of 19944Progress: 4%  798 Out of 19944Progress: 4%  799 Out of 19944Progress: 4%  800 Out of 19944Progress: 4%  801 Out of 19944Progress: 4%  802 Out of 19944Progress: 4%  803 Out of 19944Progress: 4%  804 Out of 19944Progress: 4%  805 Out of 19944Progress: 4%  806 Out of 19944Progress: 4%  807 Out of 19944Progress: 4%  808 Out of 19944Progress: 4%  809 Out of 19944Progress: 4%  810 Out of 19944Progress: 4%  811 Out of 19944Progress: 4%  812 Out of 19944Progress: 4%  813 Out of 19944Progress: 4%  814 Out of 19944Progress: 4%  815 Out of 19944Progress: 4%  816 Out of 19944Progress: 4%  817 Out of 19944Progress: 4%  818 Out of 19944Progress: 4%  819 Out of 19944Progress: 4%  820 Out of 19944Progress: 4%  821 Out of 19944Progress: 4%  822 Out of 19944Progress: 4%  823 Out of 19944Progress: 4%  824 Out of 19944Progress: 4%  825 Out of 19944Progress: 4%  826 Out of 19944Progress: 4%  827 Out of 19944Progress: 4%  828 Out of 19944Progress: 4%  829 Out of 19944Progress: 4%  830 Out of 19944Progress: 4%  831 Out of 19944Progress: 4%  832 Out of 19944Progress: 4%  833 Out of 19944Progress: 4%  834 Out of 19944Progress: 4%  835 Out of 19944Progress: 4%  836 Out of 19944Progress: 4%  837 Out of 19944Progress: 4%  838 Out of 19944Progress: 4%  839 Out of 19944Progress: 4%  840 Out of 19944Progress: 4%  841 Out of 19944Progress: 4%  842 Out of 19944Progress: 4%  843 Out of 19944Progress: 4%  844 Out of 19944Progress: 4%  845 Out of 19944Progress: 4%  846 Out of 19944Progress: 4%  847 Out of 19944Progress: 4%  848 Out of 19944Progress: 4%  849 Out of 19944Progress: 4%  850 Out of 19944Progress: 4%  851 Out of 19944Progress: 4%  852 Out of 19944Progress: 4%  853 Out of 19944Progress: 4%  854 Out of 19944Progress: 4%  855 Out of 19944Progress: 4%  856 Out of 19944Progress: 4%  857 Out of 19944Progress: 4%  858 Out of 19944Progress: 4%  859 Out of 19944Progress: 4%  860 Out of 19944Progress: 4%  861 Out of 19944Progress: 4%  862 Out of 19944Progress: 4%  863 Out of 19944Progress: 4%  864 Out of 19944Progress: 4%  865 Out of 19944Progress: 4%  866 Out of 19944Progress: 4%  867 Out of 19944Progress: 4%  868 Out of 19944Progress: 4%  869 Out of 19944Progress: 4%  870 Out of 19944Progress: 4%  871 Out of 19944Progress: 4%  872 Out of 19944Progress: 4%  873 Out of 19944Progress: 4%  874 Out of 19944Progress: 4%  875 Out of 19944Progress: 4%  876 Out of 19944Progress: 4%  877 Out of 19944Progress: 4%  878 Out of 19944Progress: 4%  879 Out of 19944Progress: 4%  880 Out of 19944Progress: 4%  881 Out of 19944Progress: 4%  882 Out of 19944Progress: 4%  883 Out of 19944Progress: 4%  884 Out of 19944Progress: 4%  885 Out of 19944Progress: 4%  886 Out of 19944Progress: 4%  887 Out of 19944Progress: 4%  888 Out of 19944Progress: 4%  889 Out of 19944Progress: 4%  890 Out of 19944Progress: 4%  891 Out of 19944Progress: 4%  892 Out of 19944Progress: 4%  893 Out of 19944Progress: 4%  894 Out of 19944Progress: 4%  895 Out of 19944Progress: 4%  896 Out of 19944Progress: 4%  897 Out of 19944Progress: 4%  898 Out of 19944Progress: 4%  899 Out of 19944Progress: 4%  900 Out of 19944Progress: 4%  901 Out of 19944Progress: 4%  902 Out of 19944Progress: 4%  903 Out of 19944Progress: 4%  904 Out of 19944Progress: 4%  905 Out of 19944Progress: 4%  906 Out of 19944Progress: 4%  907 Out of 19944Progress: 4%  908 Out of 19944Progress: 4%  909 Out of 19944Progress: 4%  910 Out of 19944Progress: 4%  911 Out of 19944Progress: 4%  912 Out of 19944Progress: 4%  913 Out of 19944Progress: 4%  914 Out of 19944Progress: 4%  915 Out of 19944Progress: 4%  916 Out of 19944Progress: 4%  917 Out of 19944Progress: 4%  918 Out of 19944Progress: 4%  919 Out of 19944Progress: 4%  920 Out of 19944Progress: 4%  921 Out of 19944Progress: 4%  922 Out of 19944Progress: 4%  923 Out of 19944Progress: 4%  924 Out of 19944Progress: 4%  925 Out of 19944Progress: 4%  926 Out of 19944Progress: 4%  927 Out of 19944Progress: 4%  928 Out of 19944Progress: 4%  929 Out of 19944Progress: 4%  930 Out of 19944Progress: 4%  931 Out of 19944Progress: 4%  932 Out of 19944Progress: 4%  933 Out of 19944Progress: 4%  934 Out of 19944Progress: 4%  935 Out of 19944Progress: 4%  936 Out of 19944Progress: 4%  937 Out of 19944Progress: 4%  938 Out of 19944Progress: 4%  939 Out of 19944Progress: 4%  940 Out of 19944Progress: 4%  941 Out of 19944Progress: 4%  942 Out of 19944Progress: 4%  943 Out of 19944Progress: 4%  944 Out of 19944Progress: 4%  945 Out of 19944Progress: 4%  946 Out of 19944Progress: 4%  947 Out of 19944Progress: 4%  948 Out of 19944Progress: 4%  949 Out of 19944Progress: 4%  950 Out of 19944Progress: 4%  951 Out of 19944Progress: 4%  952 Out of 19944Progress: 4%  953 Out of 19944Progress: 4%  954 Out of 19944Progress: 4%  955 Out of 19944Progress: 4%  956 Out of 19944Progress: 4%  957 Out of 19944Progress: 4%  958 Out of 19944Progress: 4%  959 Out of 19944Progress: 4%  960 Out of 19944Progress: 4%  961 Out of 19944Progress: 4%  962 Out of 19944Progress: 4%  963 Out of 19944Progress: 4%  964 Out of 19944Progress: 4%  965 Out of 19944Progress: 4%  966 Out of 19944Progress: 4%  967 Out of 19944Progress: 4%  968 Out of 19944Progress: 4%  969 Out of 19944Progress: 4%  970 Out of 19944Progress: 4%  971 Out of 19944Progress: 4%  972 Out of 19944Progress: 4%  973 Out of 19944Progress: 4%  974 Out of 19944Progress: 4%  975 Out of 19944Progress: 4%  976 Out of 19944Progress: 4%  977 Out of 19944Progress: 4%  978 Out of 19944Progress: 4%  979 Out of 19944Progress: 4%  980 Out of 19944Progress: 4%  981 Out of 19944Progress: 4%  982 Out of 19944Progress: 4%  983 Out of 19944Progress: 4%  984 Out of 19944Progress: 4%  985 Out of 19944Progress: 4%  986 Out of 19944Progress: 4%  987 Out of 19944Progress: 4%  988 Out of 19944Progress: 4%  989 Out of 19944Progress: 4%  990 Out of 19944Progress: 4%  991 Out of 19944Progress: 4%  992 Out of 19944Progress: 4%  993 Out of 19944Progress: 4%  994 Out of 19944Progress: 4%  995 Out of 19944Progress: 4%  996 Out of 19944Progress: 4%  997 Out of 19944Progress: 5%  998 Out of 19944Progress: 5%  999 Out of 19944Progress: 5%  1000 Out of 19944Progress: 5%  1001 Out of 19944Progress: 5%  1002 Out of 19944Progress: 5%  1003 Out of 19944Progress: 5%  1004 Out of 19944Progress: 5%  1005 Out of 19944Progress: 5%  1006 Out of 19944Progress: 5%  1007 Out of 19944Progress: 5%  1008 Out of 19944Progress: 5%  1009 Out of 19944Progress: 5%  1010 Out of 19944Progress: 5%  1011 Out of 19944Progress: 5%  1012 Out of 19944Progress: 5%  1013 Out of 19944Progress: 5%  1014 Out of 19944Progress: 5%  1015 Out of 19944Progress: 5%  1016 Out of 19944Progress: 5%  1017 Out of 19944Progress: 5%  1018 Out of 19944Progress: 5%  1019 Out of 19944Progress: 5%  1020 Out of 19944Progress: 5%  1021 Out of 19944Progress: 5%  1022 Out of 19944Progress: 5%  1023 Out of 19944Progress: 5%  1024 Out of 19944Progress: 5%  1025 Out of 19944Progress: 5%  1026 Out of 19944Progress: 5%  1027 Out of 19944Progress: 5%  1028 Out of 19944Progress: 5%  1029 Out of 19944Progress: 5%  1030 Out of 19944Progress: 5%  1031 Out of 19944Progress: 5%  1032 Out of 19944Progress: 5%  1033 Out of 19944Progress: 5%  1034 Out of 19944Progress: 5%  1035 Out of 19944Progress: 5%  1036 Out of 19944Progress: 5%  1037 Out of 19944Progress: 5%  1038 Out of 19944Progress: 5%  1039 Out of 19944Progress: 5%  1040 Out of 19944Progress: 5%  1041 Out of 19944Progress: 5%  1042 Out of 19944Progress: 5%  1043 Out of 19944Progress: 5%  1044 Out of 19944Progress: 5%  1045 Out of 19944Progress: 5%  1046 Out of 19944Progress: 5%  1047 Out of 19944Progress: 5%  1048 Out of 19944Progress: 5%  1049 Out of 19944Progress: 5%  1050 Out of 19944Progress: 5%  1051 Out of 19944Progress: 5%  1052 Out of 19944Progress: 5%  1053 Out of 19944Progress: 5%  1054 Out of 19944Progress: 5%  1055 Out of 19944Progress: 5%  1056 Out of 19944Progress: 5%  1057 Out of 19944Progress: 5%  1058 Out of 19944Progress: 5%  1059 Out of 19944Progress: 5%  1060 Out of 19944Progress: 5%  1061 Out of 19944Progress: 5%  1062 Out of 19944Progress: 5%  1063 Out of 19944Progress: 5%  1064 Out of 19944Progress: 5%  1065 Out of 19944Progress: 5%  1066 Out of 19944Progress: 5%  1067 Out of 19944Progress: 5%  1068 Out of 19944Progress: 5%  1069 Out of 19944Progress: 5%  1070 Out of 19944Progress: 5%  1071 Out of 19944Progress: 5%  1072 Out of 19944Progress: 5%  1073 Out of 19944Progress: 5%  1074 Out of 19944Progress: 5%  1075 Out of 19944Progress: 5%  1076 Out of 19944Progress: 5%  1077 Out of 19944Progress: 5%  1078 Out of 19944Progress: 5%  1079 Out of 19944Progress: 5%  1080 Out of 19944Progress: 5%  1081 Out of 19944Progress: 5%  1082 Out of 19944Progress: 5%  1083 Out of 19944Progress: 5%  1084 Out of 19944Progress: 5%  1085 Out of 19944Progress: 5%  1086 Out of 19944Progress: 5%  1087 Out of 19944Progress: 5%  1088 Out of 19944Progress: 5%  1089 Out of 19944Progress: 5%  1090 Out of 19944Progress: 5%  1091 Out of 19944Progress: 5%  1092 Out of 19944Progress: 5%  1093 Out of 19944Progress: 5%  1094 Out of 19944Progress: 5%  1095 Out of 19944Progress: 5%  1096 Out of 19944Progress: 5%  1097 Out of 19944Progress: 5%  1098 Out of 19944Progress: 5%  1099 Out of 19944Progress: 5%  1100 Out of 19944Progress: 5%  1101 Out of 19944Progress: 5%  1102 Out of 19944Progress: 5%  1103 Out of 19944Progress: 5%  1104 Out of 19944Progress: 5%  1105 Out of 19944Progress: 5%  1106 Out of 19944Progress: 5%  1107 Out of 19944Progress: 5%  1108 Out of 19944Progress: 5%  1109 Out of 19944Progress: 5%  1110 Out of 19944Progress: 5%  1111 Out of 19944Progress: 5%  1112 Out of 19944Progress: 5%  1113 Out of 19944Progress: 5%  1114 Out of 19944Progress: 5%  1115 Out of 19944Progress: 5%  1116 Out of 19944Progress: 5%  1117 Out of 19944Progress: 5%  1118 Out of 19944Progress: 5%  1119 Out of 19944Progress: 5%  1120 Out of 19944Progress: 5%  1121 Out of 19944Progress: 5%  1122 Out of 19944Progress: 5%  1123 Out of 19944Progress: 5%  1124 Out of 19944Progress: 5%  1125 Out of 19944Progress: 5%  1126 Out of 19944Progress: 5%  1127 Out of 19944Progress: 5%  1128 Out of 19944Progress: 5%  1129 Out of 19944Progress: 5%  1130 Out of 19944Progress: 5%  1131 Out of 19944Progress: 5%  1132 Out of 19944Progress: 5%  1133 Out of 19944Progress: 5%  1134 Out of 19944Progress: 5%  1135 Out of 19944Progress: 5%  1136 Out of 19944Progress: 5%  1137 Out of 19944Progress: 5%  1138 Out of 19944Progress: 5%  1139 Out of 19944Progress: 5%  1140 Out of 19944Progress: 5%  1141 Out of 19944Progress: 5%  1142 Out of 19944Progress: 5%  1143 Out of 19944Progress: 5%  1144 Out of 19944Progress: 5%  1145 Out of 19944Progress: 5%  1146 Out of 19944Progress: 5%  1147 Out of 19944Progress: 5%  1148 Out of 19944Progress: 5%  1149 Out of 19944Progress: 5%  1150 Out of 19944Progress: 5%  1151 Out of 19944Progress: 5%  1152 Out of 19944Progress: 5%  1153 Out of 19944Progress: 5%  1154 Out of 19944Progress: 5%  1155 Out of 19944Progress: 5%  1156 Out of 19944Progress: 5%  1157 Out of 19944Progress: 5%  1158 Out of 19944Progress: 5%  1159 Out of 19944Progress: 5%  1160 Out of 19944Progress: 5%  1161 Out of 19944Progress: 5%  1162 Out of 19944Progress: 5%  1163 Out of 19944Progress: 5%  1164 Out of 19944Progress: 5%  1165 Out of 19944Progress: 5%  1166 Out of 19944Progress: 5%  1167 Out of 19944Progress: 5%  1168 Out of 19944Progress: 5%  1169 Out of 19944Progress: 5%  1170 Out of 19944Progress: 5%  1171 Out of 19944Progress: 5%  1172 Out of 19944Progress: 5%  1173 Out of 19944Progress: 5%  1174 Out of 19944Progress: 5%  1175 Out of 19944Progress: 5%  1176 Out of 19944Progress: 5%  1177 Out of 19944Progress: 5%  1178 Out of 19944Progress: 5%  1179 Out of 19944Progress: 5%  1180 Out of 19944Progress: 5%  1181 Out of 19944Progress: 5%  1182 Out of 19944Progress: 5%  1183 Out of 19944Progress: 5%  1184 Out of 19944Progress: 5%  1185 Out of 19944Progress: 5%  1186 Out of 19944Progress: 5%  1187 Out of 19944Progress: 5%  1188 Out of 19944Progress: 5%  1189 Out of 19944Progress: 5%  1190 Out of 19944Progress: 5%  1191 Out of 19944Progress: 5%  1192 Out of 19944Progress: 5%  1193 Out of 19944Progress: 5%  1194 Out of 19944Progress: 5%  1195 Out of 19944Progress: 5%  1196 Out of 19944Progress: 6%  1197 Out of 19944Progress: 6%  1198 Out of 19944Progress: 6%  1199 Out of 19944Progress: 6%  1200 Out of 19944Progress: 6%  1201 Out of 19944Progress: 6%  1202 Out of 19944Progress: 6%  1203 Out of 19944Progress: 6%  1204 Out of 19944Progress: 6%  1205 Out of 19944Progress: 6%  1206 Out of 19944Progress: 6%  1207 Out of 19944Progress: 6%  1208 Out of 19944Progress: 6%  1209 Out of 19944Progress: 6%  1210 Out of 19944Progress: 6%  1211 Out of 19944Progress: 6%  1212 Out of 19944Progress: 6%  1213 Out of 19944Progress: 6%  1214 Out of 19944Progress: 6%  1215 Out of 19944Progress: 6%  1216 Out of 19944Progress: 6%  1217 Out of 19944Progress: 6%  1218 Out of 19944Progress: 6%  1219 Out of 19944Progress: 6%  1220 Out of 19944Progress: 6%  1221 Out of 19944Progress: 6%  1222 Out of 19944Progress: 6%  1223 Out of 19944Progress: 6%  1224 Out of 19944Progress: 6%  1225 Out of 19944Progress: 6%  1226 Out of 19944Progress: 6%  1227 Out of 19944Progress: 6%  1228 Out of 19944Progress: 6%  1229 Out of 19944Progress: 6%  1230 Out of 19944Progress: 6%  1231 Out of 19944Progress: 6%  1232 Out of 19944Progress: 6%  1233 Out of 19944Progress: 6%  1234 Out of 19944Progress: 6%  1235 Out of 19944Progress: 6%  1236 Out of 19944Progress: 6%  1237 Out of 19944Progress: 6%  1238 Out of 19944Progress: 6%  1239 Out of 19944Progress: 6%  1240 Out of 19944Progress: 6%  1241 Out of 19944Progress: 6%  1242 Out of 19944Progress: 6%  1243 Out of 19944Progress: 6%  1244 Out of 19944Progress: 6%  1245 Out of 19944Progress: 6%  1246 Out of 19944Progress: 6%  1247 Out of 19944Progress: 6%  1248 Out of 19944Progress: 6%  1249 Out of 19944Progress: 6%  1250 Out of 19944Progress: 6%  1251 Out of 19944Progress: 6%  1252 Out of 19944Progress: 6%  1253 Out of 19944Progress: 6%  1254 Out of 19944Progress: 6%  1255 Out of 19944Progress: 6%  1256 Out of 19944Progress: 6%  1257 Out of 19944Progress: 6%  1258 Out of 19944Progress: 6%  1259 Out of 19944Progress: 6%  1260 Out of 19944Progress: 6%  1261 Out of 19944Progress: 6%  1262 Out of 19944Progress: 6%  1263 Out of 19944Progress: 6%  1264 Out of 19944Progress: 6%  1265 Out of 19944Progress: 6%  1266 Out of 19944Progress: 6%  1267 Out of 19944Progress: 6%  1268 Out of 19944Progress: 6%  1269 Out of 19944Progress: 6%  1270 Out of 19944Progress: 6%  1271 Out of 19944Progress: 6%  1272 Out of 19944Progress: 6%  1273 Out of 19944Progress: 6%  1274 Out of 19944Progress: 6%  1275 Out of 19944Progress: 6%  1276 Out of 19944Progress: 6%  1277 Out of 19944Progress: 6%  1278 Out of 19944Progress: 6%  1279 Out of 19944Progress: 6%  1280 Out of 19944Progress: 6%  1281 Out of 19944Progress: 6%  1282 Out of 19944Progress: 6%  1283 Out of 19944Progress: 6%  1284 Out of 19944Progress: 6%  1285 Out of 19944Progress: 6%  1286 Out of 19944Progress: 6%  1287 Out of 19944Progress: 6%  1288 Out of 19944Progress: 6%  1289 Out of 19944Progress: 6%  1290 Out of 19944Progress: 6%  1291 Out of 19944Progress: 6%  1292 Out of 19944Progress: 6%  1293 Out of 19944Progress: 6%  1294 Out of 19944Progress: 6%  1295 Out of 19944Progress: 6%  1296 Out of 19944Progress: 6%  1297 Out of 19944Progress: 6%  1298 Out of 19944Progress: 6%  1299 Out of 19944Progress: 6%  1300 Out of 19944Progress: 6%  1301 Out of 19944Progress: 6%  1302 Out of 19944Progress: 6%  1303 Out of 19944Progress: 6%  1304 Out of 19944Progress: 6%  1305 Out of 19944Progress: 6%  1306 Out of 19944Progress: 6%  1307 Out of 19944Progress: 6%  1308 Out of 19944Progress: 6%  1309 Out of 19944Progress: 6%  1310 Out of 19944Progress: 6%  1311 Out of 19944Progress: 6%  1312 Out of 19944Progress: 6%  1313 Out of 19944Progress: 6%  1314 Out of 19944Progress: 6%  1315 Out of 19944Progress: 6%  1316 Out of 19944Progress: 6%  1317 Out of 19944Progress: 6%  1318 Out of 19944Progress: 6%  1319 Out of 19944Progress: 6%  1320 Out of 19944Progress: 6%  1321 Out of 19944Progress: 6%  1322 Out of 19944Progress: 6%  1323 Out of 19944Progress: 6%  1324 Out of 19944Progress: 6%  1325 Out of 19944Progress: 6%  1326 Out of 19944Progress: 6%  1327 Out of 19944Progress: 6%  1328 Out of 19944Progress: 6%  1329 Out of 19944Progress: 6%  1330 Out of 19944Progress: 6%  1331 Out of 19944Progress: 6%  1332 Out of 19944Progress: 6%  1333 Out of 19944Progress: 6%  1334 Out of 19944Progress: 6%  1335 Out of 19944Progress: 6%  1336 Out of 19944Progress: 6%  1337 Out of 19944Progress: 6%  1338 Out of 19944Progress: 6%  1339 Out of 19944Progress: 6%  1340 Out of 19944Progress: 6%  1341 Out of 19944Progress: 6%  1342 Out of 19944Progress: 6%  1343 Out of 19944Progress: 6%  1344 Out of 19944Progress: 6%  1345 Out of 19944Progress: 6%  1346 Out of 19944Progress: 6%  1347 Out of 19944Progress: 6%  1348 Out of 19944Progress: 6%  1349 Out of 19944Progress: 6%  1350 Out of 19944Progress: 6%  1351 Out of 19944Progress: 6%  1352 Out of 19944Progress: 6%  1353 Out of 19944Progress: 6%  1354 Out of 19944Progress: 6%  1355 Out of 19944Progress: 6%  1356 Out of 19944Progress: 6%  1357 Out of 19944Progress: 6%  1358 Out of 19944Progress: 6%  1359 Out of 19944Progress: 6%  1360 Out of 19944Progress: 6%  1361 Out of 19944Progress: 6%  1362 Out of 19944Progress: 6%  1363 Out of 19944Progress: 6%  1364 Out of 19944Progress: 6%  1365 Out of 19944Progress: 6%  1366 Out of 19944Progress: 6%  1367 Out of 19944Progress: 6%  1368 Out of 19944Progress: 6%  1369 Out of 19944Progress: 6%  1370 Out of 19944Progress: 6%  1371 Out of 19944Progress: 6%  1372 Out of 19944Progress: 6%  1373 Out of 19944Progress: 6%  1374 Out of 19944Progress: 6%  1375 Out of 19944Progress: 6%  1376 Out of 19944Progress: 6%  1377 Out of 19944Progress: 6%  1378 Out of 19944Progress: 6%  1379 Out of 19944Progress: 6%  1380 Out of 19944Progress: 6%  1381 Out of 19944Progress: 6%  1382 Out of 19944Progress: 6%  1383 Out of 19944Progress: 6%  1384 Out of 19944Progress: 6%  1385 Out of 19944Progress: 6%  1386 Out of 19944Progress: 6%  1387 Out of 19944Progress: 6%  1388 Out of 19944Progress: 6%  1389 Out of 19944Progress: 6%  1390 Out of 19944Progress: 6%  1391 Out of 19944Progress: 6%  1392 Out of 19944Progress: 6%  1393 Out of 19944Progress: 6%  1394 Out of 19944Progress: 6%  1395 Out of 19944Progress: 6%  1396 Out of 19944Progress: 7%  1397 Out of 19944Progress: 7%  1398 Out of 19944Progress: 7%  1399 Out of 19944Progress: 7%  1400 Out of 19944Progress: 7%  1401 Out of 19944Progress: 7%  1402 Out of 19944Progress: 7%  1403 Out of 19944Progress: 7%  1404 Out of 19944Progress: 7%  1405 Out of 19944Progress: 7%  1406 Out of 19944Progress: 7%  1407 Out of 19944Progress: 7%  1408 Out of 19944Progress: 7%  1409 Out of 19944Progress: 7%  1410 Out of 19944Progress: 7%  1411 Out of 19944Progress: 7%  1412 Out of 19944Progress: 7%  1413 Out of 19944Progress: 7%  1414 Out of 19944Progress: 7%  1415 Out of 19944Progress: 7%  1416 Out of 19944Progress: 7%  1417 Out of 19944Progress: 7%  1418 Out of 19944Progress: 7%  1419 Out of 19944Progress: 7%  1420 Out of 19944Progress: 7%  1421 Out of 19944Progress: 7%  1422 Out of 19944Progress: 7%  1423 Out of 19944Progress: 7%  1424 Out of 19944Progress: 7%  1425 Out of 19944Progress: 7%  1426 Out of 19944Progress: 7%  1427 Out of 19944Progress: 7%  1428 Out of 19944Progress: 7%  1429 Out of 19944Progress: 7%  1430 Out of 19944Progress: 7%  1431 Out of 19944Progress: 7%  1432 Out of 19944Progress: 7%  1433 Out of 19944Progress: 7%  1434 Out of 19944Progress: 7%  1435 Out of 19944Progress: 7%  1436 Out of 19944Progress: 7%  1437 Out of 19944Progress: 7%  1438 Out of 19944Progress: 7%  1439 Out of 19944Progress: 7%  1440 Out of 19944Progress: 7%  1441 Out of 19944Progress: 7%  1442 Out of 19944Progress: 7%  1443 Out of 19944Progress: 7%  1444 Out of 19944Progress: 7%  1445 Out of 19944Progress: 7%  1446 Out of 19944Progress: 7%  1447 Out of 19944Progress: 7%  1448 Out of 19944Progress: 7%  1449 Out of 19944Progress: 7%  1450 Out of 19944Progress: 7%  1451 Out of 19944Progress: 7%  1452 Out of 19944Progress: 7%  1453 Out of 19944Progress: 7%  1454 Out of 19944Progress: 7%  1455 Out of 19944Progress: 7%  1456 Out of 19944Progress: 7%  1457 Out of 19944Progress: 7%  1458 Out of 19944Progress: 7%  1459 Out of 19944Progress: 7%  1460 Out of 19944Progress: 7%  1461 Out of 19944Progress: 7%  1462 Out of 19944Progress: 7%  1463 Out of 19944Progress: 7%  1464 Out of 19944Progress: 7%  1465 Out of 19944Progress: 7%  1466 Out of 19944Progress: 7%  1467 Out of 19944Progress: 7%  1468 Out of 19944Progress: 7%  1469 Out of 19944Progress: 7%  1470 Out of 19944Progress: 7%  1471 Out of 19944Progress: 7%  1472 Out of 19944Progress: 7%  1473 Out of 19944Progress: 7%  1474 Out of 19944Progress: 7%  1475 Out of 19944Progress: 7%  1476 Out of 19944Progress: 7%  1477 Out of 19944Progress: 7%  1478 Out of 19944Progress: 7%  1479 Out of 19944Progress: 7%  1480 Out of 19944Progress: 7%  1481 Out of 19944Progress: 7%  1482 Out of 19944Progress: 7%  1483 Out of 19944Progress: 7%  1484 Out of 19944Progress: 7%  1485 Out of 19944Progress: 7%  1486 Out of 19944Progress: 7%  1487 Out of 19944Progress: 7%  1488 Out of 19944Progress: 7%  1489 Out of 19944Progress: 7%  1490 Out of 19944Progress: 7%  1491 Out of 19944Progress: 7%  1492 Out of 19944Progress: 7%  1493 Out of 19944Progress: 7%  1494 Out of 19944Progress: 7%  1495 Out of 19944Progress: 7%  1496 Out of 19944Progress: 7%  1497 Out of 19944Progress: 7%  1498 Out of 19944Progress: 7%  1499 Out of 19944Progress: 7%  1500 Out of 19944Progress: 7%  1501 Out of 19944Progress: 7%  1502 Out of 19944Progress: 7%  1503 Out of 19944Progress: 7%  1504 Out of 19944Progress: 7%  1505 Out of 19944Progress: 7%  1506 Out of 19944Progress: 7%  1507 Out of 19944Progress: 7%  1508 Out of 19944Progress: 7%  1509 Out of 19944Progress: 7%  1510 Out of 19944Progress: 7%  1511 Out of 19944Progress: 7%  1512 Out of 19944Progress: 7%  1513 Out of 19944Progress: 7%  1514 Out of 19944Progress: 7%  1515 Out of 19944Progress: 7%  1516 Out of 19944Progress: 7%  1517 Out of 19944Progress: 7%  1518 Out of 19944Progress: 7%  1519 Out of 19944Progress: 7%  1520 Out of 19944Progress: 7%  1521 Out of 19944Progress: 7%  1522 Out of 19944Progress: 7%  1523 Out of 19944Progress: 7%  1524 Out of 19944Progress: 7%  1525 Out of 19944Progress: 7%  1526 Out of 19944Progress: 7%  1527 Out of 19944Progress: 7%  1528 Out of 19944Progress: 7%  1529 Out of 19944Progress: 7%  1530 Out of 19944Progress: 7%  1531 Out of 19944Progress: 7%  1532 Out of 19944Progress: 7%  1533 Out of 19944Progress: 7%  1534 Out of 19944Progress: 7%  1535 Out of 19944Progress: 7%  1536 Out of 19944Progress: 7%  1537 Out of 19944Progress: 7%  1538 Out of 19944Progress: 7%  1539 Out of 19944Progress: 7%  1540 Out of 19944Progress: 7%  1541 Out of 19944Progress: 7%  1542 Out of 19944Progress: 7%  1543 Out of 19944Progress: 7%  1544 Out of 19944Progress: 7%  1545 Out of 19944Progress: 7%  1546 Out of 19944Progress: 7%  1547 Out of 19944Progress: 7%  1548 Out of 19944Progress: 7%  1549 Out of 19944Progress: 7%  1550 Out of 19944Progress: 7%  1551 Out of 19944Progress: 7%  1552 Out of 19944Progress: 7%  1553 Out of 19944Progress: 7%  1554 Out of 19944Progress: 7%  1555 Out of 19944Progress: 7%  1556 Out of 19944Progress: 7%  1557 Out of 19944Progress: 7%  1558 Out of 19944Progress: 7%  1559 Out of 19944Progress: 7%  1560 Out of 19944Progress: 7%  1561 Out of 19944Progress: 7%  1562 Out of 19944Progress: 7%  1563 Out of 19944Progress: 7%  1564 Out of 19944Progress: 7%  1565 Out of 19944Progress: 7%  1566 Out of 19944Progress: 7%  1567 Out of 19944Progress: 7%  1568 Out of 19944Progress: 7%  1569 Out of 19944Progress: 7%  1570 Out of 19944Progress: 7%  1571 Out of 19944Progress: 7%  1572 Out of 19944Progress: 7%  1573 Out of 19944Progress: 7%  1574 Out of 19944Progress: 7%  1575 Out of 19944Progress: 7%  1576 Out of 19944Progress: 7%  1577 Out of 19944Progress: 7%  1578 Out of 19944Progress: 7%  1579 Out of 19944Progress: 7%  1580 Out of 19944Progress: 7%  1581 Out of 19944Progress: 7%  1582 Out of 19944Progress: 7%  1583 Out of 19944Progress: 7%  1584 Out of 19944Progress: 7%  1585 Out of 19944Progress: 7%  1586 Out of 19944Progress: 7%  1587 Out of 19944Progress: 7%  1588 Out of 19944Progress: 7%  1589 Out of 19944Progress: 7%  1590 Out of 19944Progress: 7%  1591 Out of 19944Progress: 7%  1592 Out of 19944Progress: 7%  1593 Out of 19944Progress: 7%  1594 Out of 19944Progress: 7%  1595 Out of 19944Progress: 8%  1596 Out of 19944Progress: 8%  1597 Out of 19944Progress: 8%  1598 Out of 19944Progress: 8%  1599 Out of 19944Progress: 8%  1600 Out of 19944Progress: 8%  1601 Out of 19944Progress: 8%  1602 Out of 19944Progress: 8%  1603 Out of 19944Progress: 8%  1604 Out of 19944Progress: 8%  1605 Out of 19944Progress: 8%  1606 Out of 19944Progress: 8%  1607 Out of 19944Progress: 8%  1608 Out of 19944Progress: 8%  1609 Out of 19944Progress: 8%  1610 Out of 19944Progress: 8%  1611 Out of 19944Progress: 8%  1612 Out of 19944Progress: 8%  1613 Out of 19944Progress: 8%  1614 Out of 19944Progress: 8%  1615 Out of 19944Progress: 8%  1616 Out of 19944Progress: 8%  1617 Out of 19944Progress: 8%  1618 Out of 19944Progress: 8%  1619 Out of 19944Progress: 8%  1620 Out of 19944Progress: 8%  1621 Out of 19944Progress: 8%  1622 Out of 19944Progress: 8%  1623 Out of 19944Progress: 8%  1624 Out of 19944Progress: 8%  1625 Out of 19944Progress: 8%  1626 Out of 19944Progress: 8%  1627 Out of 19944Progress: 8%  1628 Out of 19944Progress: 8%  1629 Out of 19944Progress: 8%  1630 Out of 19944Progress: 8%  1631 Out of 19944Progress: 8%  1632 Out of 19944Progress: 8%  1633 Out of 19944Progress: 8%  1634 Out of 19944Progress: 8%  1635 Out of 19944Progress: 8%  1636 Out of 19944Progress: 8%  1637 Out of 19944Progress: 8%  1638 Out of 19944Progress: 8%  1639 Out of 19944Progress: 8%  1640 Out of 19944Progress: 8%  1641 Out of 19944Progress: 8%  1642 Out of 19944Progress: 8%  1643 Out of 19944Progress: 8%  1644 Out of 19944Progress: 8%  1645 Out of 19944Progress: 8%  1646 Out of 19944Progress: 8%  1647 Out of 19944Progress: 8%  1648 Out of 19944Progress: 8%  1649 Out of 19944Progress: 8%  1650 Out of 19944Progress: 8%  1651 Out of 19944Progress: 8%  1652 Out of 19944Progress: 8%  1653 Out of 19944Progress: 8%  1654 Out of 19944Progress: 8%  1655 Out of 19944Progress: 8%  1656 Out of 19944Progress: 8%  1657 Out of 19944Progress: 8%  1658 Out of 19944Progress: 8%  1659 Out of 19944Progress: 8%  1660 Out of 19944Progress: 8%  1661 Out of 19944Progress: 8%  1662 Out of 19944Progress: 8%  1663 Out of 19944Progress: 8%  1664 Out of 19944Progress: 8%  1665 Out of 19944Progress: 8%  1666 Out of 19944Progress: 8%  1667 Out of 19944Progress: 8%  1668 Out of 19944Progress: 8%  1669 Out of 19944Progress: 8%  1670 Out of 19944Progress: 8%  1671 Out of 19944Progress: 8%  1672 Out of 19944Progress: 8%  1673 Out of 19944Progress: 8%  1674 Out of 19944Progress: 8%  1675 Out of 19944Progress: 8%  1676 Out of 19944Progress: 8%  1677 Out of 19944Progress: 8%  1678 Out of 19944Progress: 8%  1679 Out of 19944Progress: 8%  1680 Out of 19944Progress: 8%  1681 Out of 19944Progress: 8%  1682 Out of 19944Progress: 8%  1683 Out of 19944Progress: 8%  1684 Out of 19944Progress: 8%  1685 Out of 19944Progress: 8%  1686 Out of 19944Progress: 8%  1687 Out of 19944Progress: 8%  1688 Out of 19944Progress: 8%  1689 Out of 19944Progress: 8%  1690 Out of 19944Progress: 8%  1691 Out of 19944Progress: 8%  1692 Out of 19944Progress: 8%  1693 Out of 19944Progress: 8%  1694 Out of 19944Progress: 8%  1695 Out of 19944Progress: 8%  1696 Out of 19944Progress: 8%  1697 Out of 19944Progress: 8%  1698 Out of 19944Progress: 8%  1699 Out of 19944Progress: 8%  1700 Out of 19944Progress: 8%  1701 Out of 19944Progress: 8%  1702 Out of 19944Progress: 8%  1703 Out of 19944Progress: 8%  1704 Out of 19944Progress: 8%  1705 Out of 19944Progress: 8%  1706 Out of 19944Progress: 8%  1707 Out of 19944Progress: 8%  1708 Out of 19944Progress: 8%  1709 Out of 19944Progress: 8%  1710 Out of 19944Progress: 8%  1711 Out of 19944Progress: 8%  1712 Out of 19944Progress: 8%  1713 Out of 19944Progress: 8%  1714 Out of 19944Progress: 8%  1715 Out of 19944Progress: 8%  1716 Out of 19944Progress: 8%  1717 Out of 19944Progress: 8%  1718 Out of 19944Progress: 8%  1719 Out of 19944Progress: 8%  1720 Out of 19944Progress: 8%  1721 Out of 19944Progress: 8%  1722 Out of 19944Progress: 8%  1723 Out of 19944Progress: 8%  1724 Out of 19944Progress: 8%  1725 Out of 19944Progress: 8%  1726 Out of 19944Progress: 8%  1727 Out of 19944Progress: 8%  1728 Out of 19944Progress: 8%  1729 Out of 19944Progress: 8%  1730 Out of 19944Progress: 8%  1731 Out of 19944Progress: 8%  1732 Out of 19944Progress: 8%  1733 Out of 19944Progress: 8%  1734 Out of 19944Progress: 8%  1735 Out of 19944Progress: 8%  1736 Out of 19944Progress: 8%  1737 Out of 19944Progress: 8%  1738 Out of 19944Progress: 8%  1739 Out of 19944Progress: 8%  1740 Out of 19944Progress: 8%  1741 Out of 19944Progress: 8%  1742 Out of 19944Progress: 8%  1743 Out of 19944Progress: 8%  1744 Out of 19944Progress: 8%  1745 Out of 19944Progress: 8%  1746 Out of 19944Progress: 8%  1747 Out of 19944Progress: 8%  1748 Out of 19944Progress: 8%  1749 Out of 19944Progress: 8%  1750 Out of 19944Progress: 8%  1751 Out of 19944Progress: 8%  1752 Out of 19944Progress: 8%  1753 Out of 19944Progress: 8%  1754 Out of 19944Progress: 8%  1755 Out of 19944Progress: 8%  1756 Out of 19944Progress: 8%  1757 Out of 19944Progress: 8%  1758 Out of 19944Progress: 8%  1759 Out of 19944Progress: 8%  1760 Out of 19944Progress: 8%  1761 Out of 19944Progress: 8%  1762 Out of 19944Progress: 8%  1763 Out of 19944Progress: 8%  1764 Out of 19944Progress: 8%  1765 Out of 19944Progress: 8%  1766 Out of 19944Progress: 8%  1767 Out of 19944Progress: 8%  1768 Out of 19944Progress: 8%  1769 Out of 19944Progress: 8%  1770 Out of 19944Progress: 8%  1771 Out of 19944Progress: 8%  1772 Out of 19944Progress: 8%  1773 Out of 19944Progress: 8%  1774 Out of 19944Progress: 8%  1775 Out of 19944Progress: 8%  1776 Out of 19944Progress: 8%  1777 Out of 19944Progress: 8%  1778 Out of 19944Progress: 8%  1779 Out of 19944Progress: 8%  1780 Out of 19944Progress: 8%  1781 Out of 19944Progress: 8%  1782 Out of 19944Progress: 8%  1783 Out of 19944Progress: 8%  1784 Out of 19944Progress: 8%  1785 Out of 19944Progress: 8%  1786 Out of 19944Progress: 8%  1787 Out of 19944Progress: 8%  1788 Out of 19944Progress: 8%  1789 Out of 19944Progress: 8%  1790 Out of 19944Progress: 8%  1791 Out of 19944Progress: 8%  1792 Out of 19944Progress: 8%  1793 Out of 19944Progress: 8%  1794 Out of 19944Progress: 9%  1795 Out of 19944Progress: 9%  1796 Out of 19944Progress: 9%  1797 Out of 19944Progress: 9%  1798 Out of 19944Progress: 9%  1799 Out of 19944Progress: 9%  1800 Out of 19944Progress: 9%  1801 Out of 19944Progress: 9%  1802 Out of 19944Progress: 9%  1803 Out of 19944Progress: 9%  1804 Out of 19944Progress: 9%  1805 Out of 19944Progress: 9%  1806 Out of 19944Progress: 9%  1807 Out of 19944Progress: 9%  1808 Out of 19944Progress: 9%  1809 Out of 19944Progress: 9%  1810 Out of 19944Progress: 9%  1811 Out of 19944Progress: 9%  1812 Out of 19944Progress: 9%  1813 Out of 19944Progress: 9%  1814 Out of 19944Progress: 9%  1815 Out of 19944Progress: 9%  1816 Out of 19944Progress: 9%  1817 Out of 19944Progress: 9%  1818 Out of 19944Progress: 9%  1819 Out of 19944Progress: 9%  1820 Out of 19944Progress: 9%  1821 Out of 19944Progress: 9%  1822 Out of 19944Progress: 9%  1823 Out of 19944Progress: 9%  1824 Out of 19944Progress: 9%  1825 Out of 19944Progress: 9%  1826 Out of 19944Progress: 9%  1827 Out of 19944Progress: 9%  1828 Out of 19944Progress: 9%  1829 Out of 19944Progress: 9%  1830 Out of 19944Progress: 9%  1831 Out of 19944Progress: 9%  1832 Out of 19944Progress: 9%  1833 Out of 19944Progress: 9%  1834 Out of 19944Progress: 9%  1835 Out of 19944Progress: 9%  1836 Out of 19944Progress: 9%  1837 Out of 19944Progress: 9%  1838 Out of 19944Progress: 9%  1839 Out of 19944Progress: 9%  1840 Out of 19944Progress: 9%  1841 Out of 19944Progress: 9%  1842 Out of 19944Progress: 9%  1843 Out of 19944Progress: 9%  1844 Out of 19944Progress: 9%  1845 Out of 19944Progress: 9%  1846 Out of 19944Progress: 9%  1847 Out of 19944Progress: 9%  1848 Out of 19944Progress: 9%  1849 Out of 19944Progress: 9%  1850 Out of 19944Progress: 9%  1851 Out of 19944Progress: 9%  1852 Out of 19944Progress: 9%  1853 Out of 19944Progress: 9%  1854 Out of 19944Progress: 9%  1855 Out of 19944Progress: 9%  1856 Out of 19944Progress: 9%  1857 Out of 19944Progress: 9%  1858 Out of 19944Progress: 9%  1859 Out of 19944Progress: 9%  1860 Out of 19944Progress: 9%  1861 Out of 19944Progress: 9%  1862 Out of 19944Progress: 9%  1863 Out of 19944Progress: 9%  1864 Out of 19944Progress: 9%  1865 Out of 19944Progress: 9%  1866 Out of 19944Progress: 9%  1867 Out of 19944Progress: 9%  1868 Out of 19944Progress: 9%  1869 Out of 19944Progress: 9%  1870 Out of 19944Progress: 9%  1871 Out of 19944Progress: 9%  1872 Out of 19944Progress: 9%  1873 Out of 19944Progress: 9%  1874 Out of 19944Progress: 9%  1875 Out of 19944Progress: 9%  1876 Out of 19944Progress: 9%  1877 Out of 19944Progress: 9%  1878 Out of 19944Progress: 9%  1879 Out of 19944Progress: 9%  1880 Out of 19944Progress: 9%  1881 Out of 19944Progress: 9%  1882 Out of 19944Progress: 9%  1883 Out of 19944Progress: 9%  1884 Out of 19944Progress: 9%  1885 Out of 19944Progress: 9%  1886 Out of 19944Progress: 9%  1887 Out of 19944Progress: 9%  1888 Out of 19944Progress: 9%  1889 Out of 19944Progress: 9%  1890 Out of 19944Progress: 9%  1891 Out of 19944Progress: 9%  1892 Out of 19944Progress: 9%  1893 Out of 19944Progress: 9%  1894 Out of 19944Progress: 9%  1895 Out of 19944Progress: 9%  1896 Out of 19944Progress: 9%  1897 Out of 19944Progress: 9%  1898 Out of 19944Progress: 9%  1899 Out of 19944Progress: 9%  1900 Out of 19944Progress: 9%  1901 Out of 19944Progress: 9%  1902 Out of 19944Progress: 9%  1903 Out of 19944Progress: 9%  1904 Out of 19944Progress: 9%  1905 Out of 19944Progress: 9%  1906 Out of 19944Progress: 9%  1907 Out of 19944Progress: 9%  1908 Out of 19944Progress: 9%  1909 Out of 19944Progress: 9%  1910 Out of 19944Progress: 9%  1911 Out of 19944Progress: 9%  1912 Out of 19944Progress: 9%  1913 Out of 19944Progress: 9%  1914 Out of 19944Progress: 9%  1915 Out of 19944Progress: 9%  1916 Out of 19944Progress: 9%  1917 Out of 19944Progress: 9%  1918 Out of 19944Progress: 9%  1919 Out of 19944Progress: 9%  1920 Out of 19944Progress: 9%  1921 Out of 19944Progress: 9%  1922 Out of 19944Progress: 9%  1923 Out of 19944Progress: 9%  1924 Out of 19944Progress: 9%  1925 Out of 19944Progress: 9%  1926 Out of 19944Progress: 9%  1927 Out of 19944Progress: 9%  1928 Out of 19944Progress: 9%  1929 Out of 19944Progress: 9%  1930 Out of 19944Progress: 9%  1931 Out of 19944Progress: 9%  1932 Out of 19944Progress: 9%  1933 Out of 19944Progress: 9%  1934 Out of 19944Progress: 9%  1935 Out of 19944Progress: 9%  1936 Out of 19944Progress: 9%  1937 Out of 19944Progress: 9%  1938 Out of 19944Progress: 9%  1939 Out of 19944Progress: 9%  1940 Out of 19944Progress: 9%  1941 Out of 19944Progress: 9%  1942 Out of 19944Progress: 9%  1943 Out of 19944Progress: 9%  1944 Out of 19944Progress: 9%  1945 Out of 19944Progress: 9%  1946 Out of 19944Progress: 9%  1947 Out of 19944Progress: 9%  1948 Out of 19944Progress: 9%  1949 Out of 19944Progress: 9%  1950 Out of 19944Progress: 9%  1951 Out of 19944Progress: 9%  1952 Out of 19944Progress: 9%  1953 Out of 19944Progress: 9%  1954 Out of 19944Progress: 9%  1955 Out of 19944Progress: 9%  1956 Out of 19944Progress: 9%  1957 Out of 19944Progress: 9%  1958 Out of 19944Progress: 9%  1959 Out of 19944Progress: 9%  1960 Out of 19944Progress: 9%  1961 Out of 19944Progress: 9%  1962 Out of 19944Progress: 9%  1963 Out of 19944Progress: 9%  1964 Out of 19944Progress: 9%  1965 Out of 19944Progress: 9%  1966 Out of 19944Progress: 9%  1967 Out of 19944Progress: 9%  1968 Out of 19944Progress: 9%  1969 Out of 19944Progress: 9%  1970 Out of 19944Progress: 9%  1971 Out of 19944Progress: 9%  1972 Out of 19944Progress: 9%  1973 Out of 19944Progress: 9%  1974 Out of 19944Progress: 9%  1975 Out of 19944Progress: 9%  1976 Out of 19944Progress: 9%  1977 Out of 19944Progress: 9%  1978 Out of 19944Progress: 9%  1979 Out of 19944Progress: 9%  1980 Out of 19944Progress: 9%  1981 Out of 19944Progress: 9%  1982 Out of 19944Progress: 9%  1983 Out of 19944Progress: 9%  1984 Out of 19944Progress: 9%  1985 Out of 19944Progress: 9%  1986 Out of 19944Progress: 9%  1987 Out of 19944Progress: 9%  1988 Out of 19944Progress: 9%  1989 Out of 19944Progress: 9%  1990 Out of 19944Progress: 9%  1991 Out of 19944Progress: 9%  1992 Out of 19944Progress: 9%  1993 Out of 19944Progress: 9%  1994 Out of 19944Progress: 10%  1995 Out of 19944Progress: 10%  1996 Out of 19944Progress: 10%  1997 Out of 19944Progress: 10%  1998 Out of 19944Progress: 10%  1999 Out of 19944Progress: 10%  2000 Out of 19944Progress: 10%  2001 Out of 19944Progress: 10%  2002 Out of 19944Progress: 10%  2003 Out of 19944Progress: 10%  2004 Out of 19944Progress: 10%  2005 Out of 19944Progress: 10%  2006 Out of 19944Progress: 10%  2007 Out of 19944Progress: 10%  2008 Out of 19944Progress: 10%  2009 Out of 19944Progress: 10%  2010 Out of 19944Progress: 10%  2011 Out of 19944Progress: 10%  2012 Out of 19944Progress: 10%  2013 Out of 19944Progress: 10%  2014 Out of 19944Progress: 10%  2015 Out of 19944Progress: 10%  2016 Out of 19944Progress: 10%  2017 Out of 19944Progress: 10%  2018 Out of 19944Progress: 10%  2019 Out of 19944Progress: 10%  2020 Out of 19944Progress: 10%  2021 Out of 19944Progress: 10%  2022 Out of 19944Progress: 10%  2023 Out of 19944Progress: 10%  2024 Out of 19944Progress: 10%  2025 Out of 19944Progress: 10%  2026 Out of 19944Progress: 10%  2027 Out of 19944Progress: 10%  2028 Out of 19944Progress: 10%  2029 Out of 19944Progress: 10%  2030 Out of 19944Progress: 10%  2031 Out of 19944Progress: 10%  2032 Out of 19944Progress: 10%  2033 Out of 19944Progress: 10%  2034 Out of 19944Progress: 10%  2035 Out of 19944Progress: 10%  2036 Out of 19944Progress: 10%  2037 Out of 19944Progress: 10%  2038 Out of 19944Progress: 10%  2039 Out of 19944Progress: 10%  2040 Out of 19944Progress: 10%  2041 Out of 19944Progress: 10%  2042 Out of 19944Progress: 10%  2043 Out of 19944Progress: 10%  2044 Out of 19944Progress: 10%  2045 Out of 19944Progress: 10%  2046 Out of 19944Progress: 10%  2047 Out of 19944Progress: 10%  2048 Out of 19944Progress: 10%  2049 Out of 19944Progress: 10%  2050 Out of 19944Progress: 10%  2051 Out of 19944Progress: 10%  2052 Out of 19944Progress: 10%  2053 Out of 19944Progress: 10%  2054 Out of 19944Progress: 10%  2055 Out of 19944Progress: 10%  2056 Out of 19944Progress: 10%  2057 Out of 19944Progress: 10%  2058 Out of 19944Progress: 10%  2059 Out of 19944Progress: 10%  2060 Out of 19944Progress: 10%  2061 Out of 19944Progress: 10%  2062 Out of 19944Progress: 10%  2063 Out of 19944Progress: 10%  2064 Out of 19944Progress: 10%  2065 Out of 19944Progress: 10%  2066 Out of 19944Progress: 10%  2067 Out of 19944Progress: 10%  2068 Out of 19944Progress: 10%  2069 Out of 19944Progress: 10%  2070 Out of 19944Progress: 10%  2071 Out of 19944Progress: 10%  2072 Out of 19944Progress: 10%  2073 Out of 19944Progress: 10%  2074 Out of 19944Progress: 10%  2075 Out of 19944Progress: 10%  2076 Out of 19944Progress: 10%  2077 Out of 19944Progress: 10%  2078 Out of 19944Progress: 10%  2079 Out of 19944Progress: 10%  2080 Out of 19944Progress: 10%  2081 Out of 19944Progress: 10%  2082 Out of 19944Progress: 10%  2083 Out of 19944Progress: 10%  2084 Out of 19944Progress: 10%  2085 Out of 19944Progress: 10%  2086 Out of 19944Progress: 10%  2087 Out of 19944Progress: 10%  2088 Out of 19944Progress: 10%  2089 Out of 19944Progress: 10%  2090 Out of 19944Progress: 10%  2091 Out of 19944Progress: 10%  2092 Out of 19944Progress: 10%  2093 Out of 19944Progress: 10%  2094 Out of 19944Progress: 10%  2095 Out of 19944Progress: 10%  2096 Out of 19944Progress: 10%  2097 Out of 19944Progress: 10%  2098 Out of 19944Progress: 10%  2099 Out of 19944Progress: 10%  2100 Out of 19944Progress: 10%  2101 Out of 19944Progress: 10%  2102 Out of 19944Progress: 10%  2103 Out of 19944Progress: 10%  2104 Out of 19944Progress: 10%  2105 Out of 19944Progress: 10%  2106 Out of 19944Progress: 10%  2107 Out of 19944Progress: 10%  2108 Out of 19944Progress: 10%  2109 Out of 19944Progress: 10%  2110 Out of 19944Progress: 10%  2111 Out of 19944Progress: 10%  2112 Out of 19944Progress: 10%  2113 Out of 19944Progress: 10%  2114 Out of 19944Progress: 10%  2115 Out of 19944Progress: 10%  2116 Out of 19944Progress: 10%  2117 Out of 19944Progress: 10%  2118 Out of 19944Progress: 10%  2119 Out of 19944Progress: 10%  2120 Out of 19944Progress: 10%  2121 Out of 19944Progress: 10%  2122 Out of 19944Progress: 10%  2123 Out of 19944Progress: 10%  2124 Out of 19944Progress: 10%  2125 Out of 19944Progress: 10%  2126 Out of 19944Progress: 10%  2127 Out of 19944Progress: 10%  2128 Out of 19944Progress: 10%  2129 Out of 19944Progress: 10%  2130 Out of 19944Progress: 10%  2131 Out of 19944Progress: 10%  2132 Out of 19944Progress: 10%  2133 Out of 19944Progress: 10%  2134 Out of 19944Progress: 10%  2135 Out of 19944Progress: 10%  2136 Out of 19944Progress: 10%  2137 Out of 19944Progress: 10%  2138 Out of 19944Progress: 10%  2139 Out of 19944Progress: 10%  2140 Out of 19944Progress: 10%  2141 Out of 19944Progress: 10%  2142 Out of 19944Progress: 10%  2143 Out of 19944Progress: 10%  2144 Out of 19944Progress: 10%  2145 Out of 19944Progress: 10%  2146 Out of 19944Progress: 10%  2147 Out of 19944Progress: 10%  2148 Out of 19944Progress: 10%  2149 Out of 19944Progress: 10%  2150 Out of 19944Progress: 10%  2151 Out of 19944Progress: 10%  2152 Out of 19944Progress: 10%  2153 Out of 19944Progress: 10%  2154 Out of 19944Progress: 10%  2155 Out of 19944Progress: 10%  2156 Out of 19944Progress: 10%  2157 Out of 19944Progress: 10%  2158 Out of 19944Progress: 10%  2159 Out of 19944Progress: 10%  2160 Out of 19944Progress: 10%  2161 Out of 19944Progress: 10%  2162 Out of 19944Progress: 10%  2163 Out of 19944Progress: 10%  2164 Out of 19944Progress: 10%  2165 Out of 19944Progress: 10%  2166 Out of 19944Progress: 10%  2167 Out of 19944Progress: 10%  2168 Out of 19944Progress: 10%  2169 Out of 19944Progress: 10%  2170 Out of 19944Progress: 10%  2171 Out of 19944Progress: 10%  2172 Out of 19944Progress: 10%  2173 Out of 19944Progress: 10%  2174 Out of 19944Progress: 10%  2175 Out of 19944Progress: 10%  2176 Out of 19944Progress: 10%  2177 Out of 19944Progress: 10%  2178 Out of 19944Progress: 10%  2179 Out of 19944Progress: 10%  2180 Out of 19944Progress: 10%  2181 Out of 19944Progress: 10%  2182 Out of 19944Progress: 10%  2183 Out of 19944Progress: 10%  2184 Out of 19944Progress: 10%  2185 Out of 19944Progress: 10%  2186 Out of 19944Progress: 10%  2187 Out of 19944Progress: 10%  2188 Out of 19944Progress: 10%  2189 Out of 19944Progress: 10%  2190 Out of 19944Progress: 10%  2191 Out of 19944Progress: 10%  2192 Out of 19944Progress: 10%  2193 Out of 19944Progress: 11%  2194 Out of 19944Progress: 11%  2195 Out of 19944Progress: 11%  2196 Out of 19944Progress: 11%  2197 Out of 19944Progress: 11%  2198 Out of 19944Progress: 11%  2199 Out of 19944Progress: 11%  2200 Out of 19944Progress: 11%  2201 Out of 19944Progress: 11%  2202 Out of 19944Progress: 11%  2203 Out of 19944Progress: 11%  2204 Out of 19944Progress: 11%  2205 Out of 19944Progress: 11%  2206 Out of 19944Progress: 11%  2207 Out of 19944Progress: 11%  2208 Out of 19944Progress: 11%  2209 Out of 19944Progress: 11%  2210 Out of 19944Progress: 11%  2211 Out of 19944Progress: 11%  2212 Out of 19944Progress: 11%  2213 Out of 19944Progress: 11%  2214 Out of 19944Progress: 11%  2215 Out of 19944Progress: 11%  2216 Out of 19944Progress: 11%  2217 Out of 19944Progress: 11%  2218 Out of 19944Progress: 11%  2219 Out of 19944Progress: 11%  2220 Out of 19944Progress: 11%  2221 Out of 19944Progress: 11%  2222 Out of 19944Progress: 11%  2223 Out of 19944Progress: 11%  2224 Out of 19944Progress: 11%  2225 Out of 19944Progress: 11%  2226 Out of 19944Progress: 11%  2227 Out of 19944Progress: 11%  2228 Out of 19944Progress: 11%  2229 Out of 19944Progress: 11%  2230 Out of 19944Progress: 11%  2231 Out of 19944Progress: 11%  2232 Out of 19944Progress: 11%  2233 Out of 19944Progress: 11%  2234 Out of 19944Progress: 11%  2235 Out of 19944Progress: 11%  2236 Out of 19944Progress: 11%  2237 Out of 19944Progress: 11%  2238 Out of 19944Progress: 11%  2239 Out of 19944Progress: 11%  2240 Out of 19944Progress: 11%  2241 Out of 19944Progress: 11%  2242 Out of 19944Progress: 11%  2243 Out of 19944Progress: 11%  2244 Out of 19944Progress: 11%  2245 Out of 19944Progress: 11%  2246 Out of 19944Progress: 11%  2247 Out of 19944Progress: 11%  2248 Out of 19944Progress: 11%  2249 Out of 19944Progress: 11%  2250 Out of 19944Progress: 11%  2251 Out of 19944Progress: 11%  2252 Out of 19944Progress: 11%  2253 Out of 19944Progress: 11%  2254 Out of 19944Progress: 11%  2255 Out of 19944Progress: 11%  2256 Out of 19944Progress: 11%  2257 Out of 19944Progress: 11%  2258 Out of 19944Progress: 11%  2259 Out of 19944Progress: 11%  2260 Out of 19944Progress: 11%  2261 Out of 19944Progress: 11%  2262 Out of 19944Progress: 11%  2263 Out of 19944Progress: 11%  2264 Out of 19944Progress: 11%  2265 Out of 19944Progress: 11%  2266 Out of 19944Progress: 11%  2267 Out of 19944Progress: 11%  2268 Out of 19944Progress: 11%  2269 Out of 19944Progress: 11%  2270 Out of 19944Progress: 11%  2271 Out of 19944Progress: 11%  2272 Out of 19944Progress: 11%  2273 Out of 19944Progress: 11%  2274 Out of 19944Progress: 11%  2275 Out of 19944Progress: 11%  2276 Out of 19944Progress: 11%  2277 Out of 19944Progress: 11%  2278 Out of 19944Progress: 11%  2279 Out of 19944Progress: 11%  2280 Out of 19944Progress: 11%  2281 Out of 19944Progress: 11%  2282 Out of 19944Progress: 11%  2283 Out of 19944Progress: 11%  2284 Out of 19944Progress: 11%  2285 Out of 19944Progress: 11%  2286 Out of 19944Progress: 11%  2287 Out of 19944Progress: 11%  2288 Out of 19944Progress: 11%  2289 Out of 19944Progress: 11%  2290 Out of 19944Progress: 11%  2291 Out of 19944Progress: 11%  2292 Out of 19944Progress: 11%  2293 Out of 19944Progress: 11%  2294 Out of 19944Progress: 11%  2295 Out of 19944Progress: 11%  2296 Out of 19944Progress: 11%  2297 Out of 19944Progress: 11%  2298 Out of 19944Progress: 11%  2299 Out of 19944Progress: 11%  2300 Out of 19944Progress: 11%  2301 Out of 19944Progress: 11%  2302 Out of 19944Progress: 11%  2303 Out of 19944Progress: 11%  2304 Out of 19944Progress: 11%  2305 Out of 19944Progress: 11%  2306 Out of 19944Progress: 11%  2307 Out of 19944Progress: 11%  2308 Out of 19944Progress: 11%  2309 Out of 19944Progress: 11%  2310 Out of 19944Progress: 11%  2311 Out of 19944Progress: 11%  2312 Out of 19944Progress: 11%  2313 Out of 19944Progress: 11%  2314 Out of 19944Progress: 11%  2315 Out of 19944Progress: 11%  2316 Out of 19944Progress: 11%  2317 Out of 19944Progress: 11%  2318 Out of 19944Progress: 11%  2319 Out of 19944Progress: 11%  2320 Out of 19944Progress: 11%  2321 Out of 19944Progress: 11%  2322 Out of 19944Progress: 11%  2323 Out of 19944Progress: 11%  2324 Out of 19944Progress: 11%  2325 Out of 19944Progress: 11%  2326 Out of 19944Progress: 11%  2327 Out of 19944Progress: 11%  2328 Out of 19944Progress: 11%  2329 Out of 19944Progress: 11%  2330 Out of 19944Progress: 11%  2331 Out of 19944Progress: 11%  2332 Out of 19944Progress: 11%  2333 Out of 19944Progress: 11%  2334 Out of 19944Progress: 11%  2335 Out of 19944Progress: 11%  2336 Out of 19944Progress: 11%  2337 Out of 19944Progress: 11%  2338 Out of 19944Progress: 11%  2339 Out of 19944Progress: 11%  2340 Out of 19944Progress: 11%  2341 Out of 19944Progress: 11%  2342 Out of 19944Progress: 11%  2343 Out of 19944Progress: 11%  2344 Out of 19944Progress: 11%  2345 Out of 19944Progress: 11%  2346 Out of 19944Progress: 11%  2347 Out of 19944Progress: 11%  2348 Out of 19944Progress: 11%  2349 Out of 19944Progress: 11%  2350 Out of 19944Progress: 11%  2351 Out of 19944Progress: 11%  2352 Out of 19944Progress: 11%  2353 Out of 19944Progress: 11%  2354 Out of 19944Progress: 11%  2355 Out of 19944Progress: 11%  2356 Out of 19944Progress: 11%  2357 Out of 19944Progress: 11%  2358 Out of 19944Progress: 11%  2359 Out of 19944Progress: 11%  2360 Out of 19944Progress: 11%  2361 Out of 19944Progress: 11%  2362 Out of 19944Progress: 11%  2363 Out of 19944Progress: 11%  2364 Out of 19944Progress: 11%  2365 Out of 19944Progress: 11%  2366 Out of 19944Progress: 11%  2367 Out of 19944Progress: 11%  2368 Out of 19944Progress: 11%  2369 Out of 19944Progress: 11%  2370 Out of 19944Progress: 11%  2371 Out of 19944Progress: 11%  2372 Out of 19944Progress: 11%  2373 Out of 19944Progress: 11%  2374 Out of 19944Progress: 11%  2375 Out of 19944Progress: 11%  2376 Out of 19944Progress: 11%  2377 Out of 19944Progress: 11%  2378 Out of 19944Progress: 11%  2379 Out of 19944Progress: 11%  2380 Out of 19944Progress: 11%  2381 Out of 19944Progress: 11%  2382 Out of 19944Progress: 11%  2383 Out of 19944Progress: 11%  2384 Out of 19944Progress: 11%  2385 Out of 19944Progress: 11%  2386 Out of 19944Progress: 11%  2387 Out of 19944Progress: 11%  2388 Out of 19944Progress: 11%  2389 Out of 19944Progress: 11%  2390 Out of 19944Progress: 11%  2391 Out of 19944Progress: 11%  2392 Out of 19944Progress: 11%  2393 Out of 19944Progress: 12%  2394 Out of 19944Progress: 12%  2395 Out of 19944Progress: 12%  2396 Out of 19944Progress: 12%  2397 Out of 19944Progress: 12%  2398 Out of 19944Progress: 12%  2399 Out of 19944Progress: 12%  2400 Out of 19944Progress: 12%  2401 Out of 19944Progress: 12%  2402 Out of 19944Progress: 12%  2403 Out of 19944Progress: 12%  2404 Out of 19944Progress: 12%  2405 Out of 19944Progress: 12%  2406 Out of 19944Progress: 12%  2407 Out of 19944Progress: 12%  2408 Out of 19944Progress: 12%  2409 Out of 19944Progress: 12%  2410 Out of 19944Progress: 12%  2411 Out of 19944Progress: 12%  2412 Out of 19944Progress: 12%  2413 Out of 19944Progress: 12%  2414 Out of 19944Progress: 12%  2415 Out of 19944Progress: 12%  2416 Out of 19944Progress: 12%  2417 Out of 19944Progress: 12%  2418 Out of 19944Progress: 12%  2419 Out of 19944Progress: 12%  2420 Out of 19944Progress: 12%  2421 Out of 19944Progress: 12%  2422 Out of 19944Progress: 12%  2423 Out of 19944Progress: 12%  2424 Out of 19944Progress: 12%  2425 Out of 19944Progress: 12%  2426 Out of 19944Progress: 12%  2427 Out of 19944Progress: 12%  2428 Out of 19944Progress: 12%  2429 Out of 19944Progress: 12%  2430 Out of 19944Progress: 12%  2431 Out of 19944Progress: 12%  2432 Out of 19944Progress: 12%  2433 Out of 19944Progress: 12%  2434 Out of 19944Progress: 12%  2435 Out of 19944Progress: 12%  2436 Out of 19944Progress: 12%  2437 Out of 19944Progress: 12%  2438 Out of 19944Progress: 12%  2439 Out of 19944Progress: 12%  2440 Out of 19944Progress: 12%  2441 Out of 19944Progress: 12%  2442 Out of 19944Progress: 12%  2443 Out of 19944Progress: 12%  2444 Out of 19944Progress: 12%  2445 Out of 19944Progress: 12%  2446 Out of 19944Progress: 12%  2447 Out of 19944Progress: 12%  2448 Out of 19944Progress: 12%  2449 Out of 19944Progress: 12%  2450 Out of 19944Progress: 12%  2451 Out of 19944Progress: 12%  2452 Out of 19944Progress: 12%  2453 Out of 19944Progress: 12%  2454 Out of 19944Progress: 12%  2455 Out of 19944Progress: 12%  2456 Out of 19944Progress: 12%  2457 Out of 19944Progress: 12%  2458 Out of 19944Progress: 12%  2459 Out of 19944Progress: 12%  2460 Out of 19944Progress: 12%  2461 Out of 19944Progress: 12%  2462 Out of 19944Progress: 12%  2463 Out of 19944Progress: 12%  2464 Out of 19944Progress: 12%  2465 Out of 19944Progress: 12%  2466 Out of 19944Progress: 12%  2467 Out of 19944Progress: 12%  2468 Out of 19944Progress: 12%  2469 Out of 19944Progress: 12%  2470 Out of 19944Progress: 12%  2471 Out of 19944Progress: 12%  2472 Out of 19944Progress: 12%  2473 Out of 19944Progress: 12%  2474 Out of 19944Progress: 12%  2475 Out of 19944Progress: 12%  2476 Out of 19944Progress: 12%  2477 Out of 19944Progress: 12%  2478 Out of 19944Progress: 12%  2479 Out of 19944Progress: 12%  2480 Out of 19944Progress: 12%  2481 Out of 19944Progress: 12%  2482 Out of 19944Progress: 12%  2483 Out of 19944Progress: 12%  2484 Out of 19944Progress: 12%  2485 Out of 19944Progress: 12%  2486 Out of 19944Progress: 12%  2487 Out of 19944Progress: 12%  2488 Out of 19944Progress: 12%  2489 Out of 19944Progress: 12%  2490 Out of 19944Progress: 12%  2491 Out of 19944Progress: 12%  2492 Out of 19944Progress: 12%  2493 Out of 19944Progress: 12%  2494 Out of 19944Progress: 12%  2495 Out of 19944Progress: 12%  2496 Out of 19944Progress: 12%  2497 Out of 19944Progress: 12%  2498 Out of 19944Progress: 12%  2499 Out of 19944Progress: 12%  2500 Out of 19944Progress: 12%  2501 Out of 19944Progress: 12%  2502 Out of 19944Progress: 12%  2503 Out of 19944Progress: 12%  2504 Out of 19944Progress: 12%  2505 Out of 19944Progress: 12%  2506 Out of 19944Progress: 12%  2507 Out of 19944Progress: 12%  2508 Out of 19944Progress: 12%  2509 Out of 19944Progress: 12%  2510 Out of 19944Progress: 12%  2511 Out of 19944Progress: 12%  2512 Out of 19944Progress: 12%  2513 Out of 19944Progress: 12%  2514 Out of 19944Progress: 12%  2515 Out of 19944Progress: 12%  2516 Out of 19944Progress: 12%  2517 Out of 19944Progress: 12%  2518 Out of 19944Progress: 12%  2519 Out of 19944Progress: 12%  2520 Out of 19944Progress: 12%  2521 Out of 19944Progress: 12%  2522 Out of 19944Progress: 12%  2523 Out of 19944Progress: 12%  2524 Out of 19944Progress: 12%  2525 Out of 19944Progress: 12%  2526 Out of 19944Progress: 12%  2527 Out of 19944Progress: 12%  2528 Out of 19944Progress: 12%  2529 Out of 19944Progress: 12%  2530 Out of 19944Progress: 12%  2531 Out of 19944Progress: 12%  2532 Out of 19944Progress: 12%  2533 Out of 19944Progress: 12%  2534 Out of 19944Progress: 12%  2535 Out of 19944Progress: 12%  2536 Out of 19944Progress: 12%  2537 Out of 19944Progress: 12%  2538 Out of 19944Progress: 12%  2539 Out of 19944Progress: 12%  2540 Out of 19944Progress: 12%  2541 Out of 19944Progress: 12%  2542 Out of 19944Progress: 12%  2543 Out of 19944Progress: 12%  2544 Out of 19944Progress: 12%  2545 Out of 19944Progress: 12%  2546 Out of 19944Progress: 12%  2547 Out of 19944Progress: 12%  2548 Out of 19944Progress: 12%  2549 Out of 19944Progress: 12%  2550 Out of 19944Progress: 12%  2551 Out of 19944Progress: 12%  2552 Out of 19944Progress: 12%  2553 Out of 19944Progress: 12%  2554 Out of 19944Progress: 12%  2555 Out of 19944Progress: 12%  2556 Out of 19944Progress: 12%  2557 Out of 19944Progress: 12%  2558 Out of 19944Progress: 12%  2559 Out of 19944Progress: 12%  2560 Out of 19944Progress: 12%  2561 Out of 19944Progress: 12%  2562 Out of 19944Progress: 12%  2563 Out of 19944Progress: 12%  2564 Out of 19944Progress: 12%  2565 Out of 19944Progress: 12%  2566 Out of 19944Progress: 12%  2567 Out of 19944Progress: 12%  2568 Out of 19944Progress: 12%  2569 Out of 19944Progress: 12%  2570 Out of 19944Progress: 12%  2571 Out of 19944Progress: 12%  2572 Out of 19944Progress: 12%  2573 Out of 19944Progress: 12%  2574 Out of 19944Progress: 12%  2575 Out of 19944Progress: 12%  2576 Out of 19944Progress: 12%  2577 Out of 19944Progress: 12%  2578 Out of 19944Progress: 12%  2579 Out of 19944Progress: 12%  2580 Out of 19944Progress: 12%  2581 Out of 19944Progress: 12%  2582 Out of 19944Progress: 12%  2583 Out of 19944Progress: 12%  2584 Out of 19944Progress: 12%  2585 Out of 19944Progress: 12%  2586 Out of 19944Progress: 12%  2587 Out of 19944Progress: 12%  2588 Out of 19944Progress: 12%  2589 Out of 19944Progress: 12%  2590 Out of 19944Progress: 12%  2591 Out of 19944Progress: 12%  2592 Out of 19944Progress: 13%  2593 Out of 19944Progress: 13%  2594 Out of 19944Progress: 13%  2595 Out of 19944Progress: 13%  2596 Out of 19944Progress: 13%  2597 Out of 19944Progress: 13%  2598 Out of 19944Progress: 13%  2599 Out of 19944Progress: 13%  2600 Out of 19944Progress: 13%  2601 Out of 19944Progress: 13%  2602 Out of 19944Progress: 13%  2603 Out of 19944Progress: 13%  2604 Out of 19944Progress: 13%  2605 Out of 19944Progress: 13%  2606 Out of 19944Progress: 13%  2607 Out of 19944Progress: 13%  2608 Out of 19944Progress: 13%  2609 Out of 19944Progress: 13%  2610 Out of 19944Progress: 13%  2611 Out of 19944Progress: 13%  2612 Out of 19944Progress: 13%  2613 Out of 19944Progress: 13%  2614 Out of 19944Progress: 13%  2615 Out of 19944Progress: 13%  2616 Out of 19944Progress: 13%  2617 Out of 19944Progress: 13%  2618 Out of 19944Progress: 13%  2619 Out of 19944Progress: 13%  2620 Out of 19944Progress: 13%  2621 Out of 19944Progress: 13%  2622 Out of 19944Progress: 13%  2623 Out of 19944Progress: 13%  2624 Out of 19944Progress: 13%  2625 Out of 19944Progress: 13%  2626 Out of 19944Progress: 13%  2627 Out of 19944Progress: 13%  2628 Out of 19944Progress: 13%  2629 Out of 19944Progress: 13%  2630 Out of 19944Progress: 13%  2631 Out of 19944Progress: 13%  2632 Out of 19944Progress: 13%  2633 Out of 19944Progress: 13%  2634 Out of 19944Progress: 13%  2635 Out of 19944Progress: 13%  2636 Out of 19944Progress: 13%  2637 Out of 19944Progress: 13%  2638 Out of 19944Progress: 13%  2639 Out of 19944Progress: 13%  2640 Out of 19944Progress: 13%  2641 Out of 19944Progress: 13%  2642 Out of 19944Progress: 13%  2643 Out of 19944Progress: 13%  2644 Out of 19944Progress: 13%  2645 Out of 19944Progress: 13%  2646 Out of 19944Progress: 13%  2647 Out of 19944Progress: 13%  2648 Out of 19944Progress: 13%  2649 Out of 19944Progress: 13%  2650 Out of 19944Progress: 13%  2651 Out of 19944Progress: 13%  2652 Out of 19944Progress: 13%  2653 Out of 19944Progress: 13%  2654 Out of 19944Progress: 13%  2655 Out of 19944Progress: 13%  2656 Out of 19944Progress: 13%  2657 Out of 19944Progress: 13%  2658 Out of 19944Progress: 13%  2659 Out of 19944Progress: 13%  2660 Out of 19944Progress: 13%  2661 Out of 19944Progress: 13%  2662 Out of 19944Progress: 13%  2663 Out of 19944Progress: 13%  2664 Out of 19944Progress: 13%  2665 Out of 19944Progress: 13%  2666 Out of 19944Progress: 13%  2667 Out of 19944Progress: 13%  2668 Out of 19944Progress: 13%  2669 Out of 19944Progress: 13%  2670 Out of 19944Progress: 13%  2671 Out of 19944Progress: 13%  2672 Out of 19944Progress: 13%  2673 Out of 19944Progress: 13%  2674 Out of 19944Progress: 13%  2675 Out of 19944Progress: 13%  2676 Out of 19944Progress: 13%  2677 Out of 19944Progress: 13%  2678 Out of 19944Progress: 13%  2679 Out of 19944Progress: 13%  2680 Out of 19944Progress: 13%  2681 Out of 19944Progress: 13%  2682 Out of 19944Progress: 13%  2683 Out of 19944Progress: 13%  2684 Out of 19944Progress: 13%  2685 Out of 19944Progress: 13%  2686 Out of 19944Progress: 13%  2687 Out of 19944Progress: 13%  2688 Out of 19944Progress: 13%  2689 Out of 19944Progress: 13%  2690 Out of 19944Progress: 13%  2691 Out of 19944Progress: 13%  2692 Out of 19944Progress: 13%  2693 Out of 19944Progress: 13%  2694 Out of 19944Progress: 13%  2695 Out of 19944Progress: 13%  2696 Out of 19944Progress: 13%  2697 Out of 19944Progress: 13%  2698 Out of 19944Progress: 13%  2699 Out of 19944Progress: 13%  2700 Out of 19944Progress: 13%  2701 Out of 19944Progress: 13%  2702 Out of 19944Progress: 13%  2703 Out of 19944Progress: 13%  2704 Out of 19944Progress: 13%  2705 Out of 19944Progress: 13%  2706 Out of 19944Progress: 13%  2707 Out of 19944Progress: 13%  2708 Out of 19944Progress: 13%  2709 Out of 19944Progress: 13%  2710 Out of 19944Progress: 13%  2711 Out of 19944Progress: 13%  2712 Out of 19944Progress: 13%  2713 Out of 19944Progress: 13%  2714 Out of 19944Progress: 13%  2715 Out of 19944Progress: 13%  2716 Out of 19944Progress: 13%  2717 Out of 19944Progress: 13%  2718 Out of 19944Progress: 13%  2719 Out of 19944Progress: 13%  2720 Out of 19944Progress: 13%  2721 Out of 19944Progress: 13%  2722 Out of 19944Progress: 13%  2723 Out of 19944Progress: 13%  2724 Out of 19944Progress: 13%  2725 Out of 19944Progress: 13%  2726 Out of 19944Progress: 13%  2727 Out of 19944Progress: 13%  2728 Out of 19944Progress: 13%  2729 Out of 19944Progress: 13%  2730 Out of 19944Progress: 13%  2731 Out of 19944Progress: 13%  2732 Out of 19944Progress: 13%  2733 Out of 19944Progress: 13%  2734 Out of 19944Progress: 13%  2735 Out of 19944Progress: 13%  2736 Out of 19944Progress: 13%  2737 Out of 19944Progress: 13%  2738 Out of 19944Progress: 13%  2739 Out of 19944Progress: 13%  2740 Out of 19944Progress: 13%  2741 Out of 19944Progress: 13%  2742 Out of 19944Progress: 13%  2743 Out of 19944Progress: 13%  2744 Out of 19944Progress: 13%  2745 Out of 19944Progress: 13%  2746 Out of 19944Progress: 13%  2747 Out of 19944Progress: 13%  2748 Out of 19944Progress: 13%  2749 Out of 19944Progress: 13%  2750 Out of 19944Progress: 13%  2751 Out of 19944Progress: 13%  2752 Out of 19944Progress: 13%  2753 Out of 19944Progress: 13%  2754 Out of 19944Progress: 13%  2755 Out of 19944Progress: 13%  2756 Out of 19944Progress: 13%  2757 Out of 19944Progress: 13%  2758 Out of 19944Progress: 13%  2759 Out of 19944Progress: 13%  2760 Out of 19944Progress: 13%  2761 Out of 19944Progress: 13%  2762 Out of 19944Progress: 13%  2763 Out of 19944Progress: 13%  2764 Out of 19944Progress: 13%  2765 Out of 19944Progress: 13%  2766 Out of 19944Progress: 13%  2767 Out of 19944Progress: 13%  2768 Out of 19944Progress: 13%  2769 Out of 19944Progress: 13%  2770 Out of 19944Progress: 13%  2771 Out of 19944Progress: 13%  2772 Out of 19944Progress: 13%  2773 Out of 19944Progress: 13%  2774 Out of 19944Progress: 13%  2775 Out of 19944Progress: 13%  2776 Out of 19944Progress: 13%  2777 Out of 19944Progress: 13%  2778 Out of 19944Progress: 13%  2779 Out of 19944Progress: 13%  2780 Out of 19944Progress: 13%  2781 Out of 19944Progress: 13%  2782 Out of 19944Progress: 13%  2783 Out of 19944Progress: 13%  2784 Out of 19944Progress: 13%  2785 Out of 19944Progress: 13%  2786 Out of 19944Progress: 13%  2787 Out of 19944Progress: 13%  2788 Out of 19944Progress: 13%  2789 Out of 19944Progress: 13%  2790 Out of 19944Progress: 13%  2791 Out of 19944Progress: 13%  2792 Out of 19944Progress: 14%  2793 Out of 19944Progress: 14%  2794 Out of 19944Progress: 14%  2795 Out of 19944Progress: 14%  2796 Out of 19944Progress: 14%  2797 Out of 19944Progress: 14%  2798 Out of 19944Progress: 14%  2799 Out of 19944Progress: 14%  2800 Out of 19944Progress: 14%  2801 Out of 19944Progress: 14%  2802 Out of 19944Progress: 14%  2803 Out of 19944Progress: 14%  2804 Out of 19944Progress: 14%  2805 Out of 19944Progress: 14%  2806 Out of 19944Progress: 14%  2807 Out of 19944Progress: 14%  2808 Out of 19944Progress: 14%  2809 Out of 19944Progress: 14%  2810 Out of 19944Progress: 14%  2811 Out of 19944Progress: 14%  2812 Out of 19944Progress: 14%  2813 Out of 19944Progress: 14%  2814 Out of 19944Progress: 14%  2815 Out of 19944Progress: 14%  2816 Out of 19944Progress: 14%  2817 Out of 19944Progress: 14%  2818 Out of 19944Progress: 14%  2819 Out of 19944Progress: 14%  2820 Out of 19944Progress: 14%  2821 Out of 19944Progress: 14%  2822 Out of 19944Progress: 14%  2823 Out of 19944Progress: 14%  2824 Out of 19944Progress: 14%  2825 Out of 19944Progress: 14%  2826 Out of 19944Progress: 14%  2827 Out of 19944Progress: 14%  2828 Out of 19944Progress: 14%  2829 Out of 19944Progress: 14%  2830 Out of 19944Progress: 14%  2831 Out of 19944Progress: 14%  2832 Out of 19944Progress: 14%  2833 Out of 19944Progress: 14%  2834 Out of 19944Progress: 14%  2835 Out of 19944Progress: 14%  2836 Out of 19944Progress: 14%  2837 Out of 19944Progress: 14%  2838 Out of 19944Progress: 14%  2839 Out of 19944Progress: 14%  2840 Out of 19944Progress: 14%  2841 Out of 19944Progress: 14%  2842 Out of 19944Progress: 14%  2843 Out of 19944Progress: 14%  2844 Out of 19944Progress: 14%  2845 Out of 19944Progress: 14%  2846 Out of 19944Progress: 14%  2847 Out of 19944Progress: 14%  2848 Out of 19944Progress: 14%  2849 Out of 19944Progress: 14%  2850 Out of 19944Progress: 14%  2851 Out of 19944Progress: 14%  2852 Out of 19944Progress: 14%  2853 Out of 19944Progress: 14%  2854 Out of 19944Progress: 14%  2855 Out of 19944Progress: 14%  2856 Out of 19944Progress: 14%  2857 Out of 19944Progress: 14%  2858 Out of 19944Progress: 14%  2859 Out of 19944Progress: 14%  2860 Out of 19944Progress: 14%  2861 Out of 19944Progress: 14%  2862 Out of 19944Progress: 14%  2863 Out of 19944Progress: 14%  2864 Out of 19944Progress: 14%  2865 Out of 19944Progress: 14%  2866 Out of 19944Progress: 14%  2867 Out of 19944Progress: 14%  2868 Out of 19944Progress: 14%  2869 Out of 19944Progress: 14%  2870 Out of 19944Progress: 14%  2871 Out of 19944Progress: 14%  2872 Out of 19944Progress: 14%  2873 Out of 19944Progress: 14%  2874 Out of 19944Progress: 14%  2875 Out of 19944Progress: 14%  2876 Out of 19944Progress: 14%  2877 Out of 19944Progress: 14%  2878 Out of 19944Progress: 14%  2879 Out of 19944Progress: 14%  2880 Out of 19944Progress: 14%  2881 Out of 19944Progress: 14%  2882 Out of 19944Progress: 14%  2883 Out of 19944Progress: 14%  2884 Out of 19944Progress: 14%  2885 Out of 19944Progress: 14%  2886 Out of 19944Progress: 14%  2887 Out of 19944Progress: 14%  2888 Out of 19944Progress: 14%  2889 Out of 19944Progress: 14%  2890 Out of 19944Progress: 14%  2891 Out of 19944Progress: 14%  2892 Out of 19944Progress: 14%  2893 Out of 19944Progress: 14%  2894 Out of 19944Progress: 14%  2895 Out of 19944Progress: 14%  2896 Out of 19944Progress: 14%  2897 Out of 19944Progress: 14%  2898 Out of 19944Progress: 14%  2899 Out of 19944Progress: 14%  2900 Out of 19944Progress: 14%  2901 Out of 19944Progress: 14%  2902 Out of 19944Progress: 14%  2903 Out of 19944Progress: 14%  2904 Out of 19944Progress: 14%  2905 Out of 19944Progress: 14%  2906 Out of 19944Progress: 14%  2907 Out of 19944Progress: 14%  2908 Out of 19944Progress: 14%  2909 Out of 19944Progress: 14%  2910 Out of 19944Progress: 14%  2911 Out of 19944Progress: 14%  2912 Out of 19944Progress: 14%  2913 Out of 19944Progress: 14%  2914 Out of 19944Progress: 14%  2915 Out of 19944Progress: 14%  2916 Out of 19944Progress: 14%  2917 Out of 19944Progress: 14%  2918 Out of 19944Progress: 14%  2919 Out of 19944Progress: 14%  2920 Out of 19944Progress: 14%  2921 Out of 19944Progress: 14%  2922 Out of 19944Progress: 14%  2923 Out of 19944Progress: 14%  2924 Out of 19944Progress: 14%  2925 Out of 19944Progress: 14%  2926 Out of 19944Progress: 14%  2927 Out of 19944Progress: 14%  2928 Out of 19944Progress: 14%  2929 Out of 19944Progress: 14%  2930 Out of 19944Progress: 14%  2931 Out of 19944Progress: 14%  2932 Out of 19944Progress: 14%  2933 Out of 19944Progress: 14%  2934 Out of 19944Progress: 14%  2935 Out of 19944Progress: 14%  2936 Out of 19944Progress: 14%  2937 Out of 19944Progress: 14%  2938 Out of 19944Progress: 14%  2939 Out of 19944Progress: 14%  2940 Out of 19944Progress: 14%  2941 Out of 19944Progress: 14%  2942 Out of 19944Progress: 14%  2943 Out of 19944Progress: 14%  2944 Out of 19944Progress: 14%  2945 Out of 19944Progress: 14%  2946 Out of 19944Progress: 14%  2947 Out of 19944Progress: 14%  2948 Out of 19944Progress: 14%  2949 Out of 19944Progress: 14%  2950 Out of 19944Progress: 14%  2951 Out of 19944Progress: 14%  2952 Out of 19944Progress: 14%  2953 Out of 19944Progress: 14%  2954 Out of 19944Progress: 14%  2955 Out of 19944Progress: 14%  2956 Out of 19944Progress: 14%  2957 Out of 19944Progress: 14%  2958 Out of 19944Progress: 14%  2959 Out of 19944Progress: 14%  2960 Out of 19944Progress: 14%  2961 Out of 19944Progress: 14%  2962 Out of 19944Progress: 14%  2963 Out of 19944Progress: 14%  2964 Out of 19944Progress: 14%  2965 Out of 19944Progress: 14%  2966 Out of 19944Progress: 14%  2967 Out of 19944Progress: 14%  2968 Out of 19944Progress: 14%  2969 Out of 19944Progress: 14%  2970 Out of 19944Progress: 14%  2971 Out of 19944Progress: 14%  2972 Out of 19944Progress: 14%  2973 Out of 19944Progress: 14%  2974 Out of 19944Progress: 14%  2975 Out of 19944Progress: 14%  2976 Out of 19944Progress: 14%  2977 Out of 19944Progress: 14%  2978 Out of 19944Progress: 14%  2979 Out of 19944Progress: 14%  2980 Out of 19944Progress: 14%  2981 Out of 19944Progress: 14%  2982 Out of 19944Progress: 14%  2983 Out of 19944Progress: 14%  2984 Out of 19944Progress: 14%  2985 Out of 19944Progress: 14%  2986 Out of 19944Progress: 14%  2987 Out of 19944Progress: 14%  2988 Out of 19944Progress: 14%  2989 Out of 19944Progress: 14%  2990 Out of 19944Progress: 14%  2991 Out of 19944Progress: 15%  2992 Out of 19944Progress: 15%  2993 Out of 19944Progress: 15%  2994 Out of 19944Progress: 15%  2995 Out of 19944Progress: 15%  2996 Out of 19944Progress: 15%  2997 Out of 19944Progress: 15%  2998 Out of 19944Progress: 15%  2999 Out of 19944Progress: 15%  3000 Out of 19944Progress: 15%  3001 Out of 19944Progress: 15%  3002 Out of 19944Progress: 15%  3003 Out of 19944Progress: 15%  3004 Out of 19944Progress: 15%  3005 Out of 19944Progress: 15%  3006 Out of 19944Progress: 15%  3007 Out of 19944Progress: 15%  3008 Out of 19944Progress: 15%  3009 Out of 19944Progress: 15%  3010 Out of 19944Progress: 15%  3011 Out of 19944Progress: 15%  3012 Out of 19944Progress: 15%  3013 Out of 19944Progress: 15%  3014 Out of 19944Progress: 15%  3015 Out of 19944Progress: 15%  3016 Out of 19944Progress: 15%  3017 Out of 19944Progress: 15%  3018 Out of 19944Progress: 15%  3019 Out of 19944Progress: 15%  3020 Out of 19944Progress: 15%  3021 Out of 19944Progress: 15%  3022 Out of 19944Progress: 15%  3023 Out of 19944Progress: 15%  3024 Out of 19944Progress: 15%  3025 Out of 19944Progress: 15%  3026 Out of 19944Progress: 15%  3027 Out of 19944Progress: 15%  3028 Out of 19944Progress: 15%  3029 Out of 19944Progress: 15%  3030 Out of 19944Progress: 15%  3031 Out of 19944Progress: 15%  3032 Out of 19944Progress: 15%  3033 Out of 19944Progress: 15%  3034 Out of 19944Progress: 15%  3035 Out of 19944Progress: 15%  3036 Out of 19944Progress: 15%  3037 Out of 19944Progress: 15%  3038 Out of 19944Progress: 15%  3039 Out of 19944Progress: 15%  3040 Out of 19944Progress: 15%  3041 Out of 19944Progress: 15%  3042 Out of 19944Progress: 15%  3043 Out of 19944Progress: 15%  3044 Out of 19944Progress: 15%  3045 Out of 19944Progress: 15%  3046 Out of 19944Progress: 15%  3047 Out of 19944Progress: 15%  3048 Out of 19944Progress: 15%  3049 Out of 19944Progress: 15%  3050 Out of 19944Progress: 15%  3051 Out of 19944Progress: 15%  3052 Out of 19944Progress: 15%  3053 Out of 19944Progress: 15%  3054 Out of 19944Progress: 15%  3055 Out of 19944Progress: 15%  3056 Out of 19944Progress: 15%  3057 Out of 19944Progress: 15%  3058 Out of 19944Progress: 15%  3059 Out of 19944Progress: 15%  3060 Out of 19944Progress: 15%  3061 Out of 19944Progress: 15%  3062 Out of 19944Progress: 15%  3063 Out of 19944Progress: 15%  3064 Out of 19944Progress: 15%  3065 Out of 19944Progress: 15%  3066 Out of 19944Progress: 15%  3067 Out of 19944Progress: 15%  3068 Out of 19944Progress: 15%  3069 Out of 19944Progress: 15%  3070 Out of 19944Progress: 15%  3071 Out of 19944Progress: 15%  3072 Out of 19944Progress: 15%  3073 Out of 19944Progress: 15%  3074 Out of 19944Progress: 15%  3075 Out of 19944Progress: 15%  3076 Out of 19944Progress: 15%  3077 Out of 19944Progress: 15%  3078 Out of 19944Progress: 15%  3079 Out of 19944Progress: 15%  3080 Out of 19944Progress: 15%  3081 Out of 19944Progress: 15%  3082 Out of 19944Progress: 15%  3083 Out of 19944Progress: 15%  3084 Out of 19944Progress: 15%  3085 Out of 19944Progress: 15%  3086 Out of 19944Progress: 15%  3087 Out of 19944Progress: 15%  3088 Out of 19944Progress: 15%  3089 Out of 19944Progress: 15%  3090 Out of 19944Progress: 15%  3091 Out of 19944Progress: 15%  3092 Out of 19944Progress: 15%  3093 Out of 19944Progress: 15%  3094 Out of 19944Progress: 15%  3095 Out of 19944Progress: 15%  3096 Out of 19944Progress: 15%  3097 Out of 19944Progress: 15%  3098 Out of 19944Progress: 15%  3099 Out of 19944Progress: 15%  3100 Out of 19944Progress: 15%  3101 Out of 19944Progress: 15%  3102 Out of 19944Progress: 15%  3103 Out of 19944Progress: 15%  3104 Out of 19944Progress: 15%  3105 Out of 19944Progress: 15%  3106 Out of 19944Progress: 15%  3107 Out of 19944Progress: 15%  3108 Out of 19944Progress: 15%  3109 Out of 19944Progress: 15%  3110 Out of 19944Progress: 15%  3111 Out of 19944Progress: 15%  3112 Out of 19944Progress: 15%  3113 Out of 19944Progress: 15%  3114 Out of 19944Progress: 15%  3115 Out of 19944Progress: 15%  3116 Out of 19944Progress: 15%  3117 Out of 19944Progress: 15%  3118 Out of 19944Progress: 15%  3119 Out of 19944Progress: 15%  3120 Out of 19944Progress: 15%  3121 Out of 19944Progress: 15%  3122 Out of 19944Progress: 15%  3123 Out of 19944Progress: 15%  3124 Out of 19944Progress: 15%  3125 Out of 19944Progress: 15%  3126 Out of 19944Progress: 15%  3127 Out of 19944Progress: 15%  3128 Out of 19944Progress: 15%  3129 Out of 19944Progress: 15%  3130 Out of 19944Progress: 15%  3131 Out of 19944Progress: 15%  3132 Out of 19944Progress: 15%  3133 Out of 19944Progress: 15%  3134 Out of 19944Progress: 15%  3135 Out of 19944Progress: 15%  3136 Out of 19944Progress: 15%  3137 Out of 19944Progress: 15%  3138 Out of 19944Progress: 15%  3139 Out of 19944Progress: 15%  3140 Out of 19944Progress: 15%  3141 Out of 19944Progress: 15%  3142 Out of 19944Progress: 15%  3143 Out of 19944Progress: 15%  3144 Out of 19944Progress: 15%  3145 Out of 19944Progress: 15%  3146 Out of 19944Progress: 15%  3147 Out of 19944Progress: 15%  3148 Out of 19944Progress: 15%  3149 Out of 19944Progress: 15%  3150 Out of 19944Progress: 15%  3151 Out of 19944Progress: 15%  3152 Out of 19944Progress: 15%  3153 Out of 19944Progress: 15%  3154 Out of 19944Progress: 15%  3155 Out of 19944Progress: 15%  3156 Out of 19944Progress: 15%  3157 Out of 19944Progress: 15%  3158 Out of 19944Progress: 15%  3159 Out of 19944Progress: 15%  3160 Out of 19944Progress: 15%  3161 Out of 19944Progress: 15%  3162 Out of 19944Progress: 15%  3163 Out of 19944Progress: 15%  3164 Out of 19944Progress: 15%  3165 Out of 19944Progress: 15%  3166 Out of 19944Progress: 15%  3167 Out of 19944Progress: 15%  3168 Out of 19944Progress: 15%  3169 Out of 19944Progress: 15%  3170 Out of 19944Progress: 15%  3171 Out of 19944Progress: 15%  3172 Out of 19944Progress: 15%  3173 Out of 19944Progress: 15%  3174 Out of 19944Progress: 15%  3175 Out of 19944Progress: 15%  3176 Out of 19944Progress: 15%  3177 Out of 19944Progress: 15%  3178 Out of 19944Progress: 15%  3179 Out of 19944Progress: 15%  3180 Out of 19944Progress: 15%  3181 Out of 19944Progress: 15%  3182 Out of 19944Progress: 15%  3183 Out of 19944Progress: 15%  3184 Out of 19944Progress: 15%  3185 Out of 19944Progress: 15%  3186 Out of 19944Progress: 15%  3187 Out of 19944Progress: 15%  3188 Out of 19944Progress: 15%  3189 Out of 19944Progress: 15%  3190 Out of 19944Progress: 15%  3191 Out of 19944Progress: 16%  3192 Out of 19944Progress: 16%  3193 Out of 19944Progress: 16%  3194 Out of 19944Progress: 16%  3195 Out of 19944Progress: 16%  3196 Out of 19944Progress: 16%  3197 Out of 19944Progress: 16%  3198 Out of 19944Progress: 16%  3199 Out of 19944Progress: 16%  3200 Out of 19944Progress: 16%  3201 Out of 19944Progress: 16%  3202 Out of 19944Progress: 16%  3203 Out of 19944Progress: 16%  3204 Out of 19944Progress: 16%  3205 Out of 19944Progress: 16%  3206 Out of 19944Progress: 16%  3207 Out of 19944Progress: 16%  3208 Out of 19944Progress: 16%  3209 Out of 19944Progress: 16%  3210 Out of 19944Progress: 16%  3211 Out of 19944Progress: 16%  3212 Out of 19944Progress: 16%  3213 Out of 19944Progress: 16%  3214 Out of 19944Progress: 16%  3215 Out of 19944Progress: 16%  3216 Out of 19944Progress: 16%  3217 Out of 19944Progress: 16%  3218 Out of 19944Progress: 16%  3219 Out of 19944Progress: 16%  3220 Out of 19944Progress: 16%  3221 Out of 19944Progress: 16%  3222 Out of 19944Progress: 16%  3223 Out of 19944Progress: 16%  3224 Out of 19944Progress: 16%  3225 Out of 19944Progress: 16%  3226 Out of 19944Progress: 16%  3227 Out of 19944Progress: 16%  3228 Out of 19944Progress: 16%  3229 Out of 19944Progress: 16%  3230 Out of 19944Progress: 16%  3231 Out of 19944Progress: 16%  3232 Out of 19944Progress: 16%  3233 Out of 19944Progress: 16%  3234 Out of 19944Progress: 16%  3235 Out of 19944Progress: 16%  3236 Out of 19944Progress: 16%  3237 Out of 19944Progress: 16%  3238 Out of 19944Progress: 16%  3239 Out of 19944Progress: 16%  3240 Out of 19944Progress: 16%  3241 Out of 19944Progress: 16%  3242 Out of 19944Progress: 16%  3243 Out of 19944Progress: 16%  3244 Out of 19944Progress: 16%  3245 Out of 19944Progress: 16%  3246 Out of 19944Progress: 16%  3247 Out of 19944Progress: 16%  3248 Out of 19944Progress: 16%  3249 Out of 19944Progress: 16%  3250 Out of 19944Progress: 16%  3251 Out of 19944Progress: 16%  3252 Out of 19944Progress: 16%  3253 Out of 19944Progress: 16%  3254 Out of 19944Progress: 16%  3255 Out of 19944Progress: 16%  3256 Out of 19944Progress: 16%  3257 Out of 19944Progress: 16%  3258 Out of 19944Progress: 16%  3259 Out of 19944Progress: 16%  3260 Out of 19944Progress: 16%  3261 Out of 19944Progress: 16%  3262 Out of 19944Progress: 16%  3263 Out of 19944Progress: 16%  3264 Out of 19944Progress: 16%  3265 Out of 19944Progress: 16%  3266 Out of 19944Progress: 16%  3267 Out of 19944Progress: 16%  3268 Out of 19944Progress: 16%  3269 Out of 19944Progress: 16%  3270 Out of 19944Progress: 16%  3271 Out of 19944Progress: 16%  3272 Out of 19944Progress: 16%  3273 Out of 19944Progress: 16%  3274 Out of 19944Progress: 16%  3275 Out of 19944Progress: 16%  3276 Out of 19944Progress: 16%  3277 Out of 19944Progress: 16%  3278 Out of 19944Progress: 16%  3279 Out of 19944Progress: 16%  3280 Out of 19944Progress: 16%  3281 Out of 19944Progress: 16%  3282 Out of 19944Progress: 16%  3283 Out of 19944Progress: 16%  3284 Out of 19944Progress: 16%  3285 Out of 19944Progress: 16%  3286 Out of 19944Progress: 16%  3287 Out of 19944Progress: 16%  3288 Out of 19944Progress: 16%  3289 Out of 19944Progress: 16%  3290 Out of 19944Progress: 16%  3291 Out of 19944Progress: 16%  3292 Out of 19944Progress: 16%  3293 Out of 19944Progress: 16%  3294 Out of 19944Progress: 16%  3295 Out of 19944Progress: 16%  3296 Out of 19944Progress: 16%  3297 Out of 19944Progress: 16%  3298 Out of 19944Progress: 16%  3299 Out of 19944Progress: 16%  3300 Out of 19944Progress: 16%  3301 Out of 19944Progress: 16%  3302 Out of 19944Progress: 16%  3303 Out of 19944Progress: 16%  3304 Out of 19944Progress: 16%  3305 Out of 19944Progress: 16%  3306 Out of 19944Progress: 16%  3307 Out of 19944Progress: 16%  3308 Out of 19944Progress: 16%  3309 Out of 19944Progress: 16%  3310 Out of 19944Progress: 16%  3311 Out of 19944Progress: 16%  3312 Out of 19944Progress: 16%  3313 Out of 19944Progress: 16%  3314 Out of 19944Progress: 16%  3315 Out of 19944Progress: 16%  3316 Out of 19944Progress: 16%  3317 Out of 19944Progress: 16%  3318 Out of 19944Progress: 16%  3319 Out of 19944Progress: 16%  3320 Out of 19944Progress: 16%  3321 Out of 19944Progress: 16%  3322 Out of 19944Progress: 16%  3323 Out of 19944Progress: 16%  3324 Out of 19944Progress: 16%  3325 Out of 19944Progress: 16%  3326 Out of 19944Progress: 16%  3327 Out of 19944Progress: 16%  3328 Out of 19944Progress: 16%  3329 Out of 19944Progress: 16%  3330 Out of 19944Progress: 16%  3331 Out of 19944Progress: 16%  3332 Out of 19944Progress: 16%  3333 Out of 19944Progress: 16%  3334 Out of 19944Progress: 16%  3335 Out of 19944Progress: 16%  3336 Out of 19944Progress: 16%  3337 Out of 19944Progress: 16%  3338 Out of 19944Progress: 16%  3339 Out of 19944Progress: 16%  3340 Out of 19944Progress: 16%  3341 Out of 19944Progress: 16%  3342 Out of 19944Progress: 16%  3343 Out of 19944Progress: 16%  3344 Out of 19944Progress: 16%  3345 Out of 19944Progress: 16%  3346 Out of 19944Progress: 16%  3347 Out of 19944Progress: 16%  3348 Out of 19944Progress: 16%  3349 Out of 19944Progress: 16%  3350 Out of 19944Progress: 16%  3351 Out of 19944Progress: 16%  3352 Out of 19944Progress: 16%  3353 Out of 19944Progress: 16%  3354 Out of 19944Progress: 16%  3355 Out of 19944Progress: 16%  3356 Out of 19944Progress: 16%  3357 Out of 19944Progress: 16%  3358 Out of 19944Progress: 16%  3359 Out of 19944Progress: 16%  3360 Out of 19944Progress: 16%  3361 Out of 19944Progress: 16%  3362 Out of 19944Progress: 16%  3363 Out of 19944Progress: 16%  3364 Out of 19944Progress: 16%  3365 Out of 19944Progress: 16%  3366 Out of 19944Progress: 16%  3367 Out of 19944Progress: 16%  3368 Out of 19944Progress: 16%  3369 Out of 19944Progress: 16%  3370 Out of 19944Progress: 16%  3371 Out of 19944Progress: 16%  3372 Out of 19944Progress: 16%  3373 Out of 19944Progress: 16%  3374 Out of 19944Progress: 16%  3375 Out of 19944Progress: 16%  3376 Out of 19944Progress: 16%  3377 Out of 19944Progress: 16%  3378 Out of 19944Progress: 16%  3379 Out of 19944Progress: 16%  3380 Out of 19944Progress: 16%  3381 Out of 19944Progress: 16%  3382 Out of 19944Progress: 16%  3383 Out of 19944Progress: 16%  3384 Out of 19944Progress: 16%  3385 Out of 19944Progress: 16%  3386 Out of 19944Progress: 16%  3387 Out of 19944Progress: 16%  3388 Out of 19944Progress: 16%  3389 Out of 19944Progress: 16%  3390 Out of 19944Progress: 17%  3391 Out of 19944Progress: 17%  3392 Out of 19944Progress: 17%  3393 Out of 19944Progress: 17%  3394 Out of 19944Progress: 17%  3395 Out of 19944Progress: 17%  3396 Out of 19944Progress: 17%  3397 Out of 19944Progress: 17%  3398 Out of 19944Progress: 17%  3399 Out of 19944Progress: 17%  3400 Out of 19944Progress: 17%  3401 Out of 19944Progress: 17%  3402 Out of 19944Progress: 17%  3403 Out of 19944Progress: 17%  3404 Out of 19944Progress: 17%  3405 Out of 19944Progress: 17%  3406 Out of 19944Progress: 17%  3407 Out of 19944Progress: 17%  3408 Out of 19944Progress: 17%  3409 Out of 19944Progress: 17%  3410 Out of 19944Progress: 17%  3411 Out of 19944Progress: 17%  3412 Out of 19944Progress: 17%  3413 Out of 19944Progress: 17%  3414 Out of 19944Progress: 17%  3415 Out of 19944Progress: 17%  3416 Out of 19944Progress: 17%  3417 Out of 19944Progress: 17%  3418 Out of 19944Progress: 17%  3419 Out of 19944Progress: 17%  3420 Out of 19944Progress: 17%  3421 Out of 19944Progress: 17%  3422 Out of 19944Progress: 17%  3423 Out of 19944Progress: 17%  3424 Out of 19944Progress: 17%  3425 Out of 19944Progress: 17%  3426 Out of 19944Progress: 17%  3427 Out of 19944Progress: 17%  3428 Out of 19944Progress: 17%  3429 Out of 19944Progress: 17%  3430 Out of 19944Progress: 17%  3431 Out of 19944Progress: 17%  3432 Out of 19944Progress: 17%  3433 Out of 19944Progress: 17%  3434 Out of 19944Progress: 17%  3435 Out of 19944Progress: 17%  3436 Out of 19944Progress: 17%  3437 Out of 19944Progress: 17%  3438 Out of 19944Progress: 17%  3439 Out of 19944Progress: 17%  3440 Out of 19944Progress: 17%  3441 Out of 19944Progress: 17%  3442 Out of 19944Progress: 17%  3443 Out of 19944Progress: 17%  3444 Out of 19944Progress: 17%  3445 Out of 19944Progress: 17%  3446 Out of 19944Progress: 17%  3447 Out of 19944Progress: 17%  3448 Out of 19944Progress: 17%  3449 Out of 19944Progress: 17%  3450 Out of 19944Progress: 17%  3451 Out of 19944Progress: 17%  3452 Out of 19944Progress: 17%  3453 Out of 19944Progress: 17%  3454 Out of 19944Progress: 17%  3455 Out of 19944Progress: 17%  3456 Out of 19944Progress: 17%  3457 Out of 19944Progress: 17%  3458 Out of 19944Progress: 17%  3459 Out of 19944Progress: 17%  3460 Out of 19944Progress: 17%  3461 Out of 19944Progress: 17%  3462 Out of 19944Progress: 17%  3463 Out of 19944Progress: 17%  3464 Out of 19944Progress: 17%  3465 Out of 19944Progress: 17%  3466 Out of 19944Progress: 17%  3467 Out of 19944Progress: 17%  3468 Out of 19944Progress: 17%  3469 Out of 19944Progress: 17%  3470 Out of 19944Progress: 17%  3471 Out of 19944Progress: 17%  3472 Out of 19944Progress: 17%  3473 Out of 19944Progress: 17%  3474 Out of 19944Progress: 17%  3475 Out of 19944Progress: 17%  3476 Out of 19944Progress: 17%  3477 Out of 19944Progress: 17%  3478 Out of 19944Progress: 17%  3479 Out of 19944Progress: 17%  3480 Out of 19944Progress: 17%  3481 Out of 19944Progress: 17%  3482 Out of 19944Progress: 17%  3483 Out of 19944Progress: 17%  3484 Out of 19944Progress: 17%  3485 Out of 19944Progress: 17%  3486 Out of 19944Progress: 17%  3487 Out of 19944Progress: 17%  3488 Out of 19944Progress: 17%  3489 Out of 19944Progress: 17%  3490 Out of 19944Progress: 17%  3491 Out of 19944Progress: 17%  3492 Out of 19944Progress: 17%  3493 Out of 19944Progress: 17%  3494 Out of 19944Progress: 17%  3495 Out of 19944Progress: 17%  3496 Out of 19944Progress: 17%  3497 Out of 19944Progress: 17%  3498 Out of 19944Progress: 17%  3499 Out of 19944Progress: 17%  3500 Out of 19944Progress: 17%  3501 Out of 19944Progress: 17%  3502 Out of 19944Progress: 17%  3503 Out of 19944Progress: 17%  3504 Out of 19944Progress: 17%  3505 Out of 19944Progress: 17%  3506 Out of 19944Progress: 17%  3507 Out of 19944Progress: 17%  3508 Out of 19944Progress: 17%  3509 Out of 19944Progress: 17%  3510 Out of 19944Progress: 17%  3511 Out of 19944Progress: 17%  3512 Out of 19944Progress: 17%  3513 Out of 19944Progress: 17%  3514 Out of 19944Progress: 17%  3515 Out of 19944Progress: 17%  3516 Out of 19944Progress: 17%  3517 Out of 19944Progress: 17%  3518 Out of 19944Progress: 17%  3519 Out of 19944Progress: 17%  3520 Out of 19944Progress: 17%  3521 Out of 19944Progress: 17%  3522 Out of 19944Progress: 17%  3523 Out of 19944Progress: 17%  3524 Out of 19944Progress: 17%  3525 Out of 19944Progress: 17%  3526 Out of 19944Progress: 17%  3527 Out of 19944Progress: 17%  3528 Out of 19944Progress: 17%  3529 Out of 19944Progress: 17%  3530 Out of 19944Progress: 17%  3531 Out of 19944Progress: 17%  3532 Out of 19944Progress: 17%  3533 Out of 19944Progress: 17%  3534 Out of 19944Progress: 17%  3535 Out of 19944Progress: 17%  3536 Out of 19944Progress: 17%  3537 Out of 19944Progress: 17%  3538 Out of 19944Progress: 17%  3539 Out of 19944Progress: 17%  3540 Out of 19944Progress: 17%  3541 Out of 19944Progress: 17%  3542 Out of 19944Progress: 17%  3543 Out of 19944Progress: 17%  3544 Out of 19944Progress: 17%  3545 Out of 19944Progress: 17%  3546 Out of 19944Progress: 17%  3547 Out of 19944Progress: 17%  3548 Out of 19944Progress: 17%  3549 Out of 19944Progress: 17%  3550 Out of 19944Progress: 17%  3551 Out of 19944Progress: 17%  3552 Out of 19944Progress: 17%  3553 Out of 19944Progress: 17%  3554 Out of 19944Progress: 17%  3555 Out of 19944Progress: 17%  3556 Out of 19944Progress: 17%  3557 Out of 19944Progress: 17%  3558 Out of 19944Progress: 17%  3559 Out of 19944Progress: 17%  3560 Out of 19944Progress: 17%  3561 Out of 19944Progress: 17%  3562 Out of 19944Progress: 17%  3563 Out of 19944Progress: 17%  3564 Out of 19944Progress: 17%  3565 Out of 19944Progress: 17%  3566 Out of 19944Progress: 17%  3567 Out of 19944Progress: 17%  3568 Out of 19944Progress: 17%  3569 Out of 19944Progress: 17%  3570 Out of 19944Progress: 17%  3571 Out of 19944Progress: 17%  3572 Out of 19944Progress: 17%  3573 Out of 19944Progress: 17%  3574 Out of 19944Progress: 17%  3575 Out of 19944Progress: 17%  3576 Out of 19944Progress: 17%  3577 Out of 19944Progress: 17%  3578 Out of 19944Progress: 17%  3579 Out of 19944Progress: 17%  3580 Out of 19944Progress: 17%  3581 Out of 19944Progress: 17%  3582 Out of 19944Progress: 17%  3583 Out of 19944Progress: 17%  3584 Out of 19944Progress: 17%  3585 Out of 19944Progress: 17%  3586 Out of 19944Progress: 17%  3587 Out of 19944Progress: 17%  3588 Out of 19944Progress: 17%  3589 Out of 19944Progress: 18%  3590 Out of 19944Progress: 18%  3591 Out of 19944Progress: 18%  3592 Out of 19944Progress: 18%  3593 Out of 19944Progress: 18%  3594 Out of 19944Progress: 18%  3595 Out of 19944Progress: 18%  3596 Out of 19944Progress: 18%  3597 Out of 19944Progress: 18%  3598 Out of 19944Progress: 18%  3599 Out of 19944Progress: 18%  3600 Out of 19944Progress: 18%  3601 Out of 19944Progress: 18%  3602 Out of 19944Progress: 18%  3603 Out of 19944Progress: 18%  3604 Out of 19944Progress: 18%  3605 Out of 19944Progress: 18%  3606 Out of 19944Progress: 18%  3607 Out of 19944Progress: 18%  3608 Out of 19944Progress: 18%  3609 Out of 19944Progress: 18%  3610 Out of 19944Progress: 18%  3611 Out of 19944Progress: 18%  3612 Out of 19944Progress: 18%  3613 Out of 19944Progress: 18%  3614 Out of 19944Progress: 18%  3615 Out of 19944Progress: 18%  3616 Out of 19944Progress: 18%  3617 Out of 19944Progress: 18%  3618 Out of 19944Progress: 18%  3619 Out of 19944Progress: 18%  3620 Out of 19944Progress: 18%  3621 Out of 19944Progress: 18%  3622 Out of 19944Progress: 18%  3623 Out of 19944Progress: 18%  3624 Out of 19944Progress: 18%  3625 Out of 19944Progress: 18%  3626 Out of 19944Progress: 18%  3627 Out of 19944Progress: 18%  3628 Out of 19944Progress: 18%  3629 Out of 19944Progress: 18%  3630 Out of 19944Progress: 18%  3631 Out of 19944Progress: 18%  3632 Out of 19944Progress: 18%  3633 Out of 19944Progress: 18%  3634 Out of 19944Progress: 18%  3635 Out of 19944Progress: 18%  3636 Out of 19944Progress: 18%  3637 Out of 19944Progress: 18%  3638 Out of 19944Progress: 18%  3639 Out of 19944Progress: 18%  3640 Out of 19944Progress: 18%  3641 Out of 19944Progress: 18%  3642 Out of 19944Progress: 18%  3643 Out of 19944Progress: 18%  3644 Out of 19944Progress: 18%  3645 Out of 19944Progress: 18%  3646 Out of 19944Progress: 18%  3647 Out of 19944Progress: 18%  3648 Out of 19944Progress: 18%  3649 Out of 19944Progress: 18%  3650 Out of 19944Progress: 18%  3651 Out of 19944Progress: 18%  3652 Out of 19944Progress: 18%  3653 Out of 19944Progress: 18%  3654 Out of 19944Progress: 18%  3655 Out of 19944Progress: 18%  3656 Out of 19944Progress: 18%  3657 Out of 19944Progress: 18%  3658 Out of 19944Progress: 18%  3659 Out of 19944Progress: 18%  3660 Out of 19944Progress: 18%  3661 Out of 19944Progress: 18%  3662 Out of 19944Progress: 18%  3663 Out of 19944Progress: 18%  3664 Out of 19944Progress: 18%  3665 Out of 19944Progress: 18%  3666 Out of 19944Progress: 18%  3667 Out of 19944Progress: 18%  3668 Out of 19944Progress: 18%  3669 Out of 19944Progress: 18%  3670 Out of 19944Progress: 18%  3671 Out of 19944Progress: 18%  3672 Out of 19944Progress: 18%  3673 Out of 19944Progress: 18%  3674 Out of 19944Progress: 18%  3675 Out of 19944Progress: 18%  3676 Out of 19944Progress: 18%  3677 Out of 19944Progress: 18%  3678 Out of 19944Progress: 18%  3679 Out of 19944Progress: 18%  3680 Out of 19944Progress: 18%  3681 Out of 19944Progress: 18%  3682 Out of 19944Progress: 18%  3683 Out of 19944Progress: 18%  3684 Out of 19944Progress: 18%  3685 Out of 19944Progress: 18%  3686 Out of 19944Progress: 18%  3687 Out of 19944Progress: 18%  3688 Out of 19944Progress: 18%  3689 Out of 19944Progress: 18%  3690 Out of 19944Progress: 18%  3691 Out of 19944Progress: 18%  3692 Out of 19944Progress: 18%  3693 Out of 19944Progress: 18%  3694 Out of 19944Progress: 18%  3695 Out of 19944Progress: 18%  3696 Out of 19944Progress: 18%  3697 Out of 19944Progress: 18%  3698 Out of 19944Progress: 18%  3699 Out of 19944Progress: 18%  3700 Out of 19944Progress: 18%  3701 Out of 19944Progress: 18%  3702 Out of 19944Progress: 18%  3703 Out of 19944Progress: 18%  3704 Out of 19944Progress: 18%  3705 Out of 19944Progress: 18%  3706 Out of 19944Progress: 18%  3707 Out of 19944Progress: 18%  3708 Out of 19944Progress: 18%  3709 Out of 19944Progress: 18%  3710 Out of 19944Progress: 18%  3711 Out of 19944Progress: 18%  3712 Out of 19944Progress: 18%  3713 Out of 19944Progress: 18%  3714 Out of 19944Progress: 18%  3715 Out of 19944Progress: 18%  3716 Out of 19944Progress: 18%  3717 Out of 19944Progress: 18%  3718 Out of 19944Progress: 18%  3719 Out of 19944Progress: 18%  3720 Out of 19944Progress: 18%  3721 Out of 19944Progress: 18%  3722 Out of 19944Progress: 18%  3723 Out of 19944Progress: 18%  3724 Out of 19944Progress: 18%  3725 Out of 19944Progress: 18%  3726 Out of 19944Progress: 18%  3727 Out of 19944Progress: 18%  3728 Out of 19944Progress: 18%  3729 Out of 19944Progress: 18%  3730 Out of 19944Progress: 18%  3731 Out of 19944Progress: 18%  3732 Out of 19944Progress: 18%  3733 Out of 19944Progress: 18%  3734 Out of 19944Progress: 18%  3735 Out of 19944Progress: 18%  3736 Out of 19944Progress: 18%  3737 Out of 19944Progress: 18%  3738 Out of 19944Progress: 18%  3739 Out of 19944Progress: 18%  3740 Out of 19944Progress: 18%  3741 Out of 19944Progress: 18%  3742 Out of 19944Progress: 18%  3743 Out of 19944Progress: 18%  3744 Out of 19944Progress: 18%  3745 Out of 19944Progress: 18%  3746 Out of 19944Progress: 18%  3747 Out of 19944Progress: 18%  3748 Out of 19944Progress: 18%  3749 Out of 19944Progress: 18%  3750 Out of 19944Progress: 18%  3751 Out of 19944Progress: 18%  3752 Out of 19944Progress: 18%  3753 Out of 19944Progress: 18%  3754 Out of 19944Progress: 18%  3755 Out of 19944Progress: 18%  3756 Out of 19944Progress: 18%  3757 Out of 19944Progress: 18%  3758 Out of 19944Progress: 18%  3759 Out of 19944Progress: 18%  3760 Out of 19944Progress: 18%  3761 Out of 19944Progress: 18%  3762 Out of 19944Progress: 18%  3763 Out of 19944Progress: 18%  3764 Out of 19944Progress: 18%  3765 Out of 19944Progress: 18%  3766 Out of 19944Progress: 18%  3767 Out of 19944Progress: 18%  3768 Out of 19944Progress: 18%  3769 Out of 19944Progress: 18%  3770 Out of 19944Progress: 18%  3771 Out of 19944Progress: 18%  3772 Out of 19944Progress: 18%  3773 Out of 19944Progress: 18%  3774 Out of 19944Progress: 18%  3775 Out of 19944Progress: 18%  3776 Out of 19944Progress: 18%  3777 Out of 19944Progress: 18%  3778 Out of 19944Progress: 18%  3779 Out of 19944Progress: 18%  3780 Out of 19944Progress: 18%  3781 Out of 19944Progress: 18%  3782 Out of 19944Progress: 18%  3783 Out of 19944Progress: 18%  3784 Out of 19944Progress: 18%  3785 Out of 19944Progress: 18%  3786 Out of 19944Progress: 18%  3787 Out of 19944Progress: 18%  3788 Out of 19944Progress: 18%  3789 Out of 19944Progress: 19%  3790 Out of 19944Progress: 19%  3791 Out of 19944Progress: 19%  3792 Out of 19944Progress: 19%  3793 Out of 19944Progress: 19%  3794 Out of 19944Progress: 19%  3795 Out of 19944Progress: 19%  3796 Out of 19944Progress: 19%  3797 Out of 19944Progress: 19%  3798 Out of 19944Progress: 19%  3799 Out of 19944Progress: 19%  3800 Out of 19944Progress: 19%  3801 Out of 19944Progress: 19%  3802 Out of 19944Progress: 19%  3803 Out of 19944Progress: 19%  3804 Out of 19944Progress: 19%  3805 Out of 19944Progress: 19%  3806 Out of 19944Progress: 19%  3807 Out of 19944Progress: 19%  3808 Out of 19944Progress: 19%  3809 Out of 19944Progress: 19%  3810 Out of 19944Progress: 19%  3811 Out of 19944Progress: 19%  3812 Out of 19944Progress: 19%  3813 Out of 19944Progress: 19%  3814 Out of 19944Progress: 19%  3815 Out of 19944Progress: 19%  3816 Out of 19944Progress: 19%  3817 Out of 19944Progress: 19%  3818 Out of 19944Progress: 19%  3819 Out of 19944Progress: 19%  3820 Out of 19944Progress: 19%  3821 Out of 19944Progress: 19%  3822 Out of 19944Progress: 19%  3823 Out of 19944Progress: 19%  3824 Out of 19944Progress: 19%  3825 Out of 19944Progress: 19%  3826 Out of 19944Progress: 19%  3827 Out of 19944Progress: 19%  3828 Out of 19944Progress: 19%  3829 Out of 19944Progress: 19%  3830 Out of 19944Progress: 19%  3831 Out of 19944Progress: 19%  3832 Out of 19944Progress: 19%  3833 Out of 19944Progress: 19%  3834 Out of 19944Progress: 19%  3835 Out of 19944Progress: 19%  3836 Out of 19944Progress: 19%  3837 Out of 19944Progress: 19%  3838 Out of 19944Progress: 19%  3839 Out of 19944Progress: 19%  3840 Out of 19944Progress: 19%  3841 Out of 19944Progress: 19%  3842 Out of 19944Progress: 19%  3843 Out of 19944Progress: 19%  3844 Out of 19944Progress: 19%  3845 Out of 19944Progress: 19%  3846 Out of 19944Progress: 19%  3847 Out of 19944Progress: 19%  3848 Out of 19944Progress: 19%  3849 Out of 19944Progress: 19%  3850 Out of 19944Progress: 19%  3851 Out of 19944Progress: 19%  3852 Out of 19944Progress: 19%  3853 Out of 19944Progress: 19%  3854 Out of 19944Progress: 19%  3855 Out of 19944Progress: 19%  3856 Out of 19944Progress: 19%  3857 Out of 19944Progress: 19%  3858 Out of 19944Progress: 19%  3859 Out of 19944Progress: 19%  3860 Out of 19944Progress: 19%  3861 Out of 19944Progress: 19%  3862 Out of 19944Progress: 19%  3863 Out of 19944Progress: 19%  3864 Out of 19944Progress: 19%  3865 Out of 19944Progress: 19%  3866 Out of 19944Progress: 19%  3867 Out of 19944Progress: 19%  3868 Out of 19944Progress: 19%  3869 Out of 19944Progress: 19%  3870 Out of 19944Progress: 19%  3871 Out of 19944Progress: 19%  3872 Out of 19944Progress: 19%  3873 Out of 19944Progress: 19%  3874 Out of 19944Progress: 19%  3875 Out of 19944Progress: 19%  3876 Out of 19944Progress: 19%  3877 Out of 19944Progress: 19%  3878 Out of 19944Progress: 19%  3879 Out of 19944Progress: 19%  3880 Out of 19944Progress: 19%  3881 Out of 19944Progress: 19%  3882 Out of 19944Progress: 19%  3883 Out of 19944Progress: 19%  3884 Out of 19944Progress: 19%  3885 Out of 19944Progress: 19%  3886 Out of 19944Progress: 19%  3887 Out of 19944Progress: 19%  3888 Out of 19944Progress: 19%  3889 Out of 19944Progress: 19%  3890 Out of 19944Progress: 19%  3891 Out of 19944Progress: 19%  3892 Out of 19944Progress: 19%  3893 Out of 19944Progress: 19%  3894 Out of 19944Progress: 19%  3895 Out of 19944Progress: 19%  3896 Out of 19944Progress: 19%  3897 Out of 19944Progress: 19%  3898 Out of 19944Progress: 19%  3899 Out of 19944Progress: 19%  3900 Out of 19944Progress: 19%  3901 Out of 19944Progress: 19%  3902 Out of 19944Progress: 19%  3903 Out of 19944Progress: 19%  3904 Out of 19944Progress: 19%  3905 Out of 19944Progress: 19%  3906 Out of 19944Progress: 19%  3907 Out of 19944Progress: 19%  3908 Out of 19944Progress: 19%  3909 Out of 19944Progress: 19%  3910 Out of 19944Progress: 19%  3911 Out of 19944Progress: 19%  3912 Out of 19944Progress: 19%  3913 Out of 19944Progress: 19%  3914 Out of 19944Progress: 19%  3915 Out of 19944Progress: 19%  3916 Out of 19944Progress: 19%  3917 Out of 19944Progress: 19%  3918 Out of 19944Progress: 19%  3919 Out of 19944Progress: 19%  3920 Out of 19944Progress: 19%  3921 Out of 19944Progress: 19%  3922 Out of 19944Progress: 19%  3923 Out of 19944Progress: 19%  3924 Out of 19944Progress: 19%  3925 Out of 19944Progress: 19%  3926 Out of 19944Progress: 19%  3927 Out of 19944Progress: 19%  3928 Out of 19944Progress: 19%  3929 Out of 19944Progress: 19%  3930 Out of 19944Progress: 19%  3931 Out of 19944Progress: 19%  3932 Out of 19944Progress: 19%  3933 Out of 19944Progress: 19%  3934 Out of 19944Progress: 19%  3935 Out of 19944Progress: 19%  3936 Out of 19944Progress: 19%  3937 Out of 19944Progress: 19%  3938 Out of 19944Progress: 19%  3939 Out of 19944Progress: 19%  3940 Out of 19944Progress: 19%  3941 Out of 19944Progress: 19%  3942 Out of 19944Progress: 19%  3943 Out of 19944Progress: 19%  3944 Out of 19944Progress: 19%  3945 Out of 19944Progress: 19%  3946 Out of 19944Progress: 19%  3947 Out of 19944Progress: 19%  3948 Out of 19944Progress: 19%  3949 Out of 19944Progress: 19%  3950 Out of 19944Progress: 19%  3951 Out of 19944Progress: 19%  3952 Out of 19944Progress: 19%  3953 Out of 19944Progress: 19%  3954 Out of 19944Progress: 19%  3955 Out of 19944Progress: 19%  3956 Out of 19944Progress: 19%  3957 Out of 19944Progress: 19%  3958 Out of 19944Progress: 19%  3959 Out of 19944Progress: 19%  3960 Out of 19944Progress: 19%  3961 Out of 19944Progress: 19%  3962 Out of 19944Progress: 19%  3963 Out of 19944Progress: 19%  3964 Out of 19944Progress: 19%  3965 Out of 19944Progress: 19%  3966 Out of 19944Progress: 19%  3967 Out of 19944Progress: 19%  3968 Out of 19944Progress: 19%  3969 Out of 19944Progress: 19%  3970 Out of 19944Progress: 19%  3971 Out of 19944Progress: 19%  3972 Out of 19944Progress: 19%  3973 Out of 19944Progress: 19%  3974 Out of 19944Progress: 19%  3975 Out of 19944Progress: 19%  3976 Out of 19944Progress: 19%  3977 Out of 19944Progress: 19%  3978 Out of 19944Progress: 19%  3979 Out of 19944Progress: 19%  3980 Out of 19944Progress: 19%  3981 Out of 19944Progress: 19%  3982 Out of 19944Progress: 19%  3983 Out of 19944Progress: 19%  3984 Out of 19944Progress: 19%  3985 Out of 19944Progress: 19%  3986 Out of 19944Progress: 19%  3987 Out of 19944Progress: 19%  3988 Out of 19944Progress: 20%  3989 Out of 19944Progress: 20%  3990 Out of 19944Progress: 20%  3991 Out of 19944Progress: 20%  3992 Out of 19944Progress: 20%  3993 Out of 19944Progress: 20%  3994 Out of 19944Progress: 20%  3995 Out of 19944Progress: 20%  3996 Out of 19944Progress: 20%  3997 Out of 19944Progress: 20%  3998 Out of 19944Progress: 20%  3999 Out of 19944Progress: 20%  4000 Out of 19944Progress: 20%  4001 Out of 19944Progress: 20%  4002 Out of 19944Progress: 20%  4003 Out of 19944Progress: 20%  4004 Out of 19944Progress: 20%  4005 Out of 19944Progress: 20%  4006 Out of 19944Progress: 20%  4007 Out of 19944Progress: 20%  4008 Out of 19944Progress: 20%  4009 Out of 19944Progress: 20%  4010 Out of 19944Progress: 20%  4011 Out of 19944Progress: 20%  4012 Out of 19944Progress: 20%  4013 Out of 19944Progress: 20%  4014 Out of 19944Progress: 20%  4015 Out of 19944Progress: 20%  4016 Out of 19944Progress: 20%  4017 Out of 19944Progress: 20%  4018 Out of 19944Progress: 20%  4019 Out of 19944Progress: 20%  4020 Out of 19944Progress: 20%  4021 Out of 19944Progress: 20%  4022 Out of 19944Progress: 20%  4023 Out of 19944Progress: 20%  4024 Out of 19944Progress: 20%  4025 Out of 19944Progress: 20%  4026 Out of 19944Progress: 20%  4027 Out of 19944Progress: 20%  4028 Out of 19944Progress: 20%  4029 Out of 19944Progress: 20%  4030 Out of 19944Progress: 20%  4031 Out of 19944Progress: 20%  4032 Out of 19944Progress: 20%  4033 Out of 19944Progress: 20%  4034 Out of 19944Progress: 20%  4035 Out of 19944Progress: 20%  4036 Out of 19944Progress: 20%  4037 Out of 19944Progress: 20%  4038 Out of 19944Progress: 20%  4039 Out of 19944Progress: 20%  4040 Out of 19944Progress: 20%  4041 Out of 19944Progress: 20%  4042 Out of 19944Progress: 20%  4043 Out of 19944Progress: 20%  4044 Out of 19944Progress: 20%  4045 Out of 19944Progress: 20%  4046 Out of 19944Progress: 20%  4047 Out of 19944Progress: 20%  4048 Out of 19944Progress: 20%  4049 Out of 19944Progress: 20%  4050 Out of 19944Progress: 20%  4051 Out of 19944Progress: 20%  4052 Out of 19944Progress: 20%  4053 Out of 19944Progress: 20%  4054 Out of 19944Progress: 20%  4055 Out of 19944Progress: 20%  4056 Out of 19944Progress: 20%  4057 Out of 19944Progress: 20%  4058 Out of 19944Progress: 20%  4059 Out of 19944Progress: 20%  4060 Out of 19944Progress: 20%  4061 Out of 19944Progress: 20%  4062 Out of 19944Progress: 20%  4063 Out of 19944Progress: 20%  4064 Out of 19944Progress: 20%  4065 Out of 19944Progress: 20%  4066 Out of 19944Progress: 20%  4067 Out of 19944Progress: 20%  4068 Out of 19944Progress: 20%  4069 Out of 19944Progress: 20%  4070 Out of 19944Progress: 20%  4071 Out of 19944Progress: 20%  4072 Out of 19944Progress: 20%  4073 Out of 19944Progress: 20%  4074 Out of 19944Progress: 20%  4075 Out of 19944Progress: 20%  4076 Out of 19944Progress: 20%  4077 Out of 19944Progress: 20%  4078 Out of 19944Progress: 20%  4079 Out of 19944Progress: 20%  4080 Out of 19944Progress: 20%  4081 Out of 19944Progress: 20%  4082 Out of 19944Progress: 20%  4083 Out of 19944Progress: 20%  4084 Out of 19944Progress: 20%  4085 Out of 19944Progress: 20%  4086 Out of 19944Progress: 20%  4087 Out of 19944Progress: 20%  4088 Out of 19944Progress: 20%  4089 Out of 19944Progress: 20%  4090 Out of 19944Progress: 20%  4091 Out of 19944Progress: 20%  4092 Out of 19944Progress: 20%  4093 Out of 19944Progress: 20%  4094 Out of 19944Progress: 20%  4095 Out of 19944Progress: 20%  4096 Out of 19944Progress: 20%  4097 Out of 19944Progress: 20%  4098 Out of 19944Progress: 20%  4099 Out of 19944Progress: 20%  4100 Out of 19944Progress: 20%  4101 Out of 19944Progress: 20%  4102 Out of 19944Progress: 20%  4103 Out of 19944Progress: 20%  4104 Out of 19944Progress: 20%  4105 Out of 19944Progress: 20%  4106 Out of 19944Progress: 20%  4107 Out of 19944Progress: 20%  4108 Out of 19944Progress: 20%  4109 Out of 19944Progress: 20%  4110 Out of 19944Progress: 20%  4111 Out of 19944Progress: 20%  4112 Out of 19944Progress: 20%  4113 Out of 19944Progress: 20%  4114 Out of 19944Progress: 20%  4115 Out of 19944Progress: 20%  4116 Out of 19944Progress: 20%  4117 Out of 19944Progress: 20%  4118 Out of 19944Progress: 20%  4119 Out of 19944Progress: 20%  4120 Out of 19944Progress: 20%  4121 Out of 19944Progress: 20%  4122 Out of 19944Progress: 20%  4123 Out of 19944Progress: 20%  4124 Out of 19944Progress: 20%  4125 Out of 19944Progress: 20%  4126 Out of 19944Progress: 20%  4127 Out of 19944Progress: 20%  4128 Out of 19944Progress: 20%  4129 Out of 19944Progress: 20%  4130 Out of 19944Progress: 20%  4131 Out of 19944Progress: 20%  4132 Out of 19944Progress: 20%  4133 Out of 19944Progress: 20%  4134 Out of 19944Progress: 20%  4135 Out of 19944Progress: 20%  4136 Out of 19944Progress: 20%  4137 Out of 19944Progress: 20%  4138 Out of 19944Progress: 20%  4139 Out of 19944Progress: 20%  4140 Out of 19944Progress: 20%  4141 Out of 19944Progress: 20%  4142 Out of 19944Progress: 20%  4143 Out of 19944Progress: 20%  4144 Out of 19944Progress: 20%  4145 Out of 19944Progress: 20%  4146 Out of 19944Progress: 20%  4147 Out of 19944Progress: 20%  4148 Out of 19944Progress: 20%  4149 Out of 19944Progress: 20%  4150 Out of 19944Progress: 20%  4151 Out of 19944Progress: 20%  4152 Out of 19944Progress: 20%  4153 Out of 19944Progress: 20%  4154 Out of 19944Progress: 20%  4155 Out of 19944Progress: 20%  4156 Out of 19944Progress: 20%  4157 Out of 19944Progress: 20%  4158 Out of 19944Progress: 20%  4159 Out of 19944Progress: 20%  4160 Out of 19944Progress: 20%  4161 Out of 19944Progress: 20%  4162 Out of 19944Progress: 20%  4163 Out of 19944Progress: 20%  4164 Out of 19944Progress: 20%  4165 Out of 19944Progress: 20%  4166 Out of 19944Progress: 20%  4167 Out of 19944Progress: 20%  4168 Out of 19944Progress: 20%  4169 Out of 19944Progress: 20%  4170 Out of 19944Progress: 20%  4171 Out of 19944Progress: 20%  4172 Out of 19944Progress: 20%  4173 Out of 19944Progress: 20%  4174 Out of 19944Progress: 20%  4175 Out of 19944Progress: 20%  4176 Out of 19944Progress: 20%  4177 Out of 19944Progress: 20%  4178 Out of 19944Progress: 20%  4179 Out of 19944Progress: 20%  4180 Out of 19944Progress: 20%  4181 Out of 19944Progress: 20%  4182 Out of 19944Progress: 20%  4183 Out of 19944Progress: 20%  4184 Out of 19944Progress: 20%  4185 Out of 19944Progress: 20%  4186 Out of 19944Progress: 20%  4187 Out of 19944Progress: 20%  4188 Out of 19944Progress: 21%  4189 Out of 19944Progress: 21%  4190 Out of 19944Progress: 21%  4191 Out of 19944Progress: 21%  4192 Out of 19944Progress: 21%  4193 Out of 19944Progress: 21%  4194 Out of 19944Progress: 21%  4195 Out of 19944Progress: 21%  4196 Out of 19944Progress: 21%  4197 Out of 19944Progress: 21%  4198 Out of 19944Progress: 21%  4199 Out of 19944Progress: 21%  4200 Out of 19944Progress: 21%  4201 Out of 19944Progress: 21%  4202 Out of 19944Progress: 21%  4203 Out of 19944Progress: 21%  4204 Out of 19944Progress: 21%  4205 Out of 19944Progress: 21%  4206 Out of 19944Progress: 21%  4207 Out of 19944Progress: 21%  4208 Out of 19944Progress: 21%  4209 Out of 19944Progress: 21%  4210 Out of 19944Progress: 21%  4211 Out of 19944Progress: 21%  4212 Out of 19944Progress: 21%  4213 Out of 19944Progress: 21%  4214 Out of 19944Progress: 21%  4215 Out of 19944Progress: 21%  4216 Out of 19944Progress: 21%  4217 Out of 19944Progress: 21%  4218 Out of 19944Progress: 21%  4219 Out of 19944Progress: 21%  4220 Out of 19944Progress: 21%  4221 Out of 19944Progress: 21%  4222 Out of 19944Progress: 21%  4223 Out of 19944Progress: 21%  4224 Out of 19944Progress: 21%  4225 Out of 19944Progress: 21%  4226 Out of 19944Progress: 21%  4227 Out of 19944Progress: 21%  4228 Out of 19944Progress: 21%  4229 Out of 19944Progress: 21%  4230 Out of 19944Progress: 21%  4231 Out of 19944Progress: 21%  4232 Out of 19944Progress: 21%  4233 Out of 19944Progress: 21%  4234 Out of 19944Progress: 21%  4235 Out of 19944Progress: 21%  4236 Out of 19944Progress: 21%  4237 Out of 19944Progress: 21%  4238 Out of 19944Progress: 21%  4239 Out of 19944Progress: 21%  4240 Out of 19944Progress: 21%  4241 Out of 19944Progress: 21%  4242 Out of 19944Progress: 21%  4243 Out of 19944Progress: 21%  4244 Out of 19944Progress: 21%  4245 Out of 19944Progress: 21%  4246 Out of 19944Progress: 21%  4247 Out of 19944Progress: 21%  4248 Out of 19944Progress: 21%  4249 Out of 19944Progress: 21%  4250 Out of 19944Progress: 21%  4251 Out of 19944Progress: 21%  4252 Out of 19944Progress: 21%  4253 Out of 19944Progress: 21%  4254 Out of 19944Progress: 21%  4255 Out of 19944Progress: 21%  4256 Out of 19944Progress: 21%  4257 Out of 19944Progress: 21%  4258 Out of 19944Progress: 21%  4259 Out of 19944Progress: 21%  4260 Out of 19944Progress: 21%  4261 Out of 19944Progress: 21%  4262 Out of 19944Progress: 21%  4263 Out of 19944Progress: 21%  4264 Out of 19944Progress: 21%  4265 Out of 19944Progress: 21%  4266 Out of 19944Progress: 21%  4267 Out of 19944Progress: 21%  4268 Out of 19944Progress: 21%  4269 Out of 19944Progress: 21%  4270 Out of 19944Progress: 21%  4271 Out of 19944Progress: 21%  4272 Out of 19944Progress: 21%  4273 Out of 19944Progress: 21%  4274 Out of 19944Progress: 21%  4275 Out of 19944Progress: 21%  4276 Out of 19944Progress: 21%  4277 Out of 19944Progress: 21%  4278 Out of 19944Progress: 21%  4279 Out of 19944Progress: 21%  4280 Out of 19944Progress: 21%  4281 Out of 19944Progress: 21%  4282 Out of 19944Progress: 21%  4283 Out of 19944Progress: 21%  4284 Out of 19944Progress: 21%  4285 Out of 19944Progress: 21%  4286 Out of 19944Progress: 21%  4287 Out of 19944Progress: 21%  4288 Out of 19944Progress: 21%  4289 Out of 19944Progress: 21%  4290 Out of 19944Progress: 21%  4291 Out of 19944Progress: 21%  4292 Out of 19944Progress: 21%  4293 Out of 19944Progress: 21%  4294 Out of 19944Progress: 21%  4295 Out of 19944Progress: 21%  4296 Out of 19944Progress: 21%  4297 Out of 19944Progress: 21%  4298 Out of 19944Progress: 21%  4299 Out of 19944Progress: 21%  4300 Out of 19944Progress: 21%  4301 Out of 19944Progress: 21%  4302 Out of 19944Progress: 21%  4303 Out of 19944Progress: 21%  4304 Out of 19944Progress: 21%  4305 Out of 19944Progress: 21%  4306 Out of 19944Progress: 21%  4307 Out of 19944Progress: 21%  4308 Out of 19944Progress: 21%  4309 Out of 19944Progress: 21%  4310 Out of 19944Progress: 21%  4311 Out of 19944Progress: 21%  4312 Out of 19944Progress: 21%  4313 Out of 19944Progress: 21%  4314 Out of 19944Progress: 21%  4315 Out of 19944Progress: 21%  4316 Out of 19944Progress: 21%  4317 Out of 19944Progress: 21%  4318 Out of 19944Progress: 21%  4319 Out of 19944Progress: 21%  4320 Out of 19944Progress: 21%  4321 Out of 19944Progress: 21%  4322 Out of 19944Progress: 21%  4323 Out of 19944Progress: 21%  4324 Out of 19944Progress: 21%  4325 Out of 19944Progress: 21%  4326 Out of 19944Progress: 21%  4327 Out of 19944Progress: 21%  4328 Out of 19944Progress: 21%  4329 Out of 19944Progress: 21%  4330 Out of 19944Progress: 21%  4331 Out of 19944Progress: 21%  4332 Out of 19944Progress: 21%  4333 Out of 19944Progress: 21%  4334 Out of 19944Progress: 21%  4335 Out of 19944Progress: 21%  4336 Out of 19944Progress: 21%  4337 Out of 19944Progress: 21%  4338 Out of 19944Progress: 21%  4339 Out of 19944Progress: 21%  4340 Out of 19944Progress: 21%  4341 Out of 19944Progress: 21%  4342 Out of 19944Progress: 21%  4343 Out of 19944Progress: 21%  4344 Out of 19944Progress: 21%  4345 Out of 19944Progress: 21%  4346 Out of 19944Progress: 21%  4347 Out of 19944Progress: 21%  4348 Out of 19944Progress: 21%  4349 Out of 19944Progress: 21%  4350 Out of 19944Progress: 21%  4351 Out of 19944Progress: 21%  4352 Out of 19944Progress: 21%  4353 Out of 19944Progress: 21%  4354 Out of 19944Progress: 21%  4355 Out of 19944Progress: 21%  4356 Out of 19944Progress: 21%  4357 Out of 19944Progress: 21%  4358 Out of 19944Progress: 21%  4359 Out of 19944Progress: 21%  4360 Out of 19944Progress: 21%  4361 Out of 19944Progress: 21%  4362 Out of 19944Progress: 21%  4363 Out of 19944Progress: 21%  4364 Out of 19944Progress: 21%  4365 Out of 19944Progress: 21%  4366 Out of 19944Progress: 21%  4367 Out of 19944Progress: 21%  4368 Out of 19944Progress: 21%  4369 Out of 19944Progress: 21%  4370 Out of 19944Progress: 21%  4371 Out of 19944Progress: 21%  4372 Out of 19944Progress: 21%  4373 Out of 19944Progress: 21%  4374 Out of 19944Progress: 21%  4375 Out of 19944Progress: 21%  4376 Out of 19944Progress: 21%  4377 Out of 19944Progress: 21%  4378 Out of 19944Progress: 21%  4379 Out of 19944Progress: 21%  4380 Out of 19944Progress: 21%  4381 Out of 19944Progress: 21%  4382 Out of 19944Progress: 21%  4383 Out of 19944Progress: 21%  4384 Out of 19944Progress: 21%  4385 Out of 19944Progress: 21%  4386 Out of 19944Progress: 21%  4387 Out of 19944Progress: 22%  4388 Out of 19944Progress: 22%  4389 Out of 19944Progress: 22%  4390 Out of 19944Progress: 22%  4391 Out of 19944Progress: 22%  4392 Out of 19944Progress: 22%  4393 Out of 19944Progress: 22%  4394 Out of 19944Progress: 22%  4395 Out of 19944Progress: 22%  4396 Out of 19944Progress: 22%  4397 Out of 19944Progress: 22%  4398 Out of 19944Progress: 22%  4399 Out of 19944Progress: 22%  4400 Out of 19944Progress: 22%  4401 Out of 19944Progress: 22%  4402 Out of 19944Progress: 22%  4403 Out of 19944Progress: 22%  4404 Out of 19944Progress: 22%  4405 Out of 19944Progress: 22%  4406 Out of 19944Progress: 22%  4407 Out of 19944Progress: 22%  4408 Out of 19944Progress: 22%  4409 Out of 19944Progress: 22%  4410 Out of 19944Progress: 22%  4411 Out of 19944Progress: 22%  4412 Out of 19944Progress: 22%  4413 Out of 19944Progress: 22%  4414 Out of 19944Progress: 22%  4415 Out of 19944Progress: 22%  4416 Out of 19944Progress: 22%  4417 Out of 19944Progress: 22%  4418 Out of 19944Progress: 22%  4419 Out of 19944Progress: 22%  4420 Out of 19944Progress: 22%  4421 Out of 19944Progress: 22%  4422 Out of 19944Progress: 22%  4423 Out of 19944Progress: 22%  4424 Out of 19944Progress: 22%  4425 Out of 19944Progress: 22%  4426 Out of 19944Progress: 22%  4427 Out of 19944Progress: 22%  4428 Out of 19944Progress: 22%  4429 Out of 19944Progress: 22%  4430 Out of 19944Progress: 22%  4431 Out of 19944Progress: 22%  4432 Out of 19944Progress: 22%  4433 Out of 19944Progress: 22%  4434 Out of 19944Progress: 22%  4435 Out of 19944Progress: 22%  4436 Out of 19944Progress: 22%  4437 Out of 19944Progress: 22%  4438 Out of 19944Progress: 22%  4439 Out of 19944Progress: 22%  4440 Out of 19944Progress: 22%  4441 Out of 19944Progress: 22%  4442 Out of 19944Progress: 22%  4443 Out of 19944Progress: 22%  4444 Out of 19944Progress: 22%  4445 Out of 19944Progress: 22%  4446 Out of 19944Progress: 22%  4447 Out of 19944Progress: 22%  4448 Out of 19944Progress: 22%  4449 Out of 19944Progress: 22%  4450 Out of 19944Progress: 22%  4451 Out of 19944Progress: 22%  4452 Out of 19944Progress: 22%  4453 Out of 19944Progress: 22%  4454 Out of 19944Progress: 22%  4455 Out of 19944Progress: 22%  4456 Out of 19944Progress: 22%  4457 Out of 19944Progress: 22%  4458 Out of 19944Progress: 22%  4459 Out of 19944Progress: 22%  4460 Out of 19944Progress: 22%  4461 Out of 19944Progress: 22%  4462 Out of 19944Progress: 22%  4463 Out of 19944Progress: 22%  4464 Out of 19944Progress: 22%  4465 Out of 19944Progress: 22%  4466 Out of 19944Progress: 22%  4467 Out of 19944Progress: 22%  4468 Out of 19944Progress: 22%  4469 Out of 19944Progress: 22%  4470 Out of 19944Progress: 22%  4471 Out of 19944Progress: 22%  4472 Out of 19944Progress: 22%  4473 Out of 19944Progress: 22%  4474 Out of 19944Progress: 22%  4475 Out of 19944Progress: 22%  4476 Out of 19944Progress: 22%  4477 Out of 19944Progress: 22%  4478 Out of 19944Progress: 22%  4479 Out of 19944Progress: 22%  4480 Out of 19944Progress: 22%  4481 Out of 19944Progress: 22%  4482 Out of 19944Progress: 22%  4483 Out of 19944Progress: 22%  4484 Out of 19944Progress: 22%  4485 Out of 19944Progress: 22%  4486 Out of 19944Progress: 22%  4487 Out of 19944Progress: 22%  4488 Out of 19944Progress: 22%  4489 Out of 19944Progress: 22%  4490 Out of 19944Progress: 22%  4491 Out of 19944Progress: 22%  4492 Out of 19944Progress: 22%  4493 Out of 19944Progress: 22%  4494 Out of 19944Progress: 22%  4495 Out of 19944Progress: 22%  4496 Out of 19944Progress: 22%  4497 Out of 19944Progress: 22%  4498 Out of 19944Progress: 22%  4499 Out of 19944Progress: 22%  4500 Out of 19944Progress: 22%  4501 Out of 19944Progress: 22%  4502 Out of 19944Progress: 22%  4503 Out of 19944Progress: 22%  4504 Out of 19944Progress: 22%  4505 Out of 19944Progress: 22%  4506 Out of 19944Progress: 22%  4507 Out of 19944Progress: 22%  4508 Out of 19944Progress: 22%  4509 Out of 19944Progress: 22%  4510 Out of 19944Progress: 22%  4511 Out of 19944Progress: 22%  4512 Out of 19944Progress: 22%  4513 Out of 19944Progress: 22%  4514 Out of 19944Progress: 22%  4515 Out of 19944Progress: 22%  4516 Out of 19944Progress: 22%  4517 Out of 19944Progress: 22%  4518 Out of 19944Progress: 22%  4519 Out of 19944Progress: 22%  4520 Out of 19944Progress: 22%  4521 Out of 19944Progress: 22%  4522 Out of 19944Progress: 22%  4523 Out of 19944Progress: 22%  4524 Out of 19944Progress: 22%  4525 Out of 19944Progress: 22%  4526 Out of 19944Progress: 22%  4527 Out of 19944Progress: 22%  4528 Out of 19944Progress: 22%  4529 Out of 19944Progress: 22%  4530 Out of 19944Progress: 22%  4531 Out of 19944Progress: 22%  4532 Out of 19944Progress: 22%  4533 Out of 19944Progress: 22%  4534 Out of 19944Progress: 22%  4535 Out of 19944Progress: 22%  4536 Out of 19944Progress: 22%  4537 Out of 19944Progress: 22%  4538 Out of 19944Progress: 22%  4539 Out of 19944Progress: 22%  4540 Out of 19944Progress: 22%  4541 Out of 19944Progress: 22%  4542 Out of 19944Progress: 22%  4543 Out of 19944Progress: 22%  4544 Out of 19944Progress: 22%  4545 Out of 19944Progress: 22%  4546 Out of 19944Progress: 22%  4547 Out of 19944Progress: 22%  4548 Out of 19944Progress: 22%  4549 Out of 19944Progress: 22%  4550 Out of 19944Progress: 22%  4551 Out of 19944Progress: 22%  4552 Out of 19944Progress: 22%  4553 Out of 19944Progress: 22%  4554 Out of 19944Progress: 22%  4555 Out of 19944Progress: 22%  4556 Out of 19944Progress: 22%  4557 Out of 19944Progress: 22%  4558 Out of 19944Progress: 22%  4559 Out of 19944Progress: 22%  4560 Out of 19944Progress: 22%  4561 Out of 19944Progress: 22%  4562 Out of 19944Progress: 22%  4563 Out of 19944Progress: 22%  4564 Out of 19944Progress: 22%  4565 Out of 19944Progress: 22%  4566 Out of 19944Progress: 22%  4567 Out of 19944Progress: 22%  4568 Out of 19944Progress: 22%  4569 Out of 19944Progress: 22%  4570 Out of 19944Progress: 22%  4571 Out of 19944Progress: 22%  4572 Out of 19944Progress: 22%  4573 Out of 19944Progress: 22%  4574 Out of 19944Progress: 22%  4575 Out of 19944Progress: 22%  4576 Out of 19944Progress: 22%  4577 Out of 19944Progress: 22%  4578 Out of 19944Progress: 22%  4579 Out of 19944Progress: 22%  4580 Out of 19944Progress: 22%  4581 Out of 19944Progress: 22%  4582 Out of 19944Progress: 22%  4583 Out of 19944Progress: 22%  4584 Out of 19944Progress: 22%  4585 Out of 19944Progress: 22%  4586 Out of 19944Progress: 22%  4587 Out of 19944Progress: 23%  4588 Out of 19944Progress: 23%  4589 Out of 19944Progress: 23%  4590 Out of 19944Progress: 23%  4591 Out of 19944Progress: 23%  4592 Out of 19944Progress: 23%  4593 Out of 19944Progress: 23%  4594 Out of 19944Progress: 23%  4595 Out of 19944Progress: 23%  4596 Out of 19944Progress: 23%  4597 Out of 19944Progress: 23%  4598 Out of 19944Progress: 23%  4599 Out of 19944Progress: 23%  4600 Out of 19944Progress: 23%  4601 Out of 19944Progress: 23%  4602 Out of 19944Progress: 23%  4603 Out of 19944Progress: 23%  4604 Out of 19944Progress: 23%  4605 Out of 19944Progress: 23%  4606 Out of 19944Progress: 23%  4607 Out of 19944Progress: 23%  4608 Out of 19944Progress: 23%  4609 Out of 19944Progress: 23%  4610 Out of 19944Progress: 23%  4611 Out of 19944Progress: 23%  4612 Out of 19944Progress: 23%  4613 Out of 19944Progress: 23%  4614 Out of 19944Progress: 23%  4615 Out of 19944Progress: 23%  4616 Out of 19944Progress: 23%  4617 Out of 19944Progress: 23%  4618 Out of 19944Progress: 23%  4619 Out of 19944Progress: 23%  4620 Out of 19944Progress: 23%  4621 Out of 19944Progress: 23%  4622 Out of 19944Progress: 23%  4623 Out of 19944Progress: 23%  4624 Out of 19944Progress: 23%  4625 Out of 19944Progress: 23%  4626 Out of 19944Progress: 23%  4627 Out of 19944Progress: 23%  4628 Out of 19944Progress: 23%  4629 Out of 19944Progress: 23%  4630 Out of 19944Progress: 23%  4631 Out of 19944Progress: 23%  4632 Out of 19944Progress: 23%  4633 Out of 19944Progress: 23%  4634 Out of 19944Progress: 23%  4635 Out of 19944Progress: 23%  4636 Out of 19944Progress: 23%  4637 Out of 19944Progress: 23%  4638 Out of 19944Progress: 23%  4639 Out of 19944Progress: 23%  4640 Out of 19944Progress: 23%  4641 Out of 19944Progress: 23%  4642 Out of 19944Progress: 23%  4643 Out of 19944Progress: 23%  4644 Out of 19944Progress: 23%  4645 Out of 19944Progress: 23%  4646 Out of 19944Progress: 23%  4647 Out of 19944Progress: 23%  4648 Out of 19944Progress: 23%  4649 Out of 19944Progress: 23%  4650 Out of 19944Progress: 23%  4651 Out of 19944Progress: 23%  4652 Out of 19944Progress: 23%  4653 Out of 19944Progress: 23%  4654 Out of 19944Progress: 23%  4655 Out of 19944Progress: 23%  4656 Out of 19944Progress: 23%  4657 Out of 19944Progress: 23%  4658 Out of 19944Progress: 23%  4659 Out of 19944Progress: 23%  4660 Out of 19944Progress: 23%  4661 Out of 19944Progress: 23%  4662 Out of 19944Progress: 23%  4663 Out of 19944Progress: 23%  4664 Out of 19944Progress: 23%  4665 Out of 19944Progress: 23%  4666 Out of 19944Progress: 23%  4667 Out of 19944Progress: 23%  4668 Out of 19944Progress: 23%  4669 Out of 19944Progress: 23%  4670 Out of 19944Progress: 23%  4671 Out of 19944Progress: 23%  4672 Out of 19944Progress: 23%  4673 Out of 19944Progress: 23%  4674 Out of 19944Progress: 23%  4675 Out of 19944Progress: 23%  4676 Out of 19944Progress: 23%  4677 Out of 19944Progress: 23%  4678 Out of 19944Progress: 23%  4679 Out of 19944Progress: 23%  4680 Out of 19944Progress: 23%  4681 Out of 19944Progress: 23%  4682 Out of 19944Progress: 23%  4683 Out of 19944Progress: 23%  4684 Out of 19944Progress: 23%  4685 Out of 19944Progress: 23%  4686 Out of 19944Progress: 23%  4687 Out of 19944Progress: 23%  4688 Out of 19944Progress: 23%  4689 Out of 19944Progress: 23%  4690 Out of 19944Progress: 23%  4691 Out of 19944Progress: 23%  4692 Out of 19944Progress: 23%  4693 Out of 19944Progress: 23%  4694 Out of 19944Progress: 23%  4695 Out of 19944Progress: 23%  4696 Out of 19944Progress: 23%  4697 Out of 19944Progress: 23%  4698 Out of 19944Progress: 23%  4699 Out of 19944Progress: 23%  4700 Out of 19944Progress: 23%  4701 Out of 19944Progress: 23%  4702 Out of 19944Progress: 23%  4703 Out of 19944Progress: 23%  4704 Out of 19944Progress: 23%  4705 Out of 19944Progress: 23%  4706 Out of 19944Progress: 23%  4707 Out of 19944Progress: 23%  4708 Out of 19944Progress: 23%  4709 Out of 19944Progress: 23%  4710 Out of 19944Progress: 23%  4711 Out of 19944Progress: 23%  4712 Out of 19944Progress: 23%  4713 Out of 19944Progress: 23%  4714 Out of 19944Progress: 23%  4715 Out of 19944Progress: 23%  4716 Out of 19944Progress: 23%  4717 Out of 19944Progress: 23%  4718 Out of 19944Progress: 23%  4719 Out of 19944Progress: 23%  4720 Out of 19944Progress: 23%  4721 Out of 19944Progress: 23%  4722 Out of 19944Progress: 23%  4723 Out of 19944Progress: 23%  4724 Out of 19944Progress: 23%  4725 Out of 19944Progress: 23%  4726 Out of 19944Progress: 23%  4727 Out of 19944Progress: 23%  4728 Out of 19944Progress: 23%  4729 Out of 19944Progress: 23%  4730 Out of 19944Progress: 23%  4731 Out of 19944Progress: 23%  4732 Out of 19944Progress: 23%  4733 Out of 19944Progress: 23%  4734 Out of 19944Progress: 23%  4735 Out of 19944Progress: 23%  4736 Out of 19944Progress: 23%  4737 Out of 19944Progress: 23%  4738 Out of 19944Progress: 23%  4739 Out of 19944Progress: 23%  4740 Out of 19944Progress: 23%  4741 Out of 19944Progress: 23%  4742 Out of 19944Progress: 23%  4743 Out of 19944Progress: 23%  4744 Out of 19944Progress: 23%  4745 Out of 19944Progress: 23%  4746 Out of 19944Progress: 23%  4747 Out of 19944Progress: 23%  4748 Out of 19944Progress: 23%  4749 Out of 19944Progress: 23%  4750 Out of 19944Progress: 23%  4751 Out of 19944Progress: 23%  4752 Out of 19944Progress: 23%  4753 Out of 19944Progress: 23%  4754 Out of 19944Progress: 23%  4755 Out of 19944Progress: 23%  4756 Out of 19944Progress: 23%  4757 Out of 19944Progress: 23%  4758 Out of 19944Progress: 23%  4759 Out of 19944Progress: 23%  4760 Out of 19944Progress: 23%  4761 Out of 19944Progress: 23%  4762 Out of 19944Progress: 23%  4763 Out of 19944Progress: 23%  4764 Out of 19944Progress: 23%  4765 Out of 19944Progress: 23%  4766 Out of 19944Progress: 23%  4767 Out of 19944Progress: 23%  4768 Out of 19944Progress: 23%  4769 Out of 19944Progress: 23%  4770 Out of 19944Progress: 23%  4771 Out of 19944Progress: 23%  4772 Out of 19944Progress: 23%  4773 Out of 19944Progress: 23%  4774 Out of 19944Progress: 23%  4775 Out of 19944Progress: 23%  4776 Out of 19944Progress: 23%  4777 Out of 19944Progress: 23%  4778 Out of 19944Progress: 23%  4779 Out of 19944Progress: 23%  4780 Out of 19944Progress: 23%  4781 Out of 19944Progress: 23%  4782 Out of 19944Progress: 23%  4783 Out of 19944Progress: 23%  4784 Out of 19944Progress: 23%  4785 Out of 19944Progress: 23%  4786 Out of 19944Progress: 24%  4787 Out of 19944Progress: 24%  4788 Out of 19944Progress: 24%  4789 Out of 19944Progress: 24%  4790 Out of 19944Progress: 24%  4791 Out of 19944Progress: 24%  4792 Out of 19944Progress: 24%  4793 Out of 19944Progress: 24%  4794 Out of 19944Progress: 24%  4795 Out of 19944Progress: 24%  4796 Out of 19944Progress: 24%  4797 Out of 19944Progress: 24%  4798 Out of 19944Progress: 24%  4799 Out of 19944Progress: 24%  4800 Out of 19944Progress: 24%  4801 Out of 19944Progress: 24%  4802 Out of 19944Progress: 24%  4803 Out of 19944Progress: 24%  4804 Out of 19944Progress: 24%  4805 Out of 19944Progress: 24%  4806 Out of 19944Progress: 24%  4807 Out of 19944Progress: 24%  4808 Out of 19944Progress: 24%  4809 Out of 19944Progress: 24%  4810 Out of 19944Progress: 24%  4811 Out of 19944Progress: 24%  4812 Out of 19944Progress: 24%  4813 Out of 19944Progress: 24%  4814 Out of 19944Progress: 24%  4815 Out of 19944Progress: 24%  4816 Out of 19944Progress: 24%  4817 Out of 19944Progress: 24%  4818 Out of 19944Progress: 24%  4819 Out of 19944Progress: 24%  4820 Out of 19944Progress: 24%  4821 Out of 19944Progress: 24%  4822 Out of 19944Progress: 24%  4823 Out of 19944Progress: 24%  4824 Out of 19944Progress: 24%  4825 Out of 19944Progress: 24%  4826 Out of 19944Progress: 24%  4827 Out of 19944Progress: 24%  4828 Out of 19944Progress: 24%  4829 Out of 19944Progress: 24%  4830 Out of 19944Progress: 24%  4831 Out of 19944Progress: 24%  4832 Out of 19944Progress: 24%  4833 Out of 19944Progress: 24%  4834 Out of 19944Progress: 24%  4835 Out of 19944Progress: 24%  4836 Out of 19944Progress: 24%  4837 Out of 19944Progress: 24%  4838 Out of 19944Progress: 24%  4839 Out of 19944Progress: 24%  4840 Out of 19944Progress: 24%  4841 Out of 19944Progress: 24%  4842 Out of 19944Progress: 24%  4843 Out of 19944Progress: 24%  4844 Out of 19944Progress: 24%  4845 Out of 19944Progress: 24%  4846 Out of 19944Progress: 24%  4847 Out of 19944Progress: 24%  4848 Out of 19944Progress: 24%  4849 Out of 19944Progress: 24%  4850 Out of 19944Progress: 24%  4851 Out of 19944Progress: 24%  4852 Out of 19944Progress: 24%  4853 Out of 19944Progress: 24%  4854 Out of 19944Progress: 24%  4855 Out of 19944Progress: 24%  4856 Out of 19944Progress: 24%  4857 Out of 19944Progress: 24%  4858 Out of 19944Progress: 24%  4859 Out of 19944Progress: 24%  4860 Out of 19944Progress: 24%  4861 Out of 19944Progress: 24%  4862 Out of 19944Progress: 24%  4863 Out of 19944Progress: 24%  4864 Out of 19944Progress: 24%  4865 Out of 19944Progress: 24%  4866 Out of 19944Progress: 24%  4867 Out of 19944Progress: 24%  4868 Out of 19944Progress: 24%  4869 Out of 19944Progress: 24%  4870 Out of 19944Progress: 24%  4871 Out of 19944Progress: 24%  4872 Out of 19944Progress: 24%  4873 Out of 19944Progress: 24%  4874 Out of 19944Progress: 24%  4875 Out of 19944Progress: 24%  4876 Out of 19944Progress: 24%  4877 Out of 19944Progress: 24%  4878 Out of 19944Progress: 24%  4879 Out of 19944Progress: 24%  4880 Out of 19944Progress: 24%  4881 Out of 19944Progress: 24%  4882 Out of 19944Progress: 24%  4883 Out of 19944Progress: 24%  4884 Out of 19944Progress: 24%  4885 Out of 19944Progress: 24%  4886 Out of 19944Progress: 24%  4887 Out of 19944Progress: 24%  4888 Out of 19944Progress: 24%  4889 Out of 19944Progress: 24%  4890 Out of 19944Progress: 24%  4891 Out of 19944Progress: 24%  4892 Out of 19944Progress: 24%  4893 Out of 19944Progress: 24%  4894 Out of 19944Progress: 24%  4895 Out of 19944Progress: 24%  4896 Out of 19944Progress: 24%  4897 Out of 19944Progress: 24%  4898 Out of 19944Progress: 24%  4899 Out of 19944Progress: 24%  4900 Out of 19944Progress: 24%  4901 Out of 19944Progress: 24%  4902 Out of 19944Progress: 24%  4903 Out of 19944Progress: 24%  4904 Out of 19944Progress: 24%  4905 Out of 19944Progress: 24%  4906 Out of 19944Progress: 24%  4907 Out of 19944Progress: 24%  4908 Out of 19944Progress: 24%  4909 Out of 19944Progress: 24%  4910 Out of 19944Progress: 24%  4911 Out of 19944Progress: 24%  4912 Out of 19944Progress: 24%  4913 Out of 19944Progress: 24%  4914 Out of 19944Progress: 24%  4915 Out of 19944Progress: 24%  4916 Out of 19944Progress: 24%  4917 Out of 19944Progress: 24%  4918 Out of 19944Progress: 24%  4919 Out of 19944Progress: 24%  4920 Out of 19944Progress: 24%  4921 Out of 19944Progress: 24%  4922 Out of 19944Progress: 24%  4923 Out of 19944Progress: 24%  4924 Out of 19944Progress: 24%  4925 Out of 19944Progress: 24%  4926 Out of 19944Progress: 24%  4927 Out of 19944Progress: 24%  4928 Out of 19944Progress: 24%  4929 Out of 19944Progress: 24%  4930 Out of 19944Progress: 24%  4931 Out of 19944Progress: 24%  4932 Out of 19944Progress: 24%  4933 Out of 19944Progress: 24%  4934 Out of 19944Progress: 24%  4935 Out of 19944Progress: 24%  4936 Out of 19944Progress: 24%  4937 Out of 19944Progress: 24%  4938 Out of 19944Progress: 24%  4939 Out of 19944Progress: 24%  4940 Out of 19944Progress: 24%  4941 Out of 19944Progress: 24%  4942 Out of 19944Progress: 24%  4943 Out of 19944Progress: 24%  4944 Out of 19944Progress: 24%  4945 Out of 19944Progress: 24%  4946 Out of 19944Progress: 24%  4947 Out of 19944Progress: 24%  4948 Out of 19944Progress: 24%  4949 Out of 19944Progress: 24%  4950 Out of 19944Progress: 24%  4951 Out of 19944Progress: 24%  4952 Out of 19944Progress: 24%  4953 Out of 19944Progress: 24%  4954 Out of 19944Progress: 24%  4955 Out of 19944Progress: 24%  4956 Out of 19944Progress: 24%  4957 Out of 19944Progress: 24%  4958 Out of 19944Progress: 24%  4959 Out of 19944Progress: 24%  4960 Out of 19944Progress: 24%  4961 Out of 19944Progress: 24%  4962 Out of 19944Progress: 24%  4963 Out of 19944Progress: 24%  4964 Out of 19944Progress: 24%  4965 Out of 19944Progress: 24%  4966 Out of 19944Progress: 24%  4967 Out of 19944Progress: 24%  4968 Out of 19944Progress: 24%  4969 Out of 19944Progress: 24%  4970 Out of 19944Progress: 24%  4971 Out of 19944Progress: 24%  4972 Out of 19944Progress: 24%  4973 Out of 19944Progress: 24%  4974 Out of 19944Progress: 24%  4975 Out of 19944Progress: 24%  4976 Out of 19944Progress: 24%  4977 Out of 19944Progress: 24%  4978 Out of 19944Progress: 24%  4979 Out of 19944Progress: 24%  4980 Out of 19944Progress: 24%  4981 Out of 19944Progress: 24%  4982 Out of 19944Progress: 24%  4983 Out of 19944Progress: 24%  4984 Out of 19944Progress: 24%  4985 Out of 19944Progress: 25%  4986 Out of 19944Progress: 25%  4987 Out of 19944Progress: 25%  4988 Out of 19944Progress: 25%  4989 Out of 19944Progress: 25%  4990 Out of 19944Progress: 25%  4991 Out of 19944Progress: 25%  4992 Out of 19944Progress: 25%  4993 Out of 19944Progress: 25%  4994 Out of 19944Progress: 25%  4995 Out of 19944Progress: 25%  4996 Out of 19944Progress: 25%  4997 Out of 19944Progress: 25%  4998 Out of 19944Progress: 25%  4999 Out of 19944Progress: 25%  5000 Out of 19944Progress: 25%  5001 Out of 19944Progress: 25%  5002 Out of 19944Progress: 25%  5003 Out of 19944Progress: 25%  5004 Out of 19944Progress: 25%  5005 Out of 19944Progress: 25%  5006 Out of 19944Progress: 25%  5007 Out of 19944Progress: 25%  5008 Out of 19944Progress: 25%  5009 Out of 19944Progress: 25%  5010 Out of 19944Progress: 25%  5011 Out of 19944Progress: 25%  5012 Out of 19944Progress: 25%  5013 Out of 19944Progress: 25%  5014 Out of 19944Progress: 25%  5015 Out of 19944Progress: 25%  5016 Out of 19944Progress: 25%  5017 Out of 19944Progress: 25%  5018 Out of 19944Progress: 25%  5019 Out of 19944Progress: 25%  5020 Out of 19944Progress: 25%  5021 Out of 19944Progress: 25%  5022 Out of 19944Progress: 25%  5023 Out of 19944Progress: 25%  5024 Out of 19944Progress: 25%  5025 Out of 19944Progress: 25%  5026 Out of 19944Progress: 25%  5027 Out of 19944Progress: 25%  5028 Out of 19944Progress: 25%  5029 Out of 19944Progress: 25%  5030 Out of 19944Progress: 25%  5031 Out of 19944Progress: 25%  5032 Out of 19944Progress: 25%  5033 Out of 19944Progress: 25%  5034 Out of 19944Progress: 25%  5035 Out of 19944Progress: 25%  5036 Out of 19944Progress: 25%  5037 Out of 19944Progress: 25%  5038 Out of 19944Progress: 25%  5039 Out of 19944Progress: 25%  5040 Out of 19944Progress: 25%  5041 Out of 19944Progress: 25%  5042 Out of 19944Progress: 25%  5043 Out of 19944Progress: 25%  5044 Out of 19944Progress: 25%  5045 Out of 19944Progress: 25%  5046 Out of 19944Progress: 25%  5047 Out of 19944Progress: 25%  5048 Out of 19944Progress: 25%  5049 Out of 19944Progress: 25%  5050 Out of 19944Progress: 25%  5051 Out of 19944Progress: 25%  5052 Out of 19944Progress: 25%  5053 Out of 19944Progress: 25%  5054 Out of 19944Progress: 25%  5055 Out of 19944Progress: 25%  5056 Out of 19944Progress: 25%  5057 Out of 19944Progress: 25%  5058 Out of 19944Progress: 25%  5059 Out of 19944Progress: 25%  5060 Out of 19944Progress: 25%  5061 Out of 19944Progress: 25%  5062 Out of 19944Progress: 25%  5063 Out of 19944Progress: 25%  5064 Out of 19944Progress: 25%  5065 Out of 19944Progress: 25%  5066 Out of 19944Progress: 25%  5067 Out of 19944Progress: 25%  5068 Out of 19944Progress: 25%  5069 Out of 19944Progress: 25%  5070 Out of 19944Progress: 25%  5071 Out of 19944Progress: 25%  5072 Out of 19944Progress: 25%  5073 Out of 19944Progress: 25%  5074 Out of 19944Progress: 25%  5075 Out of 19944Progress: 25%  5076 Out of 19944Progress: 25%  5077 Out of 19944Progress: 25%  5078 Out of 19944Progress: 25%  5079 Out of 19944Progress: 25%  5080 Out of 19944Progress: 25%  5081 Out of 19944Progress: 25%  5082 Out of 19944Progress: 25%  5083 Out of 19944Progress: 25%  5084 Out of 19944Progress: 25%  5085 Out of 19944Progress: 25%  5086 Out of 19944Progress: 25%  5087 Out of 19944Progress: 25%  5088 Out of 19944Progress: 25%  5089 Out of 19944Progress: 25%  5090 Out of 19944Progress: 25%  5091 Out of 19944Progress: 25%  5092 Out of 19944Progress: 25%  5093 Out of 19944Progress: 25%  5094 Out of 19944Progress: 25%  5095 Out of 19944Progress: 25%  5096 Out of 19944Progress: 25%  5097 Out of 19944Progress: 25%  5098 Out of 19944Progress: 25%  5099 Out of 19944Progress: 25%  5100 Out of 19944Progress: 25%  5101 Out of 19944Progress: 25%  5102 Out of 19944Progress: 25%  5103 Out of 19944Progress: 25%  5104 Out of 19944Progress: 25%  5105 Out of 19944Progress: 25%  5106 Out of 19944Progress: 25%  5107 Out of 19944Progress: 25%  5108 Out of 19944Progress: 25%  5109 Out of 19944Progress: 25%  5110 Out of 19944Progress: 25%  5111 Out of 19944Progress: 25%  5112 Out of 19944Progress: 25%  5113 Out of 19944Progress: 25%  5114 Out of 19944Progress: 25%  5115 Out of 19944Progress: 25%  5116 Out of 19944Progress: 25%  5117 Out of 19944Progress: 25%  5118 Out of 19944Progress: 25%  5119 Out of 19944Progress: 25%  5120 Out of 19944Progress: 25%  5121 Out of 19944Progress: 25%  5122 Out of 19944Progress: 25%  5123 Out of 19944Progress: 25%  5124 Out of 19944Progress: 25%  5125 Out of 19944Progress: 25%  5126 Out of 19944Progress: 25%  5127 Out of 19944Progress: 25%  5128 Out of 19944Progress: 25%  5129 Out of 19944Progress: 25%  5130 Out of 19944Progress: 25%  5131 Out of 19944Progress: 25%  5132 Out of 19944Progress: 25%  5133 Out of 19944Progress: 25%  5134 Out of 19944Progress: 25%  5135 Out of 19944Progress: 25%  5136 Out of 19944Progress: 25%  5137 Out of 19944Progress: 25%  5138 Out of 19944Progress: 25%  5139 Out of 19944Progress: 25%  5140 Out of 19944Progress: 25%  5141 Out of 19944Progress: 25%  5142 Out of 19944Progress: 25%  5143 Out of 19944Progress: 25%  5144 Out of 19944Progress: 25%  5145 Out of 19944Progress: 25%  5146 Out of 19944Progress: 25%  5147 Out of 19944Progress: 25%  5148 Out of 19944Progress: 25%  5149 Out of 19944Progress: 25%  5150 Out of 19944Progress: 25%  5151 Out of 19944Progress: 25%  5152 Out of 19944Progress: 25%  5153 Out of 19944Progress: 25%  5154 Out of 19944Progress: 25%  5155 Out of 19944Progress: 25%  5156 Out of 19944Progress: 25%  5157 Out of 19944Progress: 25%  5158 Out of 19944Progress: 25%  5159 Out of 19944Progress: 25%  5160 Out of 19944Progress: 25%  5161 Out of 19944Progress: 25%  5162 Out of 19944Progress: 25%  5163 Out of 19944Progress: 25%  5164 Out of 19944Progress: 25%  5165 Out of 19944Progress: 25%  5166 Out of 19944Progress: 25%  5167 Out of 19944Progress: 25%  5168 Out of 19944Progress: 25%  5169 Out of 19944Progress: 25%  5170 Out of 19944Progress: 25%  5171 Out of 19944Progress: 25%  5172 Out of 19944Progress: 25%  5173 Out of 19944Progress: 25%  5174 Out of 19944Progress: 25%  5175 Out of 19944Progress: 25%  5176 Out of 19944Progress: 25%  5177 Out of 19944Progress: 25%  5178 Out of 19944Progress: 25%  5179 Out of 19944Progress: 25%  5180 Out of 19944Progress: 25%  5181 Out of 19944Progress: 25%  5182 Out of 19944Progress: 25%  5183 Out of 19944Progress: 25%  5184 Out of 19944Progress: 25%  5185 Out of 19944Progress: 26%  5186 Out of 19944Progress: 26%  5187 Out of 19944Progress: 26%  5188 Out of 19944Progress: 26%  5189 Out of 19944Progress: 26%  5190 Out of 19944Progress: 26%  5191 Out of 19944Progress: 26%  5192 Out of 19944Progress: 26%  5193 Out of 19944Progress: 26%  5194 Out of 19944Progress: 26%  5195 Out of 19944Progress: 26%  5196 Out of 19944Progress: 26%  5197 Out of 19944Progress: 26%  5198 Out of 19944Progress: 26%  5199 Out of 19944Progress: 26%  5200 Out of 19944Progress: 26%  5201 Out of 19944Progress: 26%  5202 Out of 19944Progress: 26%  5203 Out of 19944Progress: 26%  5204 Out of 19944Progress: 26%  5205 Out of 19944Progress: 26%  5206 Out of 19944Progress: 26%  5207 Out of 19944Progress: 26%  5208 Out of 19944Progress: 26%  5209 Out of 19944Progress: 26%  5210 Out of 19944Progress: 26%  5211 Out of 19944Progress: 26%  5212 Out of 19944Progress: 26%  5213 Out of 19944Progress: 26%  5214 Out of 19944Progress: 26%  5215 Out of 19944Progress: 26%  5216 Out of 19944Progress: 26%  5217 Out of 19944Progress: 26%  5218 Out of 19944Progress: 26%  5219 Out of 19944Progress: 26%  5220 Out of 19944Progress: 26%  5221 Out of 19944Progress: 26%  5222 Out of 19944Progress: 26%  5223 Out of 19944Progress: 26%  5224 Out of 19944Progress: 26%  5225 Out of 19944Progress: 26%  5226 Out of 19944Progress: 26%  5227 Out of 19944Progress: 26%  5228 Out of 19944Progress: 26%  5229 Out of 19944Progress: 26%  5230 Out of 19944Progress: 26%  5231 Out of 19944Progress: 26%  5232 Out of 19944Progress: 26%  5233 Out of 19944Progress: 26%  5234 Out of 19944Progress: 26%  5235 Out of 19944Progress: 26%  5236 Out of 19944Progress: 26%  5237 Out of 19944Progress: 26%  5238 Out of 19944Progress: 26%  5239 Out of 19944Progress: 26%  5240 Out of 19944Progress: 26%  5241 Out of 19944Progress: 26%  5242 Out of 19944Progress: 26%  5243 Out of 19944Progress: 26%  5244 Out of 19944Progress: 26%  5245 Out of 19944Progress: 26%  5246 Out of 19944Progress: 26%  5247 Out of 19944Progress: 26%  5248 Out of 19944Progress: 26%  5249 Out of 19944Progress: 26%  5250 Out of 19944Progress: 26%  5251 Out of 19944Progress: 26%  5252 Out of 19944Progress: 26%  5253 Out of 19944Progress: 26%  5254 Out of 19944Progress: 26%  5255 Out of 19944Progress: 26%  5256 Out of 19944Progress: 26%  5257 Out of 19944Progress: 26%  5258 Out of 19944Progress: 26%  5259 Out of 19944Progress: 26%  5260 Out of 19944Progress: 26%  5261 Out of 19944Progress: 26%  5262 Out of 19944Progress: 26%  5263 Out of 19944Progress: 26%  5264 Out of 19944Progress: 26%  5265 Out of 19944Progress: 26%  5266 Out of 19944Progress: 26%  5267 Out of 19944Progress: 26%  5268 Out of 19944Progress: 26%  5269 Out of 19944Progress: 26%  5270 Out of 19944Progress: 26%  5271 Out of 19944Progress: 26%  5272 Out of 19944Progress: 26%  5273 Out of 19944Progress: 26%  5274 Out of 19944Progress: 26%  5275 Out of 19944Progress: 26%  5276 Out of 19944Progress: 26%  5277 Out of 19944Progress: 26%  5278 Out of 19944Progress: 26%  5279 Out of 19944Progress: 26%  5280 Out of 19944Progress: 26%  5281 Out of 19944Progress: 26%  5282 Out of 19944Progress: 26%  5283 Out of 19944Progress: 26%  5284 Out of 19944Progress: 26%  5285 Out of 19944Progress: 26%  5286 Out of 19944Progress: 26%  5287 Out of 19944Progress: 26%  5288 Out of 19944Progress: 26%  5289 Out of 19944Progress: 26%  5290 Out of 19944Progress: 26%  5291 Out of 19944Progress: 26%  5292 Out of 19944Progress: 26%  5293 Out of 19944Progress: 26%  5294 Out of 19944Progress: 26%  5295 Out of 19944Progress: 26%  5296 Out of 19944Progress: 26%  5297 Out of 19944Progress: 26%  5298 Out of 19944Progress: 26%  5299 Out of 19944Progress: 26%  5300 Out of 19944Progress: 26%  5301 Out of 19944Progress: 26%  5302 Out of 19944Progress: 26%  5303 Out of 19944Progress: 26%  5304 Out of 19944Progress: 26%  5305 Out of 19944Progress: 26%  5306 Out of 19944Progress: 26%  5307 Out of 19944Progress: 26%  5308 Out of 19944Progress: 26%  5309 Out of 19944Progress: 26%  5310 Out of 19944Progress: 26%  5311 Out of 19944Progress: 26%  5312 Out of 19944Progress: 26%  5313 Out of 19944Progress: 26%  5314 Out of 19944Progress: 26%  5315 Out of 19944Progress: 26%  5316 Out of 19944Progress: 26%  5317 Out of 19944Progress: 26%  5318 Out of 19944Progress: 26%  5319 Out of 19944Progress: 26%  5320 Out of 19944Progress: 26%  5321 Out of 19944Progress: 26%  5322 Out of 19944Progress: 26%  5323 Out of 19944Progress: 26%  5324 Out of 19944Progress: 26%  5325 Out of 19944Progress: 26%  5326 Out of 19944Progress: 26%  5327 Out of 19944Progress: 26%  5328 Out of 19944Progress: 26%  5329 Out of 19944Progress: 26%  5330 Out of 19944Progress: 26%  5331 Out of 19944Progress: 26%  5332 Out of 19944Progress: 26%  5333 Out of 19944Progress: 26%  5334 Out of 19944Progress: 26%  5335 Out of 19944Progress: 26%  5336 Out of 19944Progress: 26%  5337 Out of 19944Progress: 26%  5338 Out of 19944Progress: 26%  5339 Out of 19944Progress: 26%  5340 Out of 19944Progress: 26%  5341 Out of 19944Progress: 26%  5342 Out of 19944Progress: 26%  5343 Out of 19944Progress: 26%  5344 Out of 19944Progress: 26%  5345 Out of 19944Progress: 26%  5346 Out of 19944Progress: 26%  5347 Out of 19944Progress: 26%  5348 Out of 19944Progress: 26%  5349 Out of 19944Progress: 26%  5350 Out of 19944Progress: 26%  5351 Out of 19944Progress: 26%  5352 Out of 19944Progress: 26%  5353 Out of 19944Progress: 26%  5354 Out of 19944Progress: 26%  5355 Out of 19944Progress: 26%  5356 Out of 19944Progress: 26%  5357 Out of 19944Progress: 26%  5358 Out of 19944Progress: 26%  5359 Out of 19944Progress: 26%  5360 Out of 19944Progress: 26%  5361 Out of 19944Progress: 26%  5362 Out of 19944Progress: 26%  5363 Out of 19944Progress: 26%  5364 Out of 19944Progress: 26%  5365 Out of 19944Progress: 26%  5366 Out of 19944Progress: 26%  5367 Out of 19944Progress: 26%  5368 Out of 19944Progress: 26%  5369 Out of 19944Progress: 26%  5370 Out of 19944Progress: 26%  5371 Out of 19944Progress: 26%  5372 Out of 19944Progress: 26%  5373 Out of 19944Progress: 26%  5374 Out of 19944Progress: 26%  5375 Out of 19944Progress: 26%  5376 Out of 19944Progress: 26%  5377 Out of 19944Progress: 26%  5378 Out of 19944Progress: 26%  5379 Out of 19944Progress: 26%  5380 Out of 19944Progress: 26%  5381 Out of 19944Progress: 26%  5382 Out of 19944Progress: 26%  5383 Out of 19944Progress: 26%  5384 Out of 19944Progress: 27%  5385 Out of 19944Progress: 27%  5386 Out of 19944Progress: 27%  5387 Out of 19944Progress: 27%  5388 Out of 19944Progress: 27%  5389 Out of 19944Progress: 27%  5390 Out of 19944Progress: 27%  5391 Out of 19944Progress: 27%  5392 Out of 19944Progress: 27%  5393 Out of 19944Progress: 27%  5394 Out of 19944Progress: 27%  5395 Out of 19944Progress: 27%  5396 Out of 19944Progress: 27%  5397 Out of 19944Progress: 27%  5398 Out of 19944Progress: 27%  5399 Out of 19944Progress: 27%  5400 Out of 19944Progress: 27%  5401 Out of 19944Progress: 27%  5402 Out of 19944Progress: 27%  5403 Out of 19944Progress: 27%  5404 Out of 19944Progress: 27%  5405 Out of 19944Progress: 27%  5406 Out of 19944Progress: 27%  5407 Out of 19944Progress: 27%  5408 Out of 19944Progress: 27%  5409 Out of 19944Progress: 27%  5410 Out of 19944Progress: 27%  5411 Out of 19944Progress: 27%  5412 Out of 19944Progress: 27%  5413 Out of 19944Progress: 27%  5414 Out of 19944Progress: 27%  5415 Out of 19944Progress: 27%  5416 Out of 19944Progress: 27%  5417 Out of 19944Progress: 27%  5418 Out of 19944Progress: 27%  5419 Out of 19944Progress: 27%  5420 Out of 19944Progress: 27%  5421 Out of 19944Progress: 27%  5422 Out of 19944Progress: 27%  5423 Out of 19944Progress: 27%  5424 Out of 19944Progress: 27%  5425 Out of 19944Progress: 27%  5426 Out of 19944Progress: 27%  5427 Out of 19944Progress: 27%  5428 Out of 19944Progress: 27%  5429 Out of 19944Progress: 27%  5430 Out of 19944Progress: 27%  5431 Out of 19944Progress: 27%  5432 Out of 19944Progress: 27%  5433 Out of 19944Progress: 27%  5434 Out of 19944Progress: 27%  5435 Out of 19944Progress: 27%  5436 Out of 19944Progress: 27%  5437 Out of 19944Progress: 27%  5438 Out of 19944Progress: 27%  5439 Out of 19944Progress: 27%  5440 Out of 19944Progress: 27%  5441 Out of 19944Progress: 27%  5442 Out of 19944Progress: 27%  5443 Out of 19944Progress: 27%  5444 Out of 19944Progress: 27%  5445 Out of 19944Progress: 27%  5446 Out of 19944Progress: 27%  5447 Out of 19944Progress: 27%  5448 Out of 19944Progress: 27%  5449 Out of 19944Progress: 27%  5450 Out of 19944Progress: 27%  5451 Out of 19944Progress: 27%  5452 Out of 19944Progress: 27%  5453 Out of 19944Progress: 27%  5454 Out of 19944Progress: 27%  5455 Out of 19944Progress: 27%  5456 Out of 19944Progress: 27%  5457 Out of 19944Progress: 27%  5458 Out of 19944Progress: 27%  5459 Out of 19944Progress: 27%  5460 Out of 19944Progress: 27%  5461 Out of 19944Progress: 27%  5462 Out of 19944Progress: 27%  5463 Out of 19944Progress: 27%  5464 Out of 19944Progress: 27%  5465 Out of 19944Progress: 27%  5466 Out of 19944Progress: 27%  5467 Out of 19944Progress: 27%  5468 Out of 19944Progress: 27%  5469 Out of 19944Progress: 27%  5470 Out of 19944Progress: 27%  5471 Out of 19944Progress: 27%  5472 Out of 19944Progress: 27%  5473 Out of 19944Progress: 27%  5474 Out of 19944Progress: 27%  5475 Out of 19944Progress: 27%  5476 Out of 19944Progress: 27%  5477 Out of 19944Progress: 27%  5478 Out of 19944Progress: 27%  5479 Out of 19944Progress: 27%  5480 Out of 19944Progress: 27%  5481 Out of 19944Progress: 27%  5482 Out of 19944Progress: 27%  5483 Out of 19944Progress: 27%  5484 Out of 19944Progress: 27%  5485 Out of 19944Progress: 27%  5486 Out of 19944Progress: 27%  5487 Out of 19944Progress: 27%  5488 Out of 19944Progress: 27%  5489 Out of 19944Progress: 27%  5490 Out of 19944Progress: 27%  5491 Out of 19944Progress: 27%  5492 Out of 19944Progress: 27%  5493 Out of 19944Progress: 27%  5494 Out of 19944Progress: 27%  5495 Out of 19944Progress: 27%  5496 Out of 19944Progress: 27%  5497 Out of 19944Progress: 27%  5498 Out of 19944Progress: 27%  5499 Out of 19944Progress: 27%  5500 Out of 19944Progress: 27%  5501 Out of 19944Progress: 27%  5502 Out of 19944Progress: 27%  5503 Out of 19944Progress: 27%  5504 Out of 19944Progress: 27%  5505 Out of 19944Progress: 27%  5506 Out of 19944Progress: 27%  5507 Out of 19944Progress: 27%  5508 Out of 19944Progress: 27%  5509 Out of 19944Progress: 27%  5510 Out of 19944Progress: 27%  5511 Out of 19944Progress: 27%  5512 Out of 19944Progress: 27%  5513 Out of 19944Progress: 27%  5514 Out of 19944Progress: 27%  5515 Out of 19944Progress: 27%  5516 Out of 19944Progress: 27%  5517 Out of 19944Progress: 27%  5518 Out of 19944Progress: 27%  5519 Out of 19944Progress: 27%  5520 Out of 19944Progress: 27%  5521 Out of 19944Progress: 27%  5522 Out of 19944Progress: 27%  5523 Out of 19944Progress: 27%  5524 Out of 19944Progress: 27%  5525 Out of 19944Progress: 27%  5526 Out of 19944Progress: 27%  5527 Out of 19944Progress: 27%  5528 Out of 19944Progress: 27%  5529 Out of 19944Progress: 27%  5530 Out of 19944Progress: 27%  5531 Out of 19944Progress: 27%  5532 Out of 19944Progress: 27%  5533 Out of 19944Progress: 27%  5534 Out of 19944Progress: 27%  5535 Out of 19944Progress: 27%  5536 Out of 19944Progress: 27%  5537 Out of 19944Progress: 27%  5538 Out of 19944Progress: 27%  5539 Out of 19944Progress: 27%  5540 Out of 19944Progress: 27%  5541 Out of 19944Progress: 27%  5542 Out of 19944Progress: 27%  5543 Out of 19944Progress: 27%  5544 Out of 19944Progress: 27%  5545 Out of 19944Progress: 27%  5546 Out of 19944Progress: 27%  5547 Out of 19944Progress: 27%  5548 Out of 19944Progress: 27%  5549 Out of 19944Progress: 27%  5550 Out of 19944Progress: 27%  5551 Out of 19944Progress: 27%  5552 Out of 19944Progress: 27%  5553 Out of 19944Progress: 27%  5554 Out of 19944Progress: 27%  5555 Out of 19944Progress: 27%  5556 Out of 19944Progress: 27%  5557 Out of 19944Progress: 27%  5558 Out of 19944Progress: 27%  5559 Out of 19944Progress: 27%  5560 Out of 19944Progress: 27%  5561 Out of 19944Progress: 27%  5562 Out of 19944Progress: 27%  5563 Out of 19944Progress: 27%  5564 Out of 19944Progress: 27%  5565 Out of 19944Progress: 27%  5566 Out of 19944Progress: 27%  5567 Out of 19944Progress: 27%  5568 Out of 19944Progress: 27%  5569 Out of 19944Progress: 27%  5570 Out of 19944Progress: 27%  5571 Out of 19944Progress: 27%  5572 Out of 19944Progress: 27%  5573 Out of 19944Progress: 27%  5574 Out of 19944Progress: 27%  5575 Out of 19944Progress: 27%  5576 Out of 19944Progress: 27%  5577 Out of 19944Progress: 27%  5578 Out of 19944Progress: 27%  5579 Out of 19944Progress: 27%  5580 Out of 19944Progress: 27%  5581 Out of 19944Progress: 27%  5582 Out of 19944Progress: 27%  5583 Out of 19944Progress: 27%  5584 Out of 19944Progress: 28%  5585 Out of 19944Progress: 28%  5586 Out of 19944Progress: 28%  5587 Out of 19944Progress: 28%  5588 Out of 19944Progress: 28%  5589 Out of 19944Progress: 28%  5590 Out of 19944Progress: 28%  5591 Out of 19944Progress: 28%  5592 Out of 19944Progress: 28%  5593 Out of 19944Progress: 28%  5594 Out of 19944Progress: 28%  5595 Out of 19944Progress: 28%  5596 Out of 19944Progress: 28%  5597 Out of 19944Progress: 28%  5598 Out of 19944Progress: 28%  5599 Out of 19944Progress: 28%  5600 Out of 19944Progress: 28%  5601 Out of 19944Progress: 28%  5602 Out of 19944Progress: 28%  5603 Out of 19944Progress: 28%  5604 Out of 19944Progress: 28%  5605 Out of 19944Progress: 28%  5606 Out of 19944Progress: 28%  5607 Out of 19944Progress: 28%  5608 Out of 19944Progress: 28%  5609 Out of 19944Progress: 28%  5610 Out of 19944Progress: 28%  5611 Out of 19944Progress: 28%  5612 Out of 19944Progress: 28%  5613 Out of 19944Progress: 28%  5614 Out of 19944Progress: 28%  5615 Out of 19944Progress: 28%  5616 Out of 19944Progress: 28%  5617 Out of 19944Progress: 28%  5618 Out of 19944Progress: 28%  5619 Out of 19944Progress: 28%  5620 Out of 19944Progress: 28%  5621 Out of 19944Progress: 28%  5622 Out of 19944Progress: 28%  5623 Out of 19944Progress: 28%  5624 Out of 19944Progress: 28%  5625 Out of 19944Progress: 28%  5626 Out of 19944Progress: 28%  5627 Out of 19944Progress: 28%  5628 Out of 19944Progress: 28%  5629 Out of 19944Progress: 28%  5630 Out of 19944Progress: 28%  5631 Out of 19944Progress: 28%  5632 Out of 19944Progress: 28%  5633 Out of 19944Progress: 28%  5634 Out of 19944Progress: 28%  5635 Out of 19944Progress: 28%  5636 Out of 19944Progress: 28%  5637 Out of 19944Progress: 28%  5638 Out of 19944Progress: 28%  5639 Out of 19944Progress: 28%  5640 Out of 19944Progress: 28%  5641 Out of 19944Progress: 28%  5642 Out of 19944Progress: 28%  5643 Out of 19944Progress: 28%  5644 Out of 19944Progress: 28%  5645 Out of 19944Progress: 28%  5646 Out of 19944Progress: 28%  5647 Out of 19944Progress: 28%  5648 Out of 19944Progress: 28%  5649 Out of 19944Progress: 28%  5650 Out of 19944Progress: 28%  5651 Out of 19944Progress: 28%  5652 Out of 19944Progress: 28%  5653 Out of 19944Progress: 28%  5654 Out of 19944Progress: 28%  5655 Out of 19944Progress: 28%  5656 Out of 19944Progress: 28%  5657 Out of 19944Progress: 28%  5658 Out of 19944Progress: 28%  5659 Out of 19944Progress: 28%  5660 Out of 19944Progress: 28%  5661 Out of 19944Progress: 28%  5662 Out of 19944Progress: 28%  5663 Out of 19944Progress: 28%  5664 Out of 19944Progress: 28%  5665 Out of 19944Progress: 28%  5666 Out of 19944Progress: 28%  5667 Out of 19944Progress: 28%  5668 Out of 19944Progress: 28%  5669 Out of 19944Progress: 28%  5670 Out of 19944Progress: 28%  5671 Out of 19944Progress: 28%  5672 Out of 19944Progress: 28%  5673 Out of 19944Progress: 28%  5674 Out of 19944Progress: 28%  5675 Out of 19944Progress: 28%  5676 Out of 19944Progress: 28%  5677 Out of 19944Progress: 28%  5678 Out of 19944Progress: 28%  5679 Out of 19944Progress: 28%  5680 Out of 19944Progress: 28%  5681 Out of 19944Progress: 28%  5682 Out of 19944Progress: 28%  5683 Out of 19944Progress: 28%  5684 Out of 19944Progress: 28%  5685 Out of 19944Progress: 28%  5686 Out of 19944Progress: 28%  5687 Out of 19944Progress: 28%  5688 Out of 19944Progress: 28%  5689 Out of 19944Progress: 28%  5690 Out of 19944Progress: 28%  5691 Out of 19944Progress: 28%  5692 Out of 19944Progress: 28%  5693 Out of 19944Progress: 28%  5694 Out of 19944Progress: 28%  5695 Out of 19944Progress: 28%  5696 Out of 19944Progress: 28%  5697 Out of 19944Progress: 28%  5698 Out of 19944Progress: 28%  5699 Out of 19944Progress: 28%  5700 Out of 19944Progress: 28%  5701 Out of 19944Progress: 28%  5702 Out of 19944Progress: 28%  5703 Out of 19944Progress: 28%  5704 Out of 19944Progress: 28%  5705 Out of 19944Progress: 28%  5706 Out of 19944Progress: 28%  5707 Out of 19944Progress: 28%  5708 Out of 19944Progress: 28%  5709 Out of 19944Progress: 28%  5710 Out of 19944Progress: 28%  5711 Out of 19944Progress: 28%  5712 Out of 19944Progress: 28%  5713 Out of 19944Progress: 28%  5714 Out of 19944Progress: 28%  5715 Out of 19944Progress: 28%  5716 Out of 19944Progress: 28%  5717 Out of 19944Progress: 28%  5718 Out of 19944Progress: 28%  5719 Out of 19944Progress: 28%  5720 Out of 19944Progress: 28%  5721 Out of 19944Progress: 28%  5722 Out of 19944Progress: 28%  5723 Out of 19944Progress: 28%  5724 Out of 19944Progress: 28%  5725 Out of 19944Progress: 28%  5726 Out of 19944Progress: 28%  5727 Out of 19944Progress: 28%  5728 Out of 19944Progress: 28%  5729 Out of 19944Progress: 28%  5730 Out of 19944Progress: 28%  5731 Out of 19944Progress: 28%  5732 Out of 19944Progress: 28%  5733 Out of 19944Progress: 28%  5734 Out of 19944Progress: 28%  5735 Out of 19944Progress: 28%  5736 Out of 19944Progress: 28%  5737 Out of 19944Progress: 28%  5738 Out of 19944Progress: 28%  5739 Out of 19944Progress: 28%  5740 Out of 19944Progress: 28%  5741 Out of 19944Progress: 28%  5742 Out of 19944Progress: 28%  5743 Out of 19944Progress: 28%  5744 Out of 19944Progress: 28%  5745 Out of 19944Progress: 28%  5746 Out of 19944Progress: 28%  5747 Out of 19944Progress: 28%  5748 Out of 19944Progress: 28%  5749 Out of 19944Progress: 28%  5750 Out of 19944Progress: 28%  5751 Out of 19944Progress: 28%  5752 Out of 19944Progress: 28%  5753 Out of 19944Progress: 28%  5754 Out of 19944Progress: 28%  5755 Out of 19944Progress: 28%  5756 Out of 19944Progress: 28%  5757 Out of 19944Progress: 28%  5758 Out of 19944Progress: 28%  5759 Out of 19944Progress: 28%  5760 Out of 19944Progress: 28%  5761 Out of 19944Progress: 28%  5762 Out of 19944Progress: 28%  5763 Out of 19944Progress: 28%  5764 Out of 19944Progress: 28%  5765 Out of 19944Progress: 28%  5766 Out of 19944Progress: 28%  5767 Out of 19944Progress: 28%  5768 Out of 19944Progress: 28%  5769 Out of 19944Progress: 28%  5770 Out of 19944Progress: 28%  5771 Out of 19944Progress: 28%  5772 Out of 19944Progress: 28%  5773 Out of 19944Progress: 28%  5774 Out of 19944Progress: 28%  5775 Out of 19944Progress: 28%  5776 Out of 19944Progress: 28%  5777 Out of 19944Progress: 28%  5778 Out of 19944Progress: 28%  5779 Out of 19944Progress: 28%  5780 Out of 19944Progress: 28%  5781 Out of 19944Progress: 28%  5782 Out of 19944Progress: 28%  5783 Out of 19944Progress: 29%  5784 Out of 19944Progress: 29%  5785 Out of 19944Progress: 29%  5786 Out of 19944Progress: 29%  5787 Out of 19944Progress: 29%  5788 Out of 19944Progress: 29%  5789 Out of 19944Progress: 29%  5790 Out of 19944Progress: 29%  5791 Out of 19944Progress: 29%  5792 Out of 19944Progress: 29%  5793 Out of 19944Progress: 29%  5794 Out of 19944Progress: 29%  5795 Out of 19944Progress: 29%  5796 Out of 19944Progress: 29%  5797 Out of 19944Progress: 29%  5798 Out of 19944Progress: 29%  5799 Out of 19944Progress: 29%  5800 Out of 19944Progress: 29%  5801 Out of 19944Progress: 29%  5802 Out of 19944Progress: 29%  5803 Out of 19944Progress: 29%  5804 Out of 19944Progress: 29%  5805 Out of 19944Progress: 29%  5806 Out of 19944Progress: 29%  5807 Out of 19944Progress: 29%  5808 Out of 19944Progress: 29%  5809 Out of 19944Progress: 29%  5810 Out of 19944Progress: 29%  5811 Out of 19944Progress: 29%  5812 Out of 19944Progress: 29%  5813 Out of 19944Progress: 29%  5814 Out of 19944Progress: 29%  5815 Out of 19944Progress: 29%  5816 Out of 19944Progress: 29%  5817 Out of 19944Progress: 29%  5818 Out of 19944Progress: 29%  5819 Out of 19944Progress: 29%  5820 Out of 19944Progress: 29%  5821 Out of 19944Progress: 29%  5822 Out of 19944Progress: 29%  5823 Out of 19944Progress: 29%  5824 Out of 19944Progress: 29%  5825 Out of 19944Progress: 29%  5826 Out of 19944Progress: 29%  5827 Out of 19944Progress: 29%  5828 Out of 19944Progress: 29%  5829 Out of 19944Progress: 29%  5830 Out of 19944Progress: 29%  5831 Out of 19944Progress: 29%  5832 Out of 19944Progress: 29%  5833 Out of 19944Progress: 29%  5834 Out of 19944Progress: 29%  5835 Out of 19944Progress: 29%  5836 Out of 19944Progress: 29%  5837 Out of 19944Progress: 29%  5838 Out of 19944Progress: 29%  5839 Out of 19944Progress: 29%  5840 Out of 19944Progress: 29%  5841 Out of 19944Progress: 29%  5842 Out of 19944Progress: 29%  5843 Out of 19944Progress: 29%  5844 Out of 19944Progress: 29%  5845 Out of 19944Progress: 29%  5846 Out of 19944Progress: 29%  5847 Out of 19944Progress: 29%  5848 Out of 19944Progress: 29%  5849 Out of 19944Progress: 29%  5850 Out of 19944Progress: 29%  5851 Out of 19944Progress: 29%  5852 Out of 19944Progress: 29%  5853 Out of 19944Progress: 29%  5854 Out of 19944Progress: 29%  5855 Out of 19944Progress: 29%  5856 Out of 19944Progress: 29%  5857 Out of 19944Progress: 29%  5858 Out of 19944Progress: 29%  5859 Out of 19944Progress: 29%  5860 Out of 19944Progress: 29%  5861 Out of 19944Progress: 29%  5862 Out of 19944Progress: 29%  5863 Out of 19944Progress: 29%  5864 Out of 19944Progress: 29%  5865 Out of 19944Progress: 29%  5866 Out of 19944Progress: 29%  5867 Out of 19944Progress: 29%  5868 Out of 19944Progress: 29%  5869 Out of 19944Progress: 29%  5870 Out of 19944Progress: 29%  5871 Out of 19944Progress: 29%  5872 Out of 19944Progress: 29%  5873 Out of 19944Progress: 29%  5874 Out of 19944Progress: 29%  5875 Out of 19944Progress: 29%  5876 Out of 19944Progress: 29%  5877 Out of 19944Progress: 29%  5878 Out of 19944Progress: 29%  5879 Out of 19944Progress: 29%  5880 Out of 19944Progress: 29%  5881 Out of 19944Progress: 29%  5882 Out of 19944Progress: 29%  5883 Out of 19944Progress: 29%  5884 Out of 19944Progress: 29%  5885 Out of 19944Progress: 29%  5886 Out of 19944Progress: 29%  5887 Out of 19944Progress: 29%  5888 Out of 19944Progress: 29%  5889 Out of 19944Progress: 29%  5890 Out of 19944Progress: 29%  5891 Out of 19944Progress: 29%  5892 Out of 19944Progress: 29%  5893 Out of 19944Progress: 29%  5894 Out of 19944Progress: 29%  5895 Out of 19944Progress: 29%  5896 Out of 19944Progress: 29%  5897 Out of 19944Progress: 29%  5898 Out of 19944Progress: 29%  5899 Out of 19944Progress: 29%  5900 Out of 19944Progress: 29%  5901 Out of 19944Progress: 29%  5902 Out of 19944Progress: 29%  5903 Out of 19944Progress: 29%  5904 Out of 19944Progress: 29%  5905 Out of 19944Progress: 29%  5906 Out of 19944Progress: 29%  5907 Out of 19944Progress: 29%  5908 Out of 19944Progress: 29%  5909 Out of 19944Progress: 29%  5910 Out of 19944Progress: 29%  5911 Out of 19944Progress: 29%  5912 Out of 19944Progress: 29%  5913 Out of 19944Progress: 29%  5914 Out of 19944Progress: 29%  5915 Out of 19944Progress: 29%  5916 Out of 19944Progress: 29%  5917 Out of 19944Progress: 29%  5918 Out of 19944Progress: 29%  5919 Out of 19944Progress: 29%  5920 Out of 19944Progress: 29%  5921 Out of 19944Progress: 29%  5922 Out of 19944Progress: 29%  5923 Out of 19944Progress: 29%  5924 Out of 19944Progress: 29%  5925 Out of 19944Progress: 29%  5926 Out of 19944Progress: 29%  5927 Out of 19944Progress: 29%  5928 Out of 19944Progress: 29%  5929 Out of 19944Progress: 29%  5930 Out of 19944Progress: 29%  5931 Out of 19944Progress: 29%  5932 Out of 19944Progress: 29%  5933 Out of 19944Progress: 29%  5934 Out of 19944Progress: 29%  5935 Out of 19944Progress: 29%  5936 Out of 19944Progress: 29%  5937 Out of 19944Progress: 29%  5938 Out of 19944Progress: 29%  5939 Out of 19944Progress: 29%  5940 Out of 19944Progress: 29%  5941 Out of 19944Progress: 29%  5942 Out of 19944Progress: 29%  5943 Out of 19944Progress: 29%  5944 Out of 19944Progress: 29%  5945 Out of 19944Progress: 29%  5946 Out of 19944Progress: 29%  5947 Out of 19944Progress: 29%  5948 Out of 19944Progress: 29%  5949 Out of 19944Progress: 29%  5950 Out of 19944Progress: 29%  5951 Out of 19944Progress: 29%  5952 Out of 19944Progress: 29%  5953 Out of 19944Progress: 29%  5954 Out of 19944Progress: 29%  5955 Out of 19944Progress: 29%  5956 Out of 19944Progress: 29%  5957 Out of 19944Progress: 29%  5958 Out of 19944Progress: 29%  5959 Out of 19944Progress: 29%  5960 Out of 19944Progress: 29%  5961 Out of 19944Progress: 29%  5962 Out of 19944Progress: 29%  5963 Out of 19944Progress: 29%  5964 Out of 19944Progress: 29%  5965 Out of 19944Progress: 29%  5966 Out of 19944Progress: 29%  5967 Out of 19944Progress: 29%  5968 Out of 19944Progress: 29%  5969 Out of 19944Progress: 29%  5970 Out of 19944Progress: 29%  5971 Out of 19944Progress: 29%  5972 Out of 19944Progress: 29%  5973 Out of 19944Progress: 29%  5974 Out of 19944Progress: 29%  5975 Out of 19944Progress: 29%  5976 Out of 19944Progress: 29%  5977 Out of 19944Progress: 29%  5978 Out of 19944Progress: 29%  5979 Out of 19944Progress: 29%  5980 Out of 19944Progress: 29%  5981 Out of 19944Progress: 29%  5982 Out of 19944Progress: 29%  5983 Out of 19944Progress: 30%  5984 Out of 19944Progress: 30%  5985 Out of 19944Progress: 30%  5986 Out of 19944Progress: 30%  5987 Out of 19944Progress: 30%  5988 Out of 19944Progress: 30%  5989 Out of 19944Progress: 30%  5990 Out of 19944Progress: 30%  5991 Out of 19944Progress: 30%  5992 Out of 19944Progress: 30%  5993 Out of 19944Progress: 30%  5994 Out of 19944Progress: 30%  5995 Out of 19944Progress: 30%  5996 Out of 19944Progress: 30%  5997 Out of 19944Progress: 30%  5998 Out of 19944Progress: 30%  5999 Out of 19944Progress: 30%  6000 Out of 19944Progress: 30%  6001 Out of 19944Progress: 30%  6002 Out of 19944Progress: 30%  6003 Out of 19944Progress: 30%  6004 Out of 19944Progress: 30%  6005 Out of 19944Progress: 30%  6006 Out of 19944Progress: 30%  6007 Out of 19944Progress: 30%  6008 Out of 19944Progress: 30%  6009 Out of 19944Progress: 30%  6010 Out of 19944Progress: 30%  6011 Out of 19944Progress: 30%  6012 Out of 19944Progress: 30%  6013 Out of 19944Progress: 30%  6014 Out of 19944Progress: 30%  6015 Out of 19944Progress: 30%  6016 Out of 19944Progress: 30%  6017 Out of 19944Progress: 30%  6018 Out of 19944Progress: 30%  6019 Out of 19944Progress: 30%  6020 Out of 19944Progress: 30%  6021 Out of 19944Progress: 30%  6022 Out of 19944Progress: 30%  6023 Out of 19944Progress: 30%  6024 Out of 19944Progress: 30%  6025 Out of 19944Progress: 30%  6026 Out of 19944Progress: 30%  6027 Out of 19944Progress: 30%  6028 Out of 19944Progress: 30%  6029 Out of 19944Progress: 30%  6030 Out of 19944Progress: 30%  6031 Out of 19944Progress: 30%  6032 Out of 19944Progress: 30%  6033 Out of 19944Progress: 30%  6034 Out of 19944Progress: 30%  6035 Out of 19944Progress: 30%  6036 Out of 19944Progress: 30%  6037 Out of 19944Progress: 30%  6038 Out of 19944Progress: 30%  6039 Out of 19944Progress: 30%  6040 Out of 19944Progress: 30%  6041 Out of 19944Progress: 30%  6042 Out of 19944Progress: 30%  6043 Out of 19944Progress: 30%  6044 Out of 19944Progress: 30%  6045 Out of 19944Progress: 30%  6046 Out of 19944Progress: 30%  6047 Out of 19944Progress: 30%  6048 Out of 19944Progress: 30%  6049 Out of 19944Progress: 30%  6050 Out of 19944Progress: 30%  6051 Out of 19944Progress: 30%  6052 Out of 19944Progress: 30%  6053 Out of 19944Progress: 30%  6054 Out of 19944Progress: 30%  6055 Out of 19944Progress: 30%  6056 Out of 19944Progress: 30%  6057 Out of 19944Progress: 30%  6058 Out of 19944Progress: 30%  6059 Out of 19944Progress: 30%  6060 Out of 19944Progress: 30%  6061 Out of 19944Progress: 30%  6062 Out of 19944Progress: 30%  6063 Out of 19944Progress: 30%  6064 Out of 19944Progress: 30%  6065 Out of 19944Progress: 30%  6066 Out of 19944Progress: 30%  6067 Out of 19944Progress: 30%  6068 Out of 19944Progress: 30%  6069 Out of 19944Progress: 30%  6070 Out of 19944Progress: 30%  6071 Out of 19944Progress: 30%  6072 Out of 19944Progress: 30%  6073 Out of 19944Progress: 30%  6074 Out of 19944Progress: 30%  6075 Out of 19944Progress: 30%  6076 Out of 19944Progress: 30%  6077 Out of 19944Progress: 30%  6078 Out of 19944Progress: 30%  6079 Out of 19944Progress: 30%  6080 Out of 19944Progress: 30%  6081 Out of 19944Progress: 30%  6082 Out of 19944Progress: 30%  6083 Out of 19944Progress: 30%  6084 Out of 19944Progress: 30%  6085 Out of 19944Progress: 30%  6086 Out of 19944Progress: 30%  6087 Out of 19944Progress: 30%  6088 Out of 19944Progress: 30%  6089 Out of 19944Progress: 30%  6090 Out of 19944Progress: 30%  6091 Out of 19944Progress: 30%  6092 Out of 19944Progress: 30%  6093 Out of 19944Progress: 30%  6094 Out of 19944Progress: 30%  6095 Out of 19944Progress: 30%  6096 Out of 19944Progress: 30%  6097 Out of 19944Progress: 30%  6098 Out of 19944Progress: 30%  6099 Out of 19944Progress: 30%  6100 Out of 19944Progress: 30%  6101 Out of 19944Progress: 30%  6102 Out of 19944Progress: 30%  6103 Out of 19944Progress: 30%  6104 Out of 19944Progress: 30%  6105 Out of 19944Progress: 30%  6106 Out of 19944Progress: 30%  6107 Out of 19944Progress: 30%  6108 Out of 19944Progress: 30%  6109 Out of 19944Progress: 30%  6110 Out of 19944Progress: 30%  6111 Out of 19944Progress: 30%  6112 Out of 19944Progress: 30%  6113 Out of 19944Progress: 30%  6114 Out of 19944Progress: 30%  6115 Out of 19944Progress: 30%  6116 Out of 19944Progress: 30%  6117 Out of 19944Progress: 30%  6118 Out of 19944Progress: 30%  6119 Out of 19944Progress: 30%  6120 Out of 19944Progress: 30%  6121 Out of 19944Progress: 30%  6122 Out of 19944Progress: 30%  6123 Out of 19944Progress: 30%  6124 Out of 19944Progress: 30%  6125 Out of 19944Progress: 30%  6126 Out of 19944Progress: 30%  6127 Out of 19944Progress: 30%  6128 Out of 19944Progress: 30%  6129 Out of 19944Progress: 30%  6130 Out of 19944Progress: 30%  6131 Out of 19944Progress: 30%  6132 Out of 19944Progress: 30%  6133 Out of 19944Progress: 30%  6134 Out of 19944Progress: 30%  6135 Out of 19944Progress: 30%  6136 Out of 19944Progress: 30%  6137 Out of 19944Progress: 30%  6138 Out of 19944Progress: 30%  6139 Out of 19944Progress: 30%  6140 Out of 19944Progress: 30%  6141 Out of 19944Progress: 30%  6142 Out of 19944Progress: 30%  6143 Out of 19944Progress: 30%  6144 Out of 19944Progress: 30%  6145 Out of 19944Progress: 30%  6146 Out of 19944Progress: 30%  6147 Out of 19944Progress: 30%  6148 Out of 19944Progress: 30%  6149 Out of 19944Progress: 30%  6150 Out of 19944Progress: 30%  6151 Out of 19944Progress: 30%  6152 Out of 19944Progress: 30%  6153 Out of 19944Progress: 30%  6154 Out of 19944Progress: 30%  6155 Out of 19944Progress: 30%  6156 Out of 19944Progress: 30%  6157 Out of 19944Progress: 30%  6158 Out of 19944Progress: 30%  6159 Out of 19944Progress: 30%  6160 Out of 19944Progress: 30%  6161 Out of 19944Progress: 30%  6162 Out of 19944Progress: 30%  6163 Out of 19944Progress: 30%  6164 Out of 19944Progress: 30%  6165 Out of 19944Progress: 30%  6166 Out of 19944Progress: 30%  6167 Out of 19944Progress: 30%  6168 Out of 19944Progress: 30%  6169 Out of 19944Progress: 30%  6170 Out of 19944Progress: 30%  6171 Out of 19944Progress: 30%  6172 Out of 19944Progress: 30%  6173 Out of 19944Progress: 30%  6174 Out of 19944Progress: 30%  6175 Out of 19944Progress: 30%  6176 Out of 19944Progress: 30%  6177 Out of 19944Progress: 30%  6178 Out of 19944Progress: 30%  6179 Out of 19944Progress: 30%  6180 Out of 19944Progress: 30%  6181 Out of 19944Progress: 30%  6182 Out of 19944Progress: 31%  6183 Out of 19944Progress: 31%  6184 Out of 19944Progress: 31%  6185 Out of 19944Progress: 31%  6186 Out of 19944Progress: 31%  6187 Out of 19944Progress: 31%  6188 Out of 19944Progress: 31%  6189 Out of 19944Progress: 31%  6190 Out of 19944Progress: 31%  6191 Out of 19944Progress: 31%  6192 Out of 19944Progress: 31%  6193 Out of 19944Progress: 31%  6194 Out of 19944Progress: 31%  6195 Out of 19944Progress: 31%  6196 Out of 19944Progress: 31%  6197 Out of 19944Progress: 31%  6198 Out of 19944Progress: 31%  6199 Out of 19944Progress: 31%  6200 Out of 19944Progress: 31%  6201 Out of 19944Progress: 31%  6202 Out of 19944Progress: 31%  6203 Out of 19944Progress: 31%  6204 Out of 19944Progress: 31%  6205 Out of 19944Progress: 31%  6206 Out of 19944Progress: 31%  6207 Out of 19944Progress: 31%  6208 Out of 19944Progress: 31%  6209 Out of 19944Progress: 31%  6210 Out of 19944Progress: 31%  6211 Out of 19944Progress: 31%  6212 Out of 19944Progress: 31%  6213 Out of 19944Progress: 31%  6214 Out of 19944Progress: 31%  6215 Out of 19944Progress: 31%  6216 Out of 19944Progress: 31%  6217 Out of 19944Progress: 31%  6218 Out of 19944Progress: 31%  6219 Out of 19944Progress: 31%  6220 Out of 19944Progress: 31%  6221 Out of 19944Progress: 31%  6222 Out of 19944Progress: 31%  6223 Out of 19944Progress: 31%  6224 Out of 19944Progress: 31%  6225 Out of 19944Progress: 31%  6226 Out of 19944Progress: 31%  6227 Out of 19944Progress: 31%  6228 Out of 19944Progress: 31%  6229 Out of 19944Progress: 31%  6230 Out of 19944Progress: 31%  6231 Out of 19944Progress: 31%  6232 Out of 19944Progress: 31%  6233 Out of 19944Progress: 31%  6234 Out of 19944Progress: 31%  6235 Out of 19944Progress: 31%  6236 Out of 19944Progress: 31%  6237 Out of 19944Progress: 31%  6238 Out of 19944Progress: 31%  6239 Out of 19944Progress: 31%  6240 Out of 19944Progress: 31%  6241 Out of 19944Progress: 31%  6242 Out of 19944Progress: 31%  6243 Out of 19944Progress: 31%  6244 Out of 19944Progress: 31%  6245 Out of 19944Progress: 31%  6246 Out of 19944Progress: 31%  6247 Out of 19944Progress: 31%  6248 Out of 19944Progress: 31%  6249 Out of 19944Progress: 31%  6250 Out of 19944Progress: 31%  6251 Out of 19944Progress: 31%  6252 Out of 19944Progress: 31%  6253 Out of 19944Progress: 31%  6254 Out of 19944Progress: 31%  6255 Out of 19944Progress: 31%  6256 Out of 19944Progress: 31%  6257 Out of 19944Progress: 31%  6258 Out of 19944Progress: 31%  6259 Out of 19944Progress: 31%  6260 Out of 19944Progress: 31%  6261 Out of 19944Progress: 31%  6262 Out of 19944Progress: 31%  6263 Out of 19944Progress: 31%  6264 Out of 19944Progress: 31%  6265 Out of 19944Progress: 31%  6266 Out of 19944Progress: 31%  6267 Out of 19944Progress: 31%  6268 Out of 19944Progress: 31%  6269 Out of 19944Progress: 31%  6270 Out of 19944Progress: 31%  6271 Out of 19944Progress: 31%  6272 Out of 19944Progress: 31%  6273 Out of 19944Progress: 31%  6274 Out of 19944Progress: 31%  6275 Out of 19944Progress: 31%  6276 Out of 19944Progress: 31%  6277 Out of 19944Progress: 31%  6278 Out of 19944Progress: 31%  6279 Out of 19944Progress: 31%  6280 Out of 19944Progress: 31%  6281 Out of 19944Progress: 31%  6282 Out of 19944Progress: 31%  6283 Out of 19944Progress: 31%  6284 Out of 19944Progress: 31%  6285 Out of 19944Progress: 31%  6286 Out of 19944Progress: 31%  6287 Out of 19944Progress: 31%  6288 Out of 19944Progress: 31%  6289 Out of 19944Progress: 31%  6290 Out of 19944Progress: 31%  6291 Out of 19944Progress: 31%  6292 Out of 19944Progress: 31%  6293 Out of 19944Progress: 31%  6294 Out of 19944Progress: 31%  6295 Out of 19944Progress: 31%  6296 Out of 19944Progress: 31%  6297 Out of 19944Progress: 31%  6298 Out of 19944Progress: 31%  6299 Out of 19944Progress: 31%  6300 Out of 19944Progress: 31%  6301 Out of 19944Progress: 31%  6302 Out of 19944Progress: 31%  6303 Out of 19944Progress: 31%  6304 Out of 19944Progress: 31%  6305 Out of 19944Progress: 31%  6306 Out of 19944Progress: 31%  6307 Out of 19944Progress: 31%  6308 Out of 19944Progress: 31%  6309 Out of 19944Progress: 31%  6310 Out of 19944Progress: 31%  6311 Out of 19944Progress: 31%  6312 Out of 19944Progress: 31%  6313 Out of 19944Progress: 31%  6314 Out of 19944Progress: 31%  6315 Out of 19944Progress: 31%  6316 Out of 19944Progress: 31%  6317 Out of 19944Progress: 31%  6318 Out of 19944Progress: 31%  6319 Out of 19944Progress: 31%  6320 Out of 19944Progress: 31%  6321 Out of 19944Progress: 31%  6322 Out of 19944Progress: 31%  6323 Out of 19944Progress: 31%  6324 Out of 19944Progress: 31%  6325 Out of 19944Progress: 31%  6326 Out of 19944Progress: 31%  6327 Out of 19944Progress: 31%  6328 Out of 19944Progress: 31%  6329 Out of 19944Progress: 31%  6330 Out of 19944Progress: 31%  6331 Out of 19944Progress: 31%  6332 Out of 19944Progress: 31%  6333 Out of 19944Progress: 31%  6334 Out of 19944Progress: 31%  6335 Out of 19944Progress: 31%  6336 Out of 19944Progress: 31%  6337 Out of 19944Progress: 31%  6338 Out of 19944Progress: 31%  6339 Out of 19944Progress: 31%  6340 Out of 19944Progress: 31%  6341 Out of 19944Progress: 31%  6342 Out of 19944Progress: 31%  6343 Out of 19944Progress: 31%  6344 Out of 19944Progress: 31%  6345 Out of 19944Progress: 31%  6346 Out of 19944Progress: 31%  6347 Out of 19944Progress: 31%  6348 Out of 19944Progress: 31%  6349 Out of 19944Progress: 31%  6350 Out of 19944Progress: 31%  6351 Out of 19944Progress: 31%  6352 Out of 19944Progress: 31%  6353 Out of 19944Progress: 31%  6354 Out of 19944Progress: 31%  6355 Out of 19944Progress: 31%  6356 Out of 19944Progress: 31%  6357 Out of 19944Progress: 31%  6358 Out of 19944Progress: 31%  6359 Out of 19944Progress: 31%  6360 Out of 19944Progress: 31%  6361 Out of 19944Progress: 31%  6362 Out of 19944Progress: 31%  6363 Out of 19944Progress: 31%  6364 Out of 19944Progress: 31%  6365 Out of 19944Progress: 31%  6366 Out of 19944Progress: 31%  6367 Out of 19944Progress: 31%  6368 Out of 19944Progress: 31%  6369 Out of 19944Progress: 31%  6370 Out of 19944Progress: 31%  6371 Out of 19944Progress: 31%  6372 Out of 19944Progress: 31%  6373 Out of 19944Progress: 31%  6374 Out of 19944Progress: 31%  6375 Out of 19944Progress: 31%  6376 Out of 19944Progress: 31%  6377 Out of 19944Progress: 31%  6378 Out of 19944Progress: 31%  6379 Out of 19944Progress: 31%  6380 Out of 19944Progress: 31%  6381 Out of 19944Progress: 31%  6382 Out of 19944Progress: 32%  6383 Out of 19944Progress: 32%  6384 Out of 19944Progress: 32%  6385 Out of 19944Progress: 32%  6386 Out of 19944Progress: 32%  6387 Out of 19944Progress: 32%  6388 Out of 19944Progress: 32%  6389 Out of 19944Progress: 32%  6390 Out of 19944Progress: 32%  6391 Out of 19944Progress: 32%  6392 Out of 19944Progress: 32%  6393 Out of 19944Progress: 32%  6394 Out of 19944Progress: 32%  6395 Out of 19944Progress: 32%  6396 Out of 19944Progress: 32%  6397 Out of 19944Progress: 32%  6398 Out of 19944Progress: 32%  6399 Out of 19944Progress: 32%  6400 Out of 19944Progress: 32%  6401 Out of 19944Progress: 32%  6402 Out of 19944Progress: 32%  6403 Out of 19944Progress: 32%  6404 Out of 19944Progress: 32%  6405 Out of 19944Progress: 32%  6406 Out of 19944Progress: 32%  6407 Out of 19944Progress: 32%  6408 Out of 19944Progress: 32%  6409 Out of 19944Progress: 32%  6410 Out of 19944Progress: 32%  6411 Out of 19944Progress: 32%  6412 Out of 19944Progress: 32%  6413 Out of 19944Progress: 32%  6414 Out of 19944Progress: 32%  6415 Out of 19944Progress: 32%  6416 Out of 19944Progress: 32%  6417 Out of 19944Progress: 32%  6418 Out of 19944Progress: 32%  6419 Out of 19944Progress: 32%  6420 Out of 19944Progress: 32%  6421 Out of 19944Progress: 32%  6422 Out of 19944Progress: 32%  6423 Out of 19944Progress: 32%  6424 Out of 19944Progress: 32%  6425 Out of 19944Progress: 32%  6426 Out of 19944Progress: 32%  6427 Out of 19944Progress: 32%  6428 Out of 19944Progress: 32%  6429 Out of 19944Progress: 32%  6430 Out of 19944Progress: 32%  6431 Out of 19944Progress: 32%  6432 Out of 19944Progress: 32%  6433 Out of 19944Progress: 32%  6434 Out of 19944Progress: 32%  6435 Out of 19944Progress: 32%  6436 Out of 19944Progress: 32%  6437 Out of 19944Progress: 32%  6438 Out of 19944Progress: 32%  6439 Out of 19944Progress: 32%  6440 Out of 19944Progress: 32%  6441 Out of 19944Progress: 32%  6442 Out of 19944Progress: 32%  6443 Out of 19944Progress: 32%  6444 Out of 19944Progress: 32%  6445 Out of 19944Progress: 32%  6446 Out of 19944Progress: 32%  6447 Out of 19944Progress: 32%  6448 Out of 19944Progress: 32%  6449 Out of 19944Progress: 32%  6450 Out of 19944Progress: 32%  6451 Out of 19944Progress: 32%  6452 Out of 19944Progress: 32%  6453 Out of 19944Progress: 32%  6454 Out of 19944Progress: 32%  6455 Out of 19944Progress: 32%  6456 Out of 19944Progress: 32%  6457 Out of 19944Progress: 32%  6458 Out of 19944Progress: 32%  6459 Out of 19944Progress: 32%  6460 Out of 19944Progress: 32%  6461 Out of 19944Progress: 32%  6462 Out of 19944Progress: 32%  6463 Out of 19944Progress: 32%  6464 Out of 19944Progress: 32%  6465 Out of 19944Progress: 32%  6466 Out of 19944Progress: 32%  6467 Out of 19944Progress: 32%  6468 Out of 19944Progress: 32%  6469 Out of 19944Progress: 32%  6470 Out of 19944Progress: 32%  6471 Out of 19944Progress: 32%  6472 Out of 19944Progress: 32%  6473 Out of 19944Progress: 32%  6474 Out of 19944Progress: 32%  6475 Out of 19944Progress: 32%  6476 Out of 19944Progress: 32%  6477 Out of 19944Progress: 32%  6478 Out of 19944Progress: 32%  6479 Out of 19944Progress: 32%  6480 Out of 19944Progress: 32%  6481 Out of 19944Progress: 32%  6482 Out of 19944Progress: 32%  6483 Out of 19944Progress: 32%  6484 Out of 19944Progress: 32%  6485 Out of 19944Progress: 32%  6486 Out of 19944Progress: 32%  6487 Out of 19944Progress: 32%  6488 Out of 19944Progress: 32%  6489 Out of 19944Progress: 32%  6490 Out of 19944Progress: 32%  6491 Out of 19944Progress: 32%  6492 Out of 19944Progress: 32%  6493 Out of 19944Progress: 32%  6494 Out of 19944Progress: 32%  6495 Out of 19944Progress: 32%  6496 Out of 19944Progress: 32%  6497 Out of 19944Progress: 32%  6498 Out of 19944Progress: 32%  6499 Out of 19944Progress: 32%  6500 Out of 19944Progress: 32%  6501 Out of 19944Progress: 32%  6502 Out of 19944Progress: 32%  6503 Out of 19944Progress: 32%  6504 Out of 19944Progress: 32%  6505 Out of 19944Progress: 32%  6506 Out of 19944Progress: 32%  6507 Out of 19944Progress: 32%  6508 Out of 19944Progress: 32%  6509 Out of 19944Progress: 32%  6510 Out of 19944Progress: 32%  6511 Out of 19944Progress: 32%  6512 Out of 19944Progress: 32%  6513 Out of 19944Progress: 32%  6514 Out of 19944Progress: 32%  6515 Out of 19944Progress: 32%  6516 Out of 19944Progress: 32%  6517 Out of 19944Progress: 32%  6518 Out of 19944Progress: 32%  6519 Out of 19944Progress: 32%  6520 Out of 19944Progress: 32%  6521 Out of 19944Progress: 32%  6522 Out of 19944Progress: 32%  6523 Out of 19944Progress: 32%  6524 Out of 19944Progress: 32%  6525 Out of 19944Progress: 32%  6526 Out of 19944Progress: 32%  6527 Out of 19944Progress: 32%  6528 Out of 19944Progress: 32%  6529 Out of 19944Progress: 32%  6530 Out of 19944Progress: 32%  6531 Out of 19944Progress: 32%  6532 Out of 19944Progress: 32%  6533 Out of 19944Progress: 32%  6534 Out of 19944Progress: 32%  6535 Out of 19944Progress: 32%  6536 Out of 19944Progress: 32%  6537 Out of 19944Progress: 32%  6538 Out of 19944Progress: 32%  6539 Out of 19944Progress: 32%  6540 Out of 19944Progress: 32%  6541 Out of 19944Progress: 32%  6542 Out of 19944Progress: 32%  6543 Out of 19944Progress: 32%  6544 Out of 19944Progress: 32%  6545 Out of 19944Progress: 32%  6546 Out of 19944Progress: 32%  6547 Out of 19944Progress: 32%  6548 Out of 19944Progress: 32%  6549 Out of 19944Progress: 32%  6550 Out of 19944Progress: 32%  6551 Out of 19944Progress: 32%  6552 Out of 19944Progress: 32%  6553 Out of 19944Progress: 32%  6554 Out of 19944Progress: 32%  6555 Out of 19944Progress: 32%  6556 Out of 19944Progress: 32%  6557 Out of 19944Progress: 32%  6558 Out of 19944Progress: 32%  6559 Out of 19944Progress: 32%  6560 Out of 19944Progress: 32%  6561 Out of 19944Progress: 32%  6562 Out of 19944Progress: 32%  6563 Out of 19944Progress: 32%  6564 Out of 19944Progress: 32%  6565 Out of 19944Progress: 32%  6566 Out of 19944Progress: 32%  6567 Out of 19944Progress: 32%  6568 Out of 19944Progress: 32%  6569 Out of 19944Progress: 32%  6570 Out of 19944Progress: 32%  6571 Out of 19944Progress: 32%  6572 Out of 19944Progress: 32%  6573 Out of 19944Progress: 32%  6574 Out of 19944Progress: 32%  6575 Out of 19944Progress: 32%  6576 Out of 19944Progress: 32%  6577 Out of 19944Progress: 32%  6578 Out of 19944Progress: 32%  6579 Out of 19944Progress: 32%  6580 Out of 19944Progress: 32%  6581 Out of 19944Progress: 33%  6582 Out of 19944Progress: 33%  6583 Out of 19944Progress: 33%  6584 Out of 19944Progress: 33%  6585 Out of 19944Progress: 33%  6586 Out of 19944Progress: 33%  6587 Out of 19944Progress: 33%  6588 Out of 19944Progress: 33%  6589 Out of 19944Progress: 33%  6590 Out of 19944Progress: 33%  6591 Out of 19944Progress: 33%  6592 Out of 19944Progress: 33%  6593 Out of 19944Progress: 33%  6594 Out of 19944Progress: 33%  6595 Out of 19944Progress: 33%  6596 Out of 19944Progress: 33%  6597 Out of 19944Progress: 33%  6598 Out of 19944Progress: 33%  6599 Out of 19944Progress: 33%  6600 Out of 19944Progress: 33%  6601 Out of 19944Progress: 33%  6602 Out of 19944Progress: 33%  6603 Out of 19944Progress: 33%  6604 Out of 19944Progress: 33%  6605 Out of 19944Progress: 33%  6606 Out of 19944Progress: 33%  6607 Out of 19944Progress: 33%  6608 Out of 19944Progress: 33%  6609 Out of 19944Progress: 33%  6610 Out of 19944Progress: 33%  6611 Out of 19944Progress: 33%  6612 Out of 19944Progress: 33%  6613 Out of 19944Progress: 33%  6614 Out of 19944Progress: 33%  6615 Out of 19944Progress: 33%  6616 Out of 19944Progress: 33%  6617 Out of 19944Progress: 33%  6618 Out of 19944Progress: 33%  6619 Out of 19944Progress: 33%  6620 Out of 19944Progress: 33%  6621 Out of 19944Progress: 33%  6622 Out of 19944Progress: 33%  6623 Out of 19944Progress: 33%  6624 Out of 19944Progress: 33%  6625 Out of 19944Progress: 33%  6626 Out of 19944Progress: 33%  6627 Out of 19944Progress: 33%  6628 Out of 19944Progress: 33%  6629 Out of 19944Progress: 33%  6630 Out of 19944Progress: 33%  6631 Out of 19944Progress: 33%  6632 Out of 19944Progress: 33%  6633 Out of 19944Progress: 33%  6634 Out of 19944Progress: 33%  6635 Out of 19944Progress: 33%  6636 Out of 19944Progress: 33%  6637 Out of 19944Progress: 33%  6638 Out of 19944Progress: 33%  6639 Out of 19944Progress: 33%  6640 Out of 19944Progress: 33%  6641 Out of 19944Progress: 33%  6642 Out of 19944Progress: 33%  6643 Out of 19944Progress: 33%  6644 Out of 19944Progress: 33%  6645 Out of 19944Progress: 33%  6646 Out of 19944Progress: 33%  6647 Out of 19944Progress: 33%  6648 Out of 19944Progress: 33%  6649 Out of 19944Progress: 33%  6650 Out of 19944Progress: 33%  6651 Out of 19944Progress: 33%  6652 Out of 19944Progress: 33%  6653 Out of 19944Progress: 33%  6654 Out of 19944Progress: 33%  6655 Out of 19944Progress: 33%  6656 Out of 19944Progress: 33%  6657 Out of 19944Progress: 33%  6658 Out of 19944Progress: 33%  6659 Out of 19944Progress: 33%  6660 Out of 19944Progress: 33%  6661 Out of 19944Progress: 33%  6662 Out of 19944Progress: 33%  6663 Out of 19944Progress: 33%  6664 Out of 19944Progress: 33%  6665 Out of 19944Progress: 33%  6666 Out of 19944Progress: 33%  6667 Out of 19944Progress: 33%  6668 Out of 19944Progress: 33%  6669 Out of 19944Progress: 33%  6670 Out of 19944Progress: 33%  6671 Out of 19944Progress: 33%  6672 Out of 19944Progress: 33%  6673 Out of 19944Progress: 33%  6674 Out of 19944Progress: 33%  6675 Out of 19944Progress: 33%  6676 Out of 19944Progress: 33%  6677 Out of 19944Progress: 33%  6678 Out of 19944Progress: 33%  6679 Out of 19944Progress: 33%  6680 Out of 19944Progress: 33%  6681 Out of 19944Progress: 33%  6682 Out of 19944Progress: 33%  6683 Out of 19944Progress: 33%  6684 Out of 19944Progress: 33%  6685 Out of 19944Progress: 33%  6686 Out of 19944Progress: 33%  6687 Out of 19944Progress: 33%  6688 Out of 19944Progress: 33%  6689 Out of 19944Progress: 33%  6690 Out of 19944Progress: 33%  6691 Out of 19944Progress: 33%  6692 Out of 19944Progress: 33%  6693 Out of 19944Progress: 33%  6694 Out of 19944Progress: 33%  6695 Out of 19944Progress: 33%  6696 Out of 19944Progress: 33%  6697 Out of 19944Progress: 33%  6698 Out of 19944Progress: 33%  6699 Out of 19944Progress: 33%  6700 Out of 19944Progress: 33%  6701 Out of 19944Progress: 33%  6702 Out of 19944Progress: 33%  6703 Out of 19944Progress: 33%  6704 Out of 19944Progress: 33%  6705 Out of 19944Progress: 33%  6706 Out of 19944Progress: 33%  6707 Out of 19944Progress: 33%  6708 Out of 19944Progress: 33%  6709 Out of 19944Progress: 33%  6710 Out of 19944Progress: 33%  6711 Out of 19944Progress: 33%  6712 Out of 19944Progress: 33%  6713 Out of 19944Progress: 33%  6714 Out of 19944Progress: 33%  6715 Out of 19944Progress: 33%  6716 Out of 19944Progress: 33%  6717 Out of 19944Progress: 33%  6718 Out of 19944Progress: 33%  6719 Out of 19944Progress: 33%  6720 Out of 19944Progress: 33%  6721 Out of 19944Progress: 33%  6722 Out of 19944Progress: 33%  6723 Out of 19944Progress: 33%  6724 Out of 19944Progress: 33%  6725 Out of 19944Progress: 33%  6726 Out of 19944Progress: 33%  6727 Out of 19944Progress: 33%  6728 Out of 19944Progress: 33%  6729 Out of 19944Progress: 33%  6730 Out of 19944Progress: 33%  6731 Out of 19944Progress: 33%  6732 Out of 19944Progress: 33%  6733 Out of 19944Progress: 33%  6734 Out of 19944Progress: 33%  6735 Out of 19944Progress: 33%  6736 Out of 19944Progress: 33%  6737 Out of 19944Progress: 33%  6738 Out of 19944Progress: 33%  6739 Out of 19944Progress: 33%  6740 Out of 19944Progress: 33%  6741 Out of 19944Progress: 33%  6742 Out of 19944Progress: 33%  6743 Out of 19944Progress: 33%  6744 Out of 19944Progress: 33%  6745 Out of 19944Progress: 33%  6746 Out of 19944Progress: 33%  6747 Out of 19944Progress: 33%  6748 Out of 19944Progress: 33%  6749 Out of 19944Progress: 33%  6750 Out of 19944Progress: 33%  6751 Out of 19944Progress: 33%  6752 Out of 19944Progress: 33%  6753 Out of 19944Progress: 33%  6754 Out of 19944Progress: 33%  6755 Out of 19944Progress: 33%  6756 Out of 19944Progress: 33%  6757 Out of 19944Progress: 33%  6758 Out of 19944Progress: 33%  6759 Out of 19944Progress: 33%  6760 Out of 19944Progress: 33%  6761 Out of 19944Progress: 33%  6762 Out of 19944Progress: 33%  6763 Out of 19944Progress: 33%  6764 Out of 19944Progress: 33%  6765 Out of 19944Progress: 33%  6766 Out of 19944Progress: 33%  6767 Out of 19944Progress: 33%  6768 Out of 19944Progress: 33%  6769 Out of 19944Progress: 33%  6770 Out of 19944Progress: 33%  6771 Out of 19944Progress: 33%  6772 Out of 19944Progress: 33%  6773 Out of 19944Progress: 33%  6774 Out of 19944Progress: 33%  6775 Out of 19944Progress: 33%  6776 Out of 19944Progress: 33%  6777 Out of 19944Progress: 33%  6778 Out of 19944Progress: 33%  6779 Out of 19944Progress: 33%  6780 Out of 19944Progress: 34%  6781 Out of 19944Progress: 34%  6782 Out of 19944Progress: 34%  6783 Out of 19944Progress: 34%  6784 Out of 19944Progress: 34%  6785 Out of 19944Progress: 34%  6786 Out of 19944Progress: 34%  6787 Out of 19944Progress: 34%  6788 Out of 19944Progress: 34%  6789 Out of 19944Progress: 34%  6790 Out of 19944Progress: 34%  6791 Out of 19944Progress: 34%  6792 Out of 19944Progress: 34%  6793 Out of 19944Progress: 34%  6794 Out of 19944Progress: 34%  6795 Out of 19944Progress: 34%  6796 Out of 19944Progress: 34%  6797 Out of 19944Progress: 34%  6798 Out of 19944Progress: 34%  6799 Out of 19944Progress: 34%  6800 Out of 19944Progress: 34%  6801 Out of 19944Progress: 34%  6802 Out of 19944Progress: 34%  6803 Out of 19944Progress: 34%  6804 Out of 19944Progress: 34%  6805 Out of 19944Progress: 34%  6806 Out of 19944Progress: 34%  6807 Out of 19944Progress: 34%  6808 Out of 19944Progress: 34%  6809 Out of 19944Progress: 34%  6810 Out of 19944Progress: 34%  6811 Out of 19944Progress: 34%  6812 Out of 19944Progress: 34%  6813 Out of 19944Progress: 34%  6814 Out of 19944Progress: 34%  6815 Out of 19944Progress: 34%  6816 Out of 19944Progress: 34%  6817 Out of 19944Progress: 34%  6818 Out of 19944Progress: 34%  6819 Out of 19944Progress: 34%  6820 Out of 19944Progress: 34%  6821 Out of 19944Progress: 34%  6822 Out of 19944Progress: 34%  6823 Out of 19944Progress: 34%  6824 Out of 19944Progress: 34%  6825 Out of 19944Progress: 34%  6826 Out of 19944Progress: 34%  6827 Out of 19944Progress: 34%  6828 Out of 19944Progress: 34%  6829 Out of 19944Progress: 34%  6830 Out of 19944Progress: 34%  6831 Out of 19944Progress: 34%  6832 Out of 19944Progress: 34%  6833 Out of 19944Progress: 34%  6834 Out of 19944Progress: 34%  6835 Out of 19944Progress: 34%  6836 Out of 19944Progress: 34%  6837 Out of 19944Progress: 34%  6838 Out of 19944Progress: 34%  6839 Out of 19944Progress: 34%  6840 Out of 19944Progress: 34%  6841 Out of 19944Progress: 34%  6842 Out of 19944Progress: 34%  6843 Out of 19944Progress: 34%  6844 Out of 19944Progress: 34%  6845 Out of 19944Progress: 34%  6846 Out of 19944Progress: 34%  6847 Out of 19944Progress: 34%  6848 Out of 19944Progress: 34%  6849 Out of 19944Progress: 34%  6850 Out of 19944Progress: 34%  6851 Out of 19944Progress: 34%  6852 Out of 19944Progress: 34%  6853 Out of 19944Progress: 34%  6854 Out of 19944Progress: 34%  6855 Out of 19944Progress: 34%  6856 Out of 19944Progress: 34%  6857 Out of 19944Progress: 34%  6858 Out of 19944Progress: 34%  6859 Out of 19944Progress: 34%  6860 Out of 19944Progress: 34%  6861 Out of 19944Progress: 34%  6862 Out of 19944Progress: 34%  6863 Out of 19944Progress: 34%  6864 Out of 19944Progress: 34%  6865 Out of 19944Progress: 34%  6866 Out of 19944Progress: 34%  6867 Out of 19944Progress: 34%  6868 Out of 19944Progress: 34%  6869 Out of 19944Progress: 34%  6870 Out of 19944Progress: 34%  6871 Out of 19944Progress: 34%  6872 Out of 19944Progress: 34%  6873 Out of 19944Progress: 34%  6874 Out of 19944Progress: 34%  6875 Out of 19944Progress: 34%  6876 Out of 19944Progress: 34%  6877 Out of 19944Progress: 34%  6878 Out of 19944Progress: 34%  6879 Out of 19944Progress: 34%  6880 Out of 19944Progress: 34%  6881 Out of 19944Progress: 34%  6882 Out of 19944Progress: 34%  6883 Out of 19944Progress: 34%  6884 Out of 19944Progress: 34%  6885 Out of 19944Progress: 34%  6886 Out of 19944Progress: 34%  6887 Out of 19944Progress: 34%  6888 Out of 19944Progress: 34%  6889 Out of 19944Progress: 34%  6890 Out of 19944Progress: 34%  6891 Out of 19944Progress: 34%  6892 Out of 19944Progress: 34%  6893 Out of 19944Progress: 34%  6894 Out of 19944Progress: 34%  6895 Out of 19944Progress: 34%  6896 Out of 19944Progress: 34%  6897 Out of 19944Progress: 34%  6898 Out of 19944Progress: 34%  6899 Out of 19944Progress: 34%  6900 Out of 19944Progress: 34%  6901 Out of 19944Progress: 34%  6902 Out of 19944Progress: 34%  6903 Out of 19944Progress: 34%  6904 Out of 19944Progress: 34%  6905 Out of 19944Progress: 34%  6906 Out of 19944Progress: 34%  6907 Out of 19944Progress: 34%  6908 Out of 19944Progress: 34%  6909 Out of 19944Progress: 34%  6910 Out of 19944Progress: 34%  6911 Out of 19944Progress: 34%  6912 Out of 19944Progress: 34%  6913 Out of 19944Progress: 34%  6914 Out of 19944Progress: 34%  6915 Out of 19944Progress: 34%  6916 Out of 19944Progress: 34%  6917 Out of 19944Progress: 34%  6918 Out of 19944Progress: 34%  6919 Out of 19944Progress: 34%  6920 Out of 19944Progress: 34%  6921 Out of 19944Progress: 34%  6922 Out of 19944Progress: 34%  6923 Out of 19944Progress: 34%  6924 Out of 19944Progress: 34%  6925 Out of 19944Progress: 34%  6926 Out of 19944Progress: 34%  6927 Out of 19944Progress: 34%  6928 Out of 19944Progress: 34%  6929 Out of 19944Progress: 34%  6930 Out of 19944Progress: 34%  6931 Out of 19944Progress: 34%  6932 Out of 19944Progress: 34%  6933 Out of 19944Progress: 34%  6934 Out of 19944Progress: 34%  6935 Out of 19944Progress: 34%  6936 Out of 19944Progress: 34%  6937 Out of 19944Progress: 34%  6938 Out of 19944Progress: 34%  6939 Out of 19944Progress: 34%  6940 Out of 19944Progress: 34%  6941 Out of 19944Progress: 34%  6942 Out of 19944Progress: 34%  6943 Out of 19944Progress: 34%  6944 Out of 19944Progress: 34%  6945 Out of 19944Progress: 34%  6946 Out of 19944Progress: 34%  6947 Out of 19944Progress: 34%  6948 Out of 19944Progress: 34%  6949 Out of 19944Progress: 34%  6950 Out of 19944Progress: 34%  6951 Out of 19944Progress: 34%  6952 Out of 19944Progress: 34%  6953 Out of 19944Progress: 34%  6954 Out of 19944Progress: 34%  6955 Out of 19944Progress: 34%  6956 Out of 19944Progress: 34%  6957 Out of 19944Progress: 34%  6958 Out of 19944Progress: 34%  6959 Out of 19944Progress: 34%  6960 Out of 19944Progress: 34%  6961 Out of 19944Progress: 34%  6962 Out of 19944Progress: 34%  6963 Out of 19944Progress: 34%  6964 Out of 19944Progress: 34%  6965 Out of 19944Progress: 34%  6966 Out of 19944Progress: 34%  6967 Out of 19944Progress: 34%  6968 Out of 19944Progress: 34%  6969 Out of 19944Progress: 34%  6970 Out of 19944Progress: 34%  6971 Out of 19944Progress: 34%  6972 Out of 19944Progress: 34%  6973 Out of 19944Progress: 34%  6974 Out of 19944Progress: 34%  6975 Out of 19944Progress: 34%  6976 Out of 19944Progress: 34%  6977 Out of 19944Progress: 34%  6978 Out of 19944Progress: 34%  6979 Out of 19944Progress: 34%  6980 Out of 19944Progress: 35%  6981 Out of 19944Progress: 35%  6982 Out of 19944Progress: 35%  6983 Out of 19944Progress: 35%  6984 Out of 19944Progress: 35%  6985 Out of 19944Progress: 35%  6986 Out of 19944Progress: 35%  6987 Out of 19944Progress: 35%  6988 Out of 19944Progress: 35%  6989 Out of 19944Progress: 35%  6990 Out of 19944Progress: 35%  6991 Out of 19944Progress: 35%  6992 Out of 19944Progress: 35%  6993 Out of 19944Progress: 35%  6994 Out of 19944Progress: 35%  6995 Out of 19944Progress: 35%  6996 Out of 19944Progress: 35%  6997 Out of 19944Progress: 35%  6998 Out of 19944Progress: 35%  6999 Out of 19944Progress: 35%  7000 Out of 19944Progress: 35%  7001 Out of 19944Progress: 35%  7002 Out of 19944Progress: 35%  7003 Out of 19944Progress: 35%  7004 Out of 19944Progress: 35%  7005 Out of 19944Progress: 35%  7006 Out of 19944Progress: 35%  7007 Out of 19944Progress: 35%  7008 Out of 19944Progress: 35%  7009 Out of 19944Progress: 35%  7010 Out of 19944Progress: 35%  7011 Out of 19944Progress: 35%  7012 Out of 19944Progress: 35%  7013 Out of 19944Progress: 35%  7014 Out of 19944Progress: 35%  7015 Out of 19944Progress: 35%  7016 Out of 19944Progress: 35%  7017 Out of 19944Progress: 35%  7018 Out of 19944Progress: 35%  7019 Out of 19944Progress: 35%  7020 Out of 19944Progress: 35%  7021 Out of 19944Progress: 35%  7022 Out of 19944Progress: 35%  7023 Out of 19944Progress: 35%  7024 Out of 19944Progress: 35%  7025 Out of 19944Progress: 35%  7026 Out of 19944Progress: 35%  7027 Out of 19944Progress: 35%  7028 Out of 19944Progress: 35%  7029 Out of 19944Progress: 35%  7030 Out of 19944Progress: 35%  7031 Out of 19944Progress: 35%  7032 Out of 19944Progress: 35%  7033 Out of 19944Progress: 35%  7034 Out of 19944Progress: 35%  7035 Out of 19944Progress: 35%  7036 Out of 19944Progress: 35%  7037 Out of 19944Progress: 35%  7038 Out of 19944Progress: 35%  7039 Out of 19944Progress: 35%  7040 Out of 19944Progress: 35%  7041 Out of 19944Progress: 35%  7042 Out of 19944Progress: 35%  7043 Out of 19944Progress: 35%  7044 Out of 19944Progress: 35%  7045 Out of 19944Progress: 35%  7046 Out of 19944Progress: 35%  7047 Out of 19944Progress: 35%  7048 Out of 19944Progress: 35%  7049 Out of 19944Progress: 35%  7050 Out of 19944Progress: 35%  7051 Out of 19944Progress: 35%  7052 Out of 19944Progress: 35%  7053 Out of 19944Progress: 35%  7054 Out of 19944Progress: 35%  7055 Out of 19944Progress: 35%  7056 Out of 19944Progress: 35%  7057 Out of 19944Progress: 35%  7058 Out of 19944Progress: 35%  7059 Out of 19944Progress: 35%  7060 Out of 19944Progress: 35%  7061 Out of 19944Progress: 35%  7062 Out of 19944Progress: 35%  7063 Out of 19944Progress: 35%  7064 Out of 19944Progress: 35%  7065 Out of 19944Progress: 35%  7066 Out of 19944Progress: 35%  7067 Out of 19944Progress: 35%  7068 Out of 19944Progress: 35%  7069 Out of 19944Progress: 35%  7070 Out of 19944Progress: 35%  7071 Out of 19944Progress: 35%  7072 Out of 19944Progress: 35%  7073 Out of 19944Progress: 35%  7074 Out of 19944Progress: 35%  7075 Out of 19944Progress: 35%  7076 Out of 19944Progress: 35%  7077 Out of 19944Progress: 35%  7078 Out of 19944Progress: 35%  7079 Out of 19944Progress: 35%  7080 Out of 19944Progress: 35%  7081 Out of 19944Progress: 35%  7082 Out of 19944Progress: 35%  7083 Out of 19944Progress: 35%  7084 Out of 19944Progress: 35%  7085 Out of 19944Progress: 35%  7086 Out of 19944Progress: 35%  7087 Out of 19944Progress: 35%  7088 Out of 19944Progress: 35%  7089 Out of 19944Progress: 35%  7090 Out of 19944Progress: 35%  7091 Out of 19944Progress: 35%  7092 Out of 19944Progress: 35%  7093 Out of 19944Progress: 35%  7094 Out of 19944Progress: 35%  7095 Out of 19944Progress: 35%  7096 Out of 19944Progress: 35%  7097 Out of 19944Progress: 35%  7098 Out of 19944Progress: 35%  7099 Out of 19944Progress: 35%  7100 Out of 19944Progress: 35%  7101 Out of 19944Progress: 35%  7102 Out of 19944Progress: 35%  7103 Out of 19944Progress: 35%  7104 Out of 19944Progress: 35%  7105 Out of 19944Progress: 35%  7106 Out of 19944Progress: 35%  7107 Out of 19944Progress: 35%  7108 Out of 19944Progress: 35%  7109 Out of 19944Progress: 35%  7110 Out of 19944Progress: 35%  7111 Out of 19944Progress: 35%  7112 Out of 19944Progress: 35%  7113 Out of 19944Progress: 35%  7114 Out of 19944Progress: 35%  7115 Out of 19944Progress: 35%  7116 Out of 19944Progress: 35%  7117 Out of 19944Progress: 35%  7118 Out of 19944Progress: 35%  7119 Out of 19944Progress: 35%  7120 Out of 19944Progress: 35%  7121 Out of 19944Progress: 35%  7122 Out of 19944Progress: 35%  7123 Out of 19944Progress: 35%  7124 Out of 19944Progress: 35%  7125 Out of 19944Progress: 35%  7126 Out of 19944Progress: 35%  7127 Out of 19944Progress: 35%  7128 Out of 19944Progress: 35%  7129 Out of 19944Progress: 35%  7130 Out of 19944Progress: 35%  7131 Out of 19944Progress: 35%  7132 Out of 19944Progress: 35%  7133 Out of 19944Progress: 35%  7134 Out of 19944Progress: 35%  7135 Out of 19944Progress: 35%  7136 Out of 19944Progress: 35%  7137 Out of 19944Progress: 35%  7138 Out of 19944Progress: 35%  7139 Out of 19944Progress: 35%  7140 Out of 19944Progress: 35%  7141 Out of 19944Progress: 35%  7142 Out of 19944Progress: 35%  7143 Out of 19944"
    },
    {
     "output_type": "error",
     "ename": "KeyboardInterrupt",
     "evalue": "",
     "traceback": [
      "\u001b[0;31m---------------------------------------------------------------------------\u001b[0m",
      "\u001b[0;31mKeyboardInterrupt\u001b[0m                         Traceback (most recent call last)",
      "\u001b[0;32m<ipython-input-44-11a0db34fb3a>\u001b[0m in \u001b[0;36m<module>\u001b[0;34m\u001b[0m\n\u001b[0;32m----> 1\u001b[0;31m \u001b[0muf\u001b[0m\u001b[0;34m.\u001b[0m\u001b[0mzscore\u001b[0m\u001b[0;34m(\u001b[0m\u001b[0mnormalized_matrix\u001b[0m\u001b[0;34m,\u001b[0m \u001b[0;34m'row'\u001b[0m\u001b[0;34m)\u001b[0m\u001b[0;34m\u001b[0m\u001b[0;34m\u001b[0m\u001b[0m\n\u001b[0m",
      "\u001b[0;32m~/Projects/Harmonizome-Data-Processing-Appyters/data/00000000-0000-0000-0000-000000000000/utility_functions.py\u001b[0m in \u001b[0;36mzscore\u001b[0;34m(inputDF, axis)\u001b[0m\n\u001b[1;32m     44\u001b[0m \u001b[0;34m\u001b[0m\u001b[0m\n\u001b[1;32m     45\u001b[0m             \u001b[0msys\u001b[0m\u001b[0;34m.\u001b[0m\u001b[0mstdout\u001b[0m\u001b[0;34m.\u001b[0m\u001b[0mwrite\u001b[0m\u001b[0;34m(\u001b[0m\u001b[0;34m\"Progress: %d%%  %d Out of %d   \\r\"\u001b[0m \u001b[0;34m%\u001b[0m \u001b[0;34m(\u001b[0m\u001b[0mprogressPercent\u001b[0m\u001b[0;34m,\u001b[0m \u001b[0;34m(\u001b[0m\u001b[0mi\u001b[0m\u001b[0;34m+\u001b[0m\u001b[0;36m1\u001b[0m\u001b[0;34m)\u001b[0m\u001b[0;34m,\u001b[0m \u001b[0mlen\u001b[0m\u001b[0;34m(\u001b[0m\u001b[0minputDF\u001b[0m\u001b[0;34m.\u001b[0m\u001b[0mindex\u001b[0m\u001b[0;34m)\u001b[0m\u001b[0;34m)\u001b[0m\u001b[0;34m)\u001b[0m\u001b[0;34m\u001b[0m\u001b[0;34m\u001b[0m\u001b[0m\n\u001b[0;32m---> 46\u001b[0;31m             \u001b[0msys\u001b[0m\u001b[0;34m.\u001b[0m\u001b[0mstdout\u001b[0m\u001b[0;34m.\u001b[0m\u001b[0mflush\u001b[0m\u001b[0;34m(\u001b[0m\u001b[0;34m)\u001b[0m\u001b[0;34m\u001b[0m\u001b[0;34m\u001b[0m\u001b[0m\n\u001b[0m\u001b[1;32m     47\u001b[0m \u001b[0;34m\u001b[0m\u001b[0m\n\u001b[1;32m     48\u001b[0m             \u001b[0mmedian_y\u001b[0m \u001b[0;34m=\u001b[0m \u001b[0mnp\u001b[0m\u001b[0;34m.\u001b[0m\u001b[0mmedian\u001b[0m\u001b[0;34m(\u001b[0m\u001b[0minputDF\u001b[0m\u001b[0;34m.\u001b[0m\u001b[0miloc\u001b[0m\u001b[0;34m[\u001b[0m\u001b[0mindex\u001b[0m\u001b[0;34m]\u001b[0m\u001b[0;34m)\u001b[0m\u001b[0;34m\u001b[0m\u001b[0;34m\u001b[0m\u001b[0m\n",
      "\u001b[0;32m~/Projects/Environments/harmonizome/lib/python3.8/site-packages/ipykernel/iostream.py\u001b[0m in \u001b[0;36mflush\u001b[0;34m(self)\u001b[0m\n\u001b[1;32m    350\u001b[0m                 \u001b[0mself\u001b[0m\u001b[0;34m.\u001b[0m\u001b[0mpub_thread\u001b[0m\u001b[0;34m.\u001b[0m\u001b[0mschedule\u001b[0m\u001b[0;34m(\u001b[0m\u001b[0mevt\u001b[0m\u001b[0;34m.\u001b[0m\u001b[0mset\u001b[0m\u001b[0;34m)\u001b[0m\u001b[0;34m\u001b[0m\u001b[0;34m\u001b[0m\u001b[0m\n\u001b[1;32m    351\u001b[0m                 \u001b[0;31m# and give a timeout to avoid\u001b[0m\u001b[0;34m\u001b[0m\u001b[0;34m\u001b[0m\u001b[0;34m\u001b[0m\u001b[0m\n\u001b[0;32m--> 352\u001b[0;31m                 \u001b[0;32mif\u001b[0m \u001b[0;32mnot\u001b[0m \u001b[0mevt\u001b[0m\u001b[0;34m.\u001b[0m\u001b[0mwait\u001b[0m\u001b[0;34m(\u001b[0m\u001b[0mself\u001b[0m\u001b[0;34m.\u001b[0m\u001b[0mflush_timeout\u001b[0m\u001b[0;34m)\u001b[0m\u001b[0;34m:\u001b[0m\u001b[0;34m\u001b[0m\u001b[0;34m\u001b[0m\u001b[0m\n\u001b[0m\u001b[1;32m    353\u001b[0m                     \u001b[0;31m# write directly to __stderr__ instead of warning because\u001b[0m\u001b[0;34m\u001b[0m\u001b[0;34m\u001b[0m\u001b[0;34m\u001b[0m\u001b[0m\n\u001b[1;32m    354\u001b[0m                     \u001b[0;31m# if this is happening sys.stderr may be the problem.\u001b[0m\u001b[0;34m\u001b[0m\u001b[0;34m\u001b[0m\u001b[0;34m\u001b[0m\u001b[0m\n",
      "\u001b[0;32m/usr/lib/python3.8/threading.py\u001b[0m in \u001b[0;36mwait\u001b[0;34m(self, timeout)\u001b[0m\n\u001b[1;32m    556\u001b[0m             \u001b[0msignaled\u001b[0m \u001b[0;34m=\u001b[0m \u001b[0mself\u001b[0m\u001b[0;34m.\u001b[0m\u001b[0m_flag\u001b[0m\u001b[0;34m\u001b[0m\u001b[0;34m\u001b[0m\u001b[0m\n\u001b[1;32m    557\u001b[0m             \u001b[0;32mif\u001b[0m \u001b[0;32mnot\u001b[0m \u001b[0msignaled\u001b[0m\u001b[0;34m:\u001b[0m\u001b[0;34m\u001b[0m\u001b[0;34m\u001b[0m\u001b[0m\n\u001b[0;32m--> 558\u001b[0;31m                 \u001b[0msignaled\u001b[0m \u001b[0;34m=\u001b[0m \u001b[0mself\u001b[0m\u001b[0;34m.\u001b[0m\u001b[0m_cond\u001b[0m\u001b[0;34m.\u001b[0m\u001b[0mwait\u001b[0m\u001b[0;34m(\u001b[0m\u001b[0mtimeout\u001b[0m\u001b[0;34m)\u001b[0m\u001b[0;34m\u001b[0m\u001b[0;34m\u001b[0m\u001b[0m\n\u001b[0m\u001b[1;32m    559\u001b[0m             \u001b[0;32mreturn\u001b[0m \u001b[0msignaled\u001b[0m\u001b[0;34m\u001b[0m\u001b[0;34m\u001b[0m\u001b[0m\n\u001b[1;32m    560\u001b[0m \u001b[0;34m\u001b[0m\u001b[0m\n",
      "\u001b[0;32m/usr/lib/python3.8/threading.py\u001b[0m in \u001b[0;36mwait\u001b[0;34m(self, timeout)\u001b[0m\n\u001b[1;32m    304\u001b[0m             \u001b[0;32melse\u001b[0m\u001b[0;34m:\u001b[0m\u001b[0;34m\u001b[0m\u001b[0;34m\u001b[0m\u001b[0m\n\u001b[1;32m    305\u001b[0m                 \u001b[0;32mif\u001b[0m \u001b[0mtimeout\u001b[0m \u001b[0;34m>\u001b[0m \u001b[0;36m0\u001b[0m\u001b[0;34m:\u001b[0m\u001b[0;34m\u001b[0m\u001b[0;34m\u001b[0m\u001b[0m\n\u001b[0;32m--> 306\u001b[0;31m                     \u001b[0mgotit\u001b[0m \u001b[0;34m=\u001b[0m \u001b[0mwaiter\u001b[0m\u001b[0;34m.\u001b[0m\u001b[0macquire\u001b[0m\u001b[0;34m(\u001b[0m\u001b[0;32mTrue\u001b[0m\u001b[0;34m,\u001b[0m \u001b[0mtimeout\u001b[0m\u001b[0;34m)\u001b[0m\u001b[0;34m\u001b[0m\u001b[0;34m\u001b[0m\u001b[0m\n\u001b[0m\u001b[1;32m    307\u001b[0m                 \u001b[0;32melse\u001b[0m\u001b[0;34m:\u001b[0m\u001b[0;34m\u001b[0m\u001b[0;34m\u001b[0m\u001b[0m\n\u001b[1;32m    308\u001b[0m                     \u001b[0mgotit\u001b[0m \u001b[0;34m=\u001b[0m \u001b[0mwaiter\u001b[0m\u001b[0;34m.\u001b[0m\u001b[0macquire\u001b[0m\u001b[0;34m(\u001b[0m\u001b[0;32mFalse\u001b[0m\u001b[0;34m)\u001b[0m\u001b[0;34m\u001b[0m\u001b[0;34m\u001b[0m\u001b[0m\n",
      "\u001b[0;31mKeyboardInterrupt\u001b[0m: "
     ]
    }
   ],
   "source": [
    "uf.zscore(normalized_matrix, 'row')"
   ]
  },
  {
   "cell_type": "code",
   "execution_count": 43,
   "metadata": {},
   "outputs": [
    {
     "data": {
      "text/html": [
       "<div>\n",
       "<style scoped>\n",
       "    .dataframe tbody tr th:only-of-type {\n",
       "        vertical-align: middle;\n",
       "    }\n",
       "\n",
       "    .dataframe tbody tr th {\n",
       "        vertical-align: top;\n",
       "    }\n",
       "\n",
       "    .dataframe thead th {\n",
       "        text-align: right;\n",
       "    }\n",
       "</style>\n",
       "<table border=\"1\" class=\"dataframe\">\n",
       "  <thead>\n",
       "    <tr style=\"text-align: right;\">\n",
       "      <th></th>\n",
       "      <th>superior parietal lobule, right, superior bank of gyrus</th>\n",
       "      <th>superior parietal lobule, right, superior bank of gyrus</th>\n",
       "      <th>superior parietal lobule, left, inferior bank of gyrus</th>\n",
       "      <th>angular gyrus, left, superior bank of gyrus</th>\n",
       "      <th>superior frontal gyrus, right, lateral bank of gyrus</th>\n",
       "      <th>lateral orbital gyrus, right</th>\n",
       "      <th>gyrus rectus, left</th>\n",
       "      <th>medial orbital gyrus, left</th>\n",
       "      <th>medial orbital gyrus, left</th>\n",
       "      <th>gyrus rectus, left</th>\n",
       "      <th>...</th>\n",
       "      <th>fusiform gyrus, left, bank of the its</th>\n",
       "      <th>parahippocampal gyrus, left, lateral bank of gyrus</th>\n",
       "      <th>globus pallidus, internal segment, left</th>\n",
       "      <th>globus pallidus, external segment, right</th>\n",
       "      <th>parahippocampal gyrus, right, bank of the cos</th>\n",
       "      <th>VIIIA, right, lateral hemisphere</th>\n",
       "      <th>IV, right, paravermis</th>\n",
       "      <th>IV, right, paravermis</th>\n",
       "      <th>VIIB, left, paravermis</th>\n",
       "      <th>Crus II, left, lateral hemisphere</th>\n",
       "    </tr>\n",
       "  </thead>\n",
       "  <tbody>\n",
       "    <tr>\n",
       "      <th>A1BG</th>\n",
       "      <td>-1.163256</td>\n",
       "      <td>-1.253627</td>\n",
       "      <td>-1.656356</td>\n",
       "      <td>-0.966491</td>\n",
       "      <td>-0.680707</td>\n",
       "      <td>-0.051034</td>\n",
       "      <td>-0.538248</td>\n",
       "      <td>-1.547692</td>\n",
       "      <td>-2.719805</td>\n",
       "      <td>-0.168671</td>\n",
       "      <td>...</td>\n",
       "      <td>0.506373</td>\n",
       "      <td>0.251533</td>\n",
       "      <td>2.127855</td>\n",
       "      <td>0.984474</td>\n",
       "      <td>0.547855</td>\n",
       "      <td>0.560928</td>\n",
       "      <td>0.095495</td>\n",
       "      <td>0.307248</td>\n",
       "      <td>0.472193</td>\n",
       "      <td>0.661945</td>\n",
       "    </tr>\n",
       "    <tr>\n",
       "      <th>A1BG-AS1</th>\n",
       "      <td>0.587762</td>\n",
       "      <td>0.048175</td>\n",
       "      <td>-0.401744</td>\n",
       "      <td>-0.050955</td>\n",
       "      <td>-0.222905</td>\n",
       "      <td>-3.190712</td>\n",
       "      <td>0.522968</td>\n",
       "      <td>-1.675137</td>\n",
       "      <td>-2.977300</td>\n",
       "      <td>-0.772477</td>\n",
       "      <td>...</td>\n",
       "      <td>-0.612405</td>\n",
       "      <td>-3.319962</td>\n",
       "      <td>-4.047112</td>\n",
       "      <td>-5.259302</td>\n",
       "      <td>-0.526635</td>\n",
       "      <td>-1.053071</td>\n",
       "      <td>-1.980781</td>\n",
       "      <td>-0.097021</td>\n",
       "      <td>-0.084246</td>\n",
       "      <td>0.042657</td>\n",
       "    </tr>\n",
       "    <tr>\n",
       "      <th>A1CF</th>\n",
       "      <td>0.261860</td>\n",
       "      <td>-0.204032</td>\n",
       "      <td>1.140779</td>\n",
       "      <td>-1.655254</td>\n",
       "      <td>0.612333</td>\n",
       "      <td>-0.736423</td>\n",
       "      <td>-1.624371</td>\n",
       "      <td>0.172788</td>\n",
       "      <td>0.963727</td>\n",
       "      <td>-0.851128</td>\n",
       "      <td>...</td>\n",
       "      <td>-0.868580</td>\n",
       "      <td>-1.653227</td>\n",
       "      <td>-0.308497</td>\n",
       "      <td>-1.653227</td>\n",
       "      <td>0.871739</td>\n",
       "      <td>2.404687</td>\n",
       "      <td>2.335431</td>\n",
       "      <td>2.119524</td>\n",
       "      <td>2.347428</td>\n",
       "      <td>2.884338</td>\n",
       "    </tr>\n",
       "    <tr>\n",
       "      <th>A2LD1</th>\n",
       "      <td>-1.735814</td>\n",
       "      <td>-0.073498</td>\n",
       "      <td>0.156757</td>\n",
       "      <td>-0.597671</td>\n",
       "      <td>-0.966155</td>\n",
       "      <td>0.555145</td>\n",
       "      <td>-0.306579</td>\n",
       "      <td>-2.773591</td>\n",
       "      <td>-3.166564</td>\n",
       "      <td>-0.967948</td>\n",
       "      <td>...</td>\n",
       "      <td>1.200578</td>\n",
       "      <td>0.499665</td>\n",
       "      <td>3.068235</td>\n",
       "      <td>1.700650</td>\n",
       "      <td>0.002027</td>\n",
       "      <td>1.317194</td>\n",
       "      <td>1.072065</td>\n",
       "      <td>0.499665</td>\n",
       "      <td>-1.176032</td>\n",
       "      <td>0.719757</td>\n",
       "    </tr>\n",
       "    <tr>\n",
       "      <th>A2M</th>\n",
       "      <td>-2.560651</td>\n",
       "      <td>-1.678269</td>\n",
       "      <td>-1.152619</td>\n",
       "      <td>-3.320610</td>\n",
       "      <td>-0.844908</td>\n",
       "      <td>-0.454799</td>\n",
       "      <td>-1.572389</td>\n",
       "      <td>-0.885698</td>\n",
       "      <td>-0.841533</td>\n",
       "      <td>-0.646339</td>\n",
       "      <td>...</td>\n",
       "      <td>-0.164506</td>\n",
       "      <td>1.297458</td>\n",
       "      <td>3.990655</td>\n",
       "      <td>2.727547</td>\n",
       "      <td>0.502893</td>\n",
       "      <td>-1.229081</td>\n",
       "      <td>-0.938750</td>\n",
       "      <td>-0.809382</td>\n",
       "      <td>-1.429005</td>\n",
       "      <td>-1.611735</td>\n",
       "    </tr>\n",
       "  </tbody>\n",
       "</table>\n",
       "<p>5 rows × 242 columns</p>\n",
       "</div>"
      ],
      "text/plain": [
       "          superior parietal lobule, right, superior bank of gyrus  \\\n",
       "A1BG                                              -1.163256         \n",
       "A1BG-AS1                                           0.587762         \n",
       "A1CF                                               0.261860         \n",
       "A2LD1                                             -1.735814         \n",
       "A2M                                               -2.560651         \n",
       "\n",
       "          superior parietal lobule, right, superior bank of gyrus  \\\n",
       "A1BG                                              -1.253627         \n",
       "A1BG-AS1                                           0.048175         \n",
       "A1CF                                              -0.204032         \n",
       "A2LD1                                             -0.073498         \n",
       "A2M                                               -1.678269         \n",
       "\n",
       "          superior parietal lobule, left, inferior bank of gyrus  \\\n",
       "A1BG                                              -1.656356        \n",
       "A1BG-AS1                                          -0.401744        \n",
       "A1CF                                               1.140779        \n",
       "A2LD1                                              0.156757        \n",
       "A2M                                               -1.152619        \n",
       "\n",
       "          angular gyrus, left, superior bank of gyrus  \\\n",
       "A1BG                                        -0.966491   \n",
       "A1BG-AS1                                    -0.050955   \n",
       "A1CF                                        -1.655254   \n",
       "A2LD1                                       -0.597671   \n",
       "A2M                                         -3.320610   \n",
       "\n",
       "          superior frontal gyrus, right, lateral bank of gyrus  \\\n",
       "A1BG                                              -0.680707      \n",
       "A1BG-AS1                                          -0.222905      \n",
       "A1CF                                               0.612333      \n",
       "A2LD1                                             -0.966155      \n",
       "A2M                                               -0.844908      \n",
       "\n",
       "          lateral orbital gyrus, right  gyrus rectus, left  \\\n",
       "A1BG                         -0.051034           -0.538248   \n",
       "A1BG-AS1                     -3.190712            0.522968   \n",
       "A1CF                         -0.736423           -1.624371   \n",
       "A2LD1                         0.555145           -0.306579   \n",
       "A2M                          -0.454799           -1.572389   \n",
       "\n",
       "          medial orbital gyrus, left  medial orbital gyrus, left  \\\n",
       "A1BG                       -1.547692                   -2.719805   \n",
       "A1BG-AS1                   -1.675137                   -2.977300   \n",
       "A1CF                        0.172788                    0.963727   \n",
       "A2LD1                      -2.773591                   -3.166564   \n",
       "A2M                        -0.885698                   -0.841533   \n",
       "\n",
       "          gyrus rectus, left                ...                  \\\n",
       "A1BG               -0.168671                ...                   \n",
       "A1BG-AS1           -0.772477                ...                   \n",
       "A1CF               -0.851128                ...                   \n",
       "A2LD1              -0.967948                ...                   \n",
       "A2M                -0.646339                ...                   \n",
       "\n",
       "          fusiform gyrus, left, bank of the its  \\\n",
       "A1BG                                   0.506373   \n",
       "A1BG-AS1                              -0.612405   \n",
       "A1CF                                  -0.868580   \n",
       "A2LD1                                  1.200578   \n",
       "A2M                                   -0.164506   \n",
       "\n",
       "          parahippocampal gyrus, left, lateral bank of gyrus  \\\n",
       "A1BG                                               0.251533    \n",
       "A1BG-AS1                                          -3.319962    \n",
       "A1CF                                              -1.653227    \n",
       "A2LD1                                              0.499665    \n",
       "A2M                                                1.297458    \n",
       "\n",
       "          globus pallidus, internal segment, left  \\\n",
       "A1BG                                     2.127855   \n",
       "A1BG-AS1                                -4.047112   \n",
       "A1CF                                    -0.308497   \n",
       "A2LD1                                    3.068235   \n",
       "A2M                                      3.990655   \n",
       "\n",
       "          globus pallidus, external segment, right  \\\n",
       "A1BG                                      0.984474   \n",
       "A1BG-AS1                                 -5.259302   \n",
       "A1CF                                     -1.653227   \n",
       "A2LD1                                     1.700650   \n",
       "A2M                                       2.727547   \n",
       "\n",
       "          parahippocampal gyrus, right, bank of the cos  \\\n",
       "A1BG                                           0.547855   \n",
       "A1BG-AS1                                      -0.526635   \n",
       "A1CF                                           0.871739   \n",
       "A2LD1                                          0.002027   \n",
       "A2M                                            0.502893   \n",
       "\n",
       "          VIIIA, right, lateral hemisphere  IV, right, paravermis  \\\n",
       "A1BG                              0.560928               0.095495   \n",
       "A1BG-AS1                         -1.053071              -1.980781   \n",
       "A1CF                              2.404687               2.335431   \n",
       "A2LD1                             1.317194               1.072065   \n",
       "A2M                              -1.229081              -0.938750   \n",
       "\n",
       "          IV, right, paravermis  VIIB, left, paravermis  \\\n",
       "A1BG                   0.307248                0.472193   \n",
       "A1BG-AS1              -0.097021               -0.084246   \n",
       "A1CF                   2.119524                2.347428   \n",
       "A2LD1                  0.499665               -1.176032   \n",
       "A2M                   -0.809382               -1.429005   \n",
       "\n",
       "          Crus II, left, lateral hemisphere  \n",
       "A1BG                               0.661945  \n",
       "A1BG-AS1                           0.042657  \n",
       "A1CF                               2.884338  \n",
       "A2LD1                              0.719757  \n",
       "A2M                               -1.611735  \n",
       "\n",
       "[5 rows x 242 columns]"
      ]
     },
     "execution_count": 43,
     "metadata": {},
     "output_type": "execute_result"
    }
   ],
   "source": [
    "normalized_matrix.head()"
   ]
  },
  {
   "cell_type": "markdown",
   "metadata": {},
   "source": [
    "# Merge Like Column (by taking the mean)"
   ]
  },
  {
   "cell_type": "code",
   "execution_count": 44,
   "metadata": {
    "collapsed": true
   },
   "outputs": [],
   "source": [
    "normalized_matrix = uf.merge(normalized_matrix, 'column', 'mean')"
   ]
  },
  {
   "cell_type": "code",
   "execution_count": 45,
   "metadata": {},
   "outputs": [
    {
     "data": {
      "text/plain": [
       "(19944, 100)"
      ]
     },
     "execution_count": 45,
     "metadata": {},
     "output_type": "execute_result"
    }
   ],
   "source": [
    "normalized_matrix.shape"
   ]
  },
  {
   "cell_type": "markdown",
   "metadata": {},
   "source": [
    "# Map Gene Symbols To Up-to-date Approved Gene Symbols"
   ]
  },
  {
   "cell_type": "code",
   "execution_count": 46,
   "metadata": {},
   "outputs": [
    {
     "name": "stdout",
     "output_type": "stream",
     "text": [
      "Progeres: 100%  19944 Out of 19944   \r"
     ]
    }
   ],
   "source": [
    "uf.mapgenesymbols(normalized_matrix)"
   ]
  },
  {
   "cell_type": "code",
   "execution_count": 47,
   "metadata": {},
   "outputs": [
    {
     "data": {
      "text/plain": [
       "(18734, 100)"
      ]
     },
     "execution_count": 47,
     "metadata": {},
     "output_type": "execute_result"
    }
   ],
   "source": [
    "normalized_matrix.shape"
   ]
  },
  {
   "cell_type": "markdown",
   "metadata": {},
   "source": [
    "# Merge Duplicate Genes By Rows"
   ]
  },
  {
   "cell_type": "code",
   "execution_count": 48,
   "metadata": {
    "collapsed": true
   },
   "outputs": [],
   "source": [
    "normalized_matrix = uf.merge(normalized_matrix, 'row', 'mean')"
   ]
  },
  {
   "cell_type": "code",
   "execution_count": 49,
   "metadata": {},
   "outputs": [
    {
     "data": {
      "text/plain": [
       "(18629, 100)"
      ]
     },
     "execution_count": 49,
     "metadata": {},
     "output_type": "execute_result"
    }
   ],
   "source": [
    "normalized_matrix.shape"
   ]
  },
  {
   "cell_type": "markdown",
   "metadata": {},
   "source": [
    "# Histogram of First Sample"
   ]
  },
  {
   "cell_type": "code",
   "execution_count": 50,
   "metadata": {},
   "outputs": [
    {
     "data": {
      "text/plain": [
       "<matplotlib.axes._subplots.AxesSubplot at 0x118ea48d0>"
      ]
     },
     "execution_count": 50,
     "metadata": {},
     "output_type": "execute_result"
    },
    {
     "data": {
      "image/png": "[encoded data removed]",
      "text/plain": [
       "<matplotlib.figure.Figure at 0x11b8b2828>"
      ]
     },
     "metadata": {},
     "output_type": "display_data"
    }
   ],
   "source": [
    "normalized_matrix[normalized_matrix.columns[0]].hist(bins=100)"
   ]
  },
  {
   "cell_type": "markdown",
   "metadata": {},
   "source": [
    "# Histogram of First Gene"
   ]
  },
  {
   "cell_type": "code",
   "execution_count": 51,
   "metadata": {},
   "outputs": [
    {
     "data": {
      "text/plain": [
       "<matplotlib.axes._subplots.AxesSubplot at 0x118fd3390>"
      ]
     },
     "execution_count": 51,
     "metadata": {},
     "output_type": "execute_result"
    },
    {
     "data": {
      "image/png": "[encoded data removed]",
      "text/plain": [
       "<matplotlib.figure.Figure at 0x139c58cf8>"
      ]
     },
     "metadata": {},
     "output_type": "display_data"
    }
   ],
   "source": [
    "normalized_matrix.loc[normalized_matrix.index[0]].hist(bins=100)"
   ]
  },
  {
   "cell_type": "markdown",
   "metadata": {},
   "source": [
    "# Save Filtered Matrix"
   ]
  },
  {
   "cell_type": "code",
   "execution_count": 52,
   "metadata": {
    "collapsed": true
   },
   "outputs": [],
   "source": [
    "filename = 'Output/aba_brain_matrix_filltered_%s.tsv.zip'% str(datetime.date.today())[0:7].replace('-', '_')\n",
    "normalized_matrix.to_csv(filename, sep='\\t', compression='gzip')"
   ]
  },
  {
   "cell_type": "markdown",
   "metadata": {},
   "source": [
    "# Create Gene List"
   ]
  },
  {
   "cell_type": "code",
   "execution_count": 53,
   "metadata": {},
   "outputs": [
    {
     "name": "stdout",
     "output_type": "stream",
     "text": [
      "Progeres: 100%  18629 Out of 18629   \r"
     ]
    }
   ],
   "source": [
    "gene_list = uf.createGeneList(normalized_matrix)"
   ]
  },
  {
   "cell_type": "code",
   "execution_count": 54,
   "metadata": {},
   "outputs": [
    {
     "data": {
      "text/html": [
       "<div>\n",
       "<style scoped>\n",
       "    .dataframe tbody tr th:only-of-type {\n",
       "        vertical-align: middle;\n",
       "    }\n",
       "\n",
       "    .dataframe tbody tr th {\n",
       "        vertical-align: top;\n",
       "    }\n",
       "\n",
       "    .dataframe thead th {\n",
       "        text-align: right;\n",
       "    }\n",
       "</style>\n",
       "<table border=\"1\" class=\"dataframe\">\n",
       "  <thead>\n",
       "    <tr style=\"text-align: right;\">\n",
       "      <th></th>\n",
       "      <th>GeneSym</th>\n",
       "      <th>GeneID</th>\n",
       "    </tr>\n",
       "  </thead>\n",
       "  <tbody>\n",
       "    <tr>\n",
       "      <th>0</th>\n",
       "      <td>A1BG</td>\n",
       "      <td>1</td>\n",
       "    </tr>\n",
       "    <tr>\n",
       "      <th>1</th>\n",
       "      <td>A1BG-AS1</td>\n",
       "      <td>503538</td>\n",
       "    </tr>\n",
       "    <tr>\n",
       "      <th>2</th>\n",
       "      <td>A1CF</td>\n",
       "      <td>29974</td>\n",
       "    </tr>\n",
       "    <tr>\n",
       "      <th>3</th>\n",
       "      <td>A2M</td>\n",
       "      <td>2</td>\n",
       "    </tr>\n",
       "    <tr>\n",
       "      <th>4</th>\n",
       "      <td>A2ML1</td>\n",
       "      <td>144568</td>\n",
       "    </tr>\n",
       "  </tbody>\n",
       "</table>\n",
       "</div>"
      ],
      "text/plain": [
       "    GeneSym  GeneID\n",
       "0      A1BG       1\n",
       "1  A1BG-AS1  503538\n",
       "2      A1CF   29974\n",
       "3       A2M       2\n",
       "4     A2ML1  144568"
      ]
     },
     "execution_count": 54,
     "metadata": {},
     "output_type": "execute_result"
    }
   ],
   "source": [
    "gene_list.head()"
   ]
  },
  {
   "cell_type": "code",
   "execution_count": 55,
   "metadata": {},
   "outputs": [
    {
     "data": {
      "text/plain": [
       "(18629, 2)"
      ]
     },
     "execution_count": 55,
     "metadata": {},
     "output_type": "execute_result"
    }
   ],
   "source": [
    "gene_list.shape"
   ]
  },
  {
   "cell_type": "markdown",
   "metadata": {},
   "source": [
    "# Save Gene List"
   ]
  },
  {
   "cell_type": "code",
   "execution_count": 56,
   "metadata": {
    "collapsed": true
   },
   "outputs": [],
   "source": [
    "filename = 'Output/aba_brain_gene_list_%s.tsv.zip'% str(datetime.date.today())[0:7].replace('-', '_')\n",
    "gene_list.to_csv(filename, sep='\\t', index=False, compression='gzip')"
   ]
  },
  {
   "cell_type": "markdown",
   "metadata": {},
   "source": [
    "# Create Attribute List"
   ]
  },
  {
   "cell_type": "code",
   "execution_count": 106,
   "metadata": {
    "collapsed": true
   },
   "outputs": [],
   "source": [
    "attribute_list = uf.createAttributeList(normalized_matrix)"
   ]
  },
  {
   "cell_type": "code",
   "execution_count": 107,
   "metadata": {},
   "outputs": [
    {
     "data": {
      "text/html": [
       "<div>\n",
       "<style scoped>\n",
       "    .dataframe tbody tr th:only-of-type {\n",
       "        vertical-align: middle;\n",
       "    }\n",
       "\n",
       "    .dataframe tbody tr th {\n",
       "        vertical-align: top;\n",
       "    }\n",
       "\n",
       "    .dataframe thead th {\n",
       "        text-align: right;\n",
       "    }\n",
       "</style>\n",
       "<table border=\"1\" class=\"dataframe\">\n",
       "  <thead>\n",
       "    <tr style=\"text-align: right;\">\n",
       "      <th></th>\n",
       "    </tr>\n",
       "    <tr>\n",
       "      <th>Attributes</th>\n",
       "    </tr>\n",
       "  </thead>\n",
       "  <tbody>\n",
       "    <tr>\n",
       "      <th>Crus I, right, lateral hemisphere</th>\n",
       "    </tr>\n",
       "    <tr>\n",
       "      <th>Crus II, left, lateral hemisphere</th>\n",
       "    </tr>\n",
       "    <tr>\n",
       "      <th>IV, right, paravermis</th>\n",
       "    </tr>\n",
       "    <tr>\n",
       "      <th>IX, right, paravermis</th>\n",
       "    </tr>\n",
       "    <tr>\n",
       "      <th>VI, left, lateral hemisphere</th>\n",
       "    </tr>\n",
       "  </tbody>\n",
       "</table>\n",
       "</div>"
      ],
      "text/plain": [
       "Empty DataFrame\n",
       "Columns: []\n",
       "Index: [Crus I, right, lateral hemisphere, Crus II, left, lateral hemisphere, IV, right, paravermis, IX, right, paravermis, VI, left, lateral hemisphere]"
      ]
     },
     "execution_count": 107,
     "metadata": {},
     "output_type": "execute_result"
    }
   ],
   "source": [
    "attribute_list.head()"
   ]
  },
  {
   "cell_type": "code",
   "execution_count": 108,
   "metadata": {},
   "outputs": [
    {
     "data": {
      "text/plain": [
       "(100, 0)"
      ]
     },
     "execution_count": 108,
     "metadata": {},
     "output_type": "execute_result"
    }
   ],
   "source": [
    "attribute_list.shape"
   ]
  },
  {
   "cell_type": "markdown",
   "metadata": {},
   "source": [
    "# Save Attribute List"
   ]
  },
  {
   "cell_type": "code",
   "execution_count": 110,
   "metadata": {
    "collapsed": true
   },
   "outputs": [],
   "source": [
    "filename = 'Output/aba_brain_attribute_list_%s.tsv.zip'% str(datetime.date.today())[0:7].replace('-', '_')\n",
    "attribute_list.to_csv(filename, sep='\\t', compression='gzip')"
   ]
  },
  {
   "cell_type": "markdown",
   "metadata": {},
   "source": [
    "# Create matrix of Standardized values (values between -1, and 1)"
   ]
  },
  {
   "cell_type": "code",
   "execution_count": 61,
   "metadata": {},
   "outputs": [
    {
     "name": "stdout",
     "output_type": "stream",
     "text": [
      "Progeres: 100%  18629 Out of 18629   \r"
     ]
    }
   ],
   "source": [
    "standard_matrix = uf.createStandardizedMatrix(normalized_matrix)"
   ]
  },
  {
   "cell_type": "code",
   "execution_count": 62,
   "metadata": {},
   "outputs": [
    {
     "data": {
      "text/html": [
       "<div>\n",
       "<style scoped>\n",
       "    .dataframe tbody tr th:only-of-type {\n",
       "        vertical-align: middle;\n",
       "    }\n",
       "\n",
       "    .dataframe tbody tr th {\n",
       "        vertical-align: top;\n",
       "    }\n",
       "\n",
       "    .dataframe thead th {\n",
       "        text-align: right;\n",
       "    }\n",
       "</style>\n",
       "<table border=\"1\" class=\"dataframe\">\n",
       "  <thead>\n",
       "    <tr style=\"text-align: right;\">\n",
       "      <th></th>\n",
       "      <th>Crus I, right, lateral hemisphere</th>\n",
       "      <th>Crus II, left, lateral hemisphere</th>\n",
       "      <th>IV, right, paravermis</th>\n",
       "      <th>IX, right, paravermis</th>\n",
       "      <th>VI, left, lateral hemisphere</th>\n",
       "      <th>VIIB, left, paravermis</th>\n",
       "      <th>VIIIA, left, lateral hemisphere</th>\n",
       "      <th>VIIIA, right, lateral hemisphere</th>\n",
       "      <th>angular gyrus, left, inferior bank of gyrus</th>\n",
       "      <th>angular gyrus, left, superior bank of gyrus</th>\n",
       "      <th>...</th>\n",
       "      <th>superior frontal gyrus, right, medial bank of gyrus</th>\n",
       "      <th>superior parietal lobule, left, inferior bank of gyrus</th>\n",
       "      <th>superior parietal lobule, left, superior bank of gyrus</th>\n",
       "      <th>superior parietal lobule, right, superior bank of gyrus</th>\n",
       "      <th>superior temporal gyrus, left, inferior bank of gyrus</th>\n",
       "      <th>superior temporal gyrus, left, lateral bank of gyrus</th>\n",
       "      <th>superior temporal gyrus, right, inferior bank of gyrus</th>\n",
       "      <th>superior temporal gyrus, right, lateral bank of gyrus</th>\n",
       "      <th>supramarginal gyrus, left, inferior bank of gyrus</th>\n",
       "      <th>supramarginal gyrus, right, inferior bank of gyrus</th>\n",
       "    </tr>\n",
       "    <tr>\n",
       "      <th></th>\n",
       "      <th></th>\n",
       "      <th></th>\n",
       "      <th></th>\n",
       "      <th></th>\n",
       "      <th></th>\n",
       "      <th></th>\n",
       "      <th></th>\n",
       "      <th></th>\n",
       "      <th></th>\n",
       "      <th></th>\n",
       "      <th></th>\n",
       "      <th></th>\n",
       "      <th></th>\n",
       "      <th></th>\n",
       "      <th></th>\n",
       "      <th></th>\n",
       "      <th></th>\n",
       "      <th></th>\n",
       "      <th></th>\n",
       "      <th></th>\n",
       "      <th></th>\n",
       "    </tr>\n",
       "  </thead>\n",
       "  <tbody>\n",
       "    <tr>\n",
       "      <th>A1BG</th>\n",
       "      <td>-0.922423</td>\n",
       "      <td>0.697703</td>\n",
       "      <td>0.337760</td>\n",
       "      <td>-0.682127</td>\n",
       "      <td>-0.782216</td>\n",
       "      <td>0.577700</td>\n",
       "      <td>-0.402195</td>\n",
       "      <td>0.637810</td>\n",
       "      <td>-0.062208</td>\n",
       "      <td>-0.642160</td>\n",
       "      <td>...</td>\n",
       "      <td>0.057828</td>\n",
       "      <td>-0.842307</td>\n",
       "      <td>0.677767</td>\n",
       "      <td>0.317779</td>\n",
       "      <td>-0.462172</td>\n",
       "      <td>0.917793</td>\n",
       "      <td>0.457815</td>\n",
       "      <td>-0.702173</td>\n",
       "      <td>0.137831</td>\n",
       "      <td>0.237795</td>\n",
       "    </tr>\n",
       "    <tr>\n",
       "      <th>A1BG-AS1</th>\n",
       "      <td>0.835768</td>\n",
       "      <td>0.055746</td>\n",
       "      <td>-0.564230</td>\n",
       "      <td>-0.024331</td>\n",
       "      <td>0.395724</td>\n",
       "      <td>-0.164297</td>\n",
       "      <td>0.815755</td>\n",
       "      <td>-0.584224</td>\n",
       "      <td>-0.004278</td>\n",
       "      <td>0.135748</td>\n",
       "      <td>...</td>\n",
       "      <td>-0.124248</td>\n",
       "      <td>-0.224179</td>\n",
       "      <td>-0.084254</td>\n",
       "      <td>0.295723</td>\n",
       "      <td>0.675685</td>\n",
       "      <td>0.755685</td>\n",
       "      <td>-0.044336</td>\n",
       "      <td>0.495707</td>\n",
       "      <td>0.915710</td>\n",
       "      <td>0.595695</td>\n",
       "    </tr>\n",
       "    <tr>\n",
       "      <th>A1CF</th>\n",
       "      <td>0.969014</td>\n",
       "      <td>0.989060</td>\n",
       "      <td>0.868917</td>\n",
       "      <td>0.848948</td>\n",
       "      <td>0.948985</td>\n",
       "      <td>0.908906</td>\n",
       "      <td>0.888879</td>\n",
       "      <td>0.928968</td>\n",
       "      <td>0.028856</td>\n",
       "      <td>0.048941</td>\n",
       "      <td>...</td>\n",
       "      <td>0.168941</td>\n",
       "      <td>0.768893</td>\n",
       "      <td>0.748880</td>\n",
       "      <td>0.008862</td>\n",
       "      <td>0.348888</td>\n",
       "      <td>0.588891</td>\n",
       "      <td>-0.351079</td>\n",
       "      <td>-0.291083</td>\n",
       "      <td>0.528878</td>\n",
       "      <td>0.268908</td>\n",
       "    </tr>\n",
       "    <tr>\n",
       "      <th>A2M</th>\n",
       "      <td>-0.971277</td>\n",
       "      <td>-0.931310</td>\n",
       "      <td>-0.711060</td>\n",
       "      <td>-0.851194</td>\n",
       "      <td>-0.951251</td>\n",
       "      <td>-0.911237</td>\n",
       "      <td>-0.991247</td>\n",
       "      <td>-0.891266</td>\n",
       "      <td>-0.651047</td>\n",
       "      <td>-0.831189</td>\n",
       "      <td>...</td>\n",
       "      <td>-0.151027</td>\n",
       "      <td>-0.571034</td>\n",
       "      <td>-0.631013</td>\n",
       "      <td>-0.871144</td>\n",
       "      <td>0.028856</td>\n",
       "      <td>0.448927</td>\n",
       "      <td>-0.331074</td>\n",
       "      <td>-0.771120</td>\n",
       "      <td>-0.671034</td>\n",
       "      <td>-0.011082</td>\n",
       "    </tr>\n",
       "    <tr>\n",
       "      <th>A2ML1</th>\n",
       "      <td>-0.991247</td>\n",
       "      <td>-0.871144</td>\n",
       "      <td>-0.971277</td>\n",
       "      <td>-0.911237</td>\n",
       "      <td>-0.851194</td>\n",
       "      <td>-0.891266</td>\n",
       "      <td>-0.811132</td>\n",
       "      <td>-0.951251</td>\n",
       "      <td>0.488903</td>\n",
       "      <td>-0.571034</td>\n",
       "      <td>...</td>\n",
       "      <td>0.308892</td>\n",
       "      <td>0.088968</td>\n",
       "      <td>-0.631013</td>\n",
       "      <td>-0.711060</td>\n",
       "      <td>0.048941</td>\n",
       "      <td>-0.731084</td>\n",
       "      <td>-0.191059</td>\n",
       "      <td>-0.511093</td>\n",
       "      <td>-0.331074</td>\n",
       "      <td>-0.391061</td>\n",
       "    </tr>\n",
       "  </tbody>\n",
       "</table>\n",
       "<p>5 rows × 100 columns</p>\n",
       "</div>"
      ],
      "text/plain": [
       "          Crus I, right, lateral hemisphere  \\\n",
       "                                              \n",
       "A1BG                              -0.922423   \n",
       "A1BG-AS1                           0.835768   \n",
       "A1CF                               0.969014   \n",
       "A2M                               -0.971277   \n",
       "A2ML1                             -0.991247   \n",
       "\n",
       "          Crus II, left, lateral hemisphere  IV, right, paravermis  \\\n",
       "                                                                     \n",
       "A1BG                               0.697703               0.337760   \n",
       "A1BG-AS1                           0.055746              -0.564230   \n",
       "A1CF                               0.989060               0.868917   \n",
       "A2M                               -0.931310              -0.711060   \n",
       "A2ML1                             -0.871144              -0.971277   \n",
       "\n",
       "          IX, right, paravermis  VI, left, lateral hemisphere  \\\n",
       "                                                                \n",
       "A1BG                  -0.682127                     -0.782216   \n",
       "A1BG-AS1              -0.024331                      0.395724   \n",
       "A1CF                   0.848948                      0.948985   \n",
       "A2M                   -0.851194                     -0.951251   \n",
       "A2ML1                 -0.911237                     -0.851194   \n",
       "\n",
       "          VIIB, left, paravermis  VIIIA, left, lateral hemisphere  \\\n",
       "                                                                    \n",
       "A1BG                    0.577700                        -0.402195   \n",
       "A1BG-AS1               -0.164297                         0.815755   \n",
       "A1CF                    0.908906                         0.888879   \n",
       "A2M                    -0.911237                        -0.991247   \n",
       "A2ML1                  -0.891266                        -0.811132   \n",
       "\n",
       "          VIIIA, right, lateral hemisphere  \\\n",
       "                                             \n",
       "A1BG                              0.637810   \n",
       "A1BG-AS1                         -0.584224   \n",
       "A1CF                              0.928968   \n",
       "A2M                              -0.891266   \n",
       "A2ML1                            -0.951251   \n",
       "\n",
       "          angular gyrus, left, inferior bank of gyrus  \\\n",
       "                                                        \n",
       "A1BG                                        -0.062208   \n",
       "A1BG-AS1                                    -0.004278   \n",
       "A1CF                                         0.028856   \n",
       "A2M                                         -0.651047   \n",
       "A2ML1                                        0.488903   \n",
       "\n",
       "          angular gyrus, left, superior bank of gyrus  \\\n",
       "                                                        \n",
       "A1BG                                        -0.642160   \n",
       "A1BG-AS1                                     0.135748   \n",
       "A1CF                                         0.048941   \n",
       "A2M                                         -0.831189   \n",
       "A2ML1                                       -0.571034   \n",
       "\n",
       "                                 ...                          \\\n",
       "                                 ...                           \n",
       "A1BG                             ...                           \n",
       "A1BG-AS1                         ...                           \n",
       "A1CF                             ...                           \n",
       "A2M                              ...                           \n",
       "A2ML1                            ...                           \n",
       "\n",
       "          superior frontal gyrus, right, medial bank of gyrus  \\\n",
       "                                                                \n",
       "A1BG                                               0.057828     \n",
       "A1BG-AS1                                          -0.124248     \n",
       "A1CF                                               0.168941     \n",
       "A2M                                               -0.151027     \n",
       "A2ML1                                              0.308892     \n",
       "\n",
       "          superior parietal lobule, left, inferior bank of gyrus  \\\n",
       "                                                                   \n",
       "A1BG                                              -0.842307        \n",
       "A1BG-AS1                                          -0.224179        \n",
       "A1CF                                               0.768893        \n",
       "A2M                                               -0.571034        \n",
       "A2ML1                                              0.088968        \n",
       "\n",
       "          superior parietal lobule, left, superior bank of gyrus  \\\n",
       "                                                                   \n",
       "A1BG                                               0.677767        \n",
       "A1BG-AS1                                          -0.084254        \n",
       "A1CF                                               0.748880        \n",
       "A2M                                               -0.631013        \n",
       "A2ML1                                             -0.631013        \n",
       "\n",
       "          superior parietal lobule, right, superior bank of gyrus  \\\n",
       "                                                                    \n",
       "A1BG                                               0.317779         \n",
       "A1BG-AS1                                           0.295723         \n",
       "A1CF                                               0.008862         \n",
       "A2M                                               -0.871144         \n",
       "A2ML1                                             -0.711060         \n",
       "\n",
       "          superior temporal gyrus, left, inferior bank of gyrus  \\\n",
       "                                                                  \n",
       "A1BG                                              -0.462172       \n",
       "A1BG-AS1                                           0.675685       \n",
       "A1CF                                               0.348888       \n",
       "A2M                                                0.028856       \n",
       "A2ML1                                              0.048941       \n",
       "\n",
       "          superior temporal gyrus, left, lateral bank of gyrus  \\\n",
       "                                                                 \n",
       "A1BG                                               0.917793      \n",
       "A1BG-AS1                                           0.755685      \n",
       "A1CF                                               0.588891      \n",
       "A2M                                                0.448927      \n",
       "A2ML1                                             -0.731084      \n",
       "\n",
       "          superior temporal gyrus, right, inferior bank of gyrus  \\\n",
       "                                                                   \n",
       "A1BG                                               0.457815        \n",
       "A1BG-AS1                                          -0.044336        \n",
       "A1CF                                              -0.351079        \n",
       "A2M                                               -0.331074        \n",
       "A2ML1                                             -0.191059        \n",
       "\n",
       "          superior temporal gyrus, right, lateral bank of gyrus  \\\n",
       "                                                                  \n",
       "A1BG                                              -0.702173       \n",
       "A1BG-AS1                                           0.495707       \n",
       "A1CF                                              -0.291083       \n",
       "A2M                                               -0.771120       \n",
       "A2ML1                                             -0.511093       \n",
       "\n",
       "          supramarginal gyrus, left, inferior bank of gyrus  \\\n",
       "                                                              \n",
       "A1BG                                               0.137831   \n",
       "A1BG-AS1                                           0.915710   \n",
       "A1CF                                               0.528878   \n",
       "A2M                                               -0.671034   \n",
       "A2ML1                                             -0.331074   \n",
       "\n",
       "          supramarginal gyrus, right, inferior bank of gyrus  \n",
       "                                                              \n",
       "A1BG                                               0.237795   \n",
       "A1BG-AS1                                           0.595695   \n",
       "A1CF                                               0.268908   \n",
       "A2M                                               -0.011082   \n",
       "A2ML1                                             -0.391061   \n",
       "\n",
       "[5 rows x 100 columns]"
      ]
     },
     "execution_count": 62,
     "metadata": {},
     "output_type": "execute_result"
    }
   ],
   "source": [
    "standard_matrix.head()"
   ]
  },
  {
   "cell_type": "markdown",
   "metadata": {},
   "source": [
    "# Plot of A Single Celltype, Normalized Value vs. Standardized Value"
   ]
  },
  {
   "cell_type": "code",
   "execution_count": 63,
   "metadata": {},
   "outputs": [
    {
     "data": {
      "image/png": "[encoded data removed]",
      "text/plain": [
       "<matplotlib.figure.Figure at 0x118fb2550>"
      ]
     },
     "metadata": {},
     "output_type": "display_data"
    }
   ],
   "source": [
    "plt.plot(normalized_matrix[normalized_matrix.columns[0]], standard_matrix[standard_matrix.columns[0]], 'bo')\n",
    "plt.xlabel('Normalized Values')\n",
    "plt.ylabel('Standardized Values')\n",
    "plt.title(standard_matrix.columns[0])\n",
    "plt.grid(True)"
   ]
  },
  {
   "cell_type": "markdown",
   "metadata": {},
   "source": [
    "# Save Standardized Matrix"
   ]
  },
  {
   "cell_type": "code",
   "execution_count": 64,
   "metadata": {
    "collapsed": true
   },
   "outputs": [],
   "source": [
    "filename = 'Output/aba_brain_standard_matrix_%s.tsv.zip'% str(datetime.date.today())[0:7].replace('-', '_')\n",
    "standard_matrix.to_csv(filename, sep='\\t', compression='gzip')"
   ]
  },
  {
   "cell_type": "markdown",
   "metadata": {},
   "source": [
    "# Create Tertiary Matrix"
   ]
  },
  {
   "cell_type": "code",
   "execution_count": 65,
   "metadata": {
    "collapsed": true
   },
   "outputs": [],
   "source": [
    "tertiary_matrix = uf.createTertiaryMatrix(standard_matrix)"
   ]
  },
  {
   "cell_type": "code",
   "execution_count": 66,
   "metadata": {},
   "outputs": [
    {
     "data": {
      "text/html": [
       "<div>\n",
       "<style scoped>\n",
       "    .dataframe tbody tr th:only-of-type {\n",
       "        vertical-align: middle;\n",
       "    }\n",
       "\n",
       "    .dataframe tbody tr th {\n",
       "        vertical-align: top;\n",
       "    }\n",
       "\n",
       "    .dataframe thead th {\n",
       "        text-align: right;\n",
       "    }\n",
       "</style>\n",
       "<table border=\"1\" class=\"dataframe\">\n",
       "  <thead>\n",
       "    <tr style=\"text-align: right;\">\n",
       "      <th></th>\n",
       "      <th>Crus I, right, lateral hemisphere</th>\n",
       "      <th>Crus II, left, lateral hemisphere</th>\n",
       "      <th>IV, right, paravermis</th>\n",
       "      <th>IX, right, paravermis</th>\n",
       "      <th>VI, left, lateral hemisphere</th>\n",
       "      <th>VIIB, left, paravermis</th>\n",
       "      <th>VIIIA, left, lateral hemisphere</th>\n",
       "      <th>VIIIA, right, lateral hemisphere</th>\n",
       "      <th>angular gyrus, left, inferior bank of gyrus</th>\n",
       "      <th>angular gyrus, left, superior bank of gyrus</th>\n",
       "      <th>...</th>\n",
       "      <th>superior frontal gyrus, right, medial bank of gyrus</th>\n",
       "      <th>superior parietal lobule, left, inferior bank of gyrus</th>\n",
       "      <th>superior parietal lobule, left, superior bank of gyrus</th>\n",
       "      <th>superior parietal lobule, right, superior bank of gyrus</th>\n",
       "      <th>superior temporal gyrus, left, inferior bank of gyrus</th>\n",
       "      <th>superior temporal gyrus, left, lateral bank of gyrus</th>\n",
       "      <th>superior temporal gyrus, right, inferior bank of gyrus</th>\n",
       "      <th>superior temporal gyrus, right, lateral bank of gyrus</th>\n",
       "      <th>supramarginal gyrus, left, inferior bank of gyrus</th>\n",
       "      <th>supramarginal gyrus, right, inferior bank of gyrus</th>\n",
       "    </tr>\n",
       "    <tr>\n",
       "      <th></th>\n",
       "      <th></th>\n",
       "      <th></th>\n",
       "      <th></th>\n",
       "      <th></th>\n",
       "      <th></th>\n",
       "      <th></th>\n",
       "      <th></th>\n",
       "      <th></th>\n",
       "      <th></th>\n",
       "      <th></th>\n",
       "      <th></th>\n",
       "      <th></th>\n",
       "      <th></th>\n",
       "      <th></th>\n",
       "      <th></th>\n",
       "      <th></th>\n",
       "      <th></th>\n",
       "      <th></th>\n",
       "      <th></th>\n",
       "      <th></th>\n",
       "      <th></th>\n",
       "    </tr>\n",
       "  </thead>\n",
       "  <tbody>\n",
       "    <tr>\n",
       "      <th>A1BG</th>\n",
       "      <td>0</td>\n",
       "      <td>0</td>\n",
       "      <td>0</td>\n",
       "      <td>0</td>\n",
       "      <td>0</td>\n",
       "      <td>0</td>\n",
       "      <td>0</td>\n",
       "      <td>0</td>\n",
       "      <td>0</td>\n",
       "      <td>0</td>\n",
       "      <td>...</td>\n",
       "      <td>0</td>\n",
       "      <td>0</td>\n",
       "      <td>0</td>\n",
       "      <td>0</td>\n",
       "      <td>0</td>\n",
       "      <td>0</td>\n",
       "      <td>0</td>\n",
       "      <td>0</td>\n",
       "      <td>0</td>\n",
       "      <td>0</td>\n",
       "    </tr>\n",
       "    <tr>\n",
       "      <th>A1BG-AS1</th>\n",
       "      <td>0</td>\n",
       "      <td>0</td>\n",
       "      <td>0</td>\n",
       "      <td>0</td>\n",
       "      <td>0</td>\n",
       "      <td>0</td>\n",
       "      <td>0</td>\n",
       "      <td>0</td>\n",
       "      <td>0</td>\n",
       "      <td>0</td>\n",
       "      <td>...</td>\n",
       "      <td>0</td>\n",
       "      <td>0</td>\n",
       "      <td>0</td>\n",
       "      <td>0</td>\n",
       "      <td>0</td>\n",
       "      <td>0</td>\n",
       "      <td>0</td>\n",
       "      <td>0</td>\n",
       "      <td>0</td>\n",
       "      <td>0</td>\n",
       "    </tr>\n",
       "    <tr>\n",
       "      <th>A1CF</th>\n",
       "      <td>1</td>\n",
       "      <td>1</td>\n",
       "      <td>0</td>\n",
       "      <td>0</td>\n",
       "      <td>0</td>\n",
       "      <td>0</td>\n",
       "      <td>0</td>\n",
       "      <td>0</td>\n",
       "      <td>0</td>\n",
       "      <td>0</td>\n",
       "      <td>...</td>\n",
       "      <td>0</td>\n",
       "      <td>0</td>\n",
       "      <td>0</td>\n",
       "      <td>0</td>\n",
       "      <td>0</td>\n",
       "      <td>0</td>\n",
       "      <td>0</td>\n",
       "      <td>0</td>\n",
       "      <td>0</td>\n",
       "      <td>0</td>\n",
       "    </tr>\n",
       "    <tr>\n",
       "      <th>A2M</th>\n",
       "      <td>-1</td>\n",
       "      <td>0</td>\n",
       "      <td>0</td>\n",
       "      <td>0</td>\n",
       "      <td>-1</td>\n",
       "      <td>0</td>\n",
       "      <td>-1</td>\n",
       "      <td>0</td>\n",
       "      <td>0</td>\n",
       "      <td>0</td>\n",
       "      <td>...</td>\n",
       "      <td>0</td>\n",
       "      <td>0</td>\n",
       "      <td>0</td>\n",
       "      <td>0</td>\n",
       "      <td>0</td>\n",
       "      <td>0</td>\n",
       "      <td>0</td>\n",
       "      <td>0</td>\n",
       "      <td>0</td>\n",
       "      <td>0</td>\n",
       "    </tr>\n",
       "    <tr>\n",
       "      <th>A2ML1</th>\n",
       "      <td>-1</td>\n",
       "      <td>0</td>\n",
       "      <td>-1</td>\n",
       "      <td>0</td>\n",
       "      <td>0</td>\n",
       "      <td>0</td>\n",
       "      <td>0</td>\n",
       "      <td>-1</td>\n",
       "      <td>0</td>\n",
       "      <td>0</td>\n",
       "      <td>...</td>\n",
       "      <td>0</td>\n",
       "      <td>0</td>\n",
       "      <td>0</td>\n",
       "      <td>0</td>\n",
       "      <td>0</td>\n",
       "      <td>0</td>\n",
       "      <td>0</td>\n",
       "      <td>0</td>\n",
       "      <td>0</td>\n",
       "      <td>0</td>\n",
       "    </tr>\n",
       "  </tbody>\n",
       "</table>\n",
       "<p>5 rows × 100 columns</p>\n",
       "</div>"
      ],
      "text/plain": [
       "          Crus I, right, lateral hemisphere  \\\n",
       "                                              \n",
       "A1BG                                      0   \n",
       "A1BG-AS1                                  0   \n",
       "A1CF                                      1   \n",
       "A2M                                      -1   \n",
       "A2ML1                                    -1   \n",
       "\n",
       "          Crus II, left, lateral hemisphere  IV, right, paravermis  \\\n",
       "                                                                     \n",
       "A1BG                                      0                      0   \n",
       "A1BG-AS1                                  0                      0   \n",
       "A1CF                                      1                      0   \n",
       "A2M                                       0                      0   \n",
       "A2ML1                                     0                     -1   \n",
       "\n",
       "          IX, right, paravermis  VI, left, lateral hemisphere  \\\n",
       "                                                                \n",
       "A1BG                          0                             0   \n",
       "A1BG-AS1                      0                             0   \n",
       "A1CF                          0                             0   \n",
       "A2M                           0                            -1   \n",
       "A2ML1                         0                             0   \n",
       "\n",
       "          VIIB, left, paravermis  VIIIA, left, lateral hemisphere  \\\n",
       "                                                                    \n",
       "A1BG                           0                                0   \n",
       "A1BG-AS1                       0                                0   \n",
       "A1CF                           0                                0   \n",
       "A2M                            0                               -1   \n",
       "A2ML1                          0                                0   \n",
       "\n",
       "          VIIIA, right, lateral hemisphere  \\\n",
       "                                             \n",
       "A1BG                                     0   \n",
       "A1BG-AS1                                 0   \n",
       "A1CF                                     0   \n",
       "A2M                                      0   \n",
       "A2ML1                                   -1   \n",
       "\n",
       "          angular gyrus, left, inferior bank of gyrus  \\\n",
       "                                                        \n",
       "A1BG                                                0   \n",
       "A1BG-AS1                                            0   \n",
       "A1CF                                                0   \n",
       "A2M                                                 0   \n",
       "A2ML1                                               0   \n",
       "\n",
       "          angular gyrus, left, superior bank of gyrus  \\\n",
       "                                                        \n",
       "A1BG                                                0   \n",
       "A1BG-AS1                                            0   \n",
       "A1CF                                                0   \n",
       "A2M                                                 0   \n",
       "A2ML1                                               0   \n",
       "\n",
       "                                 ...                          \\\n",
       "                                 ...                           \n",
       "A1BG                             ...                           \n",
       "A1BG-AS1                         ...                           \n",
       "A1CF                             ...                           \n",
       "A2M                              ...                           \n",
       "A2ML1                            ...                           \n",
       "\n",
       "          superior frontal gyrus, right, medial bank of gyrus  \\\n",
       "                                                                \n",
       "A1BG                                                      0     \n",
       "A1BG-AS1                                                  0     \n",
       "A1CF                                                      0     \n",
       "A2M                                                       0     \n",
       "A2ML1                                                     0     \n",
       "\n",
       "          superior parietal lobule, left, inferior bank of gyrus  \\\n",
       "                                                                   \n",
       "A1BG                                                      0        \n",
       "A1BG-AS1                                                  0        \n",
       "A1CF                                                      0        \n",
       "A2M                                                       0        \n",
       "A2ML1                                                     0        \n",
       "\n",
       "          superior parietal lobule, left, superior bank of gyrus  \\\n",
       "                                                                   \n",
       "A1BG                                                      0        \n",
       "A1BG-AS1                                                  0        \n",
       "A1CF                                                      0        \n",
       "A2M                                                       0        \n",
       "A2ML1                                                     0        \n",
       "\n",
       "          superior parietal lobule, right, superior bank of gyrus  \\\n",
       "                                                                    \n",
       "A1BG                                                      0         \n",
       "A1BG-AS1                                                  0         \n",
       "A1CF                                                      0         \n",
       "A2M                                                       0         \n",
       "A2ML1                                                     0         \n",
       "\n",
       "          superior temporal gyrus, left, inferior bank of gyrus  \\\n",
       "                                                                  \n",
       "A1BG                                                      0       \n",
       "A1BG-AS1                                                  0       \n",
       "A1CF                                                      0       \n",
       "A2M                                                       0       \n",
       "A2ML1                                                     0       \n",
       "\n",
       "          superior temporal gyrus, left, lateral bank of gyrus  \\\n",
       "                                                                 \n",
       "A1BG                                                      0      \n",
       "A1BG-AS1                                                  0      \n",
       "A1CF                                                      0      \n",
       "A2M                                                       0      \n",
       "A2ML1                                                     0      \n",
       "\n",
       "          superior temporal gyrus, right, inferior bank of gyrus  \\\n",
       "                                                                   \n",
       "A1BG                                                      0        \n",
       "A1BG-AS1                                                  0        \n",
       "A1CF                                                      0        \n",
       "A2M                                                       0        \n",
       "A2ML1                                                     0        \n",
       "\n",
       "          superior temporal gyrus, right, lateral bank of gyrus  \\\n",
       "                                                                  \n",
       "A1BG                                                      0       \n",
       "A1BG-AS1                                                  0       \n",
       "A1CF                                                      0       \n",
       "A2M                                                       0       \n",
       "A2ML1                                                     0       \n",
       "\n",
       "          supramarginal gyrus, left, inferior bank of gyrus  \\\n",
       "                                                              \n",
       "A1BG                                                      0   \n",
       "A1BG-AS1                                                  0   \n",
       "A1CF                                                      0   \n",
       "A2M                                                       0   \n",
       "A2ML1                                                     0   \n",
       "\n",
       "          supramarginal gyrus, right, inferior bank of gyrus  \n",
       "                                                              \n",
       "A1BG                                                      0   \n",
       "A1BG-AS1                                                  0   \n",
       "A1CF                                                      0   \n",
       "A2M                                                       0   \n",
       "A2ML1                                                     0   \n",
       "\n",
       "[5 rows x 100 columns]"
      ]
     },
     "execution_count": 66,
     "metadata": {},
     "output_type": "execute_result"
    }
   ],
   "source": [
    "tertiary_matrix.head()"
   ]
  },
  {
   "cell_type": "markdown",
   "metadata": {},
   "source": [
    "# Save Teriary Matrix"
   ]
  },
  {
   "cell_type": "code",
   "execution_count": 67,
   "metadata": {
    "collapsed": true
   },
   "outputs": [],
   "source": [
    "filename = 'Output/aba_brain_tertiary_matrix_%s.tsv.zip'% str(datetime.date.today())[0:7].replace('-', '_')\n",
    "tertiary_matrix.to_csv(filename, sep='\\t', compression='gzip')"
   ]
  },
  {
   "cell_type": "markdown",
   "metadata": {},
   "source": [
    "# Path to output files"
   ]
  },
  {
   "cell_type": "code",
   "execution_count": 68,
   "metadata": {
    "collapsed": true
   },
   "outputs": [],
   "source": [
    "path = '/Users/moshesilverstein/Documents/Harmonizome/Allen Brain Atlas/BRAIN/Output/'"
   ]
  },
  {
   "cell_type": "markdown",
   "metadata": {},
   "source": [
    "# Create Up Gene Set Library"
   ]
  },
  {
   "cell_type": "code",
   "execution_count": 69,
   "metadata": {
    "collapsed": true
   },
   "outputs": [],
   "source": [
    "name = 'aba_brain_gene_up_set'"
   ]
  },
  {
   "cell_type": "code",
   "execution_count": 70,
   "metadata": {},
   "outputs": [
    {
     "name": "stdout",
     "output_type": "stream",
     "text": [
      "Progeres: 100%  100 Out of 100   \r"
     ]
    }
   ],
   "source": [
    "uf.createUpGeneSetLib(tertiary_matrix, path, name)"
   ]
  },
  {
   "cell_type": "markdown",
   "metadata": {},
   "source": [
    "# Create Down Gene Set Library"
   ]
  },
  {
   "cell_type": "code",
   "execution_count": 71,
   "metadata": {
    "collapsed": true
   },
   "outputs": [],
   "source": [
    "name = 'aba_brain_gene_down_set'"
   ]
  },
  {
   "cell_type": "code",
   "execution_count": 72,
   "metadata": {},
   "outputs": [
    {
     "name": "stdout",
     "output_type": "stream",
     "text": [
      "Progeres: 100%  100 Out of 100   \r"
     ]
    }
   ],
   "source": [
    "uf.createDownGeneSetLib(tertiary_matrix, path, name)"
   ]
  },
  {
   "cell_type": "markdown",
   "metadata": {},
   "source": [
    "# Create Up Attribute Library"
   ]
  },
  {
   "cell_type": "code",
   "execution_count": 73,
   "metadata": {
    "collapsed": true
   },
   "outputs": [],
   "source": [
    "name = 'aba_brain_attribute_up_set'"
   ]
  },
  {
   "cell_type": "code",
   "execution_count": 74,
   "metadata": {},
   "outputs": [
    {
     "name": "stdout",
     "output_type": "stream",
     "text": [
      "Progeres: 100%  18629 Out of 18629   \r"
     ]
    }
   ],
   "source": [
    "uf.createUpAttributeSetLib(tertiary_matrix, path, name)"
   ]
  },
  {
   "cell_type": "markdown",
   "metadata": {},
   "source": [
    "# Create Down Attribute Library"
   ]
  },
  {
   "cell_type": "code",
   "execution_count": 75,
   "metadata": {
    "collapsed": true
   },
   "outputs": [],
   "source": [
    "name = 'aba_brain_attribute_down_set'"
   ]
  },
  {
   "cell_type": "code",
   "execution_count": 76,
   "metadata": {},
   "outputs": [
    {
     "name": "stdout",
     "output_type": "stream",
     "text": [
      "Progeres: 100%  18629 Out of 18629   \r"
     ]
    }
   ],
   "source": [
    "uf.createDownAttributeSetLib(tertiary_matrix, path, name)"
   ]
  },
  {
   "cell_type": "markdown",
   "metadata": {},
   "source": [
    "# Create Attribute Similarity matrix"
   ]
  },
  {
   "cell_type": "code",
   "execution_count": 79,
   "metadata": {
    "collapsed": true
   },
   "outputs": [],
   "source": [
    "attribute_similarity_matix = uf.createSimilarityMatrix(normalized_matrix.T, 'cosine')"
   ]
  },
  {
   "cell_type": "code",
   "execution_count": 80,
   "metadata": {},
   "outputs": [
    {
     "data": {
      "text/html": [
       "<div>\n",
       "<style scoped>\n",
       "    .dataframe tbody tr th:only-of-type {\n",
       "        vertical-align: middle;\n",
       "    }\n",
       "\n",
       "    .dataframe tbody tr th {\n",
       "        vertical-align: top;\n",
       "    }\n",
       "\n",
       "    .dataframe thead th {\n",
       "        text-align: right;\n",
       "    }\n",
       "</style>\n",
       "<table border=\"1\" class=\"dataframe\">\n",
       "  <thead>\n",
       "    <tr style=\"text-align: right;\">\n",
       "      <th></th>\n",
       "      <th>Crus I, right, lateral hemisphere</th>\n",
       "      <th>Crus II, left, lateral hemisphere</th>\n",
       "      <th>IV, right, paravermis</th>\n",
       "      <th>IX, right, paravermis</th>\n",
       "      <th>VI, left, lateral hemisphere</th>\n",
       "      <th>VIIB, left, paravermis</th>\n",
       "      <th>VIIIA, left, lateral hemisphere</th>\n",
       "      <th>VIIIA, right, lateral hemisphere</th>\n",
       "      <th>angular gyrus, left, inferior bank of gyrus</th>\n",
       "      <th>angular gyrus, left, superior bank of gyrus</th>\n",
       "      <th>...</th>\n",
       "      <th>superior frontal gyrus, right, medial bank of gyrus</th>\n",
       "      <th>superior parietal lobule, left, inferior bank of gyrus</th>\n",
       "      <th>superior parietal lobule, left, superior bank of gyrus</th>\n",
       "      <th>superior parietal lobule, right, superior bank of gyrus</th>\n",
       "      <th>superior temporal gyrus, left, inferior bank of gyrus</th>\n",
       "      <th>superior temporal gyrus, left, lateral bank of gyrus</th>\n",
       "      <th>superior temporal gyrus, right, inferior bank of gyrus</th>\n",
       "      <th>superior temporal gyrus, right, lateral bank of gyrus</th>\n",
       "      <th>supramarginal gyrus, left, inferior bank of gyrus</th>\n",
       "      <th>supramarginal gyrus, right, inferior bank of gyrus</th>\n",
       "    </tr>\n",
       "    <tr>\n",
       "      <th></th>\n",
       "      <th></th>\n",
       "      <th></th>\n",
       "      <th></th>\n",
       "      <th></th>\n",
       "      <th></th>\n",
       "      <th></th>\n",
       "      <th></th>\n",
       "      <th></th>\n",
       "      <th></th>\n",
       "      <th></th>\n",
       "      <th></th>\n",
       "      <th></th>\n",
       "      <th></th>\n",
       "      <th></th>\n",
       "      <th></th>\n",
       "      <th></th>\n",
       "      <th></th>\n",
       "      <th></th>\n",
       "      <th></th>\n",
       "      <th></th>\n",
       "      <th></th>\n",
       "    </tr>\n",
       "  </thead>\n",
       "  <tbody>\n",
       "    <tr>\n",
       "      <th>Crus I, right, lateral hemisphere</th>\n",
       "      <td>1.000000</td>\n",
       "      <td>0.778314</td>\n",
       "      <td>0.792658</td>\n",
       "      <td>0.779113</td>\n",
       "      <td>0.770540</td>\n",
       "      <td>0.749347</td>\n",
       "      <td>0.797980</td>\n",
       "      <td>0.779582</td>\n",
       "      <td>-0.078452</td>\n",
       "      <td>-0.067092</td>\n",
       "      <td>...</td>\n",
       "      <td>-0.116601</td>\n",
       "      <td>0.054818</td>\n",
       "      <td>0.012222</td>\n",
       "      <td>-0.017737</td>\n",
       "      <td>-0.074561</td>\n",
       "      <td>-0.115804</td>\n",
       "      <td>-0.056004</td>\n",
       "      <td>-0.043144</td>\n",
       "      <td>-0.168090</td>\n",
       "      <td>-0.126851</td>\n",
       "    </tr>\n",
       "    <tr>\n",
       "      <th>Crus II, left, lateral hemisphere</th>\n",
       "      <td>0.778314</td>\n",
       "      <td>1.000000</td>\n",
       "      <td>0.825358</td>\n",
       "      <td>0.764161</td>\n",
       "      <td>0.771405</td>\n",
       "      <td>0.801522</td>\n",
       "      <td>0.765829</td>\n",
       "      <td>0.815646</td>\n",
       "      <td>-0.070912</td>\n",
       "      <td>-0.078771</td>\n",
       "      <td>...</td>\n",
       "      <td>-0.144301</td>\n",
       "      <td>0.002575</td>\n",
       "      <td>0.042688</td>\n",
       "      <td>-0.037377</td>\n",
       "      <td>-0.060917</td>\n",
       "      <td>-0.051392</td>\n",
       "      <td>-0.037267</td>\n",
       "      <td>-0.029842</td>\n",
       "      <td>-0.151339</td>\n",
       "      <td>-0.072518</td>\n",
       "    </tr>\n",
       "    <tr>\n",
       "      <th>IV, right, paravermis</th>\n",
       "      <td>0.792658</td>\n",
       "      <td>0.825358</td>\n",
       "      <td>1.000000</td>\n",
       "      <td>0.784684</td>\n",
       "      <td>0.783531</td>\n",
       "      <td>0.815790</td>\n",
       "      <td>0.780313</td>\n",
       "      <td>0.847876</td>\n",
       "      <td>-0.082588</td>\n",
       "      <td>-0.071025</td>\n",
       "      <td>...</td>\n",
       "      <td>-0.141306</td>\n",
       "      <td>0.026376</td>\n",
       "      <td>0.028358</td>\n",
       "      <td>-0.013534</td>\n",
       "      <td>-0.084488</td>\n",
       "      <td>-0.062059</td>\n",
       "      <td>-0.034334</td>\n",
       "      <td>-0.052828</td>\n",
       "      <td>-0.159515</td>\n",
       "      <td>-0.093263</td>\n",
       "    </tr>\n",
       "    <tr>\n",
       "      <th>IX, right, paravermis</th>\n",
       "      <td>0.779113</td>\n",
       "      <td>0.764161</td>\n",
       "      <td>0.784684</td>\n",
       "      <td>1.000000</td>\n",
       "      <td>0.769564</td>\n",
       "      <td>0.747672</td>\n",
       "      <td>0.775364</td>\n",
       "      <td>0.759839</td>\n",
       "      <td>-0.073661</td>\n",
       "      <td>-0.062164</td>\n",
       "      <td>...</td>\n",
       "      <td>-0.106256</td>\n",
       "      <td>0.054005</td>\n",
       "      <td>0.003930</td>\n",
       "      <td>-0.018243</td>\n",
       "      <td>-0.063789</td>\n",
       "      <td>-0.097310</td>\n",
       "      <td>-0.038547</td>\n",
       "      <td>-0.040280</td>\n",
       "      <td>-0.139792</td>\n",
       "      <td>-0.090303</td>\n",
       "    </tr>\n",
       "    <tr>\n",
       "      <th>VI, left, lateral hemisphere</th>\n",
       "      <td>0.770540</td>\n",
       "      <td>0.771405</td>\n",
       "      <td>0.783531</td>\n",
       "      <td>0.769564</td>\n",
       "      <td>1.000000</td>\n",
       "      <td>0.732916</td>\n",
       "      <td>0.783190</td>\n",
       "      <td>0.766198</td>\n",
       "      <td>-0.047577</td>\n",
       "      <td>-0.035069</td>\n",
       "      <td>...</td>\n",
       "      <td>-0.132055</td>\n",
       "      <td>-0.005788</td>\n",
       "      <td>-0.007218</td>\n",
       "      <td>-0.036181</td>\n",
       "      <td>-0.016953</td>\n",
       "      <td>-0.043132</td>\n",
       "      <td>-0.029235</td>\n",
       "      <td>-0.017191</td>\n",
       "      <td>-0.117329</td>\n",
       "      <td>-0.063795</td>\n",
       "    </tr>\n",
       "  </tbody>\n",
       "</table>\n",
       "<p>5 rows × 100 columns</p>\n",
       "</div>"
      ],
      "text/plain": [
       "                                   Crus I, right, lateral hemisphere  \\\n",
       "                                                                       \n",
       "Crus I, right, lateral hemisphere                           1.000000   \n",
       "Crus II, left, lateral hemisphere                           0.778314   \n",
       "IV, right, paravermis                                       0.792658   \n",
       "IX, right, paravermis                                       0.779113   \n",
       "VI, left, lateral hemisphere                                0.770540   \n",
       "\n",
       "                                   Crus II, left, lateral hemisphere  \\\n",
       "                                                                       \n",
       "Crus I, right, lateral hemisphere                           0.778314   \n",
       "Crus II, left, lateral hemisphere                           1.000000   \n",
       "IV, right, paravermis                                       0.825358   \n",
       "IX, right, paravermis                                       0.764161   \n",
       "VI, left, lateral hemisphere                                0.771405   \n",
       "\n",
       "                                   IV, right, paravermis  \\\n",
       "                                                           \n",
       "Crus I, right, lateral hemisphere               0.792658   \n",
       "Crus II, left, lateral hemisphere               0.825358   \n",
       "IV, right, paravermis                           1.000000   \n",
       "IX, right, paravermis                           0.784684   \n",
       "VI, left, lateral hemisphere                    0.783531   \n",
       "\n",
       "                                   IX, right, paravermis  \\\n",
       "                                                           \n",
       "Crus I, right, lateral hemisphere               0.779113   \n",
       "Crus II, left, lateral hemisphere               0.764161   \n",
       "IV, right, paravermis                           0.784684   \n",
       "IX, right, paravermis                           1.000000   \n",
       "VI, left, lateral hemisphere                    0.769564   \n",
       "\n",
       "                                   VI, left, lateral hemisphere  \\\n",
       "                                                                  \n",
       "Crus I, right, lateral hemisphere                      0.770540   \n",
       "Crus II, left, lateral hemisphere                      0.771405   \n",
       "IV, right, paravermis                                  0.783531   \n",
       "IX, right, paravermis                                  0.769564   \n",
       "VI, left, lateral hemisphere                           1.000000   \n",
       "\n",
       "                                   VIIB, left, paravermis  \\\n",
       "                                                            \n",
       "Crus I, right, lateral hemisphere                0.749347   \n",
       "Crus II, left, lateral hemisphere                0.801522   \n",
       "IV, right, paravermis                            0.815790   \n",
       "IX, right, paravermis                            0.747672   \n",
       "VI, left, lateral hemisphere                     0.732916   \n",
       "\n",
       "                                   VIIIA, left, lateral hemisphere  \\\n",
       "                                                                     \n",
       "Crus I, right, lateral hemisphere                         0.797980   \n",
       "Crus II, left, lateral hemisphere                         0.765829   \n",
       "IV, right, paravermis                                     0.780313   \n",
       "IX, right, paravermis                                     0.775364   \n",
       "VI, left, lateral hemisphere                              0.783190   \n",
       "\n",
       "                                   VIIIA, right, lateral hemisphere  \\\n",
       "                                                                      \n",
       "Crus I, right, lateral hemisphere                          0.779582   \n",
       "Crus II, left, lateral hemisphere                          0.815646   \n",
       "IV, right, paravermis                                      0.847876   \n",
       "IX, right, paravermis                                      0.759839   \n",
       "VI, left, lateral hemisphere                               0.766198   \n",
       "\n",
       "                                   angular gyrus, left, inferior bank of gyrus  \\\n",
       "                                                                                 \n",
       "Crus I, right, lateral hemisphere                                    -0.078452   \n",
       "Crus II, left, lateral hemisphere                                    -0.070912   \n",
       "IV, right, paravermis                                                -0.082588   \n",
       "IX, right, paravermis                                                -0.073661   \n",
       "VI, left, lateral hemisphere                                         -0.047577   \n",
       "\n",
       "                                   angular gyrus, left, superior bank of gyrus  \\\n",
       "                                                                                 \n",
       "Crus I, right, lateral hemisphere                                    -0.067092   \n",
       "Crus II, left, lateral hemisphere                                    -0.078771   \n",
       "IV, right, paravermis                                                -0.071025   \n",
       "IX, right, paravermis                                                -0.062164   \n",
       "VI, left, lateral hemisphere                                         -0.035069   \n",
       "\n",
       "                                                          ...                          \\\n",
       "                                                          ...                           \n",
       "Crus I, right, lateral hemisphere                         ...                           \n",
       "Crus II, left, lateral hemisphere                         ...                           \n",
       "IV, right, paravermis                                     ...                           \n",
       "IX, right, paravermis                                     ...                           \n",
       "VI, left, lateral hemisphere                              ...                           \n",
       "\n",
       "                                   superior frontal gyrus, right, medial bank of gyrus  \\\n",
       "                                                                                         \n",
       "Crus I, right, lateral hemisphere                                          -0.116601     \n",
       "Crus II, left, lateral hemisphere                                          -0.144301     \n",
       "IV, right, paravermis                                                      -0.141306     \n",
       "IX, right, paravermis                                                      -0.106256     \n",
       "VI, left, lateral hemisphere                                               -0.132055     \n",
       "\n",
       "                                   superior parietal lobule, left, inferior bank of gyrus  \\\n",
       "                                                                                            \n",
       "Crus I, right, lateral hemisphere                                           0.054818        \n",
       "Crus II, left, lateral hemisphere                                           0.002575        \n",
       "IV, right, paravermis                                                       0.026376        \n",
       "IX, right, paravermis                                                       0.054005        \n",
       "VI, left, lateral hemisphere                                               -0.005788        \n",
       "\n",
       "                                   superior parietal lobule, left, superior bank of gyrus  \\\n",
       "                                                                                            \n",
       "Crus I, right, lateral hemisphere                                           0.012222        \n",
       "Crus II, left, lateral hemisphere                                           0.042688        \n",
       "IV, right, paravermis                                                       0.028358        \n",
       "IX, right, paravermis                                                       0.003930        \n",
       "VI, left, lateral hemisphere                                               -0.007218        \n",
       "\n",
       "                                   superior parietal lobule, right, superior bank of gyrus  \\\n",
       "                                                                                             \n",
       "Crus I, right, lateral hemisphere                                          -0.017737         \n",
       "Crus II, left, lateral hemisphere                                          -0.037377         \n",
       "IV, right, paravermis                                                      -0.013534         \n",
       "IX, right, paravermis                                                      -0.018243         \n",
       "VI, left, lateral hemisphere                                               -0.036181         \n",
       "\n",
       "                                   superior temporal gyrus, left, inferior bank of gyrus  \\\n",
       "                                                                                           \n",
       "Crus I, right, lateral hemisphere                                          -0.074561       \n",
       "Crus II, left, lateral hemisphere                                          -0.060917       \n",
       "IV, right, paravermis                                                      -0.084488       \n",
       "IX, right, paravermis                                                      -0.063789       \n",
       "VI, left, lateral hemisphere                                               -0.016953       \n",
       "\n",
       "                                   superior temporal gyrus, left, lateral bank of gyrus  \\\n",
       "                                                                                          \n",
       "Crus I, right, lateral hemisphere                                          -0.115804      \n",
       "Crus II, left, lateral hemisphere                                          -0.051392      \n",
       "IV, right, paravermis                                                      -0.062059      \n",
       "IX, right, paravermis                                                      -0.097310      \n",
       "VI, left, lateral hemisphere                                               -0.043132      \n",
       "\n",
       "                                   superior temporal gyrus, right, inferior bank of gyrus  \\\n",
       "                                                                                            \n",
       "Crus I, right, lateral hemisphere                                          -0.056004        \n",
       "Crus II, left, lateral hemisphere                                          -0.037267        \n",
       "IV, right, paravermis                                                      -0.034334        \n",
       "IX, right, paravermis                                                      -0.038547        \n",
       "VI, left, lateral hemisphere                                               -0.029235        \n",
       "\n",
       "                                   superior temporal gyrus, right, lateral bank of gyrus  \\\n",
       "                                                                                           \n",
       "Crus I, right, lateral hemisphere                                          -0.043144       \n",
       "Crus II, left, lateral hemisphere                                          -0.029842       \n",
       "IV, right, paravermis                                                      -0.052828       \n",
       "IX, right, paravermis                                                      -0.040280       \n",
       "VI, left, lateral hemisphere                                               -0.017191       \n",
       "\n",
       "                                   supramarginal gyrus, left, inferior bank of gyrus  \\\n",
       "                                                                                       \n",
       "Crus I, right, lateral hemisphere                                          -0.168090   \n",
       "Crus II, left, lateral hemisphere                                          -0.151339   \n",
       "IV, right, paravermis                                                      -0.159515   \n",
       "IX, right, paravermis                                                      -0.139792   \n",
       "VI, left, lateral hemisphere                                               -0.117329   \n",
       "\n",
       "                                   supramarginal gyrus, right, inferior bank of gyrus  \n",
       "                                                                                       \n",
       "Crus I, right, lateral hemisphere                                          -0.126851   \n",
       "Crus II, left, lateral hemisphere                                          -0.072518   \n",
       "IV, right, paravermis                                                      -0.093263   \n",
       "IX, right, paravermis                                                      -0.090303   \n",
       "VI, left, lateral hemisphere                                               -0.063795   \n",
       "\n",
       "[5 rows x 100 columns]"
      ]
     },
     "execution_count": 80,
     "metadata": {},
     "output_type": "execute_result"
    }
   ],
   "source": [
    "attribute_similarity_matix.head()"
   ]
  },
  {
   "cell_type": "markdown",
   "metadata": {},
   "source": [
    "# Save Attribute Similarity Matrix"
   ]
  },
  {
   "cell_type": "code",
   "execution_count": 81,
   "metadata": {
    "collapsed": true
   },
   "outputs": [],
   "source": [
    "filename = 'Output/aba_brain_attribute_similarity_matix_%s.tsv.zip'% str(datetime.date.today())[0:7].replace('-', '_')\n",
    "attribute_similarity_matix.to_csv(filename, sep='\\t', compression='gzip')"
   ]
  },
  {
   "cell_type": "code",
   "execution_count": 82,
   "metadata": {},
   "outputs": [
    {
     "name": "stderr",
     "output_type": "stream",
     "text": [
      "Widget Javascript not detected.  It may not be installed or enabled properly.\n"
     ]
    },
    {
     "data": {
      "application/vnd.jupyter.widget-view+json": {
       "model_id": "22dfbb492a214dc39ad6883b7fa906af"
      }
     },
     "metadata": {},
     "output_type": "display_data"
    }
   ],
   "source": [
    "net.load_df(attribute_similarity_matix.iloc[:,:].copy())\n",
    "# net.filter_N_top('row', rank_type='sum', N_top=300)\n",
    "net.cluster()\n",
    "net.widget()"
   ]
  },
  {
   "cell_type": "markdown",
   "metadata": {},
   "source": [
    "# Create Gene Similarity Matrix"
   ]
  },
  {
   "cell_type": "code",
   "execution_count": 83,
   "metadata": {
    "collapsed": true
   },
   "outputs": [],
   "source": [
    "gene_similarity_matix = uf.createSimilarityMatrix(normalized_matrix, 'cosine')"
   ]
  },
  {
   "cell_type": "code",
   "execution_count": 84,
   "metadata": {},
   "outputs": [
    {
     "data": {
      "text/html": [
       "<div>\n",
       "<style scoped>\n",
       "    .dataframe tbody tr th:only-of-type {\n",
       "        vertical-align: middle;\n",
       "    }\n",
       "\n",
       "    .dataframe tbody tr th {\n",
       "        vertical-align: top;\n",
       "    }\n",
       "\n",
       "    .dataframe thead th {\n",
       "        text-align: right;\n",
       "    }\n",
       "</style>\n",
       "<table border=\"1\" class=\"dataframe\">\n",
       "  <thead>\n",
       "    <tr style=\"text-align: right;\">\n",
       "      <th></th>\n",
       "      <th>A1BG</th>\n",
       "      <th>A1BG-AS1</th>\n",
       "      <th>A1CF</th>\n",
       "      <th>A2M</th>\n",
       "      <th>A2ML1</th>\n",
       "      <th>A4GALT</th>\n",
       "      <th>A4GNT</th>\n",
       "      <th>AAAS</th>\n",
       "      <th>AACS</th>\n",
       "      <th>AACSP1</th>\n",
       "      <th>...</th>\n",
       "      <th>ZWILCH</th>\n",
       "      <th>ZWINT</th>\n",
       "      <th>ZXDA</th>\n",
       "      <th>ZXDB</th>\n",
       "      <th>ZXDC</th>\n",
       "      <th>ZYG11A</th>\n",
       "      <th>ZYG11B</th>\n",
       "      <th>ZYX</th>\n",
       "      <th>ZZEF1</th>\n",
       "      <th>ZZZ3</th>\n",
       "    </tr>\n",
       "    <tr>\n",
       "      <th></th>\n",
       "      <th></th>\n",
       "      <th></th>\n",
       "      <th></th>\n",
       "      <th></th>\n",
       "      <th></th>\n",
       "      <th></th>\n",
       "      <th></th>\n",
       "      <th></th>\n",
       "      <th></th>\n",
       "      <th></th>\n",
       "      <th></th>\n",
       "      <th></th>\n",
       "      <th></th>\n",
       "      <th></th>\n",
       "      <th></th>\n",
       "      <th></th>\n",
       "      <th></th>\n",
       "      <th></th>\n",
       "      <th></th>\n",
       "      <th></th>\n",
       "      <th></th>\n",
       "    </tr>\n",
       "  </thead>\n",
       "  <tbody>\n",
       "    <tr>\n",
       "      <th>A1BG</th>\n",
       "      <td>1.000000</td>\n",
       "      <td>-0.342883</td>\n",
       "      <td>-0.137559</td>\n",
       "      <td>0.291290</td>\n",
       "      <td>0.161037</td>\n",
       "      <td>0.310286</td>\n",
       "      <td>0.049806</td>\n",
       "      <td>0.287478</td>\n",
       "      <td>-0.260180</td>\n",
       "      <td>-0.081023</td>\n",
       "      <td>...</td>\n",
       "      <td>-0.512385</td>\n",
       "      <td>0.057276</td>\n",
       "      <td>-0.135240</td>\n",
       "      <td>-0.472685</td>\n",
       "      <td>0.073003</td>\n",
       "      <td>-0.068470</td>\n",
       "      <td>-0.463751</td>\n",
       "      <td>-0.294840</td>\n",
       "      <td>0.170540</td>\n",
       "      <td>0.288265</td>\n",
       "    </tr>\n",
       "    <tr>\n",
       "      <th>A1BG-AS1</th>\n",
       "      <td>-0.342883</td>\n",
       "      <td>1.000000</td>\n",
       "      <td>0.234475</td>\n",
       "      <td>-0.693921</td>\n",
       "      <td>-0.321973</td>\n",
       "      <td>-0.509224</td>\n",
       "      <td>0.140274</td>\n",
       "      <td>-0.390250</td>\n",
       "      <td>0.657398</td>\n",
       "      <td>0.235363</td>\n",
       "      <td>...</td>\n",
       "      <td>0.690354</td>\n",
       "      <td>0.353552</td>\n",
       "      <td>-0.232642</td>\n",
       "      <td>0.431680</td>\n",
       "      <td>-0.264469</td>\n",
       "      <td>0.062877</td>\n",
       "      <td>0.635560</td>\n",
       "      <td>0.499914</td>\n",
       "      <td>-0.082499</td>\n",
       "      <td>-0.579526</td>\n",
       "    </tr>\n",
       "    <tr>\n",
       "      <th>A1CF</th>\n",
       "      <td>-0.137559</td>\n",
       "      <td>0.234475</td>\n",
       "      <td>1.000000</td>\n",
       "      <td>-0.474102</td>\n",
       "      <td>-0.625239</td>\n",
       "      <td>-0.528976</td>\n",
       "      <td>0.002461</td>\n",
       "      <td>0.203840</td>\n",
       "      <td>-0.293207</td>\n",
       "      <td>-0.425337</td>\n",
       "      <td>...</td>\n",
       "      <td>0.240531</td>\n",
       "      <td>-0.440615</td>\n",
       "      <td>0.560966</td>\n",
       "      <td>0.556571</td>\n",
       "      <td>0.585660</td>\n",
       "      <td>0.601953</td>\n",
       "      <td>0.359816</td>\n",
       "      <td>0.248168</td>\n",
       "      <td>0.600464</td>\n",
       "      <td>-0.081331</td>\n",
       "    </tr>\n",
       "    <tr>\n",
       "      <th>A2M</th>\n",
       "      <td>0.291290</td>\n",
       "      <td>-0.693921</td>\n",
       "      <td>-0.474102</td>\n",
       "      <td>1.000000</td>\n",
       "      <td>0.519521</td>\n",
       "      <td>0.823891</td>\n",
       "      <td>-0.028206</td>\n",
       "      <td>0.340544</td>\n",
       "      <td>-0.376534</td>\n",
       "      <td>0.115265</td>\n",
       "      <td>...</td>\n",
       "      <td>-0.798006</td>\n",
       "      <td>-0.003872</td>\n",
       "      <td>-0.226837</td>\n",
       "      <td>-0.716884</td>\n",
       "      <td>-0.112496</td>\n",
       "      <td>-0.311834</td>\n",
       "      <td>-0.791688</td>\n",
       "      <td>-0.327352</td>\n",
       "      <td>-0.224270</td>\n",
       "      <td>0.346273</td>\n",
       "    </tr>\n",
       "    <tr>\n",
       "      <th>A2ML1</th>\n",
       "      <td>0.161037</td>\n",
       "      <td>-0.321973</td>\n",
       "      <td>-0.625239</td>\n",
       "      <td>0.519521</td>\n",
       "      <td>1.000000</td>\n",
       "      <td>0.601655</td>\n",
       "      <td>0.015559</td>\n",
       "      <td>-0.141567</td>\n",
       "      <td>0.154063</td>\n",
       "      <td>0.253178</td>\n",
       "      <td>...</td>\n",
       "      <td>-0.334900</td>\n",
       "      <td>0.347862</td>\n",
       "      <td>-0.386271</td>\n",
       "      <td>-0.658250</td>\n",
       "      <td>-0.438606</td>\n",
       "      <td>-0.616953</td>\n",
       "      <td>-0.453238</td>\n",
       "      <td>-0.507369</td>\n",
       "      <td>-0.641301</td>\n",
       "      <td>0.167888</td>\n",
       "    </tr>\n",
       "  </tbody>\n",
       "</table>\n",
       "<p>5 rows × 18629 columns</p>\n",
       "</div>"
      ],
      "text/plain": [
       "              A1BG  A1BG-AS1      A1CF       A2M     A2ML1    A4GALT  \\\n",
       "                                                                       \n",
       "A1BG      1.000000 -0.342883 -0.137559  0.291290  0.161037  0.310286   \n",
       "A1BG-AS1 -0.342883  1.000000  0.234475 -0.693921 -0.321973 -0.509224   \n",
       "A1CF     -0.137559  0.234475  1.000000 -0.474102 -0.625239 -0.528976   \n",
       "A2M       0.291290 -0.693921 -0.474102  1.000000  0.519521  0.823891   \n",
       "A2ML1     0.161037 -0.321973 -0.625239  0.519521  1.000000  0.601655   \n",
       "\n",
       "             A4GNT      AAAS      AACS    AACSP1    ...       ZWILCH  \\\n",
       "                                                    ...                \n",
       "A1BG      0.049806  0.287478 -0.260180 -0.081023    ...    -0.512385   \n",
       "A1BG-AS1  0.140274 -0.390250  0.657398  0.235363    ...     0.690354   \n",
       "A1CF      0.002461  0.203840 -0.293207 -0.425337    ...     0.240531   \n",
       "A2M      -0.028206  0.340544 -0.376534  0.115265    ...    -0.798006   \n",
       "A2ML1     0.015559 -0.141567  0.154063  0.253178    ...    -0.334900   \n",
       "\n",
       "             ZWINT      ZXDA      ZXDB      ZXDC    ZYG11A    ZYG11B  \\\n",
       "                                                                       \n",
       "A1BG      0.057276 -0.135240 -0.472685  0.073003 -0.068470 -0.463751   \n",
       "A1BG-AS1  0.353552 -0.232642  0.431680 -0.264469  0.062877  0.635560   \n",
       "A1CF     -0.440615  0.560966  0.556571  0.585660  0.601953  0.359816   \n",
       "A2M      -0.003872 -0.226837 -0.716884 -0.112496 -0.311834 -0.791688   \n",
       "A2ML1     0.347862 -0.386271 -0.658250 -0.438606 -0.616953 -0.453238   \n",
       "\n",
       "               ZYX     ZZEF1      ZZZ3  \n",
       "                                        \n",
       "A1BG     -0.294840  0.170540  0.288265  \n",
       "A1BG-AS1  0.499914 -0.082499 -0.579526  \n",
       "A1CF      0.248168  0.600464 -0.081331  \n",
       "A2M      -0.327352 -0.224270  0.346273  \n",
       "A2ML1    -0.507369 -0.641301  0.167888  \n",
       "\n",
       "[5 rows x 18629 columns]"
      ]
     },
     "execution_count": 84,
     "metadata": {},
     "output_type": "execute_result"
    }
   ],
   "source": [
    "gene_similarity_matix.head()"
   ]
  },
  {
   "cell_type": "markdown",
   "metadata": {},
   "source": [
    "# Save Gene Similarity Matrix"
   ]
  },
  {
   "cell_type": "code",
   "execution_count": 85,
   "metadata": {
    "collapsed": true
   },
   "outputs": [],
   "source": [
    "filename = 'Output/aba_brain_gene_similarity_matix_%s.tsv.zip'% str(datetime.date.today())[0:7].replace('-', '_')\n",
    "gene_similarity_matix.to_csv(filename, sep='\\t', compression='gzip')"
   ]
  },
  {
   "cell_type": "markdown",
   "metadata": {},
   "source": [
    "# Create Gene-Attribute Edge List"
   ]
  },
  {
   "cell_type": "code",
   "execution_count": 86,
   "metadata": {
    "collapsed": true
   },
   "outputs": [],
   "source": [
    "path = '/Users/moshesilverstein/Documents/Harmonizome/Allen Brain Atlas/BRAIN/Output/'"
   ]
  },
  {
   "cell_type": "code",
   "execution_count": 87,
   "metadata": {
    "collapsed": true
   },
   "outputs": [],
   "source": [
    "name = 'aba_brain_gene_attribute_edge_list'"
   ]
  },
  {
   "cell_type": "code",
   "execution_count": 88,
   "metadata": {},
   "outputs": [
    {
     "name": "stdout",
     "output_type": "stream",
     "text": [
      "Progeres: 100%  100 Out of 100   \n",
      "\n",
      " The number of statisticaly relevent gene-attribute associations is: 92925\n"
     ]
    }
   ],
   "source": [
    "uf.createGeneAttributeEdgeList(standard_matrix, attribute_list, gene_list, path, name)"
   ]
  }
 ],
 "metadata": {
  "kernelspec": {
   "display_name": "Python 3.8.0 64-bit ('harmonizome': venv)",
   "language": "python",
   "name": "python38064bitharmonizomevenve1fd62c035f347dbaffce382c9034785"
  },
  "language_info": {
   "codemirror_mode": {
    "name": "ipython",
    "version": 3
   },
   "file_extension": ".py",
   "mimetype": "text/x-python",
   "name": "python",
   "nbconvert_exporter": "python",
   "pygments_lexer": "ipython3",
   "version": "3.8.0-final"
  }
 },
 "nbformat": 4,
 "nbformat_minor": 2
}