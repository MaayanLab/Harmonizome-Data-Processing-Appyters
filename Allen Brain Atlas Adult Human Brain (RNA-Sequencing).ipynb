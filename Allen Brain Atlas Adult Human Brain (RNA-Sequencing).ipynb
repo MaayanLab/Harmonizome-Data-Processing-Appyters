{
 "cells": [
  {
   "cell_type": "markdown",
   "metadata": {},
   "source": [
    "# Allen Brain Atlas Adult Human Brain (RNA-Sequencing)"
   ]
  },
  {
   "cell_type": "markdown",
   "metadata": {},
   "source": [
    "Author: Moshe Silverstein <br/>\n",
    "Date: 5-17 <br/>\n",
    "Data Source: http://human.brain-map.org/static/download"
   ]
  },
  {
   "cell_type": "code",
   "execution_count": 1,
   "metadata": {},
   "outputs": [],
   "source": [
    "#%%appyter init\n",
    "from appyter import magic\n",
    "magic.init(lambda _ = globals: _())"
   ]
  },
  {
   "cell_type": "code",
   "execution_count": 2,
   "metadata": {},
   "outputs": [],
   "source": [
    "import sys, datetime\n",
    "import os\n",
    "import re\n",
    "\n",
    "import numpy as np\n",
    "import pandas as pd\n",
    "import importlib\n",
    "import utility_functions as uf\n",
    "import matplotlib.pyplot as plt\n",
    "%matplotlib inline"
   ]
  },
  {
   "cell_type": "code",
   "execution_count": 3,
   "metadata": {
    "collapsed": true
   },
   "outputs": [],
   "source": [
    "#from clustergrammer_widget import *\n",
    "#net = Network(clustergrammer_widget)\n",
    "\n",
    "\n",
    "from IPython.core.display import clear_output"
   ]
  },
  {
   "cell_type": "code",
   "execution_count": 4,
   "metadata": {},
   "outputs": [
    {
     "output_type": "execute_result",
     "data": {
      "text/plain": "<module 'utility_functions' from '/home/charlesdai/Projects/Harmonizome-Data-Processing-Appyters/data/00000000-0000-0000-0000-000000000000/utility_functions.py'>"
     },
     "metadata": {},
     "execution_count": 4
    }
   ],
   "source": [
    "importlib.reload(uf)"
   ]
  },
  {
   "cell_type": "markdown",
   "metadata": {},
   "source": [
    "# Versions Of Modules In Use"
   ]
  },
  {
   "cell_type": "code",
   "execution_count": 5,
   "metadata": {},
   "outputs": [],
   "source": [
    "#%load_ext version_information\n",
    "#%version_information numpy, pandas, clustergrammer_widget"
   ]
  },
  {
   "cell_type": "markdown",
   "metadata": {},
   "source": [
    "# Functions"
   ]
  },
  {
   "cell_type": "code",
   "execution_count": 6,
   "metadata": {
    "collapsed": true
   },
   "outputs": [],
   "source": [
    "def mapSampleData(inputDF, sampleMetaDF, Ontology):\n",
    "    \n",
    "    lst = []\n",
    "\n",
    "    for index in sampleMetaDF.index:\n",
    "        structure = sampleMetaDF.loc[index, 'ontology_structure_id']\n",
    "        hemisphere = sampleMetaDF.loc[index, 'hemisphere']\n",
    "        if type(Ontology.loc[structure, 'name']) == str:\n",
    "            lst.append(str(Ontology.loc[structure, 'name']))\n",
    "        else:\n",
    "            for struc in Ontology.loc[structure, ['name', 'hemisphere']].values:\n",
    "                if struc[1] == hemisphere:\n",
    "                    lst.append(str(struc[0]))\n",
    "\n",
    "    inputDF.columns  = lst"
   ]
  },
  {
   "cell_type": "code",
   "execution_count": null,
   "metadata": {},
   "outputs": [],
   "source": [
    "%%appyter hide_code\n",
    "{% do SectionField(\n",
    "    name = 'donor9861',\n",
    "    title = 'Donor 9861 Data',\n",
    "    subtitle = 'Upload files from Donor 9861.',\n",
    ") %}\n",
    "\n",
    "{% do SectionField(\n",
    "    name = 'donor10021',\n",
    "    title = 'Donor 10021 Data',\n",
    "    subtitle = 'Upload files from Donor 10021.',\n",
    ") %}"
   ]
  },
  {
   "cell_type": "markdown",
   "metadata": {},
   "source": [
    "# Donor 9861"
   ]
  },
  {
   "cell_type": "markdown",
   "metadata": {},
   "source": [
    "# Load Data"
   ]
  },
  {
   "cell_type": "code",
   "execution_count": 29,
   "metadata": {
    "collapsed": true
   },
   "outputs": [
    {
     "output_type": "display_data",
     "data": {
      "text/plain": "<IPython.core.display.Markdown object>",
      "text/markdown": "```python\n\nmatrix_9861 = pd.read_csv('Input/rnaseq_donor9861/RNAseqCounts.csv', sep=',', header=None, index_col=0)\n```"
     },
     "metadata": {}
    }
   ],
   "source": [
    "%%appyter code_exec\n",
    "\n",
    "matrix_9861 = pd.read_csv({{FileField(\n",
    "    constraint='.*\\\\.csv$',\n",
    "    name='donor9861-RNAseqCounts', \n",
    "    label='RNAseq Counts', \n",
    "    default='Input/rnaseq_donor9861/RNAseqCounts.csv',\n",
    "    section='donor9861')\n",
    "}}, sep=',', header=None, index_col=0)"
   ]
  },
  {
   "cell_type": "code",
   "execution_count": 19,
   "metadata": {},
   "outputs": [
    {
     "output_type": "execute_result",
     "data": {
      "text/plain": "              1        2        3       4        5        6        7    \\\n0                                                                        \nA1BG        50.72    73.58    43.15   35.03    67.32    54.00    62.43   \nA1BG-AS1   101.17   136.09    84.37   55.95    90.35    26.51    98.79   \nA1CF         3.13     3.01     5.88    1.00     4.73     2.00     1.02   \nA2LD1       26.84    66.72    49.18   24.41    37.27    35.56    39.78   \nA2M       1871.00  3411.51  2728.97  948.97  3011.94  2361.58  2359.99   \n\n              8        9        10   ...      112      113      114      115  \\\n0                                    ...                                       \nA1BG        51.94    16.43    67.67  ...    38.00    52.59    53.89    48.86   \nA1BG-AS1    69.80    24.87    65.49  ...   102.45    81.88    92.86    86.10   \nA1CF         0.00     0.00     2.00  ...     9.94     8.84     7.94     9.31   \nA2LD1       22.90    10.47    30.84  ...    30.81    28.07    25.69    15.37   \nA2M       3300.98  1676.99  2781.99  ...  1812.89  2628.93  1573.98  1935.88   \n\n              116      117      118      119      120      121  \n0                                                               \nA1BG        81.00    64.00   226.74   128.86   214.95    95.85  \nA1BG-AS1    36.33    44.25    40.36    24.97    14.68    20.69  \nA1CF         3.00     0.00     1.99     5.00     1.01     1.99  \nA2LD1       39.57    44.70    83.19    86.93    61.43    70.41  \nA2M       4892.97  4506.99  6336.45  6727.81  5459.27  8036.99  \n\n[5 rows x 121 columns]",
      "text/html": "<div>\n<style scoped>\n    .dataframe tbody tr th:only-of-type {\n        vertical-align: middle;\n    }\n\n    .dataframe tbody tr th {\n        vertical-align: top;\n    }\n\n    .dataframe thead th {\n        text-align: right;\n    }\n</style>\n<table border=\"1\" class=\"dataframe\">\n  <thead>\n    <tr style=\"text-align: right;\">\n      <th></th>\n      <th>1</th>\n      <th>2</th>\n      <th>3</th>\n      <th>4</th>\n      <th>5</th>\n      <th>6</th>\n      <th>7</th>\n      <th>8</th>\n      <th>9</th>\n      <th>10</th>\n      <th>...</th>\n      <th>112</th>\n      <th>113</th>\n      <th>114</th>\n      <th>115</th>\n      <th>116</th>\n      <th>117</th>\n      <th>118</th>\n      <th>119</th>\n      <th>120</th>\n      <th>121</th>\n    </tr>\n    <tr>\n      <th>0</th>\n      <th></th>\n      <th></th>\n      <th></th>\n      <th></th>\n      <th></th>\n      <th></th>\n      <th></th>\n      <th></th>\n      <th></th>\n      <th></th>\n      <th></th>\n      <th></th>\n      <th></th>\n      <th></th>\n      <th></th>\n      <th></th>\n      <th></th>\n      <th></th>\n      <th></th>\n      <th></th>\n      <th></th>\n    </tr>\n  </thead>\n  <tbody>\n    <tr>\n      <th>A1BG</th>\n      <td>50.72</td>\n      <td>73.58</td>\n      <td>43.15</td>\n      <td>35.03</td>\n      <td>67.32</td>\n      <td>54.00</td>\n      <td>62.43</td>\n      <td>51.94</td>\n      <td>16.43</td>\n      <td>67.67</td>\n      <td>...</td>\n      <td>38.00</td>\n      <td>52.59</td>\n      <td>53.89</td>\n      <td>48.86</td>\n      <td>81.00</td>\n      <td>64.00</td>\n      <td>226.74</td>\n      <td>128.86</td>\n      <td>214.95</td>\n      <td>95.85</td>\n    </tr>\n    <tr>\n      <th>A1BG-AS1</th>\n      <td>101.17</td>\n      <td>136.09</td>\n      <td>84.37</td>\n      <td>55.95</td>\n      <td>90.35</td>\n      <td>26.51</td>\n      <td>98.79</td>\n      <td>69.80</td>\n      <td>24.87</td>\n      <td>65.49</td>\n      <td>...</td>\n      <td>102.45</td>\n      <td>81.88</td>\n      <td>92.86</td>\n      <td>86.10</td>\n      <td>36.33</td>\n      <td>44.25</td>\n      <td>40.36</td>\n      <td>24.97</td>\n      <td>14.68</td>\n      <td>20.69</td>\n    </tr>\n    <tr>\n      <th>A1CF</th>\n      <td>3.13</td>\n      <td>3.01</td>\n      <td>5.88</td>\n      <td>1.00</td>\n      <td>4.73</td>\n      <td>2.00</td>\n      <td>1.02</td>\n      <td>0.00</td>\n      <td>0.00</td>\n      <td>2.00</td>\n      <td>...</td>\n      <td>9.94</td>\n      <td>8.84</td>\n      <td>7.94</td>\n      <td>9.31</td>\n      <td>3.00</td>\n      <td>0.00</td>\n      <td>1.99</td>\n      <td>5.00</td>\n      <td>1.01</td>\n      <td>1.99</td>\n    </tr>\n    <tr>\n      <th>A2LD1</th>\n      <td>26.84</td>\n      <td>66.72</td>\n      <td>49.18</td>\n      <td>24.41</td>\n      <td>37.27</td>\n      <td>35.56</td>\n      <td>39.78</td>\n      <td>22.90</td>\n      <td>10.47</td>\n      <td>30.84</td>\n      <td>...</td>\n      <td>30.81</td>\n      <td>28.07</td>\n      <td>25.69</td>\n      <td>15.37</td>\n      <td>39.57</td>\n      <td>44.70</td>\n      <td>83.19</td>\n      <td>86.93</td>\n      <td>61.43</td>\n      <td>70.41</td>\n    </tr>\n    <tr>\n      <th>A2M</th>\n      <td>1871.00</td>\n      <td>3411.51</td>\n      <td>2728.97</td>\n      <td>948.97</td>\n      <td>3011.94</td>\n      <td>2361.58</td>\n      <td>2359.99</td>\n      <td>3300.98</td>\n      <td>1676.99</td>\n      <td>2781.99</td>\n      <td>...</td>\n      <td>1812.89</td>\n      <td>2628.93</td>\n      <td>1573.98</td>\n      <td>1935.88</td>\n      <td>4892.97</td>\n      <td>4506.99</td>\n      <td>6336.45</td>\n      <td>6727.81</td>\n      <td>5459.27</td>\n      <td>8036.99</td>\n    </tr>\n  </tbody>\n</table>\n<p>5 rows × 121 columns</p>\n</div>"
     },
     "metadata": {},
     "execution_count": 19
    }
   ],
   "source": [
    "matrix_9861.head()"
   ]
  },
  {
   "cell_type": "code",
   "execution_count": null,
   "metadata": {},
   "outputs": [],
   "source": [
    "matrix_9861.shape"
   ]
  },
  {
   "cell_type": "markdown",
   "metadata": {},
   "source": [
    "# Load Sample Metadata"
   ]
  },
  {
   "cell_type": "code",
   "execution_count": 24,
   "metadata": {
    "collapsed": true
   },
   "outputs": [
    {
     "output_type": "display_data",
     "data": {
      "text/plain": "<IPython.core.display.Markdown object>",
      "text/markdown": "```python\n\nsample_meta_9861 = pd.read_csv('Input/rnaseq_donor9861/SampleAnnot.csv', sep=',')\n```"
     },
     "metadata": {}
    }
   ],
   "source": [
    "%%appyter code_exec\n",
    "\n",
    "sample_meta_9861 = pd.read_csv({{FileField(\n",
    "    constraint='.*\\\\.csv$',\n",
    "    name='donor9861-SampleAnnot', \n",
    "    label='Sample Annotations', \n",
    "    default='Input/rnaseq_donor9861/SampleAnnot.csv',\n",
    "    section='donor9861')\n",
    "}}, sep=',')"
   ]
  },
  {
   "cell_type": "code",
   "execution_count": null,
   "metadata": {},
   "outputs": [],
   "source": [
    "sample_meta_9861.head()"
   ]
  },
  {
   "cell_type": "code",
   "execution_count": null,
   "metadata": {},
   "outputs": [],
   "source": [
    "sample_meta_9861.shape"
   ]
  },
  {
   "cell_type": "markdown",
   "metadata": {},
   "source": [
    "# Load Sample Ontology"
   ]
  },
  {
   "cell_type": "code",
   "execution_count": 26,
   "metadata": {
    "collapsed": true
   },
   "outputs": [
    {
     "output_type": "display_data",
     "data": {
      "text/plain": "<IPython.core.display.Markdown object>",
      "text/markdown": "```python\n\nsample_onto_9861 = pd.read_csv('Input/rnaseq_donor9861/Ontology.csv', sep=',', index_col=0)\n```"
     },
     "metadata": {}
    }
   ],
   "source": [
    "%%appyter code_exec\n",
    "\n",
    "sample_onto_9861 = pd.read_csv({{FileField(\n",
    "    constraint='.*\\\\.csv$',\n",
    "    name='donor9861-Ontology', \n",
    "    label='Ontology', \n",
    "    default='Input/rnaseq_donor9861/Ontology.csv',\n",
    "    section='donor9861')\n",
    "}}, sep=',', index_col=0)"
   ]
  },
  {
   "cell_type": "code",
   "execution_count": null,
   "metadata": {},
   "outputs": [],
   "source": [
    "sample_onto_9861.head()"
   ]
  },
  {
   "cell_type": "code",
   "execution_count": null,
   "metadata": {},
   "outputs": [],
   "source": [
    "sample_onto_9861.shape"
   ]
  },
  {
   "cell_type": "markdown",
   "metadata": {},
   "source": [
    "# Map Sample Metadata to Sample ID"
   ]
  },
  {
   "cell_type": "code",
   "execution_count": null,
   "metadata": {
    "collapsed": true
   },
   "outputs": [],
   "source": [
    "mapSampleData(matrix_9861, sample_meta_9861, sample_onto_9861)"
   ]
  },
  {
   "cell_type": "code",
   "execution_count": null,
   "metadata": {},
   "outputs": [],
   "source": [
    "matrix_9861.head()"
   ]
  },
  {
   "cell_type": "markdown",
   "metadata": {},
   "source": [
    "# Donor 10021"
   ]
  },
  {
   "cell_type": "markdown",
   "metadata": {},
   "source": [
    "# Load Data"
   ]
  },
  {
   "cell_type": "code",
   "execution_count": 31,
   "metadata": {
    "collapsed": true
   },
   "outputs": [
    {
     "output_type": "display_data",
     "data": {
      "text/plain": "<IPython.core.display.Markdown object>",
      "text/markdown": "```python\n\nmatrix_10021 = pd.read_csv('Input/rnaseq_donor10021/RNAseqCounts-2.csv', sep=',', header=None, index_col=0)\n```"
     },
     "metadata": {}
    }
   ],
   "source": [
    "%%appyter code_exec\n",
    "\n",
    "matrix_10021 = pd.read_csv({{FileField(\n",
    "    constraint='.*\\\\.csv$',\n",
    "    name='donor10021-RNAseqCounts', \n",
    "    label='RNAseq Counts', \n",
    "    default='Input/rnaseq_donor10021/RNAseqCounts-2.csv',\n",
    "    section='donor10021')\n",
    "}}, sep=',', header=None, index_col=0)"
   ]
  },
  {
   "cell_type": "code",
   "execution_count": 28,
   "metadata": {},
   "outputs": [
    {
     "output_type": "execute_result",
     "data": {
      "text/plain": "              1        2        3        4        5        6        7    \\\n0                                                                         \nA1BG        84.92   143.85    88.59   110.00    87.07   122.25   103.65   \nA1BG-AS1   107.12   108.52    96.26    96.43    98.79    91.09   110.81   \nA1CF        13.25     5.09     4.58     4.03     1.00     3.00     2.99   \nA2LD1       53.26    72.54    54.20    49.50    46.60    54.83    48.51   \nA2M       3813.83  3582.94  3907.99  3892.90  3592.06  4742.55  3811.88   \n\n              8        9        10   ...      112      113      114      115  \\\n0                                    ...                                       \nA1BG       106.91   191.16   162.56  ...   130.22   104.00   180.62   142.79   \nA1BG-AS1   140.31   198.17   156.49  ...   101.59    47.58    33.40    29.81   \nA1CF         1.00     7.00     4.25  ...     2.00     1.00     2.98     1.00   \nA2LD1       68.45    84.89    50.57  ...    88.49    63.68   114.16    93.55   \nA2M       5890.89  5856.88  4077.96  ...  4095.95  5089.97  9421.94  8253.94   \n\n              116      117      118      119      120      121  \n0                                                               \nA1BG       119.41    97.89    93.25   103.48    83.31   106.13  \nA1BG-AS1    96.52    66.92    60.54    98.29    73.54    89.30  \nA1CF         6.09    10.78    11.27    10.98     9.02    13.11  \nA2LD1       57.49    65.92    70.96    60.60    26.51    55.53  \nA2M       4383.91  2654.71  3267.99  3421.37  2213.87  2540.99  \n\n[5 rows x 121 columns]",
      "text/html": "<div>\n<style scoped>\n    .dataframe tbody tr th:only-of-type {\n        vertical-align: middle;\n    }\n\n    .dataframe tbody tr th {\n        vertical-align: top;\n    }\n\n    .dataframe thead th {\n        text-align: right;\n    }\n</style>\n<table border=\"1\" class=\"dataframe\">\n  <thead>\n    <tr style=\"text-align: right;\">\n      <th></th>\n      <th>1</th>\n      <th>2</th>\n      <th>3</th>\n      <th>4</th>\n      <th>5</th>\n      <th>6</th>\n      <th>7</th>\n      <th>8</th>\n      <th>9</th>\n      <th>10</th>\n      <th>...</th>\n      <th>112</th>\n      <th>113</th>\n      <th>114</th>\n      <th>115</th>\n      <th>116</th>\n      <th>117</th>\n      <th>118</th>\n      <th>119</th>\n      <th>120</th>\n      <th>121</th>\n    </tr>\n    <tr>\n      <th>0</th>\n      <th></th>\n      <th></th>\n      <th></th>\n      <th></th>\n      <th></th>\n      <th></th>\n      <th></th>\n      <th></th>\n      <th></th>\n      <th></th>\n      <th></th>\n      <th></th>\n      <th></th>\n      <th></th>\n      <th></th>\n      <th></th>\n      <th></th>\n      <th></th>\n      <th></th>\n      <th></th>\n      <th></th>\n    </tr>\n  </thead>\n  <tbody>\n    <tr>\n      <th>A1BG</th>\n      <td>84.92</td>\n      <td>143.85</td>\n      <td>88.59</td>\n      <td>110.00</td>\n      <td>87.07</td>\n      <td>122.25</td>\n      <td>103.65</td>\n      <td>106.91</td>\n      <td>191.16</td>\n      <td>162.56</td>\n      <td>...</td>\n      <td>130.22</td>\n      <td>104.00</td>\n      <td>180.62</td>\n      <td>142.79</td>\n      <td>119.41</td>\n      <td>97.89</td>\n      <td>93.25</td>\n      <td>103.48</td>\n      <td>83.31</td>\n      <td>106.13</td>\n    </tr>\n    <tr>\n      <th>A1BG-AS1</th>\n      <td>107.12</td>\n      <td>108.52</td>\n      <td>96.26</td>\n      <td>96.43</td>\n      <td>98.79</td>\n      <td>91.09</td>\n      <td>110.81</td>\n      <td>140.31</td>\n      <td>198.17</td>\n      <td>156.49</td>\n      <td>...</td>\n      <td>101.59</td>\n      <td>47.58</td>\n      <td>33.40</td>\n      <td>29.81</td>\n      <td>96.52</td>\n      <td>66.92</td>\n      <td>60.54</td>\n      <td>98.29</td>\n      <td>73.54</td>\n      <td>89.30</td>\n    </tr>\n    <tr>\n      <th>A1CF</th>\n      <td>13.25</td>\n      <td>5.09</td>\n      <td>4.58</td>\n      <td>4.03</td>\n      <td>1.00</td>\n      <td>3.00</td>\n      <td>2.99</td>\n      <td>1.00</td>\n      <td>7.00</td>\n      <td>4.25</td>\n      <td>...</td>\n      <td>2.00</td>\n      <td>1.00</td>\n      <td>2.98</td>\n      <td>1.00</td>\n      <td>6.09</td>\n      <td>10.78</td>\n      <td>11.27</td>\n      <td>10.98</td>\n      <td>9.02</td>\n      <td>13.11</td>\n    </tr>\n    <tr>\n      <th>A2LD1</th>\n      <td>53.26</td>\n      <td>72.54</td>\n      <td>54.20</td>\n      <td>49.50</td>\n      <td>46.60</td>\n      <td>54.83</td>\n      <td>48.51</td>\n      <td>68.45</td>\n      <td>84.89</td>\n      <td>50.57</td>\n      <td>...</td>\n      <td>88.49</td>\n      <td>63.68</td>\n      <td>114.16</td>\n      <td>93.55</td>\n      <td>57.49</td>\n      <td>65.92</td>\n      <td>70.96</td>\n      <td>60.60</td>\n      <td>26.51</td>\n      <td>55.53</td>\n    </tr>\n    <tr>\n      <th>A2M</th>\n      <td>3813.83</td>\n      <td>3582.94</td>\n      <td>3907.99</td>\n      <td>3892.90</td>\n      <td>3592.06</td>\n      <td>4742.55</td>\n      <td>3811.88</td>\n      <td>5890.89</td>\n      <td>5856.88</td>\n      <td>4077.96</td>\n      <td>...</td>\n      <td>4095.95</td>\n      <td>5089.97</td>\n      <td>9421.94</td>\n      <td>8253.94</td>\n      <td>4383.91</td>\n      <td>2654.71</td>\n      <td>3267.99</td>\n      <td>3421.37</td>\n      <td>2213.87</td>\n      <td>2540.99</td>\n    </tr>\n  </tbody>\n</table>\n<p>5 rows × 121 columns</p>\n</div>"
     },
     "metadata": {},
     "execution_count": 28
    }
   ],
   "source": [
    "matrix_10021.head()"
   ]
  },
  {
   "cell_type": "code",
   "execution_count": null,
   "metadata": {},
   "outputs": [],
   "source": [
    "matrix_10021.shape"
   ]
  },
  {
   "cell_type": "markdown",
   "metadata": {},
   "source": [
    "# Load Sample Metadata"
   ]
  },
  {
   "cell_type": "code",
   "execution_count": 32,
   "metadata": {
    "collapsed": true
   },
   "outputs": [
    {
     "output_type": "display_data",
     "data": {
      "text/plain": "<IPython.core.display.Markdown object>",
      "text/markdown": "```python\n\nsample_meta_10021 = pd.read_csv('Input/rnaseq_donor10021/SampleAnnot-2.csv', sep=',')\n```"
     },
     "metadata": {}
    }
   ],
   "source": [
    "%%appyter code_exec\n",
    "\n",
    "sample_meta_10021 = pd.read_csv({{FileField(\n",
    "    constraint='.*\\\\.csv$',\n",
    "    name='donor10021-SampleAnnot', \n",
    "    label='Sample Annotations', \n",
    "    default='Input/rnaseq_donor10021/SampleAnnot-2.csv',\n",
    "    section='donor10021')\n",
    "}}, sep=',')"
   ]
  },
  {
   "cell_type": "code",
   "execution_count": null,
   "metadata": {},
   "outputs": [],
   "source": [
    "sample_meta_10021.head()"
   ]
  },
  {
   "cell_type": "code",
   "execution_count": null,
   "metadata": {},
   "outputs": [],
   "source": [
    "sample_meta_10021.shape"
   ]
  },
  {
   "cell_type": "markdown",
   "metadata": {},
   "source": [
    "# Load Sample Ontology"
   ]
  },
  {
   "cell_type": "code",
   "execution_count": 33,
   "metadata": {
    "collapsed": true
   },
   "outputs": [
    {
     "output_type": "display_data",
     "data": {
      "text/plain": "<IPython.core.display.Markdown object>",
      "text/markdown": "```python\n\nsample_onto_10021 = pd.read_csv('Input/rnaseq_donor10021/Ontology-2.csv', sep=',', index_col=0)\n```"
     },
     "metadata": {}
    }
   ],
   "source": [
    "%%appyter code_exec\n",
    "\n",
    "sample_onto_10021 = pd.read_csv({{FileField(\n",
    "    constraint='.*\\\\.csv$',\n",
    "    name='donor10021-Ontology', \n",
    "    label='Ontology', \n",
    "    default='Input/rnaseq_donor10021/Ontology-2.csv',\n",
    "    section='donor10021')\n",
    "}}, sep=',', index_col=0)"
   ]
  },
  {
   "cell_type": "code",
   "execution_count": null,
   "metadata": {},
   "outputs": [],
   "source": [
    "sample_onto_10021.head()"
   ]
  },
  {
   "cell_type": "code",
   "execution_count": null,
   "metadata": {},
   "outputs": [],
   "source": [
    "sample_onto_10021.shape"
   ]
  },
  {
   "cell_type": "markdown",
   "metadata": {},
   "source": [
    "# Map Sample Metadata to Sample ID"
   ]
  },
  {
   "cell_type": "code",
   "execution_count": null,
   "metadata": {
    "collapsed": true
   },
   "outputs": [],
   "source": [
    "mapSampleData(matrix_10021, sample_meta_10021, sample_onto_10021)"
   ]
  },
  {
   "cell_type": "code",
   "execution_count": null,
   "metadata": {},
   "outputs": [],
   "source": [
    "matrix_10021.head()"
   ]
  },
  {
   "cell_type": "markdown",
   "metadata": {},
   "source": [
    "# Combine Donor Datasets"
   ]
  },
  {
   "cell_type": "markdown",
   "metadata": {},
   "source": [
    "# Unfiltered"
   ]
  },
  {
   "cell_type": "code",
   "execution_count": null,
   "metadata": {
    "collapsed": true
   },
   "outputs": [],
   "source": [
    "matrix = pd.concat([matrix_9861, matrix_10021], axis=1)"
   ]
  },
  {
   "cell_type": "code",
   "execution_count": null,
   "metadata": {},
   "outputs": [],
   "source": [
    "matrix.head()"
   ]
  },
  {
   "cell_type": "code",
   "execution_count": null,
   "metadata": {},
   "outputs": [],
   "source": [
    "matrix.shape"
   ]
  },
  {
   "cell_type": "markdown",
   "metadata": {},
   "source": [
    "# Save Unfiltered to file"
   ]
  },
  {
   "cell_type": "code",
   "execution_count": null,
   "metadata": {
    "collapsed": true
   },
   "outputs": [],
   "source": [
    "if not os.path.exists('Output'):\n",
    "    os.makedirs('Output')\n",
    "filename = 'Output/aba_brain_matrix_unfilltered_%s.tsv.zip'% str(datetime.date.today())[0:7].replace('-', '_')\n",
    "matrix.to_csv(filename, sep='\\t', compression='gzip')"
   ]
  },
  {
   "cell_type": "markdown",
   "metadata": {},
   "source": [
    "# Filtered"
   ]
  },
  {
   "cell_type": "code",
   "execution_count": null,
   "metadata": {
    "collapsed": true
   },
   "outputs": [],
   "source": [
    "normalized_matrix = pd.concat([matrix_9861, matrix_10021], axis=1)"
   ]
  },
  {
   "cell_type": "code",
   "execution_count": null,
   "metadata": {},
   "outputs": [],
   "source": [
    "normalized_matrix.head()"
   ]
  },
  {
   "cell_type": "code",
   "execution_count": null,
   "metadata": {},
   "outputs": [],
   "source": [
    "normalized_matrix.shape"
   ]
  },
  {
   "cell_type": "markdown",
   "metadata": {},
   "source": [
    "# Remove any data with more than 95% missing and imput remaining mssing values to matrix mean"
   ]
  },
  {
   "cell_type": "code",
   "execution_count": null,
   "metadata": {
    "collapsed": true
   },
   "outputs": [],
   "source": [
    "normalized_matrix = uf.removeAndImpute(normalized_matrix)"
   ]
  },
  {
   "cell_type": "code",
   "execution_count": null,
   "metadata": {},
   "outputs": [],
   "source": [
    "normalized_matrix.head()"
   ]
  },
  {
   "cell_type": "code",
   "execution_count": null,
   "metadata": {},
   "outputs": [],
   "source": [
    "normalized_matrix.shape"
   ]
  },
  {
   "cell_type": "markdown",
   "metadata": {},
   "source": [
    "# Log2 Transform"
   ]
  },
  {
   "cell_type": "code",
   "execution_count": null,
   "metadata": {
    "collapsed": true
   },
   "outputs": [],
   "source": [
    "normalized_matrix = uf.log2(normalized_matrix)"
   ]
  },
  {
   "cell_type": "code",
   "execution_count": null,
   "metadata": {},
   "outputs": [],
   "source": [
    "normalized_matrix.head()"
   ]
  },
  {
   "cell_type": "markdown",
   "metadata": {},
   "source": [
    "# Normalize Matrix (Quantile Normalize the matrix for the columns)"
   ]
  },
  {
   "cell_type": "code",
   "execution_count": null,
   "metadata": {},
   "outputs": [],
   "source": [
    "normalized_matrix = uf.quantileNormalize(normalized_matrix)"
   ]
  },
  {
   "cell_type": "code",
   "execution_count": null,
   "metadata": {},
   "outputs": [],
   "source": [
    "normalized_matrix.head()"
   ]
  },
  {
   "cell_type": "markdown",
   "metadata": {},
   "source": [
    "# Normalize Matrix (z-score the rows)"
   ]
  },
  {
   "cell_type": "code",
   "execution_count": null,
   "metadata": {},
   "outputs": [],
   "source": [
    "uf.zscore(normalized_matrix, 'row')"
   ]
  },
  {
   "cell_type": "code",
   "execution_count": null,
   "metadata": {},
   "outputs": [],
   "source": [
    "normalized_matrix.head()"
   ]
  },
  {
   "cell_type": "markdown",
   "metadata": {},
   "source": [
    "# Merge Like Column (by taking the mean)"
   ]
  },
  {
   "cell_type": "code",
   "execution_count": null,
   "metadata": {
    "collapsed": true
   },
   "outputs": [],
   "source": [
    "normalized_matrix = uf.merge(normalized_matrix, 'column', 'mean')"
   ]
  },
  {
   "cell_type": "code",
   "execution_count": null,
   "metadata": {},
   "outputs": [],
   "source": [
    "normalized_matrix.shape"
   ]
  },
  {
   "cell_type": "markdown",
   "metadata": {},
   "source": [
    "# Map Gene Symbols To Up-to-date Approved Gene Symbols"
   ]
  },
  {
   "cell_type": "code",
   "execution_count": null,
   "metadata": {},
   "outputs": [],
   "source": [
    "uf.mapgenesymbols(normalized_matrix)"
   ]
  },
  {
   "cell_type": "code",
   "execution_count": null,
   "metadata": {},
   "outputs": [],
   "source": [
    "normalized_matrix.shape"
   ]
  },
  {
   "cell_type": "markdown",
   "metadata": {},
   "source": [
    "# Merge Duplicate Genes By Rows"
   ]
  },
  {
   "cell_type": "code",
   "execution_count": null,
   "metadata": {
    "collapsed": true
   },
   "outputs": [],
   "source": [
    "normalized_matrix = uf.merge(normalized_matrix, 'row', 'mean')"
   ]
  },
  {
   "cell_type": "code",
   "execution_count": null,
   "metadata": {},
   "outputs": [],
   "source": [
    "normalized_matrix.shape"
   ]
  },
  {
   "cell_type": "markdown",
   "metadata": {},
   "source": [
    "# Histogram of First Sample"
   ]
  },
  {
   "cell_type": "code",
   "execution_count": null,
   "metadata": {},
   "outputs": [],
   "source": [
    "normalized_matrix[normalized_matrix.columns[0]].hist(bins=100)"
   ]
  },
  {
   "cell_type": "markdown",
   "metadata": {},
   "source": [
    "# Histogram of First Gene"
   ]
  },
  {
   "cell_type": "code",
   "execution_count": null,
   "metadata": {},
   "outputs": [],
   "source": [
    "normalized_matrix.loc[normalized_matrix.index[0]].hist(bins=100)"
   ]
  },
  {
   "cell_type": "markdown",
   "metadata": {},
   "source": [
    "# Save Filtered Matrix"
   ]
  },
  {
   "cell_type": "code",
   "execution_count": null,
   "metadata": {
    "collapsed": true
   },
   "outputs": [],
   "source": [
    "filename = 'Output/aba_brain_matrix_filltered_%s.tsv.zip'% str(datetime.date.today())[0:7].replace('-', '_')\n",
    "normalized_matrix.to_csv(filename, sep='\\t', compression='gzip')"
   ]
  },
  {
   "cell_type": "markdown",
   "metadata": {},
   "source": [
    "# Create Gene List"
   ]
  },
  {
   "cell_type": "code",
   "execution_count": null,
   "metadata": {},
   "outputs": [],
   "source": [
    "gene_list = uf.createGeneList(normalized_matrix)"
   ]
  },
  {
   "cell_type": "code",
   "execution_count": null,
   "metadata": {},
   "outputs": [],
   "source": [
    "gene_list.head()"
   ]
  },
  {
   "cell_type": "code",
   "execution_count": null,
   "metadata": {},
   "outputs": [],
   "source": [
    "gene_list.shape"
   ]
  },
  {
   "cell_type": "markdown",
   "metadata": {},
   "source": [
    "# Save Gene List"
   ]
  },
  {
   "cell_type": "code",
   "execution_count": null,
   "metadata": {
    "collapsed": true
   },
   "outputs": [],
   "source": [
    "filename = 'Output/aba_brain_gene_list_%s.tsv.zip'% str(datetime.date.today())[0:7].replace('-', '_')\n",
    "gene_list.to_csv(filename, sep='\\t', index=False, compression='gzip')"
   ]
  },
  {
   "cell_type": "markdown",
   "metadata": {},
   "source": [
    "# Create Attribute List"
   ]
  },
  {
   "cell_type": "code",
   "execution_count": null,
   "metadata": {
    "collapsed": true
   },
   "outputs": [],
   "source": [
    "attribute_list = uf.createAttributeList(normalized_matrix)"
   ]
  },
  {
   "cell_type": "code",
   "execution_count": null,
   "metadata": {},
   "outputs": [],
   "source": [
    "attribute_list.head()"
   ]
  },
  {
   "cell_type": "code",
   "execution_count": null,
   "metadata": {},
   "outputs": [],
   "source": [
    "attribute_list.shape"
   ]
  },
  {
   "cell_type": "markdown",
   "metadata": {},
   "source": [
    "# Save Attribute List"
   ]
  },
  {
   "cell_type": "code",
   "execution_count": null,
   "metadata": {
    "collapsed": true
   },
   "outputs": [],
   "source": [
    "filename = 'Output/aba_brain_attribute_list_%s.tsv.zip'% str(datetime.date.today())[0:7].replace('-', '_')\n",
    "attribute_list.to_csv(filename, sep='\\t', compression='gzip')"
   ]
  },
  {
   "cell_type": "markdown",
   "metadata": {},
   "source": [
    "# Create matrix of Standardized values (values between -1, and 1)"
   ]
  },
  {
   "cell_type": "code",
   "execution_count": null,
   "metadata": {},
   "outputs": [],
   "source": [
    "standard_matrix = uf.createStandardizedMatrix(normalized_matrix)"
   ]
  },
  {
   "cell_type": "code",
   "execution_count": null,
   "metadata": {},
   "outputs": [],
   "source": [
    "standard_matrix.head()"
   ]
  },
  {
   "cell_type": "markdown",
   "metadata": {},
   "source": [
    "# Plot of A Single Celltype, Normalized Value vs. Standardized Value"
   ]
  },
  {
   "cell_type": "code",
   "execution_count": null,
   "metadata": {},
   "outputs": [],
   "source": [
    "plt.plot(normalized_matrix[normalized_matrix.columns[0]], standard_matrix[standard_matrix.columns[0]], 'bo')\n",
    "plt.xlabel('Normalized Values')\n",
    "plt.ylabel('Standardized Values')\n",
    "plt.title(standard_matrix.columns[0])\n",
    "plt.grid(True)"
   ]
  },
  {
   "cell_type": "markdown",
   "metadata": {},
   "source": [
    "# Save Standardized Matrix"
   ]
  },
  {
   "cell_type": "code",
   "execution_count": null,
   "metadata": {
    "collapsed": true
   },
   "outputs": [],
   "source": [
    "filename = 'Output/aba_brain_standard_matrix_%s.tsv.zip'% str(datetime.date.today())[0:7].replace('-', '_')\n",
    "standard_matrix.to_csv(filename, sep='\\t', compression='gzip')"
   ]
  },
  {
   "cell_type": "markdown",
   "metadata": {},
   "source": [
    "# Create Tertiary Matrix"
   ]
  },
  {
   "cell_type": "code",
   "execution_count": null,
   "metadata": {
    "collapsed": true
   },
   "outputs": [],
   "source": [
    "tertiary_matrix = uf.createTertiaryMatrix(standard_matrix)"
   ]
  },
  {
   "cell_type": "code",
   "execution_count": null,
   "metadata": {},
   "outputs": [],
   "source": [
    "tertiary_matrix.head()"
   ]
  },
  {
   "cell_type": "markdown",
   "metadata": {},
   "source": [
    "# Save Teriary Matrix"
   ]
  },
  {
   "cell_type": "code",
   "execution_count": null,
   "metadata": {
    "collapsed": true
   },
   "outputs": [],
   "source": [
    "filename = 'Output/aba_brain_tertiary_matrix_%s.tsv.zip'% str(datetime.date.today())[0:7].replace('-', '_')\n",
    "tertiary_matrix.to_csv(filename, sep='\\t', compression='gzip')"
   ]
  },
  {
   "cell_type": "markdown",
   "metadata": {},
   "source": [
    "# Path to output files"
   ]
  },
  {
   "cell_type": "code",
   "execution_count": null,
   "metadata": {
    "collapsed": true
   },
   "outputs": [],
   "source": [
    "path = 'Output/'"
   ]
  },
  {
   "cell_type": "markdown",
   "metadata": {},
   "source": [
    "# Create Up Gene Set Library"
   ]
  },
  {
   "cell_type": "code",
   "execution_count": null,
   "metadata": {
    "collapsed": true
   },
   "outputs": [],
   "source": [
    "name = 'aba_brain_gene_up_set'"
   ]
  },
  {
   "cell_type": "code",
   "execution_count": null,
   "metadata": {},
   "outputs": [],
   "source": [
    "uf.createUpGeneSetLib(tertiary_matrix, path, name)"
   ]
  },
  {
   "cell_type": "markdown",
   "metadata": {},
   "source": [
    "# Create Down Gene Set Library"
   ]
  },
  {
   "cell_type": "code",
   "execution_count": null,
   "metadata": {
    "collapsed": true
   },
   "outputs": [],
   "source": [
    "name = 'aba_brain_gene_down_set'"
   ]
  },
  {
   "cell_type": "code",
   "execution_count": null,
   "metadata": {},
   "outputs": [],
   "source": [
    "uf.createDownGeneSetLib(tertiary_matrix, path, name)"
   ]
  },
  {
   "cell_type": "markdown",
   "metadata": {},
   "source": [
    "# Create Up Attribute Library"
   ]
  },
  {
   "cell_type": "code",
   "execution_count": null,
   "metadata": {
    "collapsed": true
   },
   "outputs": [],
   "source": [
    "name = 'aba_brain_attribute_up_set'"
   ]
  },
  {
   "cell_type": "code",
   "execution_count": null,
   "metadata": {},
   "outputs": [],
   "source": [
    "uf.createUpAttributeSetLib(tertiary_matrix, path, name)"
   ]
  },
  {
   "cell_type": "markdown",
   "metadata": {},
   "source": [
    "# Create Down Attribute Library"
   ]
  },
  {
   "cell_type": "code",
   "execution_count": null,
   "metadata": {
    "collapsed": true
   },
   "outputs": [],
   "source": [
    "name = 'aba_brain_attribute_down_set'"
   ]
  },
  {
   "cell_type": "code",
   "execution_count": null,
   "metadata": {},
   "outputs": [],
   "source": [
    "uf.createDownAttributeSetLib(tertiary_matrix, path, name)"
   ]
  },
  {
   "cell_type": "markdown",
   "metadata": {},
   "source": [
    "# Create Attribute Similarity matrix"
   ]
  },
  {
   "cell_type": "code",
   "execution_count": null,
   "metadata": {
    "collapsed": true
   },
   "outputs": [],
   "source": [
    "attribute_similarity_matix = uf.createSimilarityMatrix(normalized_matrix.T, 'cosine')"
   ]
  },
  {
   "cell_type": "code",
   "execution_count": null,
   "metadata": {},
   "outputs": [],
   "source": [
    "attribute_similarity_matix.head()"
   ]
  },
  {
   "cell_type": "markdown",
   "metadata": {},
   "source": [
    "# Save Attribute Similarity Matrix"
   ]
  },
  {
   "cell_type": "code",
   "execution_count": null,
   "metadata": {
    "collapsed": true
   },
   "outputs": [],
   "source": [
    "filename = 'Output/aba_brain_attribute_similarity_matix_%s.tsv.zip'% str(datetime.date.today())[0:7].replace('-', '_')\n",
    "attribute_similarity_matix.to_csv(filename, sep='\\t', compression='gzip')"
   ]
  },
  {
   "cell_type": "code",
   "execution_count": null,
   "metadata": {},
   "outputs": [],
   "source": [
    "net.load_df(attribute_similarity_matix.iloc[:,:].copy())\n",
    "# net.filter_N_top('row', rank_type='sum', N_top=300)\n",
    "net.cluster()\n",
    "net.widget()"
   ]
  },
  {
   "cell_type": "markdown",
   "metadata": {},
   "source": [
    "# Create Gene Similarity Matrix"
   ]
  },
  {
   "cell_type": "code",
   "execution_count": null,
   "metadata": {
    "collapsed": true
   },
   "outputs": [],
   "source": [
    "gene_similarity_matix = uf.createSimilarityMatrix(normalized_matrix, 'cosine')"
   ]
  },
  {
   "cell_type": "code",
   "execution_count": null,
   "metadata": {},
   "outputs": [],
   "source": [
    "gene_similarity_matix.head()"
   ]
  },
  {
   "cell_type": "markdown",
   "metadata": {},
   "source": [
    "# Save Gene Similarity Matrix"
   ]
  },
  {
   "cell_type": "code",
   "execution_count": null,
   "metadata": {
    "collapsed": true
   },
   "outputs": [],
   "source": [
    "filename = 'Output/aba_brain_gene_similarity_matix_%s.tsv.zip'% str(datetime.date.today())[0:7].replace('-', '_')\n",
    "gene_similarity_matix.to_csv(filename, sep='\\t', compression='gzip')"
   ]
  },
  {
   "cell_type": "markdown",
   "metadata": {},
   "source": [
    "# Create Gene-Attribute Edge List"
   ]
  },
  {
   "cell_type": "code",
   "execution_count": null,
   "metadata": {
    "collapsed": true
   },
   "outputs": [],
   "source": [
    "path = 'Output/'"
   ]
  },
  {
   "cell_type": "code",
   "execution_count": null,
   "metadata": {
    "collapsed": true
   },
   "outputs": [],
   "source": [
    "name = 'aba_brain_gene_attribute_edge_list'"
   ]
  },
  {
   "cell_type": "code",
   "execution_count": null,
   "metadata": {},
   "outputs": [],
   "source": [
    "uf.createGeneAttributeEdgeList(standard_matrix, attribute_list, gene_list, path, name)"
   ]
  }
 ],
 "metadata": {
  "kernelspec": {
   "display_name": "Python 3.8.0 64-bit ('harmonizome': venv)",
   "language": "python",
   "name": "python38064bitharmonizomevenve1fd62c035f347dbaffce382c9034785"
  },
  "language_info": {
   "codemirror_mode": {
    "name": "ipython",
    "version": 3
   },
   "file_extension": ".py",
   "mimetype": "text/x-python",
   "name": "python",
   "nbconvert_exporter": "python",
   "pygments_lexer": "ipython3",
   "version": "3.8.0-final"
  }
 },
 "nbformat": 4,
 "nbformat_minor": 2
}