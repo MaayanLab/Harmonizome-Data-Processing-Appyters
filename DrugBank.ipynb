{
  "cells": [
    {
      "cell_type": "markdown",
      "metadata": {
        "id": "igA_NxFW0QzV",
        "colab_type": "text"
      },
      "source": [
        "# DrugBank"
      ]
    },
    {
      "cell_type": "markdown",
      "metadata": {
        "id": "_QasXOTv0QzW",
        "colab_type": "text"
      },
      "source": [
        "Created by: Charles Dai <br>\n",
        "Credit to: Moshe Silverstein\n",
        "\n",
        "Data Source: https://www.drugbank.ca/releases/latest"
      ]
    },
    {
      "cell_type": "code",
      "metadata": {
        "id": "j_kdQr280QzX",
        "colab_type": "code",
        "colab": {}
      },
      "source": [
        "# appyter init\n",
        "from appyter import magic\n",
        "magic.init(lambda _=globals: _())"
      ],
      "execution_count": 1,
      "outputs": []
    },
    {
      "cell_type": "code",
      "metadata": {
        "id": "O7pAJAEU0Qzc",
        "colab_type": "code",
        "colab": {}
      },
      "source": [
        "import sys\n",
        "import os\n",
        "from datetime import date\n",
        "import zipfile\n",
        "\n",
        "import numpy as np\n",
        "import pandas as pd\n",
        "import matplotlib.pyplot as plt\n",
        "%matplotlib inline\n",
        "\n",
        "import harmonizome.utility_functions as uf\n",
        "import harmonizome.lookup as lookup"
      ],
      "execution_count": 2,
      "outputs": []
    },
    {
      "cell_type": "code",
      "metadata": {
        "id": "m7qZQgDS0Qzg",
        "colab_type": "code",
        "colab": {}
      },
      "source": [
        "from clustergrammer_widget import *\n",
        "net = Network(clustergrammer_widget)"
      ],
      "execution_count": 3,
      "outputs": []
    },
    {
      "cell_type": "code",
      "metadata": {
        "id": "iGNGsUEW0Qzi",
        "colab_type": "code",
        "colab": {}
      },
      "source": [
        "%load_ext autoreload\n",
        "%autoreload 2"
      ],
      "execution_count": 4,
      "outputs": []
    },
    {
      "cell_type": "markdown",
      "metadata": {
        "id": "FEpt2FYa0Qzl",
        "colab_type": "text"
      },
      "source": [
        "### Notebook Information"
      ]
    },
    {
      "cell_type": "code",
      "metadata": {
        "tags": [],
        "id": "_0COhlPO0Qzl",
        "colab_type": "code",
        "colab": {
          "base_uri": "https://localhost:8080/",
          "height": 68
        },
        "outputId": "f92c7a2b-29f9-44c9-d081-7d62c8515cc0"
      },
      "source": [
        "print('This notebook was run on:', date.today(), '\\nPython version:', sys.version)"
      ],
      "execution_count": 5,
      "outputs": [
        {
          "output_type": "stream",
          "name": "stdout",
          "text": "This notebook was run on: 2020-06-30 \nPython version: 3.8.0 (default, Oct 28 2019, 16:14:01) \n[GCC 8.3.0]\n"
        }
      ]
    },
    {
      "cell_type": "markdown",
      "metadata": {
        "id": "0jYq-qKz0Qzo",
        "colab_type": "text"
      },
      "source": [
        "# Initialization"
      ]
    },
    {
      "cell_type": "code",
      "metadata": {
        "id": "vK4Q1l5-0Qzo",
        "colab_type": "code",
        "colab": {}
      },
      "source": [
        "%%appyter code_eval\n",
        "\n",
        "{% set group = ChoiceField(\n",
        "    name='identifier',\n",
        "    label='Protein Identifier Group',\n",
        "    choices=['Target', 'Enzyme', 'Carrier', 'Transporter'],\n",
        "    default='Target',\n",
        "    section='data'\n",
        ") %}"
      ],
      "execution_count": 6,
      "outputs": []
    },
    {
      "cell_type": "markdown",
      "metadata": {
        "id": "JdBPQTl70Qzr",
        "colab_type": "text"
      },
      "source": [
        "### Load Mapping Dictionaries"
      ]
    },
    {
      "cell_type": "code",
      "metadata": {
        "tags": [],
        "id": "p8vNRtrC0Qzs",
        "colab_type": "code",
        "colab": {
          "base_uri": "https://localhost:8080/",
          "height": 34
        },
        "outputId": "2b6cb630-6779-40af-b63d-4c8f4bf49a72"
      },
      "source": [
        "symbol_lookup, geneid_lookup = lookup.get_lookups()"
      ],
      "execution_count": 7,
      "outputs": [
        {
          "output_type": "stream",
          "name": "stderr",
          "text": "Gathering sources: 100%|██████████| 3/3 [00:09<00:00,  3.21s/it]\n"
        }
      ]
    },
    {
      "cell_type": "markdown",
      "metadata": {
        "id": "Ffj_aRNS0Qzu",
        "colab_type": "text"
      },
      "source": [
        "### Output Path"
      ]
    },
    {
      "cell_type": "code",
      "metadata": {
        "id": "5yi1d7_30Qzu",
        "colab_type": "code",
        "colab": {
          "base_uri": "https://localhost:8080/",
          "height": 85
        },
        "outputId": "1f47901d-4119-415a-fe92-7f94f01196a1"
      },
      "source": [
        "%%appyter code_exec\n",
        "\n",
        "output_name = 'drugbank_' + '{{group}}'.lower()\n",
        "\n",
        "path = 'Output/DrugBank-' + '{{group}}'\n",
        "if not os.path.exists(path):\n",
        "    os.makedirs(path)"
      ],
      "execution_count": 8,
      "outputs": [
        {
          "output_type": "display_data",
          "data": {
            "text/plain": "<IPython.core.display.Markdown object>",
            "text/markdown": "```python\noutput_name = 'drugbank_' + 'Target'.lower()\npath = 'Output/DrugBank-' + 'Target'\nif not os.path.exists(path):\n    os.makedirs(path)\n```"
          },
          "metadata": {}
        }
      ]
    },
    {
      "cell_type": "code",
      "metadata": {
        "id": "k62OdrMY0Qzw",
        "colab_type": "code",
        "colab": {}
      },
      "source": [
        "%%appyter hide_code\n",
        "{% do SectionField(\n",
        "    name='data',\n",
        "    title='Load Data',\n",
        "    subtitle='Upload Files from the DrugBank Protein Identifiers Datasets',\n",
        ") %}"
      ],
      "execution_count": 9,
      "outputs": []
    },
    {
      "cell_type": "markdown",
      "metadata": {
        "id": "e36ONvOT0Qzy",
        "colab_type": "text"
      },
      "source": [
        "# Load Data"
      ]
    },
    {
      "cell_type": "code",
      "metadata": {
        "id": "OSq__vLA0Qzz",
        "colab_type": "code",
        "colab": {
          "base_uri": "https://localhost:8080/",
          "height": 68
        },
        "outputId": "2655139f-3cf4-4c93-f566-c15fb32dca96"
      },
      "source": [
        "%%appyter code_exec\n",
        "\n",
        "with zipfile.ZipFile({{FileField(\n",
        "    constraint='.*\\.csv.zip$',\n",
        "    name='drug_identifiers', \n",
        "    label='Drug Identifiers Dataset (csv.zip)', \n",
        "    default='Input/DrugBank/drugbank_all_target_polypeptide_ids.csv.zip',\n",
        "    section='data')\n",
        "}}) as zipf:\n",
        "  with zipf.open('all.csv') as f:\n",
        "    df = pd.read_csv(f, usecols=['Gene Name', 'Drug IDs', 'Species'], index_col=0)"
      ],
      "execution_count": 10,
      "outputs": [
        {
          "output_type": "display_data",
          "data": {
            "text/plain": "<IPython.core.display.Markdown object>",
            "text/markdown": "```python\nwith zipfile.ZipFile('Input/DrugBank/drugbank_all_target_polypeptide_ids.csv.zip') as zipf:\n  with zipf.open('all.csv') as f:\n    df = pd.read_csv(f, usecols=['Gene Name', 'Drug IDs', 'Species'], index_col=0)\n```"
          },
          "metadata": {}
        }
      ]
    },
    {
      "cell_type": "code",
      "metadata": {
        "id": "A16GN1W90Qz2",
        "colab_type": "code",
        "colab": {
          "base_uri": "https://localhost:8080/",
          "height": 235
        },
        "outputId": "28d74fc4-b746-4723-8961-366afb3dc71b"
      },
      "source": [
        "df.head()"
      ],
      "execution_count": 11,
      "outputs": [
        {
          "output_type": "execute_result",
          "data": {
            "text/plain": "                                                     Species  \\\nGene Name                                                      \nftsI       Haemophilus influenzae (strain ATCC 51907 / DS...   \nHDC                                                   Humans   \nGLS2                                                  Humans   \nF13A1                                                 Humans   \nNOS2                                                  Humans   \n\n                                                    Drug IDs  \nGene Name                                                     \nftsI                                                 DB00303  \nHDC                                         DB00114; DB00117  \nGLS2                                                 DB00142  \nF13A1      DB01839; DB02340; DB11300; DB11311; DB11571; D...  \nNOS2       DB00125; DB00155; DB01017; DB01110; DB01234; D...  ",
            "text/html": "<div>\n<style scoped>\n    .dataframe tbody tr th:only-of-type {\n        vertical-align: middle;\n    }\n\n    .dataframe tbody tr th {\n        vertical-align: top;\n    }\n\n    .dataframe thead th {\n        text-align: right;\n    }\n</style>\n<table border=\"1\" class=\"dataframe\">\n  <thead>\n    <tr style=\"text-align: right;\">\n      <th></th>\n      <th>Species</th>\n      <th>Drug IDs</th>\n    </tr>\n    <tr>\n      <th>Gene Name</th>\n      <th></th>\n      <th></th>\n    </tr>\n  </thead>\n  <tbody>\n    <tr>\n      <th>ftsI</th>\n      <td>Haemophilus influenzae (strain ATCC 51907 / DS...</td>\n      <td>DB00303</td>\n    </tr>\n    <tr>\n      <th>HDC</th>\n      <td>Humans</td>\n      <td>DB00114; DB00117</td>\n    </tr>\n    <tr>\n      <th>GLS2</th>\n      <td>Humans</td>\n      <td>DB00142</td>\n    </tr>\n    <tr>\n      <th>F13A1</th>\n      <td>Humans</td>\n      <td>DB01839; DB02340; DB11300; DB11311; DB11571; D...</td>\n    </tr>\n    <tr>\n      <th>NOS2</th>\n      <td>Humans</td>\n      <td>DB00125; DB00155; DB01017; DB01110; DB01234; D...</td>\n    </tr>\n  </tbody>\n</table>\n</div>"
          },
          "metadata": {},
          "execution_count": 11
        }
      ]
    },
    {
      "cell_type": "code",
      "metadata": {
        "id": "9Kjzt6MZ0Qz6",
        "colab_type": "code",
        "colab": {
          "base_uri": "https://localhost:8080/",
          "height": 34
        },
        "outputId": "76c07255-399c-4437-d06f-7eedc8bd4888"
      },
      "source": [
        "df.shape"
      ],
      "execution_count": 12,
      "outputs": [
        {
          "output_type": "execute_result",
          "data": {
            "text/plain": "(5220, 2)"
          },
          "metadata": {},
          "execution_count": 12
        }
      ]
    },
    {
      "cell_type": "markdown",
      "metadata": {
        "id": "BWxQ7Ksf0Qz8",
        "colab_type": "text"
      },
      "source": [
        "# Load Drug Metadata"
      ]
    },
    {
      "cell_type": "code",
      "metadata": {
        "id": "P1Er98Y90Qz8",
        "colab_type": "code",
        "colab": {
          "base_uri": "https://localhost:8080/",
          "height": 51
        },
        "outputId": "d640c82d-7329-4217-9275-ebc377505d3c"
      },
      "source": [
        "%%appyter code_exec\n",
        "\n",
        "drug_meta = pd.read_csv({{FileField(\n",
        "    constraint='.*\\.zip$',\n",
        "    name='drug_metadata', \n",
        "    label='External Drug Links (csv.zip)', \n",
        "    default='Input/DrugBank/drugbank_all_drug_links.csv.zip',\n",
        "    section='data')\n",
        "}}, usecols=['DrugBank ID', 'Name'], index_col=0)"
      ],
      "execution_count": 13,
      "outputs": [
        {
          "output_type": "display_data",
          "data": {
            "text/plain": "<IPython.core.display.Markdown object>",
            "text/markdown": "```python\n\ndrug_meta = pd.read_csv('Input/DrugBank/drugbank_all_drug_links.csv.zip', usecols=['DrugBank ID', 'Name'], index_col=0)\n```"
          },
          "metadata": {}
        }
      ]
    },
    {
      "cell_type": "code",
      "metadata": {
        "id": "g4xDUpAh0Qz-",
        "colab_type": "code",
        "colab": {
          "base_uri": "https://localhost:8080/",
          "height": 235
        },
        "outputId": "dbf15e69-4e78-419a-caf3-9f4585b4e8af"
      },
      "source": [
        "drug_meta.head()"
      ],
      "execution_count": 14,
      "outputs": [
        {
          "output_type": "execute_result",
          "data": {
            "text/plain": "                            Name\nDrugBank ID                     \nDB00001                Lepirudin\nDB00002                Cetuximab\nDB00003             Dornase alfa\nDB00004      Denileukin diftitox\nDB00005               Etanercept",
            "text/html": "<div>\n<style scoped>\n    .dataframe tbody tr th:only-of-type {\n        vertical-align: middle;\n    }\n\n    .dataframe tbody tr th {\n        vertical-align: top;\n    }\n\n    .dataframe thead th {\n        text-align: right;\n    }\n</style>\n<table border=\"1\" class=\"dataframe\">\n  <thead>\n    <tr style=\"text-align: right;\">\n      <th></th>\n      <th>Name</th>\n    </tr>\n    <tr>\n      <th>DrugBank ID</th>\n      <th></th>\n    </tr>\n  </thead>\n  <tbody>\n    <tr>\n      <th>DB00001</th>\n      <td>Lepirudin</td>\n    </tr>\n    <tr>\n      <th>DB00002</th>\n      <td>Cetuximab</td>\n    </tr>\n    <tr>\n      <th>DB00003</th>\n      <td>Dornase alfa</td>\n    </tr>\n    <tr>\n      <th>DB00004</th>\n      <td>Denileukin diftitox</td>\n    </tr>\n    <tr>\n      <th>DB00005</th>\n      <td>Etanercept</td>\n    </tr>\n  </tbody>\n</table>\n</div>"
          },
          "metadata": {},
          "execution_count": 14
        }
      ]
    },
    {
      "cell_type": "code",
      "metadata": {
        "id": "dy3O7l0U0Q0B",
        "colab_type": "code",
        "colab": {
          "base_uri": "https://localhost:8080/",
          "height": 34
        },
        "outputId": "d5fd0314-28f0-4d03-c95e-4f16d870bbd6"
      },
      "source": [
        "drug_meta.shape"
      ],
      "execution_count": 15,
      "outputs": [
        {
          "output_type": "execute_result",
          "data": {
            "text/plain": "(13563, 1)"
          },
          "metadata": {},
          "execution_count": 15
        }
      ]
    },
    {
      "cell_type": "markdown",
      "metadata": {
        "id": "LKPQ8r8O0Q0D",
        "colab_type": "text"
      },
      "source": [
        "# Pre-process Data"
      ]
    },
    {
      "cell_type": "markdown",
      "metadata": {
        "id": "j_897lnE0Q0E",
        "colab_type": "text"
      },
      "source": [
        "## Get Relevant Data"
      ]
    },
    {
      "cell_type": "code",
      "metadata": {
        "id": "bA7tzyPW0Q0E",
        "colab_type": "code",
        "colab": {
          "base_uri": "https://localhost:8080/",
          "height": 0
        },
        "outputId": "5d13376f-048a-42d3-8bbd-9447ed74baf0"
      },
      "source": [
        "# Get Relevant Species\n",
        "df = df[np.logical_or.reduce([\n",
        "    df['Species'] == 'Humans',\n",
        "    df['Species'] == 'Mouse',\n",
        "    df['Species'] == 'Rat'\n",
        "])].drop('Species', axis=1)\n",
        "df.head()"
      ],
      "execution_count": 16,
      "outputs": [
        {
          "output_type": "execute_result",
          "data": {
            "text/plain": "                                                    Drug IDs\nGene Name                                                   \nHDC                                         DB00114; DB00117\nGLS2                                                 DB00142\nF13A1      DB01839; DB02340; DB11300; DB11311; DB11571; D...\nNOS2       DB00125; DB00155; DB01017; DB01110; DB01234; D...\nHSD17B2    DB00157; DB13952; DB13953; DB13954; DB13955; D...",
            "text/html": "<div>\n<style scoped>\n    .dataframe tbody tr th:only-of-type {\n        vertical-align: middle;\n    }\n\n    .dataframe tbody tr th {\n        vertical-align: top;\n    }\n\n    .dataframe thead th {\n        text-align: right;\n    }\n</style>\n<table border=\"1\" class=\"dataframe\">\n  <thead>\n    <tr style=\"text-align: right;\">\n      <th></th>\n      <th>Drug IDs</th>\n    </tr>\n    <tr>\n      <th>Gene Name</th>\n      <th></th>\n    </tr>\n  </thead>\n  <tbody>\n    <tr>\n      <th>HDC</th>\n      <td>DB00114; DB00117</td>\n    </tr>\n    <tr>\n      <th>GLS2</th>\n      <td>DB00142</td>\n    </tr>\n    <tr>\n      <th>F13A1</th>\n      <td>DB01839; DB02340; DB11300; DB11311; DB11571; D...</td>\n    </tr>\n    <tr>\n      <th>NOS2</th>\n      <td>DB00125; DB00155; DB01017; DB01110; DB01234; D...</td>\n    </tr>\n    <tr>\n      <th>HSD17B2</th>\n      <td>DB00157; DB13952; DB13953; DB13954; DB13955; D...</td>\n    </tr>\n  </tbody>\n</table>\n</div>"
          },
          "metadata": {},
          "execution_count": 16
        }
      ]
    },
    {
      "cell_type": "markdown",
      "metadata": {
        "id": "h7NuOs2A0Q0H",
        "colab_type": "text"
      },
      "source": [
        "## Split Drug ID list"
      ]
    },
    {
      "cell_type": "code",
      "metadata": {
        "id": "hEJCi7qU0Q0H",
        "colab_type": "code",
        "colab": {
          "base_uri": "https://localhost:8080/",
          "height": 0
        },
        "outputId": "8e12c64e-c31a-48d6-ecca-fc796b5dce1f"
      },
      "source": [
        "df['Drug IDs'] = df['Drug IDs'].map(lambda x: x.split('; '))\n",
        "df = df.explode('Drug IDs').dropna()\n",
        "df.head()"
      ],
      "execution_count": 17,
      "outputs": [
        {
          "output_type": "execute_result",
          "data": {
            "text/plain": "          Drug IDs\nGene Name         \nHDC        DB00114\nHDC        DB00117\nGLS2       DB00142\nF13A1      DB01839\nF13A1      DB02340",
            "text/html": "<div>\n<style scoped>\n    .dataframe tbody tr th:only-of-type {\n        vertical-align: middle;\n    }\n\n    .dataframe tbody tr th {\n        vertical-align: top;\n    }\n\n    .dataframe thead th {\n        text-align: right;\n    }\n</style>\n<table border=\"1\" class=\"dataframe\">\n  <thead>\n    <tr style=\"text-align: right;\">\n      <th></th>\n      <th>Drug IDs</th>\n    </tr>\n    <tr>\n      <th>Gene Name</th>\n      <th></th>\n    </tr>\n  </thead>\n  <tbody>\n    <tr>\n      <th>HDC</th>\n      <td>DB00114</td>\n    </tr>\n    <tr>\n      <th>HDC</th>\n      <td>DB00117</td>\n    </tr>\n    <tr>\n      <th>GLS2</th>\n      <td>DB00142</td>\n    </tr>\n    <tr>\n      <th>F13A1</th>\n      <td>DB01839</td>\n    </tr>\n    <tr>\n      <th>F13A1</th>\n      <td>DB02340</td>\n    </tr>\n  </tbody>\n</table>\n</div>"
          },
          "metadata": {},
          "execution_count": 17
        }
      ]
    },
    {
      "cell_type": "code",
      "metadata": {
        "id": "z6DfkPpp0Q0J",
        "colab_type": "code",
        "colab": {
          "base_uri": "https://localhost:8080/",
          "height": 0
        },
        "outputId": "4f38f522-699d-40b0-c6e5-0d5301b89986"
      },
      "source": [
        "df.shape"
      ],
      "execution_count": 18,
      "outputs": [
        {
          "output_type": "execute_result",
          "data": {
            "text/plain": "(16509, 1)"
          },
          "metadata": {},
          "execution_count": 18
        }
      ]
    },
    {
      "cell_type": "markdown",
      "metadata": {
        "id": "96-W7MLM0Q0L",
        "colab_type": "text"
      },
      "source": [
        "## Map Drug IDs to Names"
      ]
    },
    {
      "cell_type": "code",
      "metadata": {
        "id": "xl1EySI60Q0M",
        "colab_type": "code",
        "colab": {
          "base_uri": "https://localhost:8080/",
          "height": 0
        },
        "outputId": "c18bfeb7-f970-4cbd-a125-133717e81dbc"
      },
      "source": [
        "df['Drug IDs'] = drug_meta.reindex(df['Drug IDs']).set_index(df.index)\n",
        "df.index.name = 'Gene Symbol'\n",
        "df.columns = ['Drug Name']\n",
        "df.head()"
      ],
      "execution_count": 19,
      "outputs": [
        {
          "output_type": "execute_result",
          "data": {
            "text/plain": "                       Drug Name\nGene Symbol                     \nHDC          Pyridoxal phosphate\nHDC                    Histidine\nGLS2               Glutamic acid\nF13A1           Propylene glycol\nF13A1            N-Acetyl-Serine",
            "text/html": "<div>\n<style scoped>\n    .dataframe tbody tr th:only-of-type {\n        vertical-align: middle;\n    }\n\n    .dataframe tbody tr th {\n        vertical-align: top;\n    }\n\n    .dataframe thead th {\n        text-align: right;\n    }\n</style>\n<table border=\"1\" class=\"dataframe\">\n  <thead>\n    <tr style=\"text-align: right;\">\n      <th></th>\n      <th>Drug Name</th>\n    </tr>\n    <tr>\n      <th>Gene Symbol</th>\n      <th></th>\n    </tr>\n  </thead>\n  <tbody>\n    <tr>\n      <th>HDC</th>\n      <td>Pyridoxal phosphate</td>\n    </tr>\n    <tr>\n      <th>HDC</th>\n      <td>Histidine</td>\n    </tr>\n    <tr>\n      <th>GLS2</th>\n      <td>Glutamic acid</td>\n    </tr>\n    <tr>\n      <th>F13A1</th>\n      <td>Propylene glycol</td>\n    </tr>\n    <tr>\n      <th>F13A1</th>\n      <td>N-Acetyl-Serine</td>\n    </tr>\n  </tbody>\n</table>\n</div>"
          },
          "metadata": {},
          "execution_count": 19
        }
      ]
    },
    {
      "cell_type": "markdown",
      "metadata": {
        "id": "wn031Byq0Q0O",
        "colab_type": "text"
      },
      "source": [
        "# Filter Data"
      ]
    },
    {
      "cell_type": "markdown",
      "metadata": {
        "id": "ANTEpqwM0Q0O",
        "colab_type": "text"
      },
      "source": [
        "## Map Gene Symbols to Up-to-date Approved Gene Symbols"
      ]
    },
    {
      "cell_type": "code",
      "metadata": {
        "tags": [],
        "id": "v6F86_Hv0Q0O",
        "colab_type": "code",
        "colab": {
          "base_uri": "https://localhost:8080/",
          "height": 0
        },
        "outputId": "1b8fb540-3264-41c8-8994-08af8588cba0"
      },
      "source": [
        "df = uf.map_symbols(df, symbol_lookup, remove_duplicates=True)\n",
        "df.shape"
      ],
      "execution_count": 20,
      "outputs": [
        {
          "output_type": "stream",
          "name": "stderr",
          "text": "100%|██████████| 16509/16509 [00:00<00:00, 386114.06it/s]\n"
        },
        {
          "output_type": "execute_result",
          "data": {
            "text/plain": "(16123, 1)"
          },
          "metadata": {},
          "execution_count": 20
        }
      ]
    },
    {
      "cell_type": "markdown",
      "metadata": {
        "id": "0ZijKBpj0Q0Q",
        "colab_type": "text"
      },
      "source": [
        "# Analyze Data"
      ]
    },
    {
      "cell_type": "markdown",
      "metadata": {
        "id": "7R4ZhP8h0Q0R",
        "colab_type": "text"
      },
      "source": [
        "## Create Binary Matrix"
      ]
    },
    {
      "cell_type": "code",
      "metadata": {
        "id": "vspjd0Qf0Q0R",
        "colab_type": "code",
        "colab": {
          "base_uri": "https://localhost:8080/",
          "height": 0
        },
        "outputId": "4630876c-d8b3-4e95-a7b4-598c88350148"
      },
      "source": [
        "binary_matrix = uf.binary_matrix(df)\n",
        "binary_matrix.head()"
      ],
      "execution_count": 21,
      "outputs": [
        {
          "output_type": "execute_result",
          "data": {
            "text/plain": "                                                 False             \nAADACL2                                                  False             \nAADAT                                                    False             \nAANAT                                                    False             \n\nDrug Name    {[7-(Difluoro-Phosphono-Methyl)-Naphthalen-2-Yl]-Difluoro-Methyl}-Phosphonic Acid  \nGene Symbol                                                                                     \nA1BG                                                     False                                  \nA2M                                                      False                                  \nAADACL2                                                  False                                  \nAADAT                                                    False                                  \nAANAT                                                    False                                  \n\n[5 rows x 5660 columns]",
            "text/html": "<div>\n<style scoped>\n    .dataframe tbody tr th:only-of-type {\n        vertical-align: middle;\n    }\n\n    .dataframe tbody tr th {\n        vertical-align: top;\n    }\n\n    .dataframe thead th {\n        text-align: right;\n    }\n</style>\n<table border=\"1\" class=\"dataframe\">\n  <thead>\n    <tr style=\"text-align: right;\">\n      <th>Drug Name</th>\n      <th>(+)-2-(4-biphenyl)propionic acid</th>\n      <th>(+)-Rutamarin alcohol</th>\n      <th>(1'R,2'S)-9-(2-Hydroxy-3'-Keto-Cyclopenten-1-yl)Adenine</th>\n      <th>(1-Benzyl-5-methoxy-2-methyl-1H-indol-3-yl)acetic acid</th>\n      <th>(1-HYDROXYHEPTANE-1,1-DIYL)BIS(PHOSPHONIC ACID)</th>\n      <th>(1-HYDROXYNONANE-1,1-DIYL)BIS(PHOSPHONIC ACID)</th>\n      <th>(1-Methyl-1h-Imidazol-2-Yl)-(3-Methyl-4-{3-[(Pyridin-3-Ylmethyl)-Amino]-Propoxy}-Benzofuran-2-Yl)-Methanone</th>\n      <th>(10R)-10-methyl-3-(6-methylpyridin-3-yl)-9,10,11,12-tetrahydro-8H-[1,4]diazepino[5',6':4,5]thieno[3,2-f]quinolin-8-one</th>\n      <th>(11S)-8-CHLORO-11-[1-(METHYLSULFONYL)PIPERIDIN-4-YL]-6-PIPERAZIN-1-YL-11H-BENZO[5,6]CYCLOHEPTA[1,2-B]PYRIDINE</th>\n      <th>(13R,15S)-13-METHYL-16-OXA-8,9,12,22,24-PENTAAZAHEXACYCLO[15.6.2.16,9.1,12,15.0,2,7.0,21,25]HEPTACOSA-1(24),2,4,6,17(25),18,20-HEPTAENE-23,26-DIONE</th>\n      <th>...</th>\n      <th>{4-[(CARBOXYMETHOXY)CARBONYL]-3,3-DIOXIDO-1-OXONAPHTHO[1,2-D]ISOTHIAZOL-2(1H)-YL}ACETIC ACID</th>\n      <th>{4-[2,2-BIS(5-METHYL-1,2,4-OXADIAZOL-3-YL)-3-PHENYLPROPYL]PHENYL}SULFAMIC ACID</th>\n      <th>{4-[2-BENZYL-3-METHOXY-2-(METHOXYCARBONYL)-3-OXOPROPYL]PHENYL}SULFAMIC ACID</th>\n      <th>{4-[3-(4-acetyl-3-hydroxy-2-propylphenoxy)propoxy]phenoxy}acetic acid</th>\n      <th>{4-[3-(6,7-Diethoxy-Quinazolin-4-Ylamino)-Phenyl]-Thiazol-2-Yl}-Methanol</th>\n      <th>{[(2,6-difluorophenyl)carbonyl]amino}-N-(4-fluorophenyl)-1H-pyrazole-3-carboxamide</th>\n      <th>{[2-(1h-1,2,3-Benzotriazol-1-Yl)-2-(3,4-Difluorophenyl)Propane-1,3-Diyl]Bis[4,1-Phenylene(Difluoromethylene)]}Bis(Phosphonic Acid)</th>\n      <th>{[2-Amino-4-oxo-6,7-di(sulfanyl-κS)-3,5,5a,8,9a,10-hexahydro-4H-pyrano[3,2-g]pteridin-8-yl]methyl dihydrogenato(2-) phosphate}(dioxo)sulfanylmolybdenum</th>\n      <th>{[5-(5-nitro-2-furyl)-1,3,4-oxadiazol-2-yl]thio}acetic acid</th>\n      <th>{[7-(Difluoro-Phosphono-Methyl)-Naphthalen-2-Yl]-Difluoro-Methyl}-Phosphonic Acid</th>\n    </tr>\n    <tr>\n      <th>Gene Symbol</th>\n      <th></th>\n      <th></th>\n      <th></th>\n      <th></th>\n      <th></th>\n      <th></th>\n      <th></th>\n      <th></th>\n      <th></th>\n      <th></th>\n      <th></th>\n      <th></th>\n      <th></th>\n      <th></th>\n      <th></th>\n      <th></th>\n      <th></th>\n      <th></th>\n      <th></th>\n      <th></th>\n      <th></th>\n    </tr>\n  </thead>\n  <tbody>\n    <tr>\n      <th>A1BG</th>\n      <td>False</td>\n      <td>False</td>\n      <td>False</td>\n      <td>False</td>\n      <td>False</td>\n      <td>False</td>\n      <td>False</td>\n      <td>False</td>\n      <td>False</td>\n      <td>False</td>\n      <td>...</td>\n      <td>False</td>\n      <td>False</td>\n      <td>False</td>\n      <td>False</td>\n      <td>False</td>\n      <td>False</td>\n      <td>False</td>\n      <td>False</td>\n      <td>False</td>\n      <td>False</td>\n    </tr>\n    <tr>\n      <th>A2M</th>\n      <td>False</td>\n      <td>False</td>\n      <td>False</td>\n      <td>False</td>\n      <td>False</td>\n      <td>False</td>\n      <td>False</td>\n      <td>False</td>\n      <td>False</td>\n      <td>False</td>\n      <td>...</td>\n      <td>False</td>\n      <td>False</td>\n      <td>False</td>\n      <td>False</td>\n      <td>False</td>\n      <td>False</td>\n      <td>False</td>\n      <td>False</td>\n      <td>False</td>\n      <td>False</td>\n    </tr>\n    <tr>\n      <th>AADACL2</th>\n      <td>False</td>\n      <td>False</td>\n      <td>False</td>\n      <td>False</td>\n      <td>False</td>\n      <td>False</td>\n      <td>False</td>\n      <td>False</td>\n      <td>False</td>\n      <td>False</td>\n      <td>...</td>\n      <td>False</td>\n      <td>False</td>\n      <td>False</td>\n      <td>False</td>\n      <td>False</td>\n      <td>False</td>\n      <td>False</td>\n      <td>False</td>\n      <td>False</td>\n      <td>False</td>\n    </tr>\n    <tr>\n      <th>AADAT</th>\n      <td>False</td>\n      <td>False</td>\n      <td>False</td>\n      <td>False</td>\n      <td>False</td>\n      <td>False</td>\n      <td>False</td>\n      <td>False</td>\n      <td>False</td>\n      <td>False</td>\n      <td>...</td>\n      <td>False</td>\n      <td>False</td>\n      <td>False</td>\n      <td>False</td>\n      <td>False</td>\n      <td>False</td>\n      <td>False</td>\n      <td>False</td>\n      <td>False</td>\n      <td>False</td>\n    </tr>\n    <tr>\n      <th>AANAT</th>\n      <td>False</td>\n      <td>False</td>\n      <td>False</td>\n      <td>False</td>\n      <td>False</td>\n      <td>False</td>\n      <td>False</td>\n      <td>False</td>\n      <td>False</td>\n      <td>False</td>\n      <td>...</td>\n      <td>False</td>\n      <td>False</td>\n      <td>False</td>\n      <td>False</td>\n      <td>False</td>\n      <td>False</td>\n      <td>False</td>\n      <td>False</td>\n      <td>False</td>\n      <td>False</td>\n    </tr>\n  </tbody>\n</table>\n<p>5 rows × 5660 columns</p>\n</div>"
          },
          "metadata": {},
          "execution_count": 21
        }
      ]
    },
    {
      "cell_type": "code",
      "metadata": {
        "id": "jaVbXxHF0Q0T",
        "colab_type": "code",
        "colab": {
          "base_uri": "https://localhost:8080/",
          "height": 0
        },
        "outputId": "0949ed85-8264-4661-bf81-0586a51d8c3d"
      },
      "source": [
        "binary_matrix.shape"
      ],
      "execution_count": 22,
      "outputs": [
        {
          "output_type": "execute_result",
          "data": {
            "text/plain": "(2774, 5660)"
          },
          "metadata": {},
          "execution_count": 22
        }
      ]
    },
    {
      "cell_type": "code",
      "metadata": {
        "id": "_BfbcyKU0Q0W",
        "colab_type": "code",
        "colab": {}
      },
      "source": [
        "uf.save_data(binary_matrix, path, output_name + '_binary_matrix', \n",
        "            compression='npz', dtype=np.uint8)"
      ],
      "execution_count": 23,
      "outputs": []
    },
    {
      "cell_type": "markdown",
      "metadata": {
        "id": "UfUs-t6j0Q0Y",
        "colab_type": "text"
      },
      "source": [
        "## Create Gene List"
      ]
    },
    {
      "cell_type": "code",
      "metadata": {
        "id": "5imzB6FL0Q0Y",
        "colab_type": "code",
        "colab": {
          "base_uri": "https://localhost:8080/",
          "height": 0
        },
        "outputId": "72a24006-bbfa-4f5b-b56a-32f804376ef4",
        "tags": []
      },
      "source": [
        "gene_list = uf.gene_list(binary_matrix, geneid_lookup)\n",
        "gene_list.head()"
      ],
      "execution_count": 24,
      "outputs": [
        {
          "output_type": "stream",
          "name": "stderr",
          "text": "100%|██████████| 2774/2774 [00:00<00:00, 209405.70it/s]\n"
        },
        {
          "output_type": "execute_result",
          "data": {
            "text/plain": "             Gene ID\nGene Symbol         \nA1BG               1\nA2M                2\nAADACL2       344752\nAADAT          51166\nAANAT             15",
            "text/html": "<div>\n<style scoped>\n    .dataframe tbody tr th:only-of-type {\n        vertical-align: middle;\n    }\n\n    .dataframe tbody tr th {\n        vertical-align: top;\n    }\n\n    .dataframe thead th {\n        text-align: right;\n    }\n</style>\n<table border=\"1\" class=\"dataframe\">\n  <thead>\n    <tr style=\"text-align: right;\">\n      <th></th>\n      <th>Gene ID</th>\n    </tr>\n    <tr>\n      <th>Gene Symbol</th>\n      <th></th>\n    </tr>\n  </thead>\n  <tbody>\n    <tr>\n      <th>A1BG</th>\n      <td>1</td>\n    </tr>\n    <tr>\n      <th>A2M</th>\n      <td>2</td>\n    </tr>\n    <tr>\n      <th>AADACL2</th>\n      <td>344752</td>\n    </tr>\n    <tr>\n      <th>AADAT</th>\n      <td>51166</td>\n    </tr>\n    <tr>\n      <th>AANAT</th>\n      <td>15</td>\n    </tr>\n  </tbody>\n</table>\n</div>"
          },
          "metadata": {},
          "execution_count": 24
        }
      ]
    },
    {
      "cell_type": "code",
      "metadata": {
        "id": "eA2WqrZn0Q0a",
        "colab_type": "code",
        "colab": {
          "base_uri": "https://localhost:8080/",
          "height": 0
        },
        "outputId": "2c551e2e-05db-4640-8158-3d842211646c"
      },
      "source": [
        "gene_list.shape"
      ],
      "execution_count": 25,
      "outputs": [
        {
          "output_type": "execute_result",
          "data": {
            "text/plain": "(2774, 1)"
          },
          "metadata": {},
          "execution_count": 25
        }
      ]
    },
    {
      "cell_type": "code",
      "metadata": {
        "id": "FRSDHJi-0Q0c",
        "colab_type": "code",
        "colab": {}
      },
      "source": [
        "uf.save_data(gene_list, path, output_name + '_gene_list',\n",
        "            ext='tsv', compression='gzip', index=False)"
      ],
      "execution_count": 26,
      "outputs": []
    },
    {
      "cell_type": "markdown",
      "metadata": {
        "id": "J-tQ7p0z0Q0e",
        "colab_type": "text"
      },
      "source": [
        "## Create Attribute List"
      ]
    },
    {
      "cell_type": "code",
      "metadata": {
        "id": "JY8RE-hg0Q0f",
        "colab_type": "code",
        "colab": {
          "base_uri": "https://localhost:8080/",
          "height": 0
        },
        "outputId": "cc0be22a-f8c5-430c-ee68-c5b0f87e5e81"
      },
      "source": [
        "attribute_list = uf.attribute_list(binary_matrix)\n",
        "attribute_list.head()"
      ],
      "execution_count": 27,
      "outputs": [
        {
          "output_type": "execute_result",
          "data": {
            "text/plain": "Empty DataFrame\nColumns: []\nIndex: [(+)-2-(4-biphenyl)propionic acid, (+)-Rutamarin alcohol, (1'R,2'S)-9-(2-Hydroxy-3'-Keto-Cyclopenten-1-yl)Adenine, (1-Benzyl-5-methoxy-2-methyl-1H-indol-3-yl)acetic acid, (1-HYDROXYHEPTANE-1,1-DIYL)BIS(PHOSPHONIC ACID)]",
            "text/html": "<div>\n<style scoped>\n    .dataframe tbody tr th:only-of-type {\n        vertical-align: middle;\n    }\n\n    .dataframe tbody tr th {\n        vertical-align: top;\n    }\n\n    .dataframe thead th {\n        text-align: right;\n    }\n</style>\n<table border=\"1\" class=\"dataframe\">\n  <thead>\n    <tr style=\"text-align: right;\">\n      <th></th>\n    </tr>\n    <tr>\n      <th>Drug Name</th>\n    </tr>\n  </thead>\n  <tbody>\n    <tr>\n      <th>(+)-2-(4-biphenyl)propionic acid</th>\n    </tr>\n    <tr>\n      <th>(+)-Rutamarin alcohol</th>\n    </tr>\n    <tr>\n      <th>(1'R,2'S)-9-(2-Hydroxy-3'-Keto-Cyclopenten-1-yl)Adenine</th>\n    </tr>\n    <tr>\n      <th>(1-Benzyl-5-methoxy-2-methyl-1H-indol-3-yl)acetic acid</th>\n    </tr>\n    <tr>\n      <th>(1-HYDROXYHEPTANE-1,1-DIYL)BIS(PHOSPHONIC ACID)</th>\n    </tr>\n  </tbody>\n</table>\n</div>"
          },
          "metadata": {},
          "execution_count": 27
        }
      ]
    },
    {
      "cell_type": "code",
      "metadata": {
        "id": "q3h2Z7J40Q0h",
        "colab_type": "code",
        "colab": {
          "base_uri": "https://localhost:8080/",
          "height": 0
        },
        "outputId": "a66728ef-f716-49f3-bcfa-31ec37d404f4"
      },
      "source": [
        "attribute_list.shape"
      ],
      "execution_count": 28,
      "outputs": [
        {
          "output_type": "execute_result",
          "data": {
            "text/plain": "(5660, 0)"
          },
          "metadata": {},
          "execution_count": 28
        }
      ]
    },
    {
      "cell_type": "code",
      "metadata": {
        "id": "GZLVxMhd0Q0j",
        "colab_type": "code",
        "colab": {}
      },
      "source": [
        "uf.save_data(attribute_list, path, output_name + '_attribute_list',\n",
        "            ext='tsv', compression='gzip')"
      ],
      "execution_count": 29,
      "outputs": []
    },
    {
      "cell_type": "markdown",
      "metadata": {
        "id": "XeX9jcR80Q0l",
        "colab_type": "text"
      },
      "source": [
        "## Create Gene and Attribute Set Libraries"
      ]
    },
    {
      "cell_type": "code",
      "metadata": {
        "id": "m3UkBrNV0Q0l",
        "colab_type": "code",
        "colab": {
          "base_uri": "https://localhost:8080/",
          "height": 0
        },
        "outputId": "0b5eeb59-9115-474f-f783-1f0f9090c89f",
        "tags": []
      },
      "source": [
        "uf.save_setlib(binary_matrix, 'gene', 'up', path, output_name + '_gene_up_set')"
      ],
      "execution_count": 30,
      "outputs": [
        {
          "output_type": "stream",
          "name": "stderr",
          "text": "100%|██████████| 5660/5660 [00:00<00:00, 36503.22it/s]\n"
        }
      ]
    },
    {
      "cell_type": "code",
      "metadata": {
        "id": "lwIBQM0D0Q0n",
        "colab_type": "code",
        "colab": {
          "base_uri": "https://localhost:8080/",
          "height": 0
        },
        "outputId": "ff85cfe8-fce0-45c2-aa10-0216d6c25ac1",
        "tags": []
      },
      "source": [
        "uf.save_setlib(binary_matrix, 'attribute', 'up', path, \n",
        "                           output_name + '_attribute_up_set')"
      ],
      "execution_count": 31,
      "outputs": [
        {
          "output_type": "stream",
          "name": "stderr",
          "text": "100%|██████████| 2774/2774 [00:00<00:00, 32229.74it/s]\n"
        }
      ]
    },
    {
      "cell_type": "markdown",
      "metadata": {
        "id": "oLEnEOe90Q0p",
        "colab_type": "text"
      },
      "source": [
        "## Create Attribute Similarity Matrix"
      ]
    },
    {
      "cell_type": "code",
      "metadata": {
        "id": "QH_HmT620Q0q",
        "colab_type": "code",
        "colab": {
          "base_uri": "https://localhost:8080/",
          "height": 0
        },
        "outputId": "2d0cb9dc-a7ea-408c-f026-d3ea1c2ece2f"
      },
      "source": [
        "attribute_similarity_matrix = uf.similarity_matrix(binary_matrix.T, 'jaccard', sparse=True)\n",
        "attribute_similarity_matrix.head()"
      ],
      "execution_count": 32,
      "outputs": [
        {
          "output_type": "execute_result",
          "data": {
            "text/plain": "                           0.0             \n(1-HYDROXYHEPTANE-1,1-DIYL)BIS(PHOSPHONIC ACID)                                                   0.0             \n\n                                                    {[7-(Difluoro-Phosphono-Methyl)-Naphthalen-2-Yl]-Difluoro-Methyl}-Phosphonic Acid  \n(+)-2-(4-biphenyl)propionic acid                                                                  0.0                                  \n(+)-Rutamarin alcohol                                                                             0.0                                  \n(1'R,2'S)-9-(2-Hydroxy-3'-Keto-Cyclopenten-1-yl...                                                0.0                                  \n(1-Benzyl-5-methoxy-2-methyl-1H-indol-3-yl)acet...                                                0.0                                  \n(1-HYDROXYHEPTANE-1,1-DIYL)BIS(PHOSPHONIC ACID)                                                   0.0                                  \n\n[5 rows x 5660 columns]",
            "text/html": "<div>\n<style scoped>\n    .dataframe tbody tr th:only-of-type {\n        vertical-align: middle;\n    }\n\n    .dataframe tbody tr th {\n        vertical-align: top;\n    }\n\n    .dataframe thead th {\n        text-align: right;\n    }\n</style>\n<table border=\"1\" class=\"dataframe\">\n  <thead>\n    <tr style=\"text-align: right;\">\n      <th></th>\n      <th>(+)-2-(4-biphenyl)propionic acid</th>\n      <th>(+)-Rutamarin alcohol</th>\n      <th>(1'R,2'S)-9-(2-Hydroxy-3'-Keto-Cyclopenten-1-yl)Adenine</th>\n      <th>(1-Benzyl-5-methoxy-2-methyl-1H-indol-3-yl)acetic acid</th>\n      <th>(1-HYDROXYHEPTANE-1,1-DIYL)BIS(PHOSPHONIC ACID)</th>\n      <th>(1-HYDROXYNONANE-1,1-DIYL)BIS(PHOSPHONIC ACID)</th>\n      <th>(1-Methyl-1h-Imidazol-2-Yl)-(3-Methyl-4-{3-[(Pyridin-3-Ylmethyl)-Amino]-Propoxy}-Benzofuran-2-Yl)-Methanone</th>\n      <th>(10R)-10-methyl-3-(6-methylpyridin-3-yl)-9,10,11,12-tetrahydro-8H-[1,4]diazepino[5',6':4,5]thieno[3,2-f]quinolin-8-one</th>\n      <th>(11S)-8-CHLORO-11-[1-(METHYLSULFONYL)PIPERIDIN-4-YL]-6-PIPERAZIN-1-YL-11H-BENZO[5,6]CYCLOHEPTA[1,2-B]PYRIDINE</th>\n      <th>(13R,15S)-13-METHYL-16-OXA-8,9,12,22,24-PENTAAZAHEXACYCLO[15.6.2.16,9.1,12,15.0,2,7.0,21,25]HEPTACOSA-1(24),2,4,6,17(25),18,20-HEPTAENE-23,26-DIONE</th>\n      <th>...</th>\n      <th>{4-[(CARBOXYMETHOXY)CARBONYL]-3,3-DIOXIDO-1-OXONAPHTHO[1,2-D]ISOTHIAZOL-2(1H)-YL}ACETIC ACID</th>\n      <th>{4-[2,2-BIS(5-METHYL-1,2,4-OXADIAZOL-3-YL)-3-PHENYLPROPYL]PHENYL}SULFAMIC ACID</th>\n      <th>{4-[2-BENZYL-3-METHOXY-2-(METHOXYCARBONYL)-3-OXOPROPYL]PHENYL}SULFAMIC ACID</th>\n      <th>{4-[3-(4-acetyl-3-hydroxy-2-propylphenoxy)propoxy]phenoxy}acetic acid</th>\n      <th>{4-[3-(6,7-Diethoxy-Quinazolin-4-Ylamino)-Phenyl]-Thiazol-2-Yl}-Methanol</th>\n      <th>{[(2,6-difluorophenyl)carbonyl]amino}-N-(4-fluorophenyl)-1H-pyrazole-3-carboxamide</th>\n      <th>{[2-(1h-1,2,3-Benzotriazol-1-Yl)-2-(3,4-Difluorophenyl)Propane-1,3-Diyl]Bis[4,1-Phenylene(Difluoromethylene)]}Bis(Phosphonic Acid)</th>\n      <th>{[2-Amino-4-oxo-6,7-di(sulfanyl-κS)-3,5,5a,8,9a,10-hexahydro-4H-pyrano[3,2-g]pteridin-8-yl]methyl dihydrogenato(2-) phosphate}(dioxo)sulfanylmolybdenum</th>\n      <th>{[5-(5-nitro-2-furyl)-1,3,4-oxadiazol-2-yl]thio}acetic acid</th>\n      <th>{[7-(Difluoro-Phosphono-Methyl)-Naphthalen-2-Yl]-Difluoro-Methyl}-Phosphonic Acid</th>\n    </tr>\n  </thead>\n  <tbody>\n    <tr>\n      <th>(+)-2-(4-biphenyl)propionic acid</th>\n      <td>1.0</td>\n      <td>0.0</td>\n      <td>0.0</td>\n      <td>0.0</td>\n      <td>0.0</td>\n      <td>0.0</td>\n      <td>0.0</td>\n      <td>0.0</td>\n      <td>0.0</td>\n      <td>0.0</td>\n      <td>...</td>\n      <td>0.0</td>\n      <td>0.0</td>\n      <td>0.0</td>\n      <td>0.0</td>\n      <td>0.0</td>\n      <td>0.0</td>\n      <td>0.0</td>\n      <td>0.0</td>\n      <td>0.0</td>\n      <td>0.0</td>\n    </tr>\n    <tr>\n      <th>(+)-Rutamarin alcohol</th>\n      <td>0.0</td>\n      <td>1.0</td>\n      <td>0.0</td>\n      <td>0.0</td>\n      <td>0.0</td>\n      <td>0.0</td>\n      <td>0.0</td>\n      <td>0.0</td>\n      <td>0.0</td>\n      <td>0.0</td>\n      <td>...</td>\n      <td>0.0</td>\n      <td>0.0</td>\n      <td>0.0</td>\n      <td>0.0</td>\n      <td>0.0</td>\n      <td>0.0</td>\n      <td>0.0</td>\n      <td>0.0</td>\n      <td>0.0</td>\n      <td>0.0</td>\n    </tr>\n    <tr>\n      <th>(1'R,2'S)-9-(2-Hydroxy-3'-Keto-Cyclopenten-1-yl)Adenine</th>\n      <td>0.0</td>\n      <td>0.0</td>\n      <td>1.0</td>\n      <td>0.0</td>\n      <td>0.0</td>\n      <td>0.0</td>\n      <td>0.0</td>\n      <td>0.0</td>\n      <td>0.0</td>\n      <td>0.0</td>\n      <td>...</td>\n      <td>0.0</td>\n      <td>0.0</td>\n      <td>0.0</td>\n      <td>0.0</td>\n      <td>0.0</td>\n      <td>0.0</td>\n      <td>0.0</td>\n      <td>0.0</td>\n      <td>0.0</td>\n      <td>0.0</td>\n    </tr>\n    <tr>\n      <th>(1-Benzyl-5-methoxy-2-methyl-1H-indol-3-yl)acetic acid</th>\n      <td>0.0</td>\n      <td>0.0</td>\n      <td>0.0</td>\n      <td>1.0</td>\n      <td>0.0</td>\n      <td>0.0</td>\n      <td>0.0</td>\n      <td>0.0</td>\n      <td>0.0</td>\n      <td>0.0</td>\n      <td>...</td>\n      <td>0.0</td>\n      <td>0.0</td>\n      <td>0.0</td>\n      <td>0.0</td>\n      <td>0.0</td>\n      <td>0.0</td>\n      <td>0.0</td>\n      <td>0.0</td>\n      <td>0.0</td>\n      <td>0.0</td>\n    </tr>\n    <tr>\n      <th>(1-HYDROXYHEPTANE-1,1-DIYL)BIS(PHOSPHONIC ACID)</th>\n      <td>0.0</td>\n      <td>0.0</td>\n      <td>0.0</td>\n      <td>0.0</td>\n      <td>1.0</td>\n      <td>1.0</td>\n      <td>0.0</td>\n      <td>0.0</td>\n      <td>0.0</td>\n      <td>0.0</td>\n      <td>...</td>\n      <td>0.0</td>\n      <td>0.0</td>\n      <td>0.0</td>\n      <td>0.0</td>\n      <td>0.0</td>\n      <td>0.0</td>\n      <td>0.0</td>\n      <td>0.0</td>\n      <td>0.0</td>\n      <td>0.0</td>\n    </tr>\n  </tbody>\n</table>\n<p>5 rows × 5660 columns</p>\n</div>"
          },
          "metadata": {},
          "execution_count": 32
        }
      ]
    },
    {
      "cell_type": "code",
      "metadata": {
        "id": "1T5uQaDb0Q0s",
        "colab_type": "code",
        "colab": {}
      },
      "source": [
        "uf.save_data(attribute_similarity_matrix, path,\n",
        "            output_name + '_attribute_similarity_matrix', \n",
        "            compression='npz', symmetric=True, dtype=np.float32)"
      ],
      "execution_count": 33,
      "outputs": []
    },
    {
      "cell_type": "code",
      "metadata": {
        "id": "6aOtjXgc0Q0u",
        "colab_type": "code",
        "colab": {}
      },
      "source": [
        "net.load_df(attribute_similarity_matrix.iloc[:,:].copy())\n",
        "net.filter_N_top('row', rank_type='sum', N_top=300)\n",
        "net.cluster()\n",
        "net.widget()"
      ],
      "execution_count": 38,
      "outputs": [
        {
          "output_type": "display_data",
          "data": {
            "text/plain": "clustergrammer_widget(network='{\"row_nodes\": [{\"name\": \"3-bromo-5-phenyl-N-(pyrimidin-5-ylmethyl)pyrazolo[1,5-…",
            "application/vnd.jupyter.widget-view+json": {
              "version_major": 2,
              "version_minor": 0,
              "model_id": "af8f0b939bd34c3d9021151159def217"
            }
          },
          "metadata": {}
        }
      ]
    },
    {
      "cell_type": "markdown",
      "metadata": {
        "id": "82UTrjTu0Q0v",
        "colab_type": "text"
      },
      "source": [
        "## Create Gene Similarity Matrix"
      ]
    },
    {
      "cell_type": "code",
      "metadata": {
        "id": "x2xYLMzB0Q0w",
        "colab_type": "code",
        "colab": {
          "base_uri": "https://localhost:8080/",
          "height": 0
        },
        "outputId": "cef15944-b3bf-429f-854c-0ca21ddfd296"
      },
      "source": [
        "gene_similarity_matrix = uf.similarity_matrix(binary_matrix, 'jaccard', sparse=True)\n",
        "gene_similarity_matrix.head()"
      ],
      "execution_count": 35,
      "outputs": [
        {
          "output_type": "execute_result",
          "data": {
            "text/plain": "ASS  ABAT  ABCA1  \\\nA1BG      1.0  0.2      0.0    0.0    0.0    0.0    0.0   0.0  0.00    0.0   \nA2M       0.2  1.0      0.0    0.0    0.0    0.0    0.0   0.0  0.00    0.0   \nAADACL2   0.0  0.0      1.0    0.0    0.0    0.0    0.0   0.0  0.00    0.0   \nAADAT     0.0  0.0      0.0    1.0    0.0    0.0    0.0   0.2  0.25    0.0   \nAANAT     0.0  0.0      0.0    0.0    1.0    0.0    0.0   0.0  0.00    0.0   \n\n         ...  YES1  YWHAB  YWHAE  YWHAH  YWHAQ  YWHAZ  ZAP70  ZFY    ZNF160  \\\nA1BG     ...   0.0   0.25    0.0    0.0    0.0    0.0    0.0  0.0  0.000000   \nA2M      ...   0.0   0.00    0.0    0.0    0.0    0.0    0.0  0.0  0.086957   \nAADACL2  ...   0.0   0.00    0.0    0.0    0.0    0.0    0.0  0.0  0.000000   \nAADAT    ...   0.0   0.00    0.0    0.0    0.0    0.0    0.0  0.0  0.000000   \nAANAT    ...   0.0   0.00    0.0    0.0    0.0    0.0    0.0  0.0  0.000000   \n\n         ZYX  \nA1BG     0.0  \nA2M      0.0  \nAADACL2  0.0  \nAADAT    0.0  \nAANAT    0.0  \n\n[5 rows x 2774 columns]",
            "text/html": "<div>\n<style scoped>\n    .dataframe tbody tr th:only-of-type {\n        vertical-align: middle;\n    }\n\n    .dataframe tbody tr th {\n        vertical-align: top;\n    }\n\n    .dataframe thead th {\n        text-align: right;\n    }\n</style>\n<table border=\"1\" class=\"dataframe\">\n  <thead>\n    <tr style=\"text-align: right;\">\n      <th></th>\n      <th>A1BG</th>\n      <th>A2M</th>\n      <th>AADACL2</th>\n      <th>AADAT</th>\n      <th>AANAT</th>\n      <th>AARS1</th>\n      <th>AARS2</th>\n      <th>AASS</th>\n      <th>ABAT</th>\n      <th>ABCA1</th>\n      <th>...</th>\n      <th>YES1</th>\n      <th>YWHAB</th>\n      <th>YWHAE</th>\n      <th>YWHAH</th>\n      <th>YWHAQ</th>\n      <th>YWHAZ</th>\n      <th>ZAP70</th>\n      <th>ZFY</th>\n      <th>ZNF160</th>\n      <th>ZYX</th>\n    </tr>\n  </thead>\n  <tbody>\n    <tr>\n      <th>A1BG</th>\n      <td>1.0</td>\n      <td>0.2</td>\n      <td>0.0</td>\n      <td>0.0</td>\n      <td>0.0</td>\n      <td>0.0</td>\n      <td>0.0</td>\n      <td>0.0</td>\n      <td>0.00</td>\n      <td>0.0</td>\n      <td>...</td>\n      <td>0.0</td>\n      <td>0.25</td>\n      <td>0.0</td>\n      <td>0.0</td>\n      <td>0.0</td>\n      <td>0.0</td>\n      <td>0.0</td>\n      <td>0.0</td>\n      <td>0.000000</td>\n      <td>0.0</td>\n    </tr>\n    <tr>\n      <th>A2M</th>\n      <td>0.2</td>\n      <td>1.0</td>\n      <td>0.0</td>\n      <td>0.0</td>\n      <td>0.0</td>\n      <td>0.0</td>\n      <td>0.0</td>\n      <td>0.0</td>\n      <td>0.00</td>\n      <td>0.0</td>\n      <td>...</td>\n      <td>0.0</td>\n      <td>0.00</td>\n      <td>0.0</td>\n      <td>0.0</td>\n      <td>0.0</td>\n      <td>0.0</td>\n      <td>0.0</td>\n      <td>0.0</td>\n      <td>0.086957</td>\n      <td>0.0</td>\n    </tr>\n    <tr>\n      <th>AADACL2</th>\n      <td>0.0</td>\n      <td>0.0</td>\n      <td>1.0</td>\n      <td>0.0</td>\n      <td>0.0</td>\n      <td>0.0</td>\n      <td>0.0</td>\n      <td>0.0</td>\n      <td>0.00</td>\n      <td>0.0</td>\n      <td>...</td>\n      <td>0.0</td>\n      <td>0.00</td>\n      <td>0.0</td>\n      <td>0.0</td>\n      <td>0.0</td>\n      <td>0.0</td>\n      <td>0.0</td>\n      <td>0.0</td>\n      <td>0.000000</td>\n      <td>0.0</td>\n    </tr>\n    <tr>\n      <th>AADAT</th>\n      <td>0.0</td>\n      <td>0.0</td>\n      <td>0.0</td>\n      <td>1.0</td>\n      <td>0.0</td>\n      <td>0.0</td>\n      <td>0.0</td>\n      <td>0.2</td>\n      <td>0.25</td>\n      <td>0.0</td>\n      <td>...</td>\n      <td>0.0</td>\n      <td>0.00</td>\n      <td>0.0</td>\n      <td>0.0</td>\n      <td>0.0</td>\n      <td>0.0</td>\n      <td>0.0</td>\n      <td>0.0</td>\n      <td>0.000000</td>\n      <td>0.0</td>\n    </tr>\n    <tr>\n      <th>AANAT</th>\n      <td>0.0</td>\n      <td>0.0</td>\n      <td>0.0</td>\n      <td>0.0</td>\n      <td>1.0</td>\n      <td>0.0</td>\n      <td>0.0</td>\n      <td>0.0</td>\n      <td>0.00</td>\n      <td>0.0</td>\n      <td>...</td>\n      <td>0.0</td>\n      <td>0.00</td>\n      <td>0.0</td>\n      <td>0.0</td>\n      <td>0.0</td>\n      <td>0.0</td>\n      <td>0.0</td>\n      <td>0.0</td>\n      <td>0.000000</td>\n      <td>0.0</td>\n    </tr>\n  </tbody>\n</table>\n<p>5 rows × 2774 columns</p>\n</div>"
          },
          "metadata": {},
          "execution_count": 35
        }
      ]
    },
    {
      "cell_type": "code",
      "metadata": {
        "id": "KvzM5jIO0Q0y",
        "colab_type": "code",
        "colab": {}
      },
      "source": [
        "uf.save_data(gene_similarity_matrix, path, \n",
        "            output_name + '_gene_similarity_matrix',\n",
        "            compression='npz', symmetric=True, dtype=np.float32)"
      ],
      "execution_count": 36,
      "outputs": []
    },
    {
      "cell_type": "markdown",
      "metadata": {
        "id": "9CUYyQ6r0Q0z",
        "colab_type": "text"
      },
      "source": [
        "## Create Gene-Attribute Edge List"
      ]
    },
    {
      "cell_type": "code",
      "metadata": {
        "id": "qWB2YU3x0Q00",
        "colab_type": "code",
        "colab": {
          "base_uri": "https://localhost:8080/",
          "height": 34
        },
        "outputId": "f80686f9-29fd-4c47-faf1-4c33704d8ef2",
        "tags": []
      },
      "source": [
        "edge_list = uf.edge_list(binary_matrix)\n",
        "uf.save_data(edge_list, path, output_name + '_edge_list', \n",
        "        ext='tsv', compression='gzip')"
      ],
      "execution_count": 37,
      "outputs": [
        {
          "output_type": "stream",
          "name": "stdout",
          "text": "The number of statisticaly relevent gene-attribute associations is: 16123\n"
        },
        {
          "output_type": "error",
          "ename": "KeyboardInterrupt",
          "evalue": "",
          "traceback": [
            "\u001b[0;31m---------------------------------------------------------------------------\u001b[0m",
            "\u001b[0;31mKeyboardInterrupt\u001b[0m                         Traceback (most recent call last)",
            "\u001b[0;32m<ipython-input-37-8f19133ef467>\u001b[0m in \u001b[0;36m<module>\u001b[0;34m\u001b[0m\n\u001b[1;32m      1\u001b[0m \u001b[0medge_list\u001b[0m \u001b[0;34m=\u001b[0m \u001b[0muf\u001b[0m\u001b[0;34m.\u001b[0m\u001b[0medge_list\u001b[0m\u001b[0;34m(\u001b[0m\u001b[0mbinary_matrix\u001b[0m\u001b[0;34m)\u001b[0m\u001b[0;34m\u001b[0m\u001b[0;34m\u001b[0m\u001b[0m\n\u001b[0;32m----> 2\u001b[0;31m uf.save_data(edge_list, path, output_name + '_edge_list', \n\u001b[0m\u001b[1;32m      3\u001b[0m         ext='tsv', compression='gzip')\n",
            "\u001b[0;32m~/Projects/Environments/harmonizome/lib/python3.8/site-packages/harmonizome/utility_functions.py\u001b[0m in \u001b[0;36msave_data\u001b[0;34m(df, path, name, compression, ext, symmetric, dtype, **kwargs)\u001b[0m\n\u001b[1;32m    308\u001b[0m     \u001b[0;32melif\u001b[0m \u001b[0mcompression\u001b[0m \u001b[0;34m==\u001b[0m \u001b[0;34m'gzip'\u001b[0m\u001b[0;34m:\u001b[0m\u001b[0;34m\u001b[0m\u001b[0;34m\u001b[0m\u001b[0m\n\u001b[1;32m    309\u001b[0m         \u001b[0mname\u001b[0m \u001b[0;34m=\u001b[0m \u001b[0mfile_name\u001b[0m\u001b[0;34m(\u001b[0m\u001b[0mpath\u001b[0m\u001b[0;34m,\u001b[0m \u001b[0mname\u001b[0m\u001b[0;34m,\u001b[0m \u001b[0mext\u001b[0m \u001b[0;34m+\u001b[0m \u001b[0;34m'.gz'\u001b[0m\u001b[0;34m)\u001b[0m\u001b[0;34m\u001b[0m\u001b[0;34m\u001b[0m\u001b[0m\n\u001b[0;32m--> 310\u001b[0;31m         \u001b[0mdf\u001b[0m\u001b[0;34m.\u001b[0m\u001b[0mto_csv\u001b[0m\u001b[0;34m(\u001b[0m\u001b[0mname\u001b[0m\u001b[0;34m,\u001b[0m \u001b[0msep\u001b[0m\u001b[0;34m=\u001b[0m\u001b[0;34m'\\t'\u001b[0m\u001b[0;34m,\u001b[0m \u001b[0mcompression\u001b[0m\u001b[0;34m=\u001b[0m\u001b[0;34m'gzip'\u001b[0m\u001b[0;34m,\u001b[0m \u001b[0;34m**\u001b[0m\u001b[0mkwargs\u001b[0m\u001b[0;34m)\u001b[0m\u001b[0;34m\u001b[0m\u001b[0;34m\u001b[0m\u001b[0m\n\u001b[0m\u001b[1;32m    311\u001b[0m     \u001b[0;32melif\u001b[0m \u001b[0mcompression\u001b[0m \u001b[0;34m==\u001b[0m \u001b[0;34m'npz'\u001b[0m\u001b[0;34m:\u001b[0m\u001b[0;34m\u001b[0m\u001b[0;34m\u001b[0m\u001b[0m\n\u001b[1;32m    312\u001b[0m         \u001b[0mname\u001b[0m \u001b[0;34m=\u001b[0m \u001b[0mfile_name\u001b[0m\u001b[0;34m(\u001b[0m\u001b[0mpath\u001b[0m\u001b[0;34m,\u001b[0m \u001b[0mname\u001b[0m\u001b[0;34m,\u001b[0m \u001b[0;34m'npz'\u001b[0m\u001b[0;34m)\u001b[0m\u001b[0;34m\u001b[0m\u001b[0;34m\u001b[0m\u001b[0m\n",
            "\u001b[0;32m~/Projects/Environments/harmonizome/lib/python3.8/site-packages/pandas/core/generic.py\u001b[0m in \u001b[0;36mto_csv\u001b[0;34m(self, path_or_buf, sep, na_rep, float_format, columns, header, index, index_label, mode, encoding, compression, quoting, quotechar, line_terminator, chunksize, date_format, doublequote, escapechar, decimal)\u001b[0m\n\u001b[1;32m   3202\u001b[0m             \u001b[0mdecimal\u001b[0m\u001b[0;34m=\u001b[0m\u001b[0mdecimal\u001b[0m\u001b[0;34m,\u001b[0m\u001b[0;34m\u001b[0m\u001b[0;34m\u001b[0m\u001b[0m\n\u001b[1;32m   3203\u001b[0m         )\n\u001b[0;32m-> 3204\u001b[0;31m         \u001b[0mformatter\u001b[0m\u001b[0;34m.\u001b[0m\u001b[0msave\u001b[0m\u001b[0;34m(\u001b[0m\u001b[0;34m)\u001b[0m\u001b[0;34m\u001b[0m\u001b[0;34m\u001b[0m\u001b[0m\n\u001b[0m\u001b[1;32m   3205\u001b[0m \u001b[0;34m\u001b[0m\u001b[0m\n\u001b[1;32m   3206\u001b[0m         \u001b[0;32mif\u001b[0m \u001b[0mpath_or_buf\u001b[0m \u001b[0;32mis\u001b[0m \u001b[0;32mNone\u001b[0m\u001b[0;34m:\u001b[0m\u001b[0;34m\u001b[0m\u001b[0;34m\u001b[0m\u001b[0m\n",
            "\u001b[0;32m~/Projects/Environments/harmonizome/lib/python3.8/site-packages/pandas/io/formats/csvs.py\u001b[0m in \u001b[0;36msave\u001b[0;34m(self)\u001b[0m\n\u001b[1;32m    202\u001b[0m             )\n\u001b[1;32m    203\u001b[0m \u001b[0;34m\u001b[0m\u001b[0m\n\u001b[0;32m--> 204\u001b[0;31m             \u001b[0mself\u001b[0m\u001b[0;34m.\u001b[0m\u001b[0m_save\u001b[0m\u001b[0;34m(\u001b[0m\u001b[0;34m)\u001b[0m\u001b[0;34m\u001b[0m\u001b[0;34m\u001b[0m\u001b[0m\n\u001b[0m\u001b[1;32m    205\u001b[0m \u001b[0;34m\u001b[0m\u001b[0m\n\u001b[1;32m    206\u001b[0m         \u001b[0;32mfinally\u001b[0m\u001b[0;34m:\u001b[0m\u001b[0;34m\u001b[0m\u001b[0;34m\u001b[0m\u001b[0m\n",
            "\u001b[0;32m~/Projects/Environments/harmonizome/lib/python3.8/site-packages/pandas/io/formats/csvs.py\u001b[0m in \u001b[0;36m_save\u001b[0;34m(self)\u001b[0m\n\u001b[1;32m    323\u001b[0m                 \u001b[0;32mbreak\u001b[0m\u001b[0;34m\u001b[0m\u001b[0;34m\u001b[0m\u001b[0m\n\u001b[1;32m    324\u001b[0m \u001b[0;34m\u001b[0m\u001b[0m\n\u001b[0;32m--> 325\u001b[0;31m             \u001b[0mself\u001b[0m\u001b[0;34m.\u001b[0m\u001b[0m_save_chunk\u001b[0m\u001b[0;34m(\u001b[0m\u001b[0mstart_i\u001b[0m\u001b[0;34m,\u001b[0m \u001b[0mend_i\u001b[0m\u001b[0;34m)\u001b[0m\u001b[0;34m\u001b[0m\u001b[0;34m\u001b[0m\u001b[0m\n\u001b[0m\u001b[1;32m    326\u001b[0m \u001b[0;34m\u001b[0m\u001b[0m\n\u001b[1;32m    327\u001b[0m     \u001b[0;32mdef\u001b[0m \u001b[0m_save_chunk\u001b[0m\u001b[0;34m(\u001b[0m\u001b[0mself\u001b[0m\u001b[0;34m,\u001b[0m \u001b[0mstart_i\u001b[0m\u001b[0;34m:\u001b[0m \u001b[0mint\u001b[0m\u001b[0;34m,\u001b[0m \u001b[0mend_i\u001b[0m\u001b[0;34m:\u001b[0m \u001b[0mint\u001b[0m\u001b[0;34m)\u001b[0m \u001b[0;34m->\u001b[0m \u001b[0;32mNone\u001b[0m\u001b[0;34m:\u001b[0m\u001b[0;34m\u001b[0m\u001b[0;34m\u001b[0m\u001b[0m\n",
            "\u001b[0;32m~/Projects/Environments/harmonizome/lib/python3.8/site-packages/pandas/io/formats/csvs.py\u001b[0m in \u001b[0;36m_save_chunk\u001b[0;34m(self, start_i, end_i)\u001b[0m\n\u001b[1;32m    354\u001b[0m         )\n\u001b[1;32m    355\u001b[0m \u001b[0;34m\u001b[0m\u001b[0m\n\u001b[0;32m--> 356\u001b[0;31m         \u001b[0mlibwriters\u001b[0m\u001b[0;34m.\u001b[0m\u001b[0mwrite_csv_rows\u001b[0m\u001b[0;34m(\u001b[0m\u001b[0mself\u001b[0m\u001b[0;34m.\u001b[0m\u001b[0mdata\u001b[0m\u001b[0;34m,\u001b[0m \u001b[0mix\u001b[0m\u001b[0;34m,\u001b[0m \u001b[0mself\u001b[0m\u001b[0;34m.\u001b[0m\u001b[0mnlevels\u001b[0m\u001b[0;34m,\u001b[0m \u001b[0mself\u001b[0m\u001b[0;34m.\u001b[0m\u001b[0mcols\u001b[0m\u001b[0;34m,\u001b[0m \u001b[0mself\u001b[0m\u001b[0;34m.\u001b[0m\u001b[0mwriter\u001b[0m\u001b[0;34m)\u001b[0m\u001b[0;34m\u001b[0m\u001b[0;34m\u001b[0m\u001b[0m\n\u001b[0m",
            "\u001b[0;32mpandas/_libs/writers.pyx\u001b[0m in \u001b[0;36mpandas._libs.writers.write_csv_rows\u001b[0;34m()\u001b[0m\n",
            "\u001b[0;32m/usr/lib/python3.8/gzip.py\u001b[0m in \u001b[0;36mwrite\u001b[0;34m(self, data)\u001b[0m\n\u001b[1;32m    272\u001b[0m \u001b[0;34m\u001b[0m\u001b[0m\n\u001b[1;32m    273\u001b[0m         \u001b[0;32mif\u001b[0m \u001b[0mlength\u001b[0m \u001b[0;34m>\u001b[0m \u001b[0;36m0\u001b[0m\u001b[0;34m:\u001b[0m\u001b[0;34m\u001b[0m\u001b[0;34m\u001b[0m\u001b[0m\n\u001b[0;32m--> 274\u001b[0;31m             \u001b[0mself\u001b[0m\u001b[0;34m.\u001b[0m\u001b[0mfileobj\u001b[0m\u001b[0;34m.\u001b[0m\u001b[0mwrite\u001b[0m\u001b[0;34m(\u001b[0m\u001b[0mself\u001b[0m\u001b[0;34m.\u001b[0m\u001b[0mcompress\u001b[0m\u001b[0;34m.\u001b[0m\u001b[0mcompress\u001b[0m\u001b[0;34m(\u001b[0m\u001b[0mdata\u001b[0m\u001b[0;34m)\u001b[0m\u001b[0;34m)\u001b[0m\u001b[0;34m\u001b[0m\u001b[0;34m\u001b[0m\u001b[0m\n\u001b[0m\u001b[1;32m    275\u001b[0m             \u001b[0mself\u001b[0m\u001b[0;34m.\u001b[0m\u001b[0msize\u001b[0m \u001b[0;34m+=\u001b[0m \u001b[0mlength\u001b[0m\u001b[0;34m\u001b[0m\u001b[0;34m\u001b[0m\u001b[0m\n\u001b[1;32m    276\u001b[0m             \u001b[0mself\u001b[0m\u001b[0;34m.\u001b[0m\u001b[0mcrc\u001b[0m \u001b[0;34m=\u001b[0m \u001b[0mzlib\u001b[0m\u001b[0;34m.\u001b[0m\u001b[0mcrc32\u001b[0m\u001b[0;34m(\u001b[0m\u001b[0mdata\u001b[0m\u001b[0;34m,\u001b[0m \u001b[0mself\u001b[0m\u001b[0;34m.\u001b[0m\u001b[0mcrc\u001b[0m\u001b[0;34m)\u001b[0m\u001b[0;34m\u001b[0m\u001b[0;34m\u001b[0m\u001b[0m\n",
            "\u001b[0;31mKeyboardInterrupt\u001b[0m: "
          ]
        }
      ]
    },
    {
      "cell_type": "markdown",
      "metadata": {
        "id": "KTop-hjM0Q02",
        "colab_type": "text"
      },
      "source": [
        "# Create Downloadable Save File"
      ]
    },
    {
      "cell_type": "code",
      "metadata": {
        "id": "V4yeQ_ru0Q03",
        "colab_type": "code",
        "colab": {}
      },
      "source": [
        "uf.archive(path)"
      ],
      "execution_count": null,
      "outputs": []
    },
    {
      "cell_type": "markdown",
      "metadata": {
        "id": "ge5o2DaP0Q04",
        "colab_type": "text"
      },
      "source": [
        "### Link to download output files: [click here](./output_archive.zip)"
      ]
    }
  ],
  "metadata": {
    "language_info": {
      "codemirror_mode": {
        "name": "ipython",
        "version": 3
      },
      "file_extension": ".py",
      "mimetype": "text/x-python",
      "name": "python",
      "nbconvert_exporter": "python",
      "pygments_lexer": "ipython3",
      "version": 3
    },
    "orig_nbformat": 2,
    "kernelspec": {
      "name": "python_defaultSpec_1593547008613",
      "display_name": "Python 3.8.0 64-bit ('harmonizome': venv)"
    },
    "colab": {
      "name": "DrugBank.ipynb",
      "provenance": [],
      "collapsed_sections": [
        "j_897lnE0Q0E",
        "h7NuOs2A0Q0H",
        "96-W7MLM0Q0L",
        "ANTEpqwM0Q0O",
        "7R4ZhP8h0Q0R",
        "UfUs-t6j0Q0Y",
        "J-tQ7p0z0Q0e",
        "XeX9jcR80Q0l",
        "oLEnEOe90Q0p",
        "82UTrjTu0Q0v",
        "ge5o2DaP0Q04"
      ]
    }
  },
  "nbformat": 4,
  "nbformat_minor": 0
}