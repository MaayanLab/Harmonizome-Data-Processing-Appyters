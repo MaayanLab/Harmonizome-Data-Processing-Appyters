{
  "cells": [
    {
      "cell_type": "markdown",
      "metadata": {
        "id": "igA_NxFW0QzV",
        "colab_type": "text"
      },
      "source": [
        "# DrugBank"
      ]
    },
    {
      "cell_type": "markdown",
      "metadata": {
        "id": "_QasXOTv0QzW",
        "colab_type": "text"
      },
      "source": [
        "Created by: Charles Dai <br>\n",
        "Credit to: Moshe Silverstein\n",
        "\n",
        "Data Source: https://www.drugbank.ca/releases/latest"
      ]
    },
    {
      "cell_type": "code",
      "metadata": {
        "id": "j_kdQr280QzX",
        "colab_type": "code",
        "colab": {},
        "tags": []
      },
      "source": [
        "# appyter init\n",
        "from appyter import magic\n",
        "magic.init(lambda _=globals: _())"
      ],
      "execution_count": null,
      "outputs": []
    },
    {
      "cell_type": "code",
      "metadata": {
        "id": "O7pAJAEU0Qzc",
        "colab_type": "code",
        "colab": {}
      },
      "source": [
        "import sys\n",
        "import os\n",
        "from datetime import date\n",
        "import zipfile\n",
        "\n",
        "import numpy as np\n",
        "import pandas as pd\n",
        "import matplotlib.pyplot as plt\n",
        "%matplotlib inline\n",
        "\n",
        "import harmonizome.utility_functions as uf\n",
        "import harmonizome.lookup as lookup"
      ],
      "execution_count": null,
      "outputs": []
    },
    {
      "cell_type": "code",
      "metadata": {
        "id": "m7qZQgDS0Qzg",
        "colab_type": "code",
        "colab": {}
      },
      "source": [
        "from clustergrammer_widget import *\n",
        "net = Network(clustergrammer_widget)"
      ],
      "execution_count": null,
      "outputs": []
    },
    {
      "cell_type": "code",
      "metadata": {
        "id": "iGNGsUEW0Qzi",
        "colab_type": "code",
        "colab": {}
      },
      "source": [
        "%load_ext autoreload\n",
        "%autoreload 2"
      ],
      "execution_count": null,
      "outputs": []
    },
    {
      "cell_type": "markdown",
      "metadata": {
        "id": "FEpt2FYa0Qzl",
        "colab_type": "text"
      },
      "source": [
        "### Notebook Information"
      ]
    },
    {
      "cell_type": "code",
      "metadata": {
        "tags": [],
        "id": "_0COhlPO0Qzl",
        "colab_type": "code",
        "colab": {
          "base_uri": "https://localhost:8080/",
          "height": 68
        },
        "outputId": "f92c7a2b-29f9-44c9-d081-7d62c8515cc0"
      },
      "source": [
        "print('This notebook was run on:', date.today(), '\\nPython version:', sys.version)"
      ],
      "execution_count": null,
      "outputs": []
    },
    {
      "cell_type": "markdown",
      "metadata": {
        "id": "0jYq-qKz0Qzo",
        "colab_type": "text"
      },
      "source": [
        "# Initialization"
      ]
    },
    {
      "cell_type": "code",
      "execution_count": null,
      "metadata": {},
      "outputs": [],
      "source": [
        "%%appyter hide_code\n",
        "\n",
        "{% do SectionField(\n",
        "    name='data',\n",
        "    title='Upload Data',\n",
        "    img='load_icon.png'\n",
        ") %}\n",
        "\n",
        "{% do SectionField(\n",
        "    name='settings',\n",
        "    title='Settings',\n",
        "    img='setting_icon.png'\n",
        ") %}"
      ]
    },
    {
      "cell_type": "code",
      "execution_count": null,
      "metadata": {},
      "outputs": [],
      "source": [
        "%%appyter code_eval\n",
        "\n",
        "{% do DescriptionField(\n",
        "    name='description',\n",
        "    text='The examples below were sourced from <a href=\"https://www.drugbank.ca/releases/latest\" target=\"_blank\">www.drugbank.ca</a>. The download requires a login so clicking on the examples may not work, in which case they should be downloaded directly from the source website.',\n",
        "    section='data'\n",
        ") %}\n",
        "\n",
        "{% set df_file = FileField(\n",
        "    constraint='.*\\.csv.zip$',\n",
        "    name='drug_identifiers', \n",
        "    label='Drug Identifiers Dataset (csv.zip)', \n",
        "    default='Input/DrugBank/drugbank_all_target_polypeptide_ids.csv.zip',\n",
        "    examples={\n",
        "        'drugbank_all_target_polypeptide_ids.csv.zip': 'https://www.drugbank.ca/releases/5-1-7/downloads/target-all-polypeptide-ids'\n",
        "    },\n",
        "    section='data'\n",
        ") %}\n",
        "\n",
        "{% set drug_meta = FileField(\n",
        "    constraint='.*\\.zip$',\n",
        "    name='drug_metadata', \n",
        "    label='External Drug Links (csv.zip)', \n",
        "    default='Input/DrugBank/drugbank_all_drug_links.csv.zip',\n",
        "    examples={\n",
        "        'drugbank_all_drug_links.csv.zip': 'https://www.drugbank.ca/releases/5-1-7/downloads/all-drug-links'\n",
        "    },\n",
        "    section='data'\n",
        ") %}"
      ]
    },
    {
      "cell_type": "code",
      "metadata": {
        "id": "vK4Q1l5-0Qzo",
        "colab_type": "code",
        "colab": {}
      },
      "source": [
        "%%appyter code_eval\n",
        "\n",
        "{% set group = ChoiceField(\n",
        "    name='identifier',\n",
        "    label='Protein Identifier Group',\n",
        "    description='This will be used for the output file names.',\n",
        "    choices=['Target', 'Enzyme', 'Carrier', 'Transporter'],\n",
        "    default='Target',\n",
        "    section='settings'\n",
        ") %}"
      ],
      "execution_count": null,
      "outputs": []
    },
    {
      "cell_type": "markdown",
      "metadata": {
        "id": "JdBPQTl70Qzr",
        "colab_type": "text"
      },
      "source": [
        "### Load Mapping Dictionaries"
      ]
    },
    {
      "cell_type": "code",
      "metadata": {
        "tags": [],
        "id": "p8vNRtrC0Qzs",
        "colab_type": "code",
        "colab": {
          "base_uri": "https://localhost:8080/",
          "height": 34
        },
        "outputId": "2b6cb630-6779-40af-b63d-4c8f4bf49a72"
      },
      "source": [
        "symbol_lookup, geneid_lookup = lookup.get_lookups()"
      ],
      "execution_count": null,
      "outputs": []
    },
    {
      "cell_type": "markdown",
      "metadata": {
        "id": "Ffj_aRNS0Qzu",
        "colab_type": "text"
      },
      "source": [
        "### Output Path"
      ]
    },
    {
      "cell_type": "code",
      "metadata": {
        "id": "5yi1d7_30Qzu",
        "colab_type": "code",
        "colab": {
          "base_uri": "https://localhost:8080/",
          "height": 85
        },
        "outputId": "1f47901d-4119-415a-fe92-7f94f01196a1"
      },
      "source": [
        "%%appyter code_exec\n",
        "\n",
        "output_name = 'drugbank_' + '{{group}}'.lower()\n",
        "\n",
        "path = 'Output/DrugBank-' + '{{group}}'\n",
        "if not os.path.exists(path):\n",
        "    os.makedirs(path)"
      ],
      "execution_count": null,
      "outputs": []
    },
    {
      "cell_type": "markdown",
      "metadata": {
        "id": "e36ONvOT0Qzy",
        "colab_type": "text"
      },
      "source": [
        "# Load Data"
      ]
    },
    {
      "cell_type": "code",
      "metadata": {
        "id": "OSq__vLA0Qzz",
        "colab_type": "code",
        "colab": {
          "base_uri": "https://localhost:8080/",
          "height": 68
        },
        "outputId": "2655139f-3cf4-4c93-f566-c15fb32dca96"
      },
      "source": [
        "%%appyter code_exec\n",
        "\n",
        "with zipfile.ZipFile({{df_file}}) as zipf:\n",
        "  with zipf.open('all.csv') as f:\n",
        "    df = pd.read_csv(f, usecols=['Gene Name', 'Drug IDs', 'Species'], index_col=0)"
      ],
      "execution_count": null,
      "outputs": []
    },
    {
      "cell_type": "code",
      "metadata": {
        "id": "A16GN1W90Qz2",
        "colab_type": "code",
        "colab": {
          "base_uri": "https://localhost:8080/",
          "height": 235
        },
        "outputId": "28d74fc4-b746-4723-8961-366afb3dc71b"
      },
      "source": [
        "df.head()"
      ],
      "execution_count": null,
      "outputs": []
    },
    {
      "cell_type": "code",
      "metadata": {
        "id": "9Kjzt6MZ0Qz6",
        "colab_type": "code",
        "colab": {
          "base_uri": "https://localhost:8080/",
          "height": 34
        },
        "outputId": "76c07255-399c-4437-d06f-7eedc8bd4888"
      },
      "source": [
        "df.shape"
      ],
      "execution_count": null,
      "outputs": []
    },
    {
      "cell_type": "markdown",
      "metadata": {
        "id": "BWxQ7Ksf0Qz8",
        "colab_type": "text"
      },
      "source": [
        "# Load Drug Metadata"
      ]
    },
    {
      "cell_type": "code",
      "metadata": {
        "id": "P1Er98Y90Qz8",
        "colab_type": "code",
        "colab": {
          "base_uri": "https://localhost:8080/",
          "height": 51
        },
        "outputId": "d640c82d-7329-4217-9275-ebc377505d3c"
      },
      "source": [
        "%%appyter code_exec\n",
        "\n",
        "drug_meta = pd.read_csv(\n",
        "    {{drug_meta}}, \n",
        "    usecols=['DrugBank ID', 'Name'], index_col=0\n",
        ")"
      ],
      "execution_count": null,
      "outputs": []
    },
    {
      "cell_type": "code",
      "metadata": {
        "id": "g4xDUpAh0Qz-",
        "colab_type": "code",
        "colab": {
          "base_uri": "https://localhost:8080/",
          "height": 235
        },
        "outputId": "dbf15e69-4e78-419a-caf3-9f4585b4e8af"
      },
      "source": [
        "drug_meta.head()"
      ],
      "execution_count": null,
      "outputs": []
    },
    {
      "cell_type": "code",
      "metadata": {
        "id": "dy3O7l0U0Q0B",
        "colab_type": "code",
        "colab": {
          "base_uri": "https://localhost:8080/",
          "height": 34
        },
        "outputId": "d5fd0314-28f0-4d03-c95e-4f16d870bbd6"
      },
      "source": [
        "drug_meta.shape"
      ],
      "execution_count": null,
      "outputs": []
    },
    {
      "cell_type": "markdown",
      "metadata": {
        "id": "LKPQ8r8O0Q0D",
        "colab_type": "text"
      },
      "source": [
        "# Pre-process Data"
      ]
    },
    {
      "cell_type": "markdown",
      "metadata": {
        "id": "j_897lnE0Q0E",
        "colab_type": "text"
      },
      "source": [
        "## Get Relevant Data"
      ]
    },
    {
      "cell_type": "code",
      "metadata": {
        "id": "bA7tzyPW0Q0E",
        "colab_type": "code",
        "colab": {
          "base_uri": "https://localhost:8080/",
          "height": 0
        },
        "outputId": "5d13376f-048a-42d3-8bbd-9447ed74baf0"
      },
      "source": [
        "# Get Relevant Species\n",
        "df = df[np.logical_or.reduce([\n",
        "    df['Species'] == 'Humans',\n",
        "    df['Species'] == 'Mouse',\n",
        "    df['Species'] == 'Rat'\n",
        "])].drop('Species', axis=1)\n",
        "df.head()"
      ],
      "execution_count": null,
      "outputs": []
    },
    {
      "cell_type": "markdown",
      "metadata": {
        "id": "h7NuOs2A0Q0H",
        "colab_type": "text"
      },
      "source": [
        "## Split Drug ID list"
      ]
    },
    {
      "cell_type": "code",
      "metadata": {
        "id": "hEJCi7qU0Q0H",
        "colab_type": "code",
        "colab": {
          "base_uri": "https://localhost:8080/",
          "height": 0
        },
        "outputId": "8e12c64e-c31a-48d6-ecca-fc796b5dce1f"
      },
      "source": [
        "df['Drug IDs'] = df['Drug IDs'].map(lambda x: x.split('; '))\n",
        "df = df.explode('Drug IDs').dropna()\n",
        "df.head()"
      ],
      "execution_count": null,
      "outputs": []
    },
    {
      "cell_type": "code",
      "metadata": {
        "id": "z6DfkPpp0Q0J",
        "colab_type": "code",
        "colab": {
          "base_uri": "https://localhost:8080/",
          "height": 0
        },
        "outputId": "4f38f522-699d-40b0-c6e5-0d5301b89986"
      },
      "source": [
        "df.shape"
      ],
      "execution_count": null,
      "outputs": []
    },
    {
      "cell_type": "markdown",
      "metadata": {
        "id": "96-W7MLM0Q0L",
        "colab_type": "text"
      },
      "source": [
        "## Map Drug IDs to Names"
      ]
    },
    {
      "cell_type": "code",
      "metadata": {
        "id": "xl1EySI60Q0M",
        "colab_type": "code",
        "colab": {
          "base_uri": "https://localhost:8080/",
          "height": 0
        },
        "outputId": "c18bfeb7-f970-4cbd-a125-133717e81dbc"
      },
      "source": [
        "df['Drug IDs'] = drug_meta.reindex(df['Drug IDs']).set_index(df.index)\n",
        "df.index.name = 'Gene Symbol'\n",
        "df.columns = ['Drug Name']\n",
        "df.head()"
      ],
      "execution_count": null,
      "outputs": []
    },
    {
      "cell_type": "markdown",
      "metadata": {
        "id": "wn031Byq0Q0O",
        "colab_type": "text"
      },
      "source": [
        "# Filter Data"
      ]
    },
    {
      "cell_type": "markdown",
      "metadata": {
        "id": "ANTEpqwM0Q0O",
        "colab_type": "text"
      },
      "source": [
        "## Map Gene Symbols to Up-to-date Approved Gene Symbols"
      ]
    },
    {
      "cell_type": "code",
      "metadata": {
        "tags": [],
        "id": "v6F86_Hv0Q0O",
        "colab_type": "code",
        "colab": {
          "base_uri": "https://localhost:8080/",
          "height": 0
        },
        "outputId": "1b8fb540-3264-41c8-8994-08af8588cba0"
      },
      "source": [
        "df = uf.map_symbols(df, symbol_lookup, remove_duplicates=True)\n",
        "df.shape"
      ],
      "execution_count": null,
      "outputs": []
    },
    {
      "cell_type": "markdown",
      "metadata": {
        "id": "0ZijKBpj0Q0Q",
        "colab_type": "text"
      },
      "source": [
        "# Analyze Data"
      ]
    },
    {
      "cell_type": "markdown",
      "metadata": {
        "id": "7R4ZhP8h0Q0R",
        "colab_type": "text"
      },
      "source": [
        "## Create Binary Matrix"
      ]
    },
    {
      "cell_type": "code",
      "metadata": {
        "id": "vspjd0Qf0Q0R",
        "colab_type": "code",
        "colab": {
          "base_uri": "https://localhost:8080/",
          "height": 0
        },
        "outputId": "4630876c-d8b3-4e95-a7b4-598c88350148"
      },
      "source": [
        "binary_matrix = uf.binary_matrix(df)\n",
        "binary_matrix.head()"
      ],
      "execution_count": null,
      "outputs": []
    },
    {
      "cell_type": "code",
      "metadata": {
        "id": "jaVbXxHF0Q0T",
        "colab_type": "code",
        "colab": {
          "base_uri": "https://localhost:8080/",
          "height": 0
        },
        "outputId": "0949ed85-8264-4661-bf81-0586a51d8c3d"
      },
      "source": [
        "binary_matrix.shape"
      ],
      "execution_count": null,
      "outputs": []
    },
    {
      "cell_type": "code",
      "metadata": {
        "id": "_BfbcyKU0Q0W",
        "colab_type": "code",
        "colab": {}
      },
      "source": [
        "uf.save_data(binary_matrix, path, output_name + '_binary_matrix', \n",
        "            compression='npz', dtype=np.uint8)"
      ],
      "execution_count": null,
      "outputs": []
    },
    {
      "cell_type": "markdown",
      "metadata": {
        "id": "UfUs-t6j0Q0Y",
        "colab_type": "text"
      },
      "source": [
        "## Create Gene List"
      ]
    },
    {
      "cell_type": "code",
      "metadata": {
        "id": "5imzB6FL0Q0Y",
        "colab_type": "code",
        "colab": {
          "base_uri": "https://localhost:8080/",
          "height": 0
        },
        "outputId": "72a24006-bbfa-4f5b-b56a-32f804376ef4",
        "tags": []
      },
      "source": [
        "gene_list = uf.gene_list(binary_matrix, geneid_lookup)\n",
        "gene_list.head()"
      ],
      "execution_count": null,
      "outputs": []
    },
    {
      "cell_type": "code",
      "metadata": {
        "id": "eA2WqrZn0Q0a",
        "colab_type": "code",
        "colab": {
          "base_uri": "https://localhost:8080/",
          "height": 0
        },
        "outputId": "2c551e2e-05db-4640-8158-3d842211646c"
      },
      "source": [
        "gene_list.shape"
      ],
      "execution_count": null,
      "outputs": []
    },
    {
      "cell_type": "code",
      "metadata": {
        "id": "FRSDHJi-0Q0c",
        "colab_type": "code",
        "colab": {}
      },
      "source": [
        "uf.save_data(gene_list, path, output_name + '_gene_list',\n",
        "            ext='tsv', compression='gzip', index=False)"
      ],
      "execution_count": null,
      "outputs": []
    },
    {
      "cell_type": "markdown",
      "metadata": {
        "id": "J-tQ7p0z0Q0e",
        "colab_type": "text"
      },
      "source": [
        "## Create Attribute List"
      ]
    },
    {
      "cell_type": "code",
      "metadata": {
        "id": "JY8RE-hg0Q0f",
        "colab_type": "code",
        "colab": {
          "base_uri": "https://localhost:8080/",
          "height": 0
        },
        "outputId": "cc0be22a-f8c5-430c-ee68-c5b0f87e5e81"
      },
      "source": [
        "attribute_list = uf.attribute_list(binary_matrix)\n",
        "attribute_list.head()"
      ],
      "execution_count": null,
      "outputs": []
    },
    {
      "cell_type": "code",
      "metadata": {
        "id": "q3h2Z7J40Q0h",
        "colab_type": "code",
        "colab": {
          "base_uri": "https://localhost:8080/",
          "height": 0
        },
        "outputId": "a66728ef-f716-49f3-bcfa-31ec37d404f4"
      },
      "source": [
        "attribute_list.shape"
      ],
      "execution_count": null,
      "outputs": []
    },
    {
      "cell_type": "code",
      "metadata": {
        "id": "GZLVxMhd0Q0j",
        "colab_type": "code",
        "colab": {}
      },
      "source": [
        "uf.save_data(attribute_list, path, output_name + '_attribute_list',\n",
        "            ext='tsv', compression='gzip')"
      ],
      "execution_count": null,
      "outputs": []
    },
    {
      "cell_type": "markdown",
      "metadata": {
        "id": "XeX9jcR80Q0l",
        "colab_type": "text"
      },
      "source": [
        "## Create Gene and Attribute Set Libraries"
      ]
    },
    {
      "cell_type": "code",
      "metadata": {
        "id": "m3UkBrNV0Q0l",
        "colab_type": "code",
        "colab": {
          "base_uri": "https://localhost:8080/",
          "height": 0
        },
        "outputId": "0b5eeb59-9115-474f-f783-1f0f9090c89f",
        "tags": []
      },
      "source": [
        "uf.save_setlib(binary_matrix, 'gene', 'up', path, output_name + '_gene_up_set')"
      ],
      "execution_count": null,
      "outputs": []
    },
    {
      "cell_type": "code",
      "metadata": {
        "id": "lwIBQM0D0Q0n",
        "colab_type": "code",
        "colab": {
          "base_uri": "https://localhost:8080/",
          "height": 0
        },
        "outputId": "ff85cfe8-fce0-45c2-aa10-0216d6c25ac1",
        "tags": []
      },
      "source": [
        "uf.save_setlib(binary_matrix, 'attribute', 'up', path, \n",
        "                           output_name + '_attribute_up_set')"
      ],
      "execution_count": null,
      "outputs": []
    },
    {
      "cell_type": "markdown",
      "metadata": {
        "id": "oLEnEOe90Q0p",
        "colab_type": "text"
      },
      "source": [
        "## Create Attribute Similarity Matrix"
      ]
    },
    {
      "cell_type": "code",
      "metadata": {
        "id": "QH_HmT620Q0q",
        "colab_type": "code",
        "colab": {
          "base_uri": "https://localhost:8080/",
          "height": 0
        },
        "outputId": "2d0cb9dc-a7ea-408c-f026-d3ea1c2ece2f"
      },
      "source": [
        "attribute_similarity_matrix = uf.similarity_matrix(binary_matrix.T, 'jaccard', sparse=True)\n",
        "attribute_similarity_matrix.head()"
      ],
      "execution_count": null,
      "outputs": []
    },
    {
      "cell_type": "code",
      "metadata": {
        "id": "1T5uQaDb0Q0s",
        "colab_type": "code",
        "colab": {}
      },
      "source": [
        "uf.save_data(attribute_similarity_matrix, path,\n",
        "            output_name + '_attribute_similarity_matrix', \n",
        "            compression='npz', symmetric=True, dtype=np.float32)"
      ],
      "execution_count": null,
      "outputs": []
    },
    {
      "cell_type": "code",
      "metadata": {
        "id": "6aOtjXgc0Q0u",
        "colab_type": "code",
        "colab": {}
      },
      "source": [
        "net.load_df(attribute_similarity_matrix.iloc[:,:].copy())\n",
        "net.filter_N_top('row', rank_type='sum', N_top=300)\n",
        "net.cluster()\n",
        "net.widget()"
      ],
      "execution_count": null,
      "outputs": []
    },
    {
      "cell_type": "markdown",
      "metadata": {
        "id": "82UTrjTu0Q0v",
        "colab_type": "text"
      },
      "source": [
        "## Create Gene Similarity Matrix"
      ]
    },
    {
      "cell_type": "code",
      "metadata": {
        "id": "x2xYLMzB0Q0w",
        "colab_type": "code",
        "colab": {
          "base_uri": "https://localhost:8080/",
          "height": 0
        },
        "outputId": "cef15944-b3bf-429f-854c-0ca21ddfd296"
      },
      "source": [
        "gene_similarity_matrix = uf.similarity_matrix(binary_matrix, 'jaccard', sparse=True)\n",
        "gene_similarity_matrix.head()"
      ],
      "execution_count": null,
      "outputs": []
    },
    {
      "cell_type": "code",
      "metadata": {
        "id": "KvzM5jIO0Q0y",
        "colab_type": "code",
        "colab": {}
      },
      "source": [
        "uf.save_data(gene_similarity_matrix, path, \n",
        "            output_name + '_gene_similarity_matrix',\n",
        "            compression='npz', symmetric=True, dtype=np.float32)"
      ],
      "execution_count": null,
      "outputs": []
    },
    {
      "cell_type": "markdown",
      "metadata": {
        "id": "9CUYyQ6r0Q0z",
        "colab_type": "text"
      },
      "source": [
        "## Create Gene-Attribute Edge List"
      ]
    },
    {
      "cell_type": "code",
      "metadata": {
        "id": "qWB2YU3x0Q00",
        "colab_type": "code",
        "colab": {
          "base_uri": "https://localhost:8080/",
          "height": 34
        },
        "outputId": "f80686f9-29fd-4c47-faf1-4c33704d8ef2",
        "tags": []
      },
      "source": [
        "edge_list = uf.edge_list(binary_matrix)\n",
        "uf.save_data(edge_list, path, output_name + '_edge_list', \n",
        "        ext='tsv', compression='gzip')"
      ],
      "execution_count": null,
      "outputs": []
    },
    {
      "cell_type": "markdown",
      "metadata": {
        "id": "KTop-hjM0Q02",
        "colab_type": "text"
      },
      "source": [
        "# Create Downloadable Save File"
      ]
    },
    {
      "cell_type": "code",
      "metadata": {
        "id": "V4yeQ_ru0Q03",
        "colab_type": "code",
        "colab": {}
      },
      "source": [
        "uf.archive(path)"
      ],
      "execution_count": null,
      "outputs": []
    },
    {
      "cell_type": "markdown",
      "metadata": {
        "id": "ge5o2DaP0Q04",
        "colab_type": "text"
      },
      "source": [
        "### Link to download output files: [click here](./output_archive.zip)"
      ]
    }
  ],
  "metadata": {
    "language_info": {
      "codemirror_mode": {
        "name": "ipython",
        "version": 3
      },
      "file_extension": ".py",
      "mimetype": "text/x-python",
      "name": "python",
      "nbconvert_exporter": "python",
      "pygments_lexer": "ipython3",
      "version": 3
    },
    "orig_nbformat": 2,
    "kernelspec": {
      "name": "python_defaultSpec_1594063305743",
      "display_name": "Python 3.8.0 64-bit ('harmonizome': venv)"
    },
    "colab": {
      "name": "DrugBank.ipynb",
      "provenance": [],
      "collapsed_sections": [
        "j_897lnE0Q0E",
        "h7NuOs2A0Q0H",
        "96-W7MLM0Q0L",
        "ANTEpqwM0Q0O",
        "7R4ZhP8h0Q0R",
        "UfUs-t6j0Q0Y",
        "J-tQ7p0z0Q0e",
        "XeX9jcR80Q0l",
        "oLEnEOe90Q0p",
        "82UTrjTu0Q0v",
        "ge5o2DaP0Q04"
      ]
    }
  },
  "nbformat": 4,
  "nbformat_minor": 0
}