{
    "cells": [
        {
            "cell_type": "markdown",
            "metadata": {},
            "source": [
                "# BrainSpan: Atlas of the Developing Human Brain"
            ]
        },
        {
            "cell_type": "markdown",
            "metadata": {},
            "source": [
                "Created by: Charles Dai <br>\n",
                "Credit to: Moshe Silverstein\n",
                "\n",
                "Data Source: http://www.brainspan.org/static/download.html"
            ]
        },
        {
            "cell_type": "code",
            "execution_count": 1,
            "metadata": {
                "tags": []
            },
            "outputs": [
                {
                    "output_type": "stream",
                    "name": "stdout",
                    "text": "/home/charlesdai/Projects/Harmonizome-Data-Processing-Appyters\n"
                }
            ],
            "source": [
                "# appyter init\n",
                "from appyter import magic\n",
                "magic.init(lambda _=globals: _())"
            ]
        },
        {
            "cell_type": "code",
            "execution_count": 2,
            "metadata": {},
            "outputs": [],
            "source": [
                "import sys\n",
                "import os\n",
                "import zipfile\n",
                "from datetime import date\n",
                "\n",
                "import numpy as np\n",
                "import pandas as pd\n",
                "import matplotlib.pyplot as plt\n",
                "%matplotlib inline\n",
                "\n",
                "import harmonizome.utility_functions as uf\n",
                "import harmonizome.lookup as lookup"
            ]
        },
        {
            "cell_type": "code",
            "execution_count": 3,
            "metadata": {},
            "outputs": [],
            "source": [
                "# from clustergrammer_widget import *\n",
                "# net = Network(clustergrammer_widget)"
            ]
        },
        {
            "cell_type": "code",
            "execution_count": 4,
            "metadata": {},
            "outputs": [],
            "source": [
                "%load_ext autoreload\n",
                "%autoreload 2"
            ]
        },
        {
            "cell_type": "markdown",
            "metadata": {},
            "source": [
                "### Notebook Information"
            ]
        },
        {
            "cell_type": "code",
            "execution_count": 5,
            "metadata": {
                "tags": []
            },
            "outputs": [
                {
                    "output_type": "stream",
                    "name": "stdout",
                    "text": "This notebook was run on: 2020-07-04 \nPython version: 3.8.0 (default, Oct 28 2019, 16:14:01) \n[GCC 8.3.0]\n"
                }
            ],
            "source": [
                "print('This notebook was run on:', date.today(), '\\nPython version:', sys.version)"
            ]
        },
        {
            "cell_type": "markdown",
            "metadata": {},
            "source": [
                "# Initialization"
            ]
        },
        {
            "cell_type": "markdown",
            "metadata": {},
            "source": [
                "### Set Data Grouping Options"
            ]
        },
        {
            "cell_type": "code",
            "execution_count": 6,
            "metadata": {},
            "outputs": [],
            "source": [
                "%%appyter hide_code\n",
                "{% do SectionField(\n",
                "    name='data',\n",
                "    title='Upload Data',\n",
                "    subtitle='The following examples were sourced from <a href=\"http://www.brainspan.org/static/download.html\">http://www.brainspan.org/static/download.html</a>.',\n",
                "    img='load_icon.png'\n",
                ") %}"
            ]
        },
        {
            "cell_type": "code",
            "execution_count": 7,
            "metadata": {},
            "outputs": [],
            "source": [
                "%%appyter code_eval\n",
                "\n",
                "{% set dataset = ChoiceField(\n",
                "    name='dataset',\n",
                "    label='Dataset',\n",
                "    choices={\n",
                "        'Developmental Microarray': 'DMA',\n",
                "        'Developmental RNA-Seq': 'DRS', \n",
                "        'Prenatal Microarray': 'PMA'\n",
                "    },\n",
                "    default='Developmental Microarray',\n",
                "    section='data'\n",
                ") %}"
            ]
        },
        {
            "cell_type": "code",
            "execution_count": 8,
            "metadata": {},
            "outputs": [],
            "source": [
                "%%appyter code_eval\n",
                "\n",
                "{% set attribute = ChoiceField(\n",
                "    name='attribute',\n",
                "    label='Attribute',\n",
                "    description='The prenatal microarray dataset cannot take the age attribute. All other combinations of dataset and attribute work.',\n",
                "    choices=['Age', 'Sample', 'Tissue'],\n",
                "    default='Sample',\n",
                "    section='data'\n",
                ") %}"
            ]
        },
        {
            "cell_type": "code",
            "execution_count": 22,
            "metadata": {},
            "outputs": [],
            "source": [
                "%%appyter code_eval\n",
                "\n",
                "{% set file_1 = FileField(\n",
                "    constraint='(.*\\.zip$)?', name='dataset1', label='Dataset 1', \n",
                "    default='Input/BrainSpan/genes_matrix_csv.zip',\n",
                "    section='data',\n",
                "    examples={\n",
                "    }) \n",
                "%}\n",
                "\n",
                "{% set file_2 = FileField(\n",
                "    constraint='(.*\\.zip$)?', name='dataset2', label='Dataset 2', \n",
                "    default='',\n",
                "    section='data',\n",
                "    examples={\n",
                "    })\n",
                "%}\n",
                "\n",
                "{% set file_3 = FileField(\n",
                "    constraint='(.*\\.zip$)?', name='dataset3', label='Dataset 3', \n",
                "    default='',\n",
                "    section='data',\n",
                "    examples={\n",
                "    })\n",
                "%}\n",
                "\n",
                "{% set file_4 = FileField(constraint='(.*\\.zip$)?', name='dataset4', label='Dataset 4', \n",
                "    default='',\n",
                "    section='data',\n",
                "    examples={\n",
                "    })\n",
                "%}"
            ]
        },
        {
            "cell_type": "markdown",
            "metadata": {},
            "source": [
                "### Load Mapping Dictionaries"
            ]
        },
        {
            "cell_type": "code",
            "execution_count": 10,
            "metadata": {
                "tags": []
            },
            "outputs": [
                {
                    "output_type": "stream",
                    "name": "stderr",
                    "text": "Gathering sources: 100%|██████████| 3/3 [00:14<00:00,  4.94s/it]\n"
                }
            ],
            "source": [
                "symbol_lookup, geneid_lookup = lookup.get_lookups()"
            ]
        },
        {
            "cell_type": "markdown",
            "metadata": {},
            "source": [
                "### Output Path"
            ]
        },
        {
            "cell_type": "code",
            "execution_count": 19,
            "metadata": {},
            "outputs": [
                {
                    "output_type": "display_data",
                    "data": {
                        "text/plain": "<IPython.core.display.Markdown object>",
                        "text/markdown": "```python\noutput_name = 'brainspan_DMA'.lower()\npath = 'Output/BrainSpain-DMA'\nif not os.path.exists(path):\n    os.makedirs(path)\n```"
                    },
                    "metadata": {}
                }
            ],
            "source": [
                "%%appyter code_exec\n",
                "\n",
                "output_name = 'brainspan_{{dataset}}'.lower()\n",
                "\n",
                "path = 'Output/BrainSpain-{{dataset}}'\n",
                "if not os.path.exists(path):\n",
                "    os.makedirs(path)"
            ]
        },
        {
            "cell_type": "markdown",
            "metadata": {},
            "source": [
                "# Load Data"
            ]
        },
        {
            "cell_type": "code",
            "execution_count": 24,
            "metadata": {},
            "outputs": [
                {
                    "output_type": "display_data",
                    "data": {
                        "text/plain": "<IPython.core.display.Markdown object>",
                        "text/markdown": "```python\nfile_list = [\n    'Input/BrainSpan/genes_matrix_csv.zip',\n    '',\n    '',\n    ''\n]\n```"
                    },
                    "metadata": {}
                }
            ],
            "source": [
                "%%appyter code_exec\n",
                "\n",
                "file_list = [\n",
                "    {{file_1}}, \n",
                "    {{file_2}}, \n",
                "    {{file_3}}, \n",
                "    {{file_4}}\n",
                "]"
            ]
        },
        {
            "cell_type": "code",
            "execution_count": 25,
            "metadata": {
                "tags": []
            },
            "outputs": [
                {
                    "output_type": "stream",
                    "name": "stdout",
                    "text": "Loading file: Input/BrainSpan/genes_matrix_csv.zip\n"
                }
            ],
            "source": [
                "data = []\n",
                "\n",
                "for f in file_list:\n",
                "    if not f == '':\n",
                "        print('Loading file:', f)\n",
                "        with zipfile.ZipFile(f) as zipf:\n",
                "            with zipf.open('expression_matrix.csv') as matrix_file:\n",
                "                matrix = pd.read_csv(matrix_file, header=None, index_col=0)\n",
                "            with zipf.open('columns_metadata.csv') as sample_file:\n",
                "                sample_meta = pd.read_csv(sample_file, index_col=0)\n",
                "            with zipf.open('rows_metadata.csv') as gene_file:\n",
                "                gene_meta = pd.read_csv(gene_file, index_col=0)\n",
                "        data.append((matrix, sample_meta, gene_meta))"
            ]
        },
        {
            "cell_type": "markdown",
            "metadata": {},
            "source": [
                "# Pre-process Data"
            ]
        },
        {
            "cell_type": "markdown",
            "metadata": {},
            "source": [
                "## Map Genes and Attribute to Matrix"
            ]
        },
        {
            "cell_type": "code",
            "execution_count": 26,
            "metadata": {},
            "outputs": [
                {
                    "output_type": "display_data",
                    "data": {
                        "text/plain": "<IPython.core.display.Markdown object>",
                        "text/markdown": "```python\nmatrices = []\nfor matrix, sample_meta, gene_meta in data:\n    matrix.index = gene_meta['gene_symbol']\n    if 'Sample' == 'Age':\n        matrix.columns = sample_meta['age']\n    elif 'Sample' == 'Tissue':\n        matrix.columns = sample_meta['structure_name']\n    elif 'Sample' == 'Sample':\n        sample_meta = sample_meta.set_index(['donor_id', 'structure_id'])\n        matrix.columns = sample_meta.index\n    matrices.append(matrix)\nmatrix = pd.concat(matrices, axis=1)\n```"
                    },
                    "metadata": {}
                }
            ],
            "source": [
                "%%appyter code_exec\n",
                "\n",
                "matrices = []\n",
                "\n",
                "for matrix, sample_meta, gene_meta in data:\n",
                "    matrix.index = gene_meta['gene_symbol']\n",
                "    if '{{attribute}}' == 'Age':\n",
                "        matrix.columns = sample_meta['age']\n",
                "    elif '{{attribute}}' == 'Tissue':\n",
                "        matrix.columns = sample_meta['structure_name']\n",
                "    elif '{{attribute}}' == 'Sample':\n",
                "        sample_meta = sample_meta.set_index(['donor_id', 'structure_id'])\n",
                "        matrix.columns = sample_meta.index\n",
                "    matrices.append(matrix)\n",
                "matrix = pd.concat(matrices, axis=1)"
            ]
        },
        {
            "cell_type": "code",
            "execution_count": 27,
            "metadata": {},
            "outputs": [
                {
                    "output_type": "display_data",
                    "data": {
                        "text/plain": "<IPython.core.display.Markdown object>",
                        "text/markdown": "```python\nmatrix.index.name = 'Gene Symbol'\nmatrix.columns.name = 'Sample'\n```"
                    },
                    "metadata": {}
                }
            ],
            "source": [
                "%%appyter code_exec\n",
                "\n",
                "matrix.index.name = 'Gene Symbol'\n",
                "matrix.columns.name = '{{attribute}}'"
            ]
        },
        {
            "cell_type": "code",
            "execution_count": 28,
            "metadata": {},
            "outputs": [
                {
                    "output_type": "execute_result",
                    "data": {
                        "text/plain": "l                                                           \nTSPAN6         2.320932   1.781548   2.277359   1.832737   1.555696   \nTNMD           0.758571   0.000000   0.061869   0.026876   0.100691   \nDPM1          23.769167  20.142132  20.063257  16.575379  18.783516   \nSCYL3          1.593009   1.563377   1.648571   2.231466   2.040326   \nC1orf112       0.583488   0.797376   0.607141   0.575555   0.606445   \n\ndonor_id                                                             \nstructure_id      10225      10163      10294      10333      10209  \nGene Symbol                                                          \nTSPAN6         2.081944   3.484685   4.816781   3.034464   3.082820  \nTNMD           0.140675   0.300576   0.126526   0.000000   0.424134  \nDPM1          21.631293  28.006120  28.731717  16.679597  28.866042  \nSCYL3          2.161741   1.275352   1.184766   1.735579   1.500363  \nC1orf112       0.683625   0.495084   0.761265   0.766482   0.468859  \n\n[5 rows x 524 columns]",
                        "text/html": "<div>\n<style scoped>\n    .dataframe tbody tr th:only-of-type {\n        vertical-align: middle;\n    }\n\n    .dataframe tbody tr th {\n        vertical-align: top;\n    }\n\n    .dataframe thead tr th {\n        text-align: left;\n    }\n\n    .dataframe thead tr:last-of-type th {\n        text-align: right;\n    }\n</style>\n<table border=\"1\" class=\"dataframe\">\n  <thead>\n    <tr>\n      <th>donor_id</th>\n      <th colspan=\"10\" halign=\"left\">13058</th>\n      <th>...</th>\n      <th colspan=\"10\" halign=\"left\">12304</th>\n    </tr>\n    <tr>\n      <th>structure_id</th>\n      <th>10268</th>\n      <th>10291</th>\n      <th>10361</th>\n      <th>10550</th>\n      <th>10243</th>\n      <th>10665</th>\n      <th>10552</th>\n      <th>10391</th>\n      <th>10278</th>\n      <th>10173</th>\n      <th>...</th>\n      <th>10236</th>\n      <th>10657</th>\n      <th>10269</th>\n      <th>10194</th>\n      <th>10243</th>\n      <th>10225</th>\n      <th>10163</th>\n      <th>10294</th>\n      <th>10333</th>\n      <th>10209</th>\n    </tr>\n    <tr>\n      <th>Gene Symbol</th>\n      <th></th>\n      <th></th>\n      <th></th>\n      <th></th>\n      <th></th>\n      <th></th>\n      <th></th>\n      <th></th>\n      <th></th>\n      <th></th>\n      <th></th>\n      <th></th>\n      <th></th>\n      <th></th>\n      <th></th>\n      <th></th>\n      <th></th>\n      <th></th>\n      <th></th>\n      <th></th>\n      <th></th>\n    </tr>\n  </thead>\n  <tbody>\n    <tr>\n      <th>TSPAN6</th>\n      <td>36.447128</td>\n      <td>24.251253</td>\n      <td>19.330479</td>\n      <td>27.668607</td>\n      <td>19.998231</td>\n      <td>14.680673</td>\n      <td>27.548101</td>\n      <td>16.580183</td>\n      <td>44.587799</td>\n      <td>44.943915</td>\n      <td>...</td>\n      <td>2.320932</td>\n      <td>1.781548</td>\n      <td>2.277359</td>\n      <td>1.832737</td>\n      <td>1.555696</td>\n      <td>2.081944</td>\n      <td>3.484685</td>\n      <td>4.816781</td>\n      <td>3.034464</td>\n      <td>3.082820</td>\n    </tr>\n    <tr>\n      <th>TNMD</th>\n      <td>0.044081</td>\n      <td>0.067338</td>\n      <td>0.000000</td>\n      <td>0.145466</td>\n      <td>0.185188</td>\n      <td>0.311180</td>\n      <td>0.000000</td>\n      <td>0.000000</td>\n      <td>0.473831</td>\n      <td>0.181220</td>\n      <td>...</td>\n      <td>0.758571</td>\n      <td>0.000000</td>\n      <td>0.061869</td>\n      <td>0.026876</td>\n      <td>0.100691</td>\n      <td>0.140675</td>\n      <td>0.300576</td>\n      <td>0.126526</td>\n      <td>0.000000</td>\n      <td>0.424134</td>\n    </tr>\n    <tr>\n      <th>DPM1</th>\n      <td>34.373239</td>\n      <td>20.765661</td>\n      <td>18.734947</td>\n      <td>22.366394</td>\n      <td>19.228431</td>\n      <td>11.020365</td>\n      <td>25.394607</td>\n      <td>17.671327</td>\n      <td>32.903100</td>\n      <td>38.157569</td>\n      <td>...</td>\n      <td>23.769167</td>\n      <td>20.142132</td>\n      <td>20.063257</td>\n      <td>16.575379</td>\n      <td>18.783516</td>\n      <td>21.631293</td>\n      <td>28.006120</td>\n      <td>28.731717</td>\n      <td>16.679597</td>\n      <td>28.866042</td>\n    </tr>\n    <tr>\n      <th>SCYL3</th>\n      <td>4.379337</td>\n      <td>4.227521</td>\n      <td>2.551825</td>\n      <td>3.603764</td>\n      <td>2.948976</td>\n      <td>2.405183</td>\n      <td>3.613642</td>\n      <td>2.573935</td>\n      <td>3.483817</td>\n      <td>3.609830</td>\n      <td>...</td>\n      <td>1.593009</td>\n      <td>1.563377</td>\n      <td>1.648571</td>\n      <td>2.231466</td>\n      <td>2.040326</td>\n      <td>2.161741</td>\n      <td>1.275352</td>\n      <td>1.184766</td>\n      <td>1.735579</td>\n      <td>1.500363</td>\n    </tr>\n    <tr>\n      <th>C1orf112</th>\n      <td>3.957119</td>\n      <td>3.520794</td>\n      <td>2.037805</td>\n      <td>3.487035</td>\n      <td>2.177235</td>\n      <td>0.999693</td>\n      <td>3.481555</td>\n      <td>1.747568</td>\n      <td>3.741580</td>\n      <td>3.560650</td>\n      <td>...</td>\n      <td>0.583488</td>\n      <td>0.797376</td>\n      <td>0.607141</td>\n      <td>0.575555</td>\n      <td>0.606445</td>\n      <td>0.683625</td>\n      <td>0.495084</td>\n      <td>0.761265</td>\n      <td>0.766482</td>\n      <td>0.468859</td>\n    </tr>\n  </tbody>\n</table>\n<p>5 rows × 524 columns</p>\n</div>"
                    },
                    "metadata": {},
                    "execution_count": 28
                }
            ],
            "source": [
                "matrix.head()"
            ]
        },
        {
            "cell_type": "code",
            "execution_count": 29,
            "metadata": {},
            "outputs": [
                {
                    "output_type": "execute_result",
                    "data": {
                        "text/plain": "(52376, 524)"
                    },
                    "metadata": {},
                    "execution_count": 29
                }
            ],
            "source": [
                "matrix.shape"
            ]
        },
        {
            "cell_type": "markdown",
            "metadata": {},
            "source": [
                "## Save Unfiltered Matrix to file"
            ]
        },
        {
            "cell_type": "code",
            "execution_count": null,
            "metadata": {},
            "outputs": [],
            "source": [
                "uf.save_data(matrix, path, output_name + '_matrix_unfiltered',\n",
                "            compression='gzip', dtype=np.float32)"
            ]
        },
        {
            "cell_type": "markdown",
            "metadata": {},
            "source": [
                "# Filter Data"
            ]
        },
        {
            "cell_type": "markdown",
            "metadata": {},
            "source": [
                "## Map Gene Symbols to Up-to-date Approved Gene Symbols"
            ]
        },
        {
            "cell_type": "code",
            "execution_count": 40,
            "metadata": {
                "tags": []
            },
            "outputs": [
                {
                    "output_type": "stream",
                    "name": "stderr",
                    "text": "100%|██████████| 17604/17604 [00:00<00:00, 227420.23it/s]\n"
                },
                {
                    "output_type": "execute_result",
                    "data": {
                        "text/plain": "(17368, 492)"
                    },
                    "metadata": {},
                    "execution_count": 40
                }
            ],
            "source": [
                "matrix = uf.map_symbols(matrix, symbol_lookup)\n",
                "matrix.shape"
            ]
        },
        {
            "cell_type": "markdown",
            "metadata": {},
            "source": [
                "## Merge Duplicate Genes By Rows and Duplicate Columns"
            ]
        },
        {
            "cell_type": "code",
            "execution_count": 41,
            "metadata": {},
            "outputs": [
                {
                    "output_type": "execute_result",
                    "data": {
                        "text/plain": "(16631, 27)"
                    },
                    "metadata": {},
                    "execution_count": 41
                }
            ],
            "source": [
                "matrix = uf.merge(matrix, 'row')\n",
                "matrix = uf.merge(matrix, 'column')\n",
                "matrix.shape"
            ]
        },
        {
            "cell_type": "markdown",
            "metadata": {},
            "source": [
                "## Remove Data that is More Than 95% Missing and Impute Missing Data"
            ]
        },
        {
            "cell_type": "code",
            "execution_count": null,
            "metadata": {},
            "outputs": [],
            "source": [
                "matrix = uf.remove_impute(matrix)\n",
                "matrix.head()"
            ]
        },
        {
            "cell_type": "code",
            "execution_count": null,
            "metadata": {},
            "outputs": [],
            "source": [
                "matrix.shape"
            ]
        },
        {
            "cell_type": "markdown",
            "metadata": {},
            "source": [
                "## Log2 Transform"
            ]
        },
        {
            "cell_type": "code",
            "execution_count": null,
            "metadata": {},
            "outputs": [],
            "source": [
                "matrix = uf.log2(matrix)\n",
                "matrix.head()"
            ]
        },
        {
            "cell_type": "markdown",
            "metadata": {},
            "source": [
                "## Normalize Matrix (Quantile Normalize the Matrix by Column)"
            ]
        },
        {
            "cell_type": "code",
            "execution_count": null,
            "metadata": {},
            "outputs": [],
            "source": [
                "matrix = uf.quantile_normalize(matrix)\n",
                "matrix.head()"
            ]
        },
        {
            "cell_type": "markdown",
            "metadata": {},
            "source": [
                "## Normalize Matrix (Z-Score the Rows)"
            ]
        },
        {
            "cell_type": "code",
            "execution_count": null,
            "metadata": {},
            "outputs": [],
            "source": [
                "matrix = uf.zscore(matrix)\n",
                "matrix.head()"
            ]
        },
        {
            "cell_type": "markdown",
            "metadata": {},
            "source": [
                "## Histogram of First Sample"
            ]
        },
        {
            "cell_type": "code",
            "execution_count": null,
            "metadata": {},
            "outputs": [],
            "source": [
                "matrix.iloc[:, 0].hist(bins=100)"
            ]
        },
        {
            "cell_type": "markdown",
            "metadata": {},
            "source": [
                "## Histogram of First Gene"
            ]
        },
        {
            "cell_type": "code",
            "execution_count": null,
            "metadata": {},
            "outputs": [],
            "source": [
                "matrix.iloc[0, :].hist(bins=100)"
            ]
        },
        {
            "cell_type": "markdown",
            "metadata": {},
            "source": [
                "## Save Filtered Matrix"
            ]
        },
        {
            "cell_type": "code",
            "execution_count": null,
            "metadata": {},
            "outputs": [],
            "source": [
                "uf.save_data(matrix, path, output_name + '_matrix_filtered', \n",
                "            ext='tsv', compression='gzip')"
            ]
        },
        {
            "cell_type": "markdown",
            "metadata": {},
            "source": [
                "# Analyze Data"
            ]
        },
        {
            "cell_type": "markdown",
            "metadata": {},
            "source": [
                "## Create Gene List"
            ]
        },
        {
            "cell_type": "code",
            "execution_count": null,
            "metadata": {},
            "outputs": [],
            "source": [
                "gene_list = uf.gene_list(matrix, geneid_lookup)\n",
                "gene_list.head()"
            ]
        },
        {
            "cell_type": "code",
            "execution_count": null,
            "metadata": {},
            "outputs": [],
            "source": [
                "gene_list.shape"
            ]
        },
        {
            "cell_type": "code",
            "execution_count": null,
            "metadata": {},
            "outputs": [],
            "source": [
                "uf.save_data(gene_list, path, output_name + '_gene_list',\n",
                "            ext='tsv', compression='gzip', index=False)"
            ]
        },
        {
            "cell_type": "markdown",
            "metadata": {},
            "source": [
                "## Create Attribute List"
            ]
        },
        {
            "cell_type": "code",
            "execution_count": 30,
            "metadata": {},
            "outputs": [
                {
                    "output_type": "display_data",
                    "data": {
                        "text/plain": "<IPython.core.display.Markdown object>",
                        "text/markdown": "```python\nif 'Sample' == 'Sample':\n    attribute_list = uf.attribute_list(matrix, sample_meta)\nelse:\n    attribute_list = uf.attribute_list(matrix)\n```"
                    },
                    "metadata": {}
                }
            ],
            "source": [
                "%%appyter code_exec\n",
                "\n",
                "if '{{attribute}}' == 'Sample':\n",
                "    attribute_list = uf.attribute_list(matrix, sample_meta)\n",
                "else:\n",
                "    attribute_list = uf.attribute_list(matrix)"
            ]
        },
        {
            "cell_type": "code",
            "execution_count": 31,
            "metadata": {},
            "outputs": [
                {
                    "output_type": "execute_result",
                    "data": {
                        "text/plain": "         donor_name    age gender structure_acronym  \\\ndonor_id structure_id                                                \n13058    10268         H376.IIA.51  8 pcw      M               Ocx   \n         10291         H376.IIA.51  8 pcw      M           M1C-S1C   \n         10361         H376.IIA.51  8 pcw      M               AMY   \n         10550         H376.IIA.51  8 pcw      M               MGE   \n         10243         H376.IIA.51  8 pcw      M               STC   \n\n                                                          structure_name  \ndonor_id structure_id                                                     \n13058    10268                                       occipital neocortex  \n         10291                    primary motor-sensory cortex (samples)  \n         10361                                        amygdaloid complex  \n         10550                                medial ganglionic eminence  \n         10243         posterior (caudal) superior temporal cortex (a...  ",
                        "text/html": "<div>\n<style scoped>\n    .dataframe tbody tr th:only-of-type {\n        vertical-align: middle;\n    }\n\n    .dataframe tbody tr th {\n        vertical-align: top;\n    }\n\n    .dataframe thead th {\n        text-align: right;\n    }\n</style>\n<table border=\"1\" class=\"dataframe\">\n  <thead>\n    <tr style=\"text-align: right;\">\n      <th></th>\n      <th></th>\n      <th>donor_name</th>\n      <th>age</th>\n      <th>gender</th>\n      <th>structure_acronym</th>\n      <th>structure_name</th>\n    </tr>\n    <tr>\n      <th>donor_id</th>\n      <th>structure_id</th>\n      <th></th>\n      <th></th>\n      <th></th>\n      <th></th>\n      <th></th>\n    </tr>\n  </thead>\n  <tbody>\n    <tr>\n      <th rowspan=\"5\" valign=\"top\">13058</th>\n      <th>10268</th>\n      <td>H376.IIA.51</td>\n      <td>8 pcw</td>\n      <td>M</td>\n      <td>Ocx</td>\n      <td>occipital neocortex</td>\n    </tr>\n    <tr>\n      <th>10291</th>\n      <td>H376.IIA.51</td>\n      <td>8 pcw</td>\n      <td>M</td>\n      <td>M1C-S1C</td>\n      <td>primary motor-sensory cortex (samples)</td>\n    </tr>\n    <tr>\n      <th>10361</th>\n      <td>H376.IIA.51</td>\n      <td>8 pcw</td>\n      <td>M</td>\n      <td>AMY</td>\n      <td>amygdaloid complex</td>\n    </tr>\n    <tr>\n      <th>10550</th>\n      <td>H376.IIA.51</td>\n      <td>8 pcw</td>\n      <td>M</td>\n      <td>MGE</td>\n      <td>medial ganglionic eminence</td>\n    </tr>\n    <tr>\n      <th>10243</th>\n      <td>H376.IIA.51</td>\n      <td>8 pcw</td>\n      <td>M</td>\n      <td>STC</td>\n      <td>posterior (caudal) superior temporal cortex (a...</td>\n    </tr>\n  </tbody>\n</table>\n</div>"
                    },
                    "metadata": {},
                    "execution_count": 31
                }
            ],
            "source": [
                "attribute_list.head()"
            ]
        },
        {
            "cell_type": "code",
            "execution_count": 32,
            "metadata": {},
            "outputs": [
                {
                    "output_type": "execute_result",
                    "data": {
                        "text/plain": "(524, 5)"
                    },
                    "metadata": {},
                    "execution_count": 32
                }
            ],
            "source": [
                "attribute_list.shape"
            ]
        },
        {
            "cell_type": "code",
            "execution_count": null,
            "metadata": {},
            "outputs": [],
            "source": [
                "uf.save_data(attribute_list, path, output_name + '_attribute_list',\n",
                "            ext='tsv', compression='gzip')"
            ]
        },
        {
            "cell_type": "markdown",
            "metadata": {},
            "source": [
                "## Create matrix of Standardized values (values between -1, and 1)"
            ]
        },
        {
            "cell_type": "code",
            "execution_count": null,
            "metadata": {},
            "outputs": [],
            "source": [
                "standard_matrix = uf.standardized_matrix(matrix)\n",
                "standard_matrix.head()"
            ]
        },
        {
            "cell_type": "code",
            "execution_count": null,
            "metadata": {},
            "outputs": [],
            "source": [
                "uf.save_data(standard_matrix, path, output_name + '_standard_matrix',\n",
                "            ext='tsv', compression='gzip')"
            ]
        },
        {
            "cell_type": "markdown",
            "metadata": {},
            "source": [
                "## Plot of A Single Celltype, Normalized Value vs. Standardized Value"
            ]
        },
        {
            "cell_type": "code",
            "execution_count": null,
            "metadata": {},
            "outputs": [],
            "source": [
                "plt.plot(matrix[matrix.columns[0]],\n",
                "         standard_matrix[standard_matrix.columns[0]], 'bo')\n",
                "plt.xlabel('Normalized Values')\n",
                "plt.ylabel('Standardized Values')\n",
                "plt.title(standard_matrix.columns[0])\n",
                "plt.grid(True)"
            ]
        },
        {
            "cell_type": "markdown",
            "metadata": {},
            "source": [
                "## Create Ternary Matrix"
            ]
        },
        {
            "cell_type": "code",
            "execution_count": null,
            "metadata": {},
            "outputs": [],
            "source": [
                "ternary_matrix = uf.ternary_matrix(standard_matrix)\n",
                "ternary_matrix.head()"
            ]
        },
        {
            "cell_type": "code",
            "execution_count": null,
            "metadata": {},
            "outputs": [],
            "source": [
                "uf.save_data(ternary_matrix, path, output_name + '_ternary_matrix',\n",
                "            ext='tsv', compression='gzip')"
            ]
        },
        {
            "cell_type": "markdown",
            "metadata": {},
            "source": [
                "## Create Gene and Attribute Set Libraries"
            ]
        },
        {
            "cell_type": "code",
            "execution_count": null,
            "metadata": {},
            "outputs": [],
            "source": [
                "uf.save_setlib(ternary_matrix, 'gene', 'up', path, output_name + '_gene_up_set')"
            ]
        },
        {
            "cell_type": "code",
            "execution_count": null,
            "metadata": {},
            "outputs": [],
            "source": [
                "uf.save_setlib(ternary_matrix, 'gene', 'down', path, output_name + '_gene_down_set')"
            ]
        },
        {
            "cell_type": "code",
            "execution_count": null,
            "metadata": {},
            "outputs": [],
            "source": [
                "uf.save_setlib(ternary_matrix, 'attribute', 'up', path, \n",
                "                           output_name + '_attribute_up_set')"
            ]
        },
        {
            "cell_type": "code",
            "execution_count": null,
            "metadata": {},
            "outputs": [],
            "source": [
                "uf.save_setlib(ternary_matrix, 'attribute', 'down', path, \n",
                "                             output_name + '_attribute_down_set')"
            ]
        },
        {
            "cell_type": "markdown",
            "metadata": {},
            "source": [
                "## Create Attribute Similarity Matrix"
            ]
        },
        {
            "cell_type": "code",
            "execution_count": null,
            "metadata": {},
            "outputs": [],
            "source": [
                "attribute_similarity_matrix = uf.similarity_matrix(standard_matrix.T, 'cosine')\n",
                "attribute_similarity_matrix.head()"
            ]
        },
        {
            "cell_type": "code",
            "execution_count": null,
            "metadata": {},
            "outputs": [],
            "source": [
                "uf.save_data(attribute_similarity_matrix, path,\n",
                "            output_name + '_attribute_similarity_matrix', \n",
                "            compression='npz', symmetric=True, dtype=np.float32)"
            ]
        },
        {
            "cell_type": "code",
            "execution_count": null,
            "metadata": {},
            "outputs": [],
            "source": [
                "# net.load_df(attribute_similarity_matrix.iloc[:,:].copy())\n",
                "# net.filter_N_top('row', rank_type='sum', N_top=300)\n",
                "# net.cluster()\n",
                "# net.widget()"
            ]
        },
        {
            "cell_type": "markdown",
            "metadata": {},
            "source": [
                "## Create Gene Similarity Matrix"
            ]
        },
        {
            "cell_type": "code",
            "execution_count": null,
            "metadata": {},
            "outputs": [],
            "source": [
                "gene_similarity_matrix = uf.similarity_matrix(standard_matrix, 'cosine')\n",
                "gene_similarity_matrix.head()"
            ]
        },
        {
            "cell_type": "code",
            "execution_count": null,
            "metadata": {},
            "outputs": [],
            "source": [
                "uf.save_data(gene_similarity_matrix, path, \n",
                "            output_name + '_gene_similarity_matrix',\n",
                "            compression='npz', symmetric=True, dtype=np.float32)"
            ]
        },
        {
            "cell_type": "markdown",
            "metadata": {},
            "source": [
                "## Create Gene-Attribute Edge List"
            ]
        },
        {
            "cell_type": "code",
            "execution_count": null,
            "metadata": {},
            "outputs": [],
            "source": [
                "edge_list = uf.edge_list(standard_matrix)\n",
                "uf.save_data(edge_list, path, output_name + '_edge_list', \n",
                "        ext='tsv', compression='gzip')"
            ]
        },
        {
            "cell_type": "markdown",
            "metadata": {},
            "source": [
                "# Create Downloadable Save File"
            ]
        },
        {
            "cell_type": "code",
            "execution_count": null,
            "metadata": {},
            "outputs": [],
            "source": [
                "uf.archive(path)"
            ]
        },
        {
            "cell_type": "markdown",
            "metadata": {},
            "source": [
                "### Link to download output files: [click here](./output_archive.zip)"
            ]
        }
    ],
    "metadata": {
        "kernelspec": {
            "display_name": "Python 3.8.0 64-bit ('harmonizome': venv)",
            "name": "python38064bitharmonizomevenve1fd62c035f347dbaffce382c9034785"
        },
        "language_info": {
            "codemirror_mode": {
                "name": "ipython",
                "version": 3
            },
            "file_extension": ".py",
            "mimetype": "text/x-python",
            "name": "python",
            "nbconvert_exporter": "python",
            "pygments_lexer": "ipython3",
            "version": "3.8.0-final"
        },
        "orig_nbformat": 2
    },
    "nbformat": 4,
    "nbformat_minor": 2
}