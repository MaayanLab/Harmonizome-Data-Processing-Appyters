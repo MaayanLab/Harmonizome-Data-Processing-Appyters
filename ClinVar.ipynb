{
    "cells": [
        {
            "cell_type": "markdown",
            "metadata": {},
            "source": [
                "# ClinVar"
            ]
        },
        {
            "cell_type": "markdown",
            "metadata": {},
            "source": [
                "Created by: Charles Dai <br>\n",
                "Credit to: Moshe Silverstein\n",
                "\n",
                "Data Source Home: https://www.ncbi.nlm.nih.gov/clinvar/ <br>\n",
                "Data Source Download: https://ftp.ncbi.nlm.nih.gov/pub/clinvar/tab_delimited/"
            ]
        },
        {
            "cell_type": "code",
            "execution_count": 1,
            "metadata": {},
            "outputs": [],
            "source": [
                "# appyter init\n",
                "from appyter import magic\n",
                "magic.init(lambda _=globals: _())"
            ]
        },
        {
            "cell_type": "code",
            "execution_count": 2,
            "metadata": {},
            "outputs": [],
            "source": [
                "import sys\n",
                "import os\n",
                "from datetime import date\n",
                "\n",
                "import numpy as np\n",
                "import pandas as pd\n",
                "import matplotlib.pyplot as plt\n",
                "%matplotlib inline\n",
                "\n",
                "import harmonizome.utility_functions as uf\n",
                "import harmonizome.lookup as lookup"
            ]
        },
        {
            "cell_type": "code",
            "execution_count": 3,
            "metadata": {},
            "outputs": [],
            "source": [
                "# from clustergrammer_widget import *\n",
                "# net = Network(clustergrammer_widget)"
            ]
        },
        {
            "cell_type": "code",
            "execution_count": 4,
            "metadata": {},
            "outputs": [],
            "source": [
                "%load_ext autoreload\n",
                "%autoreload 2"
            ]
        },
        {
            "cell_type": "markdown",
            "metadata": {},
            "source": [
                "### Notebook Information"
            ]
        },
        {
            "cell_type": "code",
            "execution_count": 5,
            "metadata": {
                "tags": []
            },
            "outputs": [
                {
                    "output_type": "stream",
                    "name": "stdout",
                    "text": "This notebook was run on: 2020-06-28 \nPython version: 3.8.0 (default, Oct 28 2019, 16:14:01) \n[GCC 8.3.0]\n"
                }
            ],
            "source": [
                "print('This notebook was run on:', date.today(), '\\nPython version:', sys.version)"
            ]
        },
        {
            "cell_type": "markdown",
            "metadata": {},
            "source": [
                "# Initialization"
            ]
        },
        {
            "cell_type": "markdown",
            "metadata": {},
            "source": [
                "### Load Mapping Dictionaries"
            ]
        },
        {
            "cell_type": "code",
            "execution_count": 6,
            "metadata": {
                "tags": []
            },
            "outputs": [
                {
                    "output_type": "stream",
                    "name": "stderr",
                    "text": "Gathering sources: 100%|██████████| 3/3 [00:09<00:00,  3.19s/it]\n"
                }
            ],
            "source": [
                "symbol_lookup, geneid_lookup = lookup.get_lookups()"
            ]
        },
        {
            "cell_type": "markdown",
            "metadata": {},
            "source": [
                "### Output Path"
            ]
        },
        {
            "cell_type": "code",
            "execution_count": 7,
            "metadata": {},
            "outputs": [],
            "source": [
                "output_name = 'clinvar'\n",
                "\n",
                "path = 'Output/ClinVar'\n",
                "if not os.path.exists(path):\n",
                "    os.makedirs(path)"
            ]
        },
        {
            "cell_type": "code",
            "execution_count": 8,
            "metadata": {},
            "outputs": [],
            "source": [
                "%%appyter hide_code\n",
                "{% do SectionField(\n",
                "    name='data',\n",
                "    title='Load Data',\n",
                "    subtitle='Upload Files from the ClinVar Database',\n",
                ") %}"
            ]
        },
        {
            "cell_type": "markdown",
            "metadata": {},
            "source": [
                "# Load Data"
            ]
        },
        {
            "cell_type": "code",
            "execution_count": 57,
            "metadata": {},
            "outputs": [
                {
                    "output_type": "display_data",
                    "data": {
                        "text/plain": "<IPython.core.display.Markdown object>",
                        "text/markdown": "```python\ndf = pd.read_csv('Input/ClinVar/variant_summary.txt.gz', sep='\\t', usecols=\n    ['GeneSymbol', 'ClinSigSimple', 'PhenotypeList', 'ReviewStatus'])\n```"
                    },
                    "metadata": {}
                }
            ],
            "source": [
                "%%appyter code_exec\n",
                "\n",
                "df = pd.read_csv({{FileField(\n",
                "    constraint='.*\\.gz$',\n",
                "    name='variant_summary', \n",
                "    label='Variant Summary (txt.gz)', \n",
                "    default='Input/ClinVar/variant_summary.txt.gz',\n",
                "    section='data')\n",
                "}}, sep='\\t', usecols=\n",
                "    ['GeneSymbol', 'ClinSigSimple', 'PhenotypeList', 'ReviewStatus'])"
            ]
        },
        {
            "cell_type": "code",
            "execution_count": 58,
            "metadata": {},
            "outputs": [
                {
                    "output_type": "execute_result",
                    "data": {
                        "text/plain": "  GeneSymbol  ClinSigSimple  PhenotypeList  \\\n0      USP9X              1   not provided   \n1      USP9X              1   not provided   \n2       NONO              1   not provided   \n3       NONO              1   not provided   \n4      DDX3X              0  not specified   \n\n                          ReviewStatus  \n0  criteria provided, single submitter  \n1  criteria provided, single submitter  \n2  criteria provided, single submitter  \n3  criteria provided, single submitter  \n4  criteria provided, single submitter  ",
                        "text/html": "<div>\n<style scoped>\n    .dataframe tbody tr th:only-of-type {\n        vertical-align: middle;\n    }\n\n    .dataframe tbody tr th {\n        vertical-align: top;\n    }\n\n    .dataframe thead th {\n        text-align: right;\n    }\n</style>\n<table border=\"1\" class=\"dataframe\">\n  <thead>\n    <tr style=\"text-align: right;\">\n      <th></th>\n      <th>GeneSymbol</th>\n      <th>ClinSigSimple</th>\n      <th>PhenotypeList</th>\n      <th>ReviewStatus</th>\n    </tr>\n  </thead>\n  <tbody>\n    <tr>\n      <th>0</th>\n      <td>USP9X</td>\n      <td>1</td>\n      <td>not provided</td>\n      <td>criteria provided, single submitter</td>\n    </tr>\n    <tr>\n      <th>1</th>\n      <td>USP9X</td>\n      <td>1</td>\n      <td>not provided</td>\n      <td>criteria provided, single submitter</td>\n    </tr>\n    <tr>\n      <th>2</th>\n      <td>NONO</td>\n      <td>1</td>\n      <td>not provided</td>\n      <td>criteria provided, single submitter</td>\n    </tr>\n    <tr>\n      <th>3</th>\n      <td>NONO</td>\n      <td>1</td>\n      <td>not provided</td>\n      <td>criteria provided, single submitter</td>\n    </tr>\n    <tr>\n      <th>4</th>\n      <td>DDX3X</td>\n      <td>0</td>\n      <td>not specified</td>\n      <td>criteria provided, single submitter</td>\n    </tr>\n  </tbody>\n</table>\n</div>"
                    },
                    "metadata": {},
                    "execution_count": 58
                }
            ],
            "source": [
                "df.head()"
            ]
        },
        {
            "cell_type": "code",
            "execution_count": 59,
            "metadata": {},
            "outputs": [
                {
                    "output_type": "execute_result",
                    "data": {
                        "text/plain": "(1542521, 4)"
                    },
                    "metadata": {},
                    "execution_count": 59
                }
            ],
            "source": [
                "df.shape"
            ]
        },
        {
            "cell_type": "markdown",
            "metadata": {},
            "source": [
                "# Pre-process Data"
            ]
        },
        {
            "cell_type": "markdown",
            "metadata": {},
            "source": [
                "## Get Relevant Data"
            ]
        },
        {
            "cell_type": "code",
            "execution_count": 60,
            "metadata": {
                "tags": []
            },
            "outputs": [
                {
                    "output_type": "stream",
                    "name": "stdout",
                    "text": "(234385, 4)\n"
                },
                {
                    "output_type": "execute_result",
                    "data": {
                        "text/plain": "(48871, 4)"
                    },
                    "metadata": {},
                    "execution_count": 60
                }
            ],
            "source": [
                "# Get only relevant review status\n",
                "df = df[np.logical_or(\n",
                "    df['ReviewStatus'] == 'reviewed by expert panel',\n",
                "    df['ReviewStatus'] == 'criteria provided, multiple submitters, no conflicts'\n",
                ")]\n",
                "# Drop anything with clinical significance benign (ClinSigSimple = 0)\n",
                "df = df[df['ClinSigSimple'] != 0]\n",
                "df.shape"
            ]
        },
        {
            "cell_type": "code",
            "execution_count": 61,
            "metadata": {},
            "outputs": [
                {
                    "output_type": "execute_result",
                    "data": {
                        "text/plain": "    GeneSymbol                                      PhenotypeList\n78      IQSEC2        Mental retardation, X-linked 1;not provided\n79      IQSEC2        Mental retardation, X-linked 1;not provided\n188        EDA  Hypohidrotic X-linked ectodermal dysplasia;not...\n189        EDA  Hypohidrotic X-linked ectodermal dysplasia;not...\n190      IL2RG  X-linked severe combined immunodeficiency;not ...",
                        "text/html": "<div>\n<style scoped>\n    .dataframe tbody tr th:only-of-type {\n        vertical-align: middle;\n    }\n\n    .dataframe tbody tr th {\n        vertical-align: top;\n    }\n\n    .dataframe thead th {\n        text-align: right;\n    }\n</style>\n<table border=\"1\" class=\"dataframe\">\n  <thead>\n    <tr style=\"text-align: right;\">\n      <th></th>\n      <th>GeneSymbol</th>\n      <th>PhenotypeList</th>\n    </tr>\n  </thead>\n  <tbody>\n    <tr>\n      <th>78</th>\n      <td>IQSEC2</td>\n      <td>Mental retardation, X-linked 1;not provided</td>\n    </tr>\n    <tr>\n      <th>79</th>\n      <td>IQSEC2</td>\n      <td>Mental retardation, X-linked 1;not provided</td>\n    </tr>\n    <tr>\n      <th>188</th>\n      <td>EDA</td>\n      <td>Hypohidrotic X-linked ectodermal dysplasia;not...</td>\n    </tr>\n    <tr>\n      <th>189</th>\n      <td>EDA</td>\n      <td>Hypohidrotic X-linked ectodermal dysplasia;not...</td>\n    </tr>\n    <tr>\n      <th>190</th>\n      <td>IL2RG</td>\n      <td>X-linked severe combined immunodeficiency;not ...</td>\n    </tr>\n  </tbody>\n</table>\n</div>"
                    },
                    "metadata": {},
                    "execution_count": 61
                }
            ],
            "source": [
                "df = df[['GeneSymbol', 'PhenotypeList']]\n",
                "df.head()"
            ]
        },
        {
            "cell_type": "markdown",
            "metadata": {},
            "source": [
                "## Split Attribute List"
            ]
        },
        {
            "cell_type": "code",
            "execution_count": 62,
            "metadata": {},
            "outputs": [
                {
                    "output_type": "execute_result",
                    "data": {
                        "text/plain": "                                              Phenotype\nGene Symbol                                            \nIQSEC2                   Mental retardation, X-linked 1\nIQSEC2                                     not provided\nIQSEC2                   Mental retardation, X-linked 1\nIQSEC2                                     not provided\nEDA          Hypohidrotic X-linked ectodermal dysplasia",
                        "text/html": "<div>\n<style scoped>\n    .dataframe tbody tr th:only-of-type {\n        vertical-align: middle;\n    }\n\n    .dataframe tbody tr th {\n        vertical-align: top;\n    }\n\n    .dataframe thead th {\n        text-align: right;\n    }\n</style>\n<table border=\"1\" class=\"dataframe\">\n  <thead>\n    <tr style=\"text-align: right;\">\n      <th></th>\n      <th>Phenotype</th>\n    </tr>\n    <tr>\n      <th>Gene Symbol</th>\n      <th></th>\n    </tr>\n  </thead>\n  <tbody>\n    <tr>\n      <th>IQSEC2</th>\n      <td>Mental retardation, X-linked 1</td>\n    </tr>\n    <tr>\n      <th>IQSEC2</th>\n      <td>not provided</td>\n    </tr>\n    <tr>\n      <th>IQSEC2</th>\n      <td>Mental retardation, X-linked 1</td>\n    </tr>\n    <tr>\n      <th>IQSEC2</th>\n      <td>not provided</td>\n    </tr>\n    <tr>\n      <th>EDA</th>\n      <td>Hypohidrotic X-linked ectodermal dysplasia</td>\n    </tr>\n  </tbody>\n</table>\n</div>"
                    },
                    "metadata": {},
                    "execution_count": 62
                }
            ],
            "source": [
                "df['PhenotypeList'] = df['PhenotypeList'].map(lambda s: s.split(';'))\n",
                "df = df.explode('PhenotypeList')\n",
                "df.columns = ['Gene Symbol', 'Phenotype']\n",
                "df = df.set_index('Gene Symbol')\n",
                "df.head()"
            ]
        },
        {
            "cell_type": "markdown",
            "metadata": {},
            "source": [
                "# Filter Data"
            ]
        },
        {
            "cell_type": "markdown",
            "metadata": {},
            "source": [
                "## Map Gene Symbols to Up-to-date Approved Gene Symbols"
            ]
        },
        {
            "cell_type": "code",
            "execution_count": 63,
            "metadata": {
                "tags": []
            },
            "outputs": [
                {
                    "output_type": "stream",
                    "name": "stderr",
                    "text": "100%|██████████| 134445/134445 [00:00<00:00, 621161.22it/s]\n"
                },
                {
                    "output_type": "execute_result",
                    "data": {
                        "text/plain": "(8962, 1)"
                    },
                    "metadata": {},
                    "execution_count": 63
                }
            ],
            "source": [
                "df = uf.map_symbols(df, symbol_lookup, remove_duplicates=True)\n",
                "df.shape"
            ]
        },
        {
            "cell_type": "markdown",
            "metadata": {},
            "source": [
                "# Analyze Data"
            ]
        },
        {
            "cell_type": "markdown",
            "metadata": {},
            "source": [
                "## Create Binary Matrix"
            ]
        },
        {
            "cell_type": "code",
            "execution_count": 23,
            "metadata": {},
            "outputs": [
                {
                    "output_type": "execute_result",
                    "data": {
                        "text/plain": " \nBRAF                                                  False   \nBRCA1                                                 False   \nBRCA2                                                 False   \nCACNA1S                                               False   \n\nPhenotype    volatile anesthetics response - Toxicity/ADR  \\\nGene Symbol                                                 \nAPOE                                                False   \nBRAF                                                False   \nBRCA1                                               False   \nBRCA2                                               False   \nCACNA1S                                             False   \n\nPhenotype    warfarin response - Dosage  \nGene Symbol                              \nAPOE                              False  \nBRAF                              False  \nBRCA1                             False  \nBRCA2                             False  \nCACNA1S                           False  \n\n[5 rows x 403 columns]",
                        "text/html": "<div>\n<style scoped>\n    .dataframe tbody tr th:only-of-type {\n        vertical-align: middle;\n    }\n\n    .dataframe tbody tr th {\n        vertical-align: top;\n    }\n\n    .dataframe thead th {\n        text-align: right;\n    }\n</style>\n<table border=\"1\" class=\"dataframe\">\n  <thead>\n    <tr style=\"text-align: right;\">\n      <th>Phenotype</th>\n      <th>2-3 toe syndactyly</th>\n      <th>Abnormal aggressive, impulsive or violent behavior</th>\n      <th>Abnormality of the aortic valve</th>\n      <th>Abnormality of the tongue</th>\n      <th>Acute lymphoid leukemia</th>\n      <th>Acute myeloid leukemia</th>\n      <th>Adenocarcinoma</th>\n      <th>Adenocarcinoma of lung, response to tyrosine kinase inhibitor in, somatic</th>\n      <th>Adenocarcinoma of prostate</th>\n      <th>Adenocarcinoma of stomach</th>\n      <th>...</th>\n      <th>rosuvastatin response - Other</th>\n      <th>sensorineural hearing loss disorder</th>\n      <th>sevoflurane response - Toxicity/ADR</th>\n      <th>simvastatin acid response - Metabolism/PK</th>\n      <th>simvastatin response - Toxicity/ADR</th>\n      <th>succinylcholine response - Toxicity/ADR</th>\n      <th>tegafur response - Toxicity/ADR</th>\n      <th>tegafur response - Toxicity/ADR, Metabolism/PK</th>\n      <th>volatile anesthetics response - Toxicity/ADR</th>\n      <th>warfarin response - Dosage</th>\n    </tr>\n    <tr>\n      <th>Gene Symbol</th>\n      <th></th>\n      <th></th>\n      <th></th>\n      <th></th>\n      <th></th>\n      <th></th>\n      <th></th>\n      <th></th>\n      <th></th>\n      <th></th>\n      <th></th>\n      <th></th>\n      <th></th>\n      <th></th>\n      <th></th>\n      <th></th>\n      <th></th>\n      <th></th>\n      <th></th>\n      <th></th>\n      <th></th>\n    </tr>\n  </thead>\n  <tbody>\n    <tr>\n      <th>APOE</th>\n      <td>False</td>\n      <td>False</td>\n      <td>False</td>\n      <td>False</td>\n      <td>False</td>\n      <td>False</td>\n      <td>False</td>\n      <td>False</td>\n      <td>False</td>\n      <td>False</td>\n      <td>...</td>\n      <td>False</td>\n      <td>False</td>\n      <td>False</td>\n      <td>False</td>\n      <td>False</td>\n      <td>False</td>\n      <td>False</td>\n      <td>False</td>\n      <td>False</td>\n      <td>False</td>\n    </tr>\n    <tr>\n      <th>BRAF</th>\n      <td>False</td>\n      <td>False</td>\n      <td>False</td>\n      <td>False</td>\n      <td>False</td>\n      <td>False</td>\n      <td>False</td>\n      <td>False</td>\n      <td>True</td>\n      <td>False</td>\n      <td>...</td>\n      <td>False</td>\n      <td>False</td>\n      <td>False</td>\n      <td>False</td>\n      <td>False</td>\n      <td>False</td>\n      <td>False</td>\n      <td>False</td>\n      <td>False</td>\n      <td>False</td>\n    </tr>\n    <tr>\n      <th>BRCA1</th>\n      <td>False</td>\n      <td>False</td>\n      <td>False</td>\n      <td>False</td>\n      <td>False</td>\n      <td>False</td>\n      <td>False</td>\n      <td>False</td>\n      <td>False</td>\n      <td>False</td>\n      <td>...</td>\n      <td>False</td>\n      <td>False</td>\n      <td>False</td>\n      <td>False</td>\n      <td>False</td>\n      <td>False</td>\n      <td>False</td>\n      <td>False</td>\n      <td>False</td>\n      <td>False</td>\n    </tr>\n    <tr>\n      <th>BRCA2</th>\n      <td>False</td>\n      <td>False</td>\n      <td>False</td>\n      <td>False</td>\n      <td>False</td>\n      <td>False</td>\n      <td>False</td>\n      <td>False</td>\n      <td>False</td>\n      <td>False</td>\n      <td>...</td>\n      <td>False</td>\n      <td>False</td>\n      <td>False</td>\n      <td>False</td>\n      <td>False</td>\n      <td>False</td>\n      <td>False</td>\n      <td>False</td>\n      <td>False</td>\n      <td>False</td>\n    </tr>\n    <tr>\n      <th>CACNA1S</th>\n      <td>False</td>\n      <td>False</td>\n      <td>False</td>\n      <td>False</td>\n      <td>False</td>\n      <td>False</td>\n      <td>False</td>\n      <td>False</td>\n      <td>False</td>\n      <td>False</td>\n      <td>...</td>\n      <td>False</td>\n      <td>False</td>\n      <td>True</td>\n      <td>False</td>\n      <td>False</td>\n      <td>True</td>\n      <td>False</td>\n      <td>False</td>\n      <td>False</td>\n      <td>False</td>\n    </tr>\n  </tbody>\n</table>\n<p>5 rows × 403 columns</p>\n</div>"
                    },
                    "metadata": {},
                    "execution_count": 23
                }
            ],
            "source": [
                "binary_matrix = uf.binary_matrix(df)\n",
                "binary_matrix.head()"
            ]
        },
        {
            "cell_type": "code",
            "execution_count": null,
            "metadata": {},
            "outputs": [],
            "source": [
                "binary_matrix.shape"
            ]
        },
        {
            "cell_type": "code",
            "execution_count": null,
            "metadata": {},
            "outputs": [],
            "source": [
                "uf.save_data(binary_matrix, path, output_name + '_binary_matrix', \n",
                "            compression='npz', dtype=np.uint8)"
            ]
        },
        {
            "cell_type": "markdown",
            "metadata": {},
            "source": [
                "## Create Gene List"
            ]
        },
        {
            "cell_type": "code",
            "execution_count": null,
            "metadata": {},
            "outputs": [],
            "source": [
                "gene_list = uf.gene_list(binary_matrix, geneid_lookup)\n",
                "gene_list.head()"
            ]
        },
        {
            "cell_type": "code",
            "execution_count": null,
            "metadata": {},
            "outputs": [],
            "source": [
                "gene_list.shape"
            ]
        },
        {
            "cell_type": "code",
            "execution_count": null,
            "metadata": {},
            "outputs": [],
            "source": [
                "uf.save_data(gene_list, path, output_name + '_gene_list',\n",
                "            ext='tsv', compression='gzip', index=False)"
            ]
        },
        {
            "cell_type": "markdown",
            "metadata": {},
            "source": [
                "## Create Attribute List"
            ]
        },
        {
            "cell_type": "code",
            "execution_count": null,
            "metadata": {},
            "outputs": [],
            "source": [
                "attribute_list = uf.attribute_list(binary_matrix)\n",
                "attribute_list.head()"
            ]
        },
        {
            "cell_type": "code",
            "execution_count": null,
            "metadata": {},
            "outputs": [],
            "source": [
                "attribute_list.shape"
            ]
        },
        {
            "cell_type": "code",
            "execution_count": null,
            "metadata": {},
            "outputs": [],
            "source": [
                "uf.save_data(attribute_list, path, output_name + '_attribute_list',\n",
                "            ext='tsv', compression='gzip')"
            ]
        },
        {
            "cell_type": "markdown",
            "metadata": {},
            "source": [
                "## Create Gene and Attribute Set Libraries"
            ]
        },
        {
            "cell_type": "code",
            "execution_count": null,
            "metadata": {},
            "outputs": [],
            "source": [
                "uf.save_setlib(binary_matrix, 'gene', 'up', path, output_name + '_gene_up_set')"
            ]
        },
        {
            "cell_type": "code",
            "execution_count": null,
            "metadata": {},
            "outputs": [],
            "source": [
                "uf.save_setlib(binary_matrix, 'attribute', 'up', path, \n",
                "                           output_name + '_attribute_up_set')"
            ]
        },
        {
            "cell_type": "markdown",
            "metadata": {},
            "source": [
                "## Create Attribute Similarity Matrix"
            ]
        },
        {
            "cell_type": "code",
            "execution_count": null,
            "metadata": {},
            "outputs": [],
            "source": [
                "attribute_similarity_matrix = uf.similarity_matrix(binary_matrix.T, 'jaccard', sparse=True)\n",
                "attribute_similarity_matrix.head()"
            ]
        },
        {
            "cell_type": "code",
            "execution_count": null,
            "metadata": {},
            "outputs": [],
            "source": [
                "uf.save_data(attribute_similarity_matrix, path,\n",
                "            output_name + '_attribute_similarity_matrix', \n",
                "            compression='npz', symmetric=True, dtype=np.float32)"
            ]
        },
        {
            "cell_type": "code",
            "execution_count": null,
            "metadata": {},
            "outputs": [],
            "source": [
                "# net.load_df(attribute_similarity_matrix.iloc[:,:].copy())\n",
                "# net.filter_N_top('row', rank_type='sum', N_top=300)\n",
                "# net.cluster()\n",
                "# net.widget()"
            ]
        },
        {
            "cell_type": "markdown",
            "metadata": {},
            "source": [
                "## Create Gene Similarity Matrix"
            ]
        },
        {
            "cell_type": "code",
            "execution_count": null,
            "metadata": {},
            "outputs": [],
            "source": [
                "gene_similarity_matrix = uf.similarity_matrix(binary_matrix, 'jaccard', sparse=True)\n",
                "gene_similarity_matrix.head()"
            ]
        },
        {
            "cell_type": "code",
            "execution_count": null,
            "metadata": {},
            "outputs": [],
            "source": [
                "uf.save_data(gene_similarity_matrix, path, \n",
                "            output_name + '_gene_similarity_matrix',\n",
                "            compression='npz', symmetric=True, dtype=np.float32)"
            ]
        },
        {
            "cell_type": "markdown",
            "metadata": {},
            "source": [
                "## Create Gene-Attribute Edge List"
            ]
        },
        {
            "cell_type": "code",
            "execution_count": null,
            "metadata": {},
            "outputs": [],
            "source": [
                "edge_list = uf(binary_matrix)\n",
                "uf.save_data(edge_list, path, output_name + 'edge_list', \n",
                "        ext='tsv', compression='gzip')"
            ]
        },
        {
            "cell_type": "markdown",
            "metadata": {},
            "source": [
                "# Create Downloadable Save File"
            ]
        },
        {
            "cell_type": "code",
            "execution_count": null,
            "metadata": {},
            "outputs": [],
            "source": [
                "uf.archive(path)"
            ]
        },
        {
            "cell_type": "markdown",
            "metadata": {},
            "source": [
                "### Link to download output files: [click here](./output_archive.zip)"
            ]
        }
    ],
    "metadata": {
        "language_info": {
            "codemirror_mode": {
                "name": "ipython",
                "version": 3
            },
            "file_extension": ".py",
            "mimetype": "text/x-python",
            "name": "python",
            "nbconvert_exporter": "python",
            "pygments_lexer": "ipython3",
            "version": 3
        },
        "orig_nbformat": 2,
        "kernelspec": {
            "name": "python_defaultSpec_1593318067437",
            "display_name": "Python 3.8.0 64-bit ('harmonizome': venv)"
        }
    },
    "nbformat": 4,
    "nbformat_minor": 2
}