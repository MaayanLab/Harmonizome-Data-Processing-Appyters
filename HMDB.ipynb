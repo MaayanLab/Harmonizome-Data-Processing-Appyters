{
    "cells": [
        {
            "cell_type": "markdown",
            "metadata": {
                "colab_type": "text",
                "id": "LL9FO-mGOf5b"
            },
            "source": [
                " # Human Phenotype Ontology"
            ]
        },
        {
            "cell_type": "markdown",
            "metadata": {
                "colab_type": "text",
                "id": "WFIPUhkIOf5c"
            },
            "source": [
                " Author: Moshe Silverstein <br/>\n",
                " Date: 11-17 <br/>\n",
                " Data Source: http://www.human-phenotype-ontology.org/\n",
                "\n",
                " Reviewer: Charles Dai <br>\n",
                " Updated: 6-20"
            ]
        },
        {
            "cell_type": "code",
            "execution_count": 4,
            "metadata": {
                "colab": {},
                "colab_type": "code",
                "id": "GwGmD0KbOf5d"
            },
            "outputs": [],
            "source": [
                "# appyter init\n",
                "from appyter import magic\n",
                "magic.init(lambda _=globals: _())"
            ]
        },
        {
            "cell_type": "code",
            "execution_count": 5,
            "metadata": {
                "colab": {},
                "colab_type": "code",
                "id": "ptbW7s9jOf5h"
            },
            "outputs": [],
            "source": [
                "import sys\n",
                "import os\n", "from datetime import date\n",
                "\n",
                "import numpy as np\n",
                "import pandas as pd\n",
                "import itertools\n",
                "import xml.etree.ElementTree as ET\n",
                "import matplotlib.pyplot as plt\n",
                "%matplotlib inline\n",
                "\n",
                "import harmonizome.utility_functions as uf\n",
                "import harmonizome.lookup as lookup"
            ]
        },
        {
            "cell_type": "code",
            "execution_count": 6,
            "metadata": {
                "colab": {},
                "colab_type": "code",
                "id": "VpIyy7BCOf5j"
            },
            "outputs": [],
            "source": [
                "# from clustergrammer_widget import *\n",
                "# net = Network(clustergrammer_widget)"
            ]
        },
        {
            "cell_type": "code",
            "execution_count": 7,
            "metadata": {
                "colab": {},
                "colab_type": "code",
                "id": "0Hh8pdTROf5m"
            },
            "outputs": [],
            "source": [
                "%load_ext autoreload\n",
                "%autoreload 2"
            ]
        },
        {
            "cell_type": "markdown",
            "metadata": {
                "colab_type": "text",
                "id": "DAkWYt6POf5p"
            },
            "source": [
                " ### Notebook Information"
            ]
        },
        {
            "cell_type": "code",
            "execution_count": 8,
            "metadata": {
                "colab": {
                    "base_uri": "https://localhost:8080/",
                    "height": 34
                },
                "colab_type": "code",
                "id": "mlHJ2vwhOf5p",
                "outputId": "876d2faa-2bd4-4fb6-977f-ff339a6c2b47"
            },
            "outputs": [
                {
                    "data": {
                        "text/plain": [
                            "'3.6.9 (default, Apr 18 2020, 01:56:04) \\n[GCC 8.4.0]'"
                        ]
                    },
                    "execution_count": 8,
                    "metadata": {
                        "tags": []
                    },
                    "output_type": "execute_result"
                }
            ],
            "source": [
                "print('This notebook was run on:', date.today(), '\\nPython version:', sys.version)"
            ]
        },
        {
            "cell_type": "markdown",
            "metadata": {
                "colab_type": "text",
                "id": "kvkbkdwDOf5s"
            },
            "source": [
                " # Initialization"
            ]
        },
        {
            "cell_type": "markdown",
            "metadata": {
                "colab_type": "text",
                "id": "ujIEagn6Of5s"
            },
            "source": [
                " ### Load Mapping Dictionaries"
            ]
        },
        {
            "cell_type": "code",
            "execution_count": 9,
            "metadata": {
                "colab": {
                    "base_uri": "https://localhost:8080/",
                    "height": 34
                },
                "colab_type": "code",
                "id": "wAaYz4u1Of5t",
                "outputId": "9ebfed47-61e5-4bf9-d178-f1272fc44245"
            },
            "outputs": [
                {
                    "name": "stderr",
                    "output_type": "stream",
                    "text": [
                        "Gathering sources: 100%|\u2588\u2588\u2588\u2588\u2588\u2588\u2588\u2588\u2588\u2588| 3/3 [00:17<00:00,  5.91s/it]\n"
                    ]
                }
            ],
            "source": [
                "symbol_lookup, geneid_lookup = lookup.get_lookups()"
            ]
        },
        {
            "cell_type": "markdown",
            "metadata": {
                "colab_type": "text",
                "id": "Bil3V9iEOf5w"
            },
            "source": [
                " ### Output Path"
            ]
        },
        {
            "cell_type": "code",
            "execution_count": 10,
            "metadata": {
                "colab": {},
                "colab_type": "code",
                "id": "JXnTWdanOf5w"
            },
            "outputs": [],
            "source": [
                "output_name = 'hmdb'\n",
                "\n",
                "path = 'Output/HMDB'\n",
                "if not os.path.exists(path):\n",
                "    os.makedirs(path)"
            ]
        },
        {
            "cell_type": "code",
            "execution_count": 11,
            "metadata": {
                "colab": {},
                "colab_type": "code",
                "id": "ndC3_evmOf5y"
            },
            "outputs": [],
            "source": [
                "%%appyter hide_code\n",
                "{% do SectionField(\n",
                "    name='data',\n",
                "    title='Load Data',\n",
                "    subtitle='Upload Files from the Human Metabolome Database',\n",
                ") %}"
            ]
        },
        {
            "cell_type": "markdown",
            "metadata": {
                "colab_type": "text",
                "id": "hlwU5NYQOf51"
            },
            "source": [
                " # Load Data"
            ]
        },
        {
            "cell_type": "code",
            "execution_count": 41,
            "metadata": {
                "colab": {
                    "base_uri": "https://localhost:8080/",
                    "height": 51
                },
                "colab_type": "code",
                "id": "_oWUo6ZPOf51",
                "outputId": "1cd9f0a8-a260-40ca-d750-0d1b86251e92"
            },
            "outputs": [
                {
                    "data": {
                        "text/markdown": "```python\n\ntree = ET.iterparse('Input/HMDB/hmdb_metabolites.xml')\n```",
                        "text/plain": [
                            "<IPython.core.display.Markdown object>"
                        ]
                    },
                    "metadata": {
                        "tags": []
                    },
                    "output_type": "display_data"
                }
            ],
            "source": [
                "%%appyter code_exec\n",
                "\n",
                "tree = ET.iterparse({{FileField(\n",
                "    constraint='.*\\.xml$',\n",
                "    name='all_metabolites', \n",
                "    label='All Metabolites (XML)', \n",
                "    default='Input/HMDB/hmdb_metabolites.xml',\n",
                "    section='data')\n",
                "}})"
            ]
        },
        {
            "cell_type": "markdown",
            "metadata": {
                "colab_type": "text",
                "id": "iZ5qniGJOf56"
            },
            "source": [
                " # Pre-process Data"
            ]
        },
        {
            "cell_type": "markdown",
            "metadata": {
                "colab_type": "text",
                "id": "_iQahg0ROf57"
            },
            "source": [
                " ## Get Relevant Data"
            ]
        },
        {
            "cell_type": "code",
            "execution_count": 42,
            "metadata": {
                "colab": {},
                "colab_type": "code",
                "id": "O_ZolddQOf58"
            },
            "outputs": [],
            "source": [
                "metabolites = []\n",
                "genes = []\n",
                "\n",
                "for _, elem in tree:\n",
                "  if elem.tag == '{http://www.hmdb.ca}metabolite':\n",
                "    metabolites.append(elem.find('{http://www.hmdb.ca}name').text)\n",
                "    genes.append([gene.find('{http://www.hmdb.ca}gene_name').text for gene in elem.find('{http://www.hmdb.ca}protein_associations').iter('{http://www.hmdb.ca}protein')])\n",
                "    elem.clear()"
            ]
        },
        {
            "cell_type": "code",
            "execution_count": 43,
            "metadata": {
                "colab": {
                    "base_uri": "https://localhost:8080/",
                    "height": 204
                },
                "colab_type": "code",
                "id": "Lbz1QpjWOf6B",
                "outputId": "183b2b98-c75f-48ec-81ac-2cbcd4f8acfe"
            },
            "outputs": [
                {
                    "data": {
                        "text/html": [
                            "<div>\n",
                            "<style scoped>\n",
                            "    .dataframe tbody tr th:only-of-type {\n",
                            "        vertical-align: middle;\n",
                            "    }\n",
                            "\n",
                            "    .dataframe tbody tr th {\n",
                            "        vertical-align: top;\n",
                            "    }\n",
                            "\n",
                            "    .dataframe thead th {\n",
                            "        text-align: right;\n",
                            "    }\n",
                            "</style>\n",
                            "<table border=\"1\" class=\"dataframe\">\n",
                            "  <thead>\n",
                            "    <tr style=\"text-align: right;\">\n",
                            "      <th></th>\n",
                            "      <th>Genes</th>\n",
                            "      <th>Metabolites</th>\n",
                            "    </tr>\n",
                            "  </thead>\n",
                            "  <tbody>\n",
                            "    <tr>\n",
                            "      <th>0</th>\n",
                            "      <td>[CNDP1, PRMT3]</td>\n",
                            "      <td>1-Methylhistidine</td>\n",
                            "    </tr>\n",
                            "    <tr>\n",
                            "      <th>1</th>\n",
                            "      <td>[SMS, DHPS, ABP1, AOC3, AOC2, AMD1, ODC1]</td>\n",
                            "      <td>1,3-Diaminopropane</td>\n",
                            "    </tr>\n",
                            "    <tr>\n",
                            "      <th>2</th>\n",
                            "      <td>[PDHB, PDHA1, PDHA2, BCKDHB, BCKDHA, OGDH, CTH...</td>\n",
                            "      <td>2-Ketobutyric acid</td>\n",
                            "    </tr>\n",
                            "    <tr>\n",
                            "      <th>3</th>\n",
                            "      <td>[DLD, SULT2B1, UGT1A1, LDHAL6A, LDHB, LDHC, LD...</td>\n",
                            "      <td>2-Hydroxybutyric acid</td>\n",
                            "    </tr>\n",
                            "    <tr>\n",
                            "      <th>4</th>\n",
                            "      <td>[COMT, UGT2B28, UGT2B4, UGT1A4, UGT2B10, UGT2B...</td>\n",
                            "      <td>2-Methoxyestrone</td>\n",
                            "    </tr>\n",
                            "  </tbody>\n",
                            "</table>\n",
                            "</div>"
                        ],
                        "text/plain": [
                            "                                               Genes            Metabolites\n",
                            "0                                     [CNDP1, PRMT3]      1-Methylhistidine\n",
                            "1          [SMS, DHPS, ABP1, AOC3, AOC2, AMD1, ODC1]     1,3-Diaminopropane\n",
                            "2  [PDHB, PDHA1, PDHA2, BCKDHB, BCKDHA, OGDH, CTH...     2-Ketobutyric acid\n",
                            "3  [DLD, SULT2B1, UGT1A1, LDHAL6A, LDHB, LDHC, LD...  2-Hydroxybutyric acid\n",
                            "4  [COMT, UGT2B28, UGT2B4, UGT1A4, UGT2B10, UGT2B...       2-Methoxyestrone"
                        ]
                    },
                    "execution_count": 43,
                    "metadata": {
                        "tags": []
                    },
                    "output_type": "execute_result"
                }
            ],
            "source": [
                "df = pd.DataFrame({'Genes': genes, 'Metabolites': metabolites})\n",
                "df.head()"
            ]
        },
        {
            "cell_type": "markdown",
            "metadata": {
                "colab_type": "text",
                "id": "MLf3oQxfOf6L"
            },
            "source": [
                " ## Split Gene Lists"
            ]
        },
        {
            "cell_type": "code",
            "execution_count": 44,
            "metadata": {
                "colab": {
                    "base_uri": "https://localhost:8080/",
                    "height": 235
                },
                "colab_type": "code",
                "id": "UtELHuqEOf6M",
                "outputId": "8d402a4e-a35a-4428-d857-560411172669"
            },
            "outputs": [
                {
                    "data": {
                        "text/html": [
                            "<div>\n",
                            "<style scoped>\n",
                            "    .dataframe tbody tr th:only-of-type {\n",
                            "        vertical-align: middle;\n",
                            "    }\n",
                            "\n",
                            "    .dataframe tbody tr th {\n",
                            "        vertical-align: top;\n",
                            "    }\n",
                            "\n",
                            "    .dataframe thead th {\n",
                            "        text-align: right;\n",
                            "    }\n",
                            "</style>\n",
                            "<table border=\"1\" class=\"dataframe\">\n",
                            "  <thead>\n",
                            "    <tr style=\"text-align: right;\">\n",
                            "      <th></th>\n",
                            "      <th>Metabolites</th>\n",
                            "    </tr>\n",
                            "    <tr>\n",
                            "      <th>Genes</th>\n",
                            "      <th></th>\n",
                            "    </tr>\n",
                            "  </thead>\n",
                            "  <tbody>\n",
                            "    <tr>\n",
                            "      <th>CNDP1</th>\n",
                            "      <td>1-Methylhistidine</td>\n",
                            "    </tr>\n",
                            "    <tr>\n",
                            "      <th>PRMT3</th>\n",
                            "      <td>1-Methylhistidine</td>\n",
                            "    </tr>\n",
                            "    <tr>\n",
                            "      <th>SMS</th>\n",
                            "      <td>1,3-Diaminopropane</td>\n",
                            "    </tr>\n",
                            "    <tr>\n",
                            "      <th>DHPS</th>\n",
                            "      <td>1,3-Diaminopropane</td>\n",
                            "    </tr>\n",
                            "    <tr>\n",
                            "      <th>ABP1</th>\n",
                            "      <td>1,3-Diaminopropane</td>\n",
                            "    </tr>\n",
                            "  </tbody>\n",
                            "</table>\n",
                            "</div>"
                        ],
                        "text/plain": [
                            "              Metabolites\n",
                            "Genes                    \n",
                            "CNDP1   1-Methylhistidine\n",
                            "PRMT3   1-Methylhistidine\n",
                            "SMS    1,3-Diaminopropane\n",
                            "DHPS   1,3-Diaminopropane\n",
                            "ABP1   1,3-Diaminopropane"
                        ]
                    },
                    "execution_count": 44,
                    "metadata": {
                        "tags": []
                    },
                    "output_type": "execute_result"
                }
            ],
            "source": [
                "df = df.explode('Genes')\n",
                "df = df.set_index('Genes')\n",
                "df.head()"
            ]
        },
        {
            "cell_type": "code",
            "execution_count": 45,
            "metadata": {
                "colab": {
                    "base_uri": "https://localhost:8080/",
                    "height": 34
                },
                "colab_type": "code",
                "id": "aEY25neUOf6P",
                "outputId": "69c72f3c-3d12-4411-d639-6bed1df69a6f"
            },
            "outputs": [
                {
                    "data": {
                        "text/plain": [
                            "(955300, 1)"
                        ]
                    },
                    "execution_count": 45,
                    "metadata": {
                        "tags": []
                    },
                    "output_type": "execute_result"
                }
            ],
            "source": [
                "df.shape"
            ]
        },
        {
            "cell_type": "markdown",
            "metadata": {
                "colab_type": "text",
                "id": "wil23V1tOf6S"
            },
            "source": [
                " # Filter Data"
            ]
        },
        {
            "cell_type": "markdown",
            "metadata": {
                "colab_type": "text",
                "id": "tAd9OuE7Of6S"
            },
            "source": [
                " ## Map Gene Symbols to Up-to-date Approved Gene Symbols"
            ]
        },
        {
            "cell_type": "code",
            "execution_count": 46,
            "metadata": {
                "colab": {
                    "base_uri": "https://localhost:8080/",
                    "height": 51
                },
                "colab_type": "code",
                "id": "iHRRcQhxOf6S",
                "outputId": "9a3e3f43-67d2-4cd2-ce43-b484f5c0a9da"
            },
            "outputs": [
                {
                    "name": "stderr",
                    "output_type": "stream",
                    "text": [
                        "100%|\u2588\u2588\u2588\u2588\u2588\u2588\u2588\u2588\u2588\u2588| 955300/955300 [00:01<00:00, 801426.55it/s]\n"
                    ]
                },
                {
                    "data": {
                        "text/plain": [
                            "(858107, 1)"
                        ]
                    },
                    "execution_count": 46,
                    "metadata": {
                        "tags": []
                    },
                    "output_type": "execute_result"
                }
            ],
            "source": [
                "df = uf.mapgenesymbols(df, symbol_lookup)\n",
                "df.shape"
            ]
        },
        {
            "cell_type": "markdown",
            "metadata": {
                "colab_type": "text",
                "id": "tF09CRPpOf6U"
            },
            "source": [
                " # Analyze Data"
            ]
        },
        {
            "cell_type": "markdown",
            "metadata": {
                "colab_type": "text",
                "id": "paEb4tZkOf6V"
            },
            "source": [
                " ## Create Binary Matrix"
            ]
        },
        {
            "cell_type": "code",
            "execution_count": 47,
            "metadata": {
                "colab": {
                    "base_uri": "https://localhost:8080/",
                    "height": 389
                },
                "colab_type": "code",
                "id": "WnlSjrQ4Of6V",
                "outputId": "196aa6cd-cc1e-4656-8b44-22902c9223ec"
            },
            "outputs": [
                {
                    "data": {
                        "text/html": [
                            "<div>\n",
                            "<style scoped>\n",
                            "    .dataframe tbody tr th:only-of-type {\n",
                            "        vertical-align: middle;\n",
                            "    }\n",
                            "\n",
                            "    .dataframe tbody tr th {\n",
                            "        vertical-align: top;\n",
                            "    }\n",
                            "\n",
                            "    .dataframe thead th {\n",
                            "        text-align: right;\n",
                            "    }\n",
                            "</style>\n",
                            "<table border=\"1\" class=\"dataframe\">\n",
                            "  <thead>\n",
                            "    <tr style=\"text-align: right;\">\n",
                            "      <th></th>\n",
                            "      <th>(+)-(1R,2R)-1,2-Diphenylethane-1,2-diol</th>\n",
                            "      <th>(+)-12a-Hydroxypachyrrhizone</th>\n",
                            "      <th>(+)-7-Isojasmonic acid CoA</th>\n",
                            "      <th>(+)-Catechin 6-C-glucoside</th>\n",
                            "      <th>(+)-Catechin 8-C-glucoside</th>\n",
                            "      <th>(+)-Galeon</th>\n",
                            "      <th>(+)-Limonene</th>\n",
                            "      <th>(+)-trans-Carveol</th>\n",
                            "      <th>(-)-trans-Carveol</th>\n",
                            "      <th>(13E)-11a-Hydroxy-9,15-dioxoprost-13-enoic acid</th>\n",
                            "      <th>(1E)-1-(2-hydroxy-4-methoxyphenyl)pent-1-en-3-one</th>\n",
                            "      <th>(1E)-1-(4-hydroxyphenyl)pent-1-en-3-one</th>\n",
                            "      <th>(1E)-1-(4-methoxyphenyl)pent-1-en-3-ol</th>\n",
                            "      <th>(1E)-4-hydroxy-1-(4-methoxyphenyl)pent-1-en-3-one</th>\n",
                            "      <th>(1E)-5-hydroxy-1-(4-methoxyphenyl)pent-1-en-3-one</th>\n",
                            "      <th>(1E)-5-phenyl-1-(3-phenyloxiran-2-yl)pent-1-en-3-one</th>\n",
                            "      <th>(1R)-Glutathionyl-(2R)-hydroxy-1,2-dihydronaphthalene</th>\n",
                            "      <th>(1R)-Hydroxy-(2R)-glutathionyl-1,2-dihydronaphthalene</th>\n",
                            "      <th>(1R,12S,16Z,24E,26E,28Z,32S)-1,18-dihydroxy-12-[1-(4-hydroxy-3-methoxycyclohexyl)propan-2-yl]-19,30-dimethoxy-15,17,21,23,29,35-hexamethyl-11,36-dioxa-4-azatricyclo[30.3.1.0\u2074,\u2079]hexatriaconta-16,24,26,28-tetraene-2,3,10,14,20-pentone</th>\n",
                            "      <th>(1R,16Z,24E,26E,28Z)-1,13,18-trihydroxy-12-[1-(4-hydroxy-3-methoxycyclohexyl)propan-2-yl]-19,30-dimethoxy-15,17,21,23,29,35-hexamethyl-11,36-dioxa-4-azatricyclo[30.3.1.0\u2074,\u2079]hexatriaconta-16,24,26,28-tetraene-2,3,10,14,20-pentone</th>\n",
                            "      <th>(1R,16Z,24E,26E,28Z)-1,15,18-trihydroxy-12-[1-(4-hydroxy-3-methoxycyclohexyl)propan-2-yl]-19,30-dimethoxy-15,17,21,23,29,35-hexamethyl-11,36-dioxa-4-azatricyclo[30.3.1.0\u2074,\u2079]hexatriaconta-16,24,26,28-tetraene-2,3,10,14,20-pentone</th>\n",
                            "      <th>(1R,16Z,24E,26E,28Z)-1,18,19-trihydroxy-12-[1-(4-hydroxy-3-methoxycyclohexyl)propan-2-yl]-30-methoxy-15,17,21,23,29,35-hexamethyl-11,36-dioxa-4-azatricyclo[30.3.1.0\u2074,\u2079]hexatriaconta-16,24,26,28-tetraene-2,3,10,14,20-pentone</th>\n",
                            "      <th>(1R,16Z,24E,26E,28Z)-1,18,21-trihydroxy-12-[1-(4-hydroxy-3-methoxycyclohexyl)propan-2-yl]-19,30-dimethoxy-15,17,21,23,29,35-hexamethyl-11,36-dioxa-4-azatricyclo[30.3.1.0\u2074,\u2079]hexatriaconta-16,24,26,28-tetraene-2,3,10,14,20-pentone</th>\n",
                            "      <th>(1R,16Z,24E,26E,28Z)-1,18,23-trihydroxy-12-[1-(4-hydroxy-3-methoxycyclohexyl)propan-2-yl]-19,30-dimethoxy-15,17,21,23,29,35-hexamethyl-11,36-dioxa-4-azatricyclo[30.3.1.0\u2074,\u2079]hexatriaconta-16,24,26,28-tetraene-2,3,10,14,20-pentone</th>\n",
                            "      <th>(1R,16Z,24E,26E,28Z)-1,18,30-trihydroxy-12-[1-(4-hydroxy-3-methoxycyclohexyl)propan-2-yl]-19-methoxy-15,17,21,23,29,35-hexamethyl-11,36-dioxa-4-azatricyclo[30.3.1.0\u2074,\u2079]hexatriaconta-16,24,26,28-tetraene-2,3,10,14,20-pentone</th>\n",
                            "      <th>(1R,16Z,24E,26E,28Z)-1,18,35-trihydroxy-12-[1-(4-hydroxy-3-methoxycyclohexyl)propan-2-yl]-19,30-dimethoxy-15,17,21,23,29,35-hexamethyl-11,36-dioxa-4-azatricyclo[30.3.1.0\u2074,\u2079]hexatriaconta-16,24,26,28-tetraene-2,3,10,14,20-pentone</th>\n",
                            "      <th>(1R,16Z,24E,26E,28Z)-1,18-dihydroxy-12-[1-(4-hydroxy-3-methoxycyclohexyl)propan-2-yl]-15-(hydroxymethyl)-19,30-dimethoxy-17,21,23,29,35-pentamethyl-11,36-dioxa-4-azatricyclo[30.3.1.0\u2074,\u2079]hexatriaconta-16,24,26,28-tetraene-2,3,10,14,20-pentone</th>\n",
                            "      <th>(1R,16Z,24E,26E,28Z)-1,18-dihydroxy-12-[1-(4-hydroxy-3-methoxycyclohexyl)propan-2-yl]-17-(hydroxymethyl)-19,30-dimethoxy-15,21,23,29,35-pentamethyl-11,36-dioxa-4-azatricyclo[30.3.1.0\u2074,\u2079]hexatriaconta-16,24,26,28-tetraene-2,3,10,14,20-pentone</th>\n",
                            "      <th>(1R,16Z,24E,26E,28Z)-1,18-dihydroxy-12-[1-(4-hydroxy-3-methoxycyclohexyl)propan-2-yl]-19,30-dimethoxy-15,17,21,23,29,35-hexamethyl-11,36-dioxa-4\u03bb\u2075-azatricyclo[30.3.1.0\u2074,\u2079]hexatriaconta-16,24,26,28-tetraene-2,3,4,10,14,20-hexone</th>\n",
                            "      <th>(1R,16Z,24E,26E,28Z)-1,18-dihydroxy-12-[1-(4-hydroxy-3-methoxycyclohexyl)propan-2-yl]-19,30-dimethoxy-15,17,21,23,29-pentamethyl-35-methylidene-11,36-dioxa-4-azatricyclo[30.3.1.0\u2074,\u2079]hexatriaconta-16,24,26,28-tetraene-2,3,10,14,20-pentone</th>\n",
                            "      <th>(1R,16Z,24E,26E,28Z)-1,18-dihydroxy-12-[1-(4-hydroxy-3-methoxycyclohexyl)propan-2-yl]-19,30-dimethoxy-15,17,21,29,35-pentamethyl-23-methylidene-11,36-dioxa-4-azatricyclo[30.3.1.0\u2074,\u2079]hexatriaconta-16,24,26,28-tetraene-2,3,10,14,20-pentone</th>\n",
                            "      <th>(1R,16Z,24E,26E,28Z)-1,18-dihydroxy-12-[1-(4-hydroxy-3-methoxycyclohexyl)propan-2-yl]-19,30-dimethoxy-15,17,23,29,35-pentamethyl-21-methylidene-11,36-dioxa-4-azatricyclo[30.3.1.0\u2074,\u2079]hexatriaconta-16,24,26,28-tetraene-2,3,10,14,20-pentone</th>\n",
                            "      <th>(1R,16Z,24E,26E,28Z)-1,18-dihydroxy-12-[1-(4-hydroxy-3-methoxycyclohexyl)propan-2-yl]-19,30-dimethoxy-17,21,23,29,35-pentamethyl-15-methylidene-11,36-dioxa-4-azatricyclo[30.3.1.0\u2074,\u2079]hexatriaconta-16,24,26,28-tetraene-2,3,10,14,20-pentone</th>\n",
                            "      <th>(1R,16Z,24E,26E,28Z)-1,18-dihydroxy-12-[1-(4-hydroxy-3-methoxycyclohexyl)propan-2-yl]-21-(hydroxymethyl)-19,30-dimethoxy-15,17,23,29,35-pentamethyl-11,36-dioxa-4-azatricyclo[30.3.1.0\u2074,\u2079]hexatriaconta-16,24,26,28-tetraene-2,3,10,14,20-pentone</th>\n",
                            "      <th>(1R,16Z,24E,26E,28Z)-1,18-dihydroxy-12-[1-(4-hydroxy-3-methoxycyclohexyl)propan-2-yl]-23-(hydroxymethyl)-19,30-dimethoxy-15,17,21,29,35-pentamethyl-11,36-dioxa-4-azatricyclo[30.3.1.0\u2074,\u2079]hexatriaconta-16,24,26,28-tetraene-2,3,10,14,20-pentone</th>\n",
                            "      <th>(1R,16Z,24E,26E,28Z)-1,18-dihydroxy-12-[1-(4-hydroxy-3-methoxycyclohexyl)propan-2-yl]-29-(hydroxymethyl)-19,30-dimethoxy-15,17,21,23,35-pentamethyl-11,36-dioxa-4-azatricyclo[30.3.1.0\u2074,\u2079]hexatriaconta-16,24,26,28-tetraene-2,3,10,14,20-pentone</th>\n",
                            "      <th>(1R,16Z,24E,26E,28Z)-1,18-dihydroxy-12-[1-(4-hydroxy-3-methoxycyclohexyl)propan-2-yl]-35-(hydroxymethyl)-19,30-dimethoxy-15,17,21,23,29-pentamethyl-11,36-dioxa-4-azatricyclo[30.3.1.0\u2074,\u2079]hexatriaconta-16,24,26,28-tetraene-2,3,10,14,20-pentone</th>\n",
                            "      <th>(1R,16Z,24E,26E,28Z)-1,18-dihydroxy-12-[1-hydroxy-3-(4-hydroxy-3-methoxycyclohexyl)propan-2-yl]-19,30-dimethoxy-15,17,21,23,29,35-hexamethyl-11,36-dioxa-4-azatricyclo[30.3.1.0\u2074,\u2079]hexatriaconta-16,24,26,28-tetraene-2,3,10,14,20-pentone</th>\n",
                            "      <th>(1R,16Z,24E,26E,28Z)-1,18-dihydroxy-12-[2-hydroxy-1-(4-hydroxy-3-methoxycyclohexyl)propan-2-yl]-19,30-dimethoxy-15,17,21,23,29,35-hexamethyl-11,36-dioxa-4-azatricyclo[30.3.1.0\u2074,\u2079]hexatriaconta-16,24,26,28-tetraene-2,3,10,14,20-pentone</th>\n",
                            "      <th>(1R,16Z,24E,26E,28Z)-1,18-dihydroxy-12-[3-(4-hydroxy-3-methoxycyclohexyl)prop-1-en-2-yl]-19,30-dimethoxy-15,17,21,23,29,35-hexamethyl-11,36-dioxa-4-azatricyclo[30.3.1.0\u2074,\u2079]hexatriaconta-16,24,26,28-tetraene-2,3,10,14,20-pentone</th>\n",
                            "      <th>...</th>\n",
                            "      <th>myo-Inositol</th>\n",
                            "      <th>naringenin-7-O-glucuronide</th>\n",
                            "      <th>nicotinate beta-D-ribonucleotide</th>\n",
                            "      <th>o-Tolyl salicylate</th>\n",
                            "      <th>p-Anisic acid</th>\n",
                            "      <th>p-Cresol glucuronide</th>\n",
                            "      <th>p-Hydroxyphenylacetic acid</th>\n",
                            "      <th>p-Octopamine</th>\n",
                            "      <th>p-Synephrine</th>\n",
                            "      <th>phenyl 2,3-dihydroxybenzoate</th>\n",
                            "      <th>phenyl 2,5-dihydroxybenzoate</th>\n",
                            "      <th>sn-glycero-3-Phosphoethanolamine</th>\n",
                            "      <th>trans,cis-Lauro-2,6-dienoyl-CoA</th>\n",
                            "      <th>trans-1,2-Dihydrobenzene-1,2-diol</th>\n",
                            "      <th>trans-2-Enoyl-OPC4-CoA</th>\n",
                            "      <th>trans-2-Enoyl-OPC6-CoA</th>\n",
                            "      <th>trans-2-Enoyl-OPC8-CoA</th>\n",
                            "      <th>trans-2-Hexenoyl-CoA</th>\n",
                            "      <th>trans-2-Methyl-5-isopropylhexa-2,5-dienoyl-CoA</th>\n",
                            "      <th>trans-3,3',4',5,5',7-Hexahydroxyflavanone</th>\n",
                            "      <th>trans-3,4-Dihydro-3,4-dihydroxy-7,12-dimethylbenz[a]anthracene</th>\n",
                            "      <th>trans-3-Chloro-2-propene-1-ol</th>\n",
                            "      <th>trans-3-Chloroacrylic acid</th>\n",
                            "      <th>trans-3-Chloroallyl aldehyde</th>\n",
                            "      <th>trans-3-Decenoyl-CoA</th>\n",
                            "      <th>trans-3-Hexenoyl-CoA</th>\n",
                            "      <th>trans-3-Hydroxycotinine glucuronide</th>\n",
                            "      <th>trans-4-Carboxymethylenebut-2-en-4-olide</th>\n",
                            "      <th>trans-5,6-Dihydro-5,6-dihydroxy-7,12-dimethylbenz[a]anthracene</th>\n",
                            "      <th>trans-Cinnamic acid</th>\n",
                            "      <th>trans-Cinnamyl alcohol</th>\n",
                            "      <th>trans-Dec-2-enoic acid</th>\n",
                            "      <th>trans-Dodec-2-enoic acid</th>\n",
                            "      <th>trans-Ferulic acid</th>\n",
                            "      <th>trans-Octadec-2-enoyl-CoA</th>\n",
                            "      <th>trans-Tetra-dec-2-enoic acid</th>\n",
                            "      <th>xi-Norepinephrine</th>\n",
                            "      <th>{2-[4-(3-ethyl-2,3-diphenyloxiran-2-yl)phenoxy]ethyl}(methyl)amine</th>\n",
                            "      <th>{2-[4-(4-chloro-1,2-diphenylbut-1-en-1-yl)phenoxy]ethyl}(methyl)amine</th>\n",
                            "      <th>{[6-({5-[(6-{[(2-carboxyacetyl)oxy]methyl}-3,4,5-trihydroxyoxan-2-yl)oxy]-7-hydroxy-2-(4-oxocyclohexa-2,5-dien-1-ylidene)-2H-chromen-3-yl}oxy)-3,4,5-trihydroxyoxan-2-yl]methyl}[1-hydroxy-3-(4-hydroxyphenyl)prop-2-en-1-ylidene]oxidanium</th>\n",
                            "    </tr>\n",
                            "  </thead>\n",
                            "  <tbody>\n",
                            "    <tr>\n",
                            "      <th>A1CF</th>\n",
                            "      <td>False</td>\n",
                            "      <td>False</td>\n",
                            "      <td>False</td>\n",
                            "      <td>False</td>\n",
                            "      <td>False</td>\n",
                            "      <td>False</td>\n",
                            "      <td>False</td>\n",
                            "      <td>False</td>\n",
                            "      <td>False</td>\n",
                            "      <td>False</td>\n",
                            "      <td>False</td>\n",
                            "      <td>False</td>\n",
                            "      <td>False</td>\n",
                            "      <td>False</td>\n",
                            "      <td>False</td>\n",
                            "      <td>False</td>\n",
                            "      <td>False</td>\n",
                            "      <td>False</td>\n",
                            "      <td>False</td>\n",
                            "      <td>False</td>\n",
                            "      <td>False</td>\n",
                            "      <td>False</td>\n",
                            "      <td>False</td>\n",
                            "      <td>False</td>\n",
                            "      <td>False</td>\n",
                            "      <td>False</td>\n",
                            "      <td>False</td>\n",
                            "      <td>False</td>\n",
                            "      <td>False</td>\n",
                            "      <td>False</td>\n",
                            "      <td>False</td>\n",
                            "      <td>False</td>\n",
                            "      <td>False</td>\n",
                            "      <td>False</td>\n",
                            "      <td>False</td>\n",
                            "      <td>False</td>\n",
                            "      <td>False</td>\n",
                            "      <td>False</td>\n",
                            "      <td>False</td>\n",
                            "      <td>False</td>\n",
                            "      <td>...</td>\n",
                            "      <td>False</td>\n",
                            "      <td>False</td>\n",
                            "      <td>False</td>\n",
                            "      <td>False</td>\n",
                            "      <td>False</td>\n",
                            "      <td>False</td>\n",
                            "      <td>False</td>\n",
                            "      <td>False</td>\n",
                            "      <td>False</td>\n",
                            "      <td>False</td>\n",
                            "      <td>False</td>\n",
                            "      <td>False</td>\n",
                            "      <td>False</td>\n",
                            "      <td>False</td>\n",
                            "      <td>False</td>\n",
                            "      <td>False</td>\n",
                            "      <td>False</td>\n",
                            "      <td>False</td>\n",
                            "      <td>False</td>\n",
                            "      <td>False</td>\n",
                            "      <td>False</td>\n",
                            "      <td>False</td>\n",
                            "      <td>False</td>\n",
                            "      <td>False</td>\n",
                            "      <td>False</td>\n",
                            "      <td>False</td>\n",
                            "      <td>False</td>\n",
                            "      <td>False</td>\n",
                            "      <td>False</td>\n",
                            "      <td>False</td>\n",
                            "      <td>False</td>\n",
                            "      <td>False</td>\n",
                            "      <td>False</td>\n",
                            "      <td>False</td>\n",
                            "      <td>False</td>\n",
                            "      <td>False</td>\n",
                            "      <td>False</td>\n",
                            "      <td>False</td>\n",
                            "      <td>False</td>\n",
                            "      <td>False</td>\n",
                            "    </tr>\n",
                            "    <tr>\n",
                            "      <th>A2M</th>\n",
                            "      <td>False</td>\n",
                            "      <td>False</td>\n",
                            "      <td>False</td>\n",
                            "      <td>False</td>\n",
                            "      <td>False</td>\n",
                            "      <td>False</td>\n",
                            "      <td>False</td>\n",
                            "      <td>False</td>\n",
                            "      <td>False</td>\n",
                            "      <td>False</td>\n",
                            "      <td>False</td>\n",
                            "      <td>False</td>\n",
                            "      <td>False</td>\n",
                            "      <td>False</td>\n",
                            "      <td>False</td>\n",
                            "      <td>False</td>\n",
                            "      <td>False</td>\n",
                            "      <td>False</td>\n",
                            "      <td>False</td>\n",
                            "      <td>False</td>\n",
                            "      <td>False</td>\n",
                            "      <td>False</td>\n",
                            "      <td>False</td>\n",
                            "      <td>False</td>\n",
                            "      <td>False</td>\n",
                            "      <td>False</td>\n",
                            "      <td>False</td>\n",
                            "      <td>False</td>\n",
                            "      <td>False</td>\n",
                            "      <td>False</td>\n",
                            "      <td>False</td>\n",
                            "      <td>False</td>\n",
                            "      <td>False</td>\n",
                            "      <td>False</td>\n",
                            "      <td>False</td>\n",
                            "      <td>False</td>\n",
                            "      <td>False</td>\n",
                            "      <td>False</td>\n",
                            "      <td>False</td>\n",
                            "      <td>False</td>\n",
                            "      <td>...</td>\n",
                            "      <td>False</td>\n",
                            "      <td>False</td>\n",
                            "      <td>False</td>\n",
                            "      <td>False</td>\n",
                            "      <td>False</td>\n",
                            "      <td>False</td>\n",
                            "      <td>False</td>\n",
                            "      <td>False</td>\n",
                            "      <td>False</td>\n",
                            "      <td>False</td>\n",
                            "      <td>False</td>\n",
                            "      <td>False</td>\n",
                            "      <td>False</td>\n",
                            "      <td>False</td>\n",
                            "      <td>False</td>\n",
                            "      <td>False</td>\n",
                            "      <td>False</td>\n",
                            "      <td>False</td>\n",
                            "      <td>False</td>\n",
                            "      <td>False</td>\n",
                            "      <td>False</td>\n",
                            "      <td>False</td>\n",
                            "      <td>False</td>\n",
                            "      <td>False</td>\n",
                            "      <td>False</td>\n",
                            "      <td>False</td>\n",
                            "      <td>False</td>\n",
                            "      <td>False</td>\n",
                            "      <td>False</td>\n",
                            "      <td>False</td>\n",
                            "      <td>False</td>\n",
                            "      <td>False</td>\n",
                            "      <td>False</td>\n",
                            "      <td>False</td>\n",
                            "      <td>False</td>\n",
                            "      <td>False</td>\n",
                            "      <td>False</td>\n",
                            "      <td>False</td>\n",
                            "      <td>False</td>\n",
                            "      <td>False</td>\n",
                            "    </tr>\n",
                            "    <tr>\n",
                            "      <th>A4GALT</th>\n",
                            "      <td>False</td>\n",
                            "      <td>False</td>\n",
                            "      <td>False</td>\n",
                            "      <td>False</td>\n",
                            "      <td>False</td>\n",
                            "      <td>False</td>\n",
                            "      <td>False</td>\n",
                            "      <td>False</td>\n",
                            "      <td>False</td>\n",
                            "      <td>False</td>\n",
                            "      <td>False</td>\n",
                            "      <td>False</td>\n",
                            "      <td>False</td>\n",
                            "      <td>False</td>\n",
                            "      <td>False</td>\n",
                            "      <td>False</td>\n",
                            "      <td>False</td>\n",
                            "      <td>False</td>\n",
                            "      <td>False</td>\n",
                            "      <td>False</td>\n",
                            "      <td>False</td>\n",
                            "      <td>False</td>\n",
                            "      <td>False</td>\n",
                            "      <td>False</td>\n",
                            "      <td>False</td>\n",
                            "      <td>False</td>\n",
                            "      <td>False</td>\n",
                            "      <td>False</td>\n",
                            "      <td>False</td>\n",
                            "      <td>False</td>\n",
                            "      <td>False</td>\n",
                            "      <td>False</td>\n",
                            "      <td>False</td>\n",
                            "      <td>False</td>\n",
                            "      <td>False</td>\n",
                            "      <td>False</td>\n",
                            "      <td>False</td>\n",
                            "      <td>False</td>\n",
                            "      <td>False</td>\n",
                            "      <td>False</td>\n",
                            "      <td>...</td>\n",
                            "      <td>False</td>\n",
                            "      <td>False</td>\n",
                            "      <td>False</td>\n",
                            "      <td>False</td>\n",
                            "      <td>False</td>\n",
                            "      <td>False</td>\n",
                            "      <td>False</td>\n",
                            "      <td>False</td>\n",
                            "      <td>False</td>\n",
                            "      <td>False</td>\n",
                            "      <td>False</td>\n",
                            "      <td>False</td>\n",
                            "      <td>False</td>\n",
                            "      <td>False</td>\n",
                            "      <td>False</td>\n",
                            "      <td>False</td>\n",
                            "      <td>False</td>\n",
                            "      <td>False</td>\n",
                            "      <td>False</td>\n",
                            "      <td>False</td>\n",
                            "      <td>False</td>\n",
                            "      <td>False</td>\n",
                            "      <td>False</td>\n",
                            "      <td>False</td>\n",
                            "      <td>False</td>\n",
                            "      <td>False</td>\n",
                            "      <td>False</td>\n",
                            "      <td>False</td>\n",
                            "      <td>False</td>\n",
                            "      <td>False</td>\n",
                            "      <td>False</td>\n",
                            "      <td>False</td>\n",
                            "      <td>False</td>\n",
                            "      <td>False</td>\n",
                            "      <td>False</td>\n",
                            "      <td>False</td>\n",
                            "      <td>False</td>\n",
                            "      <td>False</td>\n",
                            "      <td>False</td>\n",
                            "      <td>False</td>\n",
                            "    </tr>\n",
                            "    <tr>\n",
                            "      <th>AACS</th>\n",
                            "      <td>False</td>\n",
                            "      <td>False</td>\n",
                            "      <td>False</td>\n",
                            "      <td>False</td>\n",
                            "      <td>False</td>\n",
                            "      <td>False</td>\n",
                            "      <td>False</td>\n",
                            "      <td>False</td>\n",
                            "      <td>False</td>\n",
                            "      <td>False</td>\n",
                            "      <td>False</td>\n",
                            "      <td>False</td>\n",
                            "      <td>False</td>\n",
                            "      <td>False</td>\n",
                            "      <td>False</td>\n",
                            "      <td>False</td>\n",
                            "      <td>False</td>\n",
                            "      <td>False</td>\n",
                            "      <td>False</td>\n",
                            "      <td>False</td>\n",
                            "      <td>False</td>\n",
                            "      <td>False</td>\n",
                            "      <td>False</td>\n",
                            "      <td>False</td>\n",
                            "      <td>False</td>\n",
                            "      <td>False</td>\n",
                            "      <td>False</td>\n",
                            "      <td>False</td>\n",
                            "      <td>False</td>\n",
                            "      <td>False</td>\n",
                            "      <td>False</td>\n",
                            "      <td>False</td>\n",
                            "      <td>False</td>\n",
                            "      <td>False</td>\n",
                            "      <td>False</td>\n",
                            "      <td>False</td>\n",
                            "      <td>False</td>\n",
                            "      <td>False</td>\n",
                            "      <td>False</td>\n",
                            "      <td>False</td>\n",
                            "      <td>...</td>\n",
                            "      <td>False</td>\n",
                            "      <td>False</td>\n",
                            "      <td>False</td>\n",
                            "      <td>False</td>\n",
                            "      <td>False</td>\n",
                            "      <td>False</td>\n",
                            "      <td>False</td>\n",
                            "      <td>False</td>\n",
                            "      <td>False</td>\n",
                            "      <td>False</td>\n",
                            "      <td>False</td>\n",
                            "      <td>False</td>\n",
                            "      <td>False</td>\n",
                            "      <td>False</td>\n",
                            "      <td>False</td>\n",
                            "      <td>False</td>\n",
                            "      <td>False</td>\n",
                            "      <td>False</td>\n",
                            "      <td>False</td>\n",
                            "      <td>False</td>\n",
                            "      <td>False</td>\n",
                            "      <td>False</td>\n",
                            "      <td>False</td>\n",
                            "      <td>False</td>\n",
                            "      <td>False</td>\n",
                            "      <td>False</td>\n",
                            "      <td>False</td>\n",
                            "      <td>False</td>\n",
                            "      <td>False</td>\n",
                            "      <td>False</td>\n",
                            "      <td>False</td>\n",
                            "      <td>False</td>\n",
                            "      <td>False</td>\n",
                            "      <td>False</td>\n",
                            "      <td>False</td>\n",
                            "      <td>False</td>\n",
                            "      <td>False</td>\n",
                            "      <td>False</td>\n",
                            "      <td>False</td>\n",
                            "      <td>False</td>\n",
                            "    </tr>\n",
                            "    <tr>\n",
                            "      <th>AADAC</th>\n",
                            "      <td>False</td>\n",
                            "      <td>False</td>\n",
                            "      <td>False</td>\n",
                            "      <td>False</td>\n",
                            "      <td>False</td>\n",
                            "      <td>False</td>\n",
                            "      <td>False</td>\n",
                            "      <td>False</td>\n",
                            "      <td>False</td>\n",
                            "      <td>False</td>\n",
                            "      <td>False</td>\n",
                            "      <td>False</td>\n",
                            "      <td>False</td>\n",
                            "      <td>False</td>\n",
                            "      <td>False</td>\n",
                            "      <td>False</td>\n",
                            "      <td>False</td>\n",
                            "      <td>False</td>\n",
                            "      <td>False</td>\n",
                            "      <td>False</td>\n",
                            "      <td>False</td>\n",
                            "      <td>False</td>\n",
                            "      <td>False</td>\n",
                            "      <td>False</td>\n",
                            "      <td>False</td>\n",
                            "      <td>False</td>\n",
                            "      <td>False</td>\n",
                            "      <td>False</td>\n",
                            "      <td>False</td>\n",
                            "      <td>False</td>\n",
                            "      <td>False</td>\n",
                            "      <td>False</td>\n",
                            "      <td>False</td>\n",
                            "      <td>False</td>\n",
                            "      <td>False</td>\n",
                            "      <td>False</td>\n",
                            "      <td>False</td>\n",
                            "      <td>False</td>\n",
                            "      <td>False</td>\n",
                            "      <td>False</td>\n",
                            "      <td>...</td>\n",
                            "      <td>False</td>\n",
                            "      <td>False</td>\n",
                            "      <td>False</td>\n",
                            "      <td>False</td>\n",
                            "      <td>False</td>\n",
                            "      <td>False</td>\n",
                            "      <td>False</td>\n",
                            "      <td>False</td>\n",
                            "      <td>False</td>\n",
                            "      <td>False</td>\n",
                            "      <td>False</td>\n",
                            "      <td>False</td>\n",
                            "      <td>False</td>\n",
                            "      <td>False</td>\n",
                            "      <td>False</td>\n",
                            "      <td>False</td>\n",
                            "      <td>False</td>\n",
                            "      <td>False</td>\n",
                            "      <td>False</td>\n",
                            "      <td>False</td>\n",
                            "      <td>False</td>\n",
                            "      <td>False</td>\n",
                            "      <td>False</td>\n",
                            "      <td>False</td>\n",
                            "      <td>False</td>\n",
                            "      <td>False</td>\n",
                            "      <td>False</td>\n",
                            "      <td>False</td>\n",
                            "      <td>False</td>\n",
                            "      <td>False</td>\n",
                            "      <td>False</td>\n",
                            "      <td>False</td>\n",
                            "      <td>False</td>\n",
                            "      <td>False</td>\n",
                            "      <td>False</td>\n",
                            "      <td>False</td>\n",
                            "      <td>False</td>\n",
                            "      <td>False</td>\n",
                            "      <td>False</td>\n",
                            "      <td>False</td>\n",
                            "    </tr>\n",
                            "  </tbody>\n",
                            "</table>\n",
                            "<p>5 rows \u00d7 24504 columns</p>\n",
                            "</div>"
                        ],
                        "text/plain": [
                            "        (+)-(1R,2R)-1,2-Diphenylethane-1,2-diol  ...  {[6-({5-[(6-{[(2-carboxyacetyl)oxy]methyl}-3,4,5-trihydroxyoxan-2-yl)oxy]-7-hydroxy-2-(4-oxocyclohexa-2,5-dien-1-ylidene)-2H-chromen-3-yl}oxy)-3,4,5-trihydroxyoxan-2-yl]methyl}[1-hydroxy-3-(4-hydroxyphenyl)prop-2-en-1-ylidene]oxidanium\n",
                            "A1CF                                      False  ...                                              False                                                                                                                                                                                          \n",
                            "A2M                                       False  ...                                              False                                                                                                                                                                                          \n",
                            "A4GALT                                    False  ...                                              False                                                                                                                                                                                          \n",
                            "AACS                                      False  ...                                              False                                                                                                                                                                                          \n",
                            "AADAC                                     False  ...                                              False                                                                                                                                                                                          \n",
                            "\n",
                            "[5 rows x 24504 columns]"
                        ]
                    },
                    "execution_count": 47,
                    "metadata": {
                        "tags": []
                    },
                    "output_type": "execute_result"
                }
            ],
            "source": [
                "binary_matrix = uf.createBinaryMatrix(df)\n",
                "binary_matrix.head()"
            ]
        },
        {
            "cell_type": "code",
            "execution_count": 48,
            "metadata": {
                "colab": {
                    "base_uri": "https://localhost:8080/",
                    "height": 34
                },
                "colab_type": "code",
                "id": "gxU4C0nYOf6X",
                "outputId": "ccb64ed1-8448-4cfa-fa35-133efe08c082"
            },
            "outputs": [
                {
                    "data": {
                        "text/plain": [
                            "(5213, 24504)"
                        ]
                    },
                    "execution_count": 48,
                    "metadata": {
                        "tags": []
                    },
                    "output_type": "execute_result"
                }
            ],
            "source": [
                "binary_matrix.shape"
            ]
        },
        {
            "cell_type": "code",
            "execution_count": 49,
            "metadata": {
                "colab": {},
                "colab_type": "code",
                "id": "zDR-k1_9Of6Z"
            },
            "outputs": [],
            "source": [
                "uf.saveData(binary_matrix, path, output_name + '_binary_matrix', \n",
                "            compression='npz', dtype=np.uint8)"
            ]
        },
        {
            "cell_type": "markdown",
            "metadata": {
                "colab_type": "text",
                "id": "yG3BOf8NOf6c"
            },
            "source": [
                " ## Create Gene List"
            ]
        },
        {
            "cell_type": "code",
            "execution_count": 50,
            "metadata": {
                "colab": {
                    "base_uri": "https://localhost:8080/",
                    "height": 221
                },
                "colab_type": "code",
                "id": "W3knoiDsOf6c",
                "outputId": "6560577c-f240-4b66-ece7-efc0f268fe9d"
            },
            "outputs": [
                {
                    "name": "stderr",
                    "output_type": "stream",
                    "text": [
                        "100%|\u2588\u2588\u2588\u2588\u2588\u2588\u2588\u2588\u2588\u2588| 5213/5213 [00:00<00:00, 269398.32it/s]\n"
                    ]
                },
                {
                    "data": {
                        "text/html": [
                            "<div>\n",
                            "<style scoped>\n",
                            "    .dataframe tbody tr th:only-of-type {\n",
                            "        vertical-align: middle;\n",
                            "    }\n",
                            "\n",
                            "    .dataframe tbody tr th {\n",
                            "        vertical-align: top;\n",
                            "    }\n",
                            "\n",
                            "    .dataframe thead th {\n",
                            "        text-align: right;\n",
                            "    }\n",
                            "</style>\n",
                            "<table border=\"1\" class=\"dataframe\">\n",
                            "  <thead>\n",
                            "    <tr style=\"text-align: right;\">\n",
                            "      <th></th>\n",
                            "      <th>GeneSym</th>\n",
                            "      <th>GeneID</th>\n",
                            "    </tr>\n",
                            "  </thead>\n",
                            "  <tbody>\n",
                            "    <tr>\n",
                            "      <th>0</th>\n",
                            "      <td>A1CF</td>\n",
                            "      <td>29974</td>\n",
                            "    </tr>\n",
                            "    <tr>\n",
                            "      <th>1</th>\n",
                            "      <td>A2M</td>\n",
                            "      <td>2</td>\n",
                            "    </tr>\n",
                            "    <tr>\n",
                            "      <th>2</th>\n",
                            "      <td>A4GALT</td>\n",
                            "      <td>53947</td>\n",
                            "    </tr>\n",
                            "    <tr>\n",
                            "      <th>3</th>\n",
                            "      <td>AACS</td>\n",
                            "      <td>65985</td>\n",
                            "    </tr>\n",
                            "    <tr>\n",
                            "      <th>4</th>\n",
                            "      <td>AADAC</td>\n",
                            "      <td>13</td>\n",
                            "    </tr>\n",
                            "  </tbody>\n",
                            "</table>\n",
                            "</div>"
                        ],
                        "text/plain": [
                            "  GeneSym  GeneID\n",
                            "0    A1CF   29974\n",
                            "1     A2M       2\n",
                            "2  A4GALT   53947\n",
                            "3    AACS   65985\n",
                            "4   AADAC      13"
                        ]
                    },
                    "execution_count": 50,
                    "metadata": {
                        "tags": []
                    },
                    "output_type": "execute_result"
                }
            ],
            "source": [
                "gene_list = uf.createGeneList(binary_matrix, geneid_lookup)\n",
                "gene_list.head()"
            ]
        },
        {
            "cell_type": "code",
            "execution_count": 51,
            "metadata": {
                "colab": {
                    "base_uri": "https://localhost:8080/",
                    "height": 34
                },
                "colab_type": "code",
                "id": "RC7AnW0NOf6e",
                "outputId": "3ff13468-2b17-43f7-9f3c-209b4308ed30"
            },
            "outputs": [
                {
                    "data": {
                        "text/plain": [
                            "(5213, 2)"
                        ]
                    },
                    "execution_count": 51,
                    "metadata": {
                        "tags": []
                    },
                    "output_type": "execute_result"
                }
            ],
            "source": [
                "gene_list.shape"
            ]
        },
        {
            "cell_type": "code",
            "execution_count": 52,
            "metadata": {
                "colab": {},
                "colab_type": "code",
                "id": "T4gRAuGnOf6f"
            },
            "outputs": [],
            "source": [
                "uf.saveData(gene_list, path, output_name + '_gene_list',\n",
                "            ext='tsv', compression='gzip', index=False)"
            ]
        },
        {
            "cell_type": "markdown",
            "metadata": {
                "colab_type": "text",
                "id": "rWFQ6yFFOf6i"
            },
            "source": [
                " ## Create Attribute List"
            ]
        },
        {
            "cell_type": "code",
            "execution_count": 53,
            "metadata": {
                "colab": {
                    "base_uri": "https://localhost:8080/",
                    "height": 218
                },
                "colab_type": "code",
                "id": "ymxUEyZJOf6i",
                "outputId": "47d4c12e-2038-4611-9aba-7dc6363786c2"
            },
            "outputs": [
                {
                    "data": {
                        "text/html": [
                            "<div>\n",
                            "<style scoped>\n",
                            "    .dataframe tbody tr th:only-of-type {\n",
                            "        vertical-align: middle;\n",
                            "    }\n",
                            "\n",
                            "    .dataframe tbody tr th {\n",
                            "        vertical-align: top;\n",
                            "    }\n",
                            "\n",
                            "    .dataframe thead th {\n",
                            "        text-align: right;\n",
                            "    }\n",
                            "</style>\n",
                            "<table border=\"1\" class=\"dataframe\">\n",
                            "  <thead>\n",
                            "    <tr style=\"text-align: right;\">\n",
                            "      <th></th>\n",
                            "    </tr>\n",
                            "    <tr>\n",
                            "      <th>Attributes</th>\n",
                            "    </tr>\n",
                            "  </thead>\n",
                            "  <tbody>\n",
                            "    <tr>\n",
                            "      <th>(+)-(1R,2R)-1,2-Diphenylethane-1,2-diol</th>\n",
                            "    </tr>\n",
                            "    <tr>\n",
                            "      <th>(+)-12a-Hydroxypachyrrhizone</th>\n",
                            "    </tr>\n",
                            "    <tr>\n",
                            "      <th>(+)-7-Isojasmonic acid CoA</th>\n",
                            "    </tr>\n",
                            "    <tr>\n",
                            "      <th>(+)-Catechin 6-C-glucoside</th>\n",
                            "    </tr>\n",
                            "    <tr>\n",
                            "      <th>(+)-Catechin 8-C-glucoside</th>\n",
                            "    </tr>\n",
                            "  </tbody>\n",
                            "</table>\n",
                            "</div>"
                        ],
                        "text/plain": [
                            "Empty DataFrame\n",
                            "Columns: []\n",
                            "Index: [(+)-(1R,2R)-1,2-Diphenylethane-1,2-diol, (+)-12a-Hydroxypachyrrhizone, (+)-7-Isojasmonic acid CoA, (+)-Catechin 6-C-glucoside, (+)-Catechin 8-C-glucoside]"
                        ]
                    },
                    "execution_count": 53,
                    "metadata": {
                        "tags": []
                    },
                    "output_type": "execute_result"
                }
            ],
            "source": [
                "attribute_list = uf.createAttributeList(binary_matrix)\n",
                "attribute_list.head()"
            ]
        },
        {
            "cell_type": "code",
            "execution_count": 54,
            "metadata": {
                "colab": {
                    "base_uri": "https://localhost:8080/",
                    "height": 34
                },
                "colab_type": "code",
                "id": "5hVHpQRaOf6k",
                "outputId": "88df2245-a0e5-4994-8fcb-978b38a085ec"
            },
            "outputs": [
                {
                    "data": {
                        "text/plain": [
                            "(24504, 0)"
                        ]
                    },
                    "execution_count": 54,
                    "metadata": {
                        "tags": []
                    },
                    "output_type": "execute_result"
                }
            ],
            "source": [
                "attribute_list.shape"
            ]
        },
        {
            "cell_type": "code",
            "execution_count": 55,
            "metadata": {
                "colab": {},
                "colab_type": "code",
                "id": "rJ9Xk_8vOf6m"
            },
            "outputs": [],
            "source": [
                "uf.saveData(attribute_list, path, output_name + '_attribute_list',\n",
                "            ext='tsv', compression='gzip')"
            ]
        },
        {
            "cell_type": "markdown",
            "metadata": {
                "colab_type": "text",
                "id": "wm99bhvzOf6o"
            },
            "source": [
                " ## Create Gene and Attribute Set Libraries"
            ]
        },
        {
            "cell_type": "code",
            "execution_count": 56,
            "metadata": {
                "colab": {
                    "base_uri": "https://localhost:8080/",
                    "height": 34
                },
                "colab_type": "code",
                "id": "54PmyEpPOf6o",
                "outputId": "be08f11b-db9b-4ebf-9185-6a1523122412"
            },
            "outputs": [
                {
                    "name": "stderr",
                    "output_type": "stream",
                    "text": [
                        "100%|\u2588\u2588\u2588\u2588\u2588\u2588\u2588\u2588\u2588\u2588| 19797/19797 [00:01<00:00, 16920.70it/s]\n"
                    ]
                }
            ],
            "source": [
                "uf.createUpGeneSetLib(binary_matrix, path, output_name + '_gene_up_set')"
            ]
        },
        {
            "cell_type": "code",
            "execution_count": 57,
            "metadata": {
                "colab": {
                    "base_uri": "https://localhost:8080/",
                    "height": 34
                },
                "colab_type": "code",
                "id": "kQLELpOTOf6q",
                "outputId": "dd318f74-12c4-47c4-a117-2b50ffa224a2"
            },
            "outputs": [
                {
                    "name": "stderr",
                    "output_type": "stream",
                    "text": [
                        "100%|\u2588\u2588\u2588\u2588\u2588\u2588\u2588\u2588\u2588\u2588| 5213/5213 [00:00<00:00, 5402.17it/s]\n"
                    ]
                }
            ],
            "source": [
                "uf.createUpAttributeSetLib(binary_matrix, path, \n",
                "                           output_name + '_attribute_up_set')"
            ]
        },
        {
            "cell_type": "markdown",
            "metadata": {
                "colab_type": "text",
                "id": "z-FJozw-Of6s"
            },
            "source": [
                " ## Create Attribute Similarity Matrix"
            ]
        },
        {
            "cell_type": "code",
            "execution_count": 58,
            "metadata": {
                "colab": {
                    "base_uri": "https://localhost:8080/",
                    "height": 491
                },
                "colab_type": "code",
                "id": "HMfdGg3aOf6s",
                "outputId": "29db3c37-42ac-40eb-9c5f-512faa44671c"
            },
            "outputs": [
                {
                    "data": {
                        "text/html": [
                            "<div>\n",
                            "<style scoped>\n",
                            "    .dataframe tbody tr th:only-of-type {\n",
                            "        vertical-align: middle;\n",
                            "    }\n",
                            "\n",
                            "    .dataframe tbody tr th {\n",
                            "        vertical-align: top;\n",
                            "    }\n",
                            "\n",
                            "    .dataframe thead th {\n",
                            "        text-align: right;\n",
                            "    }\n",
                            "</style>\n",
                            "<table border=\"1\" class=\"dataframe\">\n",
                            "  <thead>\n",
                            "    <tr style=\"text-align: right;\">\n",
                            "      <th></th>\n",
                            "      <th>(+)-(1R,2R)-1,2-Diphenylethane-1,2-diol</th>\n",
                            "      <th>(+)-12a-Hydroxypachyrrhizone</th>\n",
                            "      <th>(+)-7-Isojasmonic acid CoA</th>\n",
                            "      <th>(+)-Catechin 6-C-glucoside</th>\n",
                            "      <th>(+)-Catechin 8-C-glucoside</th>\n",
                            "      <th>(+)-Galeon</th>\n",
                            "      <th>(+)-Limonene</th>\n",
                            "      <th>(+)-trans-Carveol</th>\n",
                            "      <th>(-)-trans-Carveol</th>\n",
                            "      <th>(13E)-11a-Hydroxy-9,15-dioxoprost-13-enoic acid</th>\n",
                            "      <th>(1E)-1-(2-hydroxy-4-methoxyphenyl)pent-1-en-3-one</th>\n",
                            "      <th>(1E)-1-(4-hydroxyphenyl)pent-1-en-3-one</th>\n",
                            "      <th>(1E)-1-(4-methoxyphenyl)pent-1-en-3-ol</th>\n",
                            "      <th>(1E)-4-hydroxy-1-(4-methoxyphenyl)pent-1-en-3-one</th>\n",
                            "      <th>(1E)-5-hydroxy-1-(4-methoxyphenyl)pent-1-en-3-one</th>\n",
                            "      <th>(1E)-5-phenyl-1-(3-phenyloxiran-2-yl)pent-1-en-3-one</th>\n",
                            "      <th>(1R)-Glutathionyl-(2R)-hydroxy-1,2-dihydronaphthalene</th>\n",
                            "      <th>(1R)-Hydroxy-(2R)-glutathionyl-1,2-dihydronaphthalene</th>\n",
                            "      <th>(1R,12S,16Z,24E,26E,28Z,32S)-1,18-dihydroxy-12-[1-(4-hydroxy-3-methoxycyclohexyl)propan-2-yl]-19,30-dimethoxy-15,17,21,23,29,35-hexamethyl-11,36-dioxa-4-azatricyclo[30.3.1.0\u2074,\u2079]hexatriaconta-16,24,26,28-tetraene-2,3,10,14,20-pentone</th>\n",
                            "      <th>(1R,16Z,24E,26E,28Z)-1,13,18-trihydroxy-12-[1-(4-hydroxy-3-methoxycyclohexyl)propan-2-yl]-19,30-dimethoxy-15,17,21,23,29,35-hexamethyl-11,36-dioxa-4-azatricyclo[30.3.1.0\u2074,\u2079]hexatriaconta-16,24,26,28-tetraene-2,3,10,14,20-pentone</th>\n",
                            "      <th>(1R,16Z,24E,26E,28Z)-1,15,18-trihydroxy-12-[1-(4-hydroxy-3-methoxycyclohexyl)propan-2-yl]-19,30-dimethoxy-15,17,21,23,29,35-hexamethyl-11,36-dioxa-4-azatricyclo[30.3.1.0\u2074,\u2079]hexatriaconta-16,24,26,28-tetraene-2,3,10,14,20-pentone</th>\n",
                            "      <th>(1R,16Z,24E,26E,28Z)-1,18,19-trihydroxy-12-[1-(4-hydroxy-3-methoxycyclohexyl)propan-2-yl]-30-methoxy-15,17,21,23,29,35-hexamethyl-11,36-dioxa-4-azatricyclo[30.3.1.0\u2074,\u2079]hexatriaconta-16,24,26,28-tetraene-2,3,10,14,20-pentone</th>\n",
                            "      <th>(1R,16Z,24E,26E,28Z)-1,18,21-trihydroxy-12-[1-(4-hydroxy-3-methoxycyclohexyl)propan-2-yl]-19,30-dimethoxy-15,17,21,23,29,35-hexamethyl-11,36-dioxa-4-azatricyclo[30.3.1.0\u2074,\u2079]hexatriaconta-16,24,26,28-tetraene-2,3,10,14,20-pentone</th>\n",
                            "      <th>(1R,16Z,24E,26E,28Z)-1,18,23-trihydroxy-12-[1-(4-hydroxy-3-methoxycyclohexyl)propan-2-yl]-19,30-dimethoxy-15,17,21,23,29,35-hexamethyl-11,36-dioxa-4-azatricyclo[30.3.1.0\u2074,\u2079]hexatriaconta-16,24,26,28-tetraene-2,3,10,14,20-pentone</th>\n",
                            "      <th>(1R,16Z,24E,26E,28Z)-1,18,30-trihydroxy-12-[1-(4-hydroxy-3-methoxycyclohexyl)propan-2-yl]-19-methoxy-15,17,21,23,29,35-hexamethyl-11,36-dioxa-4-azatricyclo[30.3.1.0\u2074,\u2079]hexatriaconta-16,24,26,28-tetraene-2,3,10,14,20-pentone</th>\n",
                            "      <th>(1R,16Z,24E,26E,28Z)-1,18,35-trihydroxy-12-[1-(4-hydroxy-3-methoxycyclohexyl)propan-2-yl]-19,30-dimethoxy-15,17,21,23,29,35-hexamethyl-11,36-dioxa-4-azatricyclo[30.3.1.0\u2074,\u2079]hexatriaconta-16,24,26,28-tetraene-2,3,10,14,20-pentone</th>\n",
                            "      <th>(1R,16Z,24E,26E,28Z)-1,18-dihydroxy-12-[1-(4-hydroxy-3-methoxycyclohexyl)propan-2-yl]-15-(hydroxymethyl)-19,30-dimethoxy-17,21,23,29,35-pentamethyl-11,36-dioxa-4-azatricyclo[30.3.1.0\u2074,\u2079]hexatriaconta-16,24,26,28-tetraene-2,3,10,14,20-pentone</th>\n",
                            "      <th>(1R,16Z,24E,26E,28Z)-1,18-dihydroxy-12-[1-(4-hydroxy-3-methoxycyclohexyl)propan-2-yl]-17-(hydroxymethyl)-19,30-dimethoxy-15,21,23,29,35-pentamethyl-11,36-dioxa-4-azatricyclo[30.3.1.0\u2074,\u2079]hexatriaconta-16,24,26,28-tetraene-2,3,10,14,20-pentone</th>\n",
                            "      <th>(1R,16Z,24E,26E,28Z)-1,18-dihydroxy-12-[1-(4-hydroxy-3-methoxycyclohexyl)propan-2-yl]-19,30-dimethoxy-15,17,21,23,29,35-hexamethyl-11,36-dioxa-4\u03bb\u2075-azatricyclo[30.3.1.0\u2074,\u2079]hexatriaconta-16,24,26,28-tetraene-2,3,4,10,14,20-hexone</th>\n",
                            "      <th>(1R,16Z,24E,26E,28Z)-1,18-dihydroxy-12-[1-(4-hydroxy-3-methoxycyclohexyl)propan-2-yl]-19,30-dimethoxy-15,17,21,23,29-pentamethyl-35-methylidene-11,36-dioxa-4-azatricyclo[30.3.1.0\u2074,\u2079]hexatriaconta-16,24,26,28-tetraene-2,3,10,14,20-pentone</th>\n",
                            "      <th>(1R,16Z,24E,26E,28Z)-1,18-dihydroxy-12-[1-(4-hydroxy-3-methoxycyclohexyl)propan-2-yl]-19,30-dimethoxy-15,17,21,29,35-pentamethyl-23-methylidene-11,36-dioxa-4-azatricyclo[30.3.1.0\u2074,\u2079]hexatriaconta-16,24,26,28-tetraene-2,3,10,14,20-pentone</th>\n",
                            "      <th>(1R,16Z,24E,26E,28Z)-1,18-dihydroxy-12-[1-(4-hydroxy-3-methoxycyclohexyl)propan-2-yl]-19,30-dimethoxy-15,17,23,29,35-pentamethyl-21-methylidene-11,36-dioxa-4-azatricyclo[30.3.1.0\u2074,\u2079]hexatriaconta-16,24,26,28-tetraene-2,3,10,14,20-pentone</th>\n",
                            "      <th>(1R,16Z,24E,26E,28Z)-1,18-dihydroxy-12-[1-(4-hydroxy-3-methoxycyclohexyl)propan-2-yl]-19,30-dimethoxy-17,21,23,29,35-pentamethyl-15-methylidene-11,36-dioxa-4-azatricyclo[30.3.1.0\u2074,\u2079]hexatriaconta-16,24,26,28-tetraene-2,3,10,14,20-pentone</th>\n",
                            "      <th>(1R,16Z,24E,26E,28Z)-1,18-dihydroxy-12-[1-(4-hydroxy-3-methoxycyclohexyl)propan-2-yl]-21-(hydroxymethyl)-19,30-dimethoxy-15,17,23,29,35-pentamethyl-11,36-dioxa-4-azatricyclo[30.3.1.0\u2074,\u2079]hexatriaconta-16,24,26,28-tetraene-2,3,10,14,20-pentone</th>\n",
                            "      <th>(1R,16Z,24E,26E,28Z)-1,18-dihydroxy-12-[1-(4-hydroxy-3-methoxycyclohexyl)propan-2-yl]-23-(hydroxymethyl)-19,30-dimethoxy-15,17,21,29,35-pentamethyl-11,36-dioxa-4-azatricyclo[30.3.1.0\u2074,\u2079]hexatriaconta-16,24,26,28-tetraene-2,3,10,14,20-pentone</th>\n",
                            "      <th>(1R,16Z,24E,26E,28Z)-1,18-dihydroxy-12-[1-(4-hydroxy-3-methoxycyclohexyl)propan-2-yl]-29-(hydroxymethyl)-19,30-dimethoxy-15,17,21,23,35-pentamethyl-11,36-dioxa-4-azatricyclo[30.3.1.0\u2074,\u2079]hexatriaconta-16,24,26,28-tetraene-2,3,10,14,20-pentone</th>\n",
                            "      <th>(1R,16Z,24E,26E,28Z)-1,18-dihydroxy-12-[1-(4-hydroxy-3-methoxycyclohexyl)propan-2-yl]-35-(hydroxymethyl)-19,30-dimethoxy-15,17,21,23,29-pentamethyl-11,36-dioxa-4-azatricyclo[30.3.1.0\u2074,\u2079]hexatriaconta-16,24,26,28-tetraene-2,3,10,14,20-pentone</th>\n",
                            "      <th>(1R,16Z,24E,26E,28Z)-1,18-dihydroxy-12-[1-hydroxy-3-(4-hydroxy-3-methoxycyclohexyl)propan-2-yl]-19,30-dimethoxy-15,17,21,23,29,35-hexamethyl-11,36-dioxa-4-azatricyclo[30.3.1.0\u2074,\u2079]hexatriaconta-16,24,26,28-tetraene-2,3,10,14,20-pentone</th>\n",
                            "      <th>(1R,16Z,24E,26E,28Z)-1,18-dihydroxy-12-[2-hydroxy-1-(4-hydroxy-3-methoxycyclohexyl)propan-2-yl]-19,30-dimethoxy-15,17,21,23,29,35-hexamethyl-11,36-dioxa-4-azatricyclo[30.3.1.0\u2074,\u2079]hexatriaconta-16,24,26,28-tetraene-2,3,10,14,20-pentone</th>\n",
                            "      <th>(1R,16Z,24E,26E,28Z)-1,18-dihydroxy-12-[3-(4-hydroxy-3-methoxycyclohexyl)prop-1-en-2-yl]-19,30-dimethoxy-15,17,21,23,29,35-hexamethyl-11,36-dioxa-4-azatricyclo[30.3.1.0\u2074,\u2079]hexatriaconta-16,24,26,28-tetraene-2,3,10,14,20-pentone</th>\n",
                            "      <th>...</th>\n",
                            "      <th>myo-Inositol</th>\n",
                            "      <th>naringenin-7-O-glucuronide</th>\n",
                            "      <th>nicotinate beta-D-ribonucleotide</th>\n",
                            "      <th>o-Tolyl salicylate</th>\n",
                            "      <th>p-Anisic acid</th>\n",
                            "      <th>p-Cresol glucuronide</th>\n",
                            "      <th>p-Hydroxyphenylacetic acid</th>\n",
                            "      <th>p-Octopamine</th>\n",
                            "      <th>p-Synephrine</th>\n",
                            "      <th>phenyl 2,3-dihydroxybenzoate</th>\n",
                            "      <th>phenyl 2,5-dihydroxybenzoate</th>\n",
                            "      <th>sn-glycero-3-Phosphoethanolamine</th>\n",
                            "      <th>trans,cis-Lauro-2,6-dienoyl-CoA</th>\n",
                            "      <th>trans-1,2-Dihydrobenzene-1,2-diol</th>\n",
                            "      <th>trans-2-Enoyl-OPC4-CoA</th>\n",
                            "      <th>trans-2-Enoyl-OPC6-CoA</th>\n",
                            "      <th>trans-2-Enoyl-OPC8-CoA</th>\n",
                            "      <th>trans-2-Hexenoyl-CoA</th>\n",
                            "      <th>trans-2-Methyl-5-isopropylhexa-2,5-dienoyl-CoA</th>\n",
                            "      <th>trans-3,3',4',5,5',7-Hexahydroxyflavanone</th>\n",
                            "      <th>trans-3,4-Dihydro-3,4-dihydroxy-7,12-dimethylbenz[a]anthracene</th>\n",
                            "      <th>trans-3-Chloro-2-propene-1-ol</th>\n",
                            "      <th>trans-3-Chloroacrylic acid</th>\n",
                            "      <th>trans-3-Chloroallyl aldehyde</th>\n",
                            "      <th>trans-3-Decenoyl-CoA</th>\n",
                            "      <th>trans-3-Hexenoyl-CoA</th>\n",
                            "      <th>trans-3-Hydroxycotinine glucuronide</th>\n",
                            "      <th>trans-4-Carboxymethylenebut-2-en-4-olide</th>\n",
                            "      <th>trans-5,6-Dihydro-5,6-dihydroxy-7,12-dimethylbenz[a]anthracene</th>\n",
                            "      <th>trans-Cinnamic acid</th>\n",
                            "      <th>trans-Cinnamyl alcohol</th>\n",
                            "      <th>trans-Dec-2-enoic acid</th>\n",
                            "      <th>trans-Dodec-2-enoic acid</th>\n",
                            "      <th>trans-Ferulic acid</th>\n",
                            "      <th>trans-Octadec-2-enoyl-CoA</th>\n",
                            "      <th>trans-Tetra-dec-2-enoic acid</th>\n",
                            "      <th>xi-Norepinephrine</th>\n",
                            "      <th>{2-[4-(3-ethyl-2,3-diphenyloxiran-2-yl)phenoxy]ethyl}(methyl)amine</th>\n",
                            "      <th>{2-[4-(4-chloro-1,2-diphenylbut-1-en-1-yl)phenoxy]ethyl}(methyl)amine</th>\n",
                            "      <th>{[6-({5-[(6-{[(2-carboxyacetyl)oxy]methyl}-3,4,5-trihydroxyoxan-2-yl)oxy]-7-hydroxy-2-(4-oxocyclohexa-2,5-dien-1-ylidene)-2H-chromen-3-yl}oxy)-3,4,5-trihydroxyoxan-2-yl]methyl}[1-hydroxy-3-(4-hydroxyphenyl)prop-2-en-1-ylidene]oxidanium</th>\n",
                            "    </tr>\n",
                            "  </thead>\n",
                            "  <tbody>\n",
                            "    <tr>\n",
                            "      <th>(+)-(1R,2R)-1,2-Diphenylethane-1,2-diol</th>\n",
                            "      <td>1.0</td>\n",
                            "      <td>0.00</td>\n",
                            "      <td>0.0</td>\n",
                            "      <td>0.00</td>\n",
                            "      <td>0.00</td>\n",
                            "      <td>0.00</td>\n",
                            "      <td>0.0</td>\n",
                            "      <td>0.0</td>\n",
                            "      <td>0.0</td>\n",
                            "      <td>0.0</td>\n",
                            "      <td>0.00</td>\n",
                            "      <td>0.0</td>\n",
                            "      <td>0.0</td>\n",
                            "      <td>0.0</td>\n",
                            "      <td>0.0</td>\n",
                            "      <td>0.0</td>\n",
                            "      <td>0.0</td>\n",
                            "      <td>0.0</td>\n",
                            "      <td>0.00</td>\n",
                            "      <td>0.00</td>\n",
                            "      <td>0.00</td>\n",
                            "      <td>0.00</td>\n",
                            "      <td>0.00</td>\n",
                            "      <td>0.00</td>\n",
                            "      <td>0.00</td>\n",
                            "      <td>0.00</td>\n",
                            "      <td>0.00</td>\n",
                            "      <td>0.00</td>\n",
                            "      <td>0.00</td>\n",
                            "      <td>0.00</td>\n",
                            "      <td>0.00</td>\n",
                            "      <td>0.00</td>\n",
                            "      <td>0.00</td>\n",
                            "      <td>0.00</td>\n",
                            "      <td>0.00</td>\n",
                            "      <td>0.00</td>\n",
                            "      <td>0.00</td>\n",
                            "      <td>0.00</td>\n",
                            "      <td>0.00</td>\n",
                            "      <td>0.00</td>\n",
                            "      <td>...</td>\n",
                            "      <td>0.0</td>\n",
                            "      <td>0.0</td>\n",
                            "      <td>0.0</td>\n",
                            "      <td>0.0</td>\n",
                            "      <td>0.0</td>\n",
                            "      <td>0.000000</td>\n",
                            "      <td>0.000000</td>\n",
                            "      <td>0.0</td>\n",
                            "      <td>0.0</td>\n",
                            "      <td>0.000000</td>\n",
                            "      <td>0.00</td>\n",
                            "      <td>0.0</td>\n",
                            "      <td>0.0</td>\n",
                            "      <td>0.0</td>\n",
                            "      <td>0.0</td>\n",
                            "      <td>0.0</td>\n",
                            "      <td>0.0</td>\n",
                            "      <td>0.000000</td>\n",
                            "      <td>0.0</td>\n",
                            "      <td>0.000000</td>\n",
                            "      <td>1.0</td>\n",
                            "      <td>0.0</td>\n",
                            "      <td>0.0</td>\n",
                            "      <td>0.0</td>\n",
                            "      <td>0.0</td>\n",
                            "      <td>0.0</td>\n",
                            "      <td>0.000000</td>\n",
                            "      <td>0.0</td>\n",
                            "      <td>1.0</td>\n",
                            "      <td>0.00</td>\n",
                            "      <td>0.0</td>\n",
                            "      <td>0.0</td>\n",
                            "      <td>0.0</td>\n",
                            "      <td>0.0</td>\n",
                            "      <td>0.000000</td>\n",
                            "      <td>0.0</td>\n",
                            "      <td>0.0</td>\n",
                            "      <td>0.0</td>\n",
                            "      <td>0.0</td>\n",
                            "      <td>0.0</td>\n",
                            "    </tr>\n",
                            "    <tr>\n",
                            "      <th>(+)-12a-Hydroxypachyrrhizone</th>\n",
                            "      <td>0.0</td>\n",
                            "      <td>1.00</td>\n",
                            "      <td>0.0</td>\n",
                            "      <td>0.25</td>\n",
                            "      <td>0.25</td>\n",
                            "      <td>1.00</td>\n",
                            "      <td>0.0</td>\n",
                            "      <td>0.0</td>\n",
                            "      <td>0.0</td>\n",
                            "      <td>0.0</td>\n",
                            "      <td>1.00</td>\n",
                            "      <td>0.5</td>\n",
                            "      <td>0.5</td>\n",
                            "      <td>0.5</td>\n",
                            "      <td>0.5</td>\n",
                            "      <td>0.0</td>\n",
                            "      <td>0.0</td>\n",
                            "      <td>0.0</td>\n",
                            "      <td>0.00</td>\n",
                            "      <td>0.00</td>\n",
                            "      <td>0.00</td>\n",
                            "      <td>0.00</td>\n",
                            "      <td>0.00</td>\n",
                            "      <td>0.00</td>\n",
                            "      <td>0.00</td>\n",
                            "      <td>0.00</td>\n",
                            "      <td>0.00</td>\n",
                            "      <td>0.00</td>\n",
                            "      <td>0.00</td>\n",
                            "      <td>0.00</td>\n",
                            "      <td>0.00</td>\n",
                            "      <td>0.00</td>\n",
                            "      <td>0.00</td>\n",
                            "      <td>0.00</td>\n",
                            "      <td>0.00</td>\n",
                            "      <td>0.00</td>\n",
                            "      <td>0.00</td>\n",
                            "      <td>0.00</td>\n",
                            "      <td>0.00</td>\n",
                            "      <td>0.00</td>\n",
                            "      <td>...</td>\n",
                            "      <td>0.0</td>\n",
                            "      <td>0.5</td>\n",
                            "      <td>0.0</td>\n",
                            "      <td>0.0</td>\n",
                            "      <td>0.5</td>\n",
                            "      <td>0.166667</td>\n",
                            "      <td>0.166667</td>\n",
                            "      <td>0.0</td>\n",
                            "      <td>0.0</td>\n",
                            "      <td>0.333333</td>\n",
                            "      <td>1.00</td>\n",
                            "      <td>0.0</td>\n",
                            "      <td>0.0</td>\n",
                            "      <td>0.0</td>\n",
                            "      <td>0.0</td>\n",
                            "      <td>0.0</td>\n",
                            "      <td>0.0</td>\n",
                            "      <td>0.000000</td>\n",
                            "      <td>0.0</td>\n",
                            "      <td>0.333333</td>\n",
                            "      <td>0.0</td>\n",
                            "      <td>0.0</td>\n",
                            "      <td>0.0</td>\n",
                            "      <td>0.0</td>\n",
                            "      <td>0.0</td>\n",
                            "      <td>0.0</td>\n",
                            "      <td>0.055556</td>\n",
                            "      <td>0.0</td>\n",
                            "      <td>0.0</td>\n",
                            "      <td>1.00</td>\n",
                            "      <td>0.5</td>\n",
                            "      <td>0.0</td>\n",
                            "      <td>0.0</td>\n",
                            "      <td>0.5</td>\n",
                            "      <td>0.000000</td>\n",
                            "      <td>0.0</td>\n",
                            "      <td>0.0</td>\n",
                            "      <td>0.0</td>\n",
                            "      <td>0.0</td>\n",
                            "      <td>0.0</td>\n",
                            "    </tr>\n",
                            "    <tr>\n",
                            "      <th>(+)-7-Isojasmonic acid CoA</th>\n",
                            "      <td>0.0</td>\n",
                            "      <td>0.00</td>\n",
                            "      <td>1.0</td>\n",
                            "      <td>0.00</td>\n",
                            "      <td>0.00</td>\n",
                            "      <td>0.00</td>\n",
                            "      <td>0.0</td>\n",
                            "      <td>0.0</td>\n",
                            "      <td>0.0</td>\n",
                            "      <td>0.0</td>\n",
                            "      <td>0.00</td>\n",
                            "      <td>0.0</td>\n",
                            "      <td>0.0</td>\n",
                            "      <td>0.0</td>\n",
                            "      <td>0.0</td>\n",
                            "      <td>0.0</td>\n",
                            "      <td>0.0</td>\n",
                            "      <td>0.0</td>\n",
                            "      <td>0.00</td>\n",
                            "      <td>0.00</td>\n",
                            "      <td>0.00</td>\n",
                            "      <td>0.00</td>\n",
                            "      <td>0.00</td>\n",
                            "      <td>0.00</td>\n",
                            "      <td>0.00</td>\n",
                            "      <td>0.00</td>\n",
                            "      <td>0.00</td>\n",
                            "      <td>0.00</td>\n",
                            "      <td>0.00</td>\n",
                            "      <td>0.00</td>\n",
                            "      <td>0.00</td>\n",
                            "      <td>0.00</td>\n",
                            "      <td>0.00</td>\n",
                            "      <td>0.00</td>\n",
                            "      <td>0.00</td>\n",
                            "      <td>0.00</td>\n",
                            "      <td>0.00</td>\n",
                            "      <td>0.00</td>\n",
                            "      <td>0.00</td>\n",
                            "      <td>0.00</td>\n",
                            "      <td>...</td>\n",
                            "      <td>0.0</td>\n",
                            "      <td>0.0</td>\n",
                            "      <td>0.0</td>\n",
                            "      <td>0.0</td>\n",
                            "      <td>0.0</td>\n",
                            "      <td>0.000000</td>\n",
                            "      <td>0.000000</td>\n",
                            "      <td>0.0</td>\n",
                            "      <td>0.0</td>\n",
                            "      <td>0.000000</td>\n",
                            "      <td>0.00</td>\n",
                            "      <td>0.0</td>\n",
                            "      <td>0.0</td>\n",
                            "      <td>0.0</td>\n",
                            "      <td>0.0</td>\n",
                            "      <td>0.0</td>\n",
                            "      <td>0.0</td>\n",
                            "      <td>0.009615</td>\n",
                            "      <td>0.0</td>\n",
                            "      <td>0.000000</td>\n",
                            "      <td>0.0</td>\n",
                            "      <td>0.0</td>\n",
                            "      <td>0.0</td>\n",
                            "      <td>0.0</td>\n",
                            "      <td>0.0</td>\n",
                            "      <td>0.0</td>\n",
                            "      <td>0.000000</td>\n",
                            "      <td>0.0</td>\n",
                            "      <td>0.0</td>\n",
                            "      <td>0.00</td>\n",
                            "      <td>0.0</td>\n",
                            "      <td>0.0</td>\n",
                            "      <td>0.0</td>\n",
                            "      <td>0.0</td>\n",
                            "      <td>0.009804</td>\n",
                            "      <td>0.0</td>\n",
                            "      <td>0.0</td>\n",
                            "      <td>0.0</td>\n",
                            "      <td>0.0</td>\n",
                            "      <td>0.0</td>\n",
                            "    </tr>\n",
                            "    <tr>\n",
                            "      <th>(+)-Catechin 6-C-glucoside</th>\n",
                            "      <td>0.0</td>\n",
                            "      <td>0.25</td>\n",
                            "      <td>0.0</td>\n",
                            "      <td>1.00</td>\n",
                            "      <td>1.00</td>\n",
                            "      <td>0.25</td>\n",
                            "      <td>0.0</td>\n",
                            "      <td>0.0</td>\n",
                            "      <td>0.0</td>\n",
                            "      <td>0.0</td>\n",
                            "      <td>0.25</td>\n",
                            "      <td>0.5</td>\n",
                            "      <td>0.5</td>\n",
                            "      <td>0.5</td>\n",
                            "      <td>0.5</td>\n",
                            "      <td>0.0</td>\n",
                            "      <td>0.0</td>\n",
                            "      <td>0.0</td>\n",
                            "      <td>0.25</td>\n",
                            "      <td>0.25</td>\n",
                            "      <td>0.25</td>\n",
                            "      <td>0.25</td>\n",
                            "      <td>0.25</td>\n",
                            "      <td>0.25</td>\n",
                            "      <td>0.25</td>\n",
                            "      <td>0.25</td>\n",
                            "      <td>0.25</td>\n",
                            "      <td>0.25</td>\n",
                            "      <td>0.25</td>\n",
                            "      <td>0.25</td>\n",
                            "      <td>0.25</td>\n",
                            "      <td>0.25</td>\n",
                            "      <td>0.25</td>\n",
                            "      <td>0.25</td>\n",
                            "      <td>0.25</td>\n",
                            "      <td>0.25</td>\n",
                            "      <td>0.25</td>\n",
                            "      <td>0.25</td>\n",
                            "      <td>0.25</td>\n",
                            "      <td>0.25</td>\n",
                            "      <td>...</td>\n",
                            "      <td>0.0</td>\n",
                            "      <td>0.5</td>\n",
                            "      <td>0.0</td>\n",
                            "      <td>0.0</td>\n",
                            "      <td>0.2</td>\n",
                            "      <td>0.111111</td>\n",
                            "      <td>0.250000</td>\n",
                            "      <td>0.0</td>\n",
                            "      <td>0.0</td>\n",
                            "      <td>0.750000</td>\n",
                            "      <td>0.25</td>\n",
                            "      <td>0.0</td>\n",
                            "      <td>0.0</td>\n",
                            "      <td>0.0</td>\n",
                            "      <td>0.0</td>\n",
                            "      <td>0.0</td>\n",
                            "      <td>0.0</td>\n",
                            "      <td>0.000000</td>\n",
                            "      <td>0.0</td>\n",
                            "      <td>0.750000</td>\n",
                            "      <td>0.0</td>\n",
                            "      <td>0.0</td>\n",
                            "      <td>0.0</td>\n",
                            "      <td>0.0</td>\n",
                            "      <td>0.0</td>\n",
                            "      <td>0.0</td>\n",
                            "      <td>0.047619</td>\n",
                            "      <td>0.0</td>\n",
                            "      <td>0.0</td>\n",
                            "      <td>0.25</td>\n",
                            "      <td>0.5</td>\n",
                            "      <td>0.0</td>\n",
                            "      <td>0.0</td>\n",
                            "      <td>0.5</td>\n",
                            "      <td>0.000000</td>\n",
                            "      <td>0.0</td>\n",
                            "      <td>0.0</td>\n",
                            "      <td>0.0</td>\n",
                            "      <td>0.0</td>\n",
                            "      <td>0.0</td>\n",
                            "    </tr>\n",
                            "    <tr>\n",
                            "      <th>(+)-Catechin 8-C-glucoside</th>\n",
                            "      <td>0.0</td>\n",
                            "      <td>0.25</td>\n",
                            "      <td>0.0</td>\n",
                            "      <td>1.00</td>\n",
                            "      <td>1.00</td>\n",
                            "      <td>0.25</td>\n",
                            "      <td>0.0</td>\n",
                            "      <td>0.0</td>\n",
                            "      <td>0.0</td>\n",
                            "      <td>0.0</td>\n",
                            "      <td>0.25</td>\n",
                            "      <td>0.5</td>\n",
                            "      <td>0.5</td>\n",
                            "      <td>0.5</td>\n",
                            "      <td>0.5</td>\n",
                            "      <td>0.0</td>\n",
                            "      <td>0.0</td>\n",
                            "      <td>0.0</td>\n",
                            "      <td>0.25</td>\n",
                            "      <td>0.25</td>\n",
                            "      <td>0.25</td>\n",
                            "      <td>0.25</td>\n",
                            "      <td>0.25</td>\n",
                            "      <td>0.25</td>\n",
                            "      <td>0.25</td>\n",
                            "      <td>0.25</td>\n",
                            "      <td>0.25</td>\n",
                            "      <td>0.25</td>\n",
                            "      <td>0.25</td>\n",
                            "      <td>0.25</td>\n",
                            "      <td>0.25</td>\n",
                            "      <td>0.25</td>\n",
                            "      <td>0.25</td>\n",
                            "      <td>0.25</td>\n",
                            "      <td>0.25</td>\n",
                            "      <td>0.25</td>\n",
                            "      <td>0.25</td>\n",
                            "      <td>0.25</td>\n",
                            "      <td>0.25</td>\n",
                            "      <td>0.25</td>\n",
                            "      <td>...</td>\n",
                            "      <td>0.0</td>\n",
                            "      <td>0.5</td>\n",
                            "      <td>0.0</td>\n",
                            "      <td>0.0</td>\n",
                            "      <td>0.2</td>\n",
                            "      <td>0.111111</td>\n",
                            "      <td>0.250000</td>\n",
                            "      <td>0.0</td>\n",
                            "      <td>0.0</td>\n",
                            "      <td>0.750000</td>\n",
                            "      <td>0.25</td>\n",
                            "      <td>0.0</td>\n",
                            "      <td>0.0</td>\n",
                            "      <td>0.0</td>\n",
                            "      <td>0.0</td>\n",
                            "      <td>0.0</td>\n",
                            "      <td>0.0</td>\n",
                            "      <td>0.000000</td>\n",
                            "      <td>0.0</td>\n",
                            "      <td>0.750000</td>\n",
                            "      <td>0.0</td>\n",
                            "      <td>0.0</td>\n",
                            "      <td>0.0</td>\n",
                            "      <td>0.0</td>\n",
                            "      <td>0.0</td>\n",
                            "      <td>0.0</td>\n",
                            "      <td>0.047619</td>\n",
                            "      <td>0.0</td>\n",
                            "      <td>0.0</td>\n",
                            "      <td>0.25</td>\n",
                            "      <td>0.5</td>\n",
                            "      <td>0.0</td>\n",
                            "      <td>0.0</td>\n",
                            "      <td>0.5</td>\n",
                            "      <td>0.000000</td>\n",
                            "      <td>0.0</td>\n",
                            "      <td>0.0</td>\n",
                            "      <td>0.0</td>\n",
                            "      <td>0.0</td>\n",
                            "      <td>0.0</td>\n",
                            "    </tr>\n",
                            "  </tbody>\n",
                            "</table>\n",
                            "<p>5 rows \u00d7 24504 columns</p>\n",
                            "</div>"
                        ],
                        "text/plain": [
                            "                                         (+)-(1R,2R)-1,2-Diphenylethane-1,2-diol  ...  {[6-({5-[(6-{[(2-carboxyacetyl)oxy]methyl}-3,4,5-trihydroxyoxan-2-yl)oxy]-7-hydroxy-2-(4-oxocyclohexa-2,5-dien-1-ylidene)-2H-chromen-3-yl}oxy)-3,4,5-trihydroxyoxan-2-yl]methyl}[1-hydroxy-3-(4-hydroxyphenyl)prop-2-en-1-ylidene]oxidanium\n",
                            "(+)-(1R,2R)-1,2-Diphenylethane-1,2-diol                                      1.0  ...                                                0.0                                                                                                                                                                                          \n",
                            "(+)-12a-Hydroxypachyrrhizone                                                 0.0  ...                                                0.0                                                                                                                                                                                          \n",
                            "(+)-7-Isojasmonic acid CoA                                                   0.0  ...                                                0.0                                                                                                                                                                                          \n",
                            "(+)-Catechin 6-C-glucoside                                                   0.0  ...                                                0.0                                                                                                                                                                                          \n",
                            "(+)-Catechin 8-C-glucoside                                                   0.0  ...                                                0.0                                                                                                                                                                                          \n",
                            "\n",
                            "[5 rows x 24504 columns]"
                        ]
                    },
                    "execution_count": 58,
                    "metadata": {
                        "tags": []
                    },
                    "output_type": "execute_result"
                }
            ],
            "source": [
                "attribute_similarity_matrix = uf.createSimilarityMatrix(binary_matrix.T, 'jaccard', sparse=True)\n",
                "attribute_similarity_matrix.head()"
            ]
        },
        {
            "cell_type": "code",
            "execution_count": null,
            "metadata": {
                "colab": {},
                "colab_type": "code",
                "id": "CFE60tnnOf6u"
            },
            "outputs": [],
            "source": [
                "uf.saveData(attribute_similarity_matrix, path,\n",
                "            output_name + '_attribute_similarity_matrix', \n",
                "            compression='npz', symmetric=True, dtype=np.float32)"
            ]
        },
        {
            "cell_type": "code",
            "execution_count": null,
            "metadata": {
                "colab": {},
                "colab_type": "code",
                "id": "5n35un-4Of6w"
            },
            "outputs": [],
            "source": [
                "# net.load_df(attribute_similarity_matrix.iloc[:,:].copy())\n",
                "# net.filter_N_top('row', rank_type='sum', N_top=300)\n",
                "# net.cluster()\n",
                "# net.widget()"
            ]
        },
        {
            "cell_type": "markdown",
            "metadata": {
                "colab_type": "text",
                "id": "x7IIZB9YOf6x"
            },
            "source": [
                " ## Create Gene Similarity Matrix"
            ]
        },
        {
            "cell_type": "code",
            "execution_count": null,
            "metadata": {
                "colab": {},
                "colab_type": "code",
                "id": "TWAcFjQEOf6y"
            },
            "outputs": [],
            "source": [
                "gene_similarity_matrix = uf.createSimilarityMatrix(binary_matrix, 'jaccard', sparse=True)\n",
                "gene_similarity_matrix.head()"
            ]
        },
        {
            "cell_type": "code",
            "execution_count": null,
            "metadata": {
                "colab": {},
                "colab_type": "code",
                "id": "EhLJ0RHQOf6z"
            },
            "outputs": [],
            "source": [
                "uf.saveData(gene_similarity_matrix, path, \n",
                "            output_name + '_gene_similarity_matrix',\n",
                "            compression='npz', symmetric=True, dtype=np.float32)"
            ]
        },
        {
            "cell_type": "markdown",
            "metadata": {
                "colab_type": "text",
                "id": "lwkt7zqJOf62"
            },
            "source": [
                " ## Create Gene-Attribute Edge List"
            ]
        },
        {
            "cell_type": "code",
            "execution_count": null,
            "metadata": {
                "colab": {},
                "colab_type": "code",
                "id": "TS_De24cOf62"
            },
            "outputs": [],
            "source": [
                "uf.createGeneAttributeEdgeList(binary_matrix, attribute_list, gene_list, \n",
                "                               path, output_name + '_gene_attribute_edge_list')"
            ]
        },
        {
            "cell_type": "markdown",
            "metadata": {
                "colab_type": "text",
                "id": "7gq_c_HOOf64"
            },
            "source": [
                " # Create Downloadable Save File"
            ]
        },
        {
            "cell_type": "code",
            "execution_count": null,
            "metadata": {
                "colab": {},
                "colab_type": "code",
                "id": "4yssJADsOf65"
            },
            "outputs": [],
            "source": [
                "uf.createArchive(path)"
            ]
        },
        {
            "cell_type": "markdown",
            "metadata": {
                "colab_type": "text",
                "id": "Q0XLERChOf67"
            },
            "source": [
                " ### Link to download output files: [click here](./output_archive.zip)"
            ]
        }
    ],
    "metadata": {
        "colab": {
            "collapsed_sections": [
                "Q0XLERChOf67"
            ],
            "machine_shape": "hm",
            "name": "HMDB.ipynb",
            "provenance": []
        },
        "kernelspec": {
            "display_name": "Python 3",
            "name": "python3"
        },
        "orig_nbformat": 2
    },
    "nbformat": 4,
    "nbformat_minor": 0
}
