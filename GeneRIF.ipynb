{
    "cells": [
        {
            "cell_type": "markdown",
            "metadata": {
                "colab_type": "text",
                "id": "YQLfH2Q4E6gQ"
            },
            "source": [
                " # GeneRIF"
            ]
        },
        {
            "cell_type": "markdown",
            "metadata": {
                "colab_type": "text",
                "id": "iCCNWbDpE6gR"
            },
            "source": [
                " Author: Moshe Silverstein <br/>\n",
                " Date: 8-17 <br/>\n",
                " Data Source: ftp://ftp.ncbi.nih.gov/gene/GeneRIF/\n",
                "\n",
                " Reviewer: Charles Dai <br>\n",
                " Updated: 6-20"
            ]
        },
        {
            "cell_type": "code",
            "execution_count": 4,
            "metadata": {
                "colab": {},
                "colab_type": "code",
                "executionInfo": {
                    "elapsed": 389162,
                    "status": "ok",
                    "timestamp": 1592797035317,
                    "user": {
                        "displayName": "Charles Dai",
                        "photoUrl": "https://lh3.googleusercontent.com/-oV6qD-pUdfY/AAAAAAAAAAI/AAAAAAAAB88/6T4c3GGp6bA/s64/photo.jpg",
                        "userId": "03185553652583704748"
                    },
                    "user_tz": 240
                },
                "id": "rkFPNaw9E6gS"
            },
            "outputs": [],
            "source": [
                "# appyter init\n",
                "from appyter import magic\n",
                "magic.init(lambda _=globals: _())"
            ]
        },
        {
            "cell_type": "code",
            "execution_count": 5,
            "metadata": {
                "colab": {},
                "colab_type": "code",
                "executionInfo": {
                    "elapsed": 390001,
                    "status": "ok",
                    "timestamp": 1592797036158,
                    "user": {
                        "displayName": "Charles Dai",
                        "photoUrl": "https://lh3.googleusercontent.com/-oV6qD-pUdfY/AAAAAAAAAAI/AAAAAAAAB88/6T4c3GGp6bA/s64/photo.jpg",
                        "userId": "03185553652583704748"
                    },
                    "user_tz": 240
                },
                "id": "3gsCY4_qE6gW"
            },
            "outputs": [],
            "source": [
                "import sys\n",
                "import os\n",
                "\n",
                "import numpy as np\n",
                "import pandas as pd\n",
                "import matplotlib.pyplot as plt\n",
                "%matplotlib inline\n",
                "\n",
                "import harmonizome.utility_functions as uf\n",
                "import harmonizome.lookup as lookup"
            ]
        },
        {
            "cell_type": "code",
            "execution_count": 6,
            "metadata": {
                "colab": {},
                "colab_type": "code",
                "executionInfo": {
                    "elapsed": 390000,
                    "status": "ok",
                    "timestamp": 1592797036159,
                    "user": {
                        "displayName": "Charles Dai",
                        "photoUrl": "https://lh3.googleusercontent.com/-oV6qD-pUdfY/AAAAAAAAAAI/AAAAAAAAB88/6T4c3GGp6bA/s64/photo.jpg",
                        "userId": "03185553652583704748"
                    },
                    "user_tz": 240
                },
                "id": "feIlj7HkE6gb"
            },
            "outputs": [],
            "source": [
                "# from clustergrammer_widget import *\n",
                "# net = Network(clustergrammer_widget)"
            ]
        },
        {
            "cell_type": "code",
            "execution_count": 7,
            "metadata": {
                "colab": {},
                "colab_type": "code",
                "executionInfo": {
                    "elapsed": 389999,
                    "status": "ok",
                    "timestamp": 1592797036160,
                    "user": {
                        "displayName": "Charles Dai",
                        "photoUrl": "https://lh3.googleusercontent.com/-oV6qD-pUdfY/AAAAAAAAAAI/AAAAAAAAB88/6T4c3GGp6bA/s64/photo.jpg",
                        "userId": "03185553652583704748"
                    },
                    "user_tz": 240
                },
                "id": "Bhtb-mq1E6gd"
            },
            "outputs": [],
            "source": [
                "%load_ext autoreload\n",
                "%autoreload 2"
            ]
        },
        {
            "cell_type": "markdown",
            "metadata": {
                "colab_type": "text",
                "id": "9qqQOEDVE6gf"
            },
            "source": [
                " ### Python Version"
            ]
        },
        {
            "cell_type": "code",
            "execution_count": 8,
            "metadata": {
                "colab": {
                    "base_uri": "https://localhost:8080/",
                    "height": 34
                },
                "colab_type": "code",
                "executionInfo": {
                    "elapsed": 389997,
                    "status": "ok",
                    "timestamp": 1592797036160,
                    "user": {
                        "displayName": "Charles Dai",
                        "photoUrl": "https://lh3.googleusercontent.com/-oV6qD-pUdfY/AAAAAAAAAAI/AAAAAAAAB88/6T4c3GGp6bA/s64/photo.jpg",
                        "userId": "03185553652583704748"
                    },
                    "user_tz": 240
                },
                "id": "ryjeRVf7E6gg",
                "outputId": "69dbbedf-cf15-4600-c6e3-75025d5876c7"
            },
            "outputs": [
                {
                    "data": {
                        "text/plain": [
                            "'3.6.9 (default, Apr 18 2020, 01:56:04) \\n[GCC 8.4.0]'"
                        ]
                    },
                    "execution_count": 8,
                    "metadata": {
                        "tags": []
                    },
                    "output_type": "execute_result"
                }
            ],
            "source": [
                "sys.version"
            ]
        },
        {
            "cell_type": "markdown",
            "metadata": {
                "colab_type": "text",
                "id": "C-YIHX6wE6gi"
            },
            "source": [
                " # Initialization"
            ]
        },
        {
            "cell_type": "markdown",
            "metadata": {
                "colab_type": "text",
                "id": "OIkWwOjvE6gj"
            },
            "source": [
                " %% [markdown]"
            ]
        },
        {
            "cell_type": "markdown",
            "metadata": {
                "colab_type": "text",
                "id": "7ZokdECeE6gk"
            },
            "source": [
                " ### Load Mapping Dictionaries"
            ]
        },
        {
            "cell_type": "code",
            "execution_count": 9,
            "metadata": {
                "colab": {
                    "base_uri": "https://localhost:8080/",
                    "height": 34
                },
                "colab_type": "code",
                "executionInfo": {
                    "elapsed": 397311,
                    "status": "ok",
                    "timestamp": 1592797043475,
                    "user": {
                        "displayName": "Charles Dai",
                        "photoUrl": "https://lh3.googleusercontent.com/-oV6qD-pUdfY/AAAAAAAAAAI/AAAAAAAAB88/6T4c3GGp6bA/s64/photo.jpg",
                        "userId": "03185553652583704748"
                    },
                    "user_tz": 240
                },
                "id": "ZsPrwkmvE6gk",
                "outputId": "53c4c9ac-f37c-4d8d-94a7-66d5e1f26e9e"
            },
            "outputs": [
                {
                    "name": "stderr",
                    "output_type": "stream",
                    "text": [
                        "Gathering sources: 100%|\u2588\u2588\u2588\u2588\u2588\u2588\u2588\u2588\u2588\u2588| 3/3 [00:07<00:00,  2.46s/it]\n"
                    ]
                }
            ],
            "source": [
                "symbol_lookup, geneid_lookup = lookup.get_lookups()"
            ]
        },
        {
            "cell_type": "markdown",
            "metadata": {
                "colab_type": "text",
                "id": "zJTAgVAnE6go"
            },
            "source": [
                " ### Output Path"
            ]
        },
        {
            "cell_type": "code",
            "execution_count": 10,
            "metadata": {
                "colab": {},
                "colab_type": "code",
                "executionInfo": {
                    "elapsed": 397310,
                    "status": "ok",
                    "timestamp": 1592797043476,
                    "user": {
                        "displayName": "Charles Dai",
                        "photoUrl": "https://lh3.googleusercontent.com/-oV6qD-pUdfY/AAAAAAAAAAI/AAAAAAAAB88/6T4c3GGp6bA/s64/photo.jpg",
                        "userId": "03185553652583704748"
                    },
                    "user_tz": 240
                },
                "id": "e7un6GKJE6gp"
            },
            "outputs": [],
            "source": [
                "output_name = 'generif'\n",
                "\n",
                "path = 'Output/GeneRIF'\n",
                "if not os.path.exists(path):\n",
                "    os.makedirs(path)"
            ]
        },
        {
            "cell_type": "code",
            "execution_count": 11,
            "metadata": {
                "colab": {},
                "colab_type": "code",
                "executionInfo": {
                    "elapsed": 397308,
                    "status": "ok",
                    "timestamp": 1592797043476,
                    "user": {
                        "displayName": "Charles Dai",
                        "photoUrl": "https://lh3.googleusercontent.com/-oV6qD-pUdfY/AAAAAAAAAAI/AAAAAAAAB88/6T4c3GGp6bA/s64/photo.jpg",
                        "userId": "03185553652583704748"
                    },
                    "user_tz": 240
                },
                "id": "5sNe6EMFE6gt"
            },
            "outputs": [],
            "source": [
                "%%appyter hide_code\n",
                "{% do SectionField(\n",
                "    name='data',\n",
                "    title='Load Data',\n",
                "    subtitle='Upload Files from the GeneRIF Data Set',\n",
                ") %}"
            ]
        },
        {
            "cell_type": "markdown",
            "metadata": {
                "colab_type": "text",
                "id": "hhj9ogaBE6gw"
            },
            "source": [
                " # Load Data"
            ]
        },
        {
            "cell_type": "code",
            "execution_count": 78,
            "metadata": {
                "colab": {
                    "base_uri": "https://localhost:8080/",
                    "height": 51
                },
                "colab_type": "code",
                "executionInfo": {
                    "elapsed": 4166,
                    "status": "ok",
                    "timestamp": 1592798324357,
                    "user": {
                        "displayName": "Charles Dai",
                        "photoUrl": "https://lh3.googleusercontent.com/-oV6qD-pUdfY/AAAAAAAAAAI/AAAAAAAAB88/6T4c3GGp6bA/s64/photo.jpg",
                        "userId": "03185553652583704748"
                    },
                    "user_tz": 240
                },
                "id": "2YJRtiE0E6gx",
                "outputId": "948a1e3f-55e2-4975-afd2-d9751c355e84"
            },
            "outputs": [
                {
                    "data": {
                        "text/markdown": "```python\n\ndf = pd.read_csv('Input/GeneRIF/interactions.gz', sep='\\t', usecols=['#tax_id', 'gene_id', 'keyphrase', 'name.1'])\n```",
                        "text/plain": [
                            "<IPython.core.display.Markdown object>"
                        ]
                    },
                    "metadata": {
                        "tags": []
                    },
                    "output_type": "display_data"
                }
            ],
            "source": [
                "%%appyter code_exec\n",
                "\n",
                "df = pd.read_csv({{FileField(\n",
                "    constraint='.*\\.gz$',\n",
                "    name='interactions', \n",
                "    label='Interactions (gz)', \n",
                "    default='Input/GeneRIF/interactions.gz',\n",
                "    section='data')\n",
                "}}, sep='\\t', usecols=['#tax_id', 'gene_id', 'keyphrase', 'name.1'])"
            ]
        },
        {
            "cell_type": "code",
            "execution_count": 79,
            "metadata": {
                "colab": {
                    "base_uri": "https://localhost:8080/",
                    "height": 204
                },
                "colab_type": "code",
                "executionInfo": {
                    "elapsed": 3982,
                    "status": "ok",
                    "timestamp": 1592798324358,
                    "user": {
                        "displayName": "Charles Dai",
                        "photoUrl": "https://lh3.googleusercontent.com/-oV6qD-pUdfY/AAAAAAAAAAI/AAAAAAAAB88/6T4c3GGp6bA/s64/photo.jpg",
                        "userId": "03185553652583704748"
                    },
                    "user_tz": 240
                },
                "id": "B_1e0tq7E6gz",
                "outputId": "90bc43d0-4fb5-4a51-856d-ae0af95400e7"
            },
            "outputs": [
                {
                    "data": {
                        "text/html": [
                            "<div>\n",
                            "<style scoped>\n",
                            "    .dataframe tbody tr th:only-of-type {\n",
                            "        vertical-align: middle;\n",
                            "    }\n",
                            "\n",
                            "    .dataframe tbody tr th {\n",
                            "        vertical-align: top;\n",
                            "    }\n",
                            "\n",
                            "    .dataframe thead th {\n",
                            "        text-align: right;\n",
                            "    }\n",
                            "</style>\n",
                            "<table border=\"1\" class=\"dataframe\">\n",
                            "  <thead>\n",
                            "    <tr style=\"text-align: right;\">\n",
                            "      <th></th>\n",
                            "      <th>#tax_id</th>\n",
                            "      <th>gene_id</th>\n",
                            "      <th>keyphrase</th>\n",
                            "      <th>name.1</th>\n",
                            "    </tr>\n",
                            "  </thead>\n",
                            "  <tbody>\n",
                            "    <tr>\n",
                            "      <th>0</th>\n",
                            "      <td>358</td>\n",
                            "      <td>1224321</td>\n",
                            "      <td>-</td>\n",
                            "      <td>Agrobacterium tumefaciens str. C58 Ti plasmid,...</td>\n",
                            "    </tr>\n",
                            "    <tr>\n",
                            "      <th>1</th>\n",
                            "      <td>358</td>\n",
                            "      <td>1224322</td>\n",
                            "      <td>-</td>\n",
                            "      <td>Agrobacterium tumefaciens str. C58 Ti plasmid,...</td>\n",
                            "    </tr>\n",
                            "    <tr>\n",
                            "      <th>2</th>\n",
                            "      <td>358</td>\n",
                            "      <td>1224323</td>\n",
                            "      <td>-</td>\n",
                            "      <td>Agrobacterium tumefaciens str. C58 Ti plasmid,...</td>\n",
                            "    </tr>\n",
                            "    <tr>\n",
                            "      <th>3</th>\n",
                            "      <td>358</td>\n",
                            "      <td>1224324</td>\n",
                            "      <td>-</td>\n",
                            "      <td>hypothetical protein pTi_135</td>\n",
                            "    </tr>\n",
                            "    <tr>\n",
                            "      <th>4</th>\n",
                            "      <td>358</td>\n",
                            "      <td>1224324</td>\n",
                            "      <td>-</td>\n",
                            "      <td>hypothetical protein pTi_135</td>\n",
                            "    </tr>\n",
                            "  </tbody>\n",
                            "</table>\n",
                            "</div>"
                        ],
                        "text/plain": [
                            "   #tax_id  ...                                             name.1\n",
                            "0      358  ...  Agrobacterium tumefaciens str. C58 Ti plasmid,...\n",
                            "1      358  ...  Agrobacterium tumefaciens str. C58 Ti plasmid,...\n",
                            "2      358  ...  Agrobacterium tumefaciens str. C58 Ti plasmid,...\n",
                            "3      358  ...                       hypothetical protein pTi_135\n",
                            "4      358  ...                       hypothetical protein pTi_135\n",
                            "\n",
                            "[5 rows x 4 columns]"
                        ]
                    },
                    "execution_count": 79,
                    "metadata": {
                        "tags": []
                    },
                    "output_type": "execute_result"
                }
            ],
            "source": [
                "df.head()"
            ]
        },
        {
            "cell_type": "code",
            "execution_count": 80,
            "metadata": {
                "colab": {
                    "base_uri": "https://localhost:8080/",
                    "height": 34
                },
                "colab_type": "code",
                "executionInfo": {
                    "elapsed": 3836,
                    "status": "ok",
                    "timestamp": 1592798324358,
                    "user": {
                        "displayName": "Charles Dai",
                        "photoUrl": "https://lh3.googleusercontent.com/-oV6qD-pUdfY/AAAAAAAAAAI/AAAAAAAAB88/6T4c3GGp6bA/s64/photo.jpg",
                        "userId": "03185553652583704748"
                    },
                    "user_tz": 240
                },
                "id": "ffrrRQcME6g2",
                "outputId": "a5349f3b-c6df-4283-ae9a-61443f4d1303"
            },
            "outputs": [
                {
                    "data": {
                        "text/plain": [
                            "(2984183, 4)"
                        ]
                    },
                    "execution_count": 80,
                    "metadata": {
                        "tags": []
                    },
                    "output_type": "execute_result"
                }
            ],
            "source": [
                "df.shape"
            ]
        },
        {
            "cell_type": "markdown",
            "metadata": {
                "colab_type": "text",
                "id": "_uR2bgfGE6g5"
            },
            "source": [
                " # Pre-process Data"
            ]
        },
        {
            "cell_type": "markdown",
            "metadata": {
                "colab_type": "text",
                "id": "2S5EakKaE6g6"
            },
            "source": [
                " ## Get Relevant Data"
            ]
        },
        {
            "cell_type": "code",
            "execution_count": 81,
            "metadata": {
                "colab": {},
                "colab_type": "code",
                "executionInfo": {
                    "elapsed": 5102,
                    "status": "ok",
                    "timestamp": 1592798326308,
                    "user": {
                        "displayName": "Charles Dai",
                        "photoUrl": "https://lh3.googleusercontent.com/-oV6qD-pUdfY/AAAAAAAAAAI/AAAAAAAAB88/6T4c3GGp6bA/s64/photo.jpg",
                        "userId": "03185553652583704748"
                    },
                    "user_tz": 240
                },
                "id": "YSztpoI5E6g7"
            },
            "outputs": [],
            "source": [
                "# Only relevant species\n",
                "df = df[np.logical_or.reduce([\n",
                "    df['#tax_id'] == 9606, # human\n",
                "    df['#tax_id'] == 10090, # mouse\n",
                "    df['#tax_id'] == 10116 # rat\n",
                "])].drop('#tax_id', axis=1)"
            ]
        },
        {
            "cell_type": "code",
            "execution_count": 82,
            "metadata": {
                "colab": {
                    "base_uri": "https://localhost:8080/",
                    "height": 235
                },
                "colab_type": "code",
                "executionInfo": {
                    "elapsed": 4634,
                    "status": "ok",
                    "timestamp": 1592798326309,
                    "user": {
                        "displayName": "Charles Dai",
                        "photoUrl": "https://lh3.googleusercontent.com/-oV6qD-pUdfY/AAAAAAAAAAI/AAAAAAAAB88/6T4c3GGp6bA/s64/photo.jpg",
                        "userId": "03185553652583704748"
                    },
                    "user_tz": 240
                },
                "id": "GBJ1f8zdE6g_",
                "outputId": "13cece97-4a47-40b6-b2ae-496e95d82801"
            },
            "outputs": [
                {
                    "data": {
                        "text/html": [
                            "<div>\n",
                            "<style scoped>\n",
                            "    .dataframe tbody tr th:only-of-type {\n",
                            "        vertical-align: middle;\n",
                            "    }\n",
                            "\n",
                            "    .dataframe tbody tr th {\n",
                            "        vertical-align: top;\n",
                            "    }\n",
                            "\n",
                            "    .dataframe thead th {\n",
                            "        text-align: right;\n",
                            "    }\n",
                            "</style>\n",
                            "<table border=\"1\" class=\"dataframe\">\n",
                            "  <thead>\n",
                            "    <tr style=\"text-align: right;\">\n",
                            "      <th></th>\n",
                            "      <th>keyphrase</th>\n",
                            "    </tr>\n",
                            "    <tr>\n",
                            "      <th>gene_id</th>\n",
                            "      <th></th>\n",
                            "    </tr>\n",
                            "  </thead>\n",
                            "  <tbody>\n",
                            "    <tr>\n",
                            "      <th>2</th>\n",
                            "      <td>inhibits Tat</td>\n",
                            "    </tr>\n",
                            "    <tr>\n",
                            "      <th>2</th>\n",
                            "      <td>downregulates Envelope transmembrane glycoprot...</td>\n",
                            "    </tr>\n",
                            "    <tr>\n",
                            "      <th>2</th>\n",
                            "      <td>cleaves retropepsin</td>\n",
                            "    </tr>\n",
                            "    <tr>\n",
                            "      <th>12</th>\n",
                            "      <td>upregulates Tat</td>\n",
                            "    </tr>\n",
                            "    <tr>\n",
                            "      <th>12</th>\n",
                            "      <td>upregulates Envelope surface glycoprotein gp120</td>\n",
                            "    </tr>\n",
                            "  </tbody>\n",
                            "</table>\n",
                            "</div>"
                        ],
                        "text/plain": [
                            "                                                 keyphrase\n",
                            "gene_id                                                   \n",
                            "2                                             inhibits Tat\n",
                            "2        downregulates Envelope transmembrane glycoprot...\n",
                            "2                                      cleaves retropepsin\n",
                            "12                                         upregulates Tat\n",
                            "12         upregulates Envelope surface glycoprotein gp120"
                        ]
                    },
                    "execution_count": 82,
                    "metadata": {
                        "tags": []
                    },
                    "output_type": "execute_result"
                }
            ],
            "source": [
                "# Concatenate full attribute\n",
                "df = df[df['keyphrase'] != '-']\n",
                "df['keyphrase'] = df['keyphrase'] + ' ' + df['name.1']\n",
                "df = df.drop('name.1', axis=1).set_index('gene_id')\n",
                "df.head()"
            ]
        },
        {
            "cell_type": "markdown",
            "metadata": {
                "colab_type": "text",
                "id": "kdD7tLa6E6hE"
            },
            "source": [
                " ## Map Gene ID to Symbol"
            ]
        },
        {
            "cell_type": "code",
            "execution_count": 83,
            "metadata": {
                "colab": {
                    "base_uri": "https://localhost:8080/",
                    "height": 235
                },
                "colab_type": "code",
                "executionInfo": {
                    "elapsed": 653,
                    "status": "ok",
                    "timestamp": 1592798328680,
                    "user": {
                        "displayName": "Charles Dai",
                        "photoUrl": "https://lh3.googleusercontent.com/-oV6qD-pUdfY/AAAAAAAAAAI/AAAAAAAAB88/6T4c3GGp6bA/s64/photo.jpg",
                        "userId": "03185553652583704748"
                    },
                    "user_tz": 240
                },
                "id": "bLImLL_wE6hF",
                "outputId": "c4b6ea7d-17c4-4f5b-b637-313d5e4ab39e"
            },
            "outputs": [
                {
                    "data": {
                        "text/html": [
                            "<div>\n",
                            "<style scoped>\n",
                            "    .dataframe tbody tr th:only-of-type {\n",
                            "        vertical-align: middle;\n",
                            "    }\n",
                            "\n",
                            "    .dataframe tbody tr th {\n",
                            "        vertical-align: top;\n",
                            "    }\n",
                            "\n",
                            "    .dataframe thead th {\n",
                            "        text-align: right;\n",
                            "    }\n",
                            "</style>\n",
                            "<table border=\"1\" class=\"dataframe\">\n",
                            "  <thead>\n",
                            "    <tr style=\"text-align: right;\">\n",
                            "      <th></th>\n",
                            "      <th>keyphrase</th>\n",
                            "    </tr>\n",
                            "    <tr>\n",
                            "      <th>gene_id</th>\n",
                            "      <th></th>\n",
                            "    </tr>\n",
                            "  </thead>\n",
                            "  <tbody>\n",
                            "    <tr>\n",
                            "      <th>A2M</th>\n",
                            "      <td>inhibits Tat</td>\n",
                            "    </tr>\n",
                            "    <tr>\n",
                            "      <th>A2M</th>\n",
                            "      <td>downregulates Envelope transmembrane glycoprot...</td>\n",
                            "    </tr>\n",
                            "    <tr>\n",
                            "      <th>A2M</th>\n",
                            "      <td>cleaves retropepsin</td>\n",
                            "    </tr>\n",
                            "    <tr>\n",
                            "      <th>SERPINA3</th>\n",
                            "      <td>upregulates Tat</td>\n",
                            "    </tr>\n",
                            "    <tr>\n",
                            "      <th>SERPINA3</th>\n",
                            "      <td>upregulates Envelope surface glycoprotein gp120</td>\n",
                            "    </tr>\n",
                            "  </tbody>\n",
                            "</table>\n",
                            "</div>"
                        ],
                        "text/plain": [
                            "                                                  keyphrase\n",
                            "gene_id                                                    \n",
                            "A2M                                            inhibits Tat\n",
                            "A2M       downregulates Envelope transmembrane glycoprot...\n",
                            "A2M                                     cleaves retropepsin\n",
                            "SERPINA3                                    upregulates Tat\n",
                            "SERPINA3    upregulates Envelope surface glycoprotein gp120"
                        ]
                    },
                    "execution_count": 83,
                    "metadata": {
                        "tags": []
                    },
                    "output_type": "execute_result"
                }
            ],
            "source": [
                "id_to_symbol = {v: k for k, v in geneid_lookup.items()}\n",
                "df.index = df.index.map(id_to_symbol)\n",
                "df.head()"
            ]
        },
        {
            "cell_type": "markdown",
            "metadata": {
                "colab_type": "text",
                "id": "lWlGGNJ2E6hI"
            },
            "source": [
                " # Filter Data"
            ]
        },
        {
            "cell_type": "markdown",
            "metadata": {
                "colab_type": "text",
                "id": "unrqEYszE6hJ"
            },
            "source": [
                " ## Map Gene Symbols to Up-to-date Approved Gene Symbols"
            ]
        },
        {
            "cell_type": "code",
            "execution_count": 84,
            "metadata": {
                "colab": {
                    "base_uri": "https://localhost:8080/",
                    "height": 51
                },
                "colab_type": "code",
                "executionInfo": {
                    "elapsed": 365,
                    "status": "ok",
                    "timestamp": 1592798336306,
                    "user": {
                        "displayName": "Charles Dai",
                        "photoUrl": "https://lh3.googleusercontent.com/-oV6qD-pUdfY/AAAAAAAAAAI/AAAAAAAAB88/6T4c3GGp6bA/s64/photo.jpg",
                        "userId": "03185553652583704748"
                    },
                    "user_tz": 240
                },
                "id": "qBbtPyTGE6hK",
                "outputId": "88e064f4-af35-41e1-e722-3aea5fafb207"
            },
            "outputs": [
                {
                    "name": "stderr",
                    "output_type": "stream",
                    "text": [
                        "100%|\u2588\u2588\u2588\u2588\u2588\u2588\u2588\u2588\u2588\u2588| 17772/17772 [00:00<00:00, 532170.85it/s]\n"
                    ]
                },
                {
                    "data": {
                        "text/plain": [
                            "(17764, 1)"
                        ]
                    },
                    "execution_count": 84,
                    "metadata": {
                        "tags": []
                    },
                    "output_type": "execute_result"
                }
            ],
            "source": [
                "df = uf.mapgenesymbols(df, symbol_lookup)\n",
                "df.shape"
            ]
        },
        {
            "cell_type": "markdown",
            "metadata": {
                "colab_type": "text",
                "id": "2XxM2sOtE6hN"
            },
            "source": [
                " # Analyze Data"
            ]
        },
        {
            "cell_type": "markdown",
            "metadata": {
                "colab_type": "text",
                "id": "QAmNA6JAE6hO"
            },
            "source": [
                " ## Create Binary Matrix"
            ]
        },
        {
            "cell_type": "code",
            "execution_count": 85,
            "metadata": {
                "colab": {
                    "base_uri": "https://localhost:8080/",
                    "height": 338
                },
                "colab_type": "code",
                "executionInfo": {
                    "elapsed": 1414,
                    "status": "ok",
                    "timestamp": 1592798337361,
                    "user": {
                        "displayName": "Charles Dai",
                        "photoUrl": "https://lh3.googleusercontent.com/-oV6qD-pUdfY/AAAAAAAAAAI/AAAAAAAAB88/6T4c3GGp6bA/s64/photo.jpg",
                        "userId": "03185553652583704748"
                    },
                    "user_tz": 240
                },
                "id": "z85usVnrE6hP",
                "outputId": "5a8c7c80-f096-4913-ba69-89f830bb561d"
            },
            "outputs": [
                {
                    "data": {
                        "text/html": [
                            "<div>\n",
                            "<style scoped>\n",
                            "    .dataframe tbody tr th:only-of-type {\n",
                            "        vertical-align: middle;\n",
                            "    }\n",
                            "\n",
                            "    .dataframe tbody tr th {\n",
                            "        vertical-align: top;\n",
                            "    }\n",
                            "\n",
                            "    .dataframe thead th {\n",
                            "        text-align: right;\n",
                            "    }\n",
                            "</style>\n",
                            "<table border=\"1\" class=\"dataframe\">\n",
                            "  <thead>\n",
                            "    <tr style=\"text-align: right;\">\n",
                            "      <th></th>\n",
                            "      <th>Binds capsid</th>\n",
                            "      <th>DOES NOT bind mutant capsid</th>\n",
                            "      <th>DOES NOT bind mutant nucleocapsid</th>\n",
                            "      <th>Inhibits Nef</th>\n",
                            "      <th>abrogated by Vpr</th>\n",
                            "      <th>abrogates Vpr</th>\n",
                            "      <th>acetylated by Tat</th>\n",
                            "      <th>acetylated by integrase</th>\n",
                            "      <th>acetylates Tat</th>\n",
                            "      <th>activated by Envelope surface glycoprotein gp120</th>\n",
                            "      <th>activated by Human immunodeficiency virus 1, complete genome</th>\n",
                            "      <th>activated by Tat</th>\n",
                            "      <th>activated by Vpr</th>\n",
                            "      <th>activated by capsid</th>\n",
                            "      <th>activated by integrase</th>\n",
                            "      <th>activated by retropepsin</th>\n",
                            "      <th>activates Envelope surface glycoprotein gp120</th>\n",
                            "      <th>activates Envelope surface glycoprotein gp160, precursor</th>\n",
                            "      <th>activates Envelope transmembrane glycoprotein gp41</th>\n",
                            "      <th>activates Human immunodeficiency virus 1, complete genome</th>\n",
                            "      <th>activates Nef</th>\n",
                            "      <th>activates Pr55(Gag)</th>\n",
                            "      <th>activates Rev</th>\n",
                            "      <th>activates Tat</th>\n",
                            "      <th>activates Vpr</th>\n",
                            "      <th>activates Vpu</th>\n",
                            "      <th>activates matrix</th>\n",
                            "      <th>activates nucleocapsid</th>\n",
                            "      <th>activates retropepsin</th>\n",
                            "      <th>activates reverse transcriptase</th>\n",
                            "      <th>affected by Human immunodeficiency virus 1, complete genome</th>\n",
                            "      <th>affected by Nef</th>\n",
                            "      <th>affected by Pr55(Gag)</th>\n",
                            "      <th>affected by Tat</th>\n",
                            "      <th>affects Pr55(Gag)</th>\n",
                            "      <th>affects Vpr</th>\n",
                            "      <th>affects capsid</th>\n",
                            "      <th>antagonizes Envelope transmembrane glycoprotein gp41</th>\n",
                            "      <th>antagonizes Nef</th>\n",
                            "      <th>antagonizes Vif</th>\n",
                            "      <th>...</th>\n",
                            "      <th>suppresses Vpu</th>\n",
                            "      <th>synergizes with Nef</th>\n",
                            "      <th>synergizes with Rev</th>\n",
                            "      <th>synergizes with Tat</th>\n",
                            "      <th>targets Vpr</th>\n",
                            "      <th>ubiquitinated by Pr55(Gag)</th>\n",
                            "      <th>ubiquitinated by Rev</th>\n",
                            "      <th>ubiquitinated by Tat</th>\n",
                            "      <th>ubiquitinated by capsid</th>\n",
                            "      <th>ubiquitinated by matrix</th>\n",
                            "      <th>ubiquitinated by nucleocapsid</th>\n",
                            "      <th>ubiquitinated by p1</th>\n",
                            "      <th>ubiquitinated by p6</th>\n",
                            "      <th>ubiquitinates Vpu</th>\n",
                            "      <th>upregulated by Asp</th>\n",
                            "      <th>upregulated by Envelope surface glycoprotein gp120</th>\n",
                            "      <th>upregulated by Envelope surface glycoprotein gp160, precursor</th>\n",
                            "      <th>upregulated by Nef</th>\n",
                            "      <th>upregulated by Pr55(Gag)</th>\n",
                            "      <th>upregulated by Rev</th>\n",
                            "      <th>upregulated by Tat</th>\n",
                            "      <th>upregulated by capsid</th>\n",
                            "      <th>upregulates Asp</th>\n",
                            "      <th>upregulates Envelope surface glycoprotein gp120</th>\n",
                            "      <th>upregulates Envelope surface glycoprotein gp160, precursor</th>\n",
                            "      <th>upregulates Envelope transmembrane glycoprotein gp41</th>\n",
                            "      <th>upregulates Gag-Pol</th>\n",
                            "      <th>upregulates Human immunodeficiency virus 1, complete genome</th>\n",
                            "      <th>upregulates Nef</th>\n",
                            "      <th>upregulates Pr55(Gag)</th>\n",
                            "      <th>upregulates Tat</th>\n",
                            "      <th>upregulates Vif</th>\n",
                            "      <th>upregulates Vpr</th>\n",
                            "      <th>upregulates Vpu</th>\n",
                            "      <th>upregulates capsid</th>\n",
                            "      <th>upregulates integrase</th>\n",
                            "      <th>upregulates matrix</th>\n",
                            "      <th>upregulates nucleocapsid</th>\n",
                            "      <th>upregulates reverse transcriptase</th>\n",
                            "      <th>utilizes Envelope surface glycoprotein gp120</th>\n",
                            "    </tr>\n",
                            "  </thead>\n",
                            "  <tbody>\n",
                            "    <tr>\n",
                            "      <th>A2M</th>\n",
                            "      <td>False</td>\n",
                            "      <td>False</td>\n",
                            "      <td>False</td>\n",
                            "      <td>False</td>\n",
                            "      <td>False</td>\n",
                            "      <td>False</td>\n",
                            "      <td>False</td>\n",
                            "      <td>False</td>\n",
                            "      <td>False</td>\n",
                            "      <td>False</td>\n",
                            "      <td>False</td>\n",
                            "      <td>False</td>\n",
                            "      <td>False</td>\n",
                            "      <td>False</td>\n",
                            "      <td>False</td>\n",
                            "      <td>False</td>\n",
                            "      <td>False</td>\n",
                            "      <td>False</td>\n",
                            "      <td>False</td>\n",
                            "      <td>False</td>\n",
                            "      <td>False</td>\n",
                            "      <td>False</td>\n",
                            "      <td>False</td>\n",
                            "      <td>False</td>\n",
                            "      <td>False</td>\n",
                            "      <td>False</td>\n",
                            "      <td>False</td>\n",
                            "      <td>False</td>\n",
                            "      <td>False</td>\n",
                            "      <td>False</td>\n",
                            "      <td>False</td>\n",
                            "      <td>False</td>\n",
                            "      <td>False</td>\n",
                            "      <td>False</td>\n",
                            "      <td>False</td>\n",
                            "      <td>False</td>\n",
                            "      <td>False</td>\n",
                            "      <td>False</td>\n",
                            "      <td>False</td>\n",
                            "      <td>False</td>\n",
                            "      <td>...</td>\n",
                            "      <td>False</td>\n",
                            "      <td>False</td>\n",
                            "      <td>False</td>\n",
                            "      <td>False</td>\n",
                            "      <td>False</td>\n",
                            "      <td>False</td>\n",
                            "      <td>False</td>\n",
                            "      <td>False</td>\n",
                            "      <td>False</td>\n",
                            "      <td>False</td>\n",
                            "      <td>False</td>\n",
                            "      <td>False</td>\n",
                            "      <td>False</td>\n",
                            "      <td>False</td>\n",
                            "      <td>False</td>\n",
                            "      <td>False</td>\n",
                            "      <td>False</td>\n",
                            "      <td>False</td>\n",
                            "      <td>False</td>\n",
                            "      <td>False</td>\n",
                            "      <td>False</td>\n",
                            "      <td>False</td>\n",
                            "      <td>False</td>\n",
                            "      <td>False</td>\n",
                            "      <td>False</td>\n",
                            "      <td>False</td>\n",
                            "      <td>False</td>\n",
                            "      <td>False</td>\n",
                            "      <td>False</td>\n",
                            "      <td>False</td>\n",
                            "      <td>False</td>\n",
                            "      <td>False</td>\n",
                            "      <td>False</td>\n",
                            "      <td>False</td>\n",
                            "      <td>False</td>\n",
                            "      <td>False</td>\n",
                            "      <td>False</td>\n",
                            "      <td>False</td>\n",
                            "      <td>False</td>\n",
                            "      <td>False</td>\n",
                            "    </tr>\n",
                            "    <tr>\n",
                            "      <th>A4GALT</th>\n",
                            "      <td>False</td>\n",
                            "      <td>False</td>\n",
                            "      <td>False</td>\n",
                            "      <td>False</td>\n",
                            "      <td>False</td>\n",
                            "      <td>False</td>\n",
                            "      <td>False</td>\n",
                            "      <td>False</td>\n",
                            "      <td>False</td>\n",
                            "      <td>False</td>\n",
                            "      <td>False</td>\n",
                            "      <td>False</td>\n",
                            "      <td>False</td>\n",
                            "      <td>False</td>\n",
                            "      <td>False</td>\n",
                            "      <td>False</td>\n",
                            "      <td>False</td>\n",
                            "      <td>False</td>\n",
                            "      <td>False</td>\n",
                            "      <td>False</td>\n",
                            "      <td>False</td>\n",
                            "      <td>False</td>\n",
                            "      <td>False</td>\n",
                            "      <td>False</td>\n",
                            "      <td>False</td>\n",
                            "      <td>False</td>\n",
                            "      <td>False</td>\n",
                            "      <td>False</td>\n",
                            "      <td>False</td>\n",
                            "      <td>False</td>\n",
                            "      <td>False</td>\n",
                            "      <td>False</td>\n",
                            "      <td>False</td>\n",
                            "      <td>False</td>\n",
                            "      <td>False</td>\n",
                            "      <td>False</td>\n",
                            "      <td>False</td>\n",
                            "      <td>False</td>\n",
                            "      <td>False</td>\n",
                            "      <td>False</td>\n",
                            "      <td>...</td>\n",
                            "      <td>False</td>\n",
                            "      <td>False</td>\n",
                            "      <td>False</td>\n",
                            "      <td>False</td>\n",
                            "      <td>False</td>\n",
                            "      <td>False</td>\n",
                            "      <td>False</td>\n",
                            "      <td>False</td>\n",
                            "      <td>False</td>\n",
                            "      <td>False</td>\n",
                            "      <td>False</td>\n",
                            "      <td>False</td>\n",
                            "      <td>False</td>\n",
                            "      <td>False</td>\n",
                            "      <td>False</td>\n",
                            "      <td>False</td>\n",
                            "      <td>False</td>\n",
                            "      <td>False</td>\n",
                            "      <td>False</td>\n",
                            "      <td>False</td>\n",
                            "      <td>False</td>\n",
                            "      <td>False</td>\n",
                            "      <td>False</td>\n",
                            "      <td>False</td>\n",
                            "      <td>False</td>\n",
                            "      <td>False</td>\n",
                            "      <td>False</td>\n",
                            "      <td>False</td>\n",
                            "      <td>False</td>\n",
                            "      <td>False</td>\n",
                            "      <td>False</td>\n",
                            "      <td>False</td>\n",
                            "      <td>False</td>\n",
                            "      <td>False</td>\n",
                            "      <td>False</td>\n",
                            "      <td>False</td>\n",
                            "      <td>False</td>\n",
                            "      <td>False</td>\n",
                            "      <td>False</td>\n",
                            "      <td>False</td>\n",
                            "    </tr>\n",
                            "    <tr>\n",
                            "      <th>AARSD1</th>\n",
                            "      <td>False</td>\n",
                            "      <td>False</td>\n",
                            "      <td>False</td>\n",
                            "      <td>False</td>\n",
                            "      <td>False</td>\n",
                            "      <td>False</td>\n",
                            "      <td>False</td>\n",
                            "      <td>False</td>\n",
                            "      <td>False</td>\n",
                            "      <td>False</td>\n",
                            "      <td>False</td>\n",
                            "      <td>False</td>\n",
                            "      <td>False</td>\n",
                            "      <td>False</td>\n",
                            "      <td>False</td>\n",
                            "      <td>False</td>\n",
                            "      <td>False</td>\n",
                            "      <td>False</td>\n",
                            "      <td>False</td>\n",
                            "      <td>False</td>\n",
                            "      <td>False</td>\n",
                            "      <td>False</td>\n",
                            "      <td>False</td>\n",
                            "      <td>False</td>\n",
                            "      <td>False</td>\n",
                            "      <td>False</td>\n",
                            "      <td>False</td>\n",
                            "      <td>False</td>\n",
                            "      <td>False</td>\n",
                            "      <td>False</td>\n",
                            "      <td>False</td>\n",
                            "      <td>False</td>\n",
                            "      <td>False</td>\n",
                            "      <td>False</td>\n",
                            "      <td>False</td>\n",
                            "      <td>False</td>\n",
                            "      <td>False</td>\n",
                            "      <td>False</td>\n",
                            "      <td>False</td>\n",
                            "      <td>False</td>\n",
                            "      <td>...</td>\n",
                            "      <td>False</td>\n",
                            "      <td>False</td>\n",
                            "      <td>False</td>\n",
                            "      <td>False</td>\n",
                            "      <td>False</td>\n",
                            "      <td>False</td>\n",
                            "      <td>False</td>\n",
                            "      <td>False</td>\n",
                            "      <td>False</td>\n",
                            "      <td>False</td>\n",
                            "      <td>False</td>\n",
                            "      <td>False</td>\n",
                            "      <td>False</td>\n",
                            "      <td>False</td>\n",
                            "      <td>False</td>\n",
                            "      <td>False</td>\n",
                            "      <td>False</td>\n",
                            "      <td>False</td>\n",
                            "      <td>False</td>\n",
                            "      <td>False</td>\n",
                            "      <td>False</td>\n",
                            "      <td>False</td>\n",
                            "      <td>False</td>\n",
                            "      <td>False</td>\n",
                            "      <td>False</td>\n",
                            "      <td>False</td>\n",
                            "      <td>False</td>\n",
                            "      <td>False</td>\n",
                            "      <td>False</td>\n",
                            "      <td>False</td>\n",
                            "      <td>False</td>\n",
                            "      <td>False</td>\n",
                            "      <td>False</td>\n",
                            "      <td>False</td>\n",
                            "      <td>False</td>\n",
                            "      <td>False</td>\n",
                            "      <td>False</td>\n",
                            "      <td>False</td>\n",
                            "      <td>False</td>\n",
                            "      <td>False</td>\n",
                            "    </tr>\n",
                            "    <tr>\n",
                            "      <th>AASS</th>\n",
                            "      <td>False</td>\n",
                            "      <td>False</td>\n",
                            "      <td>False</td>\n",
                            "      <td>False</td>\n",
                            "      <td>False</td>\n",
                            "      <td>False</td>\n",
                            "      <td>False</td>\n",
                            "      <td>False</td>\n",
                            "      <td>False</td>\n",
                            "      <td>False</td>\n",
                            "      <td>False</td>\n",
                            "      <td>False</td>\n",
                            "      <td>False</td>\n",
                            "      <td>False</td>\n",
                            "      <td>False</td>\n",
                            "      <td>False</td>\n",
                            "      <td>False</td>\n",
                            "      <td>False</td>\n",
                            "      <td>False</td>\n",
                            "      <td>False</td>\n",
                            "      <td>False</td>\n",
                            "      <td>False</td>\n",
                            "      <td>False</td>\n",
                            "      <td>False</td>\n",
                            "      <td>False</td>\n",
                            "      <td>False</td>\n",
                            "      <td>False</td>\n",
                            "      <td>False</td>\n",
                            "      <td>False</td>\n",
                            "      <td>False</td>\n",
                            "      <td>False</td>\n",
                            "      <td>False</td>\n",
                            "      <td>False</td>\n",
                            "      <td>False</td>\n",
                            "      <td>False</td>\n",
                            "      <td>False</td>\n",
                            "      <td>False</td>\n",
                            "      <td>False</td>\n",
                            "      <td>False</td>\n",
                            "      <td>False</td>\n",
                            "      <td>...</td>\n",
                            "      <td>False</td>\n",
                            "      <td>False</td>\n",
                            "      <td>False</td>\n",
                            "      <td>False</td>\n",
                            "      <td>False</td>\n",
                            "      <td>False</td>\n",
                            "      <td>False</td>\n",
                            "      <td>False</td>\n",
                            "      <td>False</td>\n",
                            "      <td>False</td>\n",
                            "      <td>False</td>\n",
                            "      <td>False</td>\n",
                            "      <td>False</td>\n",
                            "      <td>False</td>\n",
                            "      <td>False</td>\n",
                            "      <td>False</td>\n",
                            "      <td>False</td>\n",
                            "      <td>False</td>\n",
                            "      <td>False</td>\n",
                            "      <td>False</td>\n",
                            "      <td>False</td>\n",
                            "      <td>False</td>\n",
                            "      <td>False</td>\n",
                            "      <td>False</td>\n",
                            "      <td>False</td>\n",
                            "      <td>False</td>\n",
                            "      <td>False</td>\n",
                            "      <td>False</td>\n",
                            "      <td>False</td>\n",
                            "      <td>False</td>\n",
                            "      <td>False</td>\n",
                            "      <td>False</td>\n",
                            "      <td>False</td>\n",
                            "      <td>False</td>\n",
                            "      <td>False</td>\n",
                            "      <td>False</td>\n",
                            "      <td>False</td>\n",
                            "      <td>False</td>\n",
                            "      <td>False</td>\n",
                            "      <td>False</td>\n",
                            "    </tr>\n",
                            "    <tr>\n",
                            "      <th>AATK</th>\n",
                            "      <td>False</td>\n",
                            "      <td>False</td>\n",
                            "      <td>False</td>\n",
                            "      <td>False</td>\n",
                            "      <td>False</td>\n",
                            "      <td>False</td>\n",
                            "      <td>False</td>\n",
                            "      <td>False</td>\n",
                            "      <td>False</td>\n",
                            "      <td>False</td>\n",
                            "      <td>False</td>\n",
                            "      <td>False</td>\n",
                            "      <td>False</td>\n",
                            "      <td>False</td>\n",
                            "      <td>False</td>\n",
                            "      <td>False</td>\n",
                            "      <td>False</td>\n",
                            "      <td>False</td>\n",
                            "      <td>False</td>\n",
                            "      <td>False</td>\n",
                            "      <td>False</td>\n",
                            "      <td>False</td>\n",
                            "      <td>False</td>\n",
                            "      <td>False</td>\n",
                            "      <td>False</td>\n",
                            "      <td>False</td>\n",
                            "      <td>False</td>\n",
                            "      <td>False</td>\n",
                            "      <td>False</td>\n",
                            "      <td>False</td>\n",
                            "      <td>False</td>\n",
                            "      <td>False</td>\n",
                            "      <td>False</td>\n",
                            "      <td>False</td>\n",
                            "      <td>False</td>\n",
                            "      <td>False</td>\n",
                            "      <td>False</td>\n",
                            "      <td>False</td>\n",
                            "      <td>False</td>\n",
                            "      <td>False</td>\n",
                            "      <td>...</td>\n",
                            "      <td>False</td>\n",
                            "      <td>False</td>\n",
                            "      <td>False</td>\n",
                            "      <td>False</td>\n",
                            "      <td>False</td>\n",
                            "      <td>False</td>\n",
                            "      <td>False</td>\n",
                            "      <td>False</td>\n",
                            "      <td>False</td>\n",
                            "      <td>False</td>\n",
                            "      <td>False</td>\n",
                            "      <td>False</td>\n",
                            "      <td>False</td>\n",
                            "      <td>False</td>\n",
                            "      <td>False</td>\n",
                            "      <td>False</td>\n",
                            "      <td>False</td>\n",
                            "      <td>False</td>\n",
                            "      <td>False</td>\n",
                            "      <td>False</td>\n",
                            "      <td>False</td>\n",
                            "      <td>False</td>\n",
                            "      <td>False</td>\n",
                            "      <td>False</td>\n",
                            "      <td>False</td>\n",
                            "      <td>False</td>\n",
                            "      <td>False</td>\n",
                            "      <td>False</td>\n",
                            "      <td>False</td>\n",
                            "      <td>False</td>\n",
                            "      <td>False</td>\n",
                            "      <td>False</td>\n",
                            "      <td>False</td>\n",
                            "      <td>False</td>\n",
                            "      <td>False</td>\n",
                            "      <td>False</td>\n",
                            "      <td>False</td>\n",
                            "      <td>False</td>\n",
                            "      <td>False</td>\n",
                            "      <td>False</td>\n",
                            "    </tr>\n",
                            "  </tbody>\n",
                            "</table>\n",
                            "<p>5 rows \u00d7 661 columns</p>\n",
                            "</div>"
                        ],
                        "text/plain": [
                            "        Binds capsid  ...  utilizes Envelope surface glycoprotein gp120\n",
                            "A2M            False  ...                                         False\n",
                            "A4GALT         False  ...                                         False\n",
                            "AARSD1         False  ...                                         False\n",
                            "AASS           False  ...                                         False\n",
                            "AATK           False  ...                                         False\n",
                            "\n",
                            "[5 rows x 661 columns]"
                        ]
                    },
                    "execution_count": 85,
                    "metadata": {
                        "tags": []
                    },
                    "output_type": "execute_result"
                }
            ],
            "source": [
                "binary_matrix = uf.createBinaryMatrix(df)\n",
                "binary_matrix.head()"
            ]
        },
        {
            "cell_type": "code",
            "execution_count": 86,
            "metadata": {
                "colab": {
                    "base_uri": "https://localhost:8080/",
                    "height": 34
                },
                "colab_type": "code",
                "executionInfo": {
                    "elapsed": 1409,
                    "status": "ok",
                    "timestamp": 1592798337362,
                    "user": {
                        "displayName": "Charles Dai",
                        "photoUrl": "https://lh3.googleusercontent.com/-oV6qD-pUdfY/AAAAAAAAAAI/AAAAAAAAB88/6T4c3GGp6bA/s64/photo.jpg",
                        "userId": "03185553652583704748"
                    },
                    "user_tz": 240
                },
                "id": "Vo64RCeGE6hS",
                "outputId": "42d61de4-879d-44a6-c2f7-79629ea319c4"
            },
            "outputs": [
                {
                    "data": {
                        "text/plain": [
                            "(4457, 661)"
                        ]
                    },
                    "execution_count": 86,
                    "metadata": {
                        "tags": []
                    },
                    "output_type": "execute_result"
                }
            ],
            "source": [
                "binary_matrix.shape"
            ]
        },
        {
            "cell_type": "code",
            "execution_count": 87,
            "metadata": {
                "colab": {},
                "colab_type": "code",
                "executionInfo": {
                    "elapsed": 1552,
                    "status": "ok",
                    "timestamp": 1592798337513,
                    "user": {
                        "displayName": "Charles Dai",
                        "photoUrl": "https://lh3.googleusercontent.com/-oV6qD-pUdfY/AAAAAAAAAAI/AAAAAAAAB88/6T4c3GGp6bA/s64/photo.jpg",
                        "userId": "03185553652583704748"
                    },
                    "user_tz": 240
                },
                "id": "nRgI5hT0E6hW"
            },
            "outputs": [],
            "source": [
                "uf.saveData(binary_matrix, path, output_name + '_binary_matrix', \n",
                "            compression='npz', dtype=np.uint8)"
            ]
        },
        {
            "cell_type": "markdown",
            "metadata": {
                "colab_type": "text",
                "id": "rcG9ebZeE6ha"
            },
            "source": [
                " ## Create Gene List"
            ]
        },
        {
            "cell_type": "code",
            "execution_count": 88,
            "metadata": {
                "colab": {
                    "base_uri": "https://localhost:8080/",
                    "height": 221
                },
                "colab_type": "code",
                "executionInfo": {
                    "elapsed": 1749,
                    "status": "ok",
                    "timestamp": 1592798337713,
                    "user": {
                        "displayName": "Charles Dai",
                        "photoUrl": "https://lh3.googleusercontent.com/-oV6qD-pUdfY/AAAAAAAAAAI/AAAAAAAAB88/6T4c3GGp6bA/s64/photo.jpg",
                        "userId": "03185553652583704748"
                    },
                    "user_tz": 240
                },
                "id": "jQoRTbmeE6ha",
                "outputId": "b5e4764f-96c7-4a1e-b499-1c87a5b75d6b"
            },
            "outputs": [
                {
                    "name": "stderr",
                    "output_type": "stream",
                    "text": [
                        "100%|\u2588\u2588\u2588\u2588\u2588\u2588\u2588\u2588\u2588\u2588| 4457/4457 [00:00<00:00, 227989.67it/s]\n"
                    ]
                },
                {
                    "data": {
                        "text/html": [
                            "<div>\n",
                            "<style scoped>\n",
                            "    .dataframe tbody tr th:only-of-type {\n",
                            "        vertical-align: middle;\n",
                            "    }\n",
                            "\n",
                            "    .dataframe tbody tr th {\n",
                            "        vertical-align: top;\n",
                            "    }\n",
                            "\n",
                            "    .dataframe thead th {\n",
                            "        text-align: right;\n",
                            "    }\n",
                            "</style>\n",
                            "<table border=\"1\" class=\"dataframe\">\n",
                            "  <thead>\n",
                            "    <tr style=\"text-align: right;\">\n",
                            "      <th></th>\n",
                            "      <th>GeneSym</th>\n",
                            "      <th>GeneID</th>\n",
                            "    </tr>\n",
                            "  </thead>\n",
                            "  <tbody>\n",
                            "    <tr>\n",
                            "      <th>0</th>\n",
                            "      <td>A2M</td>\n",
                            "      <td>2</td>\n",
                            "    </tr>\n",
                            "    <tr>\n",
                            "      <th>1</th>\n",
                            "      <td>A4GALT</td>\n",
                            "      <td>53947</td>\n",
                            "    </tr>\n",
                            "    <tr>\n",
                            "      <th>2</th>\n",
                            "      <td>AARSD1</td>\n",
                            "      <td>80755</td>\n",
                            "    </tr>\n",
                            "    <tr>\n",
                            "      <th>3</th>\n",
                            "      <td>AASS</td>\n",
                            "      <td>10157</td>\n",
                            "    </tr>\n",
                            "    <tr>\n",
                            "      <th>4</th>\n",
                            "      <td>AATK</td>\n",
                            "      <td>9625</td>\n",
                            "    </tr>\n",
                            "  </tbody>\n",
                            "</table>\n",
                            "</div>"
                        ],
                        "text/plain": [
                            "  GeneSym  GeneID\n",
                            "0     A2M       2\n",
                            "1  A4GALT   53947\n",
                            "2  AARSD1   80755\n",
                            "3    AASS   10157\n",
                            "4    AATK    9625"
                        ]
                    },
                    "execution_count": 88,
                    "metadata": {
                        "tags": []
                    },
                    "output_type": "execute_result"
                }
            ],
            "source": [
                "gene_list = uf.createGeneList(binary_matrix, geneid_lookup)\n",
                "gene_list.head()"
            ]
        },
        {
            "cell_type": "code",
            "execution_count": 89,
            "metadata": {
                "colab": {
                    "base_uri": "https://localhost:8080/",
                    "height": 34
                },
                "colab_type": "code",
                "executionInfo": {
                    "elapsed": 1743,
                    "status": "ok",
                    "timestamp": 1592798337714,
                    "user": {
                        "displayName": "Charles Dai",
                        "photoUrl": "https://lh3.googleusercontent.com/-oV6qD-pUdfY/AAAAAAAAAAI/AAAAAAAAB88/6T4c3GGp6bA/s64/photo.jpg",
                        "userId": "03185553652583704748"
                    },
                    "user_tz": 240
                },
                "id": "4WqNcNxFE6hf",
                "outputId": "64586f8b-af0b-47cc-d175-cce188f2900d"
            },
            "outputs": [
                {
                    "data": {
                        "text/plain": [
                            "(4457, 2)"
                        ]
                    },
                    "execution_count": 89,
                    "metadata": {
                        "tags": []
                    },
                    "output_type": "execute_result"
                }
            ],
            "source": [
                "gene_list.shape"
            ]
        },
        {
            "cell_type": "code",
            "execution_count": 90,
            "metadata": {
                "colab": {},
                "colab_type": "code",
                "executionInfo": {
                    "elapsed": 1738,
                    "status": "ok",
                    "timestamp": 1592798337715,
                    "user": {
                        "displayName": "Charles Dai",
                        "photoUrl": "https://lh3.googleusercontent.com/-oV6qD-pUdfY/AAAAAAAAAAI/AAAAAAAAB88/6T4c3GGp6bA/s64/photo.jpg",
                        "userId": "03185553652583704748"
                    },
                    "user_tz": 240
                },
                "id": "a7Ksn2jeE6hj"
            },
            "outputs": [],
            "source": [
                "uf.saveData(gene_list, path, output_name + '_gene_list',\n",
                "            ext='tsv', compression='gzip', index=False)"
            ]
        },
        {
            "cell_type": "markdown",
            "metadata": {
                "colab_type": "text",
                "id": "S7p5VOOQE6ho"
            },
            "source": [
                " ## Create Attribute List"
            ]
        },
        {
            "cell_type": "code",
            "execution_count": 91,
            "metadata": {
                "colab": {
                    "base_uri": "https://localhost:8080/",
                    "height": 218
                },
                "colab_type": "code",
                "executionInfo": {
                    "elapsed": 1733,
                    "status": "ok",
                    "timestamp": 1592798337715,
                    "user": {
                        "displayName": "Charles Dai",
                        "photoUrl": "https://lh3.googleusercontent.com/-oV6qD-pUdfY/AAAAAAAAAAI/AAAAAAAAB88/6T4c3GGp6bA/s64/photo.jpg",
                        "userId": "03185553652583704748"
                    },
                    "user_tz": 240
                },
                "id": "jrRxy4ZJE6ho",
                "outputId": "cdb622fb-7335-4c3c-d83d-fe75102d19a8"
            },
            "outputs": [
                {
                    "data": {
                        "text/html": [
                            "<div>\n",
                            "<style scoped>\n",
                            "    .dataframe tbody tr th:only-of-type {\n",
                            "        vertical-align: middle;\n",
                            "    }\n",
                            "\n",
                            "    .dataframe tbody tr th {\n",
                            "        vertical-align: top;\n",
                            "    }\n",
                            "\n",
                            "    .dataframe thead th {\n",
                            "        text-align: right;\n",
                            "    }\n",
                            "</style>\n",
                            "<table border=\"1\" class=\"dataframe\">\n",
                            "  <thead>\n",
                            "    <tr style=\"text-align: right;\">\n",
                            "      <th></th>\n",
                            "    </tr>\n",
                            "    <tr>\n",
                            "      <th>Attributes</th>\n",
                            "    </tr>\n",
                            "  </thead>\n",
                            "  <tbody>\n",
                            "    <tr>\n",
                            "      <th>Binds capsid</th>\n",
                            "    </tr>\n",
                            "    <tr>\n",
                            "      <th>DOES NOT bind mutant capsid</th>\n",
                            "    </tr>\n",
                            "    <tr>\n",
                            "      <th>DOES NOT bind mutant nucleocapsid</th>\n",
                            "    </tr>\n",
                            "    <tr>\n",
                            "      <th>Inhibits Nef</th>\n",
                            "    </tr>\n",
                            "    <tr>\n",
                            "      <th>abrogated by Vpr</th>\n",
                            "    </tr>\n",
                            "  </tbody>\n",
                            "</table>\n",
                            "</div>"
                        ],
                        "text/plain": [
                            "Empty DataFrame\n",
                            "Columns: []\n",
                            "Index: [Binds capsid, DOES NOT bind mutant capsid, DOES NOT bind mutant nucleocapsid, Inhibits Nef, abrogated by Vpr]"
                        ]
                    },
                    "execution_count": 91,
                    "metadata": {
                        "tags": []
                    },
                    "output_type": "execute_result"
                }
            ],
            "source": [
                "attribute_list = uf.createAttributeList(binary_matrix)\n",
                "attribute_list.head()"
            ]
        },
        {
            "cell_type": "code",
            "execution_count": 92,
            "metadata": {
                "colab": {
                    "base_uri": "https://localhost:8080/",
                    "height": 34
                },
                "colab_type": "code",
                "executionInfo": {
                    "elapsed": 1726,
                    "status": "ok",
                    "timestamp": 1592798337716,
                    "user": {
                        "displayName": "Charles Dai",
                        "photoUrl": "https://lh3.googleusercontent.com/-oV6qD-pUdfY/AAAAAAAAAAI/AAAAAAAAB88/6T4c3GGp6bA/s64/photo.jpg",
                        "userId": "03185553652583704748"
                    },
                    "user_tz": 240
                },
                "id": "z87AiR9CE6hr",
                "outputId": "0ab78479-eaf9-4cb5-ed2b-ec8c89ea5c03"
            },
            "outputs": [
                {
                    "data": {
                        "text/plain": [
                            "(661, 0)"
                        ]
                    },
                    "execution_count": 92,
                    "metadata": {
                        "tags": []
                    },
                    "output_type": "execute_result"
                }
            ],
            "source": [
                "attribute_list.shape"
            ]
        },
        {
            "cell_type": "code",
            "execution_count": 93,
            "metadata": {
                "colab": {},
                "colab_type": "code",
                "executionInfo": {
                    "elapsed": 1719,
                    "status": "ok",
                    "timestamp": 1592798337717,
                    "user": {
                        "displayName": "Charles Dai",
                        "photoUrl": "https://lh3.googleusercontent.com/-oV6qD-pUdfY/AAAAAAAAAAI/AAAAAAAAB88/6T4c3GGp6bA/s64/photo.jpg",
                        "userId": "03185553652583704748"
                    },
                    "user_tz": 240
                },
                "id": "m5wnwstSE6hu"
            },
            "outputs": [],
            "source": [
                "uf.saveData(attribute_list, path, output_name + '_attribute_list',\n",
                "            ext='tsv', compression='gzip')"
            ]
        },
        {
            "cell_type": "markdown",
            "metadata": {
                "colab_type": "text",
                "id": "ejZkQxpEE6hw"
            },
            "source": [
                " ## Create Gene and Attribute Set Libraries"
            ]
        },
        {
            "cell_type": "code",
            "execution_count": 94,
            "metadata": {
                "colab": {
                    "base_uri": "https://localhost:8080/",
                    "height": 34
                },
                "colab_type": "code",
                "executionInfo": {
                    "elapsed": 1923,
                    "status": "ok",
                    "timestamp": 1592798337927,
                    "user": {
                        "displayName": "Charles Dai",
                        "photoUrl": "https://lh3.googleusercontent.com/-oV6qD-pUdfY/AAAAAAAAAAI/AAAAAAAAB88/6T4c3GGp6bA/s64/photo.jpg",
                        "userId": "03185553652583704748"
                    },
                    "user_tz": 240
                },
                "id": "10muLhkJE6hx",
                "outputId": "8d397b23-7ce2-4158-f620-00bcd7cbcd65"
            },
            "outputs": [
                {
                    "name": "stderr",
                    "output_type": "stream",
                    "text": [
                        "100%|\u2588\u2588\u2588\u2588\u2588\u2588\u2588\u2588\u2588\u2588| 264/264 [00:00<00:00, 12892.03it/s]\n"
                    ]
                }
            ],
            "source": [
                "uf.createUpGeneSetLib(binary_matrix, path, output_name + '_gene_up_set')"
            ]
        },
        {
            "cell_type": "code",
            "execution_count": 95,
            "metadata": {
                "colab": {
                    "base_uri": "https://localhost:8080/",
                    "height": 34
                },
                "colab_type": "code",
                "executionInfo": {
                    "elapsed": 3468,
                    "status": "ok",
                    "timestamp": 1592798339480,
                    "user": {
                        "displayName": "Charles Dai",
                        "photoUrl": "https://lh3.googleusercontent.com/-oV6qD-pUdfY/AAAAAAAAAAI/AAAAAAAAB88/6T4c3GGp6bA/s64/photo.jpg",
                        "userId": "03185553652583704748"
                    },
                    "user_tz": 240
                },
                "id": "YkPocMA9E6hy",
                "outputId": "820fce05-3f10-4776-86d2-b4afca88a6fa"
            },
            "outputs": [
                {
                    "name": "stderr",
                    "output_type": "stream",
                    "text": [
                        "100%|\u2588\u2588\u2588\u2588\u2588\u2588\u2588\u2588\u2588\u2588| 4457/4457 [00:00<00:00, 22384.37it/s]\n"
                    ]
                }
            ],
            "source": [
                "uf.createUpAttributeSetLib(binary_matrix, path, \n",
                "                           output_name + '_attribute_up_set')"
            ]
        },
        {
            "cell_type": "markdown",
            "metadata": {
                "colab_type": "text",
                "id": "EzW_fJDVE6h0"
            },
            "source": [
                " ## Create Attribute Similarity Matrix"
            ]
        },
        {
            "cell_type": "code",
            "execution_count": 96,
            "metadata": {
                "colab": {
                    "base_uri": "https://localhost:8080/",
                    "height": 423
                },
                "colab_type": "code",
                "executionInfo": {
                    "elapsed": 4880,
                    "status": "ok",
                    "timestamp": 1592798340902,
                    "user": {
                        "displayName": "Charles Dai",
                        "photoUrl": "https://lh3.googleusercontent.com/-oV6qD-pUdfY/AAAAAAAAAAI/AAAAAAAAB88/6T4c3GGp6bA/s64/photo.jpg",
                        "userId": "03185553652583704748"
                    },
                    "user_tz": 240
                },
                "id": "rVHrYVJWE6h0",
                "outputId": "5862e8d5-6a41-4fd7-8e91-1d64a0b3295d"
            },
            "outputs": [
                {
                    "data": {
                        "text/html": [
                            "<div>\n",
                            "<style scoped>\n",
                            "    .dataframe tbody tr th:only-of-type {\n",
                            "        vertical-align: middle;\n",
                            "    }\n",
                            "\n",
                            "    .dataframe tbody tr th {\n",
                            "        vertical-align: top;\n",
                            "    }\n",
                            "\n",
                            "    .dataframe thead th {\n",
                            "        text-align: right;\n",
                            "    }\n",
                            "</style>\n",
                            "<table border=\"1\" class=\"dataframe\">\n",
                            "  <thead>\n",
                            "    <tr style=\"text-align: right;\">\n",
                            "      <th></th>\n",
                            "      <th>Binds capsid</th>\n",
                            "      <th>DOES NOT bind mutant capsid</th>\n",
                            "      <th>DOES NOT bind mutant nucleocapsid</th>\n",
                            "      <th>Inhibits Nef</th>\n",
                            "      <th>abrogated by Vpr</th>\n",
                            "      <th>abrogates Vpr</th>\n",
                            "      <th>acetylated by Tat</th>\n",
                            "      <th>acetylated by integrase</th>\n",
                            "      <th>acetylates Tat</th>\n",
                            "      <th>activated by Envelope surface glycoprotein gp120</th>\n",
                            "      <th>activated by Human immunodeficiency virus 1, complete genome</th>\n",
                            "      <th>activated by Tat</th>\n",
                            "      <th>activated by Vpr</th>\n",
                            "      <th>activated by capsid</th>\n",
                            "      <th>activated by integrase</th>\n",
                            "      <th>activated by retropepsin</th>\n",
                            "      <th>activates Envelope surface glycoprotein gp120</th>\n",
                            "      <th>activates Envelope surface glycoprotein gp160, precursor</th>\n",
                            "      <th>activates Envelope transmembrane glycoprotein gp41</th>\n",
                            "      <th>activates Human immunodeficiency virus 1, complete genome</th>\n",
                            "      <th>activates Nef</th>\n",
                            "      <th>activates Pr55(Gag)</th>\n",
                            "      <th>activates Rev</th>\n",
                            "      <th>activates Tat</th>\n",
                            "      <th>activates Vpr</th>\n",
                            "      <th>activates Vpu</th>\n",
                            "      <th>activates matrix</th>\n",
                            "      <th>activates nucleocapsid</th>\n",
                            "      <th>activates retropepsin</th>\n",
                            "      <th>activates reverse transcriptase</th>\n",
                            "      <th>affected by Human immunodeficiency virus 1, complete genome</th>\n",
                            "      <th>affected by Nef</th>\n",
                            "      <th>affected by Pr55(Gag)</th>\n",
                            "      <th>affected by Tat</th>\n",
                            "      <th>affects Pr55(Gag)</th>\n",
                            "      <th>affects Vpr</th>\n",
                            "      <th>affects capsid</th>\n",
                            "      <th>antagonizes Envelope transmembrane glycoprotein gp41</th>\n",
                            "      <th>antagonizes Nef</th>\n",
                            "      <th>antagonizes Vif</th>\n",
                            "      <th>...</th>\n",
                            "      <th>suppresses Vpu</th>\n",
                            "      <th>synergizes with Nef</th>\n",
                            "      <th>synergizes with Rev</th>\n",
                            "      <th>synergizes with Tat</th>\n",
                            "      <th>targets Vpr</th>\n",
                            "      <th>ubiquitinated by Pr55(Gag)</th>\n",
                            "      <th>ubiquitinated by Rev</th>\n",
                            "      <th>ubiquitinated by Tat</th>\n",
                            "      <th>ubiquitinated by capsid</th>\n",
                            "      <th>ubiquitinated by matrix</th>\n",
                            "      <th>ubiquitinated by nucleocapsid</th>\n",
                            "      <th>ubiquitinated by p1</th>\n",
                            "      <th>ubiquitinated by p6</th>\n",
                            "      <th>ubiquitinates Vpu</th>\n",
                            "      <th>upregulated by Asp</th>\n",
                            "      <th>upregulated by Envelope surface glycoprotein gp120</th>\n",
                            "      <th>upregulated by Envelope surface glycoprotein gp160, precursor</th>\n",
                            "      <th>upregulated by Nef</th>\n",
                            "      <th>upregulated by Pr55(Gag)</th>\n",
                            "      <th>upregulated by Rev</th>\n",
                            "      <th>upregulated by Tat</th>\n",
                            "      <th>upregulated by capsid</th>\n",
                            "      <th>upregulates Asp</th>\n",
                            "      <th>upregulates Envelope surface glycoprotein gp120</th>\n",
                            "      <th>upregulates Envelope surface glycoprotein gp160, precursor</th>\n",
                            "      <th>upregulates Envelope transmembrane glycoprotein gp41</th>\n",
                            "      <th>upregulates Gag-Pol</th>\n",
                            "      <th>upregulates Human immunodeficiency virus 1, complete genome</th>\n",
                            "      <th>upregulates Nef</th>\n",
                            "      <th>upregulates Pr55(Gag)</th>\n",
                            "      <th>upregulates Tat</th>\n",
                            "      <th>upregulates Vif</th>\n",
                            "      <th>upregulates Vpr</th>\n",
                            "      <th>upregulates Vpu</th>\n",
                            "      <th>upregulates capsid</th>\n",
                            "      <th>upregulates integrase</th>\n",
                            "      <th>upregulates matrix</th>\n",
                            "      <th>upregulates nucleocapsid</th>\n",
                            "      <th>upregulates reverse transcriptase</th>\n",
                            "      <th>utilizes Envelope surface glycoprotein gp120</th>\n",
                            "    </tr>\n",
                            "  </thead>\n",
                            "  <tbody>\n",
                            "    <tr>\n",
                            "      <th>Binds capsid</th>\n",
                            "      <td>1.0</td>\n",
                            "      <td>1.0</td>\n",
                            "      <td>1.0</td>\n",
                            "      <td>0.0</td>\n",
                            "      <td>0.0</td>\n",
                            "      <td>0.0</td>\n",
                            "      <td>0.0</td>\n",
                            "      <td>0.0</td>\n",
                            "      <td>0.0</td>\n",
                            "      <td>0.0</td>\n",
                            "      <td>0.0</td>\n",
                            "      <td>0.0</td>\n",
                            "      <td>0.0</td>\n",
                            "      <td>0.0</td>\n",
                            "      <td>0.0</td>\n",
                            "      <td>0.0</td>\n",
                            "      <td>0.0</td>\n",
                            "      <td>0.0</td>\n",
                            "      <td>0.0</td>\n",
                            "      <td>0.0</td>\n",
                            "      <td>0.000000</td>\n",
                            "      <td>0.0</td>\n",
                            "      <td>0.0</td>\n",
                            "      <td>0.0</td>\n",
                            "      <td>0.0</td>\n",
                            "      <td>0.0</td>\n",
                            "      <td>0.0</td>\n",
                            "      <td>0.0</td>\n",
                            "      <td>0.0</td>\n",
                            "      <td>0.0</td>\n",
                            "      <td>0.0</td>\n",
                            "      <td>0.0</td>\n",
                            "      <td>0.0</td>\n",
                            "      <td>0.0</td>\n",
                            "      <td>0.0</td>\n",
                            "      <td>0.0</td>\n",
                            "      <td>0.0</td>\n",
                            "      <td>0.0</td>\n",
                            "      <td>0.0</td>\n",
                            "      <td>0.0</td>\n",
                            "      <td>...</td>\n",
                            "      <td>0.0</td>\n",
                            "      <td>0.0</td>\n",
                            "      <td>0.0</td>\n",
                            "      <td>0.0</td>\n",
                            "      <td>0.0</td>\n",
                            "      <td>0.0</td>\n",
                            "      <td>0.0</td>\n",
                            "      <td>0.0</td>\n",
                            "      <td>0.0</td>\n",
                            "      <td>0.0</td>\n",
                            "      <td>0.0</td>\n",
                            "      <td>0.0</td>\n",
                            "      <td>0.0</td>\n",
                            "      <td>0.0</td>\n",
                            "      <td>0.0</td>\n",
                            "      <td>0.0</td>\n",
                            "      <td>0.000000</td>\n",
                            "      <td>0.0</td>\n",
                            "      <td>0.0</td>\n",
                            "      <td>0.0</td>\n",
                            "      <td>0.0</td>\n",
                            "      <td>0.0</td>\n",
                            "      <td>0.0</td>\n",
                            "      <td>0.003106</td>\n",
                            "      <td>0.0</td>\n",
                            "      <td>0.000000</td>\n",
                            "      <td>0.0</td>\n",
                            "      <td>0.021277</td>\n",
                            "      <td>0.0</td>\n",
                            "      <td>0.000000</td>\n",
                            "      <td>0.000000</td>\n",
                            "      <td>0.0</td>\n",
                            "      <td>0.00495</td>\n",
                            "      <td>0.0</td>\n",
                            "      <td>0.0</td>\n",
                            "      <td>0.0</td>\n",
                            "      <td>0.0</td>\n",
                            "      <td>0.0</td>\n",
                            "      <td>0.0</td>\n",
                            "      <td>0.0</td>\n",
                            "    </tr>\n",
                            "    <tr>\n",
                            "      <th>DOES NOT bind mutant capsid</th>\n",
                            "      <td>1.0</td>\n",
                            "      <td>1.0</td>\n",
                            "      <td>1.0</td>\n",
                            "      <td>0.0</td>\n",
                            "      <td>0.0</td>\n",
                            "      <td>0.0</td>\n",
                            "      <td>0.0</td>\n",
                            "      <td>0.0</td>\n",
                            "      <td>0.0</td>\n",
                            "      <td>0.0</td>\n",
                            "      <td>0.0</td>\n",
                            "      <td>0.0</td>\n",
                            "      <td>0.0</td>\n",
                            "      <td>0.0</td>\n",
                            "      <td>0.0</td>\n",
                            "      <td>0.0</td>\n",
                            "      <td>0.0</td>\n",
                            "      <td>0.0</td>\n",
                            "      <td>0.0</td>\n",
                            "      <td>0.0</td>\n",
                            "      <td>0.000000</td>\n",
                            "      <td>0.0</td>\n",
                            "      <td>0.0</td>\n",
                            "      <td>0.0</td>\n",
                            "      <td>0.0</td>\n",
                            "      <td>0.0</td>\n",
                            "      <td>0.0</td>\n",
                            "      <td>0.0</td>\n",
                            "      <td>0.0</td>\n",
                            "      <td>0.0</td>\n",
                            "      <td>0.0</td>\n",
                            "      <td>0.0</td>\n",
                            "      <td>0.0</td>\n",
                            "      <td>0.0</td>\n",
                            "      <td>0.0</td>\n",
                            "      <td>0.0</td>\n",
                            "      <td>0.0</td>\n",
                            "      <td>0.0</td>\n",
                            "      <td>0.0</td>\n",
                            "      <td>0.0</td>\n",
                            "      <td>...</td>\n",
                            "      <td>0.0</td>\n",
                            "      <td>0.0</td>\n",
                            "      <td>0.0</td>\n",
                            "      <td>0.0</td>\n",
                            "      <td>0.0</td>\n",
                            "      <td>0.0</td>\n",
                            "      <td>0.0</td>\n",
                            "      <td>0.0</td>\n",
                            "      <td>0.0</td>\n",
                            "      <td>0.0</td>\n",
                            "      <td>0.0</td>\n",
                            "      <td>0.0</td>\n",
                            "      <td>0.0</td>\n",
                            "      <td>0.0</td>\n",
                            "      <td>0.0</td>\n",
                            "      <td>0.0</td>\n",
                            "      <td>0.000000</td>\n",
                            "      <td>0.0</td>\n",
                            "      <td>0.0</td>\n",
                            "      <td>0.0</td>\n",
                            "      <td>0.0</td>\n",
                            "      <td>0.0</td>\n",
                            "      <td>0.0</td>\n",
                            "      <td>0.003106</td>\n",
                            "      <td>0.0</td>\n",
                            "      <td>0.000000</td>\n",
                            "      <td>0.0</td>\n",
                            "      <td>0.021277</td>\n",
                            "      <td>0.0</td>\n",
                            "      <td>0.000000</td>\n",
                            "      <td>0.000000</td>\n",
                            "      <td>0.0</td>\n",
                            "      <td>0.00495</td>\n",
                            "      <td>0.0</td>\n",
                            "      <td>0.0</td>\n",
                            "      <td>0.0</td>\n",
                            "      <td>0.0</td>\n",
                            "      <td>0.0</td>\n",
                            "      <td>0.0</td>\n",
                            "      <td>0.0</td>\n",
                            "    </tr>\n",
                            "    <tr>\n",
                            "      <th>DOES NOT bind mutant nucleocapsid</th>\n",
                            "      <td>1.0</td>\n",
                            "      <td>1.0</td>\n",
                            "      <td>1.0</td>\n",
                            "      <td>0.0</td>\n",
                            "      <td>0.0</td>\n",
                            "      <td>0.0</td>\n",
                            "      <td>0.0</td>\n",
                            "      <td>0.0</td>\n",
                            "      <td>0.0</td>\n",
                            "      <td>0.0</td>\n",
                            "      <td>0.0</td>\n",
                            "      <td>0.0</td>\n",
                            "      <td>0.0</td>\n",
                            "      <td>0.0</td>\n",
                            "      <td>0.0</td>\n",
                            "      <td>0.0</td>\n",
                            "      <td>0.0</td>\n",
                            "      <td>0.0</td>\n",
                            "      <td>0.0</td>\n",
                            "      <td>0.0</td>\n",
                            "      <td>0.000000</td>\n",
                            "      <td>0.0</td>\n",
                            "      <td>0.0</td>\n",
                            "      <td>0.0</td>\n",
                            "      <td>0.0</td>\n",
                            "      <td>0.0</td>\n",
                            "      <td>0.0</td>\n",
                            "      <td>0.0</td>\n",
                            "      <td>0.0</td>\n",
                            "      <td>0.0</td>\n",
                            "      <td>0.0</td>\n",
                            "      <td>0.0</td>\n",
                            "      <td>0.0</td>\n",
                            "      <td>0.0</td>\n",
                            "      <td>0.0</td>\n",
                            "      <td>0.0</td>\n",
                            "      <td>0.0</td>\n",
                            "      <td>0.0</td>\n",
                            "      <td>0.0</td>\n",
                            "      <td>0.0</td>\n",
                            "      <td>...</td>\n",
                            "      <td>0.0</td>\n",
                            "      <td>0.0</td>\n",
                            "      <td>0.0</td>\n",
                            "      <td>0.0</td>\n",
                            "      <td>0.0</td>\n",
                            "      <td>0.0</td>\n",
                            "      <td>0.0</td>\n",
                            "      <td>0.0</td>\n",
                            "      <td>0.0</td>\n",
                            "      <td>0.0</td>\n",
                            "      <td>0.0</td>\n",
                            "      <td>0.0</td>\n",
                            "      <td>0.0</td>\n",
                            "      <td>0.0</td>\n",
                            "      <td>0.0</td>\n",
                            "      <td>0.0</td>\n",
                            "      <td>0.000000</td>\n",
                            "      <td>0.0</td>\n",
                            "      <td>0.0</td>\n",
                            "      <td>0.0</td>\n",
                            "      <td>0.0</td>\n",
                            "      <td>0.0</td>\n",
                            "      <td>0.0</td>\n",
                            "      <td>0.003106</td>\n",
                            "      <td>0.0</td>\n",
                            "      <td>0.000000</td>\n",
                            "      <td>0.0</td>\n",
                            "      <td>0.021277</td>\n",
                            "      <td>0.0</td>\n",
                            "      <td>0.000000</td>\n",
                            "      <td>0.000000</td>\n",
                            "      <td>0.0</td>\n",
                            "      <td>0.00495</td>\n",
                            "      <td>0.0</td>\n",
                            "      <td>0.0</td>\n",
                            "      <td>0.0</td>\n",
                            "      <td>0.0</td>\n",
                            "      <td>0.0</td>\n",
                            "      <td>0.0</td>\n",
                            "      <td>0.0</td>\n",
                            "    </tr>\n",
                            "    <tr>\n",
                            "      <th>Inhibits Nef</th>\n",
                            "      <td>0.0</td>\n",
                            "      <td>0.0</td>\n",
                            "      <td>0.0</td>\n",
                            "      <td>1.0</td>\n",
                            "      <td>0.0</td>\n",
                            "      <td>0.0</td>\n",
                            "      <td>0.0</td>\n",
                            "      <td>0.0</td>\n",
                            "      <td>0.0</td>\n",
                            "      <td>0.0</td>\n",
                            "      <td>0.0</td>\n",
                            "      <td>0.0</td>\n",
                            "      <td>0.0</td>\n",
                            "      <td>0.0</td>\n",
                            "      <td>0.0</td>\n",
                            "      <td>0.0</td>\n",
                            "      <td>0.0</td>\n",
                            "      <td>0.0</td>\n",
                            "      <td>0.0</td>\n",
                            "      <td>0.0</td>\n",
                            "      <td>0.016949</td>\n",
                            "      <td>0.0</td>\n",
                            "      <td>0.0</td>\n",
                            "      <td>0.0</td>\n",
                            "      <td>0.0</td>\n",
                            "      <td>0.0</td>\n",
                            "      <td>0.0</td>\n",
                            "      <td>0.0</td>\n",
                            "      <td>0.0</td>\n",
                            "      <td>0.0</td>\n",
                            "      <td>0.0</td>\n",
                            "      <td>0.0</td>\n",
                            "      <td>0.0</td>\n",
                            "      <td>0.0</td>\n",
                            "      <td>0.0</td>\n",
                            "      <td>0.0</td>\n",
                            "      <td>0.0</td>\n",
                            "      <td>0.0</td>\n",
                            "      <td>0.0</td>\n",
                            "      <td>0.0</td>\n",
                            "      <td>...</td>\n",
                            "      <td>0.0</td>\n",
                            "      <td>0.0</td>\n",
                            "      <td>0.0</td>\n",
                            "      <td>0.0</td>\n",
                            "      <td>0.0</td>\n",
                            "      <td>0.0</td>\n",
                            "      <td>0.0</td>\n",
                            "      <td>0.0</td>\n",
                            "      <td>0.0</td>\n",
                            "      <td>0.0</td>\n",
                            "      <td>0.0</td>\n",
                            "      <td>0.0</td>\n",
                            "      <td>0.0</td>\n",
                            "      <td>0.0</td>\n",
                            "      <td>0.0</td>\n",
                            "      <td>0.0</td>\n",
                            "      <td>0.000000</td>\n",
                            "      <td>0.0</td>\n",
                            "      <td>0.0</td>\n",
                            "      <td>0.0</td>\n",
                            "      <td>0.0</td>\n",
                            "      <td>0.0</td>\n",
                            "      <td>0.0</td>\n",
                            "      <td>0.000000</td>\n",
                            "      <td>0.0</td>\n",
                            "      <td>0.000000</td>\n",
                            "      <td>0.0</td>\n",
                            "      <td>0.000000</td>\n",
                            "      <td>0.0</td>\n",
                            "      <td>0.000000</td>\n",
                            "      <td>0.000000</td>\n",
                            "      <td>0.0</td>\n",
                            "      <td>0.00000</td>\n",
                            "      <td>0.0</td>\n",
                            "      <td>0.0</td>\n",
                            "      <td>0.0</td>\n",
                            "      <td>0.0</td>\n",
                            "      <td>0.0</td>\n",
                            "      <td>0.0</td>\n",
                            "      <td>0.0</td>\n",
                            "    </tr>\n",
                            "    <tr>\n",
                            "      <th>abrogated by Vpr</th>\n",
                            "      <td>0.0</td>\n",
                            "      <td>0.0</td>\n",
                            "      <td>0.0</td>\n",
                            "      <td>0.0</td>\n",
                            "      <td>1.0</td>\n",
                            "      <td>0.0</td>\n",
                            "      <td>0.0</td>\n",
                            "      <td>0.0</td>\n",
                            "      <td>0.0</td>\n",
                            "      <td>0.0</td>\n",
                            "      <td>0.0</td>\n",
                            "      <td>0.0</td>\n",
                            "      <td>0.0</td>\n",
                            "      <td>0.0</td>\n",
                            "      <td>0.0</td>\n",
                            "      <td>0.0</td>\n",
                            "      <td>0.0</td>\n",
                            "      <td>0.0</td>\n",
                            "      <td>0.0</td>\n",
                            "      <td>0.0</td>\n",
                            "      <td>0.000000</td>\n",
                            "      <td>0.0</td>\n",
                            "      <td>0.0</td>\n",
                            "      <td>0.0</td>\n",
                            "      <td>0.0</td>\n",
                            "      <td>0.0</td>\n",
                            "      <td>0.0</td>\n",
                            "      <td>0.0</td>\n",
                            "      <td>0.0</td>\n",
                            "      <td>0.0</td>\n",
                            "      <td>0.0</td>\n",
                            "      <td>0.0</td>\n",
                            "      <td>0.0</td>\n",
                            "      <td>0.0</td>\n",
                            "      <td>0.0</td>\n",
                            "      <td>0.0</td>\n",
                            "      <td>0.0</td>\n",
                            "      <td>0.0</td>\n",
                            "      <td>0.0</td>\n",
                            "      <td>0.0</td>\n",
                            "      <td>...</td>\n",
                            "      <td>0.5</td>\n",
                            "      <td>0.0</td>\n",
                            "      <td>0.0</td>\n",
                            "      <td>0.0</td>\n",
                            "      <td>0.0</td>\n",
                            "      <td>0.0</td>\n",
                            "      <td>0.0</td>\n",
                            "      <td>0.0</td>\n",
                            "      <td>0.0</td>\n",
                            "      <td>0.0</td>\n",
                            "      <td>0.0</td>\n",
                            "      <td>0.0</td>\n",
                            "      <td>0.0</td>\n",
                            "      <td>0.0</td>\n",
                            "      <td>0.0</td>\n",
                            "      <td>0.0</td>\n",
                            "      <td>0.071429</td>\n",
                            "      <td>0.0</td>\n",
                            "      <td>0.0</td>\n",
                            "      <td>0.0</td>\n",
                            "      <td>0.0</td>\n",
                            "      <td>0.0</td>\n",
                            "      <td>0.0</td>\n",
                            "      <td>0.003106</td>\n",
                            "      <td>0.0</td>\n",
                            "      <td>0.010101</td>\n",
                            "      <td>0.0</td>\n",
                            "      <td>0.000000</td>\n",
                            "      <td>0.0</td>\n",
                            "      <td>0.021277</td>\n",
                            "      <td>0.001701</td>\n",
                            "      <td>0.0</td>\n",
                            "      <td>0.00495</td>\n",
                            "      <td>0.0</td>\n",
                            "      <td>0.0</td>\n",
                            "      <td>0.0</td>\n",
                            "      <td>0.0</td>\n",
                            "      <td>0.0</td>\n",
                            "      <td>0.0</td>\n",
                            "      <td>0.0</td>\n",
                            "    </tr>\n",
                            "  </tbody>\n",
                            "</table>\n",
                            "<p>5 rows \u00d7 661 columns</p>\n",
                            "</div>"
                        ],
                        "text/plain": [
                            "                                   Binds capsid  ...  utilizes Envelope surface glycoprotein gp120\n",
                            "Binds capsid                                1.0  ...                                           0.0\n",
                            "DOES NOT bind mutant capsid                 1.0  ...                                           0.0\n",
                            "DOES NOT bind mutant nucleocapsid           1.0  ...                                           0.0\n",
                            "Inhibits Nef                                0.0  ...                                           0.0\n",
                            "abrogated by Vpr                            0.0  ...                                           0.0\n",
                            "\n",
                            "[5 rows x 661 columns]"
                        ]
                    },
                    "execution_count": 96,
                    "metadata": {
                        "tags": []
                    },
                    "output_type": "execute_result"
                }
            ],
            "source": [
                "attribute_similarity_matrix = uf.createSimilarityMatrix(binary_matrix.T, 'jaccard', sparse=True)\n",
                "attribute_similarity_matrix.head()"
            ]
        },
        {
            "cell_type": "code",
            "execution_count": 97,
            "metadata": {
                "colab": {},
                "colab_type": "code",
                "executionInfo": {
                    "elapsed": 4873,
                    "status": "ok",
                    "timestamp": 1592798340902,
                    "user": {
                        "displayName": "Charles Dai",
                        "photoUrl": "https://lh3.googleusercontent.com/-oV6qD-pUdfY/AAAAAAAAAAI/AAAAAAAAB88/6T4c3GGp6bA/s64/photo.jpg",
                        "userId": "03185553652583704748"
                    },
                    "user_tz": 240
                },
                "id": "p0TScW_RE6h2"
            },
            "outputs": [],
            "source": [
                "uf.saveData(attribute_similarity_matrix, path,\n",
                "            output_name + '_attribute_similarity_matrix', \n",
                "            compression='npz', symmetric=True, dtype=np.float32)"
            ]
        },
        {
            "cell_type": "code",
            "execution_count": 98,
            "metadata": {
                "colab": {},
                "colab_type": "code",
                "executionInfo": {
                    "elapsed": 4870,
                    "status": "ok",
                    "timestamp": 1592798340903,
                    "user": {
                        "displayName": "Charles Dai",
                        "photoUrl": "https://lh3.googleusercontent.com/-oV6qD-pUdfY/AAAAAAAAAAI/AAAAAAAAB88/6T4c3GGp6bA/s64/photo.jpg",
                        "userId": "03185553652583704748"
                    },
                    "user_tz": 240
                },
                "id": "t-RJoJ22E6h4"
            },
            "outputs": [],
            "source": [
                "# net.load_df(attribute_similarity_matrix.iloc[:,:].copy())\n",
                "# net.filter_N_top('row', rank_type='sum', N_top=300)\n",
                "# net.cluster()\n",
                "# net.widget()"
            ]
        },
        {
            "cell_type": "markdown",
            "metadata": {
                "colab_type": "text",
                "id": "p8gZST_wE6h5"
            },
            "source": [
                " ## Create Gene Similarity Matrix"
            ]
        },
        {
            "cell_type": "code",
            "execution_count": 99,
            "metadata": {
                "colab": {
                    "base_uri": "https://localhost:8080/",
                    "height": 253
                },
                "colab_type": "code",
                "executionInfo": {
                    "elapsed": 5555,
                    "status": "ok",
                    "timestamp": 1592798341592,
                    "user": {
                        "displayName": "Charles Dai",
                        "photoUrl": "https://lh3.googleusercontent.com/-oV6qD-pUdfY/AAAAAAAAAAI/AAAAAAAAB88/6T4c3GGp6bA/s64/photo.jpg",
                        "userId": "03185553652583704748"
                    },
                    "user_tz": 240
                },
                "id": "VdaaAkrqE6h6",
                "outputId": "136f1259-fd56-4be8-c069-2a7171c79633"
            },
            "outputs": [
                {
                    "data": {
                        "text/html": [
                            "<div>\n",
                            "<style scoped>\n",
                            "    .dataframe tbody tr th:only-of-type {\n",
                            "        vertical-align: middle;\n",
                            "    }\n",
                            "\n",
                            "    .dataframe tbody tr th {\n",
                            "        vertical-align: top;\n",
                            "    }\n",
                            "\n",
                            "    .dataframe thead th {\n",
                            "        text-align: right;\n",
                            "    }\n",
                            "</style>\n",
                            "<table border=\"1\" class=\"dataframe\">\n",
                            "  <thead>\n",
                            "    <tr style=\"text-align: right;\">\n",
                            "      <th></th>\n",
                            "      <th>A2M</th>\n",
                            "      <th>A4GALT</th>\n",
                            "      <th>AARSD1</th>\n",
                            "      <th>AASS</th>\n",
                            "      <th>AATK</th>\n",
                            "      <th>ABCA1</th>\n",
                            "      <th>ABCA5</th>\n",
                            "      <th>ABCB1</th>\n",
                            "      <th>ABCB4</th>\n",
                            "      <th>ABCC1</th>\n",
                            "      <th>ABCD3</th>\n",
                            "      <th>ABCE1</th>\n",
                            "      <th>ABCF1</th>\n",
                            "      <th>ABCG2</th>\n",
                            "      <th>ABHD16A</th>\n",
                            "      <th>ABHD16B</th>\n",
                            "      <th>ABL1</th>\n",
                            "      <th>ABO</th>\n",
                            "      <th>ABR</th>\n",
                            "      <th>ABTB1</th>\n",
                            "      <th>ABTB2</th>\n",
                            "      <th>ACAA2</th>\n",
                            "      <th>ACACA</th>\n",
                            "      <th>ACACB</th>\n",
                            "      <th>ACADSB</th>\n",
                            "      <th>ACAN</th>\n",
                            "      <th>ACAP1</th>\n",
                            "      <th>ACBD3</th>\n",
                            "      <th>ACBD5</th>\n",
                            "      <th>ACE</th>\n",
                            "      <th>ACHE</th>\n",
                            "      <th>ACIN1</th>\n",
                            "      <th>ACKR2</th>\n",
                            "      <th>ACKR4</th>\n",
                            "      <th>ACLY</th>\n",
                            "      <th>ACOD1</th>\n",
                            "      <th>ACOT8</th>\n",
                            "      <th>ACP2</th>\n",
                            "      <th>ACP5</th>\n",
                            "      <th>ACSL3</th>\n",
                            "      <th>...</th>\n",
                            "      <th>ZNF202</th>\n",
                            "      <th>ZNF205</th>\n",
                            "      <th>ZNF212</th>\n",
                            "      <th>ZNF254</th>\n",
                            "      <th>ZNF26</th>\n",
                            "      <th>ZNF277</th>\n",
                            "      <th>ZNF292</th>\n",
                            "      <th>ZNF333</th>\n",
                            "      <th>ZNF354A</th>\n",
                            "      <th>ZNF395</th>\n",
                            "      <th>ZNF430</th>\n",
                            "      <th>ZNF436</th>\n",
                            "      <th>ZNF480</th>\n",
                            "      <th>ZNF512</th>\n",
                            "      <th>ZNF512B</th>\n",
                            "      <th>ZNF516</th>\n",
                            "      <th>ZNF518A</th>\n",
                            "      <th>ZNF536</th>\n",
                            "      <th>ZNF552</th>\n",
                            "      <th>ZNF556</th>\n",
                            "      <th>ZNF587</th>\n",
                            "      <th>ZNF594</th>\n",
                            "      <th>ZNF598</th>\n",
                            "      <th>ZNF639</th>\n",
                            "      <th>ZNF658</th>\n",
                            "      <th>ZNF687</th>\n",
                            "      <th>ZNF688</th>\n",
                            "      <th>ZNF701</th>\n",
                            "      <th>ZNF720</th>\n",
                            "      <th>ZNF747</th>\n",
                            "      <th>ZNF761</th>\n",
                            "      <th>ZNF785</th>\n",
                            "      <th>ZNF791</th>\n",
                            "      <th>ZNF831</th>\n",
                            "      <th>ZNF93</th>\n",
                            "      <th>ZNRD2</th>\n",
                            "      <th>ZNRF2</th>\n",
                            "      <th>ZSCAN16</th>\n",
                            "      <th>ZSWIM4</th>\n",
                            "      <th>ZYX</th>\n",
                            "    </tr>\n",
                            "  </thead>\n",
                            "  <tbody>\n",
                            "    <tr>\n",
                            "      <th>A2M</th>\n",
                            "      <td>1.0</td>\n",
                            "      <td>0.0</td>\n",
                            "      <td>0.0</td>\n",
                            "      <td>0.0</td>\n",
                            "      <td>0.0</td>\n",
                            "      <td>0.0</td>\n",
                            "      <td>0.0</td>\n",
                            "      <td>0.0</td>\n",
                            "      <td>0.0</td>\n",
                            "      <td>0.0</td>\n",
                            "      <td>0.0</td>\n",
                            "      <td>0.0</td>\n",
                            "      <td>0.0</td>\n",
                            "      <td>0.0</td>\n",
                            "      <td>0.0</td>\n",
                            "      <td>0.0</td>\n",
                            "      <td>0.0</td>\n",
                            "      <td>0.0</td>\n",
                            "      <td>0.0</td>\n",
                            "      <td>0.0</td>\n",
                            "      <td>0.0</td>\n",
                            "      <td>0.0</td>\n",
                            "      <td>0.0</td>\n",
                            "      <td>0.00</td>\n",
                            "      <td>0.0</td>\n",
                            "      <td>0.0</td>\n",
                            "      <td>0.0</td>\n",
                            "      <td>0.0</td>\n",
                            "      <td>0.0</td>\n",
                            "      <td>0.0</td>\n",
                            "      <td>0.000000</td>\n",
                            "      <td>0.0</td>\n",
                            "      <td>0.0</td>\n",
                            "      <td>0.333333</td>\n",
                            "      <td>0.0</td>\n",
                            "      <td>0.000000</td>\n",
                            "      <td>0.0</td>\n",
                            "      <td>0.0</td>\n",
                            "      <td>0.333333</td>\n",
                            "      <td>0.0</td>\n",
                            "      <td>...</td>\n",
                            "      <td>0.333333</td>\n",
                            "      <td>0.0</td>\n",
                            "      <td>0.0</td>\n",
                            "      <td>0.0</td>\n",
                            "      <td>0.0</td>\n",
                            "      <td>0.0</td>\n",
                            "      <td>0.25</td>\n",
                            "      <td>0.0</td>\n",
                            "      <td>0.0</td>\n",
                            "      <td>0.0</td>\n",
                            "      <td>0.0</td>\n",
                            "      <td>0.0</td>\n",
                            "      <td>0.0</td>\n",
                            "      <td>0.0</td>\n",
                            "      <td>0.0</td>\n",
                            "      <td>0.0</td>\n",
                            "      <td>0.0</td>\n",
                            "      <td>0.0</td>\n",
                            "      <td>0.0</td>\n",
                            "      <td>0.0</td>\n",
                            "      <td>0.0</td>\n",
                            "      <td>0.0</td>\n",
                            "      <td>0.333333</td>\n",
                            "      <td>0.0</td>\n",
                            "      <td>0.0</td>\n",
                            "      <td>0.0</td>\n",
                            "      <td>0.0</td>\n",
                            "      <td>0.0</td>\n",
                            "      <td>0.0</td>\n",
                            "      <td>0.0</td>\n",
                            "      <td>0.0</td>\n",
                            "      <td>0.0</td>\n",
                            "      <td>0.0</td>\n",
                            "      <td>0.0</td>\n",
                            "      <td>0.0</td>\n",
                            "      <td>0.0</td>\n",
                            "      <td>0.0</td>\n",
                            "      <td>0.0</td>\n",
                            "      <td>0.0</td>\n",
                            "      <td>0.0</td>\n",
                            "    </tr>\n",
                            "    <tr>\n",
                            "      <th>A4GALT</th>\n",
                            "      <td>0.0</td>\n",
                            "      <td>1.0</td>\n",
                            "      <td>0.0</td>\n",
                            "      <td>1.0</td>\n",
                            "      <td>0.0</td>\n",
                            "      <td>0.0</td>\n",
                            "      <td>0.0</td>\n",
                            "      <td>0.0</td>\n",
                            "      <td>0.0</td>\n",
                            "      <td>0.0</td>\n",
                            "      <td>0.0</td>\n",
                            "      <td>0.0</td>\n",
                            "      <td>0.0</td>\n",
                            "      <td>0.0</td>\n",
                            "      <td>0.0</td>\n",
                            "      <td>1.0</td>\n",
                            "      <td>0.0</td>\n",
                            "      <td>1.0</td>\n",
                            "      <td>0.0</td>\n",
                            "      <td>1.0</td>\n",
                            "      <td>0.0</td>\n",
                            "      <td>0.0</td>\n",
                            "      <td>0.0</td>\n",
                            "      <td>0.25</td>\n",
                            "      <td>1.0</td>\n",
                            "      <td>0.0</td>\n",
                            "      <td>0.0</td>\n",
                            "      <td>0.0</td>\n",
                            "      <td>0.0</td>\n",
                            "      <td>0.0</td>\n",
                            "      <td>0.000000</td>\n",
                            "      <td>0.0</td>\n",
                            "      <td>0.0</td>\n",
                            "      <td>0.000000</td>\n",
                            "      <td>0.0</td>\n",
                            "      <td>0.166667</td>\n",
                            "      <td>0.0</td>\n",
                            "      <td>1.0</td>\n",
                            "      <td>0.000000</td>\n",
                            "      <td>0.0</td>\n",
                            "      <td>...</td>\n",
                            "      <td>0.000000</td>\n",
                            "      <td>1.0</td>\n",
                            "      <td>1.0</td>\n",
                            "      <td>1.0</td>\n",
                            "      <td>0.0</td>\n",
                            "      <td>1.0</td>\n",
                            "      <td>0.50</td>\n",
                            "      <td>0.0</td>\n",
                            "      <td>1.0</td>\n",
                            "      <td>0.0</td>\n",
                            "      <td>0.0</td>\n",
                            "      <td>1.0</td>\n",
                            "      <td>1.0</td>\n",
                            "      <td>0.0</td>\n",
                            "      <td>1.0</td>\n",
                            "      <td>1.0</td>\n",
                            "      <td>1.0</td>\n",
                            "      <td>1.0</td>\n",
                            "      <td>1.0</td>\n",
                            "      <td>0.0</td>\n",
                            "      <td>1.0</td>\n",
                            "      <td>1.0</td>\n",
                            "      <td>0.000000</td>\n",
                            "      <td>0.0</td>\n",
                            "      <td>0.0</td>\n",
                            "      <td>0.0</td>\n",
                            "      <td>1.0</td>\n",
                            "      <td>1.0</td>\n",
                            "      <td>1.0</td>\n",
                            "      <td>1.0</td>\n",
                            "      <td>0.0</td>\n",
                            "      <td>1.0</td>\n",
                            "      <td>1.0</td>\n",
                            "      <td>1.0</td>\n",
                            "      <td>0.0</td>\n",
                            "      <td>0.0</td>\n",
                            "      <td>0.0</td>\n",
                            "      <td>1.0</td>\n",
                            "      <td>1.0</td>\n",
                            "      <td>0.5</td>\n",
                            "    </tr>\n",
                            "    <tr>\n",
                            "      <th>AARSD1</th>\n",
                            "      <td>0.0</td>\n",
                            "      <td>0.0</td>\n",
                            "      <td>1.0</td>\n",
                            "      <td>0.0</td>\n",
                            "      <td>1.0</td>\n",
                            "      <td>0.2</td>\n",
                            "      <td>0.0</td>\n",
                            "      <td>0.0</td>\n",
                            "      <td>0.0</td>\n",
                            "      <td>0.0</td>\n",
                            "      <td>0.0</td>\n",
                            "      <td>0.0</td>\n",
                            "      <td>0.0</td>\n",
                            "      <td>0.0</td>\n",
                            "      <td>0.0</td>\n",
                            "      <td>0.0</td>\n",
                            "      <td>0.0</td>\n",
                            "      <td>0.0</td>\n",
                            "      <td>0.0</td>\n",
                            "      <td>0.0</td>\n",
                            "      <td>0.0</td>\n",
                            "      <td>0.0</td>\n",
                            "      <td>0.0</td>\n",
                            "      <td>0.00</td>\n",
                            "      <td>0.0</td>\n",
                            "      <td>0.0</td>\n",
                            "      <td>0.0</td>\n",
                            "      <td>0.0</td>\n",
                            "      <td>0.0</td>\n",
                            "      <td>0.0</td>\n",
                            "      <td>0.166667</td>\n",
                            "      <td>0.0</td>\n",
                            "      <td>0.0</td>\n",
                            "      <td>0.000000</td>\n",
                            "      <td>0.0</td>\n",
                            "      <td>0.000000</td>\n",
                            "      <td>0.5</td>\n",
                            "      <td>0.0</td>\n",
                            "      <td>0.000000</td>\n",
                            "      <td>0.0</td>\n",
                            "      <td>...</td>\n",
                            "      <td>0.000000</td>\n",
                            "      <td>0.0</td>\n",
                            "      <td>0.0</td>\n",
                            "      <td>0.0</td>\n",
                            "      <td>0.0</td>\n",
                            "      <td>0.0</td>\n",
                            "      <td>0.00</td>\n",
                            "      <td>0.0</td>\n",
                            "      <td>0.0</td>\n",
                            "      <td>0.0</td>\n",
                            "      <td>0.0</td>\n",
                            "      <td>0.0</td>\n",
                            "      <td>0.0</td>\n",
                            "      <td>0.0</td>\n",
                            "      <td>0.0</td>\n",
                            "      <td>0.0</td>\n",
                            "      <td>0.0</td>\n",
                            "      <td>0.0</td>\n",
                            "      <td>0.0</td>\n",
                            "      <td>0.0</td>\n",
                            "      <td>0.0</td>\n",
                            "      <td>0.0</td>\n",
                            "      <td>0.000000</td>\n",
                            "      <td>0.0</td>\n",
                            "      <td>0.0</td>\n",
                            "      <td>0.0</td>\n",
                            "      <td>0.0</td>\n",
                            "      <td>0.0</td>\n",
                            "      <td>0.0</td>\n",
                            "      <td>0.0</td>\n",
                            "      <td>0.0</td>\n",
                            "      <td>0.0</td>\n",
                            "      <td>0.0</td>\n",
                            "      <td>0.0</td>\n",
                            "      <td>0.0</td>\n",
                            "      <td>0.0</td>\n",
                            "      <td>0.0</td>\n",
                            "      <td>0.0</td>\n",
                            "      <td>0.0</td>\n",
                            "      <td>0.5</td>\n",
                            "    </tr>\n",
                            "    <tr>\n",
                            "      <th>AASS</th>\n",
                            "      <td>0.0</td>\n",
                            "      <td>1.0</td>\n",
                            "      <td>0.0</td>\n",
                            "      <td>1.0</td>\n",
                            "      <td>0.0</td>\n",
                            "      <td>0.0</td>\n",
                            "      <td>0.0</td>\n",
                            "      <td>0.0</td>\n",
                            "      <td>0.0</td>\n",
                            "      <td>0.0</td>\n",
                            "      <td>0.0</td>\n",
                            "      <td>0.0</td>\n",
                            "      <td>0.0</td>\n",
                            "      <td>0.0</td>\n",
                            "      <td>0.0</td>\n",
                            "      <td>1.0</td>\n",
                            "      <td>0.0</td>\n",
                            "      <td>1.0</td>\n",
                            "      <td>0.0</td>\n",
                            "      <td>1.0</td>\n",
                            "      <td>0.0</td>\n",
                            "      <td>0.0</td>\n",
                            "      <td>0.0</td>\n",
                            "      <td>0.25</td>\n",
                            "      <td>1.0</td>\n",
                            "      <td>0.0</td>\n",
                            "      <td>0.0</td>\n",
                            "      <td>0.0</td>\n",
                            "      <td>0.0</td>\n",
                            "      <td>0.0</td>\n",
                            "      <td>0.000000</td>\n",
                            "      <td>0.0</td>\n",
                            "      <td>0.0</td>\n",
                            "      <td>0.000000</td>\n",
                            "      <td>0.0</td>\n",
                            "      <td>0.166667</td>\n",
                            "      <td>0.0</td>\n",
                            "      <td>1.0</td>\n",
                            "      <td>0.000000</td>\n",
                            "      <td>0.0</td>\n",
                            "      <td>...</td>\n",
                            "      <td>0.000000</td>\n",
                            "      <td>1.0</td>\n",
                            "      <td>1.0</td>\n",
                            "      <td>1.0</td>\n",
                            "      <td>0.0</td>\n",
                            "      <td>1.0</td>\n",
                            "      <td>0.50</td>\n",
                            "      <td>0.0</td>\n",
                            "      <td>1.0</td>\n",
                            "      <td>0.0</td>\n",
                            "      <td>0.0</td>\n",
                            "      <td>1.0</td>\n",
                            "      <td>1.0</td>\n",
                            "      <td>0.0</td>\n",
                            "      <td>1.0</td>\n",
                            "      <td>1.0</td>\n",
                            "      <td>1.0</td>\n",
                            "      <td>1.0</td>\n",
                            "      <td>1.0</td>\n",
                            "      <td>0.0</td>\n",
                            "      <td>1.0</td>\n",
                            "      <td>1.0</td>\n",
                            "      <td>0.000000</td>\n",
                            "      <td>0.0</td>\n",
                            "      <td>0.0</td>\n",
                            "      <td>0.0</td>\n",
                            "      <td>1.0</td>\n",
                            "      <td>1.0</td>\n",
                            "      <td>1.0</td>\n",
                            "      <td>1.0</td>\n",
                            "      <td>0.0</td>\n",
                            "      <td>1.0</td>\n",
                            "      <td>1.0</td>\n",
                            "      <td>1.0</td>\n",
                            "      <td>0.0</td>\n",
                            "      <td>0.0</td>\n",
                            "      <td>0.0</td>\n",
                            "      <td>1.0</td>\n",
                            "      <td>1.0</td>\n",
                            "      <td>0.5</td>\n",
                            "    </tr>\n",
                            "    <tr>\n",
                            "      <th>AATK</th>\n",
                            "      <td>0.0</td>\n",
                            "      <td>0.0</td>\n",
                            "      <td>1.0</td>\n",
                            "      <td>0.0</td>\n",
                            "      <td>1.0</td>\n",
                            "      <td>0.2</td>\n",
                            "      <td>0.0</td>\n",
                            "      <td>0.0</td>\n",
                            "      <td>0.0</td>\n",
                            "      <td>0.0</td>\n",
                            "      <td>0.0</td>\n",
                            "      <td>0.0</td>\n",
                            "      <td>0.0</td>\n",
                            "      <td>0.0</td>\n",
                            "      <td>0.0</td>\n",
                            "      <td>0.0</td>\n",
                            "      <td>0.0</td>\n",
                            "      <td>0.0</td>\n",
                            "      <td>0.0</td>\n",
                            "      <td>0.0</td>\n",
                            "      <td>0.0</td>\n",
                            "      <td>0.0</td>\n",
                            "      <td>0.0</td>\n",
                            "      <td>0.00</td>\n",
                            "      <td>0.0</td>\n",
                            "      <td>0.0</td>\n",
                            "      <td>0.0</td>\n",
                            "      <td>0.0</td>\n",
                            "      <td>0.0</td>\n",
                            "      <td>0.0</td>\n",
                            "      <td>0.166667</td>\n",
                            "      <td>0.0</td>\n",
                            "      <td>0.0</td>\n",
                            "      <td>0.000000</td>\n",
                            "      <td>0.0</td>\n",
                            "      <td>0.000000</td>\n",
                            "      <td>0.5</td>\n",
                            "      <td>0.0</td>\n",
                            "      <td>0.000000</td>\n",
                            "      <td>0.0</td>\n",
                            "      <td>...</td>\n",
                            "      <td>0.000000</td>\n",
                            "      <td>0.0</td>\n",
                            "      <td>0.0</td>\n",
                            "      <td>0.0</td>\n",
                            "      <td>0.0</td>\n",
                            "      <td>0.0</td>\n",
                            "      <td>0.00</td>\n",
                            "      <td>0.0</td>\n",
                            "      <td>0.0</td>\n",
                            "      <td>0.0</td>\n",
                            "      <td>0.0</td>\n",
                            "      <td>0.0</td>\n",
                            "      <td>0.0</td>\n",
                            "      <td>0.0</td>\n",
                            "      <td>0.0</td>\n",
                            "      <td>0.0</td>\n",
                            "      <td>0.0</td>\n",
                            "      <td>0.0</td>\n",
                            "      <td>0.0</td>\n",
                            "      <td>0.0</td>\n",
                            "      <td>0.0</td>\n",
                            "      <td>0.0</td>\n",
                            "      <td>0.000000</td>\n",
                            "      <td>0.0</td>\n",
                            "      <td>0.0</td>\n",
                            "      <td>0.0</td>\n",
                            "      <td>0.0</td>\n",
                            "      <td>0.0</td>\n",
                            "      <td>0.0</td>\n",
                            "      <td>0.0</td>\n",
                            "      <td>0.0</td>\n",
                            "      <td>0.0</td>\n",
                            "      <td>0.0</td>\n",
                            "      <td>0.0</td>\n",
                            "      <td>0.0</td>\n",
                            "      <td>0.0</td>\n",
                            "      <td>0.0</td>\n",
                            "      <td>0.0</td>\n",
                            "      <td>0.0</td>\n",
                            "      <td>0.5</td>\n",
                            "    </tr>\n",
                            "  </tbody>\n",
                            "</table>\n",
                            "<p>5 rows \u00d7 4457 columns</p>\n",
                            "</div>"
                        ],
                        "text/plain": [
                            "        A2M  A4GALT  AARSD1  AASS  AATK  ...  ZNRD2  ZNRF2  ZSCAN16  ZSWIM4  ZYX\n",
                            "A2M     1.0     0.0     0.0   0.0   0.0  ...    0.0    0.0      0.0     0.0  0.0\n",
                            "A4GALT  0.0     1.0     0.0   1.0   0.0  ...    0.0    0.0      1.0     1.0  0.5\n",
                            "AARSD1  0.0     0.0     1.0   0.0   1.0  ...    0.0    0.0      0.0     0.0  0.5\n",
                            "AASS    0.0     1.0     0.0   1.0   0.0  ...    0.0    0.0      1.0     1.0  0.5\n",
                            "AATK    0.0     0.0     1.0   0.0   1.0  ...    0.0    0.0      0.0     0.0  0.5\n",
                            "\n",
                            "[5 rows x 4457 columns]"
                        ]
                    },
                    "execution_count": 99,
                    "metadata": {
                        "tags": []
                    },
                    "output_type": "execute_result"
                }
            ],
            "source": [
                "gene_similarity_matrix = uf.createSimilarityMatrix(binary_matrix, 'jaccard', sparse=True)\n",
                "gene_similarity_matrix.head()"
            ]
        },
        {
            "cell_type": "code",
            "execution_count": 100,
            "metadata": {
                "colab": {},
                "colab_type": "code",
                "executionInfo": {
                    "elapsed": 6687,
                    "status": "ok",
                    "timestamp": 1592798342732,
                    "user": {
                        "displayName": "Charles Dai",
                        "photoUrl": "https://lh3.googleusercontent.com/-oV6qD-pUdfY/AAAAAAAAAAI/AAAAAAAAB88/6T4c3GGp6bA/s64/photo.jpg",
                        "userId": "03185553652583704748"
                    },
                    "user_tz": 240
                },
                "id": "aJ7lHcoHE6h7"
            },
            "outputs": [],
            "source": [
                "uf.saveData(gene_similarity_matrix, path, \n",
                "            output_name + '_gene_similarity_matrix',\n",
                "            compression='npz', symmetric=True, dtype=np.float32)"
            ]
        },
        {
            "cell_type": "markdown",
            "metadata": {
                "colab_type": "text",
                "id": "4liQrOxeE6h9"
            },
            "source": [
                " ## Create Gene-Attribute Edge List"
            ]
        },
        {
            "cell_type": "code",
            "execution_count": 101,
            "metadata": {
                "colab": {
                    "base_uri": "https://localhost:8080/",
                    "height": 34
                },
                "colab_type": "code",
                "executionInfo": {
                    "elapsed": 7566,
                    "status": "ok",
                    "timestamp": 1592798343617,
                    "user": {
                        "displayName": "Charles Dai",
                        "photoUrl": "https://lh3.googleusercontent.com/-oV6qD-pUdfY/AAAAAAAAAAI/AAAAAAAAB88/6T4c3GGp6bA/s64/photo.jpg",
                        "userId": "03185553652583704748"
                    },
                    "user_tz": 240
                },
                "id": "5ayi1hdcE6h-",
                "outputId": "dd3025d9-56a3-46ac-fb9e-f9c04c340d52"
            },
            "outputs": [
                {
                    "name": "stdout",
                    "output_type": "stream",
                    "text": [
                        "The number of statisticaly relevent gene-attribute associations is: 13374\n"
                    ]
                }
            ],
            "source": [
                "uf.createGeneAttributeEdgeList(binary_matrix, attribute_list, gene_list, \n",
                "                               path, output_name + '_gene_attribute_edge_list')"
            ]
        },
        {
            "cell_type": "markdown",
            "metadata": {
                "colab_type": "text",
                "id": "kPGLMfwkE6h_"
            },
            "source": [
                " # Create Downloadable Save File"
            ]
        },
        {
            "cell_type": "code",
            "execution_count": 102,
            "metadata": {
                "colab": {},
                "colab_type": "code",
                "executionInfo": {
                    "elapsed": 7735,
                    "status": "ok",
                    "timestamp": 1592798343793,
                    "user": {
                        "displayName": "Charles Dai",
                        "photoUrl": "https://lh3.googleusercontent.com/-oV6qD-pUdfY/AAAAAAAAAAI/AAAAAAAAB88/6T4c3GGp6bA/s64/photo.jpg",
                        "userId": "03185553652583704748"
                    },
                    "user_tz": 240
                },
                "id": "dtorHv2lE6iA"
            },
            "outputs": [],
            "source": [
                "uf.createArchive(path)"
            ]
        },
        {
            "cell_type": "markdown",
            "metadata": {
                "colab_type": "text",
                "id": "cW6dGy1fE6iD"
            },
            "source": [
                " ### Link to download output files: [click here](./output_archive.zip)"
            ]
        }
    ],
    "metadata": {
        "colab": {
            "collapsed_sections": [
                "cW6dGy1fE6iD"
            ],
            "name": "GeneRIF.ipynb",
            "provenance": []
        },
        "kernelspec": {
            "display_name": "Python 3",
            "name": "python3"
        },
        "orig_nbformat": 2
    },
    "nbformat": 4,
    "nbformat_minor": 0
}
