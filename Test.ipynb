{
 "cells": [
  {
   "cell_type": "code",
   "execution_count": 1,
   "metadata": {},
   "outputs": [],
   "source": [
    "import sys\n",
    "from os import path"
   ]
  },
  {
   "cell_type": "code",
   "execution_count": 2,
   "metadata": {},
   "outputs": [
    {
     "output_type": "stream",
     "name": "stderr",
     "text": "UsageError: Cell magic `%%appyter` not found.\n"
    }
   ],
   "source": [
    "#%%appyter init\n",
    "from appyter import magic\n",
    "magic.init(lambda _=globals: _())"
   ]
  },
  {
   "cell_type": "code",
   "execution_count": 3,
   "metadata": {},
   "outputs": [
    {
     "output_type": "display_data",
     "data": {
      "text/plain": "<IPython.core.display.Markdown object>",
      "text/markdown": "\nMy Title"
     },
     "metadata": {}
    }
   ],
   "source": [
    "%%appyter markdown\n",
    "\n",
    "{{ StringField(\n",
    "    name='title',\n",
    "    label='Title',\n",
    "    default='My Title',\n",
    ").render_value }}\n",
    "\n"
   ]
  },
  {
   "cell_type": "code",
   "execution_count": 4,
   "metadata": {},
   "outputs": [
    {
     "output_type": "stream",
     "name": "stderr",
     "text": "UsageError: Cell magic `%%appyter` not found.\n"
    }
   ],
   "source": [
    "%%appyter code_eval\n",
    "\n",
    "{#% set f = FileField(name='my-csv', label='My CSV') %#}\n",
    "print(path.abspath({{FileField(name='my-csv', label='My CSV')}}))"
   ]
  },
  {
   "cell_type": "code",
   "execution_count": 12,
   "metadata": {},
   "outputs": [
    {
     "output_type": "display_data",
     "data": {
      "text/plain": "<IPython.core.display.Markdown object>",
      "text/markdown": "```python\n\nanswer = 5 + 5\n```"
     },
     "metadata": {}
    },
    {
     "output_type": "display_data",
     "data": {
      "text/plain": "<IPython.core.display.HTML object>",
      "text/html": "<div style='color: red'>1: answer = 5 + 5</div>"
     },
     "metadata": {}
    },
    {
     "output_type": "display_data",
     "data": {
      "text/plain": "<IPython.core.display.HTML object>",
      "text/html": "<div style='color: red'>Error: invalid syntax (<string>, line 1)</div>"
     },
     "metadata": {}
    }
   ],
   "source": [
    "%%appyter code_eval\n",
    "{% set number_1 = IntField(name='number_1', label='First Number', min=0, max=10, default=5) %}\n",
    "{% set number_2 = IntField(name='number_2', label='Second Number', min=0, max=10, default=5) %}\n",
    "{% set op = ChoiceField(\n",
    "  name='operator',\n",
    "  label='Operator',\n",
    "  choices={\n",
    "    'add': '+',\n",
    "    'subtract': '-',\n",
    "    'multiply': '*',\n",
    "    'divide': '/',\n",
    "    'power': '**',\n",
    "  },\n",
    "  default='add',\n",
    ") %}\n",
    "answer = {{ number_1 }} {{ op }} {{ number_2 }}"
   ]
  },
  {
   "cell_type": "code",
   "execution_count": null,
   "metadata": {},
   "outputs": [],
   "source": []
  }
 ],
 "metadata": {
  "language_info": {
   "codemirror_mode": {
    "name": "ipython",
    "version": 3
   },
   "file_extension": ".py",
   "mimetype": "text/x-python",
   "name": "python",
   "nbconvert_exporter": "python",
   "pygments_lexer": "ipython3",
   "version": "3.8.0-final"
  },
  "orig_nbformat": 2,
  "kernelspec": {
   "name": "python38064bitharmonizomevenve1fd62c035f347dbaffce382c9034785",
   "display_name": "Python 3.8.0 64-bit ('harmonizome': venv)"
  }
 },
 "nbformat": 4,
 "nbformat_minor": 2
}