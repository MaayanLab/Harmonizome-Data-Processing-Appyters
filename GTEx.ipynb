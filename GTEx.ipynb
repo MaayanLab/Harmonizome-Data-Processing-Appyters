{
    "cells": [
        {
            "cell_type": "markdown",
            "metadata": {},
            "source": [
                "# GTEx Tissue"
            ]
        },
        {
            "cell_type": "markdown",
            "metadata": {},
            "source": [
                "Created by: Charles Dai <br>\n",
                "Credit to: Moshe Silverstein\n",
                "\n",
                "Data Source: https://www.gtexportal.org/home/datasets"
            ]
        },
        {
            "cell_type": "code",
            "execution_count": 2,
            "metadata": {},
            "outputs": [],
            "source": [
                "# appyter init\n",
                "from appyter import magic\n",
                "magic.init(lambda _=globals: _())"
            ]
        },
        {
            "cell_type": "code",
            "execution_count": 3,
            "metadata": {},
            "outputs": [],
            "source": [
                "import sys\n",
                "import os\n",
                "from datetime import date\n",
                "import gzip\n",
                "\n",
                "import numpy as np\n",
                "import pandas as pd\n",
                "import matplotlib.pyplot as plt\n",
                "%matplotlib inline\n",
                "\n",
                "import harmonizome.utility_functions as uf\n",
                "import harmonizome.lookup as lookup"
            ]
        },
        {
            "cell_type": "code",
            "execution_count": 4,
            "metadata": {},
            "outputs": [],
            "source": [
                "# from clustergrammer_widget import *\n",
                "# net = Network(clustergrammer_widget)"
            ]
        },
        {
            "cell_type": "code",
            "execution_count": 5,
            "metadata": {},
            "outputs": [],
            "source": [
                "%load_ext autoreload\n",
                "%autoreload 2"
            ]
        },
        {
            "cell_type": "markdown",
            "metadata": {},
            "source": [
                "### Notebook Information"
            ]
        },
        {
            "cell_type": "code",
            "execution_count": 6,
            "metadata": {
                "tags": []
            },
            "outputs": [
                {
                    "output_type": "stream",
                    "name": "stdout",
                    "text": "This notebook was run on: 2020-06-28 \nPython version: 3.8.0 (default, Oct 28 2019, 16:14:01) \n[GCC 8.3.0]\n"
                }
            ],
            "source": [
                "print('This notebook was run on:', date.today(), '\\nPython version:', sys.version)"
            ]
        },
        {
            "cell_type": "markdown",
            "metadata": {},
            "source": [
                "# Initialization"
            ]
        },
        {
            "cell_type": "markdown",
            "metadata": {},
            "source": [
                "### Load Mapping Dictionaries"
            ]
        },
        {
            "cell_type": "code",
            "execution_count": 7,
            "metadata": {
                "tags": []
            },
            "outputs": [
                {
                    "output_type": "stream",
                    "name": "stderr",
                    "text": "Gathering sources: 100%|██████████| 3/3 [00:10<00:00,  3.34s/it]\n"
                }
            ],
            "source": [
                "symbol_lookup, geneid_lookup = lookup.get_lookups()"
            ]
        },
        {
            "cell_type": "markdown",
            "metadata": {},
            "source": [
                "### Output Path"
            ]
        },
        {
            "cell_type": "code",
            "execution_count": 8,
            "metadata": {},
            "outputs": [],
            "source": [
                "output_name = 'gtex'\n",
                "\n",
                "path = 'Output/GTEx'\n",
                "if not os.path.exists(path):\n",
                "    os.makedirs(path)"
            ]
        },
        {
            "cell_type": "code",
            "execution_count": 9,
            "metadata": {},
            "outputs": [],
            "source": [
                "%%appyter hide_code\n",
                "{% do SectionField(\n",
                "    name='data',\n",
                "    title='Load Data',\n",
                "    subtitle='Upload Files from the GTEx Portal',\n",
                ") %}"
            ]
        },
        {
            "cell_type": "markdown",
            "metadata": {},
            "source": [
                "# Load Data"
            ]
        },
        {
            "cell_type": "code",
            "execution_count": 11,
            "metadata": {
                "tags": []
            },
            "outputs": [
                {
                    "output_type": "display_data",
                    "data": {
                        "text/plain": "<IPython.core.display.Markdown object>",
                        "text/markdown": "```python\nmatrix = pd.read_csv('Input/GTEx/GTEx_Analysis_2017-06-05_v8_RNASeQCv1.1.9_gene_tpm.gct.gz', sep='\\t', skiprows=2, usecols=lambda c: c != 'Name',\n    index_col=0, nrows=100)\n```"
                    },
                    "metadata": {}
                }
            ],
            "source": [
                "%%appyter code_exec\n",
                "\n",
                "matrix = pd.read_csv({{FileField(\n",
                "    constraint='.*\\.gz$',\n",
                "    name='expression_matrix', \n",
                "    label='RNA-Seq Gene TPMs (gct.gz)', \n",
                "    default='Input/GTEx/GTEx_Analysis_2017-06-05_v8_RNASeQCv1.1.9_gene_tpm.gct.gz',\n",
                "    section='data')\n",
                "}}, sep='\\t', skiprows=2, usecols=lambda c: c != 'Name', \n",
                "    index_col=0, nrows=100)"
            ]
        },
        {
            "cell_type": "code",
            "execution_count": 12,
            "metadata": {},
            "outputs": [
                {
                    "output_type": "execute_result",
                    "data": {
                        "text/plain": "5   \nFAM138A                      0.00000                   0.0000   \n\n             GTEX-ZZPU-2226-SM-5EGIV  GTEX-ZZPU-2426-SM-5E44I  \\\nDescription                                                     \nDDX11L1                        0.000                  0.00000   \nWASH7P                         1.922                  2.85700   \nMIR6859-1                      0.000                  0.00000   \nMIR1302-2HG                    0.000                  0.05216   \nFAM138A                        0.000                  0.00000   \n\n             GTEX-ZZPU-2626-SM-5E45Y  GTEX-ZZPU-2726-SM-5NQ8O  \nDescription                                                    \nDDX11L1                      0.01965                  0.02522  \nWASH7P                       0.86960                  2.16700  \nMIR6859-1                    0.00000                  0.00000  \nMIR1302-2HG                  0.00000                  0.00000  \nFAM138A                      0.00000                  0.00000  \n\n[5 rows x 17382 columns]",
                        "text/html": "<div>\n<style scoped>\n    .dataframe tbody tr th:only-of-type {\n        vertical-align: middle;\n    }\n\n    .dataframe tbody tr th {\n        vertical-align: top;\n    }\n\n    .dataframe thead th {\n        text-align: right;\n    }\n</style>\n<table border=\"1\" class=\"dataframe\">\n  <thead>\n    <tr style=\"text-align: right;\">\n      <th></th>\n      <th>GTEX-1117F-0226-SM-5GZZ7</th>\n      <th>GTEX-1117F-0426-SM-5EGHI</th>\n      <th>GTEX-1117F-0526-SM-5EGHJ</th>\n      <th>GTEX-1117F-0626-SM-5N9CS</th>\n      <th>GTEX-1117F-0726-SM-5GIEN</th>\n      <th>GTEX-1117F-1326-SM-5EGHH</th>\n      <th>GTEX-1117F-2426-SM-5EGGH</th>\n      <th>GTEX-1117F-2526-SM-5GZY6</th>\n      <th>GTEX-1117F-2826-SM-5GZXL</th>\n      <th>GTEX-1117F-2926-SM-5GZYI</th>\n      <th>...</th>\n      <th>GTEX-ZZPU-1126-SM-5N9CW</th>\n      <th>GTEX-ZZPU-1226-SM-5N9CK</th>\n      <th>GTEX-ZZPU-1326-SM-5GZWS</th>\n      <th>GTEX-ZZPU-1426-SM-5GZZ6</th>\n      <th>GTEX-ZZPU-1826-SM-5E43L</th>\n      <th>GTEX-ZZPU-2126-SM-5EGIU</th>\n      <th>GTEX-ZZPU-2226-SM-5EGIV</th>\n      <th>GTEX-ZZPU-2426-SM-5E44I</th>\n      <th>GTEX-ZZPU-2626-SM-5E45Y</th>\n      <th>GTEX-ZZPU-2726-SM-5NQ8O</th>\n    </tr>\n    <tr>\n      <th>Description</th>\n      <th></th>\n      <th></th>\n      <th></th>\n      <th></th>\n      <th></th>\n      <th></th>\n      <th></th>\n      <th></th>\n      <th></th>\n      <th></th>\n      <th></th>\n      <th></th>\n      <th></th>\n      <th></th>\n      <th></th>\n      <th></th>\n      <th></th>\n      <th></th>\n      <th></th>\n      <th></th>\n      <th></th>\n    </tr>\n  </thead>\n  <tbody>\n    <tr>\n      <th>DDX11L1</th>\n      <td>0.00000</td>\n      <td>0.000</td>\n      <td>0.000</td>\n      <td>0.00000</td>\n      <td>0.000</td>\n      <td>0.000</td>\n      <td>0.00</td>\n      <td>0.00000</td>\n      <td>0.00</td>\n      <td>0.00000</td>\n      <td>...</td>\n      <td>0.00000</td>\n      <td>0.03629</td>\n      <td>0.00000</td>\n      <td>0.00</td>\n      <td>0.00000</td>\n      <td>0.0000</td>\n      <td>0.000</td>\n      <td>0.00000</td>\n      <td>0.01965</td>\n      <td>0.02522</td>\n    </tr>\n    <tr>\n      <th>WASH7P</th>\n      <td>8.76400</td>\n      <td>3.861</td>\n      <td>7.349</td>\n      <td>11.07000</td>\n      <td>3.306</td>\n      <td>5.389</td>\n      <td>11.99</td>\n      <td>16.95000</td>\n      <td>10.04</td>\n      <td>12.50000</td>\n      <td>...</td>\n      <td>1.60600</td>\n      <td>2.26800</td>\n      <td>5.38600</td>\n      <td>2.31</td>\n      <td>2.45600</td>\n      <td>4.0230</td>\n      <td>1.922</td>\n      <td>2.85700</td>\n      <td>0.86960</td>\n      <td>2.16700</td>\n    </tr>\n    <tr>\n      <th>MIR6859-1</th>\n      <td>0.00000</td>\n      <td>0.000</td>\n      <td>1.004</td>\n      <td>0.00000</td>\n      <td>0.000</td>\n      <td>0.000</td>\n      <td>0.00</td>\n      <td>0.00000</td>\n      <td>0.00</td>\n      <td>0.00000</td>\n      <td>...</td>\n      <td>0.00000</td>\n      <td>0.00000</td>\n      <td>0.00000</td>\n      <td>0.00</td>\n      <td>0.00000</td>\n      <td>0.0000</td>\n      <td>0.000</td>\n      <td>0.00000</td>\n      <td>0.00000</td>\n      <td>0.00000</td>\n    </tr>\n    <tr>\n      <th>MIR1302-2HG</th>\n      <td>0.07187</td>\n      <td>0.000</td>\n      <td>0.000</td>\n      <td>0.06761</td>\n      <td>0.000</td>\n      <td>0.000</td>\n      <td>0.00</td>\n      <td>0.00000</td>\n      <td>0.00</td>\n      <td>0.06265</td>\n      <td>...</td>\n      <td>0.00000</td>\n      <td>0.00000</td>\n      <td>0.06073</td>\n      <td>0.00</td>\n      <td>0.08464</td>\n      <td>0.1435</td>\n      <td>0.000</td>\n      <td>0.05216</td>\n      <td>0.00000</td>\n      <td>0.00000</td>\n    </tr>\n    <tr>\n      <th>FAM138A</th>\n      <td>0.00000</td>\n      <td>0.000</td>\n      <td>0.000</td>\n      <td>0.00000</td>\n      <td>0.000</td>\n      <td>0.000</td>\n      <td>0.00</td>\n      <td>0.03904</td>\n      <td>0.00</td>\n      <td>0.00000</td>\n      <td>...</td>\n      <td>0.02429</td>\n      <td>0.00000</td>\n      <td>0.00000</td>\n      <td>0.00</td>\n      <td>0.00000</td>\n      <td>0.0000</td>\n      <td>0.000</td>\n      <td>0.00000</td>\n      <td>0.00000</td>\n      <td>0.00000</td>\n    </tr>\n  </tbody>\n</table>\n<p>5 rows × 17382 columns</p>\n</div>"
                    },
                    "metadata": {},
                    "execution_count": 12
                }
            ],
            "source": [
                "matrix.head()"
            ]
        },
        {
            "cell_type": "code",
            "execution_count": 13,
            "metadata": {},
            "outputs": [
                {
                    "output_type": "execute_result",
                    "data": {
                        "text/plain": "(100, 17382)"
                    },
                    "metadata": {},
                    "execution_count": 13
                }
            ],
            "source": [
                "matrix.shape"
            ]
        },
        {
            "cell_type": "markdown",
            "metadata": {},
            "source": [
                "## Load Sample Metadata"
            ]
        },
        {
            "cell_type": "code",
            "execution_count": 15,
            "metadata": {},
            "outputs": [
                {
                    "output_type": "display_data",
                    "data": {
                        "text/plain": "<IPython.core.display.Markdown object>",
                        "text/markdown": "```python\n\nsample_meta = pd.read_csv('Input/GTEx/GTEx_Analysis_v8_Annotations_SampleAttributesDS.txt', sep='\\t', index_col=0, usecols=['SAMPID', 'SMTSD'])\n```"
                    },
                    "metadata": {}
                }
            ],
            "source": [
                "%%appyter code_exec\n",
                "\n",
                "sample_meta = pd.read_csv({{FileField(\n",
                "    constraint='.*\\.txt$',\n",
                "    name='sample_metadata', \n",
                "    label='Sample Metadata', \n",
                "    default='Input/GTEx/GTEx_Analysis_v8_Annotations_SampleAttributesDS.txt',\n",
                "    section='data')\n",
                "}}, sep='\\t', index_col=0, usecols=['SAMPID', 'SMTSD'])"
            ]
        },
        {
            "cell_type": "code",
            "execution_count": 16,
            "metadata": {},
            "outputs": [
                {
                    "output_type": "execute_result",
                    "data": {
                        "text/plain": "                                                      SMTSD\nSAMPID                                                     \nGTEX-1117F-0003-SM-58Q7G                        Whole Blood\nGTEX-1117F-0003-SM-5DWSB                        Whole Blood\nGTEX-1117F-0003-SM-6WBT7                        Whole Blood\nGTEX-1117F-0011-R10a-SM-AHZ7F  Brain - Frontal Cortex (BA9)\nGTEX-1117F-0011-R10b-SM-CYKQ8  Brain - Frontal Cortex (BA9)",
                        "text/html": "<div>\n<style scoped>\n    .dataframe tbody tr th:only-of-type {\n        vertical-align: middle;\n    }\n\n    .dataframe tbody tr th {\n        vertical-align: top;\n    }\n\n    .dataframe thead th {\n        text-align: right;\n    }\n</style>\n<table border=\"1\" class=\"dataframe\">\n  <thead>\n    <tr style=\"text-align: right;\">\n      <th></th>\n      <th>SMTSD</th>\n    </tr>\n    <tr>\n      <th>SAMPID</th>\n      <th></th>\n    </tr>\n  </thead>\n  <tbody>\n    <tr>\n      <th>GTEX-1117F-0003-SM-58Q7G</th>\n      <td>Whole Blood</td>\n    </tr>\n    <tr>\n      <th>GTEX-1117F-0003-SM-5DWSB</th>\n      <td>Whole Blood</td>\n    </tr>\n    <tr>\n      <th>GTEX-1117F-0003-SM-6WBT7</th>\n      <td>Whole Blood</td>\n    </tr>\n    <tr>\n      <th>GTEX-1117F-0011-R10a-SM-AHZ7F</th>\n      <td>Brain - Frontal Cortex (BA9)</td>\n    </tr>\n    <tr>\n      <th>GTEX-1117F-0011-R10b-SM-CYKQ8</th>\n      <td>Brain - Frontal Cortex (BA9)</td>\n    </tr>\n  </tbody>\n</table>\n</div>"
                    },
                    "metadata": {},
                    "execution_count": 16
                }
            ],
            "source": [
                "sample_meta.head()"
            ]
        },
        {
            "cell_type": "code",
            "execution_count": 17,
            "metadata": {},
            "outputs": [
                {
                    "output_type": "execute_result",
                    "data": {
                        "text/plain": "(22951, 1)"
                    },
                    "metadata": {},
                    "execution_count": 17
                }
            ],
            "source": [
                "sample_meta.shape"
            ]
        },
        {
            "cell_type": "markdown",
            "metadata": {},
            "source": [
                "## Load Subject Metadata"
            ]
        },
        {
            "cell_type": "code",
            "execution_count": 18,
            "metadata": {},
            "outputs": [
                {
                    "output_type": "display_data",
                    "data": {
                        "text/plain": "<IPython.core.display.Markdown object>",
                        "text/markdown": "```python\n\nsubject_meta = pd.read_csv('Input/GTEx/GTEx_Analysis_v8_Annotations_SubjectPhenotypesDS.txt')\n```"
                    },
                    "metadata": {}
                }
            ],
            "source": [
                "%%appyter code_exec\n",
                "\n",
                "subject_meta = pd.read_csv({{FileField(\n",
                "    constraint='.*\\.txt$',\n",
                "    name='subject_metadata', \n",
                "    label='Subject Metadata', \n",
                "    default='Input/GTEx/GTEx_Analysis_v8_Annotations_SubjectPhenotypesDS.txt',\n",
                "    section='data')\n",
                "}})"
            ]
        },
        {
            "cell_type": "code",
            "execution_count": 19,
            "metadata": {},
            "outputs": [
                {
                    "output_type": "execute_result",
                    "data": {
                        "text/plain": "  SUBJID\\tSEX\\tAGE\\tDTHHRDY\n0   GTEX-1117F\\t2\\t60-69\\t4\n1   GTEX-111CU\\t1\\t50-59\\t0\n2   GTEX-111FC\\t1\\t60-69\\t1\n3   GTEX-111VG\\t1\\t60-69\\t3\n4   GTEX-111YS\\t1\\t60-69\\t0",
                        "text/html": "<div>\n<style scoped>\n    .dataframe tbody tr th:only-of-type {\n        vertical-align: middle;\n    }\n\n    .dataframe tbody tr th {\n        vertical-align: top;\n    }\n\n    .dataframe thead th {\n        text-align: right;\n    }\n</style>\n<table border=\"1\" class=\"dataframe\">\n  <thead>\n    <tr style=\"text-align: right;\">\n      <th></th>\n      <th>SUBJID\\tSEX\\tAGE\\tDTHHRDY</th>\n    </tr>\n  </thead>\n  <tbody>\n    <tr>\n      <th>0</th>\n      <td>GTEX-1117F\\t2\\t60-69\\t4</td>\n    </tr>\n    <tr>\n      <th>1</th>\n      <td>GTEX-111CU\\t1\\t50-59\\t0</td>\n    </tr>\n    <tr>\n      <th>2</th>\n      <td>GTEX-111FC\\t1\\t60-69\\t1</td>\n    </tr>\n    <tr>\n      <th>3</th>\n      <td>GTEX-111VG\\t1\\t60-69\\t3</td>\n    </tr>\n    <tr>\n      <th>4</th>\n      <td>GTEX-111YS\\t1\\t60-69\\t0</td>\n    </tr>\n  </tbody>\n</table>\n</div>"
                    },
                    "metadata": {},
                    "execution_count": 19
                }
            ],
            "source": [
                "subject_meta.head()"
            ]
        },
        {
            "cell_type": "code",
            "execution_count": null,
            "metadata": {},
            "outputs": [],
            "source": [
                "subject_meta.shape"
            ]
        },
        {
            "cell_type": "markdown",
            "metadata": {},
            "source": [
                "# Pre-process Data"
            ]
        },
        {
            "cell_type": "markdown",
            "metadata": {},
            "source": [
                "## Map Sample ID to Attribute"
            ]
        },
        {
            "cell_type": "code",
            "execution_count": null,
            "metadata": {},
            "outputs": [],
            "source": [
                "matrix.columns = sample_meta.reindex(matrix.columns).reset_index(drop=True)\n",
                "matrix.head()"
            ]
        },
        {
            "cell_type": "markdown",
            "metadata": {},
            "source": [
                "## Save Unfiltered Matrix to file"
            ]
        },
        {
            "cell_type": "code",
            "execution_count": null,
            "metadata": {},
            "outputs": [],
            "source": [
                "uf.save_data(matrix, path, output_name + '_matrix_unfiltered',\n",
                "            compression='gzip', dtype=np.float32)"
            ]
        },
        {
            "cell_type": "markdown",
            "metadata": {},
            "source": [
                "# Filter Data"
            ]
        },
        {
            "cell_type": "markdown",
            "metadata": {},
            "source": [
                "## Map Gene Symbols to Up-to-date Approved Gene Symbols"
            ]
        },
        {
            "cell_type": "code",
            "execution_count": null,
            "metadata": {},
            "outputs": [],
            "source": [
                "matrix = uf.map_symbols(matrix, symbol_lookup)\n",
                "matrix.shape"
            ]
        },
        {
            "cell_type": "markdown",
            "metadata": {},
            "source": [
                "## Merge Duplicate Genes By Rows and Duplicate Columns"
            ]
        },
        {
            "cell_type": "code",
            "execution_count": null,
            "metadata": {},
            "outputs": [],
            "source": [
                "matrix = uf.merge(matrix, 'row')\n",
                "matrix = uf.merge(matrix, 'column')\n",
                "matrix.shape"
            ]
        },
        {
            "cell_type": "markdown",
            "metadata": {},
            "source": [
                "## Remove Data that is More Than 95% Missing and Impute Missing Data"
            ]
        },
        {
            "cell_type": "code",
            "execution_count": null,
            "metadata": {},
            "outputs": [],
            "source": [
                "matrix = uf.remove_impute(matrix)\n",
                "matrix.head()"
            ]
        },
        {
            "cell_type": "code",
            "execution_count": null,
            "metadata": {},
            "outputs": [],
            "source": [
                "matrix.shape"
            ]
        },
        {
            "cell_type": "markdown",
            "metadata": {},
            "source": [
                "## Log2 Transform"
            ]
        },
        {
            "cell_type": "code",
            "execution_count": null,
            "metadata": {},
            "outputs": [],
            "source": [
                "matrix = uf.log2(matrix)\n",
                "matrix.head()"
            ]
        },
        {
            "cell_type": "markdown",
            "metadata": {},
            "source": [
                "## Normalize Matrix (Quantile Normalize the Matrix by Column)"
            ]
        },
        {
            "cell_type": "code",
            "execution_count": null,
            "metadata": {},
            "outputs": [],
            "source": [
                "matrix = uf.quantile_normalize(matrix)\n",
                "matrix.head()"
            ]
        },
        {
            "cell_type": "markdown",
            "metadata": {},
            "source": [
                "## Normalize Matrix (Z-Score the Rows)"
            ]
        },
        {
            "cell_type": "code",
            "execution_count": null,
            "metadata": {},
            "outputs": [],
            "source": [
                "matrix = uf.zscore(matrix)\n",
                "matrix.head()"
            ]
        },
        {
            "cell_type": "markdown",
            "metadata": {},
            "source": [
                "## Histogram of First Sample"
            ]
        },
        {
            "cell_type": "code",
            "execution_count": null,
            "metadata": {},
            "outputs": [],
            "source": [
                "matrix.iloc[:, 0].hist(bins=100)"
            ]
        },
        {
            "cell_type": "markdown",
            "metadata": {},
            "source": [
                "## Histogram of First Gene"
            ]
        },
        {
            "cell_type": "code",
            "execution_count": null,
            "metadata": {},
            "outputs": [],
            "source": [
                "matrix.iloc[0, :].hist(bins=100)"
            ]
        },
        {
            "cell_type": "markdown",
            "metadata": {},
            "source": [
                "## Save Filtered Matrix"
            ]
        },
        {
            "cell_type": "code",
            "execution_count": null,
            "metadata": {},
            "outputs": [],
            "source": [
                "uf.save_data(matrix, path, output_name + '_matrix_filtered', \n",
                "            ext='tsv', compression='gzip')"
            ]
        },
        {
            "cell_type": "markdown",
            "metadata": {},
            "source": [
                "# Analyze Data"
            ]
        },
        {
            "cell_type": "markdown",
            "metadata": {},
            "source": [
                "## Create Gene List"
            ]
        },
        {
            "cell_type": "code",
            "execution_count": null,
            "metadata": {},
            "outputs": [],
            "source": [
                "gene_list = uf.gene_list(matrix, geneid_lookup)\n",
                "gene_list.head()"
            ]
        },
        {
            "cell_type": "code",
            "execution_count": null,
            "metadata": {},
            "outputs": [],
            "source": [
                "gene_list.shape"
            ]
        },
        {
            "cell_type": "code",
            "execution_count": null,
            "metadata": {},
            "outputs": [],
            "source": [
                "uf.save_data(gene_list, path, output_name + '_gene_list',\n",
                "            ext='tsv', compression='gzip', index=False)"
            ]
        },
        {
            "cell_type": "markdown",
            "metadata": {},
            "source": [
                "## Create Attribute List"
            ]
        },
        {
            "cell_type": "code",
            "execution_count": null,
            "metadata": {},
            "outputs": [],
            "source": [
                "attribute_list = uf.attribute_list(matrix)\n",
                "attribute_list.head()"
            ]
        },
        {
            "cell_type": "code",
            "execution_count": null,
            "metadata": {},
            "outputs": [],
            "source": [
                "attribute_list.shape"
            ]
        },
        {
            "cell_type": "code",
            "execution_count": null,
            "metadata": {},
            "outputs": [],
            "source": [
                "uf.save_data(attribute_list, path, output_name + '_attribute_list',\n",
                "            ext='tsv', compression='gzip')"
            ]
        },
        {
            "cell_type": "markdown",
            "metadata": {},
            "source": [
                "## Create matrix of Standardized values (values between -1, and 1)"
            ]
        },
        {
            "cell_type": "code",
            "execution_count": null,
            "metadata": {},
            "outputs": [],
            "source": [
                "standard_matrix = uf.standardized_matrix(matrix)\n",
                "standard_matrix.head()"
            ]
        },
        {
            "cell_type": "code",
            "execution_count": null,
            "metadata": {},
            "outputs": [],
            "source": [
                "uf.save_data(standard_matrix, path, output_name + '_standard_matrix',\n",
                "            ext='tsv', compression='gzip')"
            ]
        },
        {
            "cell_type": "markdown",
            "metadata": {},
            "source": [
                "## Plot of A Single Celltype, Normalized Value vs. Standardized Value"
            ]
        },
        {
            "cell_type": "code",
            "execution_count": null,
            "metadata": {},
            "outputs": [],
            "source": [
                "plt.plot(matrix[matrix.columns[0]],\n",
                "         standard_matrix[standard_matrix.columns[0]], 'bo')\n",
                "plt.xlabel('Normalized Values')\n",
                "plt.ylabel('Standardized Values')\n",
                "plt.title(standard_matrix.columns[0])\n",
                "plt.grid(True)"
            ]
        },
        {
            "cell_type": "markdown",
            "metadata": {},
            "source": [
                "## Create Ternary Matrix"
            ]
        },
        {
            "cell_type": "code",
            "execution_count": null,
            "metadata": {},
            "outputs": [],
            "source": [
                "ternary_matrix = uf.ternary_matrix(standard_matrix)\n",
                "ternary_matrix.head()"
            ]
        },
        {
            "cell_type": "code",
            "execution_count": null,
            "metadata": {},
            "outputs": [],
            "source": [
                "uf.save_data(ternary_matrix, path, output_name + '_ternary_matrix',\n",
                "            ext='tsv', compression='gzip')"
            ]
        },
        {
            "cell_type": "markdown",
            "metadata": {},
            "source": [
                "## Create Gene and Attribute Set Libraries"
            ]
        },
        {
            "cell_type": "code",
            "execution_count": null,
            "metadata": {},
            "outputs": [],
            "source": [
                "uf.save_setlib(ternary_matrix, 'gene', 'up', path, output_name + '_gene_up_set')"
            ]
        },
        {
            "cell_type": "code",
            "execution_count": null,
            "metadata": {},
            "outputs": [],
            "source": [
                "uf.save_setlib(ternary_matrix, 'gene', 'down', path, output_name + '_gene_down_set')"
            ]
        },
        {
            "cell_type": "code",
            "execution_count": null,
            "metadata": {},
            "outputs": [],
            "source": [
                "uf.save_setlib(ternary_matrix, 'attribute', 'up', path, \n",
                "                           output_name + '_attribute_up_set')"
            ]
        },
        {
            "cell_type": "code",
            "execution_count": null,
            "metadata": {},
            "outputs": [],
            "source": [
                "uf.save_setlib(ternary_matrix, 'attribute', 'down', path, \n",
                "                             output_name + '_attribute_down_set')"
            ]
        },
        {
            "cell_type": "markdown",
            "metadata": {},
            "source": [
                "## Create Attribute Similarity Matrix"
            ]
        },
        {
            "cell_type": "code",
            "execution_count": null,
            "metadata": {},
            "outputs": [],
            "source": [
                "attribute_similarity_matrix = uf.similarity_matrix(matrix.T, 'cosine')\n",
                "attribute_similarity_matrix.head()"
            ]
        },
        {
            "cell_type": "code",
            "execution_count": null,
            "metadata": {},
            "outputs": [],
            "source": [
                "uf.save_data(attribute_similarity_matrix, path,\n",
                "            output_name + '_attribute_similarity_matrix', \n",
                "            compression='npz', symmetric=True, dtype=np.float32)"
            ]
        },
        {
            "cell_type": "code",
            "execution_count": null,
            "metadata": {},
            "outputs": [],
            "source": [
                "# net.load_df(attribute_similarity_matrix.iloc[:,:].copy())\n",
                "# net.filter_N_top('row', rank_type='sum', N_top=300)\n",
                "# net.cluster()\n",
                "# net.widget()"
            ]
        },
        {
            "cell_type": "markdown",
            "metadata": {},
            "source": [
                "## Create Gene Similarity Matrix"
            ]
        },
        {
            "cell_type": "code",
            "execution_count": null,
            "metadata": {},
            "outputs": [],
            "source": [
                "gene_similarity_matrix = uf.similarity_matrix(matrix, 'cosine')\n",
                "gene_similarity_matrix.head()"
            ]
        },
        {
            "cell_type": "code",
            "execution_count": null,
            "metadata": {},
            "outputs": [],
            "source": [
                "uf.save_data(gene_similarity_matrix, path, \n",
                "            output_name + '_gene_similarity_matrix',\n",
                "            compression='npz', symmetric=True, dtype=np.float32)"
            ]
        },
        {
            "cell_type": "markdown",
            "metadata": {},
            "source": [
                "## Create Gene-Attribute Edge List"
            ]
        },
        {
            "cell_type": "code",
            "execution_count": null,
            "metadata": {},
            "outputs": [],
            "source": [
                "edge_list = uf(standard_matrix)\n",
                "uf.save_data(edge_list, path, output_name + 'edge_list', \n",
                "        ext='tsv', compression='gzip')"
            ]
        },
        {
            "cell_type": "markdown",
            "metadata": {},
            "source": [
                "# Create Downloadable Save File"
            ]
        },
        {
            "cell_type": "code",
            "execution_count": null,
            "metadata": {},
            "outputs": [],
            "source": [
                "uf.archive(path)"
            ]
        },
        {
            "cell_type": "markdown",
            "metadata": {},
            "source": [
                "### Link to download output files: [click here](./output_archive.zip)"
            ]
        }
    ],
    "metadata": {
        "language_info": {
            "codemirror_mode": {
                "name": "ipython",
                "version": 3
            },
            "file_extension": ".py",
            "mimetype": "text/x-python",
            "name": "python",
            "nbconvert_exporter": "python",
            "pygments_lexer": "ipython3",
            "version": 3
        },
        "orig_nbformat": 2,
        "kernelspec": {
            "name": "python_defaultSpec_1593392941390",
            "display_name": "Python 3.8.0 64-bit ('harmonizome': venv)"
        }
    },
    "nbformat": 4,
    "nbformat_minor": 2
}