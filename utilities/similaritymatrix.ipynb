{
 "cells": [
  {
   "cell_type": "code",
   "execution_count": 1,
   "metadata": {},
   "outputs": [],
   "source": [
    "%load_ext autoreload\n",
    "%load_ext memory_profiler\n",
    "%autoreload 2\n",
    "\n",
    "import pandas as pd\n",
    "import numpy as np\n",
    "import utility_functions2 as uf\n",
    "import string\n",
    "import itertools\n",
    "import timeit\n",
    "import scipy.spatial.distance as dist\n"
   ]
  },
  {
   "cell_type": "code",
   "execution_count": 2,
   "metadata": {},
   "outputs": [
    {
     "output_type": "stream",
     "name": "stdout",
     "text": "peak memory: 93.17 MiB, increment: 0.30 MiB\n"
    }
   ],
   "source": [
    "%%memit\n",
    "n, m = 3000, 3000\n",
    "name_gen = map(''.join, itertools.islice(itertools.product('ABCDE',repeat=6), n))\n",
    "attr_gen = map(''.join, itertools.islice(itertools.product('EDCBA',repeat=6), m))\n",
    "names = list(name_gen)\n",
    "attr = list(attr_gen)"
   ]
  },
  {
   "cell_type": "code",
   "execution_count": 3,
   "metadata": {},
   "outputs": [
    {
     "output_type": "stream",
     "name": "stdout",
     "text": "peak memory: 108.49 MiB, increment: 15.29 MiB\n"
    }
   ],
   "source": [
    "%%memit\n",
    "# data = np.triu(np.random.random((n, m)))\n",
    "# data = (data + data.T) / 2\n",
    "data = np.random.randint(2, size=(n, m))\n",
    "data"
   ]
  },
  {
   "cell_type": "code",
   "execution_count": 4,
   "metadata": {},
   "outputs": [
    {
     "output_type": "stream",
     "name": "stdout",
     "text": "peak memory: 101.09 MiB, increment: 0.12 MiB\n"
    }
   ],
   "source": [
    "%%memit\n",
    "df = pd.DataFrame(data, index=names, columns=attr)\n",
    "df"
   ]
  },
  {
   "cell_type": "code",
   "execution_count": 5,
   "metadata": {},
   "outputs": [
    {
     "output_type": "stream",
     "name": "stdout",
     "text": "peak memory: 112.52 MiB, increment: 11.39 MiB\n"
    }
   ],
   "source": [
    "%%memit \n",
    "similarity_matrix = dist.pdist(df, 'cosine')"
   ]
  },
  {
   "cell_type": "code",
   "execution_count": 6,
   "metadata": {},
   "outputs": [
    {
     "output_type": "stream",
     "name": "stdout",
     "text": "peak memory: 112.56 MiB, increment: 0.04 MiB\n"
    }
   ],
   "source": [
    "%%memit \n",
    "similarity_matrix = dist.squareform(similarity_matrix)"
   ]
  },
  {
   "cell_type": "code",
   "execution_count": 7,
   "metadata": {},
   "outputs": [
    {
     "output_type": "stream",
     "name": "stdout",
     "text": "peak memory: 120.19 MiB, increment: 7.63 MiB\n"
    }
   ],
   "source": [
    "%%memit \n",
    "similarity_matrix = 1 - similarity_matrix"
   ]
  },
  {
   "cell_type": "code",
   "execution_count": 8,
   "metadata": {},
   "outputs": [
    {
     "output_type": "stream",
     "name": "stdout",
     "text": "peak memory: 120.20 MiB, increment: 0.00 MiB\n"
    }
   ],
   "source": [
    "%%memit \n",
    "similarity_df = pd.DataFrame(\n",
    "    data=similarity_matrix, index=df.index, columns=df.index)"
   ]
  },
  {
   "cell_type": "code",
   "execution_count": 6,
   "metadata": {},
   "outputs": [],
   "source": [
    "#%time uf.saveData(df, 'Output/', 'similarity_triu_savez_compressed', compression='npz', symmetric=False, dtype=np.float32)"
   ]
  },
  {
   "cell_type": "code",
   "execution_count": 8,
   "metadata": {
    "tags": [
     "outputPrepend"
    ]
   },
   "outputs": [],
   "source": [
    "#%%time\n",
    "#df2 = uf.loadData('Output/similarity_triu_savez_compressed_2020_06.npz')\n",
    "#df2"
   ]
  },
  {
   "cell_type": "code",
   "execution_count": 9,
   "metadata": {},
   "outputs": [],
   "source": [
    "#assert(np.allclose(df, df2))"
   ]
  },
  {
   "cell_type": "code",
   "execution_count": 10,
   "metadata": {},
   "outputs": [],
   "source": [
    "#%time uf.saveData(df, 'Output/', 'similarity_tsv', compression='gzip')"
   ]
  },
  {
   "cell_type": "code",
   "execution_count": null,
   "metadata": {},
   "outputs": [],
   "source": []
  }
 ],
 "metadata": {
  "language_info": {
   "codemirror_mode": {
    "name": "ipython",
    "version": 3
   },
   "file_extension": ".py",
   "mimetype": "text/x-python",
   "name": "python",
   "nbconvert_exporter": "python",
   "pygments_lexer": "ipython3",
   "version": "3.8.0-final"
  },
  "orig_nbformat": 2,
  "kernelspec": {
   "name": "python38064bitharmonizomevenve1fd62c035f347dbaffce382c9034785",
   "display_name": "Python 3.8.0 64-bit ('harmonizome': venv)"
  }
 },
 "nbformat": 4,
 "nbformat_minor": 2
}