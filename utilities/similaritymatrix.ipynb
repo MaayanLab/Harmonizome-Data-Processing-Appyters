{
 "cells": [
  {
   "cell_type": "code",
   "execution_count": 43,
   "metadata": {},
   "outputs": [
    {
     "output_type": "stream",
     "name": "stdout",
     "text": "The autoreload extension is already loaded. To reload it, use:\n  %reload_ext autoreload\n"
    }
   ],
   "source": [
    "%load_ext autoreload\n",
    "%autoreload 2\n",
    "\n",
    "import pandas as pd\n",
    "import numpy as np\n",
    "import utility_functions2 as uf\n",
    "import string\n",
    "import itertools\n",
    "import timeit"
   ]
  },
  {
   "cell_type": "code",
   "execution_count": 44,
   "metadata": {},
   "outputs": [],
   "source": [
    "n, m = 2000, 2000\n",
    "name_gen = map(''.join, itertools.islice(itertools.product('ABCDE',repeat=10), n))\n",
    "attr_gen = map(''.join, itertools.islice(itertools.product('EDCBA',repeat=10), m))\n",
    "names = list(name_gen)\n",
    "attr = list(attr_gen)"
   ]
  },
  {
   "cell_type": "code",
   "execution_count": 45,
   "metadata": {},
   "outputs": [
    {
     "output_type": "execute_result",
     "data": {
      "text/plain": "array([[8.73393251e-01, 5.75588275e-01, 8.30750440e-01, ...,\n        6.97096128e-01, 3.98447291e-03, 5.87359127e-02],\n       [6.12046928e-01, 1.02958683e-04, 8.07972020e-02, ...,\n        2.39543308e-01, 1.49188852e-01, 1.48875579e-01],\n       [1.76048137e-01, 1.53624808e-02, 6.60948271e-02, ...,\n        9.50976018e-01, 5.53726525e-01, 9.53184866e-01],\n       ...,\n       [1.17938727e-02, 8.62752098e-03, 5.83677760e-01, ...,\n        7.55508156e-01, 3.67182661e-01, 7.28745524e-01],\n       [4.17923743e-01, 9.06424730e-01, 3.27633955e-01, ...,\n        8.05780211e-01, 5.10796815e-02, 1.90599365e-01],\n       [9.52161598e-01, 1.71719296e-01, 7.95404779e-01, ...,\n        1.98586962e-01, 3.11928910e-01, 1.43949799e-01]])"
     },
     "metadata": {},
     "execution_count": 45
    }
   ],
   "source": [
    "# data = np.triu(np.random.random((n, m)))\n",
    "# data = (data + data.T) / 2\n",
    "data = np.random.random((n, m))\n",
    "data"
   ]
  },
  {
   "cell_type": "code",
   "execution_count": 46,
   "metadata": {},
   "outputs": [
    {
     "output_type": "execute_result",
     "data": {
      "text/plain": "087591    0.919349   \nAAAAADAEEE    0.487172    0.561771    0.609427    0.482757    0.061068   \n\n            EEEEEBEAAE  EEEEEBEAAD  EEEEEBEAAC  EEEEEBEAAB  EEEEEBEAAA  \nAAAAAAAAAA    0.779519    0.829328    0.697096    0.003984    0.058736  \nAAAAAAAAAB    0.381783    0.495454    0.239543    0.149189    0.148876  \nAAAAAAAAAC    0.470596    0.371157    0.950976    0.553727    0.953185  \nAAAAAAAAAD    0.143183    0.871108    0.757016    0.675943    0.085395  \nAAAAAAAAAE    0.112943    0.454302    0.127623    0.961122    0.563443  \n...                ...         ...         ...         ...         ...  \nAAAAADAEEA    0.061722    0.342202    0.610841    0.678893    0.699547  \nAAAAADAEEB    0.203403    0.488242    0.904513    0.174504    0.302811  \nAAAAADAEEC    0.778152    0.691534    0.755508    0.367183    0.728746  \nAAAAADAEED    0.126462    0.689919    0.805780    0.051080    0.190599  \nAAAAADAEEE    0.245076    0.739102    0.198587    0.311929    0.143950  \n\n[2000 rows x 2000 columns]",
      "text/html": "<div>\n<style scoped>\n    .dataframe tbody tr th:only-of-type {\n        vertical-align: middle;\n    }\n\n    .dataframe tbody tr th {\n        vertical-align: top;\n    }\n\n    .dataframe thead th {\n        text-align: right;\n    }\n</style>\n<table border=\"1\" class=\"dataframe\">\n  <thead>\n    <tr style=\"text-align: right;\">\n      <th></th>\n      <th>EEEEEEEEEE</th>\n      <th>EEEEEEEEED</th>\n      <th>EEEEEEEEEC</th>\n      <th>EEEEEEEEEB</th>\n      <th>EEEEEEEEEA</th>\n      <th>EEEEEEEEDE</th>\n      <th>EEEEEEEEDD</th>\n      <th>EEEEEEEEDC</th>\n      <th>EEEEEEEEDB</th>\n      <th>EEEEEEEEDA</th>\n      <th>...</th>\n      <th>EEEEEBEABE</th>\n      <th>EEEEEBEABD</th>\n      <th>EEEEEBEABC</th>\n      <th>EEEEEBEABB</th>\n      <th>EEEEEBEABA</th>\n      <th>EEEEEBEAAE</th>\n      <th>EEEEEBEAAD</th>\n      <th>EEEEEBEAAC</th>\n      <th>EEEEEBEAAB</th>\n      <th>EEEEEBEAAA</th>\n    </tr>\n  </thead>\n  <tbody>\n    <tr>\n      <th>AAAAAAAAAA</th>\n      <td>0.873393</td>\n      <td>0.575588</td>\n      <td>0.830750</td>\n      <td>0.612421</td>\n      <td>0.697014</td>\n      <td>0.079781</td>\n      <td>0.785224</td>\n      <td>0.686491</td>\n      <td>0.581780</td>\n      <td>0.032717</td>\n      <td>...</td>\n      <td>0.473859</td>\n      <td>0.106049</td>\n      <td>0.605083</td>\n      <td>0.961291</td>\n      <td>0.401488</td>\n      <td>0.779519</td>\n      <td>0.829328</td>\n      <td>0.697096</td>\n      <td>0.003984</td>\n      <td>0.058736</td>\n    </tr>\n    <tr>\n      <th>AAAAAAAAAB</th>\n      <td>0.612047</td>\n      <td>0.000103</td>\n      <td>0.080797</td>\n      <td>0.921956</td>\n      <td>0.367519</td>\n      <td>0.873507</td>\n      <td>0.594350</td>\n      <td>0.314121</td>\n      <td>0.409214</td>\n      <td>0.293331</td>\n      <td>...</td>\n      <td>0.604528</td>\n      <td>0.066746</td>\n      <td>0.492118</td>\n      <td>0.234892</td>\n      <td>0.834038</td>\n      <td>0.381783</td>\n      <td>0.495454</td>\n      <td>0.239543</td>\n      <td>0.149189</td>\n      <td>0.148876</td>\n    </tr>\n    <tr>\n      <th>AAAAAAAAAC</th>\n      <td>0.176048</td>\n      <td>0.015362</td>\n      <td>0.066095</td>\n      <td>0.118506</td>\n      <td>0.611327</td>\n      <td>0.735116</td>\n      <td>0.806221</td>\n      <td>0.400710</td>\n      <td>0.493260</td>\n      <td>0.905059</td>\n      <td>...</td>\n      <td>0.679686</td>\n      <td>0.833384</td>\n      <td>0.711531</td>\n      <td>0.448688</td>\n      <td>0.650596</td>\n      <td>0.470596</td>\n      <td>0.371157</td>\n      <td>0.950976</td>\n      <td>0.553727</td>\n      <td>0.953185</td>\n    </tr>\n    <tr>\n      <th>AAAAAAAAAD</th>\n      <td>0.589419</td>\n      <td>0.761263</td>\n      <td>0.112580</td>\n      <td>0.547873</td>\n      <td>0.936099</td>\n      <td>0.499717</td>\n      <td>0.922122</td>\n      <td>0.047231</td>\n      <td>0.545379</td>\n      <td>0.915371</td>\n      <td>...</td>\n      <td>0.915998</td>\n      <td>0.980140</td>\n      <td>0.018676</td>\n      <td>0.731813</td>\n      <td>0.825539</td>\n      <td>0.143183</td>\n      <td>0.871108</td>\n      <td>0.757016</td>\n      <td>0.675943</td>\n      <td>0.085395</td>\n    </tr>\n    <tr>\n      <th>AAAAAAAAAE</th>\n      <td>0.362728</td>\n      <td>0.164012</td>\n      <td>0.971541</td>\n      <td>0.922180</td>\n      <td>0.705057</td>\n      <td>0.315834</td>\n      <td>0.233304</td>\n      <td>0.224096</td>\n      <td>0.948883</td>\n      <td>0.675261</td>\n      <td>...</td>\n      <td>0.056219</td>\n      <td>0.771284</td>\n      <td>0.316312</td>\n      <td>0.629730</td>\n      <td>0.050934</td>\n      <td>0.112943</td>\n      <td>0.454302</td>\n      <td>0.127623</td>\n      <td>0.961122</td>\n      <td>0.563443</td>\n    </tr>\n    <tr>\n      <th>...</th>\n      <td>...</td>\n      <td>...</td>\n      <td>...</td>\n      <td>...</td>\n      <td>...</td>\n      <td>...</td>\n      <td>...</td>\n      <td>...</td>\n      <td>...</td>\n      <td>...</td>\n      <td>...</td>\n      <td>...</td>\n      <td>...</td>\n      <td>...</td>\n      <td>...</td>\n      <td>...</td>\n      <td>...</td>\n      <td>...</td>\n      <td>...</td>\n      <td>...</td>\n      <td>...</td>\n    </tr>\n    <tr>\n      <th>AAAAADAEEA</th>\n      <td>0.152009</td>\n      <td>0.436568</td>\n      <td>0.040750</td>\n      <td>0.918164</td>\n      <td>0.655389</td>\n      <td>0.898133</td>\n      <td>0.437156</td>\n      <td>0.254701</td>\n      <td>0.141716</td>\n      <td>0.005877</td>\n      <td>...</td>\n      <td>0.269083</td>\n      <td>0.245370</td>\n      <td>0.066768</td>\n      <td>0.131992</td>\n      <td>0.334227</td>\n      <td>0.061722</td>\n      <td>0.342202</td>\n      <td>0.610841</td>\n      <td>0.678893</td>\n      <td>0.699547</td>\n    </tr>\n    <tr>\n      <th>AAAAADAEEB</th>\n      <td>0.937876</td>\n      <td>0.081590</td>\n      <td>0.243454</td>\n      <td>0.001278</td>\n      <td>0.538129</td>\n      <td>0.606353</td>\n      <td>0.687829</td>\n      <td>0.448378</td>\n      <td>0.184382</td>\n      <td>0.348194</td>\n      <td>...</td>\n      <td>0.790466</td>\n      <td>0.691384</td>\n      <td>0.739542</td>\n      <td>0.148238</td>\n      <td>0.468615</td>\n      <td>0.203403</td>\n      <td>0.488242</td>\n      <td>0.904513</td>\n      <td>0.174504</td>\n      <td>0.302811</td>\n    </tr>\n    <tr>\n      <th>AAAAADAEEC</th>\n      <td>0.011794</td>\n      <td>0.008628</td>\n      <td>0.583678</td>\n      <td>0.432028</td>\n      <td>0.366477</td>\n      <td>0.645826</td>\n      <td>0.314672</td>\n      <td>0.363457</td>\n      <td>0.301796</td>\n      <td>0.424137</td>\n      <td>...</td>\n      <td>0.814606</td>\n      <td>0.147595</td>\n      <td>0.770149</td>\n      <td>0.368799</td>\n      <td>0.667265</td>\n      <td>0.778152</td>\n      <td>0.691534</td>\n      <td>0.755508</td>\n      <td>0.367183</td>\n      <td>0.728746</td>\n    </tr>\n    <tr>\n      <th>AAAAADAEED</th>\n      <td>0.417924</td>\n      <td>0.906425</td>\n      <td>0.327634</td>\n      <td>0.916190</td>\n      <td>0.091532</td>\n      <td>0.421814</td>\n      <td>0.008467</td>\n      <td>0.736295</td>\n      <td>0.064724</td>\n      <td>0.649154</td>\n      <td>...</td>\n      <td>0.568619</td>\n      <td>0.593505</td>\n      <td>0.879227</td>\n      <td>0.087591</td>\n      <td>0.919349</td>\n      <td>0.126462</td>\n      <td>0.689919</td>\n      <td>0.805780</td>\n      <td>0.051080</td>\n      <td>0.190599</td>\n    </tr>\n    <tr>\n      <th>AAAAADAEEE</th>\n      <td>0.952162</td>\n      <td>0.171719</td>\n      <td>0.795405</td>\n      <td>0.758320</td>\n      <td>0.267950</td>\n      <td>0.300830</td>\n      <td>0.593645</td>\n      <td>0.001009</td>\n      <td>0.096154</td>\n      <td>0.847474</td>\n      <td>...</td>\n      <td>0.487172</td>\n      <td>0.561771</td>\n      <td>0.609427</td>\n      <td>0.482757</td>\n      <td>0.061068</td>\n      <td>0.245076</td>\n      <td>0.739102</td>\n      <td>0.198587</td>\n      <td>0.311929</td>\n      <td>0.143950</td>\n    </tr>\n  </tbody>\n</table>\n<p>2000 rows × 2000 columns</p>\n</div>"
     },
     "metadata": {},
     "execution_count": 46
    }
   ],
   "source": [
    "df = pd.DataFrame(data, index=names, columns=attr)\n",
    "df"
   ]
  },
  {
   "cell_type": "code",
   "execution_count": 47,
   "metadata": {},
   "outputs": [
    {
     "output_type": "execute_result",
     "data": {
      "text/plain": "16000"
     },
     "metadata": {},
     "execution_count": 47
    }
   ],
   "source": [
    "a = np.array(df.columns)\n",
    "a\n",
    "a.size * a.itemsize"
   ]
  },
  {
   "cell_type": "code",
   "execution_count": 48,
   "metadata": {},
   "outputs": [
    {
     "output_type": "stream",
     "name": "stdout",
     "text": "CPU times: user 609 ms, sys: 31.2 ms, total: 641 ms\nWall time: 635 ms\n"
    }
   ],
   "source": [
    "%time uf.saveData(df, 'Output/', 'similarity_triu_savez_compressed', compression='npz', symmetric=False, dtype=np.float32)"
   ]
  },
  {
   "cell_type": "code",
   "execution_count": 32,
   "metadata": {
    "tags": [
     "outputPrepend"
    ]
   },
   "outputs": [
    {
     "output_type": "stream",
     "name": "stdout",
     "text": "CPU times: user 78.1 ms, sys: 15.6 ms, total: 93.8 ms\nWall time: 94 ms\n"
    },
    {
     "output_type": "execute_result",
     "data": {
      "text/plain": "674525    0.116354   \nAAAAADAEEE    0.089409    0.228418    0.823703    0.030875    0.113332   \n\n            EEEEEBEAAE  EEEEEBEAAD  EEEEEBEAAC  EEEEEBEAAB  EEEEEBEAAA  \nAAAAAAAAAA    0.532842    0.847047    0.807954    0.132580    0.533009  \nAAAAAAAAAB    0.649157    0.683825    0.693880    0.196403    0.043533  \nAAAAAAAAAC    0.567436    0.288617    0.959986    0.670203    0.744805  \nAAAAAAAAAD    0.882540    0.532678    0.320825    0.304952    0.115475  \nAAAAAAAAAE    0.823198    0.109091    0.310745    0.220095    0.302735  \n...                ...         ...         ...         ...         ...  \nAAAAADAEEA    0.428344    0.108104    0.712192    0.850650    0.437216  \nAAAAADAEEB    0.212874    0.261563    0.178170    0.702492    0.935314  \nAAAAADAEEC    0.560925    0.336394    0.970688    0.302873    0.808228  \nAAAAADAEED    0.811095    0.153363    0.213408    0.163380    0.486105  \nAAAAADAEEE    0.095566    0.319781    0.574819    0.460115    0.238322  \n\n[2000 rows x 2000 columns]",
      "text/html": "<div>\n<style scoped>\n    .dataframe tbody tr th:only-of-type {\n        vertical-align: middle;\n    }\n\n    .dataframe tbody tr th {\n        vertical-align: top;\n    }\n\n    .dataframe thead th {\n        text-align: right;\n    }\n</style>\n<table border=\"1\" class=\"dataframe\">\n  <thead>\n    <tr style=\"text-align: right;\">\n      <th></th>\n      <th>EEEEEEEEEE</th>\n      <th>EEEEEEEEED</th>\n      <th>EEEEEEEEEC</th>\n      <th>EEEEEEEEEB</th>\n      <th>EEEEEEEEEA</th>\n      <th>EEEEEEEEDE</th>\n      <th>EEEEEEEEDD</th>\n      <th>EEEEEEEEDC</th>\n      <th>EEEEEEEEDB</th>\n      <th>EEEEEEEEDA</th>\n      <th>...</th>\n      <th>EEEEEBEABE</th>\n      <th>EEEEEBEABD</th>\n      <th>EEEEEBEABC</th>\n      <th>EEEEEBEABB</th>\n      <th>EEEEEBEABA</th>\n      <th>EEEEEBEAAE</th>\n      <th>EEEEEBEAAD</th>\n      <th>EEEEEBEAAC</th>\n      <th>EEEEEBEAAB</th>\n      <th>EEEEEBEAAA</th>\n    </tr>\n  </thead>\n  <tbody>\n    <tr>\n      <th>AAAAAAAAAA</th>\n      <td>0.363323</td>\n      <td>0.131277</td>\n      <td>0.762640</td>\n      <td>0.776034</td>\n      <td>0.986384</td>\n      <td>0.225618</td>\n      <td>0.247006</td>\n      <td>0.874823</td>\n      <td>0.009901</td>\n      <td>0.601858</td>\n      <td>...</td>\n      <td>0.994365</td>\n      <td>0.681940</td>\n      <td>0.073641</td>\n      <td>0.171346</td>\n      <td>0.585657</td>\n      <td>0.532842</td>\n      <td>0.847047</td>\n      <td>0.807954</td>\n      <td>0.132580</td>\n      <td>0.533009</td>\n    </tr>\n    <tr>\n      <th>AAAAAAAAAB</th>\n      <td>0.621642</td>\n      <td>0.600215</td>\n      <td>0.629870</td>\n      <td>0.609140</td>\n      <td>0.793199</td>\n      <td>0.783228</td>\n      <td>0.783613</td>\n      <td>0.856393</td>\n      <td>0.091350</td>\n      <td>0.919278</td>\n      <td>...</td>\n      <td>0.272982</td>\n      <td>0.034385</td>\n      <td>0.387439</td>\n      <td>0.546881</td>\n      <td>0.793500</td>\n      <td>0.649157</td>\n      <td>0.683825</td>\n      <td>0.693880</td>\n      <td>0.196403</td>\n      <td>0.043533</td>\n    </tr>\n    <tr>\n      <th>AAAAAAAAAC</th>\n      <td>0.149308</td>\n      <td>0.695211</td>\n      <td>0.404222</td>\n      <td>0.093722</td>\n      <td>0.300205</td>\n      <td>0.867602</td>\n      <td>0.000598</td>\n      <td>0.779811</td>\n      <td>0.988467</td>\n      <td>0.784053</td>\n      <td>...</td>\n      <td>0.062280</td>\n      <td>0.216039</td>\n      <td>0.932083</td>\n      <td>0.610437</td>\n      <td>0.269273</td>\n      <td>0.567436</td>\n      <td>0.288617</td>\n      <td>0.959986</td>\n      <td>0.670203</td>\n      <td>0.744805</td>\n    </tr>\n    <tr>\n      <th>AAAAAAAAAD</th>\n      <td>0.118601</td>\n      <td>0.200457</td>\n      <td>0.351966</td>\n      <td>0.478855</td>\n      <td>0.815849</td>\n      <td>0.967269</td>\n      <td>0.991456</td>\n      <td>0.642074</td>\n      <td>0.108725</td>\n      <td>0.979046</td>\n      <td>...</td>\n      <td>0.074628</td>\n      <td>0.830683</td>\n      <td>0.534633</td>\n      <td>0.104899</td>\n      <td>0.770042</td>\n      <td>0.882540</td>\n      <td>0.532678</td>\n      <td>0.320825</td>\n      <td>0.304952</td>\n      <td>0.115475</td>\n    </tr>\n    <tr>\n      <th>AAAAAAAAAE</th>\n      <td>0.654643</td>\n      <td>0.572682</td>\n      <td>0.235590</td>\n      <td>0.119699</td>\n      <td>0.766651</td>\n      <td>0.805959</td>\n      <td>0.188770</td>\n      <td>0.565542</td>\n      <td>0.596731</td>\n      <td>0.907938</td>\n      <td>...</td>\n      <td>0.747333</td>\n      <td>0.504221</td>\n      <td>0.221140</td>\n      <td>0.725262</td>\n      <td>0.860003</td>\n      <td>0.823198</td>\n      <td>0.109091</td>\n      <td>0.310745</td>\n      <td>0.220095</td>\n      <td>0.302735</td>\n    </tr>\n    <tr>\n      <th>...</th>\n      <td>...</td>\n      <td>...</td>\n      <td>...</td>\n      <td>...</td>\n      <td>...</td>\n      <td>...</td>\n      <td>...</td>\n      <td>...</td>\n      <td>...</td>\n      <td>...</td>\n      <td>...</td>\n      <td>...</td>\n      <td>...</td>\n      <td>...</td>\n      <td>...</td>\n      <td>...</td>\n      <td>...</td>\n      <td>...</td>\n      <td>...</td>\n      <td>...</td>\n      <td>...</td>\n    </tr>\n    <tr>\n      <th>AAAAADAEEA</th>\n      <td>0.657428</td>\n      <td>0.892190</td>\n      <td>0.640780</td>\n      <td>0.170053</td>\n      <td>0.190366</td>\n      <td>0.041424</td>\n      <td>0.750867</td>\n      <td>0.082778</td>\n      <td>0.228758</td>\n      <td>0.143438</td>\n      <td>...</td>\n      <td>0.725486</td>\n      <td>0.772916</td>\n      <td>0.399312</td>\n      <td>0.589940</td>\n      <td>0.044124</td>\n      <td>0.428344</td>\n      <td>0.108104</td>\n      <td>0.712192</td>\n      <td>0.850650</td>\n      <td>0.437216</td>\n    </tr>\n    <tr>\n      <th>AAAAADAEEB</th>\n      <td>0.991031</td>\n      <td>0.430350</td>\n      <td>0.384658</td>\n      <td>0.341848</td>\n      <td>0.382835</td>\n      <td>0.005220</td>\n      <td>0.552202</td>\n      <td>0.705990</td>\n      <td>0.186361</td>\n      <td>0.257214</td>\n      <td>...</td>\n      <td>0.333359</td>\n      <td>0.350795</td>\n      <td>0.022550</td>\n      <td>0.431044</td>\n      <td>0.244150</td>\n      <td>0.212874</td>\n      <td>0.261563</td>\n      <td>0.178170</td>\n      <td>0.702492</td>\n      <td>0.935314</td>\n    </tr>\n    <tr>\n      <th>AAAAADAEEC</th>\n      <td>0.160152</td>\n      <td>0.113146</td>\n      <td>0.596465</td>\n      <td>0.221235</td>\n      <td>0.758009</td>\n      <td>0.662442</td>\n      <td>0.686215</td>\n      <td>0.255903</td>\n      <td>0.021625</td>\n      <td>0.001403</td>\n      <td>...</td>\n      <td>0.468576</td>\n      <td>0.584696</td>\n      <td>0.019347</td>\n      <td>0.305384</td>\n      <td>0.987909</td>\n      <td>0.560925</td>\n      <td>0.336394</td>\n      <td>0.970688</td>\n      <td>0.302873</td>\n      <td>0.808228</td>\n    </tr>\n    <tr>\n      <th>AAAAADAEED</th>\n      <td>0.600938</td>\n      <td>0.685262</td>\n      <td>0.146606</td>\n      <td>0.851452</td>\n      <td>0.679307</td>\n      <td>0.872359</td>\n      <td>0.684983</td>\n      <td>0.673412</td>\n      <td>0.890814</td>\n      <td>0.078906</td>\n      <td>...</td>\n      <td>0.884589</td>\n      <td>0.865144</td>\n      <td>0.462094</td>\n      <td>0.674525</td>\n      <td>0.116354</td>\n      <td>0.811095</td>\n      <td>0.153363</td>\n      <td>0.213408</td>\n      <td>0.163380</td>\n      <td>0.486105</td>\n    </tr>\n    <tr>\n      <th>AAAAADAEEE</th>\n      <td>0.459164</td>\n      <td>0.515149</td>\n      <td>0.997670</td>\n      <td>0.553302</td>\n      <td>0.079440</td>\n      <td>0.827347</td>\n      <td>0.893494</td>\n      <td>0.988601</td>\n      <td>0.556483</td>\n      <td>0.194511</td>\n      <td>...</td>\n      <td>0.089409</td>\n      <td>0.228418</td>\n      <td>0.823703</td>\n      <td>0.030875</td>\n      <td>0.113332</td>\n      <td>0.095566</td>\n      <td>0.319781</td>\n      <td>0.574819</td>\n      <td>0.460115</td>\n      <td>0.238322</td>\n    </tr>\n  </tbody>\n</table>\n<p>2000 rows × 2000 columns</p>\n</div>"
     },
     "metadata": {},
     "execution_count": 32
    }
   ],
   "source": [
    "%%time\n",
    "df2 = uf.loadData('Output/similarity_triu_savez_compressed_2020_06.npz')\n",
    "df2"
   ]
  },
  {
   "cell_type": "code",
   "execution_count": 33,
   "metadata": {},
   "outputs": [],
   "source": [
    "assert(np.allclose(df, df2))"
   ]
  },
  {
   "cell_type": "code",
   "execution_count": 34,
   "metadata": {},
   "outputs": [
    {
     "output_type": "stream",
     "name": "stdout",
     "text": "CPU times: user 15.8 s, sys: 328 ms, total: 16.2 s\nWall time: 16.2 s\n"
    }
   ],
   "source": [
    "%time uf.saveData(df, 'Output/', 'similarity_tsv', compression='gzip')"
   ]
  },
  {
   "cell_type": "code",
   "execution_count": null,
   "metadata": {},
   "outputs": [],
   "source": []
  }
 ],
 "metadata": {
  "language_info": {
   "codemirror_mode": {
    "name": "ipython",
    "version": 3
   },
   "file_extension": ".py",
   "mimetype": "text/x-python",
   "name": "python",
   "nbconvert_exporter": "python",
   "pygments_lexer": "ipython3",
   "version": "3.8.0-final"
  },
  "orig_nbformat": 2,
  "kernelspec": {
   "name": "python38064bitharmonizomevenve1fd62c035f347dbaffce382c9034785",
   "display_name": "Python 3.8.0 64-bit ('harmonizome': venv)"
  }
 },
 "nbformat": 4,
 "nbformat_minor": 2
}