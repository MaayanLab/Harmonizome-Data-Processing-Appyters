{
 "cells": [
  {
   "cell_type": "code",
   "execution_count": 1,
   "metadata": {},
   "outputs": [],
   "source": [
    "%load_ext autoreload\n",
    "%autoreload 2\n",
    "\n",
    "import pandas as pd\n",
    "import numpy as np\n",
    "import utility_functions2 as uf\n",
    "import string\n",
    "import itertools\n",
    "import timeit"
   ]
  },
  {
   "cell_type": "code",
   "execution_count": 2,
   "metadata": {},
   "outputs": [],
   "source": [
    "n = 200\n",
    "name_gen = map(''.join, itertools.islice(itertools.product('ABCDE',repeat=10), n))\n",
    "names = list(name_gen)"
   ]
  },
  {
   "cell_type": "code",
   "execution_count": 3,
   "metadata": {},
   "outputs": [
    {
     "output_type": "execute_result",
     "data": {
      "text/plain": "array([[0.66851507, 0.06608999, 0.09715327, ..., 0.49266884, 0.45831353,\n        0.4848307 ],\n       [0.06608999, 0.20532785, 0.16705056, ..., 0.39359968, 0.18832269,\n        0.36840867],\n       [0.09715327, 0.16705056, 0.47694386, ..., 0.40730195, 0.36444305,\n        0.41675811],\n       ...,\n       [0.49266884, 0.39359968, 0.40730195, ..., 0.48622358, 0.04726204,\n        0.19874665],\n       [0.45831353, 0.18832269, 0.36444305, ..., 0.04726204, 0.29904151,\n        0.24822672],\n       [0.4848307 , 0.36840867, 0.41675811, ..., 0.19874665, 0.24822672,\n        0.94968819]])"
     },
     "metadata": {},
     "execution_count": 3
    }
   ],
   "source": [
    "data = np.triu(np.random.random((n, n)))\n",
    "data = (data + data.T) / 2\n",
    "data"
   ]
  },
  {
   "cell_type": "code",
   "execution_count": 4,
   "metadata": {},
   "outputs": [
    {
     "output_type": "execute_result",
     "data": {
      "text/plain": "            AAAAAAAAAA  AAAAAAAAAB  AAAAAAAAAC  AAAAAAAAAD  AAAAAAAAAE  \\\nAAAAAAAAAA    0.668515    0.066090    0.097153    0.146187    0.398358   \nAAAAAAAAAB    0.066090    0.205328    0.167051    0.464044    0.385779   \nAAAAAAAAAC    0.097153    0.167051    0.476944    0.274754    0.439581   \nAAAAAAAAAD    0.146187    0.464044    0.274754    0.173321    0.396151   \nAAAAAAAAAE    0.398358    0.385779    0.439581    0.396151    0.298464   \n...                ...         ...         ...         ...         ...   \nAAAAAABCEA    0.361308    0.162079    0.389616    0.080356    0.209480   \nAAAAAABCEB    0.219307    0.083941    0.323193    0.147434    0.139431   \nAAAAAABCEC    0.492669    0.393600    0.407302    0.356779    0.181473   \nAAAAAABCED    0.458314    0.188323    0.364443    0.060638    0.043875   \nAAAAAABCEE    0.484831    0.368409    0.416758    0.302092    0.178185   \n\n            AAAAAAAABA  AAAAAAAABB  AAAAAAAABC  AAAAAAAABD  AAAAAAAABE  ...  \\\nAAAAAAAAAA    0.449910    0.264191    0.479308    0.053315    0.387427  ...   \nAAAAAAAAAB    0.438277    0.069439    0.375565    0.378569    0.438337  ...   \nAAAAAAAAAC    0.333682    0.173665    0.063945    0.191809    0.343606  ...   \nAAAAAAAAAD    0.008619    0.419537    0.329867    0.424842    0.499557  ...   \nAAAAAAAAAE    0.387998    0.187783    0.354363    0.227154    0.140942  ...   \n...                ...         ...         ...         ...         ...  ...   \nAAAAAABCEA    0.242038    0.410610    0.423747    0.473025    0.304192  ...   \nAAAAAABCEB    0.134821    0.240941    0.416288    0.224132    0.302008  ...   \nAAAAAABCEC    0.017627    0.260558    0.343420    0.365805    0.204374  ...   \nAAAAAABCED    0.184969    0.012359    0.280964    0.204152    0.417992  ...   \nAAAAAABCEE    0.041602    0.090233    0.052163    0.307910    0.455366  ...   \n\n            AAAAAABCDA  AAAAAABCDB  AAAAAABCDC  AAAAAABCDD  AAAAAABCDE  \\\nAAAAAAAAAA    0.483645    0.354641    0.018448    0.114630    0.219803   \nAAAAAAAAAB    0.254414    0.232867    0.100058    0.207798    0.271247   \nAAAAAAAAAC    0.322316    0.237799    0.179322    0.484524    0.469119   \nAAAAAAAAAD    0.416966    0.244610    0.343707    0.306811    0.431860   \nAAAAAAAAAE    0.011864    0.464445    0.477123    0.441524    0.053628   \n...                ...         ...         ...         ...         ...   \nAAAAAABCEA    0.163989    0.433463    0.274460    0.290403    0.407965   \nAAAAAABCEB    0.450739    0.170000    0.255826    0.154141    0.324264   \nAAAAAABCEC    0.298913    0.333648    0.379664    0.303181    0.308444   \nAAAAAABCED    0.000516    0.491354    0.331580    0.041566    0.474403   \nAAAAAABCEE    0.018876    0.468869    0.451960    0.150229    0.403463   \n\n            AAAAAABCEA  AAAAAABCEB  AAAAAABCEC  AAAAAABCED  AAAAAABCEE  \nAAAAAAAAAA    0.361308    0.219307    0.492669    0.458314    0.484831  \nAAAAAAAAAB    0.162079    0.083941    0.393600    0.188323    0.368409  \nAAAAAAAAAC    0.389616    0.323193    0.407302    0.364443    0.416758  \nAAAAAAAAAD    0.080356    0.147434    0.356779    0.060638    0.302092  \nAAAAAAAAAE    0.209480    0.139431    0.181473    0.043875    0.178185  \n...                ...         ...         ...         ...         ...  \nAAAAAABCEA    0.393643    0.331547    0.041608    0.157148    0.421128  \nAAAAAABCEB    0.331547    0.268152    0.402614    0.270252    0.237515  \nAAAAAABCEC    0.041608    0.402614    0.486224    0.047262    0.198747  \nAAAAAABCED    0.157148    0.270252    0.047262    0.299042    0.248227  \nAAAAAABCEE    0.421128    0.237515    0.198747    0.248227    0.949688  \n\n[200 rows x 200 columns]",
      "text/html": "<div>\n<style scoped>\n    .dataframe tbody tr th:only-of-type {\n        vertical-align: middle;\n    }\n\n    .dataframe tbody tr th {\n        vertical-align: top;\n    }\n\n    .dataframe thead th {\n        text-align: right;\n    }\n</style>\n<table border=\"1\" class=\"dataframe\">\n  <thead>\n    <tr style=\"text-align: right;\">\n      <th></th>\n      <th>AAAAAAAAAA</th>\n      <th>AAAAAAAAAB</th>\n      <th>AAAAAAAAAC</th>\n      <th>AAAAAAAAAD</th>\n      <th>AAAAAAAAAE</th>\n      <th>AAAAAAAABA</th>\n      <th>AAAAAAAABB</th>\n      <th>AAAAAAAABC</th>\n      <th>AAAAAAAABD</th>\n      <th>AAAAAAAABE</th>\n      <th>...</th>\n      <th>AAAAAABCDA</th>\n      <th>AAAAAABCDB</th>\n      <th>AAAAAABCDC</th>\n      <th>AAAAAABCDD</th>\n      <th>AAAAAABCDE</th>\n      <th>AAAAAABCEA</th>\n      <th>AAAAAABCEB</th>\n      <th>AAAAAABCEC</th>\n      <th>AAAAAABCED</th>\n      <th>AAAAAABCEE</th>\n    </tr>\n  </thead>\n  <tbody>\n    <tr>\n      <th>AAAAAAAAAA</th>\n      <td>0.668515</td>\n      <td>0.066090</td>\n      <td>0.097153</td>\n      <td>0.146187</td>\n      <td>0.398358</td>\n      <td>0.449910</td>\n      <td>0.264191</td>\n      <td>0.479308</td>\n      <td>0.053315</td>\n      <td>0.387427</td>\n      <td>...</td>\n      <td>0.483645</td>\n      <td>0.354641</td>\n      <td>0.018448</td>\n      <td>0.114630</td>\n      <td>0.219803</td>\n      <td>0.361308</td>\n      <td>0.219307</td>\n      <td>0.492669</td>\n      <td>0.458314</td>\n      <td>0.484831</td>\n    </tr>\n    <tr>\n      <th>AAAAAAAAAB</th>\n      <td>0.066090</td>\n      <td>0.205328</td>\n      <td>0.167051</td>\n      <td>0.464044</td>\n      <td>0.385779</td>\n      <td>0.438277</td>\n      <td>0.069439</td>\n      <td>0.375565</td>\n      <td>0.378569</td>\n      <td>0.438337</td>\n      <td>...</td>\n      <td>0.254414</td>\n      <td>0.232867</td>\n      <td>0.100058</td>\n      <td>0.207798</td>\n      <td>0.271247</td>\n      <td>0.162079</td>\n      <td>0.083941</td>\n      <td>0.393600</td>\n      <td>0.188323</td>\n      <td>0.368409</td>\n    </tr>\n    <tr>\n      <th>AAAAAAAAAC</th>\n      <td>0.097153</td>\n      <td>0.167051</td>\n      <td>0.476944</td>\n      <td>0.274754</td>\n      <td>0.439581</td>\n      <td>0.333682</td>\n      <td>0.173665</td>\n      <td>0.063945</td>\n      <td>0.191809</td>\n      <td>0.343606</td>\n      <td>...</td>\n      <td>0.322316</td>\n      <td>0.237799</td>\n      <td>0.179322</td>\n      <td>0.484524</td>\n      <td>0.469119</td>\n      <td>0.389616</td>\n      <td>0.323193</td>\n      <td>0.407302</td>\n      <td>0.364443</td>\n      <td>0.416758</td>\n    </tr>\n    <tr>\n      <th>AAAAAAAAAD</th>\n      <td>0.146187</td>\n      <td>0.464044</td>\n      <td>0.274754</td>\n      <td>0.173321</td>\n      <td>0.396151</td>\n      <td>0.008619</td>\n      <td>0.419537</td>\n      <td>0.329867</td>\n      <td>0.424842</td>\n      <td>0.499557</td>\n      <td>...</td>\n      <td>0.416966</td>\n      <td>0.244610</td>\n      <td>0.343707</td>\n      <td>0.306811</td>\n      <td>0.431860</td>\n      <td>0.080356</td>\n      <td>0.147434</td>\n      <td>0.356779</td>\n      <td>0.060638</td>\n      <td>0.302092</td>\n    </tr>\n    <tr>\n      <th>AAAAAAAAAE</th>\n      <td>0.398358</td>\n      <td>0.385779</td>\n      <td>0.439581</td>\n      <td>0.396151</td>\n      <td>0.298464</td>\n      <td>0.387998</td>\n      <td>0.187783</td>\n      <td>0.354363</td>\n      <td>0.227154</td>\n      <td>0.140942</td>\n      <td>...</td>\n      <td>0.011864</td>\n      <td>0.464445</td>\n      <td>0.477123</td>\n      <td>0.441524</td>\n      <td>0.053628</td>\n      <td>0.209480</td>\n      <td>0.139431</td>\n      <td>0.181473</td>\n      <td>0.043875</td>\n      <td>0.178185</td>\n    </tr>\n    <tr>\n      <th>...</th>\n      <td>...</td>\n      <td>...</td>\n      <td>...</td>\n      <td>...</td>\n      <td>...</td>\n      <td>...</td>\n      <td>...</td>\n      <td>...</td>\n      <td>...</td>\n      <td>...</td>\n      <td>...</td>\n      <td>...</td>\n      <td>...</td>\n      <td>...</td>\n      <td>...</td>\n      <td>...</td>\n      <td>...</td>\n      <td>...</td>\n      <td>...</td>\n      <td>...</td>\n      <td>...</td>\n    </tr>\n    <tr>\n      <th>AAAAAABCEA</th>\n      <td>0.361308</td>\n      <td>0.162079</td>\n      <td>0.389616</td>\n      <td>0.080356</td>\n      <td>0.209480</td>\n      <td>0.242038</td>\n      <td>0.410610</td>\n      <td>0.423747</td>\n      <td>0.473025</td>\n      <td>0.304192</td>\n      <td>...</td>\n      <td>0.163989</td>\n      <td>0.433463</td>\n      <td>0.274460</td>\n      <td>0.290403</td>\n      <td>0.407965</td>\n      <td>0.393643</td>\n      <td>0.331547</td>\n      <td>0.041608</td>\n      <td>0.157148</td>\n      <td>0.421128</td>\n    </tr>\n    <tr>\n      <th>AAAAAABCEB</th>\n      <td>0.219307</td>\n      <td>0.083941</td>\n      <td>0.323193</td>\n      <td>0.147434</td>\n      <td>0.139431</td>\n      <td>0.134821</td>\n      <td>0.240941</td>\n      <td>0.416288</td>\n      <td>0.224132</td>\n      <td>0.302008</td>\n      <td>...</td>\n      <td>0.450739</td>\n      <td>0.170000</td>\n      <td>0.255826</td>\n      <td>0.154141</td>\n      <td>0.324264</td>\n      <td>0.331547</td>\n      <td>0.268152</td>\n      <td>0.402614</td>\n      <td>0.270252</td>\n      <td>0.237515</td>\n    </tr>\n    <tr>\n      <th>AAAAAABCEC</th>\n      <td>0.492669</td>\n      <td>0.393600</td>\n      <td>0.407302</td>\n      <td>0.356779</td>\n      <td>0.181473</td>\n      <td>0.017627</td>\n      <td>0.260558</td>\n      <td>0.343420</td>\n      <td>0.365805</td>\n      <td>0.204374</td>\n      <td>...</td>\n      <td>0.298913</td>\n      <td>0.333648</td>\n      <td>0.379664</td>\n      <td>0.303181</td>\n      <td>0.308444</td>\n      <td>0.041608</td>\n      <td>0.402614</td>\n      <td>0.486224</td>\n      <td>0.047262</td>\n      <td>0.198747</td>\n    </tr>\n    <tr>\n      <th>AAAAAABCED</th>\n      <td>0.458314</td>\n      <td>0.188323</td>\n      <td>0.364443</td>\n      <td>0.060638</td>\n      <td>0.043875</td>\n      <td>0.184969</td>\n      <td>0.012359</td>\n      <td>0.280964</td>\n      <td>0.204152</td>\n      <td>0.417992</td>\n      <td>...</td>\n      <td>0.000516</td>\n      <td>0.491354</td>\n      <td>0.331580</td>\n      <td>0.041566</td>\n      <td>0.474403</td>\n      <td>0.157148</td>\n      <td>0.270252</td>\n      <td>0.047262</td>\n      <td>0.299042</td>\n      <td>0.248227</td>\n    </tr>\n    <tr>\n      <th>AAAAAABCEE</th>\n      <td>0.484831</td>\n      <td>0.368409</td>\n      <td>0.416758</td>\n      <td>0.302092</td>\n      <td>0.178185</td>\n      <td>0.041602</td>\n      <td>0.090233</td>\n      <td>0.052163</td>\n      <td>0.307910</td>\n      <td>0.455366</td>\n      <td>...</td>\n      <td>0.018876</td>\n      <td>0.468869</td>\n      <td>0.451960</td>\n      <td>0.150229</td>\n      <td>0.403463</td>\n      <td>0.421128</td>\n      <td>0.237515</td>\n      <td>0.198747</td>\n      <td>0.248227</td>\n      <td>0.949688</td>\n    </tr>\n  </tbody>\n</table>\n<p>200 rows × 200 columns</p>\n</div>"
     },
     "metadata": {},
     "execution_count": 4
    }
   ],
   "source": [
    "df = pd.DataFrame(data, index=names, columns=names)\n",
    "df.astype(np.float16)\n",
    "df"
   ]
  },
  {
   "cell_type": "code",
   "execution_count": 5,
   "metadata": {},
   "outputs": [],
   "source": [
    "# %time df.to_csv('Output/similarity_to_csv.csv.gz', compression='gzip')\n",
    "# %time np.savetxt('Output/similarity_savetext.txt', data.astype(np.float32), delimiter='\\t')\n",
    "# %time np.savez_compressed('Output/similarity_savez_compressed.npz', data.astype(np.float32), delimiter='\\t')\n",
    "# %time np.savez_compressed('Output/similarity_triu_savez_compressed.npz', data=np.triu(data.astype(np.float32)))"
   ]
  },
  {
   "cell_type": "code",
   "execution_count": 37,
   "metadata": {},
   "outputs": [
    {
     "output_type": "stream",
     "name": "stdout",
     "text": "CPU times: user 359 ms, sys: 0 ns, total: 359 ms\nWall time: 365 ms\n"
    }
   ],
   "source": [
    "%time uf.saveData(df, 'Output/', 'similarity_triu_savez_compressed', compression='npz', axes=('gene', 'gene'), symmetric=True, dtype=np.float32)"
   ]
  },
  {
   "cell_type": "code",
   "execution_count": 44,
   "metadata": {},
   "outputs": [
    {
     "output_type": "stream",
     "name": "stdout",
     "text": "['gene_gene_symmetric']\n[[0.4672927  0.4082032  0.21324289 ... 0.19984746 0.35704136 0.30937678]\n [0.4082032  0.90034044 0.19457564 ... 0.11875503 0.06574276 0.4180302 ]\n [0.21324289 0.19457564 0.11525619 ... 0.10191019 0.10809419 0.36791253]\n ...\n [0.19984746 0.11875503 0.10191019 ... 0.9681779  0.20590833 0.42822033]\n [0.35704136 0.06574276 0.10809419 ... 0.20590833 0.60930616 0.04143846]\n [0.30937678 0.4180302  0.36791253 ... 0.42822033 0.04143846 0.57826126]]\nCPU times: user 78.1 ms, sys: 15.6 ms, total: 93.8 ms\nWall time: 84.3 ms\n"
    }
   ],
   "source": [
    "%%time\n",
    "with np.load('Output/similarity_triu_savez_compressed_2020_06.npz') as data_load:\n",
    "    print(data_load.files)\n",
    "    data = data_load[data_load.files[0]]\n",
    "    data1 = data + data.T - np.diag(data.diagonal())\n",
    "    print(data1)"
   ]
  },
  {
   "cell_type": "code",
   "execution_count": 39,
   "metadata": {},
   "outputs": [
    {
     "output_type": "stream",
     "name": "stdout",
     "text": "CPU times: user 641 ms, sys: 0 ns, total: 641 ms\nWall time: 654 ms\n"
    }
   ],
   "source": [
    "%time uf.saveData(df, 'Output/', 'similarity_savez_compressed', compression='npz', axes=('gene', 'gene'), dtype=np.float32)"
   ]
  },
  {
   "cell_type": "code",
   "execution_count": 45,
   "metadata": {},
   "outputs": [
    {
     "output_type": "stream",
     "name": "stdout",
     "text": "['gene_gene']\n[[0.4672927  0.4082032  0.21324289 ... 0.19984746 0.35704136 0.30937678]\n [0.4082032  0.90034044 0.19457564 ... 0.11875503 0.06574276 0.4180302 ]\n [0.21324289 0.19457564 0.11525619 ... 0.10191019 0.10809419 0.36791253]\n ...\n [0.19984746 0.11875503 0.10191019 ... 0.9681779  0.20590833 0.42822033]\n [0.35704136 0.06574276 0.10809419 ... 0.20590833 0.60930616 0.04143846]\n [0.30937678 0.4180302  0.36791253 ... 0.42822033 0.04143846 0.57826126]]\nCPU times: user 78.1 ms, sys: 15.6 ms, total: 93.8 ms\nWall time: 88.4 ms\n"
    }
   ],
   "source": [
    "%%time\n",
    "with np.load('Output/similarity_savez_compressed_2020_06.npz') as data_load:\n",
    "    print(data_load.files)\n",
    "    data2 = data_load[data_load.files[0]]\n",
    "    print(data2)"
   ]
  },
  {
   "cell_type": "code",
   "execution_count": 46,
   "metadata": {},
   "outputs": [],
   "source": [
    "assert(np.all(np.equal(data1, data2)))"
   ]
  },
  {
   "cell_type": "code",
   "execution_count": 47,
   "metadata": {},
   "outputs": [
    {
     "output_type": "stream",
     "name": "stdout",
     "text": "CPU times: user 16.8 s, sys: 578 ms, total: 17.3 s\nWall time: 17.4 s\n"
    }
   ],
   "source": [
    "%time uf.saveData(df, 'Output/', 'similarity_to_csv', compression='gzip')"
   ]
  },
  {
   "cell_type": "code",
   "execution_count": null,
   "metadata": {},
   "outputs": [],
   "source": []
  }
 ],
 "metadata": {
  "language_info": {
   "codemirror_mode": {
    "name": "ipython",
    "version": 3
   },
   "file_extension": ".py",
   "mimetype": "text/x-python",
   "name": "python",
   "nbconvert_exporter": "python",
   "pygments_lexer": "ipython3",
   "version": "3.8.0-final"
  },
  "orig_nbformat": 2,
  "kernelspec": {
   "name": "python38064bitharmonizomevenve1fd62c035f347dbaffce382c9034785",
   "display_name": "Python 3.8.0 64-bit ('harmonizome': venv)"
  }
 },
 "nbformat": 4,
 "nbformat_minor": 2
}