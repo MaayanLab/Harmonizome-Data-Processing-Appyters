{
 "cells": [
  {
   "cell_type": "code",
   "execution_count": 1,
   "metadata": {},
   "outputs": [],
   "source": [
    "%load_ext autoreload\n",
    "%load_ext memory_profiler\n",
    "%autoreload 2\n",
    "\n",
    "import pandas as pd\n",
    "import numpy as np\n",
    "import utility_functions as uf\n",
    "import utility_functions2 as uf2\n",
    "import string\n",
    "import itertools\n",
    "import timeit\n",
    "import scipy.spatial.distance as dist\n"
   ]
  },
  {
   "cell_type": "code",
   "execution_count": 36,
   "metadata": {},
   "outputs": [],
   "source": [
    "n, m = 2000, 1000\n",
    "name_gen = map(''.join, itertools.islice(itertools.product('ABCDE',repeat=6), n))\n",
    "attr_gen = map(''.join, itertools.islice(itertools.product('EDCBA',repeat=6), m))\n",
    "names = list(name_gen)\n",
    "attr = list(attr_gen)\n",
    "data = np.random.randint(2, size=(n, m))\n",
    "df = pd.DataFrame(data, index=names, columns=attr)"
   ]
  },
  {
   "cell_type": "code",
   "execution_count": 37,
   "metadata": {},
   "outputs": [
    {
     "output_type": "stream",
     "name": "stdout",
     "text": "CPU times: user 1.98 s, sys: 31.2 ms, total: 2.02 s\nWall time: 2.03 s\n"
    }
   ],
   "source": [
    "%%time\n",
    "x = uf.createSimilarityMatrix(df, 'jaccard', np.bool)"
   ]
  },
  {
   "cell_type": "code",
   "execution_count": 15,
   "metadata": {},
   "outputs": [
    {
     "output_type": "stream",
     "name": "stdout",
     "text": "CPU times: user 3.94 s, sys: 31.2 ms, total: 3.97 s\nWall time: 3.97 s\n"
    }
   ],
   "source": [
    "%%memit\n",
    "n, m = 3000, 3000\n",
    "name_gen = map(''.join, itertools.islice(itertools.product('ABCDE',repeat=6), n))\n",
    "attr_gen = map(''.join, itertools.islice(itertools.product('EDCBA',repeat=6), m))\n",
    "names = list(name_gen)\n",
    "attr = list(attr_gen)"
   ]
  },
  {
   "cell_type": "code",
   "execution_count": 3,
   "metadata": {},
   "outputs": [
    {
     "output_type": "stream",
     "name": "stdout",
     "text": "peak memory: 149.56 MiB, increment: 56.05 MiB\n"
    }
   ],
   "source": [
    "%%memit\n",
    "# data = np.triu(np.random.random((n, m)))\n",
    "# data = (data + data.T) / 2\n",
    "data = np.random.randint(2, size=(n, m))\n",
    "data"
   ]
  },
  {
   "cell_type": "code",
   "execution_count": 4,
   "metadata": {},
   "outputs": [],
   "source": [
    "#%%memit\n",
    "df = pd.DataFrame(data, index=names, columns=attr)\n",
    "df2 = df.astype('boolean')\n",
    "#df"
   ]
  },
  {
   "cell_type": "code",
   "execution_count": 5,
   "metadata": {},
   "outputs": [
    {
     "output_type": "stream",
     "name": "stdout",
     "text": "peak memory: 216.37 MiB, increment: 80.11 MiB\nCPU times: user 3.97 s, sys: 125 ms, total: 4.09 s\nWall time: 4.2 s\n"
    }
   ],
   "source": [
    "%%time\n",
    "%%memit\n",
    "x = uf.createSimilarityMatrix(df, 'jaccard', np.bool)"
   ]
  },
  {
   "cell_type": "code",
   "execution_count": 6,
   "metadata": {},
   "outputs": [
    {
     "output_type": "stream",
     "name": "stdout",
     "text": "peak memory: 277.59 MiB, increment: 61.21 MiB\nCPU times: user 5.27 s, sys: 156 ms, total: 5.42 s\nWall time: 5.52 s\n"
    }
   ],
   "source": [
    "%%time\n",
    "%%memit\n",
    "x2 = uf2.createSimilarityMatrix(df, 'jaccard')"
   ]
  },
  {
   "cell_type": "code",
   "execution_count": 7,
   "metadata": {},
   "outputs": [],
   "source": [
    "assert(np.allclose(x, x2))"
   ]
  },
  {
   "cell_type": "code",
   "execution_count": null,
   "metadata": {},
   "outputs": [],
   "source": []
  }
 ],
 "metadata": {
  "language_info": {
   "codemirror_mode": {
    "name": "ipython",
    "version": 3
   },
   "file_extension": ".py",
   "mimetype": "text/x-python",
   "name": "python",
   "nbconvert_exporter": "python",
   "pygments_lexer": "ipython3",
   "version": "3.8.0-final"
  },
  "orig_nbformat": 2,
  "kernelspec": {
   "name": "python38064bitharmonizomevenve1fd62c035f347dbaffce382c9034785",
   "display_name": "Python 3.8.0 64-bit ('harmonizome': venv)"
  }
 },
 "nbformat": 4,
 "nbformat_minor": 2
}