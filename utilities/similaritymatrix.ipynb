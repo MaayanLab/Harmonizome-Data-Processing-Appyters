{
 "cells": [
  {
   "cell_type": "code",
   "execution_count": 1,
   "metadata": {},
   "outputs": [],
   "source": [
    "%load_ext autoreload\n",
    "%load_ext memory_profiler\n",
    "%autoreload 2\n",
    "\n",
    "import pandas as pd\n",
    "import numpy as np\n",
    "import utility_functions2 as uf\n",
    "import string\n",
    "import itertools\n",
    "import timeit\n",
    "import scipy.spatial.distance as dist\n"
   ]
  },
  {
   "cell_type": "code",
   "execution_count": 18,
   "metadata": {},
   "outputs": [
    {
     "output_type": "stream",
     "name": "stdout",
     "text": "peak memory: 241.20 MiB, increment: 0.00 MiB\n"
    }
   ],
   "source": [
    "%%memit\n",
    "n, m = 3000, 3000\n",
    "name_gen = map(''.join, itertools.islice(itertools.product('ABCDE',repeat=6), n))\n",
    "attr_gen = map(''.join, itertools.islice(itertools.product('EDCBA',repeat=6), m))\n",
    "names = list(name_gen)\n",
    "attr = list(attr_gen)"
   ]
  },
  {
   "cell_type": "code",
   "execution_count": 19,
   "metadata": {},
   "outputs": [
    {
     "output_type": "stream",
     "name": "stdout",
     "text": "peak memory: 371.48 MiB, increment: 130.28 MiB\n"
    }
   ],
   "source": [
    "%%memit\n",
    "# data = np.triu(np.random.random((n, m)))\n",
    "# data = (data + data.T) / 2\n",
    "data = np.random.randint(2, size=(n, m))\n",
    "data"
   ]
  },
  {
   "cell_type": "code",
   "execution_count": 20,
   "metadata": {},
   "outputs": [],
   "source": [
    "#%%memit\n",
    "df = pd.DataFrame(data, index=names, columns=attr)\n",
    "df2 = df.astype('boolean')\n",
    "#df"
   ]
  },
  {
   "cell_type": "code",
   "execution_count": 21,
   "metadata": {},
   "outputs": [
    {
     "output_type": "stream",
     "name": "stdout",
     "text": "CPU times: user 28.1 s, sys: 234 ms, total: 28.3 s\nWall time: 28.3 s\n"
    },
    {
     "output_type": "execute_result",
     "data": {
      "text/plain": "  0.329485  0.318322   \n\n          AEDEDD    AEDEDE    AEDEEA    AEDEEB    AEDEEC    AEDEED    AEDEEE  \nAAAAAA  0.344980  0.335258  0.336391  0.349355  0.330512  0.334521  0.332300  \nAAAAAB  0.338326  0.338085  0.335081  0.348620  0.335123  0.329631  0.330381  \nAAAAAC  0.339349  0.334368  0.351435  0.331870  0.322566  0.336603  0.343904  \nAAAAAD  0.339503  0.322959  0.328438  0.324082  0.323489  0.309140  0.320576  \nAAAAAE  0.337867  0.337029  0.335220  0.343943  0.338847  0.350112  0.344781  \n...          ...       ...       ...       ...       ...       ...       ...  \nAEDEEA  0.340650  0.356084  1.000000  0.344371  0.327434  0.351752  0.330396  \nAEDEEB  0.340567  0.331998  0.344371  1.000000  0.340397  0.336620  0.342152  \nAEDEEC  0.333035  0.342441  0.327434  0.340397  1.000000  0.322377  0.310222  \nAEDEED  0.337657  0.330783  0.351752  0.336620  0.322377  1.000000  0.315977  \nAEDEEE  0.341976  0.326777  0.330396  0.342152  0.310222  0.315977  1.000000  \n\n[3000 rows x 3000 columns]",
      "text/html": "<div>\n<style scoped>\n    .dataframe tbody tr th:only-of-type {\n        vertical-align: middle;\n    }\n\n    .dataframe tbody tr th {\n        vertical-align: top;\n    }\n\n    .dataframe thead th {\n        text-align: right;\n    }\n</style>\n<table border=\"1\" class=\"dataframe\">\n  <thead>\n    <tr style=\"text-align: right;\">\n      <th></th>\n      <th>AAAAAA</th>\n      <th>AAAAAB</th>\n      <th>AAAAAC</th>\n      <th>AAAAAD</th>\n      <th>AAAAAE</th>\n      <th>AAAABA</th>\n      <th>AAAABB</th>\n      <th>AAAABC</th>\n      <th>AAAABD</th>\n      <th>AAAABE</th>\n      <th>...</th>\n      <th>AEDEDA</th>\n      <th>AEDEDB</th>\n      <th>AEDEDC</th>\n      <th>AEDEDD</th>\n      <th>AEDEDE</th>\n      <th>AEDEEA</th>\n      <th>AEDEEB</th>\n      <th>AEDEEC</th>\n      <th>AEDEED</th>\n      <th>AEDEEE</th>\n    </tr>\n  </thead>\n  <tbody>\n    <tr>\n      <th>AAAAAA</th>\n      <td>1.000000</td>\n      <td>0.339938</td>\n      <td>0.342731</td>\n      <td>0.321476</td>\n      <td>0.350133</td>\n      <td>0.357332</td>\n      <td>0.339875</td>\n      <td>0.347885</td>\n      <td>0.328609</td>\n      <td>0.339974</td>\n      <td>...</td>\n      <td>0.354497</td>\n      <td>0.345011</td>\n      <td>0.338496</td>\n      <td>0.344980</td>\n      <td>0.335258</td>\n      <td>0.336391</td>\n      <td>0.349355</td>\n      <td>0.330512</td>\n      <td>0.334521</td>\n      <td>0.332300</td>\n    </tr>\n    <tr>\n      <th>AAAAAB</th>\n      <td>0.339938</td>\n      <td>1.000000</td>\n      <td>0.345559</td>\n      <td>0.319556</td>\n      <td>0.352993</td>\n      <td>0.342370</td>\n      <td>0.334371</td>\n      <td>0.338104</td>\n      <td>0.326106</td>\n      <td>0.344498</td>\n      <td>...</td>\n      <td>0.354967</td>\n      <td>0.347265</td>\n      <td>0.337760</td>\n      <td>0.338326</td>\n      <td>0.338085</td>\n      <td>0.335081</td>\n      <td>0.348620</td>\n      <td>0.335123</td>\n      <td>0.329631</td>\n      <td>0.330381</td>\n    </tr>\n    <tr>\n      <th>AAAAAC</th>\n      <td>0.342731</td>\n      <td>0.345559</td>\n      <td>1.000000</td>\n      <td>0.322365</td>\n      <td>0.347443</td>\n      <td>0.334635</td>\n      <td>0.332447</td>\n      <td>0.333185</td>\n      <td>0.336004</td>\n      <td>0.356705</td>\n      <td>...</td>\n      <td>0.351209</td>\n      <td>0.335827</td>\n      <td>0.324147</td>\n      <td>0.339349</td>\n      <td>0.334368</td>\n      <td>0.351435</td>\n      <td>0.331870</td>\n      <td>0.322566</td>\n      <td>0.336603</td>\n      <td>0.343904</td>\n    </tr>\n    <tr>\n      <th>AAAAAD</th>\n      <td>0.321476</td>\n      <td>0.319556</td>\n      <td>0.322365</td>\n      <td>1.000000</td>\n      <td>0.333333</td>\n      <td>0.333482</td>\n      <td>0.296460</td>\n      <td>0.329540</td>\n      <td>0.322187</td>\n      <td>0.342819</td>\n      <td>...</td>\n      <td>0.331261</td>\n      <td>0.329290</td>\n      <td>0.331078</td>\n      <td>0.339503</td>\n      <td>0.322959</td>\n      <td>0.328438</td>\n      <td>0.324082</td>\n      <td>0.323489</td>\n      <td>0.309140</td>\n      <td>0.320576</td>\n    </tr>\n    <tr>\n      <th>AAAAAE</th>\n      <td>0.350133</td>\n      <td>0.352993</td>\n      <td>0.347443</td>\n      <td>0.333333</td>\n      <td>1.000000</td>\n      <td>0.354881</td>\n      <td>0.342246</td>\n      <td>0.339429</td>\n      <td>0.327449</td>\n      <td>0.343439</td>\n      <td>...</td>\n      <td>0.349693</td>\n      <td>0.336703</td>\n      <td>0.346803</td>\n      <td>0.337867</td>\n      <td>0.337029</td>\n      <td>0.335220</td>\n      <td>0.343943</td>\n      <td>0.338847</td>\n      <td>0.350112</td>\n      <td>0.344781</td>\n    </tr>\n    <tr>\n      <th>...</th>\n      <td>...</td>\n      <td>...</td>\n      <td>...</td>\n      <td>...</td>\n      <td>...</td>\n      <td>...</td>\n      <td>...</td>\n      <td>...</td>\n      <td>...</td>\n      <td>...</td>\n      <td>...</td>\n      <td>...</td>\n      <td>...</td>\n      <td>...</td>\n      <td>...</td>\n      <td>...</td>\n      <td>...</td>\n      <td>...</td>\n      <td>...</td>\n      <td>...</td>\n      <td>...</td>\n    </tr>\n    <tr>\n      <th>AEDEEA</th>\n      <td>0.336391</td>\n      <td>0.335081</td>\n      <td>0.351435</td>\n      <td>0.328438</td>\n      <td>0.335220</td>\n      <td>0.348187</td>\n      <td>0.330834</td>\n      <td>0.340463</td>\n      <td>0.336142</td>\n      <td>0.349110</td>\n      <td>...</td>\n      <td>0.354258</td>\n      <td>0.341259</td>\n      <td>0.345438</td>\n      <td>0.340650</td>\n      <td>0.356084</td>\n      <td>1.000000</td>\n      <td>0.344371</td>\n      <td>0.327434</td>\n      <td>0.351752</td>\n      <td>0.330396</td>\n    </tr>\n    <tr>\n      <th>AEDEEB</th>\n      <td>0.349355</td>\n      <td>0.348620</td>\n      <td>0.331870</td>\n      <td>0.324082</td>\n      <td>0.343943</td>\n      <td>0.352941</td>\n      <td>0.345029</td>\n      <td>0.333184</td>\n      <td>0.333036</td>\n      <td>0.333911</td>\n      <td>...</td>\n      <td>0.347137</td>\n      <td>0.337024</td>\n      <td>0.327016</td>\n      <td>0.340567</td>\n      <td>0.331998</td>\n      <td>0.344371</td>\n      <td>1.000000</td>\n      <td>0.340397</td>\n      <td>0.336620</td>\n      <td>0.342152</td>\n    </tr>\n    <tr>\n      <th>AEDEEC</th>\n      <td>0.330512</td>\n      <td>0.335123</td>\n      <td>0.322566</td>\n      <td>0.323489</td>\n      <td>0.338847</td>\n      <td>0.320771</td>\n      <td>0.328372</td>\n      <td>0.307795</td>\n      <td>0.323582</td>\n      <td>0.343515</td>\n      <td>...</td>\n      <td>0.331418</td>\n      <td>0.339036</td>\n      <td>0.342689</td>\n      <td>0.333035</td>\n      <td>0.342441</td>\n      <td>0.327434</td>\n      <td>0.340397</td>\n      <td>1.000000</td>\n      <td>0.322377</td>\n      <td>0.310222</td>\n    </tr>\n    <tr>\n      <th>AEDEED</th>\n      <td>0.334521</td>\n      <td>0.329631</td>\n      <td>0.336603</td>\n      <td>0.309140</td>\n      <td>0.350112</td>\n      <td>0.320087</td>\n      <td>0.336047</td>\n      <td>0.342909</td>\n      <td>0.331828</td>\n      <td>0.345117</td>\n      <td>...</td>\n      <td>0.350313</td>\n      <td>0.335871</td>\n      <td>0.328718</td>\n      <td>0.337657</td>\n      <td>0.330783</td>\n      <td>0.351752</td>\n      <td>0.336620</td>\n      <td>0.322377</td>\n      <td>1.000000</td>\n      <td>0.315977</td>\n    </tr>\n    <tr>\n      <th>AEDEEE</th>\n      <td>0.332300</td>\n      <td>0.330381</td>\n      <td>0.343904</td>\n      <td>0.320576</td>\n      <td>0.344781</td>\n      <td>0.329535</td>\n      <td>0.326029</td>\n      <td>0.325561</td>\n      <td>0.327803</td>\n      <td>0.342857</td>\n      <td>...</td>\n      <td>0.345011</td>\n      <td>0.329485</td>\n      <td>0.318322</td>\n      <td>0.341976</td>\n      <td>0.326777</td>\n      <td>0.330396</td>\n      <td>0.342152</td>\n      <td>0.310222</td>\n      <td>0.315977</td>\n      <td>1.000000</td>\n    </tr>\n  </tbody>\n</table>\n<p>3000 rows × 3000 columns</p>\n</div>"
     },
     "metadata": {},
     "execution_count": 21
    }
   ],
   "source": [
    "%%time\n",
    "uf.createSimilarityMatrix(df, 'jaccard')"
   ]
  },
  {
   "cell_type": "code",
   "execution_count": 12,
   "metadata": {},
   "outputs": [
    {
     "output_type": "stream",
     "name": "stdout",
     "text": "142 ms ± 3.53 ms per loop (mean ± std. dev. of 7 runs, 10 loops each)\n"
    }
   ],
   "source": [
    "%%timeit\n",
    "uf.createSimilarityMatrix(df2, 'jaccard')"
   ]
  },
  {
   "cell_type": "code",
   "execution_count": 23,
   "metadata": {},
   "outputs": [
    {
     "output_type": "stream",
     "name": "stdout",
     "text": "CPU times: user 13.4 s, sys: 234 ms, total: 13.6 s\nWall time: 13.6 s\n"
    },
    {
     "output_type": "execute_result",
     "data": {
      "text/plain": "  0.329485  0.318322   \n\n          AEDEDD    AEDEDE    AEDEEA    AEDEEB    AEDEEC    AEDEED    AEDEEE  \nAAAAAA  0.344980  0.335258  0.336391  0.349355  0.330512  0.334521  0.332300  \nAAAAAB  0.338326  0.338085  0.335081  0.348620  0.335123  0.329631  0.330381  \nAAAAAC  0.339349  0.334368  0.351435  0.331870  0.322566  0.336603  0.343904  \nAAAAAD  0.339503  0.322959  0.328438  0.324082  0.323489  0.309140  0.320576  \nAAAAAE  0.337867  0.337029  0.335220  0.343943  0.338847  0.350112  0.344781  \n...          ...       ...       ...       ...       ...       ...       ...  \nAEDEEA  0.340650  0.356084  1.000000  0.344371  0.327434  0.351752  0.330396  \nAEDEEB  0.340567  0.331998  0.344371  1.000000  0.340397  0.336620  0.342152  \nAEDEEC  0.333035  0.342441  0.327434  0.340397  1.000000  0.322377  0.310222  \nAEDEED  0.337657  0.330783  0.351752  0.336620  0.322377  1.000000  0.315977  \nAEDEEE  0.341976  0.326777  0.330396  0.342152  0.310222  0.315977  1.000000  \n\n[3000 rows x 3000 columns]",
      "text/html": "<div>\n<style scoped>\n    .dataframe tbody tr th:only-of-type {\n        vertical-align: middle;\n    }\n\n    .dataframe tbody tr th {\n        vertical-align: top;\n    }\n\n    .dataframe thead th {\n        text-align: right;\n    }\n</style>\n<table border=\"1\" class=\"dataframe\">\n  <thead>\n    <tr style=\"text-align: right;\">\n      <th></th>\n      <th>AAAAAA</th>\n      <th>AAAAAB</th>\n      <th>AAAAAC</th>\n      <th>AAAAAD</th>\n      <th>AAAAAE</th>\n      <th>AAAABA</th>\n      <th>AAAABB</th>\n      <th>AAAABC</th>\n      <th>AAAABD</th>\n      <th>AAAABE</th>\n      <th>...</th>\n      <th>AEDEDA</th>\n      <th>AEDEDB</th>\n      <th>AEDEDC</th>\n      <th>AEDEDD</th>\n      <th>AEDEDE</th>\n      <th>AEDEEA</th>\n      <th>AEDEEB</th>\n      <th>AEDEEC</th>\n      <th>AEDEED</th>\n      <th>AEDEEE</th>\n    </tr>\n  </thead>\n  <tbody>\n    <tr>\n      <th>AAAAAA</th>\n      <td>1.000000</td>\n      <td>0.339938</td>\n      <td>0.342731</td>\n      <td>0.321476</td>\n      <td>0.350133</td>\n      <td>0.357332</td>\n      <td>0.339875</td>\n      <td>0.347885</td>\n      <td>0.328609</td>\n      <td>0.339974</td>\n      <td>...</td>\n      <td>0.354497</td>\n      <td>0.345011</td>\n      <td>0.338496</td>\n      <td>0.344980</td>\n      <td>0.335258</td>\n      <td>0.336391</td>\n      <td>0.349355</td>\n      <td>0.330512</td>\n      <td>0.334521</td>\n      <td>0.332300</td>\n    </tr>\n    <tr>\n      <th>AAAAAB</th>\n      <td>0.339938</td>\n      <td>1.000000</td>\n      <td>0.345559</td>\n      <td>0.319556</td>\n      <td>0.352993</td>\n      <td>0.342370</td>\n      <td>0.334371</td>\n      <td>0.338104</td>\n      <td>0.326106</td>\n      <td>0.344498</td>\n      <td>...</td>\n      <td>0.354967</td>\n      <td>0.347265</td>\n      <td>0.337760</td>\n      <td>0.338326</td>\n      <td>0.338085</td>\n      <td>0.335081</td>\n      <td>0.348620</td>\n      <td>0.335123</td>\n      <td>0.329631</td>\n      <td>0.330381</td>\n    </tr>\n    <tr>\n      <th>AAAAAC</th>\n      <td>0.342731</td>\n      <td>0.345559</td>\n      <td>1.000000</td>\n      <td>0.322365</td>\n      <td>0.347443</td>\n      <td>0.334635</td>\n      <td>0.332447</td>\n      <td>0.333185</td>\n      <td>0.336004</td>\n      <td>0.356705</td>\n      <td>...</td>\n      <td>0.351209</td>\n      <td>0.335827</td>\n      <td>0.324147</td>\n      <td>0.339349</td>\n      <td>0.334368</td>\n      <td>0.351435</td>\n      <td>0.331870</td>\n      <td>0.322566</td>\n      <td>0.336603</td>\n      <td>0.343904</td>\n    </tr>\n    <tr>\n      <th>AAAAAD</th>\n      <td>0.321476</td>\n      <td>0.319556</td>\n      <td>0.322365</td>\n      <td>1.000000</td>\n      <td>0.333333</td>\n      <td>0.333482</td>\n      <td>0.296460</td>\n      <td>0.329540</td>\n      <td>0.322187</td>\n      <td>0.342819</td>\n      <td>...</td>\n      <td>0.331261</td>\n      <td>0.329290</td>\n      <td>0.331078</td>\n      <td>0.339503</td>\n      <td>0.322959</td>\n      <td>0.328438</td>\n      <td>0.324082</td>\n      <td>0.323489</td>\n      <td>0.309140</td>\n      <td>0.320576</td>\n    </tr>\n    <tr>\n      <th>AAAAAE</th>\n      <td>0.350133</td>\n      <td>0.352993</td>\n      <td>0.347443</td>\n      <td>0.333333</td>\n      <td>1.000000</td>\n      <td>0.354881</td>\n      <td>0.342246</td>\n      <td>0.339429</td>\n      <td>0.327449</td>\n      <td>0.343439</td>\n      <td>...</td>\n      <td>0.349693</td>\n      <td>0.336703</td>\n      <td>0.346803</td>\n      <td>0.337867</td>\n      <td>0.337029</td>\n      <td>0.335220</td>\n      <td>0.343943</td>\n      <td>0.338847</td>\n      <td>0.350112</td>\n      <td>0.344781</td>\n    </tr>\n    <tr>\n      <th>...</th>\n      <td>...</td>\n      <td>...</td>\n      <td>...</td>\n      <td>...</td>\n      <td>...</td>\n      <td>...</td>\n      <td>...</td>\n      <td>...</td>\n      <td>...</td>\n      <td>...</td>\n      <td>...</td>\n      <td>...</td>\n      <td>...</td>\n      <td>...</td>\n      <td>...</td>\n      <td>...</td>\n      <td>...</td>\n      <td>...</td>\n      <td>...</td>\n      <td>...</td>\n      <td>...</td>\n    </tr>\n    <tr>\n      <th>AEDEEA</th>\n      <td>0.336391</td>\n      <td>0.335081</td>\n      <td>0.351435</td>\n      <td>0.328438</td>\n      <td>0.335220</td>\n      <td>0.348187</td>\n      <td>0.330834</td>\n      <td>0.340463</td>\n      <td>0.336142</td>\n      <td>0.349110</td>\n      <td>...</td>\n      <td>0.354258</td>\n      <td>0.341259</td>\n      <td>0.345438</td>\n      <td>0.340650</td>\n      <td>0.356084</td>\n      <td>1.000000</td>\n      <td>0.344371</td>\n      <td>0.327434</td>\n      <td>0.351752</td>\n      <td>0.330396</td>\n    </tr>\n    <tr>\n      <th>AEDEEB</th>\n      <td>0.349355</td>\n      <td>0.348620</td>\n      <td>0.331870</td>\n      <td>0.324082</td>\n      <td>0.343943</td>\n      <td>0.352941</td>\n      <td>0.345029</td>\n      <td>0.333184</td>\n      <td>0.333036</td>\n      <td>0.333911</td>\n      <td>...</td>\n      <td>0.347137</td>\n      <td>0.337024</td>\n      <td>0.327016</td>\n      <td>0.340567</td>\n      <td>0.331998</td>\n      <td>0.344371</td>\n      <td>1.000000</td>\n      <td>0.340397</td>\n      <td>0.336620</td>\n      <td>0.342152</td>\n    </tr>\n    <tr>\n      <th>AEDEEC</th>\n      <td>0.330512</td>\n      <td>0.335123</td>\n      <td>0.322566</td>\n      <td>0.323489</td>\n      <td>0.338847</td>\n      <td>0.320771</td>\n      <td>0.328372</td>\n      <td>0.307795</td>\n      <td>0.323582</td>\n      <td>0.343515</td>\n      <td>...</td>\n      <td>0.331418</td>\n      <td>0.339036</td>\n      <td>0.342689</td>\n      <td>0.333035</td>\n      <td>0.342441</td>\n      <td>0.327434</td>\n      <td>0.340397</td>\n      <td>1.000000</td>\n      <td>0.322377</td>\n      <td>0.310222</td>\n    </tr>\n    <tr>\n      <th>AEDEED</th>\n      <td>0.334521</td>\n      <td>0.329631</td>\n      <td>0.336603</td>\n      <td>0.309140</td>\n      <td>0.350112</td>\n      <td>0.320087</td>\n      <td>0.336047</td>\n      <td>0.342909</td>\n      <td>0.331828</td>\n      <td>0.345117</td>\n      <td>...</td>\n      <td>0.350313</td>\n      <td>0.335871</td>\n      <td>0.328718</td>\n      <td>0.337657</td>\n      <td>0.330783</td>\n      <td>0.351752</td>\n      <td>0.336620</td>\n      <td>0.322377</td>\n      <td>1.000000</td>\n      <td>0.315977</td>\n    </tr>\n    <tr>\n      <th>AEDEEE</th>\n      <td>0.332300</td>\n      <td>0.330381</td>\n      <td>0.343904</td>\n      <td>0.320576</td>\n      <td>0.344781</td>\n      <td>0.329535</td>\n      <td>0.326029</td>\n      <td>0.325561</td>\n      <td>0.327803</td>\n      <td>0.342857</td>\n      <td>...</td>\n      <td>0.345011</td>\n      <td>0.329485</td>\n      <td>0.318322</td>\n      <td>0.341976</td>\n      <td>0.326777</td>\n      <td>0.330396</td>\n      <td>0.342152</td>\n      <td>0.310222</td>\n      <td>0.315977</td>\n      <td>1.000000</td>\n    </tr>\n  </tbody>\n</table>\n<p>3000 rows × 3000 columns</p>\n</div>"
     },
     "metadata": {},
     "execution_count": 23
    }
   ],
   "source": [
    "%%time\n",
    "uf.createSimilarityMatrix(df.astype(np.bool), 'jaccard')"
   ]
  },
  {
   "cell_type": "code",
   "execution_count": 5,
   "metadata": {},
   "outputs": [
    {
     "output_type": "stream",
     "name": "stdout",
     "text": "\n"
    },
    {
     "output_type": "stream",
     "text": "                   '''\n   216                                 Creates a similarity matrix between the rows of the inputDF based on\n   217                                 the metric specified. The resulting matrix has both rows and columns labeled\n   218                                 by the index of inputDF.\n   219                                 '''\n   220    197.4 MiB     34.3 MiB       similarity_matrix = dist.pdist(inputDF, metric)\n   221    231.7 MiB     34.4 MiB       similarity_matrix = dist.squareform(similarity_matrix)\n   222    231.7 MiB      0.0 MiB       similarity_matrix = 1 - similarity_matrix\n   223    231.7 MiB      0.0 MiB       similarity_df = pd.DataFrame(\n   224    231.7 MiB      0.0 MiB           data=similarity_matrix, index=inputDF.index, columns=inputDF.index)\n   225    231.7 MiB      0.0 MiB       similarity_df.index.name = None\n   226    231.7 MiB      0.0 MiB       similarity_df.columns.name = None\n   227    231.7 MiB      0.0 MiB       return(similarity_df)"
    }
   ],
   "source": [
    "%mprun -f uf.createSimilarityMatrix uf.createSimilarityMatrix(df.T, 'cosine')"
   ]
  },
  {
   "cell_type": "code",
   "execution_count": 6,
   "metadata": {},
   "outputs": [],
   "source": [
    "#%time uf.saveData(df, 'Output/', 'similarity_triu_savez_compressed', compression='npz', symmetric=False, dtype=np.float32)"
   ]
  },
  {
   "cell_type": "code",
   "execution_count": 8,
   "metadata": {
    "tags": [
     "outputPrepend"
    ]
   },
   "outputs": [],
   "source": [
    "#%%time\n",
    "#df2 = uf.loadData('Output/similarity_triu_savez_compressed_2020_06.npz')\n",
    "#df2"
   ]
  },
  {
   "cell_type": "code",
   "execution_count": 9,
   "metadata": {},
   "outputs": [],
   "source": [
    "#assert(np.allclose(df, df2))"
   ]
  },
  {
   "cell_type": "code",
   "execution_count": 10,
   "metadata": {},
   "outputs": [],
   "source": [
    "#%time uf.saveData(df, 'Output/', 'similarity_tsv', compression='gzip')"
   ]
  },
  {
   "cell_type": "code",
   "execution_count": null,
   "metadata": {},
   "outputs": [],
   "source": []
  }
 ],
 "metadata": {
  "language_info": {
   "codemirror_mode": {
    "name": "ipython",
    "version": 3
   },
   "file_extension": ".py",
   "mimetype": "text/x-python",
   "name": "python",
   "nbconvert_exporter": "python",
   "pygments_lexer": "ipython3",
   "version": "3.8.0-final"
  },
  "orig_nbformat": 2,
  "kernelspec": {
   "name": "python38064bitharmonizomevenve1fd62c035f347dbaffce382c9034785",
   "display_name": "Python 3.8.0 64-bit ('harmonizome': venv)"
  }
 },
 "nbformat": 4,
 "nbformat_minor": 2
}