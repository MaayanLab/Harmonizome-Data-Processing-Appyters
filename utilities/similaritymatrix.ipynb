{
 "cells": [
  {
   "cell_type": "code",
   "execution_count": 71,
   "metadata": {},
   "outputs": [
    {
     "output_type": "stream",
     "name": "stdout",
     "text": "The autoreload extension is already loaded. To reload it, use:\n  %reload_ext autoreload\n"
    }
   ],
   "source": [
    "%load_ext autoreload\n",
    "%autoreload 2\n",
    "\n",
    "import pandas as pd\n",
    "import numpy as np\n",
    "import utility_functions as uf\n",
    "import utility_functions2 as uf\n",
    "import string\n",
    "import itertools\n",
    "import timeit"
   ]
  },
  {
   "cell_type": "code",
   "execution_count": 72,
   "metadata": {},
   "outputs": [],
   "source": [
    "n = 10000"
   ]
  },
  {
   "cell_type": "code",
   "execution_count": 73,
   "metadata": {},
   "outputs": [],
   "source": [
    "name_gen = map(''.join, itertools.islice(itertools.product('ABCDE',repeat=10), n))\n",
    "names = list(name_gen)"
   ]
  },
  {
   "cell_type": "code",
   "execution_count": 74,
   "metadata": {},
   "outputs": [],
   "source": [
    "data = np.triu(np.random.random((n, n)))\n",
    "data = (data + data.T) / 2"
   ]
  },
  {
   "cell_type": "code",
   "execution_count": 75,
   "metadata": {},
   "outputs": [
    {
     "output_type": "execute_result",
     "data": {
      "text/plain": "            AAAAAAAAAA  AAAAAAAAAB  AAAAAAAAAC  AAAAAAAAAD  AAAAAAAAAE  \\\nAAAAAAAAAA    0.228630    0.481428    0.257636    0.433829    0.393190   \nAAAAAAAAAB    0.481428    0.736787    0.153195    0.389719    0.399968   \nAAAAAAAAAC    0.257636    0.153195    0.674979    0.295434    0.088387   \nAAAAAAAAAD    0.433829    0.389719    0.295434    0.059139    0.174820   \nAAAAAAAAAE    0.393190    0.399968    0.088387    0.174820    0.652269   \n...                ...         ...         ...         ...         ...   \nAAAADAEEEA    0.021887    0.038923    0.312217    0.073010    0.154456   \nAAAADAEEEB    0.180014    0.317512    0.366727    0.260162    0.486010   \nAAAADAEEEC    0.035975    0.405169    0.217089    0.202520    0.332740   \nAAAADAEEED    0.365029    0.182635    0.019931    0.493647    0.365369   \nAAAADAEEEE    0.169212    0.393358    0.469889    0.127947    0.466113   \n\n            AAAAAAAABA  AAAAAAAABB  AAAAAAAABC  AAAAAAAABD  AAAAAAAABE  ...  \\\nAAAAAAAAAA    0.465618    0.407889    0.251970    0.027475    0.385064  ...   \nAAAAAAAAAB    0.310100    0.310933    0.064749    0.063583    0.292969  ...   \nAAAAAAAAAC    0.206130    0.213188    0.485287    0.207868    0.150774  ...   \nAAAAAAAAAD    0.487322    0.024741    0.257355    0.442930    0.420913  ...   \nAAAAAAAAAE    0.337629    0.306583    0.291289    0.459278    0.299842  ...   \n...                ...         ...         ...         ...         ...  ...   \nAAAADAEEEA    0.464723    0.241830    0.161788    0.085303    0.264557  ...   \nAAAADAEEEB    0.026279    0.459073    0.332305    0.098256    0.137417  ...   \nAAAADAEEEC    0.323396    0.298856    0.164755    0.078325    0.493734  ...   \nAAAADAEEED    0.344245    0.188248    0.176454    0.242241    0.118606  ...   \nAAAADAEEEE    0.163130    0.328302    0.346065    0.047669    0.340645  ...   \n\n            AAAADAEEDA  AAAADAEEDB  AAAADAEEDC  AAAADAEEDD  AAAADAEEDE  \\\nAAAAAAAAAA    0.409511    0.319103    0.442446    0.130805    0.317029   \nAAAAAAAAAB    0.338255    0.117887    0.294068    0.132577    0.097951   \nAAAAAAAAAC    0.073197    0.332283    0.399719    0.485960    0.256963   \nAAAAAAAAAD    0.217570    0.284448    0.417498    0.234349    0.251300   \nAAAAAAAAAE    0.354093    0.021595    0.069625    0.447977    0.228455   \n...                ...         ...         ...         ...         ...   \nAAAADAEEEA    0.243945    0.241495    0.213635    0.297826    0.137287   \nAAAADAEEEB    0.101471    0.305833    0.351376    0.475130    0.334286   \nAAAADAEEEC    0.328273    0.209307    0.167358    0.162144    0.000517   \nAAAADAEEED    0.213265    0.241180    0.189479    0.097953    0.014935   \nAAAADAEEEE    0.458874    0.197997    0.457063    0.191808    0.021297   \n\n            AAAADAEEEA  AAAADAEEEB  AAAADAEEEC  AAAADAEEED  AAAADAEEEE  \nAAAAAAAAAA    0.021887    0.180014    0.035975    0.365029    0.169212  \nAAAAAAAAAB    0.038923    0.317512    0.405169    0.182635    0.393358  \nAAAAAAAAAC    0.312217    0.366727    0.217089    0.019931    0.469889  \nAAAAAAAAAD    0.073010    0.260162    0.202520    0.493647    0.127947  \nAAAAAAAAAE    0.154456    0.486010    0.332740    0.365369    0.466113  \n...                ...         ...         ...         ...         ...  \nAAAADAEEEA    0.275536    0.304617    0.108301    0.461219    0.284371  \nAAAADAEEEB    0.304617    0.511551    0.345684    0.112143    0.479133  \nAAAADAEEEC    0.108301    0.345684    0.921598    0.001354    0.443158  \nAAAADAEEED    0.461219    0.112143    0.001354    0.659214    0.382929  \nAAAADAEEEE    0.284371    0.479133    0.443158    0.382929    0.184393  \n\n[10000 rows x 10000 columns]",
      "text/html": "<div>\n<style scoped>\n    .dataframe tbody tr th:only-of-type {\n        vertical-align: middle;\n    }\n\n    .dataframe tbody tr th {\n        vertical-align: top;\n    }\n\n    .dataframe thead th {\n        text-align: right;\n    }\n</style>\n<table border=\"1\" class=\"dataframe\">\n  <thead>\n    <tr style=\"text-align: right;\">\n      <th></th>\n      <th>AAAAAAAAAA</th>\n      <th>AAAAAAAAAB</th>\n      <th>AAAAAAAAAC</th>\n      <th>AAAAAAAAAD</th>\n      <th>AAAAAAAAAE</th>\n      <th>AAAAAAAABA</th>\n      <th>AAAAAAAABB</th>\n      <th>AAAAAAAABC</th>\n      <th>AAAAAAAABD</th>\n      <th>AAAAAAAABE</th>\n      <th>...</th>\n      <th>AAAADAEEDA</th>\n      <th>AAAADAEEDB</th>\n      <th>AAAADAEEDC</th>\n      <th>AAAADAEEDD</th>\n      <th>AAAADAEEDE</th>\n      <th>AAAADAEEEA</th>\n      <th>AAAADAEEEB</th>\n      <th>AAAADAEEEC</th>\n      <th>AAAADAEEED</th>\n      <th>AAAADAEEEE</th>\n    </tr>\n  </thead>\n  <tbody>\n    <tr>\n      <th>AAAAAAAAAA</th>\n      <td>0.228630</td>\n      <td>0.481428</td>\n      <td>0.257636</td>\n      <td>0.433829</td>\n      <td>0.393190</td>\n      <td>0.465618</td>\n      <td>0.407889</td>\n      <td>0.251970</td>\n      <td>0.027475</td>\n      <td>0.385064</td>\n      <td>...</td>\n      <td>0.409511</td>\n      <td>0.319103</td>\n      <td>0.442446</td>\n      <td>0.130805</td>\n      <td>0.317029</td>\n      <td>0.021887</td>\n      <td>0.180014</td>\n      <td>0.035975</td>\n      <td>0.365029</td>\n      <td>0.169212</td>\n    </tr>\n    <tr>\n      <th>AAAAAAAAAB</th>\n      <td>0.481428</td>\n      <td>0.736787</td>\n      <td>0.153195</td>\n      <td>0.389719</td>\n      <td>0.399968</td>\n      <td>0.310100</td>\n      <td>0.310933</td>\n      <td>0.064749</td>\n      <td>0.063583</td>\n      <td>0.292969</td>\n      <td>...</td>\n      <td>0.338255</td>\n      <td>0.117887</td>\n      <td>0.294068</td>\n      <td>0.132577</td>\n      <td>0.097951</td>\n      <td>0.038923</td>\n      <td>0.317512</td>\n      <td>0.405169</td>\n      <td>0.182635</td>\n      <td>0.393358</td>\n    </tr>\n    <tr>\n      <th>AAAAAAAAAC</th>\n      <td>0.257636</td>\n      <td>0.153195</td>\n      <td>0.674979</td>\n      <td>0.295434</td>\n      <td>0.088387</td>\n      <td>0.206130</td>\n      <td>0.213188</td>\n      <td>0.485287</td>\n      <td>0.207868</td>\n      <td>0.150774</td>\n      <td>...</td>\n      <td>0.073197</td>\n      <td>0.332283</td>\n      <td>0.399719</td>\n      <td>0.485960</td>\n      <td>0.256963</td>\n      <td>0.312217</td>\n      <td>0.366727</td>\n      <td>0.217089</td>\n      <td>0.019931</td>\n      <td>0.469889</td>\n    </tr>\n    <tr>\n      <th>AAAAAAAAAD</th>\n      <td>0.433829</td>\n      <td>0.389719</td>\n      <td>0.295434</td>\n      <td>0.059139</td>\n      <td>0.174820</td>\n      <td>0.487322</td>\n      <td>0.024741</td>\n      <td>0.257355</td>\n      <td>0.442930</td>\n      <td>0.420913</td>\n      <td>...</td>\n      <td>0.217570</td>\n      <td>0.284448</td>\n      <td>0.417498</td>\n      <td>0.234349</td>\n      <td>0.251300</td>\n      <td>0.073010</td>\n      <td>0.260162</td>\n      <td>0.202520</td>\n      <td>0.493647</td>\n      <td>0.127947</td>\n    </tr>\n    <tr>\n      <th>AAAAAAAAAE</th>\n      <td>0.393190</td>\n      <td>0.399968</td>\n      <td>0.088387</td>\n      <td>0.174820</td>\n      <td>0.652269</td>\n      <td>0.337629</td>\n      <td>0.306583</td>\n      <td>0.291289</td>\n      <td>0.459278</td>\n      <td>0.299842</td>\n      <td>...</td>\n      <td>0.354093</td>\n      <td>0.021595</td>\n      <td>0.069625</td>\n      <td>0.447977</td>\n      <td>0.228455</td>\n      <td>0.154456</td>\n      <td>0.486010</td>\n      <td>0.332740</td>\n      <td>0.365369</td>\n      <td>0.466113</td>\n    </tr>\n    <tr>\n      <th>...</th>\n      <td>...</td>\n      <td>...</td>\n      <td>...</td>\n      <td>...</td>\n      <td>...</td>\n      <td>...</td>\n      <td>...</td>\n      <td>...</td>\n      <td>...</td>\n      <td>...</td>\n      <td>...</td>\n      <td>...</td>\n      <td>...</td>\n      <td>...</td>\n      <td>...</td>\n      <td>...</td>\n      <td>...</td>\n      <td>...</td>\n      <td>...</td>\n      <td>...</td>\n      <td>...</td>\n    </tr>\n    <tr>\n      <th>AAAADAEEEA</th>\n      <td>0.021887</td>\n      <td>0.038923</td>\n      <td>0.312217</td>\n      <td>0.073010</td>\n      <td>0.154456</td>\n      <td>0.464723</td>\n      <td>0.241830</td>\n      <td>0.161788</td>\n      <td>0.085303</td>\n      <td>0.264557</td>\n      <td>...</td>\n      <td>0.243945</td>\n      <td>0.241495</td>\n      <td>0.213635</td>\n      <td>0.297826</td>\n      <td>0.137287</td>\n      <td>0.275536</td>\n      <td>0.304617</td>\n      <td>0.108301</td>\n      <td>0.461219</td>\n      <td>0.284371</td>\n    </tr>\n    <tr>\n      <th>AAAADAEEEB</th>\n      <td>0.180014</td>\n      <td>0.317512</td>\n      <td>0.366727</td>\n      <td>0.260162</td>\n      <td>0.486010</td>\n      <td>0.026279</td>\n      <td>0.459073</td>\n      <td>0.332305</td>\n      <td>0.098256</td>\n      <td>0.137417</td>\n      <td>...</td>\n      <td>0.101471</td>\n      <td>0.305833</td>\n      <td>0.351376</td>\n      <td>0.475130</td>\n      <td>0.334286</td>\n      <td>0.304617</td>\n      <td>0.511551</td>\n      <td>0.345684</td>\n      <td>0.112143</td>\n      <td>0.479133</td>\n    </tr>\n    <tr>\n      <th>AAAADAEEEC</th>\n      <td>0.035975</td>\n      <td>0.405169</td>\n      <td>0.217089</td>\n      <td>0.202520</td>\n      <td>0.332740</td>\n      <td>0.323396</td>\n      <td>0.298856</td>\n      <td>0.164755</td>\n      <td>0.078325</td>\n      <td>0.493734</td>\n      <td>...</td>\n      <td>0.328273</td>\n      <td>0.209307</td>\n      <td>0.167358</td>\n      <td>0.162144</td>\n      <td>0.000517</td>\n      <td>0.108301</td>\n      <td>0.345684</td>\n      <td>0.921598</td>\n      <td>0.001354</td>\n      <td>0.443158</td>\n    </tr>\n    <tr>\n      <th>AAAADAEEED</th>\n      <td>0.365029</td>\n      <td>0.182635</td>\n      <td>0.019931</td>\n      <td>0.493647</td>\n      <td>0.365369</td>\n      <td>0.344245</td>\n      <td>0.188248</td>\n      <td>0.176454</td>\n      <td>0.242241</td>\n      <td>0.118606</td>\n      <td>...</td>\n      <td>0.213265</td>\n      <td>0.241180</td>\n      <td>0.189479</td>\n      <td>0.097953</td>\n      <td>0.014935</td>\n      <td>0.461219</td>\n      <td>0.112143</td>\n      <td>0.001354</td>\n      <td>0.659214</td>\n      <td>0.382929</td>\n    </tr>\n    <tr>\n      <th>AAAADAEEEE</th>\n      <td>0.169212</td>\n      <td>0.393358</td>\n      <td>0.469889</td>\n      <td>0.127947</td>\n      <td>0.466113</td>\n      <td>0.163130</td>\n      <td>0.328302</td>\n      <td>0.346065</td>\n      <td>0.047669</td>\n      <td>0.340645</td>\n      <td>...</td>\n      <td>0.458874</td>\n      <td>0.197997</td>\n      <td>0.457063</td>\n      <td>0.191808</td>\n      <td>0.021297</td>\n      <td>0.284371</td>\n      <td>0.479133</td>\n      <td>0.443158</td>\n      <td>0.382929</td>\n      <td>0.184393</td>\n    </tr>\n  </tbody>\n</table>\n<p>10000 rows × 10000 columns</p>\n</div>"
     },
     "metadata": {},
     "execution_count": 75
    }
   ],
   "source": [
    "df = pd.DataFrame(data, index=names, columns=names)\n",
    "df.astype(np.float16)\n",
    "df"
   ]
  },
  {
   "cell_type": "code",
   "execution_count": 66,
   "metadata": {},
   "outputs": [
    {
     "output_type": "stream",
     "name": "stdout",
     "text": "CPU times: user 4.41 s, sys: 62.5 ms, total: 4.47 s\nWall time: 4.48 s\n"
    }
   ],
   "source": [
    "# %time df.to_csv('Output/similarity_to_csv.csv.gz', compression='gzip')"
   ]
  },
  {
   "cell_type": "code",
   "execution_count": 67,
   "metadata": {},
   "outputs": [
    {
     "output_type": "stream",
     "name": "stdout",
     "text": "CPU times: user 641 ms, sys: 0 ns, total: 641 ms\nWall time: 655 ms\n"
    }
   ],
   "source": [
    "# %time np.savetxt('Output/similarity_savetext.txt', data.astype(np.float32), delimiter='\\t')"
   ]
  },
  {
   "cell_type": "code",
   "execution_count": 68,
   "metadata": {},
   "outputs": [
    {
     "output_type": "stream",
     "name": "stdout",
     "text": "CPU times: user 156 ms, sys: 15.6 ms, total: 172 ms\nWall time: 177 ms\n"
    }
   ],
   "source": [
    "# %time np.savez_compressed('Output/similarity_savez_compressed.npz', data.astype(np.float32), delimiter='\\t')"
   ]
  },
  {
   "cell_type": "code",
   "execution_count": 76,
   "metadata": {},
   "outputs": [
    {
     "output_type": "stream",
     "name": "stdout",
     "text": "CPU times: user 8.48 s, sys: 1.09 s, total: 9.58 s\nWall time: 9.63 s\n"
    }
   ],
   "source": [
    "%time np.savez_compressed('Output/similarity_triu_savez_compressed.npz', data=np.triu(data.astype(np.float32)))"
   ]
  },
  {
   "cell_type": "code",
   "execution_count": 78,
   "metadata": {},
   "outputs": [
    {
     "output_type": "stream",
     "name": "stdout",
     "text": "[[0.22863002 0.48142788 0.25763556 ... 0.03597526 0.36502942 0.1692117 ]\n [0.48142788 0.73678714 0.15319528 ... 0.405169   0.18263459 0.39335838]\n [0.25763556 0.15319528 0.6749793  ... 0.21708888 0.01993083 0.46988875]\n ...\n [0.03597526 0.405169   0.21708888 ... 0.92159796 0.00135357 0.4431581 ]\n [0.36502942 0.18263459 0.01993083 ... 0.00135357 0.65921444 0.38292888]\n [0.1692117  0.39335838 0.46988875 ... 0.4431581  0.38292888 0.18439339]]\nCPU times: user 2.67 s, sys: 1.22 s, total: 3.89 s\nWall time: 3.9 s\n"
    }
   ],
   "source": [
    "%%time\n",
    "with np.load('Output/similarity_triu_savez_compressed.npz') as data_load:\n",
    "    data = data_load['data']\n",
    "    data = data + data.T - np.diag(data.diagonal())\n",
    "    print(data)"
   ]
  },
  {
   "cell_type": "code",
   "execution_count": null,
   "metadata": {},
   "outputs": [],
   "source": []
  }
 ],
 "metadata": {
  "language_info": {
   "codemirror_mode": {
    "name": "ipython",
    "version": 3
   },
   "file_extension": ".py",
   "mimetype": "text/x-python",
   "name": "python",
   "nbconvert_exporter": "python",
   "pygments_lexer": "ipython3",
   "version": "3.8.0-final"
  },
  "orig_nbformat": 2,
  "kernelspec": {
   "name": "python38064bitharmonizomevenve1fd62c035f347dbaffce382c9034785",
   "display_name": "Python 3.8.0 64-bit ('harmonizome': venv)"
  }
 },
 "nbformat": 4,
 "nbformat_minor": 2
}