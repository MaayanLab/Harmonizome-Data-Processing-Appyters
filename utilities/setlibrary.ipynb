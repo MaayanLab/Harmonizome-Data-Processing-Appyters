{
 "cells": [
  {
   "cell_type": "code",
   "execution_count": 21,
   "metadata": {},
   "outputs": [
    {
     "output_type": "stream",
     "name": "stdout",
     "text": "The autoreload extension is already loaded. To reload it, use:\n  %reload_ext autoreload\n"
    }
   ],
   "source": [
    "%load_ext autoreload\n",
    "%autoreload 2\n",
    "\n",
    "import pandas as pd\n",
    "import numpy as np\n",
    "import harmonizome.utility_functions as uf\n",
    "import utility_functions2 as uf\n",
    "import string"
   ]
  },
  {
   "cell_type": "code",
   "execution_count": 48,
   "metadata": {},
   "outputs": [
    {
     "output_type": "execute_result",
     "data": {
      "text/plain": "       A   B   C   D   E   F   G   H   I\ngene                                    \na      0   0   0   0   1  -1   1   1  -1\nb      1  -1  -1  -1  -1  -1  -1   0   1\nc      1   0  -1   1   0  -1   1   0  -1\nd      1  -1  -1   0  -1  -1   1   1  -1\ne     -1   0   1   1   1   1  -1   1   1\nf      0   1   1   0   0   0   0  -1   0\ng     -1   0   1   0   0  -1   0  -1   1\nh     -1   1   0  -1   0   0  -1  -1  -1\ni      1   1   0  -1   1  -1   1  -1   1\nj      1   1  -1  -1  -1   1  -1  -1   0",
      "text/html": "<div>\n<style scoped>\n    .dataframe tbody tr th:only-of-type {\n        vertical-align: middle;\n    }\n\n    .dataframe tbody tr th {\n        vertical-align: top;\n    }\n\n    .dataframe thead th {\n        text-align: right;\n    }\n</style>\n<table border=\"1\" class=\"dataframe\">\n  <thead>\n    <tr style=\"text-align: right;\">\n      <th></th>\n      <th>A</th>\n      <th>B</th>\n      <th>C</th>\n      <th>D</th>\n      <th>E</th>\n      <th>F</th>\n      <th>G</th>\n      <th>H</th>\n      <th>I</th>\n    </tr>\n    <tr>\n      <th>gene</th>\n      <th></th>\n      <th></th>\n      <th></th>\n      <th></th>\n      <th></th>\n      <th></th>\n      <th></th>\n      <th></th>\n      <th></th>\n    </tr>\n  </thead>\n  <tbody>\n    <tr>\n      <th>a</th>\n      <td>0</td>\n      <td>0</td>\n      <td>0</td>\n      <td>0</td>\n      <td>1</td>\n      <td>-1</td>\n      <td>1</td>\n      <td>1</td>\n      <td>-1</td>\n    </tr>\n    <tr>\n      <th>b</th>\n      <td>1</td>\n      <td>-1</td>\n      <td>-1</td>\n      <td>-1</td>\n      <td>-1</td>\n      <td>-1</td>\n      <td>-1</td>\n      <td>0</td>\n      <td>1</td>\n    </tr>\n    <tr>\n      <th>c</th>\n      <td>1</td>\n      <td>0</td>\n      <td>-1</td>\n      <td>1</td>\n      <td>0</td>\n      <td>-1</td>\n      <td>1</td>\n      <td>0</td>\n      <td>-1</td>\n    </tr>\n    <tr>\n      <th>d</th>\n      <td>1</td>\n      <td>-1</td>\n      <td>-1</td>\n      <td>0</td>\n      <td>-1</td>\n      <td>-1</td>\n      <td>1</td>\n      <td>1</td>\n      <td>-1</td>\n    </tr>\n    <tr>\n      <th>e</th>\n      <td>-1</td>\n      <td>0</td>\n      <td>1</td>\n      <td>1</td>\n      <td>1</td>\n      <td>1</td>\n      <td>-1</td>\n      <td>1</td>\n      <td>1</td>\n    </tr>\n    <tr>\n      <th>f</th>\n      <td>0</td>\n      <td>1</td>\n      <td>1</td>\n      <td>0</td>\n      <td>0</td>\n      <td>0</td>\n      <td>0</td>\n      <td>-1</td>\n      <td>0</td>\n    </tr>\n    <tr>\n      <th>g</th>\n      <td>-1</td>\n      <td>0</td>\n      <td>1</td>\n      <td>0</td>\n      <td>0</td>\n      <td>-1</td>\n      <td>0</td>\n      <td>-1</td>\n      <td>1</td>\n    </tr>\n    <tr>\n      <th>h</th>\n      <td>-1</td>\n      <td>1</td>\n      <td>0</td>\n      <td>-1</td>\n      <td>0</td>\n      <td>0</td>\n      <td>-1</td>\n      <td>-1</td>\n      <td>-1</td>\n    </tr>\n    <tr>\n      <th>i</th>\n      <td>1</td>\n      <td>1</td>\n      <td>0</td>\n      <td>-1</td>\n      <td>1</td>\n      <td>-1</td>\n      <td>1</td>\n      <td>-1</td>\n      <td>1</td>\n    </tr>\n    <tr>\n      <th>j</th>\n      <td>1</td>\n      <td>1</td>\n      <td>-1</td>\n      <td>-1</td>\n      <td>-1</td>\n      <td>1</td>\n      <td>-1</td>\n      <td>-1</td>\n      <td>0</td>\n    </tr>\n  </tbody>\n</table>\n</div>"
     },
     "metadata": {},
     "execution_count": 48
    }
   ],
   "source": [
    "df = pd.DataFrame(np.concatenate((\n",
    "    np.reshape(np.array(list(map(chr, range(97, 107)))), (10,1)), \n",
    "    np.random.randint(-1, high=2, size=(10, 9))), axis=1), \n",
    "    columns=['gene'] + list('ABCDEFGHI'))\n",
    "df.set_index('gene', inplace=True)\n",
    "df"
   ]
  },
  {
   "cell_type": "code",
   "execution_count": 50,
   "metadata": {},
   "outputs": [
    {
     "output_type": "execute_result",
     "data": {
      "text/plain": "array([[ 0,  0,  0,  0,  1, -1,  1,  1, -1],\n       [ 1, -1, -1, -1, -1, -1, -1,  0,  1],\n       [ 1,  0, -1,  1,  0, -1,  1,  0, -1],\n       [ 1, -1, -1,  0, -1, -1,  1,  1, -1],\n       [-1,  0,  1,  1,  1,  1, -1,  1,  1],\n       [ 0,  1,  1,  0,  0,  0,  0, -1,  0],\n       [-1,  0,  1,  0,  0, -1,  0, -1,  1],\n       [-1,  1,  0, -1,  0,  0, -1, -1, -1],\n       [ 1,  1,  0, -1,  1, -1,  1, -1,  1],\n       [ 1,  1, -1, -1, -1,  1, -1, -1,  0]])"
     },
     "metadata": {},
     "execution_count": 50
    }
   ],
   "source": [
    "arr = df.reset_index(drop=True).to_numpy(dtype=np.int_)\n",
    "arr"
   ]
  },
  {
   "cell_type": "code",
   "execution_count": 54,
   "metadata": {},
   "outputs": [
    {
     "output_type": "execute_result",
     "data": {
      "text/plain": "array([5, 4, 3, 2, 3, 2, 4, 3, 4])"
     },
     "metadata": {},
     "execution_count": 54
    }
   ],
   "source": [
    "num = (arr == 1).sum(axis=0)\n",
    "num"
   ]
  },
  {
   "cell_type": "code",
   "execution_count": 80,
   "metadata": {},
   "outputs": [
    {
     "output_type": "stream",
     "name": "stdout",
     "text": "[ True  True  True False  True False  True  True  True]\n[[ 0  0  0  1  1  1 -1]\n [ 1 -1 -1 -1 -1  0  1]\n [ 1  0 -1  0  1  0 -1]\n [ 1 -1 -1 -1  1  1 -1]\n [-1  0  1  1 -1  1  1]\n [ 0  1  1  0  0 -1  0]\n [-1  0  1  0  0 -1  1]\n [-1  1  0  0 -1 -1 -1]\n [ 1  1  0  1  1 -1  1]\n [ 1  1 -1 -1 -1 -1  0]]\nIndex(['A', 'B', 'C', 'E', 'G', 'H', 'I'], dtype='object')\n"
    }
   ],
   "source": [
    "print(np.logical_and(num > 2, num <= 5))\n",
    "reduced_arr = arr[:, np.logical_and(num > 2, num <= 5)]\n",
    "attributes = df.columns[np.logical_and(num > 2, num <= 5)]\n",
    "print(reduced_arr)\n",
    "print(attributes)"
   ]
  },
  {
   "cell_type": "code",
   "execution_count": 85,
   "metadata": {},
   "outputs": [
    {
     "output_type": "stream",
     "name": "stdout",
     "text": "A\t0\tb\tc\td\ti\tj\nB\t1\tf\th\ti\tj\nC\t2\te\tf\tg\nE\t3\ta\te\ti\nG\t4\ta\tc\td\ti\nH\t5\ta\td\te\nI\t6\tb\te\tg\ti\n"
    }
   ],
   "source": [
    "w, h = reduced_arr.shape\n",
    "details = [i for i in range(10)]\n",
    "for i in range(h):\n",
    "    print(attributes[i], details[i] if details else 'NA', *df.index[reduced_arr[:, i] == 1], sep='\\t', end='\\n')"
   ]
  },
  {
   "cell_type": "code",
   "execution_count": null,
   "metadata": {},
   "outputs": [],
   "source": []
  },
  {
   "cell_type": "code",
   "execution_count": null,
   "metadata": {},
   "outputs": [],
   "source": []
  }
 ],
 "metadata": {
  "language_info": {
   "codemirror_mode": {
    "name": "ipython",
    "version": 3
   },
   "file_extension": ".py",
   "mimetype": "text/x-python",
   "name": "python",
   "nbconvert_exporter": "python",
   "pygments_lexer": "ipython3",
   "version": "3.8.0-final"
  },
  "orig_nbformat": 2,
  "kernelspec": {
   "name": "python38064bitharmonizomevenve1fd62c035f347dbaffce382c9034785",
   "display_name": "Python 3.8.0 64-bit ('harmonizome': venv)"
  }
 },
 "nbformat": 4,
 "nbformat_minor": 2
}