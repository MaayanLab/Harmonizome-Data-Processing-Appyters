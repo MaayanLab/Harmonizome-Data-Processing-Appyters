{
 "cells": [
  {
   "cell_type": "code",
   "execution_count": 26,
   "metadata": {
    "tags": []
   },
   "outputs": [
    {
     "output_type": "stream",
     "name": "stdout",
     "text": "['Acute Myeloid Leukemia', 'Adrenocortical Carcinoma', 'Bladder Urothelial Carcinoma', 'Brain Lower Grade Glioma', 'Breast Invasive Carcinoma', 'Cervical Squamous Cell Carcinoma and Endocervical Adenocarcinoma', 'Cholangiocarcinoma', 'Colon Adenocarcinoma', 'Esophageal Carcinoma', 'Glioblastoma Multiforme', 'Head and Neck Squamous Cell Carcinoma', 'Kidney Chromophobe', 'Kidney Renal Clear Cell Carcinoma', 'Kidney Renal Papillary Cell Carcinoma', 'Liver Hepatocellular Carcinoma', 'Lung Adenocarcinoma', 'Lung Squamous Cell Carcinoma', 'Lymphoid Neoplasm Diffuse Large B-cell Lymphoma', 'Mesothelioma', 'Ovarian Serous Cystadenocarcinoma', 'Pancreatic Adenocarcinoma', 'Pheochromocytoma and Paraganglioma', 'Prostate Adenocarcinoma', 'Rectum Adenocarcinoma', 'Sarcoma', 'Skin Cutaneous Melanoma', 'Stomach Adenocarcinoma', 'Testicular Germ Cell Tumors', 'Thymoma', 'Thyroid Carcinoma', 'Uterine Carcinosarcoma', 'Uterine Corpus Endometrial Carcinoma', 'Uveal Melanoma']\n"
    }
   ],
   "source": [
    "choices=[\n",
    "    'Breast Invasive Carcinoma',\n",
    "    'Glioblastoma Multiforme',\n",
    "    'Ovarian Serous Cystadenocarcinoma',\n",
    "    'Lung Adenocarcinoma',\n",
    "    'Uterine Corpus Endometrial Carcinoma',\n",
    "    'Kidney Renal Clear Cell Carcinoma',\n",
    "    'Head and Neck Squamous Cell Carcinoma',\n",
    "    'Brain Lower Grade Glioma',\n",
    "    'Thyroid Carcinoma',\n",
    "    'Lung Squamous Cell Carcinoma',\n",
    "    'Prostate Adenocarcinoma',\n",
    "    'Skin Cutaneous Melanoma',\n",
    "    'Colon Adenocarcinoma',\n",
    "    'Stomach Adenocarcinoma',\n",
    "    'Bladder Urothelial Carcinoma',\n",
    "    'Liver Hepatocellular Carcinoma',\n",
    "    'Cervical Squamous Cell Carcinoma and Endocervical Adenocarcinoma',\n",
    "    'Kidney Renal Papillary Cell Carcinoma',\n",
    "    'Sarcoma',\n",
    "    'Acute Myeloid Leukemia',\n",
    "    'Esophageal Carcinoma',\n",
    "    'Pancreatic Adenocarcinoma',\n",
    "    'Pheochromocytoma and Paraganglioma',\n",
    "    'Rectum Adenocarcinoma',\n",
    "    'Testicular Germ Cell Tumors',\n",
    "    'Thymoma',\n",
    "    'Kidney Chromophobe',\n",
    "    'Adrenocortical Carcinoma',\n",
    "    'Mesothelioma',\n",
    "    'Uveal Melanoma',\n",
    "    'Lymphoid Neoplasm Diffuse Large B-cell Lymphoma',\n",
    "    'Uterine Carcinosarcoma',\n",
    "    'Cholangiocarcinoma',\n",
    "]\n",
    "choices.sort()\n",
    "print(choices)"
   ]
  },
  {
   "cell_type": "code",
   "execution_count": 1,
   "metadata": {},
   "outputs": [],
   "source": [
    "# appyter init\n",
    "from appyter import magic\n",
    "magic.init(lambda _=globals: _())"
   ]
  },
  {
   "cell_type": "code",
   "execution_count": 2,
   "metadata": {},
   "outputs": [],
   "source": [
    "import requests\n",
    "import json\n",
    "import re\n",
    "import pandas as pd\n",
    "import gzip\n",
    "import numpy as np\n",
    "from tqdm import tqdm\n",
    "import io"
   ]
  },
  {
   "cell_type": "code",
   "execution_count": 3,
   "metadata": {},
   "outputs": [],
   "source": [
    "# Endpoints\n",
    "base_url = 'https://api.gdc.cancer.gov/'\n",
    "files_endpt = base_url + 'files/'\n",
    "genes_endpt = base_url + 'genes/'\n",
    "cases_endpt = base_url + 'cases/'\n",
    "data_endpt = base_url + \"data/\"\n",
    "\n",
    "# data type of files we want\n",
    "data_type = \"htseq.counts\"\n",
    "\n",
    "cancer_type = 'Mixed germ cell tumor'"
   ]
  },
  {
   "cell_type": "code",
   "execution_count": 4,
   "metadata": {},
   "outputs": [],
   "source": [
    "filters = {\n",
    "    \"op\": \"and\",\n",
    "    \"content\": [{\n",
    "        \"op\": \"in\",\n",
    "        \"content\":\n",
    "            {\n",
    "                \"field\": \"project.program.name\",\n",
    "                \"value\": [\"TCGA\"],\n",
    "            },\n",
    "        },\n",
    "    ],\n",
    "}"
   ]
  },
  {
   "cell_type": "code",
   "execution_count": 5,
   "metadata": {
    "tags": []
   },
   "outputs": [],
   "source": [
    "params = {\n",
    "    'filters': json.dumps(filters),\n",
    "    \"size\": 0,\n",
    "    \"facets\":\"project.name\"\n",
    "}\n",
    "response = requests.get('https://api.gdc.cancer.gov/cases', params=params)\n",
    "data = response.json()"
   ]
  },
  {
   "cell_type": "code",
   "execution_count": 6,
   "metadata": {},
   "outputs": [],
   "source": [
    "with open('programs.txt', 'w') as f: \n",
    "    for k in data['data']['aggregations']['project.name']['buckets']:\n",
    "        print(k['key'], file=f)"
   ]
  },
  {
   "cell_type": "markdown",
   "metadata": {},
   "source": [
    "## File Name and IDs"
   ]
  },
  {
   "cell_type": "code",
   "execution_count": 7,
   "metadata": {},
   "outputs": [],
   "source": [
    "fields = [\n",
    "    'cases.case_id'\n",
    "]\n",
    "\n",
    "filters = {\n",
    "    'op': 'and',\n",
    "    'content': [{\n",
    "        'op': 'in',\n",
    "        'content': {\n",
    "            'field': 'experimental_strategy',\n",
    "            'value': ['RNA-Seq'],\n",
    "        }\n",
    "    }, \n",
    "    {\n",
    "        'op': 'in',\n",
    "        'content': {\n",
    "            'field': 'access',\n",
    "            'value': ['open'],\n",
    "        }\n",
    "    },\n",
    "    {\n",
    "        'op': 'in',\n",
    "        'content': {\n",
    "            'field': 'file_name',\n",
    "            'value': ['*htseq.counts.gz'],\n",
    "        }\n",
    "    },\n",
    "    {\n",
    "        'op': 'in',\n",
    "        'content': {\n",
    "            'field': 'cases.project.name',\n",
    "            'value': ['Cholangiocarcinoma'],\n",
    "        }\n",
    "    }\n",
    "    ],\n",
    "}"
   ]
  },
  {
   "cell_type": "code",
   "execution_count": 8,
   "metadata": {},
   "outputs": [],
   "source": [
    "params = {\n",
    "    'fields': ','.join(fields),\n",
    "    'filters': json.dumps(filters),\n",
    "    'size': 100000,\n",
    "    'facets': 'cases.case_id'\n",
    "}\n",
    "response = requests.get('https://api.gdc.cancer.gov/files', params=params)\n",
    "data = response.json()['data']['hits']"
   ]
  },
  {
   "cell_type": "code",
   "execution_count": 9,
   "metadata": {
    "tags": []
   },
   "outputs": [
    {
     "output_type": "stream",
     "name": "stdout",
     "text": "(3, 1)\n"
    },
    {
     "output_type": "execute_result",
     "data": {
      "text/plain": "                                                                   case_id\nfile_id                                                                   \n7845948f-701e-49c5-8b76-2f0e2f0d5a76  b10c64c2-7fd2-4210-b975-034affb14b57\nafecdda2-735c-4304-a087-ef917ad9cd5a  20bf79af-3b0f-477d-b619-5597d42f5d5e\nfd0ea67b-5b75-471f-be3c-a92142b91cf3  adc9a685-5b4a-4c29-881a-da1895c47520",
      "text/html": "<div>\n<style scoped>\n    .dataframe tbody tr th:only-of-type {\n        vertical-align: middle;\n    }\n\n    .dataframe tbody tr th {\n        vertical-align: top;\n    }\n\n    .dataframe thead th {\n        text-align: right;\n    }\n</style>\n<table border=\"1\" class=\"dataframe\">\n  <thead>\n    <tr style=\"text-align: right;\">\n      <th></th>\n      <th>case_id</th>\n    </tr>\n    <tr>\n      <th>file_id</th>\n      <th></th>\n    </tr>\n  </thead>\n  <tbody>\n    <tr>\n      <th>7845948f-701e-49c5-8b76-2f0e2f0d5a76</th>\n      <td>b10c64c2-7fd2-4210-b975-034affb14b57</td>\n    </tr>\n    <tr>\n      <th>afecdda2-735c-4304-a087-ef917ad9cd5a</th>\n      <td>20bf79af-3b0f-477d-b619-5597d42f5d5e</td>\n    </tr>\n    <tr>\n      <th>fd0ea67b-5b75-471f-be3c-a92142b91cf3</th>\n      <td>adc9a685-5b4a-4c29-881a-da1895c47520</td>\n    </tr>\n  </tbody>\n</table>\n</div>"
     },
     "metadata": {},
     "execution_count": 9
    }
   ],
   "source": [
    "files = pd.DataFrame([(f['id'], f['cases'][0]['case_id']) for f in data], columns=['file_id', 'case_id']).set_index('file_id')\n",
    "print(files.shape)\n",
    "files.head()"
   ]
  },
  {
   "cell_type": "code",
   "execution_count": 10,
   "metadata": {
    "tags": []
   },
   "outputs": [
    {
     "output_type": "display_data",
     "data": {
      "text/plain": "HBox(children=(FloatProgress(value=0.0, max=3.0), HTML(value='')))",
      "application/vnd.jupyter.widget-view+json": {
       "version_major": 2,
       "version_minor": 0,
       "model_id": "bf0a2a646e4f4292b020a3cf471dd86c"
      }
     },
     "metadata": {}
    },
    {
     "output_type": "stream",
     "name": "stdout",
     "text": "\n"
    },
    {
     "output_type": "execute_result",
     "data": {
      "text/plain": "9.11                                  1121   \nENSG00000000457.12                                   403   \nENSG00000000460.15                                   127   \n\n                    20bf79af-3b0f-477d-b619-5597d42f5d5e  \\\nENSMBL ID                                                  \nENSG00000000003.13                                  4802   \nENSG00000000005.5                                      1   \nENSG00000000419.11                                  1198   \nENSG00000000457.12                                  1099   \nENSG00000000460.15                                   290   \n\n                    adc9a685-5b4a-4c29-881a-da1895c47520  \nENSMBL ID                                                 \nENSG00000000003.13                                  8150  \nENSG00000000005.5                                      0  \nENSG00000000419.11                                  1770  \nENSG00000000457.12                                  1202  \nENSG00000000460.15                                   378  ",
      "text/html": "<div>\n<style scoped>\n    .dataframe tbody tr th:only-of-type {\n        vertical-align: middle;\n    }\n\n    .dataframe tbody tr th {\n        vertical-align: top;\n    }\n\n    .dataframe thead th {\n        text-align: right;\n    }\n</style>\n<table border=\"1\" class=\"dataframe\">\n  <thead>\n    <tr style=\"text-align: right;\">\n      <th></th>\n      <th>b10c64c2-7fd2-4210-b975-034affb14b57</th>\n      <th>20bf79af-3b0f-477d-b619-5597d42f5d5e</th>\n      <th>adc9a685-5b4a-4c29-881a-da1895c47520</th>\n    </tr>\n    <tr>\n      <th>ENSMBL ID</th>\n      <th></th>\n      <th></th>\n      <th></th>\n    </tr>\n  </thead>\n  <tbody>\n    <tr>\n      <th>ENSG00000000003.13</th>\n      <td>7542</td>\n      <td>4802</td>\n      <td>8150</td>\n    </tr>\n    <tr>\n      <th>ENSG00000000005.5</th>\n      <td>0</td>\n      <td>1</td>\n      <td>0</td>\n    </tr>\n    <tr>\n      <th>ENSG00000000419.11</th>\n      <td>1121</td>\n      <td>1198</td>\n      <td>1770</td>\n    </tr>\n    <tr>\n      <th>ENSG00000000457.12</th>\n      <td>403</td>\n      <td>1099</td>\n      <td>1202</td>\n    </tr>\n    <tr>\n      <th>ENSG00000000460.15</th>\n      <td>127</td>\n      <td>290</td>\n      <td>378</td>\n    </tr>\n  </tbody>\n</table>\n</div>"
     },
     "metadata": {},
     "execution_count": 10
    }
   ],
   "source": [
    "matrix = pd.DataFrame()\n",
    "\n",
    "for file_id in tqdm(files.index, unit='samples'):\n",
    "    response = requests.get(data_endpt + file_id, headers = {\"Content-Type\": \"application/json\"})\n",
    "    string_data = io.StringIO(str(gzip.decompress(response.content), 'utf-8'))\n",
    "    matrix = pd.concat([matrix, pd.read_csv(string_data, sep='\\t', header=None, names=['ENSMBL ID', files.loc[file_id, 'case_id']], index_col=0)], axis=1)\n",
    "matrix.head()"
   ]
  },
  {
   "cell_type": "code",
   "execution_count": 21,
   "metadata": {},
   "outputs": [
    {
     "output_type": "execute_result",
     "data": {
      "text/plain": "                                0   \nENSG00000000419                                  1121   \nENSG00000000457                                   403   \nENSG00000000460                                   127   \n\n                 20bf79af-3b0f-477d-b619-5597d42f5d5e  \\\nENSMBL ID                                               \nENSG00000000003                                  4802   \nENSG00000000005                                     1   \nENSG00000000419                                  1198   \nENSG00000000457                                  1099   \nENSG00000000460                                   290   \n\n                 adc9a685-5b4a-4c29-881a-da1895c47520  \nENSMBL ID                                              \nENSG00000000003                                  8150  \nENSG00000000005                                     0  \nENSG00000000419                                  1770  \nENSG00000000457                                  1202  \nENSG00000000460                                   378  ",
      "text/html": "<div>\n<style scoped>\n    .dataframe tbody tr th:only-of-type {\n        vertical-align: middle;\n    }\n\n    .dataframe tbody tr th {\n        vertical-align: top;\n    }\n\n    .dataframe thead th {\n        text-align: right;\n    }\n</style>\n<table border=\"1\" class=\"dataframe\">\n  <thead>\n    <tr style=\"text-align: right;\">\n      <th></th>\n      <th>b10c64c2-7fd2-4210-b975-034affb14b57</th>\n      <th>20bf79af-3b0f-477d-b619-5597d42f5d5e</th>\n      <th>adc9a685-5b4a-4c29-881a-da1895c47520</th>\n    </tr>\n    <tr>\n      <th>ENSMBL ID</th>\n      <th></th>\n      <th></th>\n      <th></th>\n    </tr>\n  </thead>\n  <tbody>\n    <tr>\n      <th>ENSG00000000003</th>\n      <td>7542</td>\n      <td>4802</td>\n      <td>8150</td>\n    </tr>\n    <tr>\n      <th>ENSG00000000005</th>\n      <td>0</td>\n      <td>1</td>\n      <td>0</td>\n    </tr>\n    <tr>\n      <th>ENSG00000000419</th>\n      <td>1121</td>\n      <td>1198</td>\n      <td>1770</td>\n    </tr>\n    <tr>\n      <th>ENSG00000000457</th>\n      <td>403</td>\n      <td>1099</td>\n      <td>1202</td>\n    </tr>\n    <tr>\n      <th>ENSG00000000460</th>\n      <td>127</td>\n      <td>290</td>\n      <td>378</td>\n    </tr>\n  </tbody>\n</table>\n</div>"
     },
     "metadata": {},
     "execution_count": 21
    }
   ],
   "source": [
    "matrix.index = matrix.index.map(lambda x: x.split('.')[0])\n",
    "matrix.head()"
   ]
  },
  {
   "cell_type": "code",
   "execution_count": 11,
   "metadata": {},
   "outputs": [],
   "source": [
    "cases_fields = requests.get(cases_endpt + '_mapping').json()['fields']\n",
    "keyfields = [field for field in cases_fields if \n",
    "    any(word in field for word in ['demographic', 'diagnoses']) and 'treatment' not in field]"
   ]
  },
  {
   "cell_type": "code",
   "execution_count": 12,
   "metadata": {
    "tags": []
   },
   "outputs": [
    {
     "output_type": "display_data",
     "data": {
      "text/plain": "HBox(children=(FloatProgress(value=0.0, max=3.0), HTML(value='')))",
      "application/vnd.jupyter.widget-view+json": {
       "version_major": 2,
       "version_minor": 0,
       "model_id": "b6ca2a345cfe41e0a9ed74cf1351fdfa"
      }
     },
     "metadata": {}
    },
    {
     "output_type": "stream",
     "name": "stdout",
     "text": "\n"
    },
    {
     "output_type": "execute_result",
     "data": {
      "text/plain": "_last_follow_up  \\\ncase_id                                                       \nb10c64c2-7fd2-4210-b975-034affb14b57                    420   \n20bf79af-3b0f-477d-b619-5597d42f5d5e                   1542   \nadc9a685-5b4a-4c29-881a-da1895c47520                    168   \n\n                                     ajcc_staging_system_edition  \\\ncase_id                                                            \nb10c64c2-7fd2-4210-b975-034affb14b57                         7th   \n20bf79af-3b0f-477d-b619-5597d42f5d5e                         6th   \nadc9a685-5b4a-4c29-881a-da1895c47520                         7th   \n\n                                       primary_diagnosis days_to_death  \ncase_id                                                                 \nb10c64c2-7fd2-4210-b975-034affb14b57  Cholangiocarcinoma           NaN  \n20bf79af-3b0f-477d-b619-5597d42f5d5e  Cholangiocarcinoma           NaN  \nadc9a685-5b4a-4c29-881a-da1895c47520  Cholangiocarcinoma         555.0  \n\n[3 rows x 38 columns]",
      "text/html": "<div>\n<style scoped>\n    .dataframe tbody tr th:only-of-type {\n        vertical-align: middle;\n    }\n\n    .dataframe tbody tr th {\n        vertical-align: top;\n    }\n\n    .dataframe thead th {\n        text-align: right;\n    }\n</style>\n<table border=\"1\" class=\"dataframe\">\n  <thead>\n    <tr style=\"text-align: right;\">\n      <th></th>\n      <th>gender</th>\n      <th>demographic_id</th>\n      <th>vital_status</th>\n      <th>updated_datetime</th>\n      <th>race</th>\n      <th>ethnicity</th>\n      <th>submitter_id</th>\n      <th>year_of_death</th>\n      <th>year_of_birth</th>\n      <th>created_datetime</th>\n      <th>...</th>\n      <th>ajcc_pathologic_stage</th>\n      <th>morphology</th>\n      <th>ajcc_pathologic_t</th>\n      <th>prior_malignancy</th>\n      <th>days_to_diagnosis</th>\n      <th>year_of_diagnosis</th>\n      <th>days_to_last_follow_up</th>\n      <th>ajcc_staging_system_edition</th>\n      <th>primary_diagnosis</th>\n      <th>days_to_death</th>\n    </tr>\n    <tr>\n      <th>case_id</th>\n      <th></th>\n      <th></th>\n      <th></th>\n      <th></th>\n      <th></th>\n      <th></th>\n      <th></th>\n      <th></th>\n      <th></th>\n      <th></th>\n      <th></th>\n      <th></th>\n      <th></th>\n      <th></th>\n      <th></th>\n      <th></th>\n      <th></th>\n      <th></th>\n      <th></th>\n      <th></th>\n      <th></th>\n    </tr>\n  </thead>\n  <tbody>\n    <tr>\n      <th>b10c64c2-7fd2-4210-b975-034affb14b57</th>\n      <td>male</td>\n      <td>f0bb0161-a0c0-5d1b-b18b-930781523195</td>\n      <td>Alive</td>\n      <td>2019-08-08T16:33:18.272224-05:00</td>\n      <td>white</td>\n      <td>not hispanic or latino</td>\n      <td>TCGA-4G-AAZT_diagnosis</td>\n      <td>None</td>\n      <td>1951</td>\n      <td>None</td>\n      <td>...</td>\n      <td>Stage I</td>\n      <td>8160/3</td>\n      <td>T1</td>\n      <td>no</td>\n      <td>0</td>\n      <td>2013</td>\n      <td>420</td>\n      <td>7th</td>\n      <td>Cholangiocarcinoma</td>\n      <td>NaN</td>\n    </tr>\n    <tr>\n      <th>20bf79af-3b0f-477d-b619-5597d42f5d5e</th>\n      <td>female</td>\n      <td>f1b3e939-c2b1-5652-bc5b-db298895f2be</td>\n      <td>Alive</td>\n      <td>2019-08-08T16:33:18.272224-05:00</td>\n      <td>white</td>\n      <td>not hispanic or latino</td>\n      <td>TCGA-W5-AA2R_diagnosis</td>\n      <td>None</td>\n      <td>1929</td>\n      <td>None</td>\n      <td>...</td>\n      <td>Stage I</td>\n      <td>8160/3</td>\n      <td>T1</td>\n      <td>no</td>\n      <td>0</td>\n      <td>2006</td>\n      <td>1542</td>\n      <td>6th</td>\n      <td>Cholangiocarcinoma</td>\n      <td>NaN</td>\n    </tr>\n    <tr>\n      <th>adc9a685-5b4a-4c29-881a-da1895c47520</th>\n      <td>female</td>\n      <td>42a98d55-df9c-511a-9467-5da4039dda49</td>\n      <td>Dead</td>\n      <td>2019-08-08T16:33:18.272224-05:00</td>\n      <td>white</td>\n      <td>not hispanic or latino</td>\n      <td>TCGA-W5-AA34_diagnosis</td>\n      <td>None</td>\n      <td>1937</td>\n      <td>None</td>\n      <td>...</td>\n      <td>Stage I</td>\n      <td>8160/3</td>\n      <td>T1</td>\n      <td>no</td>\n      <td>0</td>\n      <td>2012</td>\n      <td>168</td>\n      <td>7th</td>\n      <td>Cholangiocarcinoma</td>\n      <td>555.0</td>\n    </tr>\n  </tbody>\n</table>\n<p>3 rows × 38 columns</p>\n</div>"
     },
     "metadata": {},
     "execution_count": 12
    }
   ],
   "source": [
    "sample_meta = pd.DataFrame()\n",
    "for case_id in tqdm(files['case_id'].drop_duplicates(), unit='cases'):\n",
    "    response = requests.get(cases_endpt + case_id, params={'fields': ','.join(keyfields)})\n",
    "    data = response.json()['data']\n",
    "    sample = pd.DataFrame([{'case_id': case_id, **data['demographic'], **data['diagnoses'][0]}])\n",
    "    sample_meta = pd.concat([sample_meta, sample])\n",
    "sample_meta = sample_meta.set_index('case_id')\n",
    "sample_meta.head()"
   ]
  },
  {
   "cell_type": "code",
   "execution_count": 15,
   "metadata": {},
   "outputs": [],
   "source": [
    "import harmonizome.utility_functions as uf\n",
    "import harmonizome.lookup as lookup"
   ]
  },
  {
   "cell_type": "code",
   "execution_count": 17,
   "metadata": {
    "tags": []
   },
   "outputs": [
    {
     "output_type": "stream",
     "name": "stderr",
     "text": "Gathering sources: 100%|██████████| 3/3 [00:09<00:00,  3.17s/it]\n"
    }
   ],
   "source": [
    "sym_lookup, _ = lookup.get_lookups(mapfrom='ensembl')"
   ]
  },
  {
   "cell_type": "code",
   "execution_count": 22,
   "metadata": {
    "tags": []
   },
   "outputs": [
    {
     "output_type": "stream",
     "name": "stderr",
     "text": "100%|██████████| 60488/60488 [00:00<00:00, 492238.35it/s]\n"
    },
    {
     "output_type": "execute_result",
     "data": {
      "text/plain": "RD38B                                          0   \nPAUPAR                                            0   \nGIMAP1-GIMAP5                                     0   \nSNORA50A                                          0   \nLINC01144                                        82   \n\n               adc9a685-5b4a-4c29-881a-da1895c47520  \nENSMBL ID                                            \nTSPAN6                                         8150  \nTNMD                                              0  \nDPM1                                           1770  \nSCYL3                                          1202  \nC1orf112                                        378  \n...                                             ...  \nSNORD38B                                          0  \nPAUPAR                                            0  \nGIMAP1-GIMAP5                                     0  \nSNORA50A                                          0  \nLINC01144                                        70  \n\n[34008 rows x 3 columns]",
      "text/html": "<div>\n<style scoped>\n    .dataframe tbody tr th:only-of-type {\n        vertical-align: middle;\n    }\n\n    .dataframe tbody tr th {\n        vertical-align: top;\n    }\n\n    .dataframe thead th {\n        text-align: right;\n    }\n</style>\n<table border=\"1\" class=\"dataframe\">\n  <thead>\n    <tr style=\"text-align: right;\">\n      <th></th>\n      <th>b10c64c2-7fd2-4210-b975-034affb14b57</th>\n      <th>20bf79af-3b0f-477d-b619-5597d42f5d5e</th>\n      <th>adc9a685-5b4a-4c29-881a-da1895c47520</th>\n    </tr>\n    <tr>\n      <th>ENSMBL ID</th>\n      <th></th>\n      <th></th>\n      <th></th>\n    </tr>\n  </thead>\n  <tbody>\n    <tr>\n      <th>TSPAN6</th>\n      <td>7542</td>\n      <td>4802</td>\n      <td>8150</td>\n    </tr>\n    <tr>\n      <th>TNMD</th>\n      <td>0</td>\n      <td>1</td>\n      <td>0</td>\n    </tr>\n    <tr>\n      <th>DPM1</th>\n      <td>1121</td>\n      <td>1198</td>\n      <td>1770</td>\n    </tr>\n    <tr>\n      <th>SCYL3</th>\n      <td>403</td>\n      <td>1099</td>\n      <td>1202</td>\n    </tr>\n    <tr>\n      <th>C1orf112</th>\n      <td>127</td>\n      <td>290</td>\n      <td>378</td>\n    </tr>\n    <tr>\n      <th>...</th>\n      <td>...</td>\n      <td>...</td>\n      <td>...</td>\n    </tr>\n    <tr>\n      <th>SNORD38B</th>\n      <td>0</td>\n      <td>0</td>\n      <td>0</td>\n    </tr>\n    <tr>\n      <th>PAUPAR</th>\n      <td>0</td>\n      <td>0</td>\n      <td>0</td>\n    </tr>\n    <tr>\n      <th>GIMAP1-GIMAP5</th>\n      <td>0</td>\n      <td>0</td>\n      <td>0</td>\n    </tr>\n    <tr>\n      <th>SNORA50A</th>\n      <td>0</td>\n      <td>0</td>\n      <td>0</td>\n    </tr>\n    <tr>\n      <th>LINC01144</th>\n      <td>64</td>\n      <td>82</td>\n      <td>70</td>\n    </tr>\n  </tbody>\n</table>\n<p>34008 rows × 3 columns</p>\n</div>"
     },
     "metadata": {},
     "execution_count": 22
    }
   ],
   "source": [
    "uf.map_symbols(matrix, sym_lookup)"
   ]
  },
  {
   "cell_type": "code",
   "execution_count": null,
   "metadata": {},
   "outputs": [],
   "source": []
  }
 ],
 "metadata": {
  "language_info": {
   "codemirror_mode": {
    "name": "ipython",
    "version": 3
   },
   "file_extension": ".py",
   "mimetype": "text/x-python",
   "name": "python",
   "nbconvert_exporter": "python",
   "pygments_lexer": "ipython3",
   "version": 3
  },
  "orig_nbformat": 2,
  "kernelspec": {
   "name": "python_defaultSpec_1593635798523",
   "display_name": "Python 3.8.0 64-bit ('harmonizome': venv)"
  }
 },
 "nbformat": 4,
 "nbformat_minor": 2
}